{
 "cells": [
  {
   "cell_type": "markdown",
   "id": "dbb5d664-be27-4087-b135-28c1c58b6883",
   "metadata": {
    "jp-MarkdownHeadingCollapsed": true,
    "tags": []
   },
   "source": [
    "# FUNZIONI DASK_CUDF CHE NON VANNO (PER FARE CONFRONTO)"
   ]
  },
  {
   "cell_type": "markdown",
   "id": "2362c796-ec3d-42ed-be99-91c4d8a43c4a",
   "metadata": {
    "tags": []
   },
   "source": [
    "## Questa è la sezione da portare per far vedere i limiti di dask_cudf"
   ]
  },
  {
   "cell_type": "markdown",
   "id": "4f4fa7d6-3173-4d32-a5c3-b6c4d848391b",
   "metadata": {
    "jp-MarkdownHeadingCollapsed": true,
    "tags": []
   },
   "source": [
    "### Conversione colonna da stringa a datetime"
   ]
  },
  {
   "cell_type": "markdown",
   "id": "ed955ae5-dfed-44ed-80fb-5783e93cbb1a",
   "metadata": {},
   "source": [
    "Errore che restituisce:\n",
    "\"TypeError: Implicit conversion to a host NumPy array via __array__ is not allowed, To explicitly construct a GPU matrix, consider using .to_cupy()\n",
    "To explicitly construct a host matrix, consider using .to_numpy().\""
   ]
  },
  {
   "cell_type": "code",
   "execution_count": null,
   "id": "48c9143a-7b43-4333-bf5a-b335311f840a",
   "metadata": {},
   "outputs": [],
   "source": [
    "#CONVERSIONE COLONNE SU DASK_CUDF \n",
    "mesi = {\n",
    "    'gennaio': '01',\n",
    "    'febbraio': '02',\n",
    "    'marzo' : '03',\n",
    "    'aprile': '04',\n",
    "    'maggio': '05',\n",
    "    'giugno': '06',\n",
    "    'luglio': '07',\n",
    "    'agosto': '08',\n",
    "    'settembre': '09',\n",
    "    'ottobre': '10',\n",
    "    'novembre': '11',\n",
    "    'dicembre': '12',\n",
    "}\n",
    "cols = {\n",
    "    0:'day',\n",
    "    1:'month',\n",
    "    2:'year'\n",
    "}\n",
    "a = base.split('gas_start_date', 2)\n",
    "a = a.rename(columns=cols)\n",
    "a['month'] = a['month'].str.lower().map(mesi)\n",
    "dd.to_datetime(a).head()"
   ]
  },
  {
   "cell_type": "markdown",
   "id": "991905c6-c6c2-4149-9a89-24b036c282fe",
   "metadata": {
    "tags": []
   },
   "source": [
    "### Conversione colonna da stringa in formato \"1,22 unita_misura\" a float"
   ]
  },
  {
   "cell_type": "code",
   "execution_count": null,
   "id": "ea098b30-378d-438e-967c-ed9ce6c76cdf",
   "metadata": {},
   "outputs": [],
   "source": [
    "#Ottenere unità di misura\n",
    "misure = base.split('average_gas_bill_cost', 1)[1].value_counts().index.compute()[0]\n",
    "#rimozione unità di misura\n",
    "base.strip(['average_gas_bill_cost'], '€/smc')['average_gas_bill_cost']\n",
    "#sostituzione della , con .\n",
    "base.replace(['average_gas_bill_cost'], ',', '.', regex=True)['average_gas_bill_cost']"
   ]
  },
  {
   "cell_type": "markdown",
   "id": "01e6c1c5-e0bc-4e35-bbfd-108507fba2aa",
   "metadata": {},
   "source": [
    "#### Le operazioni preliminari vanno a buon fine, qua si aprono più scenari (fallimentari)"
   ]
  },
  {
   "cell_type": "markdown",
   "id": "3ce3f032-062e-40c6-9f2f-1f332b983483",
   "metadata": {
    "jp-MarkdownHeadingCollapsed": true,
    "tags": []
   },
   "source": [
    "questa soluzione è quella corretta su dask normale, utilizzando dask_cudf però genera un errore dovuto alla conversione implicita di un array in un numpy array, cosa non fattibile all'interno della GPU quindi consiglia di costruire esplicitamente una matrice tramite Cupy (Cuda Python) ma queste sono operazioni interne alla libreria"
   ]
  },
  {
   "cell_type": "code",
   "execution_count": null,
   "id": "aa469693-7f56-4ef8-b666-fdfd88ea52dd",
   "metadata": {},
   "outputs": [],
   "source": [
    "dd.to_numeric(base.get_df()['average_gas_bill_cost'])\n",
    " "
   ]
  },
  {
   "cell_type": "markdown",
   "id": "cc229661-d947-44e5-a36d-3b343c4aeba3",
   "metadata": {},
   "source": [
    "Qua da 2 diverse tipologie di errori: una dovuta ai metadati e l'altra alla presenza di valori non convertibili, anche togliedo tutti i valori nan con [~base['average_gas_bill_cost'].isna()] la situazione non cambia"
   ]
  },
  {
   "cell_type": "code",
   "execution_count": null,
   "id": "06b38d04-6dfb-4514-a9f9-61c861eb06b1",
   "metadata": {},
   "outputs": [],
   "source": [
    "base.get_df()['average_gas_bill_cost'].map_partitions(cudf.to_numeric, 'raise')"
   ]
  },
  {
   "cell_type": "markdown",
   "id": "c0ed19a8-c3a2-48a6-822c-eb89bbf08faa",
   "metadata": {
    "tags": []
   },
   "source": [
    "# Pipeline"
   ]
  },
  {
   "cell_type": "code",
   "execution_count": null,
   "id": "913e94e4-2957-4530-b39f-42e148900131",
   "metadata": {},
   "outputs": [],
   "source": [
    "''' \n",
    "+++++ UTILITY ATTRIBUTES +++++\n",
    "    \n",
    "    user_code --> String --> (Anonymized) code for the customer that owns this utility\n",
    "    customer_code --> String --> Combined with user_code provides a unique identifier for the utility. Even this field is anonymized\n",
    "    city --> String --> City where the utility is located\n",
    "    address --> String --> (Anonymized) address of the utility location\n",
    "'''"
   ]
  },
  {
   "cell_type": "code",
   "execution_count": null,
   "id": "85cf4241-0bc3-403d-8448-ac39e63c2d54",
   "metadata": {},
   "outputs": [],
   "source": [
    "''' \n",
    "+++++ CUSTOMER ATTRIBUTES +++++\n",
    "    \n",
    "    user_code --> String --> (Anonymized) code that identifies the customer\n",
    "    nominative --> String --> (Anonymized) customer name\n",
    "    sex --> String --> Sex of the customer. It could be ‘M’, ‘F’, ‘P’, with ‘P’ denoting that the customer is a commercial activity (VAT number)\n",
    "    age --> Int --> Age of the customer, set to null for commercial activities (sex = ‘P’). Its value must be >= 18\n",
    "'''"
   ]
  },
  {
   "cell_type": "code",
   "execution_count": null,
   "id": "437bd361-c8b2-4cc8-b518-0bb50fddaa89",
   "metadata": {},
   "outputs": [],
   "source": [
    "''' \n",
    "+++++ INVOICE ATTRIBUTES +++++\n",
    "    \n",
    "    bill_id --> Int --> Invoice identifier\n",
    "    F1_kWh --> Float --> kWh of electricity consumed in the F1 time slot\n",
    "    F2_kWh --> Float --> kWh of electricity consumed in the F2 time slot\n",
    "    F3_kWh --> Float --> kWh of electricity consumed in the F3 time slot \n",
    "    date --> Date --> Start date\n",
    "    light_start_date --> Date --> Start date of electricity invoice\n",
    "    light_end_date --> Date --> End date of electricity invoice\n",
    "    tv --> Float --> Television fee to pay\n",
    "    gas_amount --> Float --> Gas fee to pay\n",
    "    gas_average_cost --> Float --> Average cost of gas\n",
    "    light_average_cost --> Float --> Average cost of electricity\n",
    "    emission_date --> Date --> Emission date\n",
    "    supply_type --> String --> Supply type (‘light’, ‘gas’, ‘gas and light’)\n",
    "    gas_start_date --> Date --> Start date of gas invoice\n",
    "    gas_end_date --> Date --> End date of gas invoice\n",
    "    extra_fees --> Float --> Extra fees to pay\n",
    "    gas_consumption --> Float --> Consumed gas\n",
    "    light_consumption --> Float --> Consumed electricity\n",
    "    gas_offer --> Float --> Name of the subscribed gas plan (anonymized)\n",
    "    light_offer_type --> String --> Kind of plan for the electricity (‘single zone’, ‘bizone’, etc.)\n",
    "    light_offer --> String --> Name of the subscribed electricity plan (anonymized)\n",
    "    total_amount --> Float --> gas_amount + light_amount + extra_fees\n",
    "    howmuch_pay --> Float --> Overall amount to pay, computed as total_amount + tv\n",
    "    light_amount --> Float --> Amount to pay for the electricity\n",
    "    average_unit_light_cost --> Float --> Average cost for electricity\n",
    "    average_light_bill_cost --> Float --> Average cost for the electricity invoice\n",
    "    average_unit_gas_cost --> Float --> Average cost for gas\n",
    "    average_gas_bill_cost --> Float --> Average cost for the gas invoice\n",
    "    billing_frequency --> String --> Billing frequency (‘monthly’, ‘quarterly’, etc.)\n",
    "    bill_type --> String --> Kind of invoice (False means a “standard bill”)\n",
    "    gas_system_charges --> Float --> Extra gas fees\n",
    "    light_system_charges --> Float --> Extra electricity fees\n",
    "    gas_material_cost --> Float --> Costs for gas\n",
    "    light_transport_cost --> Float --> Extra electricity fees\n",
    "    gas_transport_cost --> Float --> Extra gas fees\n",
    "    light_material_cost --> Float --> Costs for electricity\n",
    "'''"
   ]
  },
  {
   "cell_type": "code",
   "execution_count": null,
   "id": "421de43f-f87a-4e4e-be7d-eaf78e120993",
   "metadata": {},
   "outputs": [],
   "source": [
    "''' \n",
    "+++++ DATA INGESTION +++++\n",
    "    • Read data from its source\n",
    "    • Study how to deal with data that doesn’t fit in memory (!) --> Da chiede a Gagliardelli\n",
    "    • Locate missing values\n",
    "    • Locate outliers\n",
    "    • Sort data\n",
    "'''"
   ]
  },
  {
   "cell_type": "markdown",
   "id": "4d02f1af-6897-4698-8740-5af95934734b",
   "metadata": {
    "tags": []
   },
   "source": [
    "# Loading Dataset"
   ]
  },
  {
   "cell_type": "code",
   "execution_count": 1,
   "id": "91dc8a36-dbef-4fdd-9403-d17c9715230e",
   "metadata": {
    "tags": []
   },
   "outputs": [],
   "source": [
    "import dask_cudf as dc\n",
    "import dask.dataframe as dd\n",
    "import dask.array as da\n",
    "from dask_cuda import LocalCUDACluster\n",
    "from dask.distributed import Client\n",
    "import cudf\n",
    "import numpy as np\n",
    "#import graphviz\n",
    "from base_dask_cudf import BaseDfBench\n",
    "base = BaseDfBench(\"DASK\")\n",
    "# base = BaseDfBench()"
   ]
  },
  {
   "cell_type": "code",
   "execution_count": 2,
   "id": "c541eab2-0865-407d-9257-34a4bf3d9784",
   "metadata": {},
   "outputs": [],
   "source": [
    "# READ DATA FROM ITS SOURCE\n",
    "# --- remove _sample one day\n",
    "\n",
    "# We can use bill_id as the index for our dataset --> meglio di no\n",
    "# base.load_dataset('/data/invoices_sample.csv', 'csv', index_col='bill_id')\n",
    "\n",
    "# Uncomment the line under this one to load the pre-converted dataset\n",
    "base.load_dataset('parquet', path='data/mod_parquet')\n",
    "# base.load_dataset('parquet')\n",
    "df = base.get_df()\n",
    "columns = base.get_columns()\n",
    "base.npartitions()"
   ]
  },
  {
   "cell_type": "code",
   "execution_count": 3,
   "id": "2a81c12d-a5b8-4d47-9b04-2da4908503c6",
   "metadata": {},
   "outputs": [],
   "source": [
    "# Dataset's rows\n",
    "# I commented the real computation because it takes a lot of time\n",
    "# dataset_rows = base.get_df().shape[0].compute()\n",
    "dataset_rows = 10497143\n",
    "dataset_rows"
   ]
  },
  {
   "cell_type": "code",
   "execution_count": null,
   "id": "5c7059fb-8aad-4a56-a2ef-33d086731d3f",
   "metadata": {},
   "outputs": [],
   "source": [
    "#verica di user_code+customer_code = PK utility\n",
    "#PK customer = user_code\n",
    "#PK invoice = bill_id\n",
    "df.groupby(by=['user_code', 'customer_code'])['bill_id'].count().compute()"
   ]
  },
  {
   "cell_type": "markdown",
   "id": "49886f2a-ae2e-4382-b4db-2dcabc1a1c0e",
   "metadata": {
    "jp-MarkdownHeadingCollapsed": true,
    "tags": []
   },
   "source": [
    "## Load big Dataset (DEPRECATED)"
   ]
  },
  {
   "cell_type": "code",
   "execution_count": null,
   "id": "858a44dd-5698-43c0-9940-eb2c256f7416",
   "metadata": {},
   "outputs": [],
   "source": [
    "# STUDY HOW TO DEAL WITH DATA THAT DON'T FIT IN MEMORY (!)\n",
    "# Bella storia\n",
    "!du -sh '/data/invoices_sample.csv'"
   ]
  },
  {
   "cell_type": "code",
   "execution_count": null,
   "id": "8ab296dd-b721-44d5-be76-e2e6bc7d44ce",
   "metadata": {},
   "outputs": [],
   "source": [
    "from dask.distributed import Client, wait\n",
    "from dask_cuda import LocalCUDACluster\n",
    "from dask.utils import parse_bytes\n",
    "import cudf\n",
    "import dask_cudf"
   ]
  },
  {
   "cell_type": "code",
   "execution_count": null,
   "id": "a29b6a29-38f0-4e78-9211-72b48c425cf5",
   "metadata": {},
   "outputs": [],
   "source": [
    "cluster = LocalCUDACluster(\n",
    "    CUDA_VISIBLE_DEVICES=\"0\",\n",
    "    rmm_pool_size=parse_bytes(\"15GB\"), # This GPU has 16GB of memory\n",
    "    device_memory_limit=parse_bytes(\"10GB\"),\n",
    ")\n",
    "client = Client(cluster)\n",
    "client"
   ]
  },
  {
   "cell_type": "code",
   "execution_count": null,
   "id": "3ce51a64-f588-40da-9387-9ada4da19d37",
   "metadata": {},
   "outputs": [],
   "source": [
    "%%time\n",
    "ddf = dask_cudf.read_csv(\"/data/invoices.csv\", chunksize=\"1 GiB\")\n",
    "print(f\"DF partitions: {ddf.npartitions}\")\n",
    "print(f\"DF: {ddf}\")"
   ]
  },
  {
   "cell_type": "markdown",
   "id": "fa119218-0ad3-4249-b424-10950063e880",
   "metadata": {
    "jp-MarkdownHeadingCollapsed": true,
    "tags": []
   },
   "source": [
    "# UTILS"
   ]
  },
  {
   "cell_type": "code",
   "execution_count": 4,
   "id": "43b1cefa-6ab4-4f90-98e8-f3883030cc2d",
   "metadata": {},
   "outputs": [],
   "source": [
    "# CONVERTING ALL THE STRING COLUMNS TO OBJECT COLUMN\n",
    "# THIS BECAUSE STRING COLUMNS CAUSE A LOT OF ERRORS WHEN PROCESSED AS STRINGS\n",
    "for k,v in base.get_columns_types().items():\n",
    "    if v == 'string':\n",
    "        base[k] = base[k].astype('object')\n",
    "    elif v == 'Float64':\n",
    "        base[k] = base[k].astype('float')"
   ]
  },
  {
   "cell_type": "code",
   "execution_count": 5,
   "id": "950b3e12-4bc2-494a-8a4c-9d888f6312ec",
   "metadata": {},
   "outputs": [],
   "source": [
    "# Seguendo il GroundTruth mystico\n",
    "mappone = {'bill_id': 'int64',\n",
    " 'F1_kWh': 'float64',\n",
    " 'F2_kWh': 'float64',\n",
    " 'F3_kWh': 'float64',\n",
    " 'city': 'object',\n",
    " 'address': 'object',\n",
    " 'nominative': 'object',\n",
    " 'sex': 'object',\n",
    " 'age': 'int64',\n",
    " 'user_code': 'object',\n",
    " 'date': 'datetime64[ns]',\n",
    " 'light_start_date': 'datetime64[ns]',\n",
    " 'light_end_date': 'datetime64[ns]',\n",
    " 'tv': 'float64',\n",
    " 'gas_amount': 'float64',\n",
    " 'gas_average_cost': 'float64',\n",
    " 'light_average_cost': 'float64',\n",
    " 'emission_date': 'datetime64[ns]',\n",
    " 'supply_type': 'object',\n",
    " 'gas_start_date': 'datetime64[ns]',\n",
    " 'gas_end_date': 'datetime64[ns]',\n",
    " 'extra_fees': 'float64',\n",
    " 'gas_consumption': 'float64',\n",
    " 'light_consumption': 'float64',\n",
    " 'gas_offer': 'float64',\n",
    " 'light_offer_type': 'object',\n",
    " 'light_offer': 'object',\n",
    " 'howmuch_pay': 'float64',\n",
    " 'total_amount': 'float64',\n",
    " 'light_amount': 'float64',\n",
    " 'average_unit_light_cost': 'float64',\n",
    " 'average_light_bill_cost': 'float64',\n",
    " 'average_unit_gas_cost': 'float64',\n",
    " 'average_gas_bill_cost': 'float64',\n",
    " 'customer_code': 'object',\n",
    " 'billing_frequency': 'object',\n",
    " 'bill_type': 'object',\n",
    " 'gas_system_charges': 'float64',\n",
    " 'light_system_charges': 'float64',\n",
    " 'gas_material_cost': 'float64',\n",
    " 'light_transport_cost': 'float64',\n",
    " 'gas_transport_cost': 'float64',\n",
    " 'light_material_cost': 'float64'\n",
    "}"
   ]
  },
  {
   "cell_type": "code",
   "execution_count": 6,
   "id": "20f8629c-d1f9-4295-ad56-d164a67eaf29",
   "metadata": {},
   "outputs": [],
   "source": [
    "#Check sui tipi di dato attuali\n",
    "type_dict = base.get_columns_types()\n",
    "for k,v in type_dict.items():\n",
    "    if v != mappone[k]:\n",
    "        print(f'mismatch in {k} with values: {v}, {mappone[k]}')"
   ]
  },
  {
   "cell_type": "code",
   "execution_count": 7,
   "id": "bb340081-e462-46cd-bf4b-49dec57566ab",
   "metadata": {},
   "outputs": [],
   "source": [
    "# Trovare le tipologie di colonne a seconda della tipologia\n",
    "int_cols = base.col_type(find=['int'])\n",
    "string_cols = base.col_type(find=['string']) #object\n",
    "float_cols = base.col_type(find=['float'])\n",
    "numeric_cols = base.col_type(find=['numeric'])\n",
    "date_cols = base.col_type(find=['date'])"
   ]
  },
  {
   "cell_type": "markdown",
   "id": "4b34b3ff-2db1-4b25-b6a9-e5b918461d24",
   "metadata": {
    "jp-MarkdownHeadingCollapsed": true,
    "tags": []
   },
   "source": [
    "# Convert Columns"
   ]
  },
  {
   "cell_type": "markdown",
   "id": "c1167330-b313-44dd-90c5-6290c85584fc",
   "metadata": {
    "jp-MarkdownHeadingCollapsed": true,
    "tags": []
   },
   "source": [
    "## Da portare"
   ]
  },
  {
   "cell_type": "code",
   "execution_count": null,
   "id": "8bac1f7e-349e-4ae2-9618-1abfaa0e6daf",
   "metadata": {},
   "outputs": [],
   "source": [
    "# DONE gas_amount, howmuch_pay, total_amount, light_amount to float\n",
    "# DONE gas_average_col, gas_offer, average_unit_light_cost, average_light_bill_cost, average_unit_gas_cost, average_gas_bill_cost deve essere float non int, basta un astype()\n",
    "# light_offer è segnato come string perché dovrebbe essere un nome ma nel dataset è un int (what)\n",
    "# il caso light_offer risolto: in teoria è str ma in pratica è stato anonimizzato, provo il cast to string"
   ]
  },
  {
   "cell_type": "code",
   "execution_count": null,
   "id": "f1a9b19d-53d9-43bf-9230-2140efd5e169",
   "metadata": {},
   "outputs": [],
   "source": [
    "base['light_offer'] = base['light_offer'].astype(str)"
   ]
  },
  {
   "cell_type": "code",
   "execution_count": null,
   "id": "257893b1-c9b9-4755-97f0-3769e17db46a",
   "metadata": {},
   "outputs": [],
   "source": [
    "len(base.col_type('string'))"
   ]
  },
  {
   "cell_type": "markdown",
   "id": "095876be-4447-469f-9176-797bd832ce86",
   "metadata": {
    "tags": []
   },
   "source": [
    "### Date conversion"
   ]
  },
  {
   "cell_type": "code",
   "execution_count": null,
   "id": "10349199-c1fc-4635-92ad-22cab1c90401",
   "metadata": {},
   "outputs": [],
   "source": [
    "#CONVERSIONE COLONNE SU DASK_CUDF \n",
    "mesi = {\n",
    "    'gennaio': '01',\n",
    "    'febbraio': '02',\n",
    "    'marzo' : '03',\n",
    "    'aprile': '04',\n",
    "    'maggio': '05',\n",
    "    'giugno': '06',\n",
    "    'luglio': '07',\n",
    "    'agosto': '08',\n",
    "    'settembre': '09',\n",
    "    'ottobre': '10',\n",
    "    'novembre': '11',\n",
    "    'dicembre': '12',\n",
    "}\n",
    "cols = {\n",
    "    0:'day',\n",
    "    1:'month',\n",
    "    2:'year'\n",
    "}\n",
    "#finding columns with date keyword\n",
    "date_cols = []\n",
    "for c in df.columns:\n",
    "    # print(base[c].dtype)\n",
    "    if 'date' in c.split('_') and base[c].dtype != 'datetime64[ns]':\n",
    "        date_cols.append(c)\n",
    "\n",
    "print(f'columns to convert to date: {date_cols}')\n",
    "#converting these columns\n",
    "for c in date_cols:\n",
    "\n",
    "    print(c , df[c].dtype)\n",
    "    \n",
    "    a = base.split(c, 2)\n",
    "    a = a.rename(columns=cols)\n",
    "    a['month'] = a['month'].str.lower().map(mesi)\n",
    "    base.get_df()[c] = dd.to_datetime(a, format=\"%d/%m/%Y\")\n",
    "    # print(a.head())\n",
    "    \n",
    "    #df[c] = base.split(c, 2)\n",
    "    \n",
    "    # print(base[c].head())"
   ]
  },
  {
   "cell_type": "code",
   "execution_count": null,
   "id": "7c22d2cf-558a-47f1-a239-fb852ac90615",
   "metadata": {},
   "outputs": [],
   "source": [
    "base.df"
   ]
  },
  {
   "cell_type": "markdown",
   "id": "137144bf-fff5-4ea3-bc79-53e356a5ff9f",
   "metadata": {
    "tags": []
   },
   "source": [
    "### Removing measure unit from strings and converting them into numbers"
   ]
  },
  {
   "cell_type": "code",
   "execution_count": null,
   "id": "10a1ba26-ec20-48a5-8221-81bf3d0a4a5f",
   "metadata": {},
   "outputs": [],
   "source": [
    "# this line can be used to retrieve alle the columns with a number pattern inside them but is too resources consuming\n",
    "# Due to the small number of columns We preferred to analize them one by one\n",
    "\n",
    "# base['howmuch_pay'].str.contains('[0-9]+[.,][0-9]*', regex=True).count().compute()\n",
    "# [0-9]+[.,][0-9]*"
   ]
  },
  {
   "cell_type": "code",
   "execution_count": null,
   "id": "0c54f772-181c-4d37-b186-a94b14a3bef0",
   "metadata": {},
   "outputs": [],
   "source": [
    "#finding string columns with number inside\n",
    "to_numeric_cols = []\n",
    "for c in df.columns:\n",
    "    if ('average'  in c.split('_') or 'amount' in c.split('_')) and (base[c].dtype in ['object', 'str']):\n",
    "        # print(base[c].dtype)\n",
    "        to_numeric_cols.append(c)\n",
    "\n",
    "# Added manually after column analysis \n",
    "to_numeric_cols.append('howmuch_pay')\n",
    "to_numeric_cols.append('tv')\n",
    "to_numeric_cols.append('extra_fees')\n",
    "print(to_numeric_cols)"
   ]
  },
  {
   "cell_type": "code",
   "execution_count": null,
   "id": "ec585b92-7f41-4730-b3ef-787e4d5e65eb",
   "metadata": {},
   "outputs": [],
   "source": [
    "# Exctracting measure unit from the column\n",
    "# Commented bc is time consuming\n",
    "# base.split('average_gas_bill_cost', 1)[1].value_counts().index.compute()[0]"
   ]
  },
  {
   "cell_type": "code",
   "execution_count": null,
   "id": "4b45276c-1266-43a6-a78f-753dc8efea48",
   "metadata": {},
   "outputs": [],
   "source": [
    "# Converting columns from string tu numeric\n",
    "partitions = base.npartitions()\n",
    "for c in to_numeric_cols:\n",
    "    base[c] = base[c].str.extract(r'([0-9]+[,.][0-9]*)', flags=0, expand=False)\n",
    "    # print(f'{c} measure: {measure}')\n",
    "    base.replace([c], ',', '.', regex=True)\n",
    "    base[c] = dd.to_numeric(base[c], errors='coerce', meta=('float'))\n",
    "# base.get_df().head()['average_gas_bill_cost']"
   ]
  },
  {
   "cell_type": "code",
   "execution_count": null,
   "id": "a1dd8005-cb54-4c4a-be3e-59b7e5496cc6",
   "metadata": {},
   "outputs": [],
   "source": [
    "base.df"
   ]
  },
  {
   "cell_type": "code",
   "execution_count": null,
   "id": "77026cbd-c252-444c-a384-9a2809b8311b",
   "metadata": {},
   "outputs": [],
   "source": [
    "# Strip all the columns in order to remove all the whitespaces \n",
    "base.strip(string_cols)"
   ]
  },
  {
   "cell_type": "code",
   "execution_count": null,
   "id": "2eb83c25-50f5-4257-95b0-a99c2a982897",
   "metadata": {},
   "outputs": [],
   "source": [
    "base.df = base.df.persist()"
   ]
  },
  {
   "cell_type": "code",
   "execution_count": null,
   "id": "71035ba3-d919-42c5-8a6e-73a57e6aeb9f",
   "metadata": {},
   "outputs": [],
   "source": [
    "base['howmuch_pay'].head()"
   ]
  },
  {
   "cell_type": "markdown",
   "id": "db0a5312-861c-43c6-b7f0-308ee3115eac",
   "metadata": {
    "tags": []
   },
   "source": [
    "### Save the modified dataset"
   ]
  },
  {
   "cell_type": "code",
   "execution_count": null,
   "id": "0065347e-ebaa-4a34-a882-49955782a4bf",
   "metadata": {},
   "outputs": [],
   "source": [
    "# Save the converted dataset\n",
    "base.to_parquet('data/mod_parquet')"
   ]
  },
  {
   "cell_type": "code",
   "execution_count": null,
   "id": "2374f0da-0fb3-4385-9ab7-b067fe3f0407",
   "metadata": {},
   "outputs": [],
   "source": [
    "base.load_dataset('parquet', path='data/mod_parquet')\n",
    "base.get_columns_types()"
   ]
  },
  {
   "cell_type": "markdown",
   "id": "379b4cc7-70b5-48ef-8036-3dda72b8adf1",
   "metadata": {
    "jp-MarkdownHeadingCollapsed": true,
    "tags": []
   },
   "source": [
    "## Da non portare"
   ]
  },
  {
   "cell_type": "code",
   "execution_count": null,
   "id": "7dc3941b-c6c6-4b4c-810e-7d4181177c57",
   "metadata": {},
   "outputs": [],
   "source": [
    "# Dovrebbe accorgersi di colonne con similarità > soglia\n",
    "# TODO --> FUNZIONE DA RIFARE PERCHé USA I SET E QUINDI NON CONFRONTA RIGA-RIGA \n",
    "#          MA SET(ELEMENTI_COL1) CON SET(eLEMENTI_COL2)\n",
    "def get_duplicate_col(df, soglia=0.9):\n",
    "        \"\"\"\n",
    "        Return a list of duplicate columns, if exists.\n",
    "        Duplicate columns are those which have same values for each row.\n",
    "        \"\"\"  \n",
    "        cols = df.columns.values\n",
    "        #return [(cols[i], cols[j]) for i in range(0, len(cols)) for j in range(i+1, len(cols)) if self.df[cols[i]].equals(self.df[cols[j]])]\n",
    "        \n",
    "        return [(cols[i], cols[j]) for i in range(0, len(cols)) for j in range(i+1, len(cols)) if len(set(cols[i]) & set(cols[j])) / float(len(set(cols[i]) | set(cols[j]))) > soglia ]"
   ]
  },
  {
   "cell_type": "markdown",
   "id": "ec03d74c-5bb8-424f-a59e-2f54b363ff19",
   "metadata": {
    "tags": []
   },
   "source": [
    "# 1. INGESTION & DISCOVERY"
   ]
  },
  {
   "cell_type": "markdown",
   "id": "d19e692a-681a-48ba-9286-90ec709546c7",
   "metadata": {
    "tags": []
   },
   "source": [
    "## Analysis DA PORTARE"
   ]
  },
  {
   "cell_type": "markdown",
   "id": "2a0a1a4c-c4ee-44e7-bb98-2617812fa34e",
   "metadata": {},
   "source": [
    "### Columns gas related"
   ]
  },
  {
   "cell_type": "markdown",
   "id": "175be835-91a2-4f67-937e-83d51633fd08",
   "metadata": {},
   "source": [
    "gas_amount, gas_average_cost, gas_start_date, gas_end_date, gas_consumption, gas_offer, average_unit_gas_cost, average_gas_bill_cost, gas_system_charges, gas_material_cost, gas_transport_cost"
   ]
  },
  {
   "cell_type": "code",
   "execution_count": 46,
   "id": "5a750294-7e13-431f-91c0-75d635a22c9a",
   "metadata": {},
   "outputs": [
    {
     "data": {
      "text/html": [
       "<div>\n",
       "<style scoped>\n",
       "    .dataframe tbody tr th:only-of-type {\n",
       "        vertical-align: middle;\n",
       "    }\n",
       "\n",
       "    .dataframe tbody tr th {\n",
       "        vertical-align: top;\n",
       "    }\n",
       "\n",
       "    .dataframe thead th {\n",
       "        text-align: right;\n",
       "    }\n",
       "</style>\n",
       "<table border=\"1\" class=\"dataframe\">\n",
       "  <thead>\n",
       "    <tr style=\"text-align: right;\">\n",
       "      <th></th>\n",
       "      <th>gas_amount</th>\n",
       "      <th>gas_average_cost</th>\n",
       "      <th>gas_start_date</th>\n",
       "      <th>gas_end_date</th>\n",
       "      <th>gas_consumption</th>\n",
       "      <th>gas_offer</th>\n",
       "      <th>average_unit_gas_cost</th>\n",
       "      <th>average_gas_bill_cost</th>\n",
       "      <th>gas_system_charges</th>\n",
       "      <th>gas_material_cost</th>\n",
       "      <th>gas_transport_cost</th>\n",
       "    </tr>\n",
       "  </thead>\n",
       "  <tbody>\n",
       "    <tr>\n",
       "      <th>461174</th>\n",
       "      <td>NaN</td>\n",
       "      <td>NaN</td>\n",
       "      <td>2021-05-27</td>\n",
       "      <td>2021-04-03</td>\n",
       "      <td>NaN</td>\n",
       "      <td>18446744073709551615</td>\n",
       "      <td>NaN</td>\n",
       "      <td>NaN</td>\n",
       "      <td>NaN</td>\n",
       "      <td>NaN</td>\n",
       "      <td>NaN</td>\n",
       "    </tr>\n",
       "    <tr>\n",
       "      <th>469346</th>\n",
       "      <td>NaN</td>\n",
       "      <td>NaN</td>\n",
       "      <td>2021-05-27</td>\n",
       "      <td>2021-03-27</td>\n",
       "      <td>NaN</td>\n",
       "      <td>18446744073709551615</td>\n",
       "      <td>NaN</td>\n",
       "      <td>NaN</td>\n",
       "      <td>NaN</td>\n",
       "      <td>NaN</td>\n",
       "      <td>NaN</td>\n",
       "    </tr>\n",
       "    <tr>\n",
       "      <th>399408</th>\n",
       "      <td>NaN</td>\n",
       "      <td>NaN</td>\n",
       "      <td>2021-05-27</td>\n",
       "      <td>2021-03-24</td>\n",
       "      <td>NaN</td>\n",
       "      <td>18446744073709551615</td>\n",
       "      <td>NaN</td>\n",
       "      <td>NaN</td>\n",
       "      <td>NaN</td>\n",
       "      <td>NaN</td>\n",
       "      <td>NaN</td>\n",
       "    </tr>\n",
       "    <tr>\n",
       "      <th>275461</th>\n",
       "      <td>0.0</td>\n",
       "      <td>NaN</td>\n",
       "      <td>2021-04-07</td>\n",
       "      <td>2019-10-01</td>\n",
       "      <td>0.0</td>\n",
       "      <td>2533091950655969294</td>\n",
       "      <td>NaN</td>\n",
       "      <td>NaN</td>\n",
       "      <td>0.0</td>\n",
       "      <td>0.0</td>\n",
       "      <td>0.0</td>\n",
       "    </tr>\n",
       "    <tr>\n",
       "      <th>402530</th>\n",
       "      <td>NaN</td>\n",
       "      <td>NaN</td>\n",
       "      <td>2021-05-31</td>\n",
       "      <td>2020-08-01</td>\n",
       "      <td>NaN</td>\n",
       "      <td>18446744073709551615</td>\n",
       "      <td>NaN</td>\n",
       "      <td>NaN</td>\n",
       "      <td>NaN</td>\n",
       "      <td>NaN</td>\n",
       "      <td>NaN</td>\n",
       "    </tr>\n",
       "  </tbody>\n",
       "</table>\n",
       "</div>"
      ],
      "text/plain": [
       "        gas_amount  gas_average_cost gas_start_date gas_end_date  \\\n",
       "461174         NaN               NaN     2021-05-27   2021-04-03   \n",
       "469346         NaN               NaN     2021-05-27   2021-03-27   \n",
       "399408         NaN               NaN     2021-05-27   2021-03-24   \n",
       "275461         0.0               NaN     2021-04-07   2019-10-01   \n",
       "402530         NaN               NaN     2021-05-31   2020-08-01   \n",
       "\n",
       "        gas_consumption             gas_offer  average_unit_gas_cost  \\\n",
       "461174              NaN  18446744073709551615                    NaN   \n",
       "469346              NaN  18446744073709551615                    NaN   \n",
       "399408              NaN  18446744073709551615                    NaN   \n",
       "275461              0.0   2533091950655969294                    NaN   \n",
       "402530              NaN  18446744073709551615                    NaN   \n",
       "\n",
       "        average_gas_bill_cost  gas_system_charges  gas_material_cost  \\\n",
       "461174                    NaN                 NaN                NaN   \n",
       "469346                    NaN                 NaN                NaN   \n",
       "399408                    NaN                 NaN                NaN   \n",
       "275461                    NaN                 0.0                0.0   \n",
       "402530                    NaN                 NaN                NaN   \n",
       "\n",
       "        gas_transport_cost  \n",
       "461174                 NaN  \n",
       "469346                 NaN  \n",
       "399408                 NaN  \n",
       "275461                 0.0  \n",
       "402530                 NaN  "
      ]
     },
     "execution_count": 46,
     "metadata": {},
     "output_type": "execute_result"
    }
   ],
   "source": [
    "base[['gas_amount', 'gas_average_cost', 'gas_start_date', 'gas_end_date', 'gas_consumption', 'gas_offer', 'average_unit_gas_cost', 'average_gas_bill_cost', 'gas_system_charges', 'gas_material_cost', 'gas_transport_cost']].tail()\n",
    "# 'gas_average_cost' and 'average_unit_gas_cost' are equivalent"
   ]
  },
  {
   "cell_type": "markdown",
   "id": "c562082d-009d-4d88-a408-2919459c0256",
   "metadata": {},
   "source": [
    "### Columns light related"
   ]
  },
  {
   "cell_type": "markdown",
   "id": "dc958b0a-3d75-498b-be18-36c0cf0e6e49",
   "metadata": {},
   "source": [
    "F1_kWh, F2_kWh, F3_kWh, light_start_date, light_end_date, light_average_cost, light_consumption, light_offer_type, light_offer, light_amount, average_unit_light_cost, average_light_bill_cost, light_system_charges, light_transport_cost, light_material_cost"
   ]
  },
  {
   "cell_type": "markdown",
   "id": "ab7f8ca2-b3a1-46d0-9a1c-e1fe4aa7facb",
   "metadata": {},
   "source": [
    "Riflessioni: \n",
    "light_consumption * average_light_bill_cost = light_amount, vero ma c'è un piccolissimo scarto che non li fa combaciare.\n",
    "\n",
    "light_consumption * average_unit_light_cost = light_material_cost, soldi spesi dall'azienda per comprare l'energia anche qua c'è un piccolissimo scarto\n",
    "\n",
    "light_amount - light_material_cost = guadagno dell'azienda, a cui bisogna togliere i costi di trasporto, light_system_charges"
   ]
  },
  {
   "cell_type": "code",
   "execution_count": 53,
   "id": "f68a5b7c-6b17-4b97-b32e-257a01cb968a",
   "metadata": {},
   "outputs": [
    {
     "data": {
      "text/html": [
       "<div>\n",
       "<style scoped>\n",
       "    .dataframe tbody tr th:only-of-type {\n",
       "        vertical-align: middle;\n",
       "    }\n",
       "\n",
       "    .dataframe tbody tr th {\n",
       "        vertical-align: top;\n",
       "    }\n",
       "\n",
       "    .dataframe thead th {\n",
       "        text-align: right;\n",
       "    }\n",
       "</style>\n",
       "<table border=\"1\" class=\"dataframe\">\n",
       "  <thead>\n",
       "    <tr style=\"text-align: right;\">\n",
       "      <th></th>\n",
       "      <th>F1_kWh</th>\n",
       "      <th>F2_kWh</th>\n",
       "      <th>F3_kWh</th>\n",
       "      <th>light_start_date</th>\n",
       "      <th>light_end_date</th>\n",
       "      <th>light_average_cost</th>\n",
       "      <th>light_consumption</th>\n",
       "      <th>light_offer_type</th>\n",
       "      <th>light_offer</th>\n",
       "      <th>light_amount</th>\n",
       "      <th>average_unit_light_cost</th>\n",
       "      <th>average_light_bill_cost</th>\n",
       "      <th>light_system_charges</th>\n",
       "      <th>light_transport_cost</th>\n",
       "      <th>light_material_cost</th>\n",
       "    </tr>\n",
       "  </thead>\n",
       "  <tbody>\n",
       "    <tr>\n",
       "      <th>264150</th>\n",
       "      <td>-33.0</td>\n",
       "      <td>105.0</td>\n",
       "      <td>107.0</td>\n",
       "      <td>2021-03-27</td>\n",
       "      <td>2021-05-27</td>\n",
       "      <td>28.0</td>\n",
       "      <td>179.0</td>\n",
       "      <td>light single zone</td>\n",
       "      <td>9419031583198849335</td>\n",
       "      <td>52.28</td>\n",
       "      <td>0.08</td>\n",
       "      <td>0.29</td>\n",
       "      <td>7.48</td>\n",
       "      <td>20.93</td>\n",
       "      <td>15.04</td>\n",
       "    </tr>\n",
       "    <tr>\n",
       "      <th>114404</th>\n",
       "      <td>-2.0</td>\n",
       "      <td>-1.0</td>\n",
       "      <td>-1.0</td>\n",
       "      <td>2021-02-20</td>\n",
       "      <td>2021-03-19</td>\n",
       "      <td>NaN</td>\n",
       "      <td>-4.0</td>\n",
       "      <td>light single zone</td>\n",
       "      <td>5384502039674139572</td>\n",
       "      <td>16.81</td>\n",
       "      <td>NaN</td>\n",
       "      <td>NaN</td>\n",
       "      <td>-0.16</td>\n",
       "      <td>6.99</td>\n",
       "      <td>8.46</td>\n",
       "    </tr>\n",
       "    <tr>\n",
       "      <th>267865</th>\n",
       "      <td>-20.0</td>\n",
       "      <td>-23.0</td>\n",
       "      <td>-40.0</td>\n",
       "      <td>2020-08-01</td>\n",
       "      <td>2021-02-22</td>\n",
       "      <td>NaN</td>\n",
       "      <td>-83.0</td>\n",
       "      <td>light multi zones</td>\n",
       "      <td>13551778016618737280</td>\n",
       "      <td>219.64</td>\n",
       "      <td>NaN</td>\n",
       "      <td>NaN</td>\n",
       "      <td>72.60</td>\n",
       "      <td>75.53</td>\n",
       "      <td>52.59</td>\n",
       "    </tr>\n",
       "    <tr>\n",
       "      <th>410415</th>\n",
       "      <td>-2.0</td>\n",
       "      <td>-1.0</td>\n",
       "      <td>-1.0</td>\n",
       "      <td>2020-11-28</td>\n",
       "      <td>2021-01-26</td>\n",
       "      <td>NaN</td>\n",
       "      <td>-4.0</td>\n",
       "      <td>light single zone</td>\n",
       "      <td>15455868716410888739</td>\n",
       "      <td>45.99</td>\n",
       "      <td>NaN</td>\n",
       "      <td>NaN</td>\n",
       "      <td>19.71</td>\n",
       "      <td>13.91</td>\n",
       "      <td>8.28</td>\n",
       "    </tr>\n",
       "    <tr>\n",
       "      <th>158694</th>\n",
       "      <td>-9.0</td>\n",
       "      <td>-8.0</td>\n",
       "      <td>-6.0</td>\n",
       "      <td>2021-04-03</td>\n",
       "      <td>2021-05-31</td>\n",
       "      <td>NaN</td>\n",
       "      <td>-23.0</td>\n",
       "      <td>light single zone</td>\n",
       "      <td>11439497290139626097</td>\n",
       "      <td>47.96</td>\n",
       "      <td>NaN</td>\n",
       "      <td>NaN</td>\n",
       "      <td>19.66</td>\n",
       "      <td>13.84</td>\n",
       "      <td>10.62</td>\n",
       "    </tr>\n",
       "    <tr>\n",
       "      <th>...</th>\n",
       "      <td>...</td>\n",
       "      <td>...</td>\n",
       "      <td>...</td>\n",
       "      <td>...</td>\n",
       "      <td>...</td>\n",
       "      <td>...</td>\n",
       "      <td>...</td>\n",
       "      <td>...</td>\n",
       "      <td>...</td>\n",
       "      <td>...</td>\n",
       "      <td>...</td>\n",
       "      <td>...</td>\n",
       "      <td>...</td>\n",
       "      <td>...</td>\n",
       "      <td>...</td>\n",
       "    </tr>\n",
       "    <tr>\n",
       "      <th>38935</th>\n",
       "      <td>298.0</td>\n",
       "      <td>245.0</td>\n",
       "      <td>344.0</td>\n",
       "      <td>2020-12-05</td>\n",
       "      <td>2021-02-02</td>\n",
       "      <td>37.0</td>\n",
       "      <td>887.0</td>\n",
       "      <td>light single zone</td>\n",
       "      <td>15455868716410888739</td>\n",
       "      <td>164.59</td>\n",
       "      <td>0.07</td>\n",
       "      <td>0.19</td>\n",
       "      <td>37.08</td>\n",
       "      <td>28.57</td>\n",
       "      <td>64.07</td>\n",
       "    </tr>\n",
       "    <tr>\n",
       "      <th>432592</th>\n",
       "      <td>2055.0</td>\n",
       "      <td>1436.0</td>\n",
       "      <td>1666.0</td>\n",
       "      <td>2021-01-27</td>\n",
       "      <td>2021-03-26</td>\n",
       "      <td>40.0</td>\n",
       "      <td>3236.0</td>\n",
       "      <td>light multi zones</td>\n",
       "      <td>11219961771986969242</td>\n",
       "      <td>956.14</td>\n",
       "      <td>0.12</td>\n",
       "      <td>0.30</td>\n",
       "      <td>248.96</td>\n",
       "      <td>113.10</td>\n",
       "      <td>381.21</td>\n",
       "    </tr>\n",
       "    <tr>\n",
       "      <th>10022</th>\n",
       "      <td>310.0</td>\n",
       "      <td>188.0</td>\n",
       "      <td>238.0</td>\n",
       "      <td>2021-03-20</td>\n",
       "      <td>2021-05-21</td>\n",
       "      <td>44.0</td>\n",
       "      <td>736.0</td>\n",
       "      <td>light single zone</td>\n",
       "      <td>15455868716410888739</td>\n",
       "      <td>132.02</td>\n",
       "      <td>0.08</td>\n",
       "      <td>0.18</td>\n",
       "      <td>30.73</td>\n",
       "      <td>20.57</td>\n",
       "      <td>55.46</td>\n",
       "    </tr>\n",
       "    <tr>\n",
       "      <th>379962</th>\n",
       "      <td>546.0</td>\n",
       "      <td>408.0</td>\n",
       "      <td>379.0</td>\n",
       "      <td>2020-12-19</td>\n",
       "      <td>2021-01-22</td>\n",
       "      <td>48.0</td>\n",
       "      <td>1333.0</td>\n",
       "      <td>light single zone</td>\n",
       "      <td>556925197644088568</td>\n",
       "      <td>307.83</td>\n",
       "      <td>0.11</td>\n",
       "      <td>0.23</td>\n",
       "      <td>55.74</td>\n",
       "      <td>65.17</td>\n",
       "      <td>147.05</td>\n",
       "    </tr>\n",
       "    <tr>\n",
       "      <th>393063</th>\n",
       "      <td>296.0</td>\n",
       "      <td>66.0</td>\n",
       "      <td>2.0</td>\n",
       "      <td>2021-02-13</td>\n",
       "      <td>2021-03-12</td>\n",
       "      <td>38.0</td>\n",
       "      <td>364.0</td>\n",
       "      <td>light multi zones</td>\n",
       "      <td>6115587476061882503</td>\n",
       "      <td>143.37</td>\n",
       "      <td>0.15</td>\n",
       "      <td>0.39</td>\n",
       "      <td>36.33</td>\n",
       "      <td>21.16</td>\n",
       "      <td>55.48</td>\n",
       "    </tr>\n",
       "  </tbody>\n",
       "</table>\n",
       "<p>10498 rows × 15 columns</p>\n",
       "</div>"
      ],
      "text/plain": [
       "        F1_kWh  F2_kWh  F3_kWh light_start_date light_end_date  \\\n",
       "264150   -33.0   105.0   107.0       2021-03-27     2021-05-27   \n",
       "114404    -2.0    -1.0    -1.0       2021-02-20     2021-03-19   \n",
       "267865   -20.0   -23.0   -40.0       2020-08-01     2021-02-22   \n",
       "410415    -2.0    -1.0    -1.0       2020-11-28     2021-01-26   \n",
       "158694    -9.0    -8.0    -6.0       2021-04-03     2021-05-31   \n",
       "...        ...     ...     ...              ...            ...   \n",
       "38935    298.0   245.0   344.0       2020-12-05     2021-02-02   \n",
       "432592  2055.0  1436.0  1666.0       2021-01-27     2021-03-26   \n",
       "10022    310.0   188.0   238.0       2021-03-20     2021-05-21   \n",
       "379962   546.0   408.0   379.0       2020-12-19     2021-01-22   \n",
       "393063   296.0    66.0     2.0       2021-02-13     2021-03-12   \n",
       "\n",
       "        light_average_cost  light_consumption   light_offer_type  \\\n",
       "264150                28.0              179.0  light single zone   \n",
       "114404                 NaN               -4.0  light single zone   \n",
       "267865                 NaN              -83.0  light multi zones   \n",
       "410415                 NaN               -4.0  light single zone   \n",
       "158694                 NaN              -23.0  light single zone   \n",
       "...                    ...                ...                ...   \n",
       "38935                 37.0              887.0  light single zone   \n",
       "432592                40.0             3236.0  light multi zones   \n",
       "10022                 44.0              736.0  light single zone   \n",
       "379962                48.0             1333.0  light single zone   \n",
       "393063                38.0              364.0  light multi zones   \n",
       "\n",
       "                 light_offer  light_amount  average_unit_light_cost  \\\n",
       "264150   9419031583198849335         52.28                     0.08   \n",
       "114404   5384502039674139572         16.81                      NaN   \n",
       "267865  13551778016618737280        219.64                      NaN   \n",
       "410415  15455868716410888739         45.99                      NaN   \n",
       "158694  11439497290139626097         47.96                      NaN   \n",
       "...                      ...           ...                      ...   \n",
       "38935   15455868716410888739        164.59                     0.07   \n",
       "432592  11219961771986969242        956.14                     0.12   \n",
       "10022   15455868716410888739        132.02                     0.08   \n",
       "379962    556925197644088568        307.83                     0.11   \n",
       "393063   6115587476061882503        143.37                     0.15   \n",
       "\n",
       "        average_light_bill_cost  light_system_charges  light_transport_cost  \\\n",
       "264150                     0.29                  7.48                 20.93   \n",
       "114404                      NaN                 -0.16                  6.99   \n",
       "267865                      NaN                 72.60                 75.53   \n",
       "410415                      NaN                 19.71                 13.91   \n",
       "158694                      NaN                 19.66                 13.84   \n",
       "...                         ...                   ...                   ...   \n",
       "38935                      0.19                 37.08                 28.57   \n",
       "432592                     0.30                248.96                113.10   \n",
       "10022                      0.18                 30.73                 20.57   \n",
       "379962                     0.23                 55.74                 65.17   \n",
       "393063                     0.39                 36.33                 21.16   \n",
       "\n",
       "        light_material_cost  \n",
       "264150                15.04  \n",
       "114404                 8.46  \n",
       "267865                52.59  \n",
       "410415                 8.28  \n",
       "158694                10.62  \n",
       "...                     ...  \n",
       "38935                 64.07  \n",
       "432592               381.21  \n",
       "10022                 55.46  \n",
       "379962               147.05  \n",
       "393063                55.48  \n",
       "\n",
       "[10498 rows x 15 columns]"
      ]
     },
     "execution_count": 53,
     "metadata": {},
     "output_type": "execute_result"
    }
   ],
   "source": [
    "base[['F1_kWh', 'F2_kWh', 'F3_kWh', 'light_start_date', 'light_end_date', 'light_average_cost', 'light_consumption', 'light_offer_type', 'light_offer', 'light_amount', 'average_unit_light_cost', 'average_light_bill_cost', 'light_system_charges', 'light_transport_cost', 'light_material_cost']].sample(frac=0.001).compute()"
   ]
  },
  {
   "cell_type": "markdown",
   "id": "25cc7ea1-3c61-40a5-91e5-4444c65e5e14",
   "metadata": {},
   "source": [
    "F1_kWh + F2_kWh + F3_kWh = light_consumption? "
   ]
  },
  {
   "cell_type": "code",
   "execution_count": 58,
   "id": "1bdd3193-df93-4ad0-8c40-99ee278dfbed",
   "metadata": {},
   "outputs": [
    {
     "data": {
      "text/plain": [
       "4652400"
      ]
     },
     "execution_count": 58,
     "metadata": {},
     "output_type": "execute_result"
    }
   ],
   "source": [
    "base[(base['light_consumption'] == (base['F1_kWh'] + base['F2_kWh'] + base['F3_kWh']))].shape[0].compute()"
   ]
  },
  {
   "cell_type": "code",
   "execution_count": 61,
   "id": "73be7571-d327-4586-9e61-1281d83bdf50",
   "metadata": {},
   "outputs": [],
   "source": [
    "F_kWh = base[['F1_kWh', 'F2_kWh', 'F3_kWh']]\n",
    "F_kWh = F_kWh.persist()"
   ]
  },
  {
   "cell_type": "code",
   "execution_count": 67,
   "id": "87980de7-8b50-48cc-9809-026f4781f548",
   "metadata": {},
   "outputs": [
    {
     "data": {
      "text/plain": [
       "10496446"
      ]
     },
     "execution_count": 67,
     "metadata": {},
     "output_type": "execute_result"
    }
   ],
   "source": [
    "# row with all the values not null\n",
    "F_kWh[~F_kWh.isna().any(axis=1)].shape[0].compute()"
   ]
  },
  {
   "cell_type": "code",
   "execution_count": 69,
   "id": "864bdb5e-36e6-4eff-a117-68da8998d39b",
   "metadata": {},
   "outputs": [
    {
     "data": {
      "text/plain": [
       "85"
      ]
     },
     "execution_count": 69,
     "metadata": {},
     "output_type": "execute_result"
    }
   ],
   "source": [
    "# row with all values null\n",
    "F_kWh[F_kWh.isna().all(axis=1)].shape[0].compute()"
   ]
  },
  {
   "cell_type": "code",
   "execution_count": 70,
   "id": "941e8d91-844d-4077-9dfa-fe49bee4e9a6",
   "metadata": {},
   "outputs": [
    {
     "data": {
      "text/plain": [
       "697"
      ]
     },
     "execution_count": 70,
     "metadata": {},
     "output_type": "execute_result"
    }
   ],
   "source": [
    "# rows with at least 1 value null\n",
    "F_kWh[F_kWh.isna().any(axis=1)].shape[0].compute()"
   ]
  },
  {
   "cell_type": "code",
   "execution_count": 71,
   "id": "1e0c2704-9865-4573-8681-9b8758d51fab",
   "metadata": {},
   "outputs": [],
   "source": [
    "F_kWh['sum'] = F_kWh.sum(axis=1)"
   ]
  },
  {
   "cell_type": "code",
   "execution_count": 78,
   "id": "6db7ebc9-5963-4c78-a2ab-4c68be350917",
   "metadata": {},
   "outputs": [
    {
     "data": {
      "text/html": [
       "<div>\n",
       "<style scoped>\n",
       "    .dataframe tbody tr th:only-of-type {\n",
       "        vertical-align: middle;\n",
       "    }\n",
       "\n",
       "    .dataframe tbody tr th {\n",
       "        vertical-align: top;\n",
       "    }\n",
       "\n",
       "    .dataframe thead th {\n",
       "        text-align: right;\n",
       "    }\n",
       "</style>\n",
       "<table border=\"1\" class=\"dataframe\">\n",
       "  <thead>\n",
       "    <tr style=\"text-align: right;\">\n",
       "      <th></th>\n",
       "      <th>F1_kWh</th>\n",
       "      <th>F2_kWh</th>\n",
       "      <th>F3_kWh</th>\n",
       "      <th>sum</th>\n",
       "    </tr>\n",
       "  </thead>\n",
       "  <tbody>\n",
       "    <tr>\n",
       "      <th>475464</th>\n",
       "      <td>NaN</td>\n",
       "      <td>NaN</td>\n",
       "      <td>NaN</td>\n",
       "      <td>0.0</td>\n",
       "    </tr>\n",
       "    <tr>\n",
       "      <th>519650</th>\n",
       "      <td>NaN</td>\n",
       "      <td>NaN</td>\n",
       "      <td>NaN</td>\n",
       "      <td>0.0</td>\n",
       "    </tr>\n",
       "    <tr>\n",
       "      <th>115745</th>\n",
       "      <td>NaN</td>\n",
       "      <td>NaN</td>\n",
       "      <td>NaN</td>\n",
       "      <td>0.0</td>\n",
       "    </tr>\n",
       "    <tr>\n",
       "      <th>258881</th>\n",
       "      <td>NaN</td>\n",
       "      <td>NaN</td>\n",
       "      <td>NaN</td>\n",
       "      <td>0.0</td>\n",
       "    </tr>\n",
       "    <tr>\n",
       "      <th>302809</th>\n",
       "      <td>NaN</td>\n",
       "      <td>NaN</td>\n",
       "      <td>NaN</td>\n",
       "      <td>0.0</td>\n",
       "    </tr>\n",
       "    <tr>\n",
       "      <th>...</th>\n",
       "      <td>...</td>\n",
       "      <td>...</td>\n",
       "      <td>...</td>\n",
       "      <td>...</td>\n",
       "    </tr>\n",
       "    <tr>\n",
       "      <th>180094</th>\n",
       "      <td>NaN</td>\n",
       "      <td>NaN</td>\n",
       "      <td>NaN</td>\n",
       "      <td>0.0</td>\n",
       "    </tr>\n",
       "    <tr>\n",
       "      <th>220513</th>\n",
       "      <td>NaN</td>\n",
       "      <td>NaN</td>\n",
       "      <td>NaN</td>\n",
       "      <td>0.0</td>\n",
       "    </tr>\n",
       "    <tr>\n",
       "      <th>239335</th>\n",
       "      <td>NaN</td>\n",
       "      <td>NaN</td>\n",
       "      <td>NaN</td>\n",
       "      <td>0.0</td>\n",
       "    </tr>\n",
       "    <tr>\n",
       "      <th>275461</th>\n",
       "      <td>NaN</td>\n",
       "      <td>NaN</td>\n",
       "      <td>NaN</td>\n",
       "      <td>0.0</td>\n",
       "    </tr>\n",
       "    <tr>\n",
       "      <th>402530</th>\n",
       "      <td>NaN</td>\n",
       "      <td>NaN</td>\n",
       "      <td>NaN</td>\n",
       "      <td>0.0</td>\n",
       "    </tr>\n",
       "  </tbody>\n",
       "</table>\n",
       "<p>85 rows × 4 columns</p>\n",
       "</div>"
      ],
      "text/plain": [
       "        F1_kWh  F2_kWh  F3_kWh  sum\n",
       "475464     NaN     NaN     NaN  0.0\n",
       "519650     NaN     NaN     NaN  0.0\n",
       "115745     NaN     NaN     NaN  0.0\n",
       "258881     NaN     NaN     NaN  0.0\n",
       "302809     NaN     NaN     NaN  0.0\n",
       "...        ...     ...     ...  ...\n",
       "180094     NaN     NaN     NaN  0.0\n",
       "220513     NaN     NaN     NaN  0.0\n",
       "239335     NaN     NaN     NaN  0.0\n",
       "275461     NaN     NaN     NaN  0.0\n",
       "402530     NaN     NaN     NaN  0.0\n",
       "\n",
       "[85 rows x 4 columns]"
      ]
     },
     "execution_count": 78,
     "metadata": {},
     "output_type": "execute_result"
    }
   ],
   "source": [
    "F_kWh[F_kWh[['F1_kWh', 'F2_kWh', 'F3_kWh']].isna().all(axis=1)].compute()"
   ]
  },
  {
   "cell_type": "code",
   "execution_count": 68,
   "id": "57914194-ed8d-4bf8-82ee-9d7d59af87ad",
   "metadata": {},
   "outputs": [
    {
     "data": {
      "text/plain": [
       "10497143"
      ]
     },
     "execution_count": 68,
     "metadata": {},
     "output_type": "execute_result"
    }
   ],
   "source": [
    "F_kWh.shape[0].compute()"
   ]
  },
  {
   "cell_type": "markdown",
   "id": "826b1c57-24c5-4f8e-8b70-fe22cc89e0cf",
   "metadata": {},
   "source": [
    "### All the record with city == VIETRI DI POTENZA have address and nominative null and all the addresses and nominative null values are the VIETRI DI POTENZA records"
   ]
  },
  {
   "cell_type": "code",
   "execution_count": 12,
   "id": "e3b04cdb-389d-4842-bc55-fab3798f72d1",
   "metadata": {},
   "outputs": [],
   "source": [
    "#esempio\n",
    "base.locate_null_values('address').shape[0].compute()"
   ]
  },
  {
   "cell_type": "code",
   "execution_count": 14,
   "id": "55e889aa-12ca-4fa6-a14b-1b51d8131d2f",
   "metadata": {},
   "outputs": [],
   "source": [
    "base[base['city'] == 'VIETRI DI POTENZA'].shape[0].compute()"
   ]
  },
  {
   "cell_type": "code",
   "execution_count": 16,
   "id": "6e2a4dd4-e332-4014-a71c-0c50273e673c",
   "metadata": {},
   "outputs": [],
   "source": [
    "base[base['nominative'].isna()].shape[0].compute()"
   ]
  },
  {
   "cell_type": "markdown",
   "id": "09aadf3c-6aec-4127-bcfb-5f36588a762d",
   "metadata": {
    "tags": []
   },
   "source": [
    "## Locate Missing Values DA PORTARE"
   ]
  },
  {
   "cell_type": "code",
   "execution_count": 29,
   "id": "de516688-8f8d-402b-ad9e-cb27fc1859d0",
   "metadata": {},
   "outputs": [],
   "source": [
    "# LOCATE MISSING VALUES\n",
    "#rows = df.shape[0]\n",
    "#wait(ddf.shape[0])\n",
    "#print(\"Total rows\", rows)\n",
    "\n",
    "# These are the colums with at least one missing value\n",
    "column_count_nan = {}\n",
    "# compute the presence of null value on time instead every iteration for performance reasons\n",
    "na = base.get_df().isna()\n",
    "val = na.any().compute()\n",
    "\n",
    "res = na.sum().compute()\n",
    "column_count_nan = json.loads(res.to_json())\n",
    "column_count_nan"
   ]
  },
  {
   "cell_type": "code",
   "execution_count": 30,
   "id": "8da90f6e-7570-41ad-a553-32ec61cd94ac",
   "metadata": {},
   "outputs": [],
   "source": [
    "import json\n",
    "\n",
    "class NpEncoder(json.JSONEncoder):\n",
    "    def default(self, obj):\n",
    "        if isinstance(obj, np.integer):\n",
    "            return int(obj)\n",
    "        if isinstance(obj, np.floating):\n",
    "            return float(obj)\n",
    "        if isinstance(obj, np.ndarray):\n",
    "            return obj.tolist()\n",
    "        return super(NpEncoder, self).default(obj)\n",
    "    \n",
    "with open('data/initial_null_val.json', 'w+') as f:\n",
    "    # this would place the entire output on one line\n",
    "    # use json.dump(lista_items, f, indent=4) to \"pretty-print\" with four spaces per indent\n",
    "    json.dump(column_count_nan, f, cls=NpEncoder, indent=2)"
   ]
  },
  {
   "cell_type": "code",
   "execution_count": 31,
   "id": "58993c47-28c8-4740-878d-fc98c8cf9976",
   "metadata": {},
   "outputs": [],
   "source": [
    "import json \n",
    "\n",
    "with open('data/initial_null_val.json', \"r\") as read_file:\n",
    "    column_count_nan = json.load(read_file)"
   ]
  },
  {
   "cell_type": "code",
   "execution_count": 34,
   "id": "41622e6f-2595-47a0-b7ee-1d22e1dfd8a1",
   "metadata": {},
   "outputs": [],
   "source": [
    "column_with_nan = []\n",
    "\n",
    "perc = 80\n",
    "soglia = ((perc * base.get_df().shape[0]) / 100).compute()\n",
    "print(f'soglia {soglia}')\n",
    "\n",
    "for c, val in column_count_nan.items():\n",
    "    #print(f'{c}')\n",
    "    if val > soglia:\n",
    "        print(f'{c} val: {val}')\n",
    "        column_with_nan.append(c)\n",
    "        \n",
    "column_with_nan\n",
    "\n",
    "# Si può notare come nessuna colonna abbia il 100% di valori nulli, ma ci sono altresì tante \n",
    "# colonne con un numero elevato di nan. Poche colonne hanno un numero basso di nan."
   ]
  },
  {
   "cell_type": "markdown",
   "id": "280804b2-6062-4fad-8c7f-64355954b08d",
   "metadata": {
    "tags": []
   },
   "source": [
    "### Analisi extra (utile estenderla all'intero dataset)"
   ]
  },
  {
   "cell_type": "code",
   "execution_count": null,
   "id": "61f836cf-4621-4a55-a5f5-69c273b63c80",
   "metadata": {},
   "outputs": [],
   "source": [
    "#Visto che address e nominative hanno lo stesso numero di NA, vale la \n",
    "#pena controllare ed eventualmente eliminare le righe?\n",
    "\n",
    "base.locate_null_values('nominative').shape[0].compute()"
   ]
  },
  {
   "cell_type": "code",
   "execution_count": null,
   "id": "5404dc83-eee9-43c9-b64a-6721f66c5708",
   "metadata": {},
   "outputs": [],
   "source": [
    "base.locate_null_values('address').shape[0].compute()"
   ]
  },
  {
   "cell_type": "code",
   "execution_count": 35,
   "id": "c6ca4aad-a7c8-465e-b77f-5f8494597d92",
   "metadata": {},
   "outputs": [],
   "source": [
    "df[df['city'] == 'VIETRI DI POTENZA'].shape[0].compute()"
   ]
  },
  {
   "cell_type": "markdown",
   "id": "4bdb18dd-62e1-4dca-add0-44cd05c1e3be",
   "metadata": {},
   "source": [
    "Not all the user code are repeated, but even in the repeated we can't be sure if the 2 records correspond, this because the real name are hased and possible collission can exists"
   ]
  },
  {
   "cell_type": "code",
   "execution_count": 41,
   "id": "9e1a53be-631f-497c-ac2a-4ee8ff70be2d",
   "metadata": {},
   "outputs": [],
   "source": [
    "df['user_code'].value_counts().shape[0].compute()"
   ]
  },
  {
   "cell_type": "code",
   "execution_count": 37,
   "id": "64d97f41-b929-4171-baac-4bc3a0169a37",
   "metadata": {},
   "outputs": [],
   "source": [
    "# PROVO A VEDERE SE SONO PRESENTI ALTRI RECORDS DEGLI UTENTI A CUI MANCANO NOMINATIVE E ADDRESS\n",
    "v = df['user_code'].value_counts()\n",
    "v[v.gt(1)].index.compute()"
   ]
  },
  {
   "cell_type": "code",
   "execution_count": 40,
   "id": "faab2772-0fc0-4854-873a-f7be61938ea0",
   "metadata": {},
   "outputs": [],
   "source": [
    "# DATASET CON GLI user_code CHE COMPAIONO PIù DI UNA VOLTA\n",
    "df[df['user_code'].isin(v[v.gt(1)].index.compute())].compute()"
   ]
  },
  {
   "cell_type": "code",
   "execution_count": null,
   "id": "78bba50c-c2df-4578-9cb8-a8fd80fbbd7b",
   "metadata": {},
   "outputs": [],
   "source": [
    "# Le date potrebbero fornirci informazioni sulla billing_frequency, o viceversa, come lo stabiliamo?\n",
    "# Cosa indica la colonna dell'emission_date??\n",
    "\n",
    "#NOTA PER DASK, SE FACCIAMO 0 CI TORNA IL PRIMO RECORD DI TUTTE LE 52 PARTIZIONI\n",
    "df.loc[0, 'billing_frequency'].compute()"
   ]
  },
  {
   "cell_type": "markdown",
   "id": "53bc7dbd-3732-434a-920a-d172c14d3f91",
   "metadata": {
    "tags": []
   },
   "source": [
    "## Locate Outliers DA PORTARE "
   ]
  },
  {
   "cell_type": "code",
   "execution_count": 42,
   "id": "edf3f731-b386-4fa2-ae8b-075698420887",
   "metadata": {},
   "outputs": [],
   "source": [
    "base['F1_kWh'].quantile(0.1).compute()"
   ]
  },
  {
   "cell_type": "code",
   "execution_count": 43,
   "id": "4daa506e-4ba2-40d2-bb22-36075cc3e232",
   "metadata": {},
   "outputs": [],
   "source": [
    "#CERTE COLONNE CON IL TIPO DI DATO PARTICOLARE TIPO FLOATDTYPE64 VANNO CONVERTITE IN TIPI COMPRENSIBILI\n",
    "base.locate_outliers('F1_kWh').head()"
   ]
  },
  {
   "cell_type": "code",
   "execution_count": null,
   "id": "89ce6c1e-ac1a-4ddb-a7f9-1d7f4f138daa",
   "metadata": {},
   "outputs": [],
   "source": [
    "type = df.dtypes\n",
    "num = type[type!='object'][type!='bool']\n",
    "num = num.index.to_list()\n",
    "num"
   ]
  },
  {
   "cell_type": "code",
   "execution_count": null,
   "id": "5a8ec9e4-c1eb-4c2c-8420-d7021c971731",
   "metadata": {},
   "outputs": [],
   "source": [
    "tmp = ddf.locate_outliers(\"F1_kWh\")\n",
    "tmp = tmp.compute()\n",
    "tmp.shape"
   ]
  },
  {
   "cell_type": "code",
   "execution_count": null,
   "id": "53708b43-e626-48f8-9906-c276f2e594ac",
   "metadata": {},
   "outputs": [],
   "source": [
    "for col in num:\n",
    "    tmp = base.locate_outliers(col)\n",
    "    tmp = tmp.compute()\n",
    "    \n",
    "    print(f\"{col} has {tmp.shape[0]} outliers\")"
   ]
  },
  {
   "cell_type": "markdown",
   "id": "45667c80-845b-49f7-bbe1-9f87b71d7c3b",
   "metadata": {
    "tags": []
   },
   "source": [
    "## Sort Data DA PORTARE"
   ]
  },
  {
   "cell_type": "code",
   "execution_count": 44,
   "id": "e79e186e-5ea7-4fb8-b180-7c369f960db4",
   "metadata": {},
   "outputs": [
    {
     "data": {
      "text/html": [
       "<div>\n",
       "<style scoped>\n",
       "    .dataframe tbody tr th:only-of-type {\n",
       "        vertical-align: middle;\n",
       "    }\n",
       "\n",
       "    .dataframe tbody tr th {\n",
       "        vertical-align: top;\n",
       "    }\n",
       "\n",
       "    .dataframe thead th {\n",
       "        text-align: right;\n",
       "    }\n",
       "</style>\n",
       "<table border=\"1\" class=\"dataframe\">\n",
       "  <thead>\n",
       "    <tr style=\"text-align: right;\">\n",
       "      <th></th>\n",
       "      <th>bill_id</th>\n",
       "      <th>F1_kWh</th>\n",
       "      <th>F2_kWh</th>\n",
       "      <th>F3_kWh</th>\n",
       "      <th>city</th>\n",
       "      <th>address</th>\n",
       "      <th>nominative</th>\n",
       "      <th>sex</th>\n",
       "      <th>age</th>\n",
       "      <th>user_code</th>\n",
       "      <th>...</th>\n",
       "      <th>average_gas_bill_cost</th>\n",
       "      <th>customer_code</th>\n",
       "      <th>billing_frequency</th>\n",
       "      <th>bill_type</th>\n",
       "      <th>gas_system_charges</th>\n",
       "      <th>light_system_charges</th>\n",
       "      <th>gas_material_cost</th>\n",
       "      <th>light_transport_cost</th>\n",
       "      <th>gas_transport_cost</th>\n",
       "      <th>light_material_cost</th>\n",
       "    </tr>\n",
       "  </thead>\n",
       "  <tbody>\n",
       "    <tr>\n",
       "      <th>489056</th>\n",
       "      <td>1187360</td>\n",
       "      <td>-161851.0</td>\n",
       "      <td>-72788.0</td>\n",
       "      <td>-32862.0</td>\n",
       "      <td>ACQUAVIVA PICENA</td>\n",
       "      <td>5CE681F589E5A3772769595584C0EB928B7DE066</td>\n",
       "      <td>3FBEB23E4339852AF45CB861CC4C6E9ADD80F327</td>\n",
       "      <td>P</td>\n",
       "      <td>0</td>\n",
       "      <td>E63583F6784908CB23E33CE0EFEE5643903B02D2</td>\n",
       "      <td>...</td>\n",
       "      <td>NaN</td>\n",
       "      <td>795C9C69BB38265B7A23E6E97B8EA379111419DD</td>\n",
       "      <td>None</td>\n",
       "      <td>False</td>\n",
       "      <td>NaN</td>\n",
       "      <td>221.90</td>\n",
       "      <td>NaN</td>\n",
       "      <td>106.01</td>\n",
       "      <td>NaN</td>\n",
       "      <td>198.47</td>\n",
       "    </tr>\n",
       "    <tr>\n",
       "      <th>65588</th>\n",
       "      <td>1044765</td>\n",
       "      <td>-155575.0</td>\n",
       "      <td>-71565.0</td>\n",
       "      <td>-167583.0</td>\n",
       "      <td>BOTRUGNO</td>\n",
       "      <td>E118655788098B92955F2B187B5E635315F40418</td>\n",
       "      <td>7AF193111F1FE1134095ACFB7E55FB28B1D70CA5</td>\n",
       "      <td>P</td>\n",
       "      <td>51</td>\n",
       "      <td>9891E03957AE0D2613A3D9AA07883B57965D3F85</td>\n",
       "      <td>...</td>\n",
       "      <td>NaN</td>\n",
       "      <td>796F4BE2B2D0B882778FFB1F5800742493915391</td>\n",
       "      <td>None</td>\n",
       "      <td>False</td>\n",
       "      <td>NaN</td>\n",
       "      <td>1252.72</td>\n",
       "      <td>NaN</td>\n",
       "      <td>327.57</td>\n",
       "      <td>NaN</td>\n",
       "      <td>1728.48</td>\n",
       "    </tr>\n",
       "    <tr>\n",
       "      <th>356661</th>\n",
       "      <td>2449406</td>\n",
       "      <td>-155575.0</td>\n",
       "      <td>-71565.0</td>\n",
       "      <td>-167583.0</td>\n",
       "      <td>BOTRUGNO</td>\n",
       "      <td>E118655788098B92955F2B187B5E635315F40418</td>\n",
       "      <td>7AF193111F1FE1134095ACFB7E55FB28B1D70CA5</td>\n",
       "      <td>P</td>\n",
       "      <td>51</td>\n",
       "      <td>9891E03957AE0D2613A3D9AA07883B57965D3F85</td>\n",
       "      <td>...</td>\n",
       "      <td>NaN</td>\n",
       "      <td>796F4BE2B2D0B882778FFB1F5800742493915391</td>\n",
       "      <td>None</td>\n",
       "      <td>False</td>\n",
       "      <td>NaN</td>\n",
       "      <td>0.39</td>\n",
       "      <td>NaN</td>\n",
       "      <td>0.07</td>\n",
       "      <td>NaN</td>\n",
       "      <td>-0.68</td>\n",
       "    </tr>\n",
       "    <tr>\n",
       "      <th>340207</th>\n",
       "      <td>1319384</td>\n",
       "      <td>-153991.0</td>\n",
       "      <td>-98086.0</td>\n",
       "      <td>-231472.0</td>\n",
       "      <td>SAN GIOVANNI LA PUNTA</td>\n",
       "      <td>01E389112E8D04323E5C88E5DAD63B50A137AEF6</td>\n",
       "      <td>874BAF9F76FF33F516411DCF0BF3C484210EEB2E</td>\n",
       "      <td>P</td>\n",
       "      <td>0</td>\n",
       "      <td>1CFC1FF48D1B1272895365B3BD01E89A13AE049B</td>\n",
       "      <td>...</td>\n",
       "      <td>NaN</td>\n",
       "      <td>F57EC4016CFA6F1AC121561E1586BDC3D6EE5541</td>\n",
       "      <td>monthly</td>\n",
       "      <td>False</td>\n",
       "      <td>NaN</td>\n",
       "      <td>147.89</td>\n",
       "      <td>NaN</td>\n",
       "      <td>62.17</td>\n",
       "      <td>NaN</td>\n",
       "      <td>229.25</td>\n",
       "    </tr>\n",
       "    <tr>\n",
       "      <th>19920</th>\n",
       "      <td>1434857</td>\n",
       "      <td>-153137.0</td>\n",
       "      <td>-123193.0</td>\n",
       "      <td>-195310.0</td>\n",
       "      <td>ACQUANEGRA CREMONESE</td>\n",
       "      <td>A4D4CD0A605BEAA3822EF0A59A1AD76A7CA57CF8</td>\n",
       "      <td>D2008C12D5E4C96C1ECDD4B6E1B01397FD939072</td>\n",
       "      <td>M</td>\n",
       "      <td>74</td>\n",
       "      <td>6132481E9E67205B05D91820BBCF68D6A4F3DBC0</td>\n",
       "      <td>...</td>\n",
       "      <td>1.84</td>\n",
       "      <td>30709EDF7F80B0875A78FA53721A0AA60262B91E</td>\n",
       "      <td>None</td>\n",
       "      <td>False</td>\n",
       "      <td>-3.94</td>\n",
       "      <td>1006.22</td>\n",
       "      <td>18.48</td>\n",
       "      <td>300.64</td>\n",
       "      <td>13.39</td>\n",
       "      <td>1723.67</td>\n",
       "    </tr>\n",
       "  </tbody>\n",
       "</table>\n",
       "<p>5 rows × 43 columns</p>\n",
       "</div>"
      ],
      "text/plain": [
       "        bill_id    F1_kWh    F2_kWh    F3_kWh                   city  \\\n",
       "489056  1187360 -161851.0  -72788.0  -32862.0       ACQUAVIVA PICENA   \n",
       "65588   1044765 -155575.0  -71565.0 -167583.0               BOTRUGNO   \n",
       "356661  2449406 -155575.0  -71565.0 -167583.0               BOTRUGNO   \n",
       "340207  1319384 -153991.0  -98086.0 -231472.0  SAN GIOVANNI LA PUNTA   \n",
       "19920   1434857 -153137.0 -123193.0 -195310.0   ACQUANEGRA CREMONESE   \n",
       "\n",
       "                                         address  \\\n",
       "489056  5CE681F589E5A3772769595584C0EB928B7DE066   \n",
       "65588   E118655788098B92955F2B187B5E635315F40418   \n",
       "356661  E118655788098B92955F2B187B5E635315F40418   \n",
       "340207  01E389112E8D04323E5C88E5DAD63B50A137AEF6   \n",
       "19920   A4D4CD0A605BEAA3822EF0A59A1AD76A7CA57CF8   \n",
       "\n",
       "                                      nominative sex  age  \\\n",
       "489056  3FBEB23E4339852AF45CB861CC4C6E9ADD80F327   P    0   \n",
       "65588   7AF193111F1FE1134095ACFB7E55FB28B1D70CA5   P   51   \n",
       "356661  7AF193111F1FE1134095ACFB7E55FB28B1D70CA5   P   51   \n",
       "340207  874BAF9F76FF33F516411DCF0BF3C484210EEB2E   P    0   \n",
       "19920   D2008C12D5E4C96C1ECDD4B6E1B01397FD939072   M   74   \n",
       "\n",
       "                                       user_code  ... average_gas_bill_cost  \\\n",
       "489056  E63583F6784908CB23E33CE0EFEE5643903B02D2  ...                   NaN   \n",
       "65588   9891E03957AE0D2613A3D9AA07883B57965D3F85  ...                   NaN   \n",
       "356661  9891E03957AE0D2613A3D9AA07883B57965D3F85  ...                   NaN   \n",
       "340207  1CFC1FF48D1B1272895365B3BD01E89A13AE049B  ...                   NaN   \n",
       "19920   6132481E9E67205B05D91820BBCF68D6A4F3DBC0  ...                  1.84   \n",
       "\n",
       "                                   customer_code billing_frequency  bill_type  \\\n",
       "489056  795C9C69BB38265B7A23E6E97B8EA379111419DD              None      False   \n",
       "65588   796F4BE2B2D0B882778FFB1F5800742493915391              None      False   \n",
       "356661  796F4BE2B2D0B882778FFB1F5800742493915391              None      False   \n",
       "340207  F57EC4016CFA6F1AC121561E1586BDC3D6EE5541           monthly      False   \n",
       "19920   30709EDF7F80B0875A78FA53721A0AA60262B91E              None      False   \n",
       "\n",
       "        gas_system_charges  light_system_charges  gas_material_cost  \\\n",
       "489056                 NaN                221.90                NaN   \n",
       "65588                  NaN               1252.72                NaN   \n",
       "356661                 NaN                  0.39                NaN   \n",
       "340207                 NaN                147.89                NaN   \n",
       "19920                -3.94               1006.22              18.48   \n",
       "\n",
       "       light_transport_cost gas_transport_cost light_material_cost  \n",
       "489056               106.01                NaN              198.47  \n",
       "65588                327.57                NaN             1728.48  \n",
       "356661                 0.07                NaN               -0.68  \n",
       "340207                62.17                NaN              229.25  \n",
       "19920                300.64              13.39             1723.67  \n",
       "\n",
       "[5 rows x 43 columns]"
      ]
     },
     "execution_count": 44,
     "metadata": {},
     "output_type": "execute_result"
    }
   ],
   "source": [
    "base.sort(\"F1_kWh\").head()"
   ]
  },
  {
   "cell_type": "markdown",
   "id": "3301db32-7958-4881-8423-2afac2ccb557",
   "metadata": {
    "jp-MarkdownHeadingCollapsed": true,
    "tags": []
   },
   "source": [
    "### Bazze mirco"
   ]
  },
  {
   "cell_type": "code",
   "execution_count": null,
   "id": "34e6bca9-5f60-4d0d-9d94-9ac0defee60f",
   "metadata": {},
   "outputs": [],
   "source": [
    "tmp = ddf.sort_index(\"F1_kWh\").compute()\n",
    "# not working"
   ]
  },
  {
   "cell_type": "code",
   "execution_count": null,
   "id": "35f7f97e-dd04-4c92-b710-fb9f837e700a",
   "metadata": {},
   "outputs": [],
   "source": [
    "idx = tmp.index.to_arrow().to_pylist()\n",
    "# too mutch long list"
   ]
  },
  {
   "cell_type": "code",
   "execution_count": null,
   "id": "5a154b10-b23c-40e6-baee-517f118fd8e2",
   "metadata": {},
   "outputs": [],
   "source": [
    "tmp.merge(ddf.df, on=[\"F1_kWh\"], how=\"left\")"
   ]
  },
  {
   "cell_type": "markdown",
   "id": "83cb84a0-7da8-42cd-a6c3-7bba271c0106",
   "metadata": {
    "tags": []
   },
   "source": [
    "# 2. VALIDATION"
   ]
  },
  {
   "cell_type": "code",
   "execution_count": null,
   "id": "a78e654e-5ec8-4946-bb6b-b2b28bfacfc2",
   "metadata": {},
   "outputs": [],
   "source": [
    "''' \n",
    "+++++ DATA VALIDATION +++++\n",
    "    • Check data range\n",
    "    • Check column uniqueness\n",
    "    • Find data-mismatched data types\n",
    "'''"
   ]
  },
  {
   "cell_type": "markdown",
   "id": "93872d70-15ce-4bc4-98b0-e3a2f55610ce",
   "metadata": {
    "tags": []
   },
   "source": [
    "## Check Data Range DA PORTARE TUTTE (mi tirava fare un sottogruppo)"
   ]
  },
  {
   "cell_type": "markdown",
   "id": "7b33b46b-2476-490c-b743-82a20a182095",
   "metadata": {
    "tags": []
   },
   "source": [
    "### Age nulla per PIVA"
   ]
  },
  {
   "cell_type": "code",
   "execution_count": null,
   "id": "5d138e4c-b729-4673-9ea2-01d139fd1123",
   "metadata": {},
   "outputs": [],
   "source": [
    "# Controllo se chi ha P ha età nulla\n",
    "import pandas as pd\n",
    "df['age'] = df['age'].mask((df['sex']=='P') & (df['age']>=0), np.nan)\n",
    "df[(df['sex']=='P')][['sex','age']].sample(frac=0.1).compute()"
   ]
  },
  {
   "cell_type": "markdown",
   "id": "27a763d3-c20e-4607-aa7f-75948e8fd781",
   "metadata": {
    "tags": []
   },
   "source": [
    "### Age >= 18"
   ]
  },
  {
   "cell_type": "code",
   "execution_count": null,
   "id": "c88e9261-63da-484b-9676-ea8288a25341",
   "metadata": {},
   "outputs": [],
   "source": [
    "# Age >= 18\n",
    "# Age non ha valori nulli (già controllato in precedenza IN TEORIA)\n",
    "# Dovrebbe corrispondere al numero di PIVA\n",
    "df['age'].isna().sum().compute()"
   ]
  },
  {
   "cell_type": "code",
   "execution_count": null,
   "id": "694bdf0d-6d3e-402f-bdb5-b0d717a04f3c",
   "metadata": {},
   "outputs": [],
   "source": [
    "# Che fare con i minorenni? Li mettiamo tutti a 18 anni?\n",
    "df[(df['age'] < 18)].shape[0].compute()"
   ]
  },
  {
   "cell_type": "markdown",
   "id": "97c8f19d-7a93-42a3-8fb4-b92f65b2b304",
   "metadata": {
    "tags": []
   },
   "source": [
    "### Translation in English"
   ]
  },
  {
   "cell_type": "code",
   "execution_count": null,
   "id": "f2919a28-b76e-49a8-b466-8ca6fa555c0d",
   "metadata": {},
   "outputs": [],
   "source": [
    "df['supply_type'].value_counts(dropna=False).compute()"
   ]
  },
  {
   "cell_type": "code",
   "execution_count": null,
   "id": "d44dd645-2027-4ff8-a43a-8993f0a3fef5",
   "metadata": {},
   "outputs": [],
   "source": [
    "# Dobbiamo metterli in inglese? Si può fare con un map\n",
    "ing = {\n",
    "    'luce': 'light',\n",
    "    'gas e luce': 'gas and light',\n",
    "    'gas' : 'gas',\n",
    "}\n",
    "df['supply_type'] = df['supply_type'].map(ing)"
   ]
  },
  {
   "cell_type": "code",
   "execution_count": null,
   "id": "664860de-1788-4fb3-998a-e51c4b858bd8",
   "metadata": {},
   "outputs": [],
   "source": [
    "df['supply_type'].value_counts(dropna=False).compute()"
   ]
  },
  {
   "cell_type": "markdown",
   "id": "dfb853db-c58e-488a-8689-5bb43878e462",
   "metadata": {},
   "source": [
    "### Data control"
   ]
  },
  {
   "cell_type": "markdown",
   "id": "4f461f45-ca34-47ff-a6c1-ad2bd2533528",
   "metadata": {
    "tags": []
   },
   "source": [
    "### billing_freq & bill_type Analysis"
   ]
  },
  {
   "cell_type": "code",
   "execution_count": null,
   "id": "af42f7c6-a6cd-4803-b8ab-ffb91fa64f14",
   "metadata": {},
   "outputs": [],
   "source": [
    "# Che fare qua? Billing frequency (‘monthly’, ‘quarterly’, etc.)\n",
    "# Si potrebbero calcolare\n",
    "df['billing_frequency'].value_counts(dropna=False).compute()"
   ]
  },
  {
   "cell_type": "code",
   "execution_count": null,
   "id": "6b8c47a3-e5c7-4239-a87d-464a3fd9d53b",
   "metadata": {},
   "outputs": [],
   "source": [
    "# Kind of invoice (False means a “standard bill”)\n",
    "df['bill_type'].value_counts(dropna=False).compute()"
   ]
  },
  {
   "cell_type": "markdown",
   "id": "6cfed497-65ac-4263-a834-a328bc40dc9c",
   "metadata": {
    "tags": []
   },
   "source": [
    "### light_offer_type Analysis"
   ]
  },
  {
   "cell_type": "code",
   "execution_count": null,
   "id": "a34ee440-8d2f-4438-b2ed-00f47b365219",
   "metadata": {},
   "outputs": [],
   "source": [
    "# Kind of plan for the electricity (‘single zone’, ‘bizone’, etc.)\n",
    "df['light_offer_type'].value_counts(dropna=False).compute()"
   ]
  },
  {
   "cell_type": "code",
   "execution_count": null,
   "id": "b993e147-3a8c-4fe7-854d-ae84e5b848da",
   "metadata": {},
   "outputs": [],
   "source": [
    "# I 2 valori di light mi puzzano, famo uno strip?\n",
    "df['light_offer_type'] = df['light_offer_type'].str.strip()\n",
    "df['light_offer_type'].value_counts(dropna=False).compute()\n",
    "# GHAVEVO RAGIONE Vè"
   ]
  },
  {
   "cell_type": "markdown",
   "id": "c0c0a146-d146-4ac0-9402-f97d6450f4d6",
   "metadata": {
    "tags": []
   },
   "source": [
    "## Check Column Uniqueness DA PORTARE E DA VERIFICARE"
   ]
  },
  {
   "cell_type": "code",
   "execution_count": null,
   "id": "ec3c8045-4a6d-473d-ac6c-5207fcb2cb69",
   "metadata": {},
   "outputs": [],
   "source": [
    "# The story changes here, we got these pairs as candidates as duplicate columns \n",
    "# (those which have same values for each row.)\n",
    "\n",
    "# ATTENZIONE!! Probabile che le date del gas siano invertite, trovare un modo per confermarlo"
   ]
  },
  {
   "cell_type": "code",
   "execution_count": null,
   "id": "1324ca91-76de-4c07-a0b4-de1f8f906f90",
   "metadata": {},
   "outputs": [],
   "source": [
    "## Sserve il date formatter!!\n",
    "df['emission_date'].head()"
   ]
  },
  {
   "cell_type": "markdown",
   "id": "a23f4558-16a1-461a-9952-e4e889c4d52b",
   "metadata": {
    "tags": []
   },
   "source": [
    "## Find Data Mismatch"
   ]
  },
  {
   "cell_type": "code",
   "execution_count": null,
   "id": "572be326-9c66-4937-9ea8-8280c57f2fd9",
   "metadata": {},
   "outputs": [],
   "source": [
    "# VERY time consuming, expecially with DASK, with DASK_CUDF It is a lot faster but It takes a lot of time as well\n",
    "# base.get_duplicate_columns()\n",
    "# Ne vengono individuate solo 5 di coppie 100% fedeli, \n",
    "# ma cambia la questione se abbassiamo la soglia? Ci sono degli errori sopra perchè \n",
    "# quelle 100% uguali non vengono riconosciute, mentre qua sì\n",
    "duplicates = [('date', 'light_start_date'),('date', 'gas_end_date'),('light_start_date', 'gas_end_date'),('light_end_date', 'gas_start_date'),('gas_average_cost', 'average_unit_gas_cost')]\n",
    "duplicates"
   ]
  },
  {
   "cell_type": "code",
   "execution_count": null,
   "id": "05bed063-27f9-4ca4-bf67-86a7f1ae6422",
   "metadata": {},
   "outputs": [],
   "source": [
    "df['date'] == df['light_start_date']"
   ]
  },
  {
   "cell_type": "code",
   "execution_count": null,
   "id": "ac72f65a-64f8-4191-9ce1-7acb3b021654",
   "metadata": {},
   "outputs": [],
   "source": [
    "base['tv'].head()"
   ]
  },
  {
   "cell_type": "markdown",
   "id": "81050d73-c5b1-44e8-8761-c55880c23b1c",
   "metadata": {
    "tags": []
   },
   "source": [
    "# BOOKMARK #\n",
    "# BOOKMARK #\n",
    "# BOOKMARK #\n",
    "# BOOKMARK #\n",
    "# BOOKMARK #\n",
    "# BOOKMARK #\n",
    "# BOOKMARK #\n",
    "# BOOKMARK #\n",
    "# BOOKMARK #\n",
    "# BOOKMARK #"
   ]
  },
  {
   "cell_type": "code",
   "execution_count": null,
   "id": "4781476d-4890-49a1-acf7-626967860506",
   "metadata": {},
   "outputs": [],
   "source": [
    "#poichè probabilmente con i <NA> ho un sacco di problemi \"lasciatemi castaareeee.. \n",
    "#con la chitarra in maaanoooo, lasciatemi castare.. sono un italiano\"\n",
    "\n",
    "df = base.fill_nan(np.nan)\n",
    "df"
   ]
  },
  {
   "cell_type": "code",
   "execution_count": null,
   "id": "1d9a4719-cc4e-4d30-bc2f-352feea57d43",
   "metadata": {},
   "outputs": [],
   "source": [
    "# setto le colonne con i tipi di dato in mappone\n",
    "df = base.cast_columns_types(mappone)"
   ]
  },
  {
   "cell_type": "code",
   "execution_count": null,
   "id": "7fe36af3-ab2d-4174-bfd1-33c0c0fe09cf",
   "metadata": {},
   "outputs": [],
   "source": [
    "df['emission_date']"
   ]
  },
  {
   "cell_type": "code",
   "execution_count": null,
   "id": "74f6bb5d-32a0-4d04-94f5-2c59fe7f84a6",
   "metadata": {},
   "outputs": [],
   "source": [
    "# Abbiamo dei valori non castabili a float nelle colonne interessate\n",
    "# Vediamo cos'ho nelle colonne str\n",
    "#print(string_cols)\n",
    "for c in string_cols:\n",
    "    print(\"Col: \", c)\n",
    "    cosa = df[c].str.replace(',', '.').str.split(expand=True).iloc[:,-1].value_counts().index[0]\n",
    "    print(cosa)"
   ]
  },
  {
   "cell_type": "code",
   "execution_count": null,
   "id": "98010c15-5808-4c3a-b4c4-761ff0a9ede2",
   "metadata": {},
   "outputs": [],
   "source": [
    "# C'è della merda, ottimizzo la cosa riducendo il campo d'analisi a solo le colonne float64 di mappone\n",
    "mappone_float64_cols = []\n",
    "\n",
    "for (k, v) in mappone.items():\n",
    "    if v == 'float64':\n",
    "        mappone_float64_cols.append(k)\n",
    "\n",
    "final_float_cols = [x for x in mappone_float64_cols if x not in float_cols]\n",
    "mappone_float64_cols\n",
    "float_cols\n",
    "final_float_cols = [x for x in final_float_cols if x not in ['gas_offer']]"
   ]
  },
  {
   "cell_type": "code",
   "execution_count": null,
   "id": "395b5570-4329-46e8-9006-6d1c43d64634",
   "metadata": {},
   "outputs": [],
   "source": [
    "# Altro caso di colonna dal dubbio gusto\n",
    "df['gas_offer']"
   ]
  },
  {
   "cell_type": "code",
   "execution_count": null,
   "id": "7bc0ca1a-5ca8-47cd-b627-6ce4d8b56db4",
   "metadata": {},
   "outputs": [],
   "source": [
    "# Vediamo cos'ho nelle colonne str\n",
    "#print(string_cols)\n",
    "lista_rename = []\n",
    "for c in final_float_cols:\n",
    "    cosa = df[c].str.replace(',', '.').str.split(expand=True).iloc[:,-1].value_counts().index[0]\n",
    "    if cosa != '0.00' and cosa != 'nan':\n",
    "        print(\"Col: \", c + ' ' + cosa)\n",
    "        print(cosa)\n",
    "        p = {\n",
    "            c : c + ' ' + cosa\n",
    "        }\n",
    "        lista_rename.append(p)\n",
    "        df[c] = df[c].str.replace(',', '.').str.extract('-?([0-9]*\\.[0-9]+)').astype(float)\n",
    "df"
   ]
  },
  {
   "cell_type": "code",
   "execution_count": null,
   "id": "e679c5eb-b5f8-4b47-a330-7389b63fc996",
   "metadata": {},
   "outputs": [],
   "source": [
    "# voglio trovare le colonne str che diventeranno float che generano problemi\n",
    "# VIRGOLE DI MERDA\n",
    "problematiche = [x for x in string_cols if x in final_float_cols]\n",
    "for p in problematiche:\n",
    "    print(p)\n",
    "    df[p] = df[p].str.replace(',', '.').str.split(expand=True).iloc[:,-1].value_counts().index[0]\n",
    "    print(float(df[p][0]))"
   ]
  },
  {
   "cell_type": "code",
   "execution_count": null,
   "id": "67aa4ba2-1fc3-443d-8b55-6a2f8049363a",
   "metadata": {},
   "outputs": [],
   "source": [
    "float(0.48)"
   ]
  },
  {
   "cell_type": "code",
   "execution_count": null,
   "id": "ce5e86e5-e375-4ddc-8f17-a056b7da722b",
   "metadata": {},
   "outputs": [],
   "source": [
    "# Ho diverse colonne da cui eliminare le unità di misura...\n",
    "df['gas_average_cost'].dtype"
   ]
  },
  {
   "cell_type": "code",
   "execution_count": null,
   "id": "be3bc08b-dba4-4d93-9180-a71ea8f5abbc",
   "metadata": {},
   "outputs": [],
   "source": [
    "# in 'bill_type' False == 'standard bill'\n",
    "# Funziona solo se la funzione sopra non va in errore.\n",
    "\n",
    "df = base.replace('bill_type', 'False', 'standard bill', False)\n",
    "df"
   ]
  },
  {
   "cell_type": "code",
   "execution_count": null,
   "id": "05a715d5-1265-49c4-a19b-cfa23392db72",
   "metadata": {},
   "outputs": [],
   "source": [
    "#Verifica della bontà della sostituzione\n",
    "df['bill_type'].value_counts()"
   ]
  },
  {
   "cell_type": "code",
   "execution_count": null,
   "id": "eb04a4ce-97f8-43c4-b85b-503e820d0951",
   "metadata": {},
   "outputs": [],
   "source": []
  },
  {
   "cell_type": "code",
   "execution_count": null,
   "id": "41117089-e1e2-45b9-ad30-deca44abfafb",
   "metadata": {},
   "outputs": [],
   "source": [
    "# Non c'è nessuna riga tutta nulla, Giulio è contento\n",
    "df.dropna(how='all')"
   ]
  },
  {
   "cell_type": "code",
   "execution_count": null,
   "id": "4b690548-b142-4b3c-a908-0321b6cd04cd",
   "metadata": {},
   "outputs": [],
   "source": []
  },
  {
   "cell_type": "markdown",
   "id": "6bedd4d8-9cf3-4f15-8fc4-da9f81cb57ff",
   "metadata": {
    "tags": []
   },
   "source": [
    "# 3. STRUCTURING"
   ]
  },
  {
   "cell_type": "code",
   "execution_count": null,
   "id": "5410141b-5b61-4a8c-9e7d-8a4ec598ed04",
   "metadata": {},
   "outputs": [],
   "source": [
    "''' \n",
    "+++++ DATA STRUCTURING +++++\n",
    "    • Change column data types\n",
    "    • Delete, split or merge columns\n",
    "    • Pivot and unpivot\n",
    "'''"
   ]
  },
  {
   "cell_type": "markdown",
   "id": "18378132-db87-4cf6-947c-bfd22172d983",
   "metadata": {
    "tags": []
   },
   "source": [
    "## Change Column Data Types "
   ]
  },
  {
   "cell_type": "code",
   "execution_count": null,
   "id": "7e576374-43a2-4c2a-95a3-8ec7a6b3e2ce",
   "metadata": {},
   "outputs": [],
   "source": [
    "# aggregabile con lo step precedente\n",
    "# L'HO FATTO SOPRA, è DA ORDINARE E PERFEZIONARE"
   ]
  },
  {
   "cell_type": "markdown",
   "id": "3fb61134-60ae-4a61-9a63-aaeefccb4763",
   "metadata": {
    "tags": []
   },
   "source": [
    "## Delete, Split or Merge Columns"
   ]
  },
  {
   "cell_type": "code",
   "execution_count": null,
   "id": "7418351e-13fb-4dd3-9c52-d3ef3673349d",
   "metadata": {},
   "outputs": [],
   "source": [
    "# rimozione colonne duplicate "
   ]
  },
  {
   "cell_type": "markdown",
   "id": "26d594b3-c37e-4652-a81d-92cd626fc845",
   "metadata": {
    "tags": []
   },
   "source": [
    "## Pivot and Unpivot"
   ]
  },
  {
   "cell_type": "code",
   "execution_count": null,
   "id": "489a40b6-30c8-436e-b5fa-5ad5647bf75c",
   "metadata": {},
   "outputs": [],
   "source": [
    "# non saprei cosa farci"
   ]
  },
  {
   "cell_type": "code",
   "execution_count": null,
   "id": "b17ffccd-f8b4-40de-a26d-b93c2e012154",
   "metadata": {},
   "outputs": [],
   "source": []
  },
  {
   "cell_type": "markdown",
   "id": "f6a7fb91-f694-4d13-9f35-840a4d4e25d6",
   "metadata": {
    "jp-MarkdownHeadingCollapsed": true,
    "tags": []
   },
   "source": [
    "# 4. ENRICHMENT"
   ]
  },
  {
   "cell_type": "code",
   "execution_count": null,
   "id": "27d5b807-5156-4019-a5c9-3eee5f404a0f",
   "metadata": {},
   "outputs": [],
   "source": [
    "''' \n",
    "+++++ DATA ENRICHMENT +++++\n",
    "    • Calculate columns using expressions\n",
    "    • Set primary key column\n",
    "    • Join or append DataFrames\n",
    "    • Group by and aggregate records\n",
    "    • Scale column values into a certain range\n",
    "    • Encode categorical data (one-hot encoding and label encoding)\n",
    "'''"
   ]
  },
  {
   "cell_type": "markdown",
   "id": "cb59c0d4-97b7-462d-8289-cc565ae0bc62",
   "metadata": {
    "tags": []
   },
   "source": [
    "## Calculate Columns Using Expressions"
   ]
  },
  {
   "cell_type": "code",
   "execution_count": null,
   "id": "8a771e1e-10f0-4643-b28e-6be4e78d6f53",
   "metadata": {},
   "outputs": [],
   "source": []
  },
  {
   "cell_type": "markdown",
   "id": "6dd5ffea-fc7f-4835-ab40-0fadcf4835ff",
   "metadata": {
    "tags": []
   },
   "source": [
    "## Set PK column"
   ]
  },
  {
   "cell_type": "code",
   "execution_count": null,
   "id": "bea8b572-afdb-4e07-9057-652e9594ea38",
   "metadata": {},
   "outputs": [],
   "source": []
  },
  {
   "cell_type": "code",
   "execution_count": null,
   "id": "1ae618cd-732e-492a-a366-273fb73b3bae",
   "metadata": {},
   "outputs": [],
   "source": []
  },
  {
   "cell_type": "markdown",
   "id": "723bbd79-52b7-4aa3-9b16-dcb95f98d233",
   "metadata": {
    "jp-MarkdownHeadingCollapsed": true,
    "tags": []
   },
   "source": [
    "# 5. FILTERING"
   ]
  },
  {
   "cell_type": "code",
   "execution_count": null,
   "id": "cde0b345-80fe-4b12-9092-bc1402ba246a",
   "metadata": {},
   "outputs": [],
   "source": [
    "''' \n",
    "+++++ DATA FILTERING +++++\n",
    "    • Sample rows\n",
    "    • Select a subset of rows through a user-defined query\n",
    "'''"
   ]
  },
  {
   "cell_type": "markdown",
   "id": "0cb93477-5592-41c8-af8f-81c874e40af4",
   "metadata": {
    "tags": []
   },
   "source": [
    "## Sample Rows"
   ]
  },
  {
   "cell_type": "code",
   "execution_count": null,
   "id": "954bdb17-5f56-4d54-97aa-3774b3a1d5e5",
   "metadata": {},
   "outputs": [],
   "source": [
    "df.sample(20)"
   ]
  },
  {
   "cell_type": "code",
   "execution_count": null,
   "id": "dd3fa848-5fa5-4ea0-9295-faf321a30926",
   "metadata": {},
   "outputs": [],
   "source": []
  },
  {
   "cell_type": "code",
   "execution_count": null,
   "id": "f6309fab-e28f-42f8-a645-b9e245afeda5",
   "metadata": {},
   "outputs": [],
   "source": [
    "# SELECT A SUBSET OF ROWS?!?"
   ]
  },
  {
   "cell_type": "code",
   "execution_count": null,
   "id": "2de37c65-a55b-4e16-9324-235be9cfbffd",
   "metadata": {},
   "outputs": [],
   "source": []
  },
  {
   "cell_type": "markdown",
   "id": "68c6e204-3d7a-49f3-8fc0-221ee6a38984",
   "metadata": {
    "jp-MarkdownHeadingCollapsed": true,
    "tags": []
   },
   "source": [
    "# 6. CLEANING"
   ]
  },
  {
   "cell_type": "code",
   "execution_count": null,
   "id": "8000e0ea-4ac8-4fae-842b-be1c17b7c02f",
   "metadata": {},
   "outputs": [],
   "source": [
    "''' \n",
    "+++++ DATA CLEANING +++++\n",
    "    • Change data format and case\n",
    "    • Deduplicate data\n",
    "    • Missing value imputation\n",
    "    • Find and replace values\n",
    "'''"
   ]
  },
  {
   "cell_type": "code",
   "execution_count": null,
   "id": "e21bfef2-48af-430b-b4fa-59473ee7c618",
   "metadata": {},
   "outputs": [],
   "source": [
    "# CHANGE DATA FORMAT AND CASE\n",
    "# data format dovrebbe già essere fatto a questo punto\n",
    "# case pure se vogliamo aver fatto tutto per bene"
   ]
  },
  {
   "cell_type": "code",
   "execution_count": null,
   "id": "bdda4834-40c3-4f27-b8ea-38e08c763753",
   "metadata": {},
   "outputs": [],
   "source": []
  },
  {
   "cell_type": "code",
   "execution_count": null,
   "id": "cb4ba56f-9a7d-4a93-858b-e52c837a0a71",
   "metadata": {},
   "outputs": [],
   "source": [
    "# DEDUPLICATE DATA\n",
    "# controllo se ho più bollette uguali dello stesso cliente"
   ]
  },
  {
   "cell_type": "code",
   "execution_count": null,
   "id": "abd0f273-b505-4e1f-84e2-7c3d8255cc64",
   "metadata": {},
   "outputs": [],
   "source": [
    "ddf"
   ]
  },
  {
   "cell_type": "code",
   "execution_count": null,
   "id": "c4a2e155-cbc3-4242-ac59-cb17b721a6d5",
   "metadata": {},
   "outputs": [],
   "source": [
    "# MISSING VALUE IMPUTATION\n",
    "# qua? Spero di averne pochissimi nel caso"
   ]
  },
  {
   "cell_type": "code",
   "execution_count": null,
   "id": "ffe383a1-6d2f-4557-87d2-832b7dae0d42",
   "metadata": {},
   "outputs": [],
   "source": []
  },
  {
   "cell_type": "code",
   "execution_count": null,
   "id": "0d97dcb2-0978-4500-afdd-9917976d5b08",
   "metadata": {},
   "outputs": [],
   "source": [
    "# FIND AND REPLACE VALUES\n",
    "# ossia?"
   ]
  },
  {
   "cell_type": "code",
   "execution_count": null,
   "id": "16baafbf-d295-490a-875f-c0d05456d79e",
   "metadata": {},
   "outputs": [],
   "source": []
  },
  {
   "cell_type": "code",
   "execution_count": null,
   "id": "037123c0-8af4-473d-aa7e-34dba664f07d",
   "metadata": {},
   "outputs": [],
   "source": [
    "x = np.nan\n",
    "float(x)"
   ]
  }
 ],
 "metadata": {
  "kernelspec": {
   "display_name": "Python 3",
   "language": "python",
   "name": "python3"
  },
  "language_info": {
   "codemirror_mode": {
    "name": "ipython",
    "version": 3
   },
   "file_extension": ".py",
   "mimetype": "text/x-python",
   "name": "python",
   "nbconvert_exporter": "python",
   "pygments_lexer": "ipython3",
   "version": "3.7.12"
  }
 },
 "nbformat": 4,
 "nbformat_minor": 5
}
