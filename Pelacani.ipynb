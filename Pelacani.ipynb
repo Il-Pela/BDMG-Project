{
 "cells": [
  {
   "cell_type": "markdown",
   "id": "dbb5d664-be27-4087-b135-28c1c58b6883",
   "metadata": {
    "jp-MarkdownHeadingCollapsed": true,
    "tags": []
   },
   "source": [
    "# FUNZIONI DASK_CUDF CHE NON VANNO (PER FARE CONFRONTO)"
   ]
  },
  {
   "cell_type": "markdown",
   "id": "2362c796-ec3d-42ed-be99-91c4d8a43c4a",
   "metadata": {
    "jp-MarkdownHeadingCollapsed": true,
    "tags": []
   },
   "source": [
    "## Questa è la sezione da portare per far vedere i limiti di dask_cudf"
   ]
  },
  {
   "cell_type": "markdown",
   "id": "4f4fa7d6-3173-4d32-a5c3-b6c4d848391b",
   "metadata": {
    "jp-MarkdownHeadingCollapsed": true,
    "tags": []
   },
   "source": [
    "### Conversione colonna da stringa a datetime"
   ]
  },
  {
   "cell_type": "markdown",
   "id": "ed955ae5-dfed-44ed-80fb-5783e93cbb1a",
   "metadata": {},
   "source": [
    "Errore che restituisce:\n",
    "\"TypeError: Implicit conversion to a host NumPy array via __array__ is not allowed, To explicitly construct a GPU matrix, consider using .to_cupy()\n",
    "To explicitly construct a host matrix, consider using .to_numpy().\""
   ]
  },
  {
   "cell_type": "code",
   "execution_count": null,
   "id": "48c9143a-7b43-4333-bf5a-b335311f840a",
   "metadata": {},
   "outputs": [],
   "source": [
    "#CONVERSIONE COLONNE SU DASK_CUDF \n",
    "mesi = {\n",
    "    'gennaio': '01',\n",
    "    'febbraio': '02',\n",
    "    'marzo' : '03',\n",
    "    'aprile': '04',\n",
    "    'maggio': '05',\n",
    "    'giugno': '06',\n",
    "    'luglio': '07',\n",
    "    'agosto': '08',\n",
    "    'settembre': '09',\n",
    "    'ottobre': '10',\n",
    "    'novembre': '11',\n",
    "    'dicembre': '12',\n",
    "}\n",
    "cols = {\n",
    "    0:'day',\n",
    "    1:'month',\n",
    "    2:'year'\n",
    "}\n",
    "a = base.split('gas_start_date', 2)\n",
    "a = a.rename(columns=cols)\n",
    "a['month'] = a['month'].str.lower().map(mesi)\n",
    "dd.to_datetime(a).head()"
   ]
  },
  {
   "cell_type": "markdown",
   "id": "991905c6-c6c2-4149-9a89-24b036c282fe",
   "metadata": {
    "jp-MarkdownHeadingCollapsed": true,
    "tags": []
   },
   "source": [
    "### Conversione colonna da stringa in formato \"1,22 unita_misura\" a float"
   ]
  },
  {
   "cell_type": "code",
   "execution_count": null,
   "id": "ea098b30-378d-438e-967c-ed9ce6c76cdf",
   "metadata": {},
   "outputs": [],
   "source": [
    "#rimozione unità di misura\n",
    "base.strip(['average_gas_bill_cost'], '€/smc')['average_gas_bill_cost']\n",
    "#sostituzione della , con .\n",
    "base.replace(['average_gas_bill_cost'], ',', '.', regex=True)['average_gas_bill_cost']"
   ]
  },
  {
   "cell_type": "markdown",
   "id": "01e6c1c5-e0bc-4e35-bbfd-108507fba2aa",
   "metadata": {},
   "source": [
    "#### Le operazioni preliminari vanno a buon fine, qua si aprono più scenari (fallimentari)"
   ]
  },
  {
   "cell_type": "markdown",
   "id": "3ce3f032-062e-40c6-9f2f-1f332b983483",
   "metadata": {
    "jp-MarkdownHeadingCollapsed": true,
    "tags": []
   },
   "source": [
    "questa soluzione è quella corretta su dask normale, utilizzando dask_cudf però genera un errore dovuto alla conversione implicita di un array in un numpy array, cosa non fattibile all'interno della GPU quindi consiglia di costruire esplicitamente una matrice tramite Cupy (Cuda Python) ma queste sono operazioni interne alla libreria"
   ]
  },
  {
   "cell_type": "code",
   "execution_count": null,
   "id": "aa469693-7f56-4ef8-b666-fdfd88ea52dd",
   "metadata": {},
   "outputs": [],
   "source": [
    "dd.to_numeric(base.get_df()['average_gas_bill_cost'])\n",
    " "
   ]
  },
  {
   "cell_type": "markdown",
   "id": "cc229661-d947-44e5-a36d-3b343c4aeba3",
   "metadata": {},
   "source": [
    "Qua da 2 diverse tipologie di errori: una dovuta ai metadati e l'altra alla presenza di valori non convertibili, anche togliedo tutti i valori nan con [~base['average_gas_bill_cost'].isna()] la situazione non cambia"
   ]
  },
  {
   "cell_type": "code",
   "execution_count": null,
   "id": "06b38d04-6dfb-4514-a9f9-61c861eb06b1",
   "metadata": {},
   "outputs": [],
   "source": [
    "base.get_df()['average_gas_bill_cost'].map_partitions(cudf.to_numeric, 'raise')"
   ]
  },
  {
   "cell_type": "markdown",
   "id": "c0ed19a8-c3a2-48a6-822c-eb89bbf08faa",
   "metadata": {
    "tags": []
   },
   "source": [
    "# Pipeline"
   ]
  },
  {
   "cell_type": "code",
   "execution_count": null,
   "id": "913e94e4-2957-4530-b39f-42e148900131",
   "metadata": {},
   "outputs": [],
   "source": [
    "''' \n",
    "+++++ UTILITY ATTRIBUTES +++++\n",
    "    \n",
    "    user_code --> String --> (Anonymized) code for the customer that owns this utility\n",
    "    customer_code --> String --> Combined with user_code provides a unique identifier for the utility. Even this field is anonymized\n",
    "    city --> String --> City where the utility is located\n",
    "    address --> String --> (Anonymized) address of the utility location\n",
    "'''"
   ]
  },
  {
   "cell_type": "code",
   "execution_count": null,
   "id": "85cf4241-0bc3-403d-8448-ac39e63c2d54",
   "metadata": {},
   "outputs": [],
   "source": [
    "''' \n",
    "+++++ CUSTOMER ATTRIBUTES +++++\n",
    "    \n",
    "    user_code --> String --> (Anonymized) code that identifies the customer\n",
    "    nominative --> String --> (Anonymized) customer name\n",
    "    sex --> String --> Sex of the customer. It could be ‘M’, ‘F’, ‘P’, with ‘P’ denoting that the customer is a commercial activity (VAT number)\n",
    "    age --> Int --> Age of the customer, set to null for commercial activities (sex = ‘P’). Its value must be >= 18\n",
    "'''"
   ]
  },
  {
   "cell_type": "code",
   "execution_count": null,
   "id": "437bd361-c8b2-4cc8-b518-0bb50fddaa89",
   "metadata": {},
   "outputs": [],
   "source": [
    "''' \n",
    "+++++ INVOICE ATTRIBUTES +++++\n",
    "    \n",
    "    bill_id --> Int --> Invoice identifier\n",
    "    F1_kWh --> Float --> kWh of electricity consumed in the F1 time slot\n",
    "    F2_kWh --> Float --> kWh of electricity consumed in the F2 time slot\n",
    "    F3_kWh --> Float --> kWh of electricity consumed in the F3 time slot \n",
    "    date --> Date --> Start date\n",
    "    light_start_date --> Date --> Start date of electricity invoice\n",
    "    light_end_date --> Date --> End date of electricity invoice\n",
    "    tv --> Float --> Television fee to pay\n",
    "    gas_amount --> Float --> Gas fee to pay\n",
    "    gas_average_cost --> Float --> Average cost of gas\n",
    "    light_average_cost --> Float --> Average cost of electricity\n",
    "    emission_date --> Date --> Emission date\n",
    "    supply_type --> String --> Supply type (‘light’, ‘gas’, ‘gas and light’)\n",
    "    gas_start_date --> Date --> Start date of gas invoice\n",
    "    gas_end_date --> Date --> End date of gas invoice\n",
    "    extra_fees --> Float --> Extra fees to pay\n",
    "    gas_consumption --> Float --> Consumed gas\n",
    "    light_consumption --> Float --> Consumed electricity\n",
    "    gas_offer --> Float --> Name of the subscribed gas plan (anonymized)\n",
    "    light_offer_type --> String --> Kind of plan for the electricity (‘single zone’, ‘bizone’, etc.)\n",
    "    light_offer --> String --> Name of the subscribed electricity plan (anonymized)\n",
    "    total_amount --> Float --> gas_amount + light_amount + extra_fees\n",
    "    howmuch_pay --> Float --> Overall amount to pay, computed as total_amount + tv\n",
    "    light_amount --> Float --> Amount to pay for the electricity\n",
    "    average_unit_light_cost --> Float --> Average cost for electricity\n",
    "    average_light_bill_cost --> Float --> Average cost for the electricity invoice\n",
    "    average_unit_gas_cost --> Float --> Average cost for gas\n",
    "    average_gas_bill_cost --> Float --> Average cost for the gas invoice\n",
    "    billing_frequency --> String --> Billing frequency (‘monthly’, ‘quarterly’, etc.)\n",
    "    bill_type --> String --> Kind of invoice (False means a “standard bill”)\n",
    "    gas_system_charges --> Float --> Extra gas fees\n",
    "    light_system_charges --> Float --> Extra electricity fees\n",
    "    gas_material_cost --> Float --> Costs for gas\n",
    "    light_transport_cost --> Float --> Extra electricity fees\n",
    "    gas_transport_cost --> Float --> Extra gas fees\n",
    "    light_material_cost --> Float --> Costs for electricity\n",
    "'''"
   ]
  },
  {
   "cell_type": "code",
   "execution_count": null,
   "id": "421de43f-f87a-4e4e-be7d-eaf78e120993",
   "metadata": {},
   "outputs": [],
   "source": [
    "''' \n",
    "+++++ DATA INGESTION +++++\n",
    "    • Read data from its source\n",
    "    • Study how to deal with data that doesn’t fit in memory (!) --> Da chiede a Gagliardelli\n",
    "    • Locate missing values\n",
    "    • Locate outliers\n",
    "    • Sort data\n",
    "'''"
   ]
  },
  {
   "cell_type": "markdown",
   "id": "4d02f1af-6897-4698-8740-5af95934734b",
   "metadata": {
    "tags": []
   },
   "source": [
    "# Loading Dataset"
   ]
  },
  {
   "cell_type": "code",
   "execution_count": null,
   "id": "91dc8a36-dbef-4fdd-9403-d17c9715230e",
   "metadata": {
    "tags": []
   },
   "outputs": [],
   "source": [
    "import dask_cudf as dc\n",
    "import dask.dataframe as dd\n",
    "import dask.array as da\n",
    "from dask_cuda import LocalCUDACluster\n",
    "from dask.distributed import Client\n",
    "import cudf\n",
    "import numpy as np\n",
    "import graphviz\n",
    "from base_dask_cudf import BaseDfBench\n",
    "base = BaseDfBench()"
   ]
  },
  {
   "cell_type": "code",
   "execution_count": null,
   "id": "c541eab2-0865-407d-9257-34a4bf3d9784",
   "metadata": {},
   "outputs": [],
   "source": [
    "# READ DATA FROM ITS SOURCE\n",
    "# --- remove _sample one day\n",
    "\n",
    "# We can use bill_id as the index for our dataset --> meglio di no\n",
    "# base.load_dataset('/data/invoices_sample.csv', 'csv', index_col='bill_id')\n",
    "\n",
    "base.load_dataset('parquet')\n",
    "df = base.get_df()\n",
    "columns = base.get_columns()\n",
    "base.npartitions()"
   ]
  },
  {
   "cell_type": "code",
   "execution_count": null,
   "id": "5c7059fb-8aad-4a56-a2ef-33d086731d3f",
   "metadata": {},
   "outputs": [],
   "source": [
    "#verica di user_code+customer_code = PK utility\n",
    "#PK customer = user_code\n",
    "#PK invoice = bill_id\n",
    "df.groupby(by=['user_code', 'customer_code'])['bill_id'].count().compute()"
   ]
  },
  {
   "cell_type": "markdown",
   "id": "49886f2a-ae2e-4382-b4db-2dcabc1a1c0e",
   "metadata": {
    "jp-MarkdownHeadingCollapsed": true,
    "tags": []
   },
   "source": [
    "## Load big Dataset"
   ]
  },
  {
   "cell_type": "code",
   "execution_count": null,
   "id": "858a44dd-5698-43c0-9940-eb2c256f7416",
   "metadata": {},
   "outputs": [],
   "source": [
    "# STUDY HOW TO DEAL WITH DATA THAT DON'T FIT IN MEMORY (!)\n",
    "# Bella storia\n",
    "!du -sh '/data/invoices_sample.csv'"
   ]
  },
  {
   "cell_type": "code",
   "execution_count": null,
   "id": "8ab296dd-b721-44d5-be76-e2e6bc7d44ce",
   "metadata": {},
   "outputs": [],
   "source": [
    "from dask.distributed import Client, wait\n",
    "from dask_cuda import LocalCUDACluster\n",
    "from dask.utils import parse_bytes\n",
    "import cudf\n",
    "import dask_cudf"
   ]
  },
  {
   "cell_type": "code",
   "execution_count": null,
   "id": "a29b6a29-38f0-4e78-9211-72b48c425cf5",
   "metadata": {},
   "outputs": [],
   "source": [
    "cluster = LocalCUDACluster(\n",
    "    CUDA_VISIBLE_DEVICES=\"0\",\n",
    "    rmm_pool_size=parse_bytes(\"15GB\"), # This GPU has 16GB of memory\n",
    "    device_memory_limit=parse_bytes(\"10GB\"),\n",
    ")\n",
    "client = Client(cluster)\n",
    "client"
   ]
  },
  {
   "cell_type": "code",
   "execution_count": null,
   "id": "3ce51a64-f588-40da-9387-9ada4da19d37",
   "metadata": {},
   "outputs": [],
   "source": [
    "%%time\n",
    "ddf = dask_cudf.read_csv(\"/data/invoices.csv\", chunksize=\"1 GiB\")\n",
    "print(f\"DF partitions: {ddf.npartitions}\")\n",
    "print(f\"DF: {ddf}\")"
   ]
  },
  {
   "cell_type": "markdown",
   "id": "4b34b3ff-2db1-4b25-b6a9-e5b918461d24",
   "metadata": {
    "tags": []
   },
   "source": [
    "# Funzioni utili"
   ]
  },
  {
   "cell_type": "markdown",
   "id": "c1167330-b313-44dd-90c5-6290c85584fc",
   "metadata": {
    "jp-MarkdownHeadingCollapsed": true,
    "tags": []
   },
   "source": [
    "## Da portare"
   ]
  },
  {
   "cell_type": "code",
   "execution_count": 11,
   "id": "0b2113bd-d7a0-43ea-816d-f856762165c6",
   "metadata": {},
   "outputs": [],
   "source": [
    "def col_type(df, find=['numeric']):\n",
    "    \"\"\"\n",
    "    Return a list containing all columns of the specified type\n",
    "    df : dataframe\n",
    "    type : list or single value with the specified value/s\n",
    "    \"\"\"\n",
    "    tipo = []\n",
    "    if type(find) == list:\n",
    "        tipo.extend(find)\n",
    "    else:\n",
    "        tipo.append(find)\n",
    "    \n",
    "    col = set() #no duplicate column name\n",
    "    \n",
    "    for i in tipo:\n",
    "        if i == 'numeric':\n",
    "            col.update(df.select_dtypes(include=np.number).columns)\n",
    "        elif i == 'float':\n",
    "            col.update(df.select_dtypes(include=float).columns)\n",
    "        elif i == 'int':\n",
    "            col.update(df.select_dtypes(include=int).columns)\n",
    "        elif i == 'date':\n",
    "            col.update(df.select_dtypes(include=np.datetime64).columns)\n",
    "        elif i == 'string':\n",
    "            col.update(df.select_dtypes(include=object).columns)\n",
    "            \n",
    "    return list(col)"
   ]
  },
  {
   "cell_type": "code",
   "execution_count": 12,
   "id": "257893b1-c9b9-4755-97f0-3769e17db46a",
   "metadata": {},
   "outputs": [
    {
     "data": {
      "text/plain": [
       "['bill_id',\n",
       " 'gas_consumption',\n",
       " 'light_transport_cost',\n",
       " 'gas_system_charges',\n",
       " 'light_consumption',\n",
       " 'gas_offer',\n",
       " 'light_offer',\n",
       " 'F2_kWh',\n",
       " 'light_system_charges',\n",
       " 'light_average_cost',\n",
       " 'light_material_cost',\n",
       " 'gas_material_cost',\n",
       " 'age',\n",
       " 'F3_kWh',\n",
       " 'F1_kWh',\n",
       " 'gas_transport_cost']"
      ]
     },
     "execution_count": 12,
     "metadata": {},
     "output_type": "execute_result"
    }
   ],
   "source": [
    "col_type(base.get_df())"
   ]
  },
  {
   "cell_type": "code",
   "execution_count": null,
   "id": "972fe111-5a9e-4057-8c79-1e14861fc5fe",
   "metadata": {},
   "outputs": [],
   "source": [
    "def get_duplicate_col_V2(df, soglia=0.9, nan=False):\n",
    "    \"\"\"\n",
    "    General versione of get_duplicate_columns\n",
    "    nan : if True the divisor doesn't consider nan value\n",
    "    \"\"\"\n",
    "    cols = df\n",
    "    duplicate_col = []\n",
    "        \n",
    "    for i in range(cols.shape[1]):\n",
    "        for j in range(i+1, cols.shape[1]):\n",
    "            divisore = cols.shape[0]\n",
    "            if nan == True:\n",
    "                if (cols.iloc[:,i].count() > cols.iloc[:,j].count()):\n",
    "                    divisore = cols.iloc[:,i].count()\n",
    "                else:\n",
    "                    divisore = cols.iloc[:,j].count()\n",
    "            if (cols.iloc[:,i].dtype == cols.iloc[:,j].dtype) and ((cols.iloc[:,i] == cols.iloc[:,j]).sum() / float(divisore) >= soglia):\n",
    "                duplicate_col.append((cols.iloc[:,i].name, cols.iloc[:,j].name))\n",
    "                \n",
    "    return duplicate_col"
   ]
  },
  {
   "cell_type": "code",
   "execution_count": null,
   "id": "181e927d-381a-44fd-9588-8472d0ec24ab",
   "metadata": {},
   "outputs": [],
   "source": [
    "def get_duplicate_columnss(df):\n",
    "    cols = df\n",
    "    duplicate_col = []\n",
    "\n",
    "    for i in range(cols.shape[1]):\n",
    "        for j in range(i+1, cols.shape[1]):\n",
    "            if cols.iloc[:,i].equals(cols.iloc[:,j]):\n",
    "                duplicate_col.append((cols.iloc[:,i].name, cols.iloc[:,j].name))\n",
    "\n",
    "    return duplicate_col"
   ]
  },
  {
   "cell_type": "code",
   "execution_count": null,
   "id": "7c4a9793-bfa7-4929-8727-eda77dafac74",
   "metadata": {},
   "outputs": [],
   "source": [
    "mesi = {\n",
    "    'gennaio': '01',\n",
    "    'febbraio': '02',\n",
    "    'marzo' : '03',\n",
    "    'aprile': '04',\n",
    "    'maggio': '05',\n",
    "    'giugno': '06',\n",
    "    'luglio': '07',\n",
    "    'agosto': '08',\n",
    "    'settembre': '09',\n",
    "    'ottobre': '10',\n",
    "    'novembre': '11',\n",
    "    'dicembre': '12',\n",
    "}\n",
    "\n",
    "def convert_to_datetime(col): \n",
    "    if col.dtype == object:\n",
    "        a = cudf.DataFrame()\n",
    "        a[['day', 'month', 'year']] = col.str.split(expand=True)\n",
    "        a['month'] = a.month.str.lower().map(mesi)\n",
    "        col = cudf.to_datetime(a)\n",
    "    return col"
   ]
  },
  {
   "cell_type": "code",
   "execution_count": null,
   "id": "10349199-c1fc-4635-92ad-22cab1c90401",
   "metadata": {},
   "outputs": [],
   "source": [
    "#CONVERSIONE COLONNE SU DASK_CUDF \n",
    "mesi = {\n",
    "    'gennaio': '01',\n",
    "    'febbraio': '02',\n",
    "    'marzo' : '03',\n",
    "    'aprile': '04',\n",
    "    'maggio': '05',\n",
    "    'giugno': '06',\n",
    "    'luglio': '07',\n",
    "    'agosto': '08',\n",
    "    'settembre': '09',\n",
    "    'ottobre': '10',\n",
    "    'novembre': '11',\n",
    "    'dicembre': '12',\n",
    "}\n",
    "cols = {\n",
    "    0:'day',\n",
    "    1:'month',\n",
    "    2:'year'\n",
    "}\n",
    "a = base.split('gas_start_date', 2)\n",
    "a = a.rename(columns=cols)\n",
    "a['month'] = a['month'].str.lower().map(mesi)\n",
    "dd.to_datetime(a).head()"
   ]
  },
  {
   "cell_type": "markdown",
   "id": "379b4cc7-70b5-48ef-8036-3dda72b8adf1",
   "metadata": {
    "jp-MarkdownHeadingCollapsed": true,
    "tags": []
   },
   "source": [
    "## Da non portare, DIREI"
   ]
  },
  {
   "cell_type": "code",
   "execution_count": null,
   "id": "7dc3941b-c6c6-4b4c-810e-7d4181177c57",
   "metadata": {},
   "outputs": [],
   "source": [
    "# Dovrebbe accorgersi di colonne con similarità > soglia\n",
    "# TODO --> FUNZIONE DA RIFARE PERCHé USA I SET E QUINDI NON CONFRONTA RIGA-RIGA \n",
    "#          MA SET(ELEMENTI_COL1) CON SET(eLEMENTI_COL2)\n",
    "def get_duplicate_col(df, soglia=0.9):\n",
    "        \"\"\"\n",
    "        Return a list of duplicate columns, if exists.\n",
    "        Duplicate columns are those which have same values for each row.\n",
    "        \"\"\"  \n",
    "        cols = df.columns.values\n",
    "        #return [(cols[i], cols[j]) for i in range(0, len(cols)) for j in range(i+1, len(cols)) if self.df[cols[i]].equals(self.df[cols[j]])]\n",
    "        \n",
    "        return [(cols[i], cols[j]) for i in range(0, len(cols)) for j in range(i+1, len(cols)) if len(set(cols[i]) & set(cols[j])) / float(len(set(cols[i]) | set(cols[j]))) > soglia ]"
   ]
  },
  {
   "cell_type": "markdown",
   "id": "ec03d74c-5bb8-424f-a59e-2f54b363ff19",
   "metadata": {
    "tags": []
   },
   "source": [
    "# 1. INGESTION & DISCOVERY"
   ]
  },
  {
   "cell_type": "markdown",
   "id": "d19e692a-681a-48ba-9286-90ec709546c7",
   "metadata": {
    "jp-MarkdownHeadingCollapsed": true,
    "tags": []
   },
   "source": [
    "## Analysis DA PORTARE"
   ]
  },
  {
   "cell_type": "code",
   "execution_count": null,
   "id": "d81b4e20-a9bf-4c4d-8019-8ea8b35aa381",
   "metadata": {},
   "outputs": [],
   "source": [
    "#tipi di dato delle colonne\n",
    "base.get_columns_types()"
   ]
  },
  {
   "cell_type": "code",
   "execution_count": null,
   "id": "c43fea52-e5a6-4087-b02e-2bf5f886e07d",
   "metadata": {},
   "outputs": [],
   "source": [
    "'''\n",
    "import re\n",
    "#df['light_amount'].str.replace(',', '.').str.extract('-?([0-9]*\\.[0-9]+)') \n",
    "print(cudf.to_numeric(df['light_amount'].str.replace(',', '.'), errors='coerce').isna().sum()  )\n",
    "df['light_amount'].isna().sum()\n",
    "'''"
   ]
  },
  {
   "cell_type": "code",
   "execution_count": null,
   "id": "7ce9dbeb-cd43-4728-86cd-2a323d8ad9a5",
   "metadata": {},
   "outputs": [],
   "source": [
    "#Ottenere unità di misura\n",
    "base.split('average_gas_bill_cost', 1)[1].value_counts().index.compute()[0]"
   ]
  },
  {
   "cell_type": "code",
   "execution_count": null,
   "id": "4c37dff6-c15e-4db5-8c3e-5d3bee29afb2",
   "metadata": {},
   "outputs": [],
   "source": [
    "# Rimozione unità di misura\n",
    "base.strip(['average_gas_bill_cost'], '€/smc')['average_gas_bill_cost'].head()"
   ]
  },
  {
   "cell_type": "code",
   "execution_count": null,
   "id": "16461fcd-7be3-457b-8a42-13526c6bb728",
   "metadata": {},
   "outputs": [],
   "source": [
    "base.replace(['average_gas_bill_cost'], ',', '.', regex=True)['average_gas_bill_cost'].head()"
   ]
  },
  {
   "cell_type": "code",
   "execution_count": null,
   "id": "31de93cb-781d-42e9-b02e-768d241b6d25",
   "metadata": {},
   "outputs": [],
   "source": [
    "dd.to_numeric(base.get_df()['average_gas_bill_cost'])"
   ]
  },
  {
   "cell_type": "code",
   "execution_count": null,
   "id": "5352614b-a018-4468-921f-fa3582705362",
   "metadata": {},
   "outputs": [],
   "source": [
    "base.get_df()['average_gas_bill_cost'].map_partitions(cudf.to_numeric, 'raise').tail()"
   ]
  },
  {
   "cell_type": "code",
   "execution_count": null,
   "id": "2c490935-fa3d-4b98-9a14-ce332115bf51",
   "metadata": {},
   "outputs": [],
   "source": [
    "base.get_df()['average_gas_bill_cost'] = dd.to_numeric(base.get_df()['average_gas_bill_cost'], errors='coerce')\n",
    "base.get_df().head()"
   ]
  },
  {
   "cell_type": "code",
   "execution_count": 13,
   "id": "bb340081-e462-46cd-bf4b-49dec57566ab",
   "metadata": {},
   "outputs": [],
   "source": [
    "# Trovare le tipologie di colonne a seconda della tipologia\n",
    "int_cols = col_type(df, find=['int'])\n",
    "string_cols = col_type(df, find=['string']) #object\n",
    "float_cols = col_type(df, find=['float'])\n",
    "numeric_cols = col_type(df, find=['numeric'])\n",
    "date_cols = col_type(df, find=['date'])"
   ]
  },
  {
   "cell_type": "code",
   "execution_count": 15,
   "id": "e3b04cdb-389d-4842-bc55-fab3798f72d1",
   "metadata": {},
   "outputs": [
    {
     "data": {
      "text/html": [
       "<div>\n",
       "<style scoped>\n",
       "    .dataframe tbody tr th:only-of-type {\n",
       "        vertical-align: middle;\n",
       "    }\n",
       "\n",
       "    .dataframe tbody tr th {\n",
       "        vertical-align: top;\n",
       "    }\n",
       "\n",
       "    .dataframe thead th {\n",
       "        text-align: right;\n",
       "    }\n",
       "</style>\n",
       "<table border=\"1\" class=\"dataframe\">\n",
       "  <thead>\n",
       "    <tr style=\"text-align: right;\">\n",
       "      <th></th>\n",
       "      <th>bill_id</th>\n",
       "      <th>F1_kWh</th>\n",
       "      <th>F2_kWh</th>\n",
       "      <th>F3_kWh</th>\n",
       "      <th>city</th>\n",
       "      <th>address</th>\n",
       "      <th>nominative</th>\n",
       "      <th>sex</th>\n",
       "      <th>age</th>\n",
       "      <th>user_code</th>\n",
       "      <th>...</th>\n",
       "      <th>average_gas_bill_cost</th>\n",
       "      <th>customer_code</th>\n",
       "      <th>billing_frequency</th>\n",
       "      <th>bill_type</th>\n",
       "      <th>gas_system_charges</th>\n",
       "      <th>light_system_charges</th>\n",
       "      <th>gas_material_cost</th>\n",
       "      <th>light_transport_cost</th>\n",
       "      <th>gas_transport_cost</th>\n",
       "      <th>light_material_cost</th>\n",
       "    </tr>\n",
       "  </thead>\n",
       "  <tbody>\n",
       "    <tr>\n",
       "      <th>1611</th>\n",
       "      <td>1611</td>\n",
       "      <td>23311.0</td>\n",
       "      <td>2219.0</td>\n",
       "      <td>467.0</td>\n",
       "      <td>VIETRI DI POTENZA</td>\n",
       "      <td>&lt;NA&gt;</td>\n",
       "      <td>&lt;NA&gt;</td>\n",
       "      <td>P</td>\n",
       "      <td>0</td>\n",
       "      <td>8CE314D06FEFFD54C0F1497C20C479F376102747</td>\n",
       "      <td>...</td>\n",
       "      <td>&lt;NA&gt;</td>\n",
       "      <td>F631ED0EF8EC71428366F15C369AA53792A6F20D</td>\n",
       "      <td>monthly</td>\n",
       "      <td>False</td>\n",
       "      <td>&lt;NA&gt;</td>\n",
       "      <td>1176.31</td>\n",
       "      <td>&lt;NA&gt;</td>\n",
       "      <td>481.81</td>\n",
       "      <td>&lt;NA&gt;</td>\n",
       "      <td>2067.89</td>\n",
       "    </tr>\n",
       "    <tr>\n",
       "      <th>1627</th>\n",
       "      <td>1627</td>\n",
       "      <td>210.0</td>\n",
       "      <td>149.0</td>\n",
       "      <td>226.0</td>\n",
       "      <td>VIETRI DI POTENZA</td>\n",
       "      <td>&lt;NA&gt;</td>\n",
       "      <td>&lt;NA&gt;</td>\n",
       "      <td>P</td>\n",
       "      <td>45</td>\n",
       "      <td>A1E7C992D46A2D6D911C3595DF603D3F2C6BEB37</td>\n",
       "      <td>...</td>\n",
       "      <td>&lt;NA&gt;</td>\n",
       "      <td>1E9BC1B19300B6E472980894714A4C8382C565EA</td>\n",
       "      <td>monthly</td>\n",
       "      <td>False</td>\n",
       "      <td>&lt;NA&gt;</td>\n",
       "      <td>76.08</td>\n",
       "      <td>&lt;NA&gt;</td>\n",
       "      <td>50.45</td>\n",
       "      <td>&lt;NA&gt;</td>\n",
       "      <td>85.57</td>\n",
       "    </tr>\n",
       "    <tr>\n",
       "      <th>1639</th>\n",
       "      <td>1639</td>\n",
       "      <td>95.0</td>\n",
       "      <td>52.0</td>\n",
       "      <td>105.0</td>\n",
       "      <td>VIETRI DI POTENZA</td>\n",
       "      <td>&lt;NA&gt;</td>\n",
       "      <td>&lt;NA&gt;</td>\n",
       "      <td>P</td>\n",
       "      <td>0</td>\n",
       "      <td>3CE203296BE19C1257020DA7EFEB84A0D3F4F7B7</td>\n",
       "      <td>...</td>\n",
       "      <td>&lt;NA&gt;</td>\n",
       "      <td>CC5C0DB0AA0034008B3398775B1EC89FC21A9DDB</td>\n",
       "      <td>monthly</td>\n",
       "      <td>False</td>\n",
       "      <td>&lt;NA&gt;</td>\n",
       "      <td>40.80</td>\n",
       "      <td>&lt;NA&gt;</td>\n",
       "      <td>29.47</td>\n",
       "      <td>&lt;NA&gt;</td>\n",
       "      <td>45.65</td>\n",
       "    </tr>\n",
       "    <tr>\n",
       "      <th>1858</th>\n",
       "      <td>1858</td>\n",
       "      <td>65.0</td>\n",
       "      <td>34.0</td>\n",
       "      <td>60.0</td>\n",
       "      <td>VIETRI DI POTENZA</td>\n",
       "      <td>&lt;NA&gt;</td>\n",
       "      <td>&lt;NA&gt;</td>\n",
       "      <td>P</td>\n",
       "      <td>66</td>\n",
       "      <td>D3117D65827932EB6A7F54F73EB1700C0D9F289C</td>\n",
       "      <td>...</td>\n",
       "      <td>&lt;NA&gt;</td>\n",
       "      <td>EB24C1C62642D39E65FB5BA50044153D2BF6EEC9</td>\n",
       "      <td>monthly</td>\n",
       "      <td>False</td>\n",
       "      <td>&lt;NA&gt;</td>\n",
       "      <td>44.17</td>\n",
       "      <td>&lt;NA&gt;</td>\n",
       "      <td>36.34</td>\n",
       "      <td>&lt;NA&gt;</td>\n",
       "      <td>47.11</td>\n",
       "    </tr>\n",
       "    <tr>\n",
       "      <th>2511</th>\n",
       "      <td>2511</td>\n",
       "      <td>285.0</td>\n",
       "      <td>406.0</td>\n",
       "      <td>232.0</td>\n",
       "      <td>VIETRI DI POTENZA</td>\n",
       "      <td>&lt;NA&gt;</td>\n",
       "      <td>&lt;NA&gt;</td>\n",
       "      <td>P</td>\n",
       "      <td>0</td>\n",
       "      <td>44F5D3195791957FCF7010485404E83F3BDB9F0B</td>\n",
       "      <td>...</td>\n",
       "      <td>&lt;NA&gt;</td>\n",
       "      <td>1D2EAAAFDD212B85E05CC2275D44020B05B1E5B7</td>\n",
       "      <td>monthly</td>\n",
       "      <td>False</td>\n",
       "      <td>&lt;NA&gt;</td>\n",
       "      <td>101.28</td>\n",
       "      <td>&lt;NA&gt;</td>\n",
       "      <td>74.09</td>\n",
       "      <td>&lt;NA&gt;</td>\n",
       "      <td>87.20</td>\n",
       "    </tr>\n",
       "  </tbody>\n",
       "</table>\n",
       "<p>5 rows × 43 columns</p>\n",
       "</div>"
      ],
      "text/plain": [
       "      bill_id   F1_kWh  F2_kWh  F3_kWh               city address nominative  \\\n",
       "1611     1611  23311.0  2219.0   467.0  VIETRI DI POTENZA    <NA>       <NA>   \n",
       "1627     1627    210.0   149.0   226.0  VIETRI DI POTENZA    <NA>       <NA>   \n",
       "1639     1639     95.0    52.0   105.0  VIETRI DI POTENZA    <NA>       <NA>   \n",
       "1858     1858     65.0    34.0    60.0  VIETRI DI POTENZA    <NA>       <NA>   \n",
       "2511     2511    285.0   406.0   232.0  VIETRI DI POTENZA    <NA>       <NA>   \n",
       "\n",
       "     sex  age                                 user_code  ...  \\\n",
       "1611   P    0  8CE314D06FEFFD54C0F1497C20C479F376102747  ...   \n",
       "1627   P   45  A1E7C992D46A2D6D911C3595DF603D3F2C6BEB37  ...   \n",
       "1639   P    0  3CE203296BE19C1257020DA7EFEB84A0D3F4F7B7  ...   \n",
       "1858   P   66  D3117D65827932EB6A7F54F73EB1700C0D9F289C  ...   \n",
       "2511   P    0  44F5D3195791957FCF7010485404E83F3BDB9F0B  ...   \n",
       "\n",
       "     average_gas_bill_cost                             customer_code  \\\n",
       "1611                  <NA>  F631ED0EF8EC71428366F15C369AA53792A6F20D   \n",
       "1627                  <NA>  1E9BC1B19300B6E472980894714A4C8382C565EA   \n",
       "1639                  <NA>  CC5C0DB0AA0034008B3398775B1EC89FC21A9DDB   \n",
       "1858                  <NA>  EB24C1C62642D39E65FB5BA50044153D2BF6EEC9   \n",
       "2511                  <NA>  1D2EAAAFDD212B85E05CC2275D44020B05B1E5B7   \n",
       "\n",
       "     billing_frequency bill_type gas_system_charges light_system_charges  \\\n",
       "1611           monthly     False               <NA>              1176.31   \n",
       "1627           monthly     False               <NA>                76.08   \n",
       "1639           monthly     False               <NA>                40.80   \n",
       "1858           monthly     False               <NA>                44.17   \n",
       "2511           monthly     False               <NA>               101.28   \n",
       "\n",
       "      gas_material_cost light_transport_cost  gas_transport_cost  \\\n",
       "1611               <NA>               481.81                <NA>   \n",
       "1627               <NA>                50.45                <NA>   \n",
       "1639               <NA>                29.47                <NA>   \n",
       "1858               <NA>                36.34                <NA>   \n",
       "2511               <NA>                74.09                <NA>   \n",
       "\n",
       "     light_material_cost  \n",
       "1611             2067.89  \n",
       "1627               85.57  \n",
       "1639               45.65  \n",
       "1858               47.11  \n",
       "2511               87.20  \n",
       "\n",
       "[5 rows x 43 columns]"
      ]
     },
     "execution_count": 15,
     "metadata": {},
     "output_type": "execute_result"
    }
   ],
   "source": [
    "#esempio\n",
    "base.locate_null_values('address').head()"
   ]
  },
  {
   "cell_type": "markdown",
   "id": "09aadf3c-6aec-4127-bcfb-5f36588a762d",
   "metadata": {
    "jp-MarkdownHeadingCollapsed": true,
    "tags": []
   },
   "source": [
    "## Locate Missing Values DA PORTARE"
   ]
  },
  {
   "cell_type": "code",
   "execution_count": 61,
   "id": "de516688-8f8d-402b-ad9e-cb27fc1859d0",
   "metadata": {},
   "outputs": [],
   "source": [
    "# LOCATE MISSING VALUES\n",
    "#rows = df.shape[0]\n",
    "#wait(ddf.shape[0])\n",
    "#print(\"Total rows\", rows)\n",
    "\n",
    "# These are the colums with at least one missing value\n",
    "column_count_nan = {}\n",
    "# compute the presence of null value on time instead every iteration for performance reasons\n",
    "na = base.get_df().isna()\n",
    "val = na.any().compute()\n",
    "\n",
    "for c, val in vec.to_pandas().items(): \n",
    "    count = na[c].sum()\n",
    "    if (val):\n",
    "        #print(c, \"\\t Affected rows:\", count)\n",
    "        column_count_nan[c] = count\n",
    "    else:\n",
    "        #print(c, \"\\t Qui no missing values\")\n",
    "        column_count_nan[c] = count"
   ]
  },
  {
   "cell_type": "code",
   "execution_count": null,
   "id": "41622e6f-2595-47a0-b7ee-1d22e1dfd8a1",
   "metadata": {},
   "outputs": [],
   "source": [
    "column_with_nan = []\n",
    "\n",
    "perc = 50\n",
    "soglia = ((perc * base.get_df().shape[0]) / 100).compute()\n",
    "print(soglia)\n",
    "\n",
    "for c, val in column_count_nan.items():\n",
    "    if val.compute() > soglia:\n",
    "        #print(c['column_name'])\n",
    "        column_with_nan.append(c)\n",
    "        \n",
    "column_with_nan\n",
    "\n",
    "# Si può notare come nessuna colonna abbia il 100% di valori nulli, ma ci sono altresì tante \n",
    "# colonne con un numero elevato di nan. Poche colonne hanno un numero basso di nan."
   ]
  },
  {
   "cell_type": "markdown",
   "id": "280804b2-6062-4fad-8c7f-64355954b08d",
   "metadata": {
    "jp-MarkdownHeadingCollapsed": true,
    "tags": []
   },
   "source": [
    "### Analisi extra (utile estenderla all'intero dataset)"
   ]
  },
  {
   "cell_type": "code",
   "execution_count": null,
   "id": "61f836cf-4621-4a55-a5f5-69c273b63c80",
   "metadata": {},
   "outputs": [],
   "source": [
    "#Visto che address e nominative hanno lo stesso numero di NA, vale la \n",
    "#pena controllare ed eventualmente eliminare le righe?\n",
    "\n",
    "base.locate_null_values('nominative')"
   ]
  },
  {
   "cell_type": "code",
   "execution_count": null,
   "id": "5404dc83-eee9-43c9-b64a-6721f66c5708",
   "metadata": {},
   "outputs": [],
   "source": [
    "base.locate_null_values('address')"
   ]
  },
  {
   "cell_type": "code",
   "execution_count": null,
   "id": "c6ca4aad-a7c8-465e-b77f-5f8494597d92",
   "metadata": {},
   "outputs": [],
   "source": [
    "df[df['city'] == 'VIETRI DI POTENZA']"
   ]
  },
  {
   "cell_type": "code",
   "execution_count": null,
   "id": "64d97f41-b929-4171-baac-4bc3a0169a37",
   "metadata": {},
   "outputs": [],
   "source": [
    "# PROVO A VEDERE SE SONO PRESENTI ALTRI RECORDS DEGLI UTENTI A CUI MANCANO NOMINATIVE E ADDRESS\n",
    "v = df['user_code'].value_counts()\n",
    "v.index[v.gt(1)]"
   ]
  },
  {
   "cell_type": "code",
   "execution_count": null,
   "id": "faab2772-0fc0-4854-873a-f7be61938ea0",
   "metadata": {},
   "outputs": [],
   "source": [
    "# DATASET CON GLI user_code CHE COMPAIONO PIù DI UNA VOLTA\n",
    "df[df['user_code'].isin(v.index[v.gt(1)])]"
   ]
  },
  {
   "cell_type": "code",
   "execution_count": null,
   "id": "78bba50c-c2df-4578-9cb8-a8fd80fbbd7b",
   "metadata": {},
   "outputs": [],
   "source": [
    "# Le date potrebbero fornirci informazioni sulla billing_frequency, o viceversa, come lo stabiliamo?\n",
    "# Cosa indica la colonna dell'emission_date??\n",
    "\n",
    "df.loc[0, 'billing_frequency']"
   ]
  },
  {
   "cell_type": "markdown",
   "id": "53bc7dbd-3732-434a-920a-d172c14d3f91",
   "metadata": {
    "tags": []
   },
   "source": [
    "## Locate Outliers DA PORTARE (qui c'è già roba con dask, da verificare se funziona)"
   ]
  },
  {
   "cell_type": "code",
   "execution_count": null,
   "id": "340e387a-c017-4f99-8794-4d9699c69725",
   "metadata": {},
   "outputs": [],
   "source": [
    "from dask.distributed import Client, wait\n",
    "from dask_cuda import LocalCUDACluster\n",
    "from dask.utils import parse_bytes\n",
    "import cudf\n",
    "import dask_cudf"
   ]
  },
  {
   "cell_type": "code",
   "execution_count": null,
   "id": "d68bc244-a247-4628-af80-120ce32c7158",
   "metadata": {},
   "outputs": [],
   "source": [
    "from dcudf import DCUDF\n",
    "\n",
    "#ddf = DCUDF(\"/data/invoices.csv\", 0.1, True)\n",
    "ddf = DCUDF()"
   ]
  },
  {
   "cell_type": "code",
   "execution_count": null,
   "id": "1693009c-a3e0-4afa-993b-99633d3ad5bf",
   "metadata": {
    "tags": []
   },
   "outputs": [],
   "source": [
    "ddf.cluster"
   ]
  },
  {
   "cell_type": "code",
   "execution_count": null,
   "id": "3e8238f9-293f-46af-8e41-9b8965159c82",
   "metadata": {
    "tags": []
   },
   "outputs": [],
   "source": [
    "ddf.client"
   ]
  },
  {
   "cell_type": "code",
   "execution_count": null,
   "id": "4d10da26-cbfb-4379-9cea-e0a7e701e58b",
   "metadata": {
    "tags": []
   },
   "outputs": [],
   "source": [
    "ddf.df"
   ]
  },
  {
   "cell_type": "code",
   "execution_count": null,
   "id": "f4bb88c0-1865-4638-931a-7ae95793930c",
   "metadata": {},
   "outputs": [],
   "source": [
    "ddf.get_columns_types()"
   ]
  },
  {
   "cell_type": "code",
   "execution_count": null,
   "id": "4daa506e-4ba2-40d2-bb22-36075cc3e232",
   "metadata": {},
   "outputs": [],
   "source": [
    "tmp = ddf.locate_outliers('F1_kWh')\n",
    "tmp.compute()"
   ]
  },
  {
   "cell_type": "code",
   "execution_count": null,
   "id": "89ce6c1e-ac1a-4ddb-a7f9-1d7f4f138daa",
   "metadata": {},
   "outputs": [],
   "source": [
    "type = ddf.df.dtypes\n",
    "num = type[type!='object'][type!='bool']\n",
    "num = num.index.to_list()\n",
    "num"
   ]
  },
  {
   "cell_type": "code",
   "execution_count": null,
   "id": "0886d9e0-0a6b-4038-b5cb-f06489ec9892",
   "metadata": {},
   "outputs": [],
   "source": [
    "tmp = ddf.locate_outliers(\"F1_kWh\")\n",
    "tmp\n",
    "# a lot of task per partition"
   ]
  },
  {
   "cell_type": "code",
   "execution_count": null,
   "id": "5fef824c-b763-457a-a66d-1a2b4279942c",
   "metadata": {},
   "outputs": [],
   "source": [
    "tmp = tmp.persist()\n",
    "tmp\n",
    "# no more than 1 task per partition"
   ]
  },
  {
   "cell_type": "code",
   "execution_count": null,
   "id": "9c5d1b7f-99cc-487e-bc1d-4ab874c16b08",
   "metadata": {},
   "outputs": [],
   "source": [
    "tmp.shape"
   ]
  },
  {
   "cell_type": "code",
   "execution_count": null,
   "id": "5a8ec9e4-c1eb-4c2c-8420-d7021c971731",
   "metadata": {},
   "outputs": [],
   "source": [
    "tmp = ddf.locate_outliers(\"F1_kWh\")\n",
    "tmp = tmp.compute()\n",
    "tmp.shape"
   ]
  },
  {
   "cell_type": "code",
   "execution_count": null,
   "id": "53708b43-e626-48f8-9906-c276f2e594ac",
   "metadata": {},
   "outputs": [],
   "source": [
    "from tqdm import tqdm\n",
    "\n",
    "for col in tqdm(num):\n",
    "    tmp = ddf.locate_outliers(col)\n",
    "    tmp = tmp.compute()\n",
    "    \n",
    "    print(f\"{col} has {tmp.shape[0]} outliers\")"
   ]
  },
  {
   "cell_type": "markdown",
   "id": "45667c80-845b-49f7-bbe1-9f87b71d7c3b",
   "metadata": {
    "jp-MarkdownHeadingCollapsed": true,
    "tags": []
   },
   "source": [
    "## Sort Data DA PORTARE (qui c'è già roba con dask, da verificare se funziona)"
   ]
  },
  {
   "cell_type": "code",
   "execution_count": null,
   "id": "e42db7c1-2f87-48c5-99ad-11b51546b7f3",
   "metadata": {},
   "outputs": [],
   "source": [
    "from dask.distributed import Client, wait\n",
    "from dask_cuda import LocalCUDACluster\n",
    "from dask.utils import parse_bytes\n",
    "import cudf\n",
    "import dask_cudf\n",
    "\n",
    "from dcudf import DCUDF\n",
    "\n",
    "#ddf = DCUDF(\"/data/invoices.csv\", 0.1, True)\n",
    "ddf = DCUDF()"
   ]
  },
  {
   "cell_type": "code",
   "execution_count": null,
   "id": "e79e186e-5ea7-4fb8-b180-7c369f960db4",
   "metadata": {},
   "outputs": [],
   "source": [
    "ddf.sort(\"F1_kWh\").compute()\n",
    "# not working"
   ]
  },
  {
   "cell_type": "code",
   "execution_count": null,
   "id": "34e6bca9-5f60-4d0d-9d94-9ac0defee60f",
   "metadata": {},
   "outputs": [],
   "source": [
    "tmp = ddf.sort_index(\"F1_kWh\").compute()\n",
    "# not working"
   ]
  },
  {
   "cell_type": "code",
   "execution_count": null,
   "id": "35f7f97e-dd04-4c92-b710-fb9f837e700a",
   "metadata": {},
   "outputs": [],
   "source": [
    "idx = tmp.index.to_arrow().to_pylist()\n",
    "# too mutch long list"
   ]
  },
  {
   "cell_type": "code",
   "execution_count": null,
   "id": "5a154b10-b23c-40e6-baee-517f118fd8e2",
   "metadata": {},
   "outputs": [],
   "source": [
    "tmp.merge(ddf.df, on=[\"F1_kWh\"], how=\"left\")"
   ]
  },
  {
   "cell_type": "markdown",
   "id": "83cb84a0-7da8-42cd-a6c3-7bba271c0106",
   "metadata": {
    "jp-MarkdownHeadingCollapsed": true,
    "tags": []
   },
   "source": [
    "# 2. VALIDATION"
   ]
  },
  {
   "cell_type": "code",
   "execution_count": null,
   "id": "a78e654e-5ec8-4946-bb6b-b2b28bfacfc2",
   "metadata": {},
   "outputs": [],
   "source": [
    "''' \n",
    "+++++ DATA VALIDATION +++++\n",
    "    • Check data range\n",
    "    • Check column uniqueness\n",
    "    • Find data-mismatched data types\n",
    "'''"
   ]
  },
  {
   "cell_type": "markdown",
   "id": "93872d70-15ce-4bc4-98b0-e3a2f55610ce",
   "metadata": {
    "jp-MarkdownHeadingCollapsed": true,
    "tags": []
   },
   "source": [
    "## Check Data Range DA PORTARE TUTTE (mi tirava fare un sottogruppo)"
   ]
  },
  {
   "cell_type": "markdown",
   "id": "7b33b46b-2476-490c-b743-82a20a182095",
   "metadata": {
    "jp-MarkdownHeadingCollapsed": true,
    "tags": []
   },
   "source": [
    "### Age nulla per PIVA"
   ]
  },
  {
   "cell_type": "code",
   "execution_count": null,
   "id": "9b04f05f-ea5a-475b-81fc-bcb6c92f7aa3",
   "metadata": {},
   "outputs": [],
   "source": [
    "# Controllo se chi ha P ha età nulla\n",
    "df.loc[(df['sex']=='P') & (df['age']>=0), 'age'] = np.nan\n",
    "df.loc[(df['sex']=='P') & (np.isnan(df['age']))]"
   ]
  },
  {
   "cell_type": "markdown",
   "id": "27a763d3-c20e-4607-aa7f-75948e8fd781",
   "metadata": {
    "jp-MarkdownHeadingCollapsed": true,
    "tags": []
   },
   "source": [
    "### Age >= 18"
   ]
  },
  {
   "cell_type": "code",
   "execution_count": null,
   "id": "c88e9261-63da-484b-9676-ea8288a25341",
   "metadata": {},
   "outputs": [],
   "source": [
    "# Age >= 18\n",
    "# Age non ha valori nulli (già controllato in precedenza IN TEORIA)\n",
    "#\n",
    "df['age'].isna().sum()"
   ]
  },
  {
   "cell_type": "code",
   "execution_count": null,
   "id": "694bdf0d-6d3e-402f-bdb5-b0d717a04f3c",
   "metadata": {},
   "outputs": [],
   "source": [
    "# Che fare con i minorenni? Li mettiamo tutti a 18 anni?\n",
    "df[df['age'] < 18]"
   ]
  },
  {
   "cell_type": "markdown",
   "id": "97c8f19d-7a93-42a3-8fb4-b92f65b2b304",
   "metadata": {
    "jp-MarkdownHeadingCollapsed": true,
    "tags": []
   },
   "source": [
    "### Translation in English"
   ]
  },
  {
   "cell_type": "code",
   "execution_count": null,
   "id": "d44dd645-2027-4ff8-a43a-8993f0a3fef5",
   "metadata": {},
   "outputs": [],
   "source": [
    "# Dobbiamo metterli in inglese? Si può fare con un map\n",
    "ing = {\n",
    "    'luce': 'light',\n",
    "    'gas e luce': 'gas and light',\n",
    "    'gas' : 'gas',\n",
    "}\n",
    "df['supply_type'] = df['supply_type'].map(ing)"
   ]
  },
  {
   "cell_type": "code",
   "execution_count": null,
   "id": "664860de-1788-4fb3-998a-e51c4b858bd8",
   "metadata": {},
   "outputs": [],
   "source": [
    "df['supply_type'].value_counts(dropna=False)"
   ]
  },
  {
   "cell_type": "markdown",
   "id": "4f461f45-ca34-47ff-a6c1-ad2bd2533528",
   "metadata": {
    "jp-MarkdownHeadingCollapsed": true,
    "tags": []
   },
   "source": [
    "### billing_freq & bill_type Analysis"
   ]
  },
  {
   "cell_type": "code",
   "execution_count": null,
   "id": "af42f7c6-a6cd-4803-b8ab-ffb91fa64f14",
   "metadata": {},
   "outputs": [],
   "source": [
    "# Che fare qua? Billing frequency (‘monthly’, ‘quarterly’, etc.)\n",
    "# Si potrebbero calcolare\n",
    "df['billing_frequency'].value_counts(dropna=False)"
   ]
  },
  {
   "cell_type": "code",
   "execution_count": null,
   "id": "6b8c47a3-e5c7-4239-a87d-464a3fd9d53b",
   "metadata": {},
   "outputs": [],
   "source": [
    "# Kind of invoice (False means a “standard bill”)\n",
    "df['bill_type'].value_counts(dropna=False)"
   ]
  },
  {
   "cell_type": "markdown",
   "id": "6cfed497-65ac-4263-a834-a328bc40dc9c",
   "metadata": {
    "jp-MarkdownHeadingCollapsed": true,
    "tags": []
   },
   "source": [
    "### light_offer_type Analysis"
   ]
  },
  {
   "cell_type": "code",
   "execution_count": null,
   "id": "a34ee440-8d2f-4438-b2ed-00f47b365219",
   "metadata": {},
   "outputs": [],
   "source": [
    "# Kind of plan for the electricity (‘single zone’, ‘bizone’, etc.)\n",
    "df['light_offer_type'].value_counts(dropna=False)"
   ]
  },
  {
   "cell_type": "code",
   "execution_count": null,
   "id": "b993e147-3a8c-4fe7-854d-ae84e5b848da",
   "metadata": {},
   "outputs": [],
   "source": [
    "# I 2 valori di light mi puzzano, famo uno strip?\n",
    "df['light_offer_type'] = df['light_offer_type'].str.strip()\n",
    "df['light_offer_type'].value_counts(dropna=False)\n",
    "# GHAVEVO RAGIONE Vè"
   ]
  },
  {
   "cell_type": "markdown",
   "id": "ba19a05d-4724-4b1b-b22c-5eecf0654feb",
   "metadata": {
    "jp-MarkdownHeadingCollapsed": true,
    "tags": []
   },
   "source": [
    "### Applico la funzione di strip a tutte le colonne con stringhe"
   ]
  },
  {
   "cell_type": "code",
   "execution_count": null,
   "id": "966ba713-757a-41bb-9b0f-11b5d55af14c",
   "metadata": {},
   "outputs": [],
   "source": [
    "# STRIPPATINA GENERALE (alle colonne con stringhe)\n",
    "df = base.strip(string_cols, ' ')"
   ]
  },
  {
   "cell_type": "markdown",
   "id": "c0c0a146-d146-4ac0-9402-f97d6450f4d6",
   "metadata": {
    "jp-MarkdownHeadingCollapsed": true,
    "tags": []
   },
   "source": [
    "## Check Column Uniqueness DA PORTARE E DA VERIFICARE"
   ]
  },
  {
   "cell_type": "code",
   "execution_count": null,
   "id": "ec3c8045-4a6d-473d-ac6c-5207fcb2cb69",
   "metadata": {},
   "outputs": [],
   "source": [
    "# The story changes here, we got these pairs as candidates as duplicate columns \n",
    "# (those which have same values for each row.)\n",
    "\n",
    "# ATTENZIONE!! Probabile che le date del gas siano invertite, trovare un modo per confermarlo"
   ]
  },
  {
   "cell_type": "code",
   "execution_count": null,
   "id": "4f26766f-e0a8-400c-9d66-409828b26a37",
   "metadata": {},
   "outputs": [],
   "source": [
    "#provo a concatenare lo stesso dataset più volte solo per vedere come regge lo scaling di dati\n",
    "big_df = cudf.concat([df for _ in range(100)], sort=False) #200k con la paglia"
   ]
  },
  {
   "cell_type": "code",
   "execution_count": null,
   "id": "572be326-9c66-4937-9ea8-8280c57f2fd9",
   "metadata": {},
   "outputs": [],
   "source": [
    "base.get_duplicate_columnss()\n",
    "# Ne vengono individuate solo 5 di coppie 100% fedeli, \n",
    "# ma cambia la questione se abbassiamo la soglia? Ci sono degli errori sopra perchè \n",
    "# quelle 100% uguali non vengono riconosciute, mentre qua sì"
   ]
  },
  {
   "cell_type": "code",
   "execution_count": null,
   "id": "4772ea51-1526-4e03-882f-eb19fa498ac2",
   "metadata": {},
   "outputs": [],
   "source": [
    "# Versione con soglia. (Lentina!)\n",
    "duplicate_columns = get_duplicate_col_V2(df, soglia=1, nan=True)\n",
    "duplicate_columns"
   ]
  },
  {
   "cell_type": "code",
   "execution_count": null,
   "id": "b75eef0f-0298-4046-a0ff-312e09da9429",
   "metadata": {},
   "outputs": [],
   "source": []
  },
  {
   "cell_type": "markdown",
   "id": "a23f4558-16a1-461a-9952-e4e889c4d52b",
   "metadata": {
    "jp-MarkdownHeadingCollapsed": true,
    "tags": []
   },
   "source": [
    "## Find Data Mismatch"
   ]
  },
  {
   "cell_type": "code",
   "execution_count": null,
   "id": "4ebcdb54-630f-4b02-8aa5-4c3954977684",
   "metadata": {},
   "outputs": [],
   "source": []
  },
  {
   "cell_type": "code",
   "execution_count": null,
   "id": "df18dc82-18ab-492f-a214-724d8163dd2c",
   "metadata": {},
   "outputs": [],
   "source": [
    "date_col_list = search_by_pattern('date')\n",
    "for col in date_col_list:\n",
    "    df[col] = convert_to_datetime(df[col])\n",
    "df[date_col_list]"
   ]
  },
  {
   "cell_type": "code",
   "execution_count": null,
   "id": "05bed063-27f9-4ca4-bf67-86a7f1ae6422",
   "metadata": {},
   "outputs": [],
   "source": [
    "df['date'] == df['light_start_date']"
   ]
  },
  {
   "cell_type": "code",
   "execution_count": null,
   "id": "950b3e12-4bc2-494a-8a4c-9d888f6312ec",
   "metadata": {},
   "outputs": [],
   "source": [
    "# Seguendo il GroundTruth mystico\n",
    "mappone = {'bill_id': 'int64',\n",
    " 'F1_kWh': 'float64',\n",
    " 'F2_kWh': 'float64',\n",
    " 'F3_kWh': 'float64',\n",
    " 'city': 'str',\n",
    " 'address': 'str',\n",
    " 'nominative': 'str',\n",
    " 'sex': 'str',\n",
    " 'age': 'int64',\n",
    " 'user_code': 'str',\n",
    " 'date': 'datetime64[s]',\n",
    " 'light_start_date': 'datetime64[s]',\n",
    " 'light_end_date': 'datetime64[s]',\n",
    " 'tv': 'float64',\n",
    " 'gas_amount': 'float64',\n",
    " 'gas_average_cost': 'float64',\n",
    " 'light_average_cost': 'float64',\n",
    " 'emission_date': 'datetime64[s]',\n",
    " 'supply_type': 'str',\n",
    " 'gas_start_date': 'datetime64[s]',\n",
    " 'gas_end_date': 'datetime64[s]',\n",
    " 'extra_fees': 'float64',\n",
    " 'gas_consumption': 'float64',\n",
    " 'light_consumption': 'float64',\n",
    " 'gas_offer': 'float64',\n",
    " 'light_offer_type': 'str',\n",
    " 'light_offer': 'str',\n",
    " 'howmuch_pay': 'float64',\n",
    " 'total_amount': 'float64',\n",
    " 'light_amount': 'float64',\n",
    " 'average_unit_light_cost': 'float64',\n",
    " 'average_light_bill_cost': 'float64',\n",
    " 'average_unit_gas_cost': 'float64',\n",
    " 'average_gas_bill_cost': 'float64',\n",
    " 'customer_code': 'str',\n",
    " 'billing_frequency': 'str',\n",
    " 'bill_type': 'str',\n",
    " 'gas_system_charges': 'float64',\n",
    " 'light_system_charges': 'float64',\n",
    " 'gas_material_cost': 'float64',\n",
    " 'light_transport_cost': 'float64',\n",
    " 'gas_transport_cost': 'float64',\n",
    " 'light_material_cost': 'float64'\n",
    "}"
   ]
  },
  {
   "cell_type": "code",
   "execution_count": null,
   "id": "20f8629c-d1f9-4295-ad56-d164a67eaf29",
   "metadata": {},
   "outputs": [],
   "source": [
    "#Check sui tipi di dato attuali\n",
    "type_dict = base.get_columns_types()\n",
    "type_dict"
   ]
  },
  {
   "cell_type": "code",
   "execution_count": null,
   "id": "4781476d-4890-49a1-acf7-626967860506",
   "metadata": {},
   "outputs": [],
   "source": [
    "#poichè probabilmente con i <NA> ho un sacco di problemi \"lasciatemi castaareeee.. \n",
    "#con la chitarra in maaanoooo, lasciatemi castare.. sono un italiano\"\n",
    "\n",
    "df = base.fill_nan(np.nan)\n",
    "df"
   ]
  },
  {
   "cell_type": "code",
   "execution_count": null,
   "id": "1d9a4719-cc4e-4d30-bc2f-352feea57d43",
   "metadata": {},
   "outputs": [],
   "source": [
    "# setto le colonne con i tipi di dato in mappone\n",
    "df = base.cast_columns_types(mappone)"
   ]
  },
  {
   "cell_type": "code",
   "execution_count": null,
   "id": "7fe36af3-ab2d-4174-bfd1-33c0c0fe09cf",
   "metadata": {},
   "outputs": [],
   "source": [
    "df['emission_date']"
   ]
  },
  {
   "cell_type": "code",
   "execution_count": null,
   "id": "74f6bb5d-32a0-4d04-94f5-2c59fe7f84a6",
   "metadata": {},
   "outputs": [],
   "source": [
    "# Abbiamo dei valori non castabili a float nelle colonne interessate\n",
    "\n",
    "# Trovare le tipologie di colonne a seconda della tipologia\n",
    "int_cols = col_type(df, find=['int'])\n",
    "string_cols = col_type(df, find=['string']) #object\n",
    "float_cols = col_type(df, find=['float'])\n",
    "numeric_cols = col_type(df, find=['numeric'])\n",
    "date_cols = col_type(df, find=['date'])\n",
    "\n",
    "# Vediamo cos'ho nelle colonne str\n",
    "#print(string_cols)\n",
    "for c in string_cols:\n",
    "    print(\"Col: \", c)\n",
    "    cosa = df[c].str.replace(',', '.').str.split(expand=True).iloc[:,-1].value_counts().index[0]\n",
    "    print(cosa)"
   ]
  },
  {
   "cell_type": "code",
   "execution_count": null,
   "id": "98010c15-5808-4c3a-b4c4-761ff0a9ede2",
   "metadata": {},
   "outputs": [],
   "source": [
    "# C'è della merda, ottimizzo la cosa riducendo il campo d'analisi a solo le colonne float64 di mappone\n",
    "mappone_float64_cols = []\n",
    "\n",
    "for (k, v) in mappone.items():\n",
    "    if v == 'float64':\n",
    "        mappone_float64_cols.append(k)\n",
    "\n",
    "final_float_cols = [x for x in mappone_float64_cols if x not in float_cols]\n",
    "mappone_float64_cols\n",
    "float_cols\n",
    "final_float_cols = [x for x in final_float_cols if x not in ['gas_offer']]"
   ]
  },
  {
   "cell_type": "code",
   "execution_count": null,
   "id": "395b5570-4329-46e8-9006-6d1c43d64634",
   "metadata": {},
   "outputs": [],
   "source": [
    "# Altro caso di colonna dal dubbio gusto\n",
    "df['gas_offer']"
   ]
  },
  {
   "cell_type": "code",
   "execution_count": null,
   "id": "7bc0ca1a-5ca8-47cd-b627-6ce4d8b56db4",
   "metadata": {},
   "outputs": [],
   "source": [
    "# Vediamo cos'ho nelle colonne str\n",
    "#print(string_cols)\n",
    "lista_rename = []\n",
    "for c in final_float_cols:\n",
    "    cosa = df[c].str.replace(',', '.').str.split(expand=True).iloc[:,-1].value_counts().index[0]\n",
    "    if cosa != '0.00' and cosa != 'nan':\n",
    "        print(\"Col: \", c + ' ' + cosa)\n",
    "        print(cosa)\n",
    "        p = {\n",
    "            c : c + ' ' + cosa\n",
    "        }\n",
    "        lista_rename.append(p)\n",
    "        df[c] = df[c].str.replace(',', '.').str.extract('-?([0-9]*\\.[0-9]+)').astype(float)\n",
    "df"
   ]
  },
  {
   "cell_type": "code",
   "execution_count": null,
   "id": "e679c5eb-b5f8-4b47-a330-7389b63fc996",
   "metadata": {},
   "outputs": [],
   "source": [
    "# voglio trovare le colonne str che diventeranno float che generano problemi\n",
    "# VIRGOLE DI MERDA\n",
    "problematiche = [x for x in string_cols if x in final_float_cols]\n",
    "for p in problematiche:\n",
    "    print(p)\n",
    "    df[p] = df[p].str.replace(',', '.').str.split(expand=True).iloc[:,-1].value_counts().index[0]\n",
    "    print(float(df[p][0]))"
   ]
  },
  {
   "cell_type": "code",
   "execution_count": null,
   "id": "67aa4ba2-1fc3-443d-8b55-6a2f8049363a",
   "metadata": {},
   "outputs": [],
   "source": [
    "float(0.48)"
   ]
  },
  {
   "cell_type": "code",
   "execution_count": null,
   "id": "ce5e86e5-e375-4ddc-8f17-a056b7da722b",
   "metadata": {},
   "outputs": [],
   "source": [
    "# Ho diverse colonne da cui eliminare le unità di misura...\n",
    "df['gas_average_cost'].dtype"
   ]
  },
  {
   "cell_type": "code",
   "execution_count": null,
   "id": "be3bc08b-dba4-4d93-9180-a71ea8f5abbc",
   "metadata": {},
   "outputs": [],
   "source": [
    "# in 'bill_type' False == 'standard bill'\n",
    "# Funziona solo se la funzione sopra non va in errore.\n",
    "\n",
    "df = base.replace('bill_type', 'False', 'standard bill', False)\n",
    "df"
   ]
  },
  {
   "cell_type": "code",
   "execution_count": null,
   "id": "05a715d5-1265-49c4-a19b-cfa23392db72",
   "metadata": {},
   "outputs": [],
   "source": [
    "#Verifica della bontà della sostituzione\n",
    "df['bill_type'].value_counts()"
   ]
  },
  {
   "cell_type": "code",
   "execution_count": null,
   "id": "eb04a4ce-97f8-43c4-b85b-503e820d0951",
   "metadata": {},
   "outputs": [],
   "source": []
  },
  {
   "cell_type": "code",
   "execution_count": null,
   "id": "41117089-e1e2-45b9-ad30-deca44abfafb",
   "metadata": {},
   "outputs": [],
   "source": [
    "# Non c'è nessuna riga tutta nulla, Giulio è contento\n",
    "df.dropna(how='all')"
   ]
  },
  {
   "cell_type": "code",
   "execution_count": null,
   "id": "4b690548-b142-4b3c-a908-0321b6cd04cd",
   "metadata": {},
   "outputs": [],
   "source": []
  },
  {
   "cell_type": "markdown",
   "id": "6bedd4d8-9cf3-4f15-8fc4-da9f81cb57ff",
   "metadata": {
    "jp-MarkdownHeadingCollapsed": true,
    "tags": []
   },
   "source": [
    "# 3. STRUCTURING"
   ]
  },
  {
   "cell_type": "code",
   "execution_count": null,
   "id": "5410141b-5b61-4a8c-9e7d-8a4ec598ed04",
   "metadata": {},
   "outputs": [],
   "source": [
    "''' \n",
    "+++++ DATA STRUCTURING +++++\n",
    "    • Change column data types\n",
    "    • Delete, split or merge columns\n",
    "    • Pivot and unpivot\n",
    "'''"
   ]
  },
  {
   "cell_type": "markdown",
   "id": "18378132-db87-4cf6-947c-bfd22172d983",
   "metadata": {
    "jp-MarkdownHeadingCollapsed": true,
    "tags": []
   },
   "source": [
    "## Change Column Data Types "
   ]
  },
  {
   "cell_type": "code",
   "execution_count": null,
   "id": "7e576374-43a2-4c2a-95a3-8ec7a6b3e2ce",
   "metadata": {},
   "outputs": [],
   "source": [
    "# aggregabile con lo step precedente\n",
    "# L'HO FATTO SOPRA, è DA ORDINARE E PERFEZIONARE"
   ]
  },
  {
   "cell_type": "markdown",
   "id": "3fb61134-60ae-4a61-9a63-aaeefccb4763",
   "metadata": {
    "jp-MarkdownHeadingCollapsed": true,
    "tags": []
   },
   "source": [
    "## Delete, Split or Merge Columns"
   ]
  },
  {
   "cell_type": "code",
   "execution_count": null,
   "id": "7418351e-13fb-4dd3-9c52-d3ef3673349d",
   "metadata": {},
   "outputs": [],
   "source": [
    "# rimozione colonne duplicate "
   ]
  },
  {
   "cell_type": "markdown",
   "id": "26d594b3-c37e-4652-a81d-92cd626fc845",
   "metadata": {
    "jp-MarkdownHeadingCollapsed": true,
    "tags": []
   },
   "source": [
    "## Pivot and Unpivot"
   ]
  },
  {
   "cell_type": "code",
   "execution_count": null,
   "id": "489a40b6-30c8-436e-b5fa-5ad5647bf75c",
   "metadata": {},
   "outputs": [],
   "source": [
    "# non saprei cosa farci"
   ]
  },
  {
   "cell_type": "code",
   "execution_count": null,
   "id": "b17ffccd-f8b4-40de-a26d-b93c2e012154",
   "metadata": {},
   "outputs": [],
   "source": []
  },
  {
   "cell_type": "markdown",
   "id": "f6a7fb91-f694-4d13-9f35-840a4d4e25d6",
   "metadata": {
    "jp-MarkdownHeadingCollapsed": true,
    "tags": []
   },
   "source": [
    "# 4. ENRICHMENT"
   ]
  },
  {
   "cell_type": "code",
   "execution_count": null,
   "id": "27d5b807-5156-4019-a5c9-3eee5f404a0f",
   "metadata": {},
   "outputs": [],
   "source": [
    "''' \n",
    "+++++ DATA ENRICHMENT +++++\n",
    "    • Calculate columns using expressions\n",
    "    • Set primary key column\n",
    "    • Join or append DataFrames\n",
    "    • Group by and aggregate records\n",
    "    • Scale column values into a certain range\n",
    "    • Encode categorical data (one-hot encoding and label encoding)\n",
    "'''"
   ]
  },
  {
   "cell_type": "markdown",
   "id": "cb59c0d4-97b7-462d-8289-cc565ae0bc62",
   "metadata": {
    "jp-MarkdownHeadingCollapsed": true,
    "tags": []
   },
   "source": [
    "## Calculate Columns Using Expressions"
   ]
  },
  {
   "cell_type": "code",
   "execution_count": null,
   "id": "8a771e1e-10f0-4643-b28e-6be4e78d6f53",
   "metadata": {},
   "outputs": [],
   "source": []
  },
  {
   "cell_type": "markdown",
   "id": "6dd5ffea-fc7f-4835-ab40-0fadcf4835ff",
   "metadata": {
    "jp-MarkdownHeadingCollapsed": true,
    "tags": []
   },
   "source": [
    "## Set PK column"
   ]
  },
  {
   "cell_type": "code",
   "execution_count": null,
   "id": "bea8b572-afdb-4e07-9057-652e9594ea38",
   "metadata": {},
   "outputs": [],
   "source": []
  },
  {
   "cell_type": "code",
   "execution_count": null,
   "id": "1ae618cd-732e-492a-a366-273fb73b3bae",
   "metadata": {},
   "outputs": [],
   "source": []
  },
  {
   "cell_type": "markdown",
   "id": "723bbd79-52b7-4aa3-9b16-dcb95f98d233",
   "metadata": {
    "jp-MarkdownHeadingCollapsed": true,
    "tags": []
   },
   "source": [
    "# 5. FILTERING"
   ]
  },
  {
   "cell_type": "code",
   "execution_count": null,
   "id": "cde0b345-80fe-4b12-9092-bc1402ba246a",
   "metadata": {},
   "outputs": [],
   "source": [
    "''' \n",
    "+++++ DATA FILTERING +++++\n",
    "    • Sample rows\n",
    "    • Select a subset of rows through a user-defined query\n",
    "'''"
   ]
  },
  {
   "cell_type": "markdown",
   "id": "0cb93477-5592-41c8-af8f-81c874e40af4",
   "metadata": {
    "jp-MarkdownHeadingCollapsed": true,
    "tags": []
   },
   "source": [
    "## Sample Rows"
   ]
  },
  {
   "cell_type": "code",
   "execution_count": null,
   "id": "954bdb17-5f56-4d54-97aa-3774b3a1d5e5",
   "metadata": {},
   "outputs": [],
   "source": [
    "df.sample(20)"
   ]
  },
  {
   "cell_type": "code",
   "execution_count": null,
   "id": "dd3fa848-5fa5-4ea0-9295-faf321a30926",
   "metadata": {},
   "outputs": [],
   "source": []
  },
  {
   "cell_type": "code",
   "execution_count": null,
   "id": "f6309fab-e28f-42f8-a645-b9e245afeda5",
   "metadata": {},
   "outputs": [],
   "source": [
    "# SELECT A SUBSET OF ROWS?!?"
   ]
  },
  {
   "cell_type": "code",
   "execution_count": null,
   "id": "2de37c65-a55b-4e16-9324-235be9cfbffd",
   "metadata": {},
   "outputs": [],
   "source": []
  },
  {
   "cell_type": "markdown",
   "id": "68c6e204-3d7a-49f3-8fc0-221ee6a38984",
   "metadata": {
    "jp-MarkdownHeadingCollapsed": true,
    "tags": []
   },
   "source": [
    "# 6. CLEANING"
   ]
  },
  {
   "cell_type": "code",
   "execution_count": null,
   "id": "8000e0ea-4ac8-4fae-842b-be1c17b7c02f",
   "metadata": {},
   "outputs": [],
   "source": [
    "''' \n",
    "+++++ DATA CLEANING +++++\n",
    "    • Change data format and case\n",
    "    • Deduplicate data\n",
    "    • Missing value imputation\n",
    "    • Find and replace values\n",
    "'''"
   ]
  },
  {
   "cell_type": "code",
   "execution_count": null,
   "id": "e21bfef2-48af-430b-b4fa-59473ee7c618",
   "metadata": {},
   "outputs": [],
   "source": [
    "# CHANGE DATA FORMAT AND CASE\n",
    "# data format dovrebbe già essere fatto a questo punto\n",
    "# case pure se vogliamo aver fatto tutto per bene"
   ]
  },
  {
   "cell_type": "code",
   "execution_count": null,
   "id": "bdda4834-40c3-4f27-b8ea-38e08c763753",
   "metadata": {},
   "outputs": [],
   "source": []
  },
  {
   "cell_type": "code",
   "execution_count": null,
   "id": "cb4ba56f-9a7d-4a93-858b-e52c837a0a71",
   "metadata": {},
   "outputs": [],
   "source": [
    "# DEDUPLICATE DATA\n",
    "# controllo se ho più bollette uguali dello stesso cliente"
   ]
  },
  {
   "cell_type": "code",
   "execution_count": null,
   "id": "abd0f273-b505-4e1f-84e2-7c3d8255cc64",
   "metadata": {},
   "outputs": [],
   "source": [
    "ddf"
   ]
  },
  {
   "cell_type": "code",
   "execution_count": null,
   "id": "c4a2e155-cbc3-4242-ac59-cb17b721a6d5",
   "metadata": {},
   "outputs": [],
   "source": [
    "# MISSING VALUE IMPUTATION\n",
    "# qua? Spero di averne pochissimi nel caso"
   ]
  },
  {
   "cell_type": "code",
   "execution_count": null,
   "id": "ffe383a1-6d2f-4557-87d2-832b7dae0d42",
   "metadata": {},
   "outputs": [],
   "source": []
  },
  {
   "cell_type": "code",
   "execution_count": null,
   "id": "0d97dcb2-0978-4500-afdd-9917976d5b08",
   "metadata": {},
   "outputs": [],
   "source": [
    "# FIND AND REPLACE VALUES\n",
    "# ossia?"
   ]
  },
  {
   "cell_type": "code",
   "execution_count": null,
   "id": "16baafbf-d295-490a-875f-c0d05456d79e",
   "metadata": {},
   "outputs": [],
   "source": []
  },
  {
   "cell_type": "code",
   "execution_count": null,
   "id": "037123c0-8af4-473d-aa7e-34dba664f07d",
   "metadata": {},
   "outputs": [],
   "source": [
    "x = np.nan\n",
    "float(x)"
   ]
  }
 ],
 "metadata": {
  "kernelspec": {
   "display_name": "Python 3",
   "language": "python",
   "name": "python3"
  },
  "language_info": {
   "codemirror_mode": {
    "name": "ipython",
    "version": 3
   },
   "file_extension": ".py",
   "mimetype": "text/x-python",
   "name": "python",
   "nbconvert_exporter": "python",
   "pygments_lexer": "ipython3",
   "version": "3.7.12"
  }
 },
 "nbformat": 4,
 "nbformat_minor": 5
}
