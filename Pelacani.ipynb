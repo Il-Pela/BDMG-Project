{
 "cells": [
  {
   "cell_type": "code",
   "execution_count": 1,
   "id": "da2e5689-9997-4af8-b3f0-88e8fa6d340a",
   "metadata": {},
   "outputs": [],
   "source": [
    "import cudf\n",
    "import dask_cudf\n",
    "\n",
    "base = None\n",
    "def setup():\n",
    "    from cluster import DistributedCluster\n",
    "    cluster = DistributedCluster()\n",
    "    cluster.start()\n",
    "    from base_dask_cudf import BaseDfBench\n",
    "    base = BaseDfBench(\"DASK_CUDF\")\n",
    "    base.load_dataset('parquet')\n",
    "    return base"
   ]
  },
  {
   "cell_type": "markdown",
   "id": "9065ece8-89b2-47cc-90f8-0e651194101a",
   "metadata": {
    "jp-MarkdownHeadingCollapsed": true,
    "tags": []
   },
   "source": [
    "# CLUSTER"
   ]
  },
  {
   "cell_type": "code",
   "execution_count": 2,
   "id": "9febaed7-ab64-4832-bdd3-eb85d33e604e",
   "metadata": {},
   "outputs": [],
   "source": [
    "from cluster import DistributedCluster"
   ]
  },
  {
   "cell_type": "code",
   "execution_count": 3,
   "id": "abce2b79-0b64-4ba5-9cd8-63c5747716b0",
   "metadata": {},
   "outputs": [],
   "source": [
    "cluster = DistributedCluster()"
   ]
  },
  {
   "cell_type": "code",
   "execution_count": 4,
   "id": "a9cc04fa-09a8-43a7-ab88-c8689f682515",
   "metadata": {},
   "outputs": [],
   "source": [
    "cluster.start()"
   ]
  },
  {
   "cell_type": "code",
   "execution_count": 5,
   "id": "71f076c1-3b54-4b8c-ba50-84dfd6f64344",
   "metadata": {},
   "outputs": [
    {
     "data": {
      "text/html": [
       "<div>\n",
       "    <div style=\"width: 24px; height: 24px; background-color: #e1e1e1; border: 3px solid #9D9D9D; border-radius: 5px; position: absolute;\"> </div>\n",
       "    <div style=\"margin-left: 48px;\">\n",
       "        <h3 style=\"margin-bottom: 0px;\">Client</h3>\n",
       "        <p style=\"color: #9D9D9D; margin-bottom: 0px;\">Client-5c5d86fe-f396-11ec-bc90-0242ac110004</p>\n",
       "        <table style=\"width: 100%; text-align: left;\">\n",
       "\n",
       "        <tr>\n",
       "        \n",
       "            <td style=\"text-align: left;\"><strong>Connection method:</strong> Cluster object</td>\n",
       "            <td style=\"text-align: left;\"><strong>Cluster type:</strong> dask_cuda.LocalCUDACluster</td>\n",
       "        \n",
       "        </tr>\n",
       "\n",
       "        \n",
       "            <tr>\n",
       "                <td style=\"text-align: left;\">\n",
       "                    <strong>Dashboard: </strong> <a href=\"http://127.0.0.1:8787/status\" target=\"_blank\">http://127.0.0.1:8787/status</a>\n",
       "                </td>\n",
       "                <td style=\"text-align: left;\"></td>\n",
       "            </tr>\n",
       "        \n",
       "\n",
       "        </table>\n",
       "\n",
       "        \n",
       "            <details>\n",
       "            <summary style=\"margin-bottom: 20px;\"><h3 style=\"display: inline;\">Cluster Info</h3></summary>\n",
       "            <div class=\"jp-RenderedHTMLCommon jp-RenderedHTML jp-mod-trusted jp-OutputArea-output\">\n",
       "    <div style=\"width: 24px; height: 24px; background-color: #e1e1e1; border: 3px solid #9D9D9D; border-radius: 5px; position: absolute;\">\n",
       "    </div>\n",
       "    <div style=\"margin-left: 48px;\">\n",
       "        <h3 style=\"margin-bottom: 0px; margin-top: 0px;\">LocalCUDACluster</h3>\n",
       "        <p style=\"color: #9D9D9D; margin-bottom: 0px;\">3b26733e</p>\n",
       "        <table style=\"width: 100%; text-align: left;\">\n",
       "            <tr>\n",
       "                <td style=\"text-align: left;\">\n",
       "                    <strong>Dashboard:</strong> <a href=\"http://127.0.0.1:8787/status\" target=\"_blank\">http://127.0.0.1:8787/status</a>\n",
       "                </td>\n",
       "                <td style=\"text-align: left;\">\n",
       "                    <strong>Workers:</strong> 1\n",
       "                </td>\n",
       "            </tr>\n",
       "            <tr>\n",
       "                <td style=\"text-align: left;\">\n",
       "                    <strong>Total threads:</strong> 1\n",
       "                </td>\n",
       "                <td style=\"text-align: left;\">\n",
       "                    <strong>Total memory:</strong> 187.40 GiB\n",
       "                </td>\n",
       "            </tr>\n",
       "            \n",
       "            <tr>\n",
       "    <td style=\"text-align: left;\"><strong>Status:</strong> running</td>\n",
       "    <td style=\"text-align: left;\"><strong>Using processes:</strong> True</td>\n",
       "</tr>\n",
       "\n",
       "            \n",
       "        </table>\n",
       "\n",
       "        <details>\n",
       "            <summary style=\"margin-bottom: 20px;\">\n",
       "                <h3 style=\"display: inline;\">Scheduler Info</h3>\n",
       "            </summary>\n",
       "\n",
       "            <div style=\"\">\n",
       "    <div>\n",
       "        <div style=\"width: 24px; height: 24px; background-color: #FFF7E5; border: 3px solid #FF6132; border-radius: 5px; position: absolute;\"> </div>\n",
       "        <div style=\"margin-left: 48px;\">\n",
       "            <h3 style=\"margin-bottom: 0px;\">Scheduler</h3>\n",
       "            <p style=\"color: #9D9D9D; margin-bottom: 0px;\">Scheduler-35c7a77e-53be-48b4-8eee-981892e19a99</p>\n",
       "            <table style=\"width: 100%; text-align: left;\">\n",
       "                <tr>\n",
       "                    <td style=\"text-align: left;\">\n",
       "                        <strong>Comm:</strong> tcp://127.0.0.1:40631\n",
       "                    </td>\n",
       "                    <td style=\"text-align: left;\">\n",
       "                        <strong>Workers:</strong> 1\n",
       "                    </td>\n",
       "                </tr>\n",
       "                <tr>\n",
       "                    <td style=\"text-align: left;\">\n",
       "                        <strong>Dashboard:</strong> <a href=\"http://127.0.0.1:8787/status\" target=\"_blank\">http://127.0.0.1:8787/status</a>\n",
       "                    </td>\n",
       "                    <td style=\"text-align: left;\">\n",
       "                        <strong>Total threads:</strong> 1\n",
       "                    </td>\n",
       "                </tr>\n",
       "                <tr>\n",
       "                    <td style=\"text-align: left;\">\n",
       "                        <strong>Started:</strong> Just now\n",
       "                    </td>\n",
       "                    <td style=\"text-align: left;\">\n",
       "                        <strong>Total memory:</strong> 187.40 GiB\n",
       "                    </td>\n",
       "                </tr>\n",
       "            </table>\n",
       "        </div>\n",
       "    </div>\n",
       "\n",
       "    <details style=\"margin-left: 48px;\">\n",
       "        <summary style=\"margin-bottom: 20px;\">\n",
       "            <h3 style=\"display: inline;\">Workers</h3>\n",
       "        </summary>\n",
       "\n",
       "        \n",
       "        <div style=\"margin-bottom: 20px;\">\n",
       "            <div style=\"width: 24px; height: 24px; background-color: #DBF5FF; border: 3px solid #4CC9FF; border-radius: 5px; position: absolute;\"> </div>\n",
       "            <div style=\"margin-left: 48px;\">\n",
       "            <details>\n",
       "                <summary>\n",
       "                    <h4 style=\"margin-bottom: 0px; display: inline;\">Worker: 0</h4>\n",
       "                </summary>\n",
       "                <table style=\"width: 100%; text-align: left;\">\n",
       "                    <tr>\n",
       "                        <td style=\"text-align: left;\">\n",
       "                            <strong>Comm: </strong> tcp://127.0.0.1:39351\n",
       "                        </td>\n",
       "                        <td style=\"text-align: left;\">\n",
       "                            <strong>Total threads: </strong> 1\n",
       "                        </td>\n",
       "                    </tr>\n",
       "                    <tr>\n",
       "                        <td style=\"text-align: left;\">\n",
       "                            <strong>Dashboard: </strong> <a href=\"http://127.0.0.1:41911/status\" target=\"_blank\">http://127.0.0.1:41911/status</a>\n",
       "                        </td>\n",
       "                        <td style=\"text-align: left;\">\n",
       "                            <strong>Memory: </strong> 187.40 GiB\n",
       "                        </td>\n",
       "                    </tr>\n",
       "                    <tr>\n",
       "                        <td style=\"text-align: left;\">\n",
       "                            <strong>Nanny: </strong> tcp://127.0.0.1:42101\n",
       "                        </td>\n",
       "                        <td style=\"text-align: left;\"></td>\n",
       "                    </tr>\n",
       "                    <tr>\n",
       "                        <td colspan=\"2\" style=\"text-align: left;\">\n",
       "                            <strong>Local directory: </strong> /rapids/notebooks/dask-worker-space/worker-z4s87gew\n",
       "                        </td>\n",
       "                    </tr>\n",
       "\n",
       "                    \n",
       "                    <tr>\n",
       "                        <td style=\"text-align: left;\">\n",
       "                            <strong>GPU: </strong>Tesla T4\n",
       "                        </td>\n",
       "                        <td style=\"text-align: left;\">\n",
       "                            <strong>GPU memory: </strong> 14.76 GiB\n",
       "                        </td>\n",
       "                    </tr>\n",
       "                    \n",
       "\n",
       "                    \n",
       "\n",
       "                </table>\n",
       "            </details>\n",
       "            </div>\n",
       "        </div>\n",
       "        \n",
       "\n",
       "    </details>\n",
       "</div>\n",
       "\n",
       "        </details>\n",
       "    </div>\n",
       "</div>\n",
       "            </details>\n",
       "        \n",
       "\n",
       "    </div>\n",
       "</div>"
      ],
      "text/plain": [
       "<Client: 'tcp://127.0.0.1:40631' processes=1 threads=1, memory=187.40 GiB>"
      ]
     },
     "execution_count": 5,
     "metadata": {},
     "output_type": "execute_result"
    }
   ],
   "source": [
    "cluster.client"
   ]
  },
  {
   "cell_type": "code",
   "execution_count": 6,
   "id": "92b718bd-8a88-4c84-892e-4fbddc9e404c",
   "metadata": {},
   "outputs": [],
   "source": [
    "cluster.shutdown()"
   ]
  },
  {
   "cell_type": "code",
   "execution_count": 7,
   "id": "5b5dc7b4-5f56-4484-add2-3929162308d5",
   "metadata": {},
   "outputs": [
    {
     "data": {
      "text/html": [
       "<div>\n",
       "    <div style=\"width: 24px; height: 24px; background-color: #e1e1e1; border: 3px solid #9D9D9D; border-radius: 5px; position: absolute;\"> </div>\n",
       "    <div style=\"margin-left: 48px;\">\n",
       "        <h3 style=\"margin-bottom: 0px;\">Client</h3>\n",
       "        <p style=\"color: #9D9D9D; margin-bottom: 0px;\">Client-5dc29438-f396-11ec-bc90-0242ac110004</p>\n",
       "        <table style=\"width: 100%; text-align: left;\">\n",
       "\n",
       "        <tr>\n",
       "        \n",
       "            <td style=\"text-align: left;\"><strong>Connection method:</strong> Cluster object</td>\n",
       "            <td style=\"text-align: left;\"><strong>Cluster type:</strong> distributed.LocalCluster</td>\n",
       "        \n",
       "        </tr>\n",
       "\n",
       "        \n",
       "            <tr>\n",
       "                <td style=\"text-align: left;\">\n",
       "                    <strong>Dashboard: </strong> <a href=\"http://127.0.0.1:8787/status\" target=\"_blank\">http://127.0.0.1:8787/status</a>\n",
       "                </td>\n",
       "                <td style=\"text-align: left;\"></td>\n",
       "            </tr>\n",
       "        \n",
       "\n",
       "        </table>\n",
       "\n",
       "        \n",
       "            <details>\n",
       "            <summary style=\"margin-bottom: 20px;\"><h3 style=\"display: inline;\">Cluster Info</h3></summary>\n",
       "            <div class=\"jp-RenderedHTMLCommon jp-RenderedHTML jp-mod-trusted jp-OutputArea-output\">\n",
       "    <div style=\"width: 24px; height: 24px; background-color: #e1e1e1; border: 3px solid #9D9D9D; border-radius: 5px; position: absolute;\">\n",
       "    </div>\n",
       "    <div style=\"margin-left: 48px;\">\n",
       "        <h3 style=\"margin-bottom: 0px; margin-top: 0px;\">LocalCluster</h3>\n",
       "        <p style=\"color: #9D9D9D; margin-bottom: 0px;\">b3ff7624</p>\n",
       "        <table style=\"width: 100%; text-align: left;\">\n",
       "            <tr>\n",
       "                <td style=\"text-align: left;\">\n",
       "                    <strong>Dashboard:</strong> <a href=\"http://127.0.0.1:8787/status\" target=\"_blank\">http://127.0.0.1:8787/status</a>\n",
       "                </td>\n",
       "                <td style=\"text-align: left;\">\n",
       "                    <strong>Workers:</strong> 6\n",
       "                </td>\n",
       "            </tr>\n",
       "            <tr>\n",
       "                <td style=\"text-align: left;\">\n",
       "                    <strong>Total threads:</strong> 24\n",
       "                </td>\n",
       "                <td style=\"text-align: left;\">\n",
       "                    <strong>Total memory:</strong> 187.40 GiB\n",
       "                </td>\n",
       "            </tr>\n",
       "            \n",
       "            <tr>\n",
       "    <td style=\"text-align: left;\"><strong>Status:</strong> running</td>\n",
       "    <td style=\"text-align: left;\"><strong>Using processes:</strong> True</td>\n",
       "</tr>\n",
       "\n",
       "            \n",
       "        </table>\n",
       "\n",
       "        <details>\n",
       "            <summary style=\"margin-bottom: 20px;\">\n",
       "                <h3 style=\"display: inline;\">Scheduler Info</h3>\n",
       "            </summary>\n",
       "\n",
       "            <div style=\"\">\n",
       "    <div>\n",
       "        <div style=\"width: 24px; height: 24px; background-color: #FFF7E5; border: 3px solid #FF6132; border-radius: 5px; position: absolute;\"> </div>\n",
       "        <div style=\"margin-left: 48px;\">\n",
       "            <h3 style=\"margin-bottom: 0px;\">Scheduler</h3>\n",
       "            <p style=\"color: #9D9D9D; margin-bottom: 0px;\">Scheduler-c7e46de1-abc1-4eb2-a542-885dd82e1aac</p>\n",
       "            <table style=\"width: 100%; text-align: left;\">\n",
       "                <tr>\n",
       "                    <td style=\"text-align: left;\">\n",
       "                        <strong>Comm:</strong> tcp://127.0.0.1:42113\n",
       "                    </td>\n",
       "                    <td style=\"text-align: left;\">\n",
       "                        <strong>Workers:</strong> 6\n",
       "                    </td>\n",
       "                </tr>\n",
       "                <tr>\n",
       "                    <td style=\"text-align: left;\">\n",
       "                        <strong>Dashboard:</strong> <a href=\"http://127.0.0.1:8787/status\" target=\"_blank\">http://127.0.0.1:8787/status</a>\n",
       "                    </td>\n",
       "                    <td style=\"text-align: left;\">\n",
       "                        <strong>Total threads:</strong> 24\n",
       "                    </td>\n",
       "                </tr>\n",
       "                <tr>\n",
       "                    <td style=\"text-align: left;\">\n",
       "                        <strong>Started:</strong> Just now\n",
       "                    </td>\n",
       "                    <td style=\"text-align: left;\">\n",
       "                        <strong>Total memory:</strong> 187.40 GiB\n",
       "                    </td>\n",
       "                </tr>\n",
       "            </table>\n",
       "        </div>\n",
       "    </div>\n",
       "\n",
       "    <details style=\"margin-left: 48px;\">\n",
       "        <summary style=\"margin-bottom: 20px;\">\n",
       "            <h3 style=\"display: inline;\">Workers</h3>\n",
       "        </summary>\n",
       "\n",
       "        \n",
       "        <div style=\"margin-bottom: 20px;\">\n",
       "            <div style=\"width: 24px; height: 24px; background-color: #DBF5FF; border: 3px solid #4CC9FF; border-radius: 5px; position: absolute;\"> </div>\n",
       "            <div style=\"margin-left: 48px;\">\n",
       "            <details>\n",
       "                <summary>\n",
       "                    <h4 style=\"margin-bottom: 0px; display: inline;\">Worker: 0</h4>\n",
       "                </summary>\n",
       "                <table style=\"width: 100%; text-align: left;\">\n",
       "                    <tr>\n",
       "                        <td style=\"text-align: left;\">\n",
       "                            <strong>Comm: </strong> tcp://127.0.0.1:35187\n",
       "                        </td>\n",
       "                        <td style=\"text-align: left;\">\n",
       "                            <strong>Total threads: </strong> 4\n",
       "                        </td>\n",
       "                    </tr>\n",
       "                    <tr>\n",
       "                        <td style=\"text-align: left;\">\n",
       "                            <strong>Dashboard: </strong> <a href=\"http://127.0.0.1:40535/status\" target=\"_blank\">http://127.0.0.1:40535/status</a>\n",
       "                        </td>\n",
       "                        <td style=\"text-align: left;\">\n",
       "                            <strong>Memory: </strong> 31.23 GiB\n",
       "                        </td>\n",
       "                    </tr>\n",
       "                    <tr>\n",
       "                        <td style=\"text-align: left;\">\n",
       "                            <strong>Nanny: </strong> tcp://127.0.0.1:35367\n",
       "                        </td>\n",
       "                        <td style=\"text-align: left;\"></td>\n",
       "                    </tr>\n",
       "                    <tr>\n",
       "                        <td colspan=\"2\" style=\"text-align: left;\">\n",
       "                            <strong>Local directory: </strong> /rapids/notebooks/dask-worker-space/worker-9x4iw3ug\n",
       "                        </td>\n",
       "                    </tr>\n",
       "\n",
       "                    \n",
       "                    <tr>\n",
       "                        <td style=\"text-align: left;\">\n",
       "                            <strong>GPU: </strong>Tesla T4\n",
       "                        </td>\n",
       "                        <td style=\"text-align: left;\">\n",
       "                            <strong>GPU memory: </strong> 14.76 GiB\n",
       "                        </td>\n",
       "                    </tr>\n",
       "                    \n",
       "\n",
       "                    \n",
       "\n",
       "                </table>\n",
       "            </details>\n",
       "            </div>\n",
       "        </div>\n",
       "        \n",
       "        <div style=\"margin-bottom: 20px;\">\n",
       "            <div style=\"width: 24px; height: 24px; background-color: #DBF5FF; border: 3px solid #4CC9FF; border-radius: 5px; position: absolute;\"> </div>\n",
       "            <div style=\"margin-left: 48px;\">\n",
       "            <details>\n",
       "                <summary>\n",
       "                    <h4 style=\"margin-bottom: 0px; display: inline;\">Worker: 1</h4>\n",
       "                </summary>\n",
       "                <table style=\"width: 100%; text-align: left;\">\n",
       "                    <tr>\n",
       "                        <td style=\"text-align: left;\">\n",
       "                            <strong>Comm: </strong> tcp://127.0.0.1:42269\n",
       "                        </td>\n",
       "                        <td style=\"text-align: left;\">\n",
       "                            <strong>Total threads: </strong> 4\n",
       "                        </td>\n",
       "                    </tr>\n",
       "                    <tr>\n",
       "                        <td style=\"text-align: left;\">\n",
       "                            <strong>Dashboard: </strong> <a href=\"http://127.0.0.1:40939/status\" target=\"_blank\">http://127.0.0.1:40939/status</a>\n",
       "                        </td>\n",
       "                        <td style=\"text-align: left;\">\n",
       "                            <strong>Memory: </strong> 31.23 GiB\n",
       "                        </td>\n",
       "                    </tr>\n",
       "                    <tr>\n",
       "                        <td style=\"text-align: left;\">\n",
       "                            <strong>Nanny: </strong> tcp://127.0.0.1:45853\n",
       "                        </td>\n",
       "                        <td style=\"text-align: left;\"></td>\n",
       "                    </tr>\n",
       "                    <tr>\n",
       "                        <td colspan=\"2\" style=\"text-align: left;\">\n",
       "                            <strong>Local directory: </strong> /rapids/notebooks/dask-worker-space/worker-ren7my5x\n",
       "                        </td>\n",
       "                    </tr>\n",
       "\n",
       "                    \n",
       "                    <tr>\n",
       "                        <td style=\"text-align: left;\">\n",
       "                            <strong>GPU: </strong>Tesla T4\n",
       "                        </td>\n",
       "                        <td style=\"text-align: left;\">\n",
       "                            <strong>GPU memory: </strong> 14.76 GiB\n",
       "                        </td>\n",
       "                    </tr>\n",
       "                    \n",
       "\n",
       "                    \n",
       "\n",
       "                </table>\n",
       "            </details>\n",
       "            </div>\n",
       "        </div>\n",
       "        \n",
       "        <div style=\"margin-bottom: 20px;\">\n",
       "            <div style=\"width: 24px; height: 24px; background-color: #DBF5FF; border: 3px solid #4CC9FF; border-radius: 5px; position: absolute;\"> </div>\n",
       "            <div style=\"margin-left: 48px;\">\n",
       "            <details>\n",
       "                <summary>\n",
       "                    <h4 style=\"margin-bottom: 0px; display: inline;\">Worker: 2</h4>\n",
       "                </summary>\n",
       "                <table style=\"width: 100%; text-align: left;\">\n",
       "                    <tr>\n",
       "                        <td style=\"text-align: left;\">\n",
       "                            <strong>Comm: </strong> tcp://127.0.0.1:43355\n",
       "                        </td>\n",
       "                        <td style=\"text-align: left;\">\n",
       "                            <strong>Total threads: </strong> 4\n",
       "                        </td>\n",
       "                    </tr>\n",
       "                    <tr>\n",
       "                        <td style=\"text-align: left;\">\n",
       "                            <strong>Dashboard: </strong> <a href=\"http://127.0.0.1:35707/status\" target=\"_blank\">http://127.0.0.1:35707/status</a>\n",
       "                        </td>\n",
       "                        <td style=\"text-align: left;\">\n",
       "                            <strong>Memory: </strong> 31.23 GiB\n",
       "                        </td>\n",
       "                    </tr>\n",
       "                    <tr>\n",
       "                        <td style=\"text-align: left;\">\n",
       "                            <strong>Nanny: </strong> tcp://127.0.0.1:39465\n",
       "                        </td>\n",
       "                        <td style=\"text-align: left;\"></td>\n",
       "                    </tr>\n",
       "                    <tr>\n",
       "                        <td colspan=\"2\" style=\"text-align: left;\">\n",
       "                            <strong>Local directory: </strong> /rapids/notebooks/dask-worker-space/worker-uunyv8ur\n",
       "                        </td>\n",
       "                    </tr>\n",
       "\n",
       "                    \n",
       "                    <tr>\n",
       "                        <td style=\"text-align: left;\">\n",
       "                            <strong>GPU: </strong>Tesla T4\n",
       "                        </td>\n",
       "                        <td style=\"text-align: left;\">\n",
       "                            <strong>GPU memory: </strong> 14.76 GiB\n",
       "                        </td>\n",
       "                    </tr>\n",
       "                    \n",
       "\n",
       "                    \n",
       "\n",
       "                </table>\n",
       "            </details>\n",
       "            </div>\n",
       "        </div>\n",
       "        \n",
       "        <div style=\"margin-bottom: 20px;\">\n",
       "            <div style=\"width: 24px; height: 24px; background-color: #DBF5FF; border: 3px solid #4CC9FF; border-radius: 5px; position: absolute;\"> </div>\n",
       "            <div style=\"margin-left: 48px;\">\n",
       "            <details>\n",
       "                <summary>\n",
       "                    <h4 style=\"margin-bottom: 0px; display: inline;\">Worker: 3</h4>\n",
       "                </summary>\n",
       "                <table style=\"width: 100%; text-align: left;\">\n",
       "                    <tr>\n",
       "                        <td style=\"text-align: left;\">\n",
       "                            <strong>Comm: </strong> tcp://127.0.0.1:34287\n",
       "                        </td>\n",
       "                        <td style=\"text-align: left;\">\n",
       "                            <strong>Total threads: </strong> 4\n",
       "                        </td>\n",
       "                    </tr>\n",
       "                    <tr>\n",
       "                        <td style=\"text-align: left;\">\n",
       "                            <strong>Dashboard: </strong> <a href=\"http://127.0.0.1:32903/status\" target=\"_blank\">http://127.0.0.1:32903/status</a>\n",
       "                        </td>\n",
       "                        <td style=\"text-align: left;\">\n",
       "                            <strong>Memory: </strong> 31.23 GiB\n",
       "                        </td>\n",
       "                    </tr>\n",
       "                    <tr>\n",
       "                        <td style=\"text-align: left;\">\n",
       "                            <strong>Nanny: </strong> tcp://127.0.0.1:45189\n",
       "                        </td>\n",
       "                        <td style=\"text-align: left;\"></td>\n",
       "                    </tr>\n",
       "                    <tr>\n",
       "                        <td colspan=\"2\" style=\"text-align: left;\">\n",
       "                            <strong>Local directory: </strong> /rapids/notebooks/dask-worker-space/worker-etjmlgue\n",
       "                        </td>\n",
       "                    </tr>\n",
       "\n",
       "                    \n",
       "                    <tr>\n",
       "                        <td style=\"text-align: left;\">\n",
       "                            <strong>GPU: </strong>Tesla T4\n",
       "                        </td>\n",
       "                        <td style=\"text-align: left;\">\n",
       "                            <strong>GPU memory: </strong> 14.76 GiB\n",
       "                        </td>\n",
       "                    </tr>\n",
       "                    \n",
       "\n",
       "                    \n",
       "\n",
       "                </table>\n",
       "            </details>\n",
       "            </div>\n",
       "        </div>\n",
       "        \n",
       "        <div style=\"margin-bottom: 20px;\">\n",
       "            <div style=\"width: 24px; height: 24px; background-color: #DBF5FF; border: 3px solid #4CC9FF; border-radius: 5px; position: absolute;\"> </div>\n",
       "            <div style=\"margin-left: 48px;\">\n",
       "            <details>\n",
       "                <summary>\n",
       "                    <h4 style=\"margin-bottom: 0px; display: inline;\">Worker: 4</h4>\n",
       "                </summary>\n",
       "                <table style=\"width: 100%; text-align: left;\">\n",
       "                    <tr>\n",
       "                        <td style=\"text-align: left;\">\n",
       "                            <strong>Comm: </strong> tcp://127.0.0.1:46059\n",
       "                        </td>\n",
       "                        <td style=\"text-align: left;\">\n",
       "                            <strong>Total threads: </strong> 4\n",
       "                        </td>\n",
       "                    </tr>\n",
       "                    <tr>\n",
       "                        <td style=\"text-align: left;\">\n",
       "                            <strong>Dashboard: </strong> <a href=\"http://127.0.0.1:45541/status\" target=\"_blank\">http://127.0.0.1:45541/status</a>\n",
       "                        </td>\n",
       "                        <td style=\"text-align: left;\">\n",
       "                            <strong>Memory: </strong> 31.23 GiB\n",
       "                        </td>\n",
       "                    </tr>\n",
       "                    <tr>\n",
       "                        <td style=\"text-align: left;\">\n",
       "                            <strong>Nanny: </strong> tcp://127.0.0.1:33043\n",
       "                        </td>\n",
       "                        <td style=\"text-align: left;\"></td>\n",
       "                    </tr>\n",
       "                    <tr>\n",
       "                        <td colspan=\"2\" style=\"text-align: left;\">\n",
       "                            <strong>Local directory: </strong> /rapids/notebooks/dask-worker-space/worker-eo9o0dkg\n",
       "                        </td>\n",
       "                    </tr>\n",
       "\n",
       "                    \n",
       "                    <tr>\n",
       "                        <td style=\"text-align: left;\">\n",
       "                            <strong>GPU: </strong>Tesla T4\n",
       "                        </td>\n",
       "                        <td style=\"text-align: left;\">\n",
       "                            <strong>GPU memory: </strong> 14.76 GiB\n",
       "                        </td>\n",
       "                    </tr>\n",
       "                    \n",
       "\n",
       "                    \n",
       "\n",
       "                </table>\n",
       "            </details>\n",
       "            </div>\n",
       "        </div>\n",
       "        \n",
       "        <div style=\"margin-bottom: 20px;\">\n",
       "            <div style=\"width: 24px; height: 24px; background-color: #DBF5FF; border: 3px solid #4CC9FF; border-radius: 5px; position: absolute;\"> </div>\n",
       "            <div style=\"margin-left: 48px;\">\n",
       "            <details>\n",
       "                <summary>\n",
       "                    <h4 style=\"margin-bottom: 0px; display: inline;\">Worker: 5</h4>\n",
       "                </summary>\n",
       "                <table style=\"width: 100%; text-align: left;\">\n",
       "                    <tr>\n",
       "                        <td style=\"text-align: left;\">\n",
       "                            <strong>Comm: </strong> tcp://127.0.0.1:38241\n",
       "                        </td>\n",
       "                        <td style=\"text-align: left;\">\n",
       "                            <strong>Total threads: </strong> 4\n",
       "                        </td>\n",
       "                    </tr>\n",
       "                    <tr>\n",
       "                        <td style=\"text-align: left;\">\n",
       "                            <strong>Dashboard: </strong> <a href=\"http://127.0.0.1:43985/status\" target=\"_blank\">http://127.0.0.1:43985/status</a>\n",
       "                        </td>\n",
       "                        <td style=\"text-align: left;\">\n",
       "                            <strong>Memory: </strong> 31.23 GiB\n",
       "                        </td>\n",
       "                    </tr>\n",
       "                    <tr>\n",
       "                        <td style=\"text-align: left;\">\n",
       "                            <strong>Nanny: </strong> tcp://127.0.0.1:43789\n",
       "                        </td>\n",
       "                        <td style=\"text-align: left;\"></td>\n",
       "                    </tr>\n",
       "                    <tr>\n",
       "                        <td colspan=\"2\" style=\"text-align: left;\">\n",
       "                            <strong>Local directory: </strong> /rapids/notebooks/dask-worker-space/worker-86m_kif3\n",
       "                        </td>\n",
       "                    </tr>\n",
       "\n",
       "                    \n",
       "                    <tr>\n",
       "                        <td style=\"text-align: left;\">\n",
       "                            <strong>GPU: </strong>Tesla T4\n",
       "                        </td>\n",
       "                        <td style=\"text-align: left;\">\n",
       "                            <strong>GPU memory: </strong> 14.76 GiB\n",
       "                        </td>\n",
       "                    </tr>\n",
       "                    \n",
       "\n",
       "                    \n",
       "\n",
       "                </table>\n",
       "            </details>\n",
       "            </div>\n",
       "        </div>\n",
       "        \n",
       "\n",
       "    </details>\n",
       "</div>\n",
       "\n",
       "        </details>\n",
       "    </div>\n",
       "</div>\n",
       "            </details>\n",
       "        \n",
       "\n",
       "    </div>\n",
       "</div>"
      ],
      "text/plain": [
       "<Client: 'tcp://127.0.0.1:42113' processes=6 threads=24, memory=187.40 GiB>"
      ]
     },
     "execution_count": 7,
     "metadata": {},
     "output_type": "execute_result"
    }
   ],
   "source": [
    "cluster.start(\"DASK\")\n",
    "cluster.client"
   ]
  },
  {
   "cell_type": "markdown",
   "id": "abbdd926-2abe-4702-a50f-8abff4e1a0f0",
   "metadata": {
    "jp-MarkdownHeadingCollapsed": true,
    "tags": []
   },
   "source": [
    "# DATASET"
   ]
  },
  {
   "cell_type": "code",
   "execution_count": 1,
   "id": "7ca84c97-8837-42e8-ad24-129233088e79",
   "metadata": {},
   "outputs": [],
   "source": [
    "from base_dask_cudf import BaseDfBench\n",
    "import cudf\n",
    "import dask_cudf"
   ]
  },
  {
   "cell_type": "code",
   "execution_count": 2,
   "id": "ef07c0b2-9fcf-4a2e-b647-1767ab049748",
   "metadata": {},
   "outputs": [
    {
     "data": {
      "text/plain": [
       "57"
      ]
     },
     "execution_count": 2,
     "metadata": {},
     "output_type": "execute_result"
    }
   ],
   "source": [
    "base = BaseDfBench(\"DASK_CUDF\")\n",
    "\n",
    "# base.load_dataset('parquet', path='data/mod_parquet')\n",
    "base.load_dataset('parquet')\n",
    "\n",
    "df = base.get_df()\n",
    "columns = base.get_columns()\n",
    "base.npartitions()"
   ]
  },
  {
   "cell_type": "markdown",
   "id": "dbb5d664-be27-4087-b135-28c1c58b6883",
   "metadata": {
    "jp-MarkdownHeadingCollapsed": true,
    "tags": []
   },
   "source": [
    "# FUNZIONI DASK_CUDF CHE NON VANNO (PER FARE CONFRONTO)"
   ]
  },
  {
   "cell_type": "markdown",
   "id": "2362c796-ec3d-42ed-be99-91c4d8a43c4a",
   "metadata": {
    "tags": []
   },
   "source": [
    "## Questa è la sezione da portare per far vedere i limiti di dask_cudf"
   ]
  },
  {
   "cell_type": "markdown",
   "id": "4f4fa7d6-3173-4d32-a5c3-b6c4d848391b",
   "metadata": {
    "tags": []
   },
   "source": [
    "### Conversione colonna da stringa a datetime"
   ]
  },
  {
   "cell_type": "markdown",
   "id": "ed955ae5-dfed-44ed-80fb-5783e93cbb1a",
   "metadata": {},
   "source": [
    "BaseDfBenchErrore che restituisce:\n",
    "\"TypeError: Implicit conversion to a host NumPy array via __array__ is not allowed, To explicitly construct a GPU matrix, consider using .to_cupy()\n",
    "To explicitly construct a host matrix, consider using .to_numpy().\""
   ]
  },
  {
   "cell_type": "code",
   "execution_count": 5,
   "id": "e35d23a3-14ec-4d68-bdef-81bc0a5b86b2",
   "metadata": {},
   "outputs": [
    {
     "data": {
      "text/plain": [
       "0    25 Novembre 2019\n",
       "1    31 Dicembre 2020\n",
       "2    31 Dicembre 2020\n",
       "3    31 Dicembre 2020\n",
       "4    31 Dicembre 2020\n",
       "Name: gas_start_date, dtype: object"
      ]
     },
     "execution_count": 5,
     "metadata": {},
     "output_type": "execute_result"
    }
   ],
   "source": [
    "base[\"gas_start_date\"].head()"
   ]
  },
  {
   "cell_type": "code",
   "execution_count": 24,
   "id": "48c9143a-7b43-4333-bf5a-b335311f840a",
   "metadata": {},
   "outputs": [
    {
     "ename": "AttributeError",
     "evalue": "Can only use .str accessor with string values",
     "output_type": "error",
     "traceback": [
      "\u001b[0;31m---------------------------------------------------------------------------\u001b[0m",
      "\u001b[0;31mAttributeError\u001b[0m                            Traceback (most recent call last)",
      "\u001b[0;32m<ipython-input-24-9a2d57de99b6>\u001b[0m in \u001b[0;36m<module>\u001b[0;34m\u001b[0m\n\u001b[1;32m     19\u001b[0m     \u001b[0;36m2\u001b[0m\u001b[0;34m:\u001b[0m\u001b[0;34m'year'\u001b[0m\u001b[0;34m\u001b[0m\u001b[0;34m\u001b[0m\u001b[0m\n\u001b[1;32m     20\u001b[0m }\n\u001b[0;32m---> 21\u001b[0;31m \u001b[0ma\u001b[0m \u001b[0;34m=\u001b[0m \u001b[0mbase\u001b[0m\u001b[0;34m.\u001b[0m\u001b[0msplit\u001b[0m\u001b[0;34m(\u001b[0m\u001b[0;34m'gas_start_date'\u001b[0m\u001b[0;34m,\u001b[0m \u001b[0;36m2\u001b[0m\u001b[0;34m)\u001b[0m\u001b[0;34m\u001b[0m\u001b[0;34m\u001b[0m\u001b[0m\n\u001b[0m\u001b[1;32m     22\u001b[0m \u001b[0ma\u001b[0m \u001b[0;34m=\u001b[0m \u001b[0ma\u001b[0m\u001b[0;34m.\u001b[0m\u001b[0mrename\u001b[0m\u001b[0;34m(\u001b[0m\u001b[0mcolumns\u001b[0m\u001b[0;34m=\u001b[0m\u001b[0mcols\u001b[0m\u001b[0;34m)\u001b[0m\u001b[0;34m\u001b[0m\u001b[0;34m\u001b[0m\u001b[0m\n\u001b[1;32m     23\u001b[0m \u001b[0ma\u001b[0m\u001b[0;34m[\u001b[0m\u001b[0;34m'month'\u001b[0m\u001b[0;34m]\u001b[0m \u001b[0;34m=\u001b[0m \u001b[0ma\u001b[0m\u001b[0;34m[\u001b[0m\u001b[0;34m'month'\u001b[0m\u001b[0;34m]\u001b[0m\u001b[0;34m.\u001b[0m\u001b[0mstr\u001b[0m\u001b[0;34m.\u001b[0m\u001b[0mlower\u001b[0m\u001b[0;34m(\u001b[0m\u001b[0;34m)\u001b[0m\u001b[0;34m.\u001b[0m\u001b[0mmap\u001b[0m\u001b[0;34m(\u001b[0m\u001b[0mmesi\u001b[0m\u001b[0;34m)\u001b[0m\u001b[0;34m\u001b[0m\u001b[0;34m\u001b[0m\u001b[0m\n",
      "\u001b[0;32m/rapids/notebooks/base_dask_cudf.py\u001b[0m in \u001b[0;36msplit\u001b[0;34m(self, column, splits, sep)\u001b[0m\n\u001b[1;32m    424\u001b[0m         \"\"\"\n\u001b[1;32m    425\u001b[0m \u001b[0;34m\u001b[0m\u001b[0m\n\u001b[0;32m--> 426\u001b[0;31m         \u001b[0;32mreturn\u001b[0m \u001b[0mself\u001b[0m\u001b[0;34m.\u001b[0m\u001b[0mdf\u001b[0m\u001b[0;34m[\u001b[0m\u001b[0mcolumn\u001b[0m\u001b[0;34m]\u001b[0m\u001b[0;34m.\u001b[0m\u001b[0mstr\u001b[0m\u001b[0;34m.\u001b[0m\u001b[0msplit\u001b[0m\u001b[0;34m(\u001b[0m\u001b[0msep\u001b[0m\u001b[0;34m,\u001b[0m \u001b[0msplits\u001b[0m\u001b[0;34m,\u001b[0m \u001b[0mexpand\u001b[0m\u001b[0;34m=\u001b[0m\u001b[0;32mTrue\u001b[0m\u001b[0;34m)\u001b[0m\u001b[0;34m\u001b[0m\u001b[0;34m\u001b[0m\u001b[0m\n\u001b[0m\u001b[1;32m    427\u001b[0m \u001b[0;34m\u001b[0m\u001b[0m\n\u001b[1;32m    428\u001b[0m     \u001b[0;32mdef\u001b[0m \u001b[0mstrip\u001b[0m\u001b[0;34m(\u001b[0m\u001b[0mself\u001b[0m\u001b[0;34m,\u001b[0m \u001b[0mcolumns\u001b[0m\u001b[0;34m,\u001b[0m \u001b[0mchars\u001b[0m\u001b[0;34m=\u001b[0m\u001b[0;32mNone\u001b[0m\u001b[0;34m)\u001b[0m\u001b[0;34m:\u001b[0m\u001b[0;34m\u001b[0m\u001b[0;34m\u001b[0m\u001b[0m\n",
      "\u001b[0;32m/opt/conda/envs/rapids/lib/python3.7/site-packages/pandas/_libs/properties.pyx\u001b[0m in \u001b[0;36mpandas._libs.properties.CachedProperty.__get__\u001b[0;34m()\u001b[0m\n",
      "\u001b[0;32m/opt/conda/envs/rapids/lib/python3.7/site-packages/dask/dataframe/core.py\u001b[0m in \u001b[0;36mstr\u001b[0;34m(self)\u001b[0m\n\u001b[1;32m   3212\u001b[0m     \u001b[0;32mdef\u001b[0m \u001b[0mstr\u001b[0m\u001b[0;34m(\u001b[0m\u001b[0mself\u001b[0m\u001b[0;34m)\u001b[0m\u001b[0;34m:\u001b[0m\u001b[0;34m\u001b[0m\u001b[0;34m\u001b[0m\u001b[0m\n\u001b[1;32m   3213\u001b[0m         \u001b[0;34m\"\"\"Namespace for string methods\"\"\"\u001b[0m\u001b[0;34m\u001b[0m\u001b[0;34m\u001b[0m\u001b[0m\n\u001b[0;32m-> 3214\u001b[0;31m         \u001b[0;32mreturn\u001b[0m \u001b[0mStringAccessor\u001b[0m\u001b[0;34m(\u001b[0m\u001b[0mself\u001b[0m\u001b[0;34m)\u001b[0m\u001b[0;34m\u001b[0m\u001b[0;34m\u001b[0m\u001b[0m\n\u001b[0m\u001b[1;32m   3215\u001b[0m \u001b[0;34m\u001b[0m\u001b[0m\n\u001b[1;32m   3216\u001b[0m     \u001b[0;32mdef\u001b[0m \u001b[0m__dir__\u001b[0m\u001b[0;34m(\u001b[0m\u001b[0mself\u001b[0m\u001b[0;34m)\u001b[0m\u001b[0;34m:\u001b[0m\u001b[0;34m\u001b[0m\u001b[0;34m\u001b[0m\u001b[0m\n",
      "\u001b[0;32m/opt/conda/envs/rapids/lib/python3.7/site-packages/dask/dataframe/accessor.py\u001b[0m in \u001b[0;36m__init__\u001b[0;34m(self, series)\u001b[0m\n\u001b[1;32m     35\u001b[0m         \u001b[0;32mif\u001b[0m \u001b[0mhasattr\u001b[0m\u001b[0;34m(\u001b[0m\u001b[0mseries_meta\u001b[0m\u001b[0;34m,\u001b[0m \u001b[0;34m\"to_series\"\u001b[0m\u001b[0;34m)\u001b[0m\u001b[0;34m:\u001b[0m  \u001b[0;31m# is index-like\u001b[0m\u001b[0;34m\u001b[0m\u001b[0;34m\u001b[0m\u001b[0m\n\u001b[1;32m     36\u001b[0m             \u001b[0mseries_meta\u001b[0m \u001b[0;34m=\u001b[0m \u001b[0mseries_meta\u001b[0m\u001b[0;34m.\u001b[0m\u001b[0mto_series\u001b[0m\u001b[0;34m(\u001b[0m\u001b[0;34m)\u001b[0m\u001b[0;34m\u001b[0m\u001b[0;34m\u001b[0m\u001b[0m\n\u001b[0;32m---> 37\u001b[0;31m         \u001b[0mmeta\u001b[0m \u001b[0;34m=\u001b[0m \u001b[0mgetattr\u001b[0m\u001b[0;34m(\u001b[0m\u001b[0mseries_meta\u001b[0m\u001b[0;34m,\u001b[0m \u001b[0mself\u001b[0m\u001b[0;34m.\u001b[0m\u001b[0m_accessor_name\u001b[0m\u001b[0;34m)\u001b[0m\u001b[0;34m\u001b[0m\u001b[0;34m\u001b[0m\u001b[0m\n\u001b[0m\u001b[1;32m     38\u001b[0m \u001b[0;34m\u001b[0m\u001b[0m\n\u001b[1;32m     39\u001b[0m         \u001b[0mself\u001b[0m\u001b[0;34m.\u001b[0m\u001b[0m_meta\u001b[0m \u001b[0;34m=\u001b[0m \u001b[0mmeta\u001b[0m\u001b[0;34m\u001b[0m\u001b[0;34m\u001b[0m\u001b[0m\n",
      "\u001b[0;32m/opt/conda/envs/rapids/lib/python3.7/site-packages/cudf/core/series.py\u001b[0m in \u001b[0;36mstr\u001b[0;34m(self)\u001b[0m\n\u001b[1;32m   1350\u001b[0m     \u001b[0;34m@\u001b[0m\u001b[0mproperty\u001b[0m\u001b[0;34m\u001b[0m\u001b[0;34m\u001b[0m\u001b[0m\n\u001b[1;32m   1351\u001b[0m     \u001b[0;32mdef\u001b[0m \u001b[0mstr\u001b[0m\u001b[0;34m(\u001b[0m\u001b[0mself\u001b[0m\u001b[0;34m)\u001b[0m\u001b[0;34m:\u001b[0m\u001b[0;34m\u001b[0m\u001b[0;34m\u001b[0m\u001b[0m\n\u001b[0;32m-> 1352\u001b[0;31m         \u001b[0;32mreturn\u001b[0m \u001b[0mStringMethods\u001b[0m\u001b[0;34m(\u001b[0m\u001b[0mparent\u001b[0m\u001b[0;34m=\u001b[0m\u001b[0mself\u001b[0m\u001b[0;34m)\u001b[0m\u001b[0;34m\u001b[0m\u001b[0;34m\u001b[0m\u001b[0m\n\u001b[0m\u001b[1;32m   1353\u001b[0m \u001b[0;34m\u001b[0m\u001b[0m\n\u001b[1;32m   1354\u001b[0m     \u001b[0;34m@\u001b[0m\u001b[0mcopy_docstring\u001b[0m\u001b[0;34m(\u001b[0m\u001b[0mListMethods\u001b[0m\u001b[0;34m)\u001b[0m  \u001b[0;31m# type: ignore\u001b[0m\u001b[0;34m\u001b[0m\u001b[0;34m\u001b[0m\u001b[0m\n",
      "\u001b[0;32m/opt/conda/envs/rapids/lib/python3.7/site-packages/cudf/core/column/string.py\u001b[0m in \u001b[0;36m__init__\u001b[0;34m(self, parent)\u001b[0m\n\u001b[1;32m    189\u001b[0m         \u001b[0;32mif\u001b[0m \u001b[0;32mnot\u001b[0m \u001b[0mis_string_dtype\u001b[0m\u001b[0;34m(\u001b[0m\u001b[0mvalue_type\u001b[0m\u001b[0;34m)\u001b[0m\u001b[0;34m:\u001b[0m\u001b[0;34m\u001b[0m\u001b[0;34m\u001b[0m\u001b[0m\n\u001b[1;32m    190\u001b[0m             raise AttributeError(\n\u001b[0;32m--> 191\u001b[0;31m                 \u001b[0;34m\"Can only use .str accessor with string values\"\u001b[0m\u001b[0;34m\u001b[0m\u001b[0;34m\u001b[0m\u001b[0m\n\u001b[0m\u001b[1;32m    192\u001b[0m             )\n\u001b[1;32m    193\u001b[0m         \u001b[0msuper\u001b[0m\u001b[0;34m(\u001b[0m\u001b[0;34m)\u001b[0m\u001b[0;34m.\u001b[0m\u001b[0m__init__\u001b[0m\u001b[0;34m(\u001b[0m\u001b[0mparent\u001b[0m\u001b[0;34m=\u001b[0m\u001b[0mparent\u001b[0m\u001b[0;34m)\u001b[0m\u001b[0;34m\u001b[0m\u001b[0;34m\u001b[0m\u001b[0m\n",
      "\u001b[0;31mAttributeError\u001b[0m: Can only use .str accessor with string values"
     ]
    }
   ],
   "source": [
    "#CONVERSIONE COLONNE SU DASK_CUDF \n",
    "mesi = {\n",
    "    'gennaio': '01',\n",
    "    'febbraio': '02',\n",
    "    'marzo' : '03',\n",
    "    'aprile': '04',\n",
    "    'maggio': '05',\n",
    "    'giugno': '06',\n",
    "    'luglio': '07',\n",
    "    'agosto': '08',\n",
    "    'settembre': '09',\n",
    "    'ottobre': '10',\n",
    "    'novembre': '11',\n",
    "    'dicembre': '12',\n",
    "}\n",
    "cols = {\n",
    "    0:'day',\n",
    "    1:'month',\n",
    "    2:'year'\n",
    "}\n",
    "a = base.split('gas_start_date', 2)\n",
    "a = a.rename(columns=cols)\n",
    "a['month'] = a['month'].str.lower().map(mesi)\n",
    "dd.to_datetime(a).head()"
   ]
  },
  {
   "cell_type": "markdown",
   "id": "5356f67f-e4ca-4e97-abf7-ac221d20296b",
   "metadata": {
    "jp-MarkdownHeadingCollapsed": true,
    "tags": []
   },
   "source": [
    "### DA QUA FUNZIONA QUASI"
   ]
  },
  {
   "cell_type": "markdown",
   "id": "6e47a311-31e9-4b78-92fd-423ec35410c5",
   "metadata": {},
   "source": [
    "Non so perchè le due colonne (reale ed elaborata) dopo l'assegnamento passano da 7000 NAN a 7M ..."
   ]
  },
  {
   "cell_type": "code",
   "execution_count": 47,
   "id": "817cf11a-4ecb-4419-b6b6-fa6e0f252971",
   "metadata": {},
   "outputs": [
    {
     "name": "stderr",
     "output_type": "stream",
     "text": [
      "/opt/conda/envs/rapids/lib/python3.7/site-packages/distributed/node.py:161: UserWarning: Port 8787 is already in use.\n",
      "Perhaps you already have a cluster running?\n",
      "Hosting the HTTP server on port 33635 instead\n",
      "  f\"Port {expected} is already in use.\\n\"\n",
      "/opt/conda/envs/rapids/lib/python3.7/site-packages/distributed/node.py:161: UserWarning: Port 8787 is already in use.\n",
      "Perhaps you already have a cluster running?\n",
      "Hosting the HTTP server on port 41085 instead\n",
      "  f\"Port {expected} is already in use.\\n\"\n"
     ]
    }
   ],
   "source": [
    "base = setup()"
   ]
  },
  {
   "cell_type": "code",
   "execution_count": 34,
   "id": "e691cfb6-be4d-4d6b-8e08-75d75a7e3f74",
   "metadata": {},
   "outputs": [],
   "source": [
    "#base.df = base.df.reset_index(drop=True)"
   ]
  },
  {
   "cell_type": "code",
   "execution_count": 35,
   "id": "9be6e895-9e53-4cae-b39e-c9976d3d5fea",
   "metadata": {},
   "outputs": [
    {
     "data": {
      "text/plain": [
       "'\\n'"
      ]
     },
     "execution_count": 35,
     "metadata": {},
     "output_type": "execute_result"
    }
   ],
   "source": [
    "cols = {\n",
    "    0:'day',\n",
    "    1:'month',\n",
    "    2:'year'\n",
    "}\n",
    "\n",
    "month = {\n",
    "    'gennaio': '01',\n",
    "    'febbraio': '02',\n",
    "    'marzo' : '03',\n",
    "    'aprile': '04',\n",
    "    'maggio': '05',\n",
    "    'giugno': '06',\n",
    "    'luglio': '07',\n",
    "    'agosto': '08',\n",
    "    'settembre': '09',\n",
    "    'ottobre': '10',\n",
    "    'novembre': '11',\n",
    "    'dicembre': '12',\n",
    "}\n",
    "\n",
    "tmp = base.df[\"gas_start_date\"]#.head()\n",
    "# tmp = tmp.str.replace(' ', '-')\n",
    "# tmp = tmp.str.split(\"-\", 2, expand=True)\n",
    "tmp = tmp.str.split(\" \", 2, expand=True)\n",
    "tmp = tmp.rename(columns=cols)\n",
    "tmp['month'] = tmp['month'].str.lower().map(month)\n",
    "tmp['day'] = tmp['day'].str.zfill(2)\n",
    "\n",
    "tmp = tmp['year'] + \"-\" + tmp['month'] + \"-\" + tmp[\"day\"]\n",
    "\n",
    "tmp = tmp.compute()\n",
    "\n",
    "tmp = cudf.to_datetime(tmp, format=\"%Y-%m-%d\")\n",
    "tmp = dask_cudf.from_cudf(tmp, npartitions=base.df.npartitions)\n",
    "#base.df[\"gas_start_date\"] = tmp.reset_index(drop=True)\n",
    "#tmp = tmp.reset_index(drop=True)\n",
    "#tmp.index = base.df[\"gas_start_date\"].index\n",
    "#tmp.index = base.df[\"gas_start_date\"].index\n",
    "base[\"gas_start_date\"] = tmp.reset_index(drop=True)\n",
    "\"\"\"\n",
    "\"\"\""
   ]
  },
  {
   "cell_type": "code",
   "execution_count": 53,
   "id": "39ef83cf-f3f2-4fe1-a63f-e387df686c78",
   "metadata": {},
   "outputs": [],
   "source": [
    "def myfunc(df):\n",
    "    cols = {\n",
    "        0:'day',\n",
    "        1:'month',\n",
    "        2:'year'\n",
    "    }\n",
    "\n",
    "    month = {\n",
    "        'gennaio': '01',\n",
    "        'febbraio': '02',\n",
    "        'marzo' : '03',\n",
    "        'aprile': '04',\n",
    "        'maggio': '05',\n",
    "        'giugno': '06',\n",
    "        'luglio': '07',\n",
    "        'agosto': '08',\n",
    "        'settembre': '09',\n",
    "        'ottobre': '10',\n",
    "        'novembre': '11',\n",
    "        'dicembre': '12',\n",
    "    }\n",
    "\n",
    "    tmp = df#.head()\n",
    "    # tmp = tmp.str.replace(' ', '-')\n",
    "    # tmp = tmp.str.split(\"-\", 2, expand=True)\n",
    "    tmp = tmp.str.split(\" \", 2, expand=True)\n",
    "    tmp = tmp.rename(columns=cols)\n",
    "    tmp['month'] = tmp['month'].str.lower().map(month)\n",
    "    tmp['day'] = tmp['day'].str.zfill(2)\n",
    "\n",
    "    tmp = tmp['year'] + \"-\" + tmp['month'] + \"-\" + tmp[\"day\"]\n",
    "\n",
    "    tmp = cudf.to_datetime(tmp, format=\"%Y-%m-%d\")\n",
    "\n",
    "    return tmp\n",
    "\"\"\"\n",
    "\"\"\"\n",
    "\n",
    "result = base[\"gas_start_date\"].map_partitions(myfunc, meta='datetime64[ns]')"
   ]
  },
  {
   "cell_type": "code",
   "execution_count": 54,
   "id": "e15c6c1d-78ca-4722-a53c-9ecf440ee77d",
   "metadata": {},
   "outputs": [
    {
     "data": {
      "text/plain": [
       "7871"
      ]
     },
     "execution_count": 54,
     "metadata": {},
     "output_type": "execute_result"
    }
   ],
   "source": [
    "result.isna().sum().compute()"
   ]
  },
  {
   "cell_type": "code",
   "execution_count": 55,
   "id": "f59c8d48-111f-42c7-84de-b9f7ac6f7d44",
   "metadata": {},
   "outputs": [],
   "source": [
    "base[\"gas_start_date\"] = result"
   ]
  },
  {
   "cell_type": "code",
   "execution_count": null,
   "id": "9be55249-a859-41f4-9a75-c7d7752321a1",
   "metadata": {},
   "outputs": [],
   "source": []
  },
  {
   "cell_type": "code",
   "execution_count": 56,
   "id": "82d4dedd-552f-46f6-b80e-834abbfd322c",
   "metadata": {},
   "outputs": [
    {
     "data": {
      "text/plain": [
       "7871"
      ]
     },
     "execution_count": 56,
     "metadata": {},
     "output_type": "execute_result"
    }
   ],
   "source": [
    "base.df[\"gas_start_date\"].isna().sum().compute()"
   ]
  },
  {
   "cell_type": "code",
   "execution_count": 42,
   "id": "cc336f58-01a7-4248-ae81-e64e7aee0324",
   "metadata": {},
   "outputs": [
    {
     "data": {
      "text/plain": [
       "7871"
      ]
     },
     "execution_count": 42,
     "metadata": {},
     "output_type": "execute_result"
    }
   ],
   "source": [
    "tmp.reset_index(drop=True).isna().sum().compute()"
   ]
  },
  {
   "cell_type": "code",
   "execution_count": 41,
   "id": "266291b4-45dc-419a-9108-8c5e11621815",
   "metadata": {},
   "outputs": [
    {
     "data": {
      "text/plain": [
       "57"
      ]
     },
     "execution_count": 41,
     "metadata": {},
     "output_type": "execute_result"
    }
   ],
   "source": [
    "tmp.npartitions"
   ]
  },
  {
   "cell_type": "code",
   "execution_count": 9,
   "id": "c24e1970-07db-4e6e-96b5-8004cb4ba641",
   "metadata": {},
   "outputs": [
    {
     "data": {
      "text/plain": [
       "10497143"
      ]
     },
     "execution_count": 9,
     "metadata": {},
     "output_type": "execute_result"
    }
   ],
   "source": [
    "tmp.shape[0].compute()"
   ]
  },
  {
   "cell_type": "code",
   "execution_count": null,
   "id": "356f3423-e068-4c4f-9cd2-6f5a0499eb50",
   "metadata": {},
   "outputs": [],
   "source": [
    "# troppi nan qua sopra"
   ]
  },
  {
   "cell_type": "code",
   "execution_count": null,
   "id": "f4eb2c49-716b-4af4-93ac-0f6792e65260",
   "metadata": {},
   "outputs": [],
   "source": [
    "dask_cudf.from_cudf(tmp, npartitions=base.npartitions()).compute()"
   ]
  },
  {
   "cell_type": "code",
   "execution_count": 11,
   "id": "098dd301-67cb-4f4d-9208-e3b86159c9e2",
   "metadata": {},
   "outputs": [
    {
     "data": {
      "text/plain": [
       "2288953"
      ]
     },
     "execution_count": 11,
     "metadata": {},
     "output_type": "execute_result"
    }
   ],
   "source": [
    "base.df[\"gas_start_date\"].isna().sum().compute()"
   ]
  },
  {
   "cell_type": "code",
   "execution_count": 43,
   "id": "f72d7e40-af4d-4ccc-b109-fec576651eba",
   "metadata": {},
   "outputs": [
    {
     "data": {
      "text/plain": [
       "10497143"
      ]
     },
     "execution_count": 43,
     "metadata": {},
     "output_type": "execute_result"
    }
   ],
   "source": [
    "len(tmp.reset_index(drop=True))"
   ]
  },
  {
   "cell_type": "code",
   "execution_count": 61,
   "id": "d91f81cc-11ba-4971-932a-685fbead73c4",
   "metadata": {},
   "outputs": [
    {
     "data": {
      "text/plain": [
       "7871"
      ]
     },
     "execution_count": 61,
     "metadata": {},
     "output_type": "execute_result"
    }
   ],
   "source": [
    "tmp.reset_index(drop=True).isna().sum().compute()"
   ]
  },
  {
   "cell_type": "code",
   "execution_count": 44,
   "id": "228c5cbc-420e-4ad1-a610-6460fc1a2590",
   "metadata": {},
   "outputs": [
    {
     "data": {
      "text/plain": [
       "10497143"
      ]
     },
     "execution_count": 44,
     "metadata": {},
     "output_type": "execute_result"
    }
   ],
   "source": [
    "len(base.df[\"gas_start_date\"])"
   ]
  },
  {
   "cell_type": "code",
   "execution_count": 45,
   "id": "a0761c91-2900-4b54-ae96-a89fbca941bb",
   "metadata": {},
   "outputs": [
    {
     "data": {
      "text/plain": [
       "0         2019-11-25 00:00:00.000000000\n",
       "1         2021-01-29 00:00:00.000000000\n",
       "2         2021-01-26 00:00:00.000000000\n",
       "3         2021-01-26 00:00:00.000000000\n",
       "4         2021-03-19 00:00:00.000000000\n",
       "                      ...              \n",
       "542441                             <NA>\n",
       "542442                             <NA>\n",
       "542443                             <NA>\n",
       "542444                             <NA>\n",
       "542445                             <NA>\n",
       "Name: gas_start_date, Length: 10497143, dtype: datetime64[ns]"
      ]
     },
     "execution_count": 45,
     "metadata": {},
     "output_type": "execute_result"
    }
   ],
   "source": [
    "base.df[\"gas_start_date\"].compute()"
   ]
  },
  {
   "cell_type": "code",
   "execution_count": 66,
   "id": "1440f20d-81a4-43de-bc1b-8aad3d5f76e1",
   "metadata": {},
   "outputs": [
    {
     "data": {
      "text/plain": [
       "0        2019-11-25\n",
       "0        2021-01-29\n",
       "0        2021-01-26\n",
       "0        2021-01-26\n",
       "0        2021-03-19\n",
       "            ...    \n",
       "557445   2021-03-25\n",
       "557446   2021-03-25\n",
       "557447   2021-03-25\n",
       "557448   2021-03-25\n",
       "557449   2021-03-25\n",
       "Length: 10497143, dtype: datetime64[ns]"
      ]
     },
     "execution_count": 66,
     "metadata": {},
     "output_type": "execute_result"
    }
   ],
   "source": [
    "tmp.compute()"
   ]
  },
  {
   "cell_type": "code",
   "execution_count": 77,
   "id": "9425443e-0e74-46a1-a86f-958441cc9e32",
   "metadata": {},
   "outputs": [
    {
     "data": {
      "text/plain": [
       "Int64Index([     0,      1,      2,      3,      4,      5,      6,      7,\n",
       "                 8,      9,\n",
       "            ...\n",
       "            557440, 557441, 557442, 557443, 557444, 557445, 557446, 557447,\n",
       "            557448, 557449],\n",
       "           dtype='int64', length=557450)"
      ]
     },
     "execution_count": 77,
     "metadata": {},
     "output_type": "execute_result"
    }
   ],
   "source": [
    "base.df.index.compute().unique()"
   ]
  },
  {
   "cell_type": "code",
   "execution_count": null,
   "id": "72f1c5da-651e-4d34-bcd6-0f5c6924c794",
   "metadata": {},
   "outputs": [],
   "source": []
  },
  {
   "cell_type": "code",
   "execution_count": null,
   "id": "a975f78f-dae6-499e-928d-c5bfcbff865f",
   "metadata": {},
   "outputs": [],
   "source": []
  },
  {
   "cell_type": "markdown",
   "id": "991905c6-c6c2-4149-9a89-24b036c282fe",
   "metadata": {
    "tags": []
   },
   "source": [
    "### Conversione colonna da stringa in formato \"1,22 unita_misura\" a float"
   ]
  },
  {
   "cell_type": "code",
   "execution_count": null,
   "id": "ea098b30-378d-438e-967c-ed9ce6c76cdf",
   "metadata": {},
   "outputs": [],
   "source": [
    "#Ottenere unità di misura\n",
    "misure = base.split('average_gas_bill_cost', 1)[1].value_counts().index.compute()[0]\n",
    "#rimozione unità di misura\n",
    "base.strip(['average_gas_bill_cost'], '€/smc')['average_gas_bill_cost']\n",
    "#sostituzione della , con .\n",
    "base.replace(['average_gas_bill_cost'], ',', '.', regex=True)['average_gas_bill_cost']"
   ]
  },
  {
   "cell_type": "markdown",
   "id": "01e6c1c5-e0bc-4e35-bbfd-108507fba2aa",
   "metadata": {},
   "source": [
    "#### Le operazioni preliminari vanno a buon fine, qua si aprono più scenari (fallimentari)"
   ]
  },
  {
   "cell_type": "markdown",
   "id": "3ce3f032-062e-40c6-9f2f-1f332b983483",
   "metadata": {
    "jp-MarkdownHeadingCollapsed": true,
    "tags": []
   },
   "source": [
    "questa soluzione è quella corretta su dask normale, utilizzando dask_cudf però genera un errore dovuto alla conversione implicita di un array in un numpy array, cosa non fattibile all'interno della GPU quindi consiglia di costruire esplicitamente una matrice tramite Cupy (Cuda Python) ma queste sono operazioni interne alla libreria"
   ]
  },
  {
   "cell_type": "code",
   "execution_count": null,
   "id": "aa469693-7f56-4ef8-b666-fdfd88ea52dd",
   "metadata": {},
   "outputs": [],
   "source": [
    "dd.to_numeric(base.get_df()['average_gas_bill_cost'])\n",
    " "
   ]
  },
  {
   "cell_type": "markdown",
   "id": "cc229661-d947-44e5-a36d-3b343c4aeba3",
   "metadata": {},
   "source": [
    "Qua da 2 diverse tipologie di errori: una dovuta ai metadati e l'altra alla presenza di valori non convertibili, anche togliedo tutti i valori nan con [~base['average_gas_bill_cost'].isna()] la situazione non cambia"
   ]
  },
  {
   "cell_type": "code",
   "execution_count": null,
   "id": "06b38d04-6dfb-4514-a9f9-61c861eb06b1",
   "metadata": {},
   "outputs": [],
   "source": [
    "base.get_df()['average_gas_bill_cost'].map_partitions(cudf.to_numeric, 'raise')"
   ]
  },
  {
   "cell_type": "markdown",
   "id": "c0ed19a8-c3a2-48a6-822c-eb89bbf08faa",
   "metadata": {
    "tags": []
   },
   "source": [
    "# Pipeline"
   ]
  },
  {
   "cell_type": "code",
   "execution_count": null,
   "id": "913e94e4-2957-4530-b39f-42e148900131",
   "metadata": {},
   "outputs": [],
   "source": [
    "''' \n",
    "+++++ UTILITY ATTRIBUTES +++++\n",
    "    \n",
    "    user_code --> String --> (Anonymized) code for the customer that owns this utility\n",
    "    customer_code --> String --> Combined with user_code provides a unique identifier for the utility. Even this field is anonymized\n",
    "    city --> String --> City where the utility is located\n",
    "    address --> String --> (Anonymized) address of the utility location\n",
    "'''"
   ]
  },
  {
   "cell_type": "code",
   "execution_count": null,
   "id": "85cf4241-0bc3-403d-8448-ac39e63c2d54",
   "metadata": {},
   "outputs": [],
   "source": [
    "''' \n",
    "+++++ CUSTOMER ATTRIBUTES +++++\n",
    "    \n",
    "    user_code --> String --> (Anonymized) code that identifies the customer\n",
    "    nominative --> String --> (Anonymized) customer name\n",
    "    sex --> String --> Sex of the customer. It could be ‘M’, ‘F’, ‘P’, with ‘P’ denoting that the customer is a commercial activity (VAT number)\n",
    "    age --> Int --> Age of the customer, set to null for commercial activities (sex = ‘P’). Its value must be >= 18\n",
    "'''"
   ]
  },
  {
   "cell_type": "code",
   "execution_count": null,
   "id": "437bd361-c8b2-4cc8-b518-0bb50fddaa89",
   "metadata": {},
   "outputs": [],
   "source": [
    "''' \n",
    "+++++ INVOICE ATTRIBUTES +++++\n",
    "    \n",
    "    bill_id --> Int --> Invoice identifier\n",
    "    F1_kWh --> Float --> kWh of electricity consumed in the F1 time slot\n",
    "    F2_kWh --> Float --> kWh of electricity consumed in the F2 time slot\n",
    "    F3_kWh --> Float --> kWh of electricity consumed in the F3 time slot \n",
    "    date --> Date --> Start date\n",
    "    light_start_date --> Date --> Start date of electricity invoice\n",
    "    light_end_date --> Date --> End date of electricity invoice\n",
    "    tv --> Float --> Television fee to pay\n",
    "    gas_amount --> Float --> Gas fee to pay\n",
    "    gas_average_cost --> Float --> Average cost of gas\n",
    "    light_average_cost --> Float --> Average cost of electricity\n",
    "    emission_date --> Date --> Emission date\n",
    "    supply_type --> String --> Supply type (‘light’, ‘gas’, ‘gas and light’)\n",
    "    gas_start_date --> Date --> Start date of gas invoice\n",
    "    gas_end_date --> Date --> End date of gas invoice\n",
    "    extra_fees --> Float --> Extra fees to pay\n",
    "    gas_consumption --> Float --> Consumed gas\n",
    "    light_consumption --> Float --> Consumed electricity\n",
    "    gas_offer --> Float --> Name of the subscribed gas plan (anonymized)\n",
    "    light_offer_type --> String --> Kind of plan for the electricity (‘single zone’, ‘bizone’, etc.)\n",
    "    light_offer --> String --> Name of the subscribed electricity plan (anonymized)\n",
    "    total_amount --> Float --> gas_amount + light_amount + extra_fees\n",
    "    howmuch_pay --> Float --> Overall amount to pay, computed as total_amount + tv\n",
    "    light_amount --> Float --> Amount to pay for the electricity\n",
    "    average_unit_light_cost --> Float --> Average cost for electricity\n",
    "    average_light_bill_cost --> Float --> Average cost for the electricity invoice\n",
    "    average_unit_gas_cost --> Float --> Average cost for gas\n",
    "    average_gas_bill_cost --> Float --> Average cost for the gas invoice\n",
    "    billing_frequency --> String --> Billing frequency (‘monthly’, ‘quarterly’, etc.)\n",
    "    bill_type --> String --> Kind of invoice (False means a “standard bill”)\n",
    "    gas_system_charges --> Float --> Extra gas fees\n",
    "    light_system_charges --> Float --> Extra electricity fees\n",
    "    gas_material_cost --> Float --> Costs for gas\n",
    "    light_transport_cost --> Float --> Extra electricity fees\n",
    "    gas_transport_cost --> Float --> Extra gas fees\n",
    "    light_material_cost --> Float --> Costs for electricity\n",
    "'''"
   ]
  },
  {
   "cell_type": "code",
   "execution_count": null,
   "id": "421de43f-f87a-4e4e-be7d-eaf78e120993",
   "metadata": {},
   "outputs": [],
   "source": [
    "''' \n",
    "+++++ DATA INGESTION +++++\n",
    "    • Read data from its source\n",
    "    • Study how to deal with data that doesn’t fit in memory (!) --> Da chiede a Gagliardelli\n",
    "    • Locate missing values\n",
    "    • Locate outliers\n",
    "    • Sort data\n",
    "'''"
   ]
  },
  {
   "cell_type": "markdown",
   "id": "4d02f1af-6897-4698-8740-5af95934734b",
   "metadata": {
    "tags": []
   },
   "source": [
    "# Loading Dataset"
   ]
  },
  {
   "cell_type": "code",
   "execution_count": 1,
   "id": "91dc8a36-dbef-4fdd-9403-d17c9715230e",
   "metadata": {
    "tags": []
   },
   "outputs": [],
   "source": [
    "import dask_cudf as dc\n",
    "import dask.dataframe as dd\n",
    "import dask.array as da\n",
    "from dask_cuda import LocalCUDACluster\n",
    "from dask.distributed import Client\n",
    "import cudf\n",
    "import numpy as np\n",
    "from base_dask_cudf import BaseDfBench\n",
    "import pandas as pd\n",
    "\n",
    "#import graphviz"
   ]
  },
  {
   "cell_type": "code",
   "execution_count": 2,
   "id": "07a2688c-122a-4dc4-b205-7c38fdd2676c",
   "metadata": {},
   "outputs": [
    {
     "name": "stderr",
     "output_type": "stream",
     "text": [
      "Future exception was never retrieved\n",
      "future: <Future finished exception=CommClosedError('in <TCP (closed) Scheduler Broadcast local=tcp://127.0.0.1:49640 remote=tcp://127.0.0.1:39589>: Stream is closed')>\n",
      "Traceback (most recent call last):\n",
      "  File \"/opt/conda/envs/rapids/lib/python3.7/site-packages/distributed/comm/tcp.py\", line 205, in read\n",
      "    frames_nbytes = await stream.read_bytes(fmt_size)\n",
      "tornado.iostream.StreamClosedError: Stream is closed\n",
      "\n",
      "The above exception was the direct cause of the following exception:\n",
      "\n",
      "Traceback (most recent call last):\n",
      "  File \"/opt/conda/envs/rapids/lib/python3.7/site-packages/tornado/gen.py\", line 769, in run\n",
      "    yielded = self.gen.throw(*exc_info)  # type: ignore\n",
      "  File \"/opt/conda/envs/rapids/lib/python3.7/site-packages/distributed/utils.py\", line 229, in quiet\n",
      "    yield task\n",
      "  File \"/opt/conda/envs/rapids/lib/python3.7/site-packages/tornado/gen.py\", line 762, in run\n",
      "    value = future.result()\n",
      "  File \"/opt/conda/envs/rapids/lib/python3.7/site-packages/distributed/scheduler.py\", line 5997, in send_message\n",
      "    resp = await send_recv(comm, close=True, serializers=serializers, **msg)\n",
      "  File \"/opt/conda/envs/rapids/lib/python3.7/site-packages/distributed/core.py\", line 672, in send_recv\n",
      "    response = await comm.read(deserializers=deserializers)\n",
      "  File \"/opt/conda/envs/rapids/lib/python3.7/site-packages/distributed/comm/tcp.py\", line 221, in read\n",
      "    convert_stream_closed_error(self, e)\n",
      "  File \"/opt/conda/envs/rapids/lib/python3.7/site-packages/distributed/comm/tcp.py\", line 128, in convert_stream_closed_error\n",
      "    raise CommClosedError(f\"in {obj}: {exc}\") from exc\n",
      "distributed.comm.core.CommClosedError: in <TCP (closed) Scheduler Broadcast local=tcp://127.0.0.1:49640 remote=tcp://127.0.0.1:39589>: Stream is closed\n",
      "distributed.nanny - WARNING - Restarting worker\n",
      "distributed.nanny - WARNING - Restarting worker\n",
      "distributed.nanny - WARNING - Restarting worker\n",
      "distributed.nanny - WARNING - Restarting worker\n",
      "distributed.nanny - WARNING - Restarting worker\n",
      "distributed.nanny - WARNING - Restarting worker\n"
     ]
    },
    {
     "ename": "KeyboardInterrupt",
     "evalue": "",
     "output_type": "error",
     "traceback": [
      "\u001b[0;31m---------------------------------------------------------------------------\u001b[0m",
      "\u001b[0;31mKeyboardInterrupt\u001b[0m                         Traceback (most recent call last)",
      "\u001b[0;32m<ipython-input-2-0aa264de0fbd>\u001b[0m in \u001b[0;36m<module>\u001b[0;34m\u001b[0m\n\u001b[0;32m----> 1\u001b[0;31m \u001b[0mbase\u001b[0m \u001b[0;34m=\u001b[0m \u001b[0mBaseDfBench\u001b[0m\u001b[0;34m(\u001b[0m\u001b[0;34m\"DASK\"\u001b[0m\u001b[0;34m)\u001b[0m\u001b[0;34m\u001b[0m\u001b[0;34m\u001b[0m\u001b[0m\n\u001b[0m\u001b[1;32m      2\u001b[0m \u001b[0;31m# base = BaseDfBench()\u001b[0m\u001b[0;34m\u001b[0m\u001b[0;34m\u001b[0m\u001b[0;34m\u001b[0m\u001b[0m\n",
      "\u001b[0;32m/rapids/notebooks/base_dask_cudf.py\u001b[0m in \u001b[0;36m__init__\u001b[0;34m(self, type_of_istance)\u001b[0m\n\u001b[1;32m     21\u001b[0m             \u001b[0mcluster\u001b[0m \u001b[0;34m=\u001b[0m \u001b[0mLocalClient\u001b[0m\u001b[0;34m(\u001b[0m\u001b[0;34m)\u001b[0m\u001b[0;34m\u001b[0m\u001b[0;34m\u001b[0m\u001b[0m\n\u001b[1;32m     22\u001b[0m         \u001b[0mclient\u001b[0m \u001b[0;34m=\u001b[0m \u001b[0mClient\u001b[0m\u001b[0;34m(\u001b[0m\u001b[0mcluster\u001b[0m\u001b[0;34m)\u001b[0m\u001b[0;34m\u001b[0m\u001b[0;34m\u001b[0m\u001b[0m\n\u001b[0;32m---> 23\u001b[0;31m         \u001b[0mclient\u001b[0m\u001b[0;34m.\u001b[0m\u001b[0mrun\u001b[0m\u001b[0;34m(\u001b[0m\u001b[0mcudf\u001b[0m\u001b[0;34m.\u001b[0m\u001b[0mset_allocator\u001b[0m\u001b[0;34m,\u001b[0m \u001b[0;34m\"managed\"\u001b[0m\u001b[0;34m)\u001b[0m\u001b[0;34m\u001b[0m\u001b[0;34m\u001b[0m\u001b[0m\n\u001b[0m\u001b[1;32m     24\u001b[0m \u001b[0;34m\u001b[0m\u001b[0m\n\u001b[1;32m     25\u001b[0m     \u001b[0;32mdef\u001b[0m \u001b[0m__getitem__\u001b[0m\u001b[0;34m(\u001b[0m\u001b[0mself\u001b[0m\u001b[0;34m,\u001b[0m \u001b[0mkey\u001b[0m\u001b[0;34m)\u001b[0m\u001b[0;34m:\u001b[0m\u001b[0;34m\u001b[0m\u001b[0;34m\u001b[0m\u001b[0m\n",
      "\u001b[0;32m/opt/conda/envs/rapids/lib/python3.7/site-packages/distributed/client.py\u001b[0m in \u001b[0;36mrun\u001b[0;34m(self, function, *args, **kwargs)\u001b[0m\n\u001b[1;32m   2504\u001b[0m         \u001b[0;34m>>\u001b[0m\u001b[0;34m>\u001b[0m \u001b[0mc\u001b[0m\u001b[0;34m.\u001b[0m\u001b[0mrun\u001b[0m\u001b[0;34m(\u001b[0m\u001b[0mprint_state\u001b[0m\u001b[0;34m,\u001b[0m \u001b[0mwait\u001b[0m\u001b[0;34m=\u001b[0m\u001b[0;32mFalse\u001b[0m\u001b[0;34m)\u001b[0m  \u001b[0;31m# doctest: +SKIP\u001b[0m\u001b[0;34m\u001b[0m\u001b[0;34m\u001b[0m\u001b[0m\n\u001b[1;32m   2505\u001b[0m         \"\"\"\n\u001b[0;32m-> 2506\u001b[0;31m         \u001b[0;32mreturn\u001b[0m \u001b[0mself\u001b[0m\u001b[0;34m.\u001b[0m\u001b[0msync\u001b[0m\u001b[0;34m(\u001b[0m\u001b[0mself\u001b[0m\u001b[0;34m.\u001b[0m\u001b[0m_run\u001b[0m\u001b[0;34m,\u001b[0m \u001b[0mfunction\u001b[0m\u001b[0;34m,\u001b[0m \u001b[0;34m*\u001b[0m\u001b[0margs\u001b[0m\u001b[0;34m,\u001b[0m \u001b[0;34m**\u001b[0m\u001b[0mkwargs\u001b[0m\u001b[0;34m)\u001b[0m\u001b[0;34m\u001b[0m\u001b[0;34m\u001b[0m\u001b[0m\n\u001b[0m\u001b[1;32m   2507\u001b[0m \u001b[0;34m\u001b[0m\u001b[0m\n\u001b[1;32m   2508\u001b[0m     \u001b[0;34m@\u001b[0m\u001b[0m_deprecated\u001b[0m\u001b[0;34m(\u001b[0m\u001b[0muse_instead\u001b[0m\u001b[0;34m=\u001b[0m\u001b[0;34m\"Client.run which detects async functions automatically\"\u001b[0m\u001b[0;34m)\u001b[0m\u001b[0;34m\u001b[0m\u001b[0;34m\u001b[0m\u001b[0m\n",
      "\u001b[0;32m/opt/conda/envs/rapids/lib/python3.7/site-packages/distributed/client.py\u001b[0m in \u001b[0;36msync\u001b[0;34m(self, func, asynchronous, callback_timeout, *args, **kwargs)\u001b[0m\n\u001b[1;32m    867\u001b[0m         \u001b[0;32melse\u001b[0m\u001b[0;34m:\u001b[0m\u001b[0;34m\u001b[0m\u001b[0;34m\u001b[0m\u001b[0m\n\u001b[1;32m    868\u001b[0m             return sync(\n\u001b[0;32m--> 869\u001b[0;31m                 \u001b[0mself\u001b[0m\u001b[0;34m.\u001b[0m\u001b[0mloop\u001b[0m\u001b[0;34m,\u001b[0m \u001b[0mfunc\u001b[0m\u001b[0;34m,\u001b[0m \u001b[0;34m*\u001b[0m\u001b[0margs\u001b[0m\u001b[0;34m,\u001b[0m \u001b[0mcallback_timeout\u001b[0m\u001b[0;34m=\u001b[0m\u001b[0mcallback_timeout\u001b[0m\u001b[0;34m,\u001b[0m \u001b[0;34m**\u001b[0m\u001b[0mkwargs\u001b[0m\u001b[0;34m\u001b[0m\u001b[0;34m\u001b[0m\u001b[0m\n\u001b[0m\u001b[1;32m    870\u001b[0m             )\n\u001b[1;32m    871\u001b[0m \u001b[0;34m\u001b[0m\u001b[0m\n",
      "\u001b[0;32m/opt/conda/envs/rapids/lib/python3.7/site-packages/distributed/utils.py\u001b[0m in \u001b[0;36msync\u001b[0;34m(loop, func, callback_timeout, *args, **kwargs)\u001b[0m\n\u001b[1;32m    327\u001b[0m     \u001b[0;32melse\u001b[0m\u001b[0;34m:\u001b[0m\u001b[0;34m\u001b[0m\u001b[0;34m\u001b[0m\u001b[0m\n\u001b[1;32m    328\u001b[0m         \u001b[0;32mwhile\u001b[0m \u001b[0;32mnot\u001b[0m \u001b[0me\u001b[0m\u001b[0;34m.\u001b[0m\u001b[0mis_set\u001b[0m\u001b[0;34m(\u001b[0m\u001b[0;34m)\u001b[0m\u001b[0;34m:\u001b[0m\u001b[0;34m\u001b[0m\u001b[0;34m\u001b[0m\u001b[0m\n\u001b[0;32m--> 329\u001b[0;31m             \u001b[0me\u001b[0m\u001b[0;34m.\u001b[0m\u001b[0mwait\u001b[0m\u001b[0;34m(\u001b[0m\u001b[0;36m10\u001b[0m\u001b[0;34m)\u001b[0m\u001b[0;34m\u001b[0m\u001b[0;34m\u001b[0m\u001b[0m\n\u001b[0m\u001b[1;32m    330\u001b[0m     \u001b[0;32mif\u001b[0m \u001b[0merror\u001b[0m\u001b[0;34m[\u001b[0m\u001b[0;36m0\u001b[0m\u001b[0;34m]\u001b[0m\u001b[0;34m:\u001b[0m\u001b[0;34m\u001b[0m\u001b[0;34m\u001b[0m\u001b[0m\n\u001b[1;32m    331\u001b[0m         \u001b[0mtyp\u001b[0m\u001b[0;34m,\u001b[0m \u001b[0mexc\u001b[0m\u001b[0;34m,\u001b[0m \u001b[0mtb\u001b[0m \u001b[0;34m=\u001b[0m \u001b[0merror\u001b[0m\u001b[0;34m[\u001b[0m\u001b[0;36m0\u001b[0m\u001b[0;34m]\u001b[0m\u001b[0;34m\u001b[0m\u001b[0;34m\u001b[0m\u001b[0m\n",
      "\u001b[0;32m/opt/conda/envs/rapids/lib/python3.7/threading.py\u001b[0m in \u001b[0;36mwait\u001b[0;34m(self, timeout)\u001b[0m\n\u001b[1;32m    550\u001b[0m             \u001b[0msignaled\u001b[0m \u001b[0;34m=\u001b[0m \u001b[0mself\u001b[0m\u001b[0;34m.\u001b[0m\u001b[0m_flag\u001b[0m\u001b[0;34m\u001b[0m\u001b[0;34m\u001b[0m\u001b[0m\n\u001b[1;32m    551\u001b[0m             \u001b[0;32mif\u001b[0m \u001b[0;32mnot\u001b[0m \u001b[0msignaled\u001b[0m\u001b[0;34m:\u001b[0m\u001b[0;34m\u001b[0m\u001b[0;34m\u001b[0m\u001b[0m\n\u001b[0;32m--> 552\u001b[0;31m                 \u001b[0msignaled\u001b[0m \u001b[0;34m=\u001b[0m \u001b[0mself\u001b[0m\u001b[0;34m.\u001b[0m\u001b[0m_cond\u001b[0m\u001b[0;34m.\u001b[0m\u001b[0mwait\u001b[0m\u001b[0;34m(\u001b[0m\u001b[0mtimeout\u001b[0m\u001b[0;34m)\u001b[0m\u001b[0;34m\u001b[0m\u001b[0;34m\u001b[0m\u001b[0m\n\u001b[0m\u001b[1;32m    553\u001b[0m             \u001b[0;32mreturn\u001b[0m \u001b[0msignaled\u001b[0m\u001b[0;34m\u001b[0m\u001b[0;34m\u001b[0m\u001b[0m\n\u001b[1;32m    554\u001b[0m \u001b[0;34m\u001b[0m\u001b[0m\n",
      "\u001b[0;32m/opt/conda/envs/rapids/lib/python3.7/threading.py\u001b[0m in \u001b[0;36mwait\u001b[0;34m(self, timeout)\u001b[0m\n\u001b[1;32m    298\u001b[0m             \u001b[0;32melse\u001b[0m\u001b[0;34m:\u001b[0m\u001b[0;34m\u001b[0m\u001b[0;34m\u001b[0m\u001b[0m\n\u001b[1;32m    299\u001b[0m                 \u001b[0;32mif\u001b[0m \u001b[0mtimeout\u001b[0m \u001b[0;34m>\u001b[0m \u001b[0;36m0\u001b[0m\u001b[0;34m:\u001b[0m\u001b[0;34m\u001b[0m\u001b[0;34m\u001b[0m\u001b[0m\n\u001b[0;32m--> 300\u001b[0;31m                     \u001b[0mgotit\u001b[0m \u001b[0;34m=\u001b[0m \u001b[0mwaiter\u001b[0m\u001b[0;34m.\u001b[0m\u001b[0macquire\u001b[0m\u001b[0;34m(\u001b[0m\u001b[0;32mTrue\u001b[0m\u001b[0;34m,\u001b[0m \u001b[0mtimeout\u001b[0m\u001b[0;34m)\u001b[0m\u001b[0;34m\u001b[0m\u001b[0;34m\u001b[0m\u001b[0m\n\u001b[0m\u001b[1;32m    301\u001b[0m                 \u001b[0;32melse\u001b[0m\u001b[0;34m:\u001b[0m\u001b[0;34m\u001b[0m\u001b[0;34m\u001b[0m\u001b[0m\n\u001b[1;32m    302\u001b[0m                     \u001b[0mgotit\u001b[0m \u001b[0;34m=\u001b[0m \u001b[0mwaiter\u001b[0m\u001b[0;34m.\u001b[0m\u001b[0macquire\u001b[0m\u001b[0;34m(\u001b[0m\u001b[0;32mFalse\u001b[0m\u001b[0;34m)\u001b[0m\u001b[0;34m\u001b[0m\u001b[0;34m\u001b[0m\u001b[0m\n",
      "\u001b[0;31mKeyboardInterrupt\u001b[0m: "
     ]
    }
   ],
   "source": [
    "base = BaseDfBench(\"DASK\")\n",
    "# base = BaseDfBench()"
   ]
  },
  {
   "cell_type": "code",
   "execution_count": null,
   "id": "c541eab2-0865-407d-9257-34a4bf3d9784",
   "metadata": {},
   "outputs": [],
   "source": [
    "# READ DATA FROM ITS SOURCE\n",
    "# --- remove _sample one day\n",
    "\n",
    "# We can use bill_id as the index for our dataset --> meglio di no\n",
    "# base.load_dataset('/data/invoices_sample.csv', 'csv', index_col='bill_id')\n",
    "\n",
    "# Uncomment the line under this one to load the pre-converted dataset\n",
    "base.load_dataset('parquet', path='data/mod_parquet')\n",
    "# base.load_dataset('parquet')\n",
    "df = base.get_df()\n",
    "columns = base.get_columns()\n",
    "base.npartitions()"
   ]
  },
  {
   "cell_type": "code",
   "execution_count": null,
   "id": "2a81c12d-a5b8-4d47-9b04-2da4908503c6",
   "metadata": {},
   "outputs": [],
   "source": [
    "# Dataset's rows\n",
    "# I commented the real computation because it takes a lot of time\n",
    "# dataset_rows = base.get_df().shape[0].compute()\n",
    "dataset_rows = 10497143\n",
    "dataset_rows"
   ]
  },
  {
   "cell_type": "code",
   "execution_count": 45,
   "id": "5ecd7709-ddc7-41f1-b362-d510eb813d34",
   "metadata": {},
   "outputs": [
    {
     "data": {
      "text/html": [
       "<div>\n",
       "<style scoped>\n",
       "    .dataframe tbody tr th:only-of-type {\n",
       "        vertical-align: middle;\n",
       "    }\n",
       "\n",
       "    .dataframe tbody tr th {\n",
       "        vertical-align: top;\n",
       "    }\n",
       "\n",
       "    .dataframe thead th {\n",
       "        text-align: right;\n",
       "    }\n",
       "</style>\n",
       "<table border=\"1\" class=\"dataframe\">\n",
       "  <thead>\n",
       "    <tr style=\"text-align: right;\">\n",
       "      <th></th>\n",
       "      <th>bill_id</th>\n",
       "      <th>F1_kWh</th>\n",
       "      <th>F2_kWh</th>\n",
       "      <th>F3_kWh</th>\n",
       "      <th>city</th>\n",
       "      <th>address</th>\n",
       "      <th>nominative</th>\n",
       "      <th>sex</th>\n",
       "      <th>age</th>\n",
       "      <th>user_code</th>\n",
       "      <th>...</th>\n",
       "      <th>average_gas_bill_cost</th>\n",
       "      <th>customer_code</th>\n",
       "      <th>billing_frequency</th>\n",
       "      <th>bill_type</th>\n",
       "      <th>gas_system_charges</th>\n",
       "      <th>light_system_charges</th>\n",
       "      <th>gas_material_cost</th>\n",
       "      <th>light_transport_cost</th>\n",
       "      <th>gas_transport_cost</th>\n",
       "      <th>light_material_cost</th>\n",
       "    </tr>\n",
       "  </thead>\n",
       "  <tbody>\n",
       "    <tr>\n",
       "      <th>0</th>\n",
       "      <td>0</td>\n",
       "      <td>0.0</td>\n",
       "      <td>0.0</td>\n",
       "      <td>0.0</td>\n",
       "      <td>CIPRESSA</td>\n",
       "      <td>C23B8FC235DF5479FB28D81E827A59B819BB0748</td>\n",
       "      <td>0298E5E66B5653CDAACADD156261A2A916A56C7E</td>\n",
       "      <td>F</td>\n",
       "      <td>81</td>\n",
       "      <td>63D286C61D20D76E9C9317BEB8644D5EE45134E4</td>\n",
       "      <td>...</td>\n",
       "      <td>NaN</td>\n",
       "      <td>5AE3987CBA311BCAADC6274D28A7FB14B13B53C3</td>\n",
       "      <td>None</td>\n",
       "      <td>False</td>\n",
       "      <td>-0.06</td>\n",
       "      <td>&lt;NA&gt;</td>\n",
       "      <td>0.06</td>\n",
       "      <td>&lt;NA&gt;</td>\n",
       "      <td>-0.2</td>\n",
       "      <td>&lt;NA&gt;</td>\n",
       "    </tr>\n",
       "    <tr>\n",
       "      <th>1</th>\n",
       "      <td>1</td>\n",
       "      <td>81.0</td>\n",
       "      <td>62.0</td>\n",
       "      <td>76.0</td>\n",
       "      <td>ROCCAVIVARA</td>\n",
       "      <td>CBE6B021F41D589269FBC724C131CBFC9905D950</td>\n",
       "      <td>FDAE2B1E0934BB76255A727CC9F3F00AA39982D9</td>\n",
       "      <td>M</td>\n",
       "      <td>38</td>\n",
       "      <td>8053C7982DE8A18746A8F9F0D1DC4B0C33CAC0FA</td>\n",
       "      <td>...</td>\n",
       "      <td>NaN</td>\n",
       "      <td>5F88D510670063B20E789E6453BC2F3FB0BB67F7</td>\n",
       "      <td>None</td>\n",
       "      <td>False</td>\n",
       "      <td>&lt;NA&gt;</td>\n",
       "      <td>9.15</td>\n",
       "      <td>&lt;NA&gt;</td>\n",
       "      <td>5.68</td>\n",
       "      <td>&lt;NA&gt;</td>\n",
       "      <td>23.13</td>\n",
       "    </tr>\n",
       "    <tr>\n",
       "      <th>2</th>\n",
       "      <td>2</td>\n",
       "      <td>0.0</td>\n",
       "      <td>0.0</td>\n",
       "      <td>0.0</td>\n",
       "      <td>VIDRACCO</td>\n",
       "      <td>BFAEB566B3BB78B9ABD4F86DB3A78BFD8489013B</td>\n",
       "      <td>FEBE7F29FB854C477AFA7073C70F0E6EA81C6B00</td>\n",
       "      <td>M</td>\n",
       "      <td>53</td>\n",
       "      <td>4F053D54B9F1B6FE565498E7FA726501FD8FDD18</td>\n",
       "      <td>...</td>\n",
       "      <td>NaN</td>\n",
       "      <td>D4B8928760E729127EB4EB532C86127325FBA468</td>\n",
       "      <td>None</td>\n",
       "      <td>False</td>\n",
       "      <td>1.24</td>\n",
       "      <td>&lt;NA&gt;</td>\n",
       "      <td>-10.13</td>\n",
       "      <td>&lt;NA&gt;</td>\n",
       "      <td>-7.13</td>\n",
       "      <td>&lt;NA&gt;</td>\n",
       "    </tr>\n",
       "    <tr>\n",
       "      <th>3</th>\n",
       "      <td>3</td>\n",
       "      <td>0.0</td>\n",
       "      <td>0.0</td>\n",
       "      <td>0.0</td>\n",
       "      <td>MEZZOLOMBARDO</td>\n",
       "      <td>CBD30C382C72ED4A3D9DC9D11C13C155930E7C66</td>\n",
       "      <td>9220A3E83BDCE622F70A1456C7898687FD3EDAC8</td>\n",
       "      <td>M</td>\n",
       "      <td>50</td>\n",
       "      <td>115C7D34A79C66AFCDB4EB65262595B197B0F861</td>\n",
       "      <td>...</td>\n",
       "      <td>1.08</td>\n",
       "      <td>BD4DEF66D7EF2D3D683D9C381D2359AD24B41D9C</td>\n",
       "      <td>None</td>\n",
       "      <td>False</td>\n",
       "      <td>-0.88</td>\n",
       "      <td>&lt;NA&gt;</td>\n",
       "      <td>23.68</td>\n",
       "      <td>&lt;NA&gt;</td>\n",
       "      <td>17.66</td>\n",
       "      <td>&lt;NA&gt;</td>\n",
       "    </tr>\n",
       "    <tr>\n",
       "      <th>4</th>\n",
       "      <td>4</td>\n",
       "      <td>0.0</td>\n",
       "      <td>0.0</td>\n",
       "      <td>0.0</td>\n",
       "      <td>PINETO</td>\n",
       "      <td>4D17C711CADED6C1E9BD459088B4B80F24575FE7</td>\n",
       "      <td>642C21354EF6017D13220517E2A25D4A0442D4C5</td>\n",
       "      <td>M</td>\n",
       "      <td>65</td>\n",
       "      <td>C7734B97A212004CEA25956D8FDFEF068CD2B8F6</td>\n",
       "      <td>...</td>\n",
       "      <td>0.86</td>\n",
       "      <td>C0622AFD22384A4B54CD1ACAF7D988B89853A5AC</td>\n",
       "      <td>None</td>\n",
       "      <td>False</td>\n",
       "      <td>14.71</td>\n",
       "      <td>&lt;NA&gt;</td>\n",
       "      <td>141.57</td>\n",
       "      <td>&lt;NA&gt;</td>\n",
       "      <td>63.59</td>\n",
       "      <td>&lt;NA&gt;</td>\n",
       "    </tr>\n",
       "    <tr>\n",
       "      <th>...</th>\n",
       "      <td>...</td>\n",
       "      <td>...</td>\n",
       "      <td>...</td>\n",
       "      <td>...</td>\n",
       "      <td>...</td>\n",
       "      <td>...</td>\n",
       "      <td>...</td>\n",
       "      <td>...</td>\n",
       "      <td>...</td>\n",
       "      <td>...</td>\n",
       "      <td>...</td>\n",
       "      <td>...</td>\n",
       "      <td>...</td>\n",
       "      <td>...</td>\n",
       "      <td>...</td>\n",
       "      <td>...</td>\n",
       "      <td>...</td>\n",
       "      <td>...</td>\n",
       "      <td>...</td>\n",
       "      <td>...</td>\n",
       "      <td>...</td>\n",
       "    </tr>\n",
       "    <tr>\n",
       "      <th>542441</th>\n",
       "      <td>2512812</td>\n",
       "      <td>0.0</td>\n",
       "      <td>0.0</td>\n",
       "      <td>0.0</td>\n",
       "      <td>CASALZUIGNO</td>\n",
       "      <td>FE1047ECA6069845A48B36ABAD2A725C545A3ACD</td>\n",
       "      <td>59801133A00E8156E2FCB182350344C222C625E9</td>\n",
       "      <td>M</td>\n",
       "      <td>66</td>\n",
       "      <td>CCC653F93977E0948C0E71592DC0B35D8088BF80</td>\n",
       "      <td>...</td>\n",
       "      <td>1.23</td>\n",
       "      <td>B90850838689F4530C6B2403ABF9D6A7DB4A6C18</td>\n",
       "      <td>bimester</td>\n",
       "      <td>False</td>\n",
       "      <td>-2.09</td>\n",
       "      <td>&lt;NA&gt;</td>\n",
       "      <td>41.72</td>\n",
       "      <td>&lt;NA&gt;</td>\n",
       "      <td>34.95</td>\n",
       "      <td>&lt;NA&gt;</td>\n",
       "    </tr>\n",
       "    <tr>\n",
       "      <th>542442</th>\n",
       "      <td>2512813</td>\n",
       "      <td>0.0</td>\n",
       "      <td>0.0</td>\n",
       "      <td>0.0</td>\n",
       "      <td>ACQUANEGRA CREMONESE</td>\n",
       "      <td>31432A91213A1877995BE91793761AB04AB2C1D9</td>\n",
       "      <td>ED3368875442BC333089F2EF36CEF71865954BCC</td>\n",
       "      <td>F</td>\n",
       "      <td>46</td>\n",
       "      <td>CEF01180CFC826BD1B1D940A77532A09A4E13761</td>\n",
       "      <td>...</td>\n",
       "      <td>1.29</td>\n",
       "      <td>6CCC81E05B7ED7401945CB8FB42126B242AB443C</td>\n",
       "      <td>bimester</td>\n",
       "      <td>False</td>\n",
       "      <td>-1.1</td>\n",
       "      <td>&lt;NA&gt;</td>\n",
       "      <td>41.64</td>\n",
       "      <td>&lt;NA&gt;</td>\n",
       "      <td>34.03</td>\n",
       "      <td>&lt;NA&gt;</td>\n",
       "    </tr>\n",
       "    <tr>\n",
       "      <th>542443</th>\n",
       "      <td>2512814</td>\n",
       "      <td>0.0</td>\n",
       "      <td>0.0</td>\n",
       "      <td>0.0</td>\n",
       "      <td>SAN LUPO</td>\n",
       "      <td>B3260B1FAEE19CB253D0B27B10CDCE0F40606AA4</td>\n",
       "      <td>959F1C15E6FD24DF29439A2B4683EC280BB95466</td>\n",
       "      <td>M</td>\n",
       "      <td>45</td>\n",
       "      <td>255D0B199EAAC6E72B483D38E4EA85C643109633</td>\n",
       "      <td>...</td>\n",
       "      <td>1.58</td>\n",
       "      <td>5DC1024A436D07BDF4C4853A752CF89775C3F295</td>\n",
       "      <td>bimester</td>\n",
       "      <td>False</td>\n",
       "      <td>-3.83</td>\n",
       "      <td>&lt;NA&gt;</td>\n",
       "      <td>30.81</td>\n",
       "      <td>&lt;NA&gt;</td>\n",
       "      <td>21.25</td>\n",
       "      <td>&lt;NA&gt;</td>\n",
       "    </tr>\n",
       "    <tr>\n",
       "      <th>542444</th>\n",
       "      <td>2512815</td>\n",
       "      <td>0.0</td>\n",
       "      <td>0.0</td>\n",
       "      <td>0.0</td>\n",
       "      <td>VERNATE</td>\n",
       "      <td>9AADECE289CFA1A60FAE6F30354B16DEEE1644A0</td>\n",
       "      <td>D3FD778C3F95AE2DAB5B9A1FE11FC14728D85164</td>\n",
       "      <td>M</td>\n",
       "      <td>64</td>\n",
       "      <td>A6E6C0A1A17CE15A4A822F516E5F6B1E8CD68B23</td>\n",
       "      <td>...</td>\n",
       "      <td>1.09</td>\n",
       "      <td>454279C1315FE7D78684138FB9998240B99D86DC</td>\n",
       "      <td>bimester</td>\n",
       "      <td>False</td>\n",
       "      <td>-0.22</td>\n",
       "      <td>&lt;NA&gt;</td>\n",
       "      <td>67.14</td>\n",
       "      <td>&lt;NA&gt;</td>\n",
       "      <td>27.61</td>\n",
       "      <td>&lt;NA&gt;</td>\n",
       "    </tr>\n",
       "    <tr>\n",
       "      <th>542445</th>\n",
       "      <td>2512816</td>\n",
       "      <td>0.0</td>\n",
       "      <td>0.0</td>\n",
       "      <td>0.0</td>\n",
       "      <td>AVERSA</td>\n",
       "      <td>5753A0290AC72B2812EC56982D91DAFF45301262</td>\n",
       "      <td>07689D228584CD380A53CF3DC13122F0E634E1BF</td>\n",
       "      <td>M</td>\n",
       "      <td>33</td>\n",
       "      <td>9DF4530117723DCCA54A9502AD31BAD43FF1D709</td>\n",
       "      <td>...</td>\n",
       "      <td>1.13</td>\n",
       "      <td>74999DF227AE1574CF05B90DEC8D63207C552ABE</td>\n",
       "      <td>bimester</td>\n",
       "      <td>False</td>\n",
       "      <td>-0.83</td>\n",
       "      <td>&lt;NA&gt;</td>\n",
       "      <td>44.71</td>\n",
       "      <td>&lt;NA&gt;</td>\n",
       "      <td>25.14</td>\n",
       "      <td>&lt;NA&gt;</td>\n",
       "    </tr>\n",
       "  </tbody>\n",
       "</table>\n",
       "<p>10497143 rows × 43 columns</p>\n",
       "</div>"
      ],
      "text/plain": [
       "        bill_id F1_kWh F2_kWh  F3_kWh                  city  \\\n",
       "0             0    0.0    0.0     0.0              CIPRESSA   \n",
       "1             1   81.0   62.0    76.0           ROCCAVIVARA   \n",
       "2             2    0.0    0.0     0.0              VIDRACCO   \n",
       "3             3    0.0    0.0     0.0         MEZZOLOMBARDO   \n",
       "4             4    0.0    0.0     0.0                PINETO   \n",
       "...         ...    ...    ...     ...                   ...   \n",
       "542441  2512812    0.0    0.0     0.0           CASALZUIGNO   \n",
       "542442  2512813    0.0    0.0     0.0  ACQUANEGRA CREMONESE   \n",
       "542443  2512814    0.0    0.0     0.0              SAN LUPO   \n",
       "542444  2512815    0.0    0.0     0.0               VERNATE   \n",
       "542445  2512816    0.0    0.0     0.0                AVERSA   \n",
       "\n",
       "                                         address  \\\n",
       "0       C23B8FC235DF5479FB28D81E827A59B819BB0748   \n",
       "1       CBE6B021F41D589269FBC724C131CBFC9905D950   \n",
       "2       BFAEB566B3BB78B9ABD4F86DB3A78BFD8489013B   \n",
       "3       CBD30C382C72ED4A3D9DC9D11C13C155930E7C66   \n",
       "4       4D17C711CADED6C1E9BD459088B4B80F24575FE7   \n",
       "...                                          ...   \n",
       "542441  FE1047ECA6069845A48B36ABAD2A725C545A3ACD   \n",
       "542442  31432A91213A1877995BE91793761AB04AB2C1D9   \n",
       "542443  B3260B1FAEE19CB253D0B27B10CDCE0F40606AA4   \n",
       "542444  9AADECE289CFA1A60FAE6F30354B16DEEE1644A0   \n",
       "542445  5753A0290AC72B2812EC56982D91DAFF45301262   \n",
       "\n",
       "                                      nominative sex  age  \\\n",
       "0       0298E5E66B5653CDAACADD156261A2A916A56C7E   F   81   \n",
       "1       FDAE2B1E0934BB76255A727CC9F3F00AA39982D9   M   38   \n",
       "2       FEBE7F29FB854C477AFA7073C70F0E6EA81C6B00   M   53   \n",
       "3       9220A3E83BDCE622F70A1456C7898687FD3EDAC8   M   50   \n",
       "4       642C21354EF6017D13220517E2A25D4A0442D4C5   M   65   \n",
       "...                                          ...  ..  ...   \n",
       "542441  59801133A00E8156E2FCB182350344C222C625E9   M   66   \n",
       "542442  ED3368875442BC333089F2EF36CEF71865954BCC   F   46   \n",
       "542443  959F1C15E6FD24DF29439A2B4683EC280BB95466   M   45   \n",
       "542444  D3FD778C3F95AE2DAB5B9A1FE11FC14728D85164   M   64   \n",
       "542445  07689D228584CD380A53CF3DC13122F0E634E1BF   M   33   \n",
       "\n",
       "                                       user_code  ... average_gas_bill_cost  \\\n",
       "0       63D286C61D20D76E9C9317BEB8644D5EE45134E4  ...                   NaN   \n",
       "1       8053C7982DE8A18746A8F9F0D1DC4B0C33CAC0FA  ...                   NaN   \n",
       "2       4F053D54B9F1B6FE565498E7FA726501FD8FDD18  ...                   NaN   \n",
       "3       115C7D34A79C66AFCDB4EB65262595B197B0F861  ...                  1.08   \n",
       "4       C7734B97A212004CEA25956D8FDFEF068CD2B8F6  ...                  0.86   \n",
       "...                                          ...  ...                   ...   \n",
       "542441  CCC653F93977E0948C0E71592DC0B35D8088BF80  ...                  1.23   \n",
       "542442  CEF01180CFC826BD1B1D940A77532A09A4E13761  ...                  1.29   \n",
       "542443  255D0B199EAAC6E72B483D38E4EA85C643109633  ...                  1.58   \n",
       "542444  A6E6C0A1A17CE15A4A822F516E5F6B1E8CD68B23  ...                  1.09   \n",
       "542445  9DF4530117723DCCA54A9502AD31BAD43FF1D709  ...                  1.13   \n",
       "\n",
       "                                   customer_code billing_frequency  bill_type  \\\n",
       "0       5AE3987CBA311BCAADC6274D28A7FB14B13B53C3              None      False   \n",
       "1       5F88D510670063B20E789E6453BC2F3FB0BB67F7              None      False   \n",
       "2       D4B8928760E729127EB4EB532C86127325FBA468              None      False   \n",
       "3       BD4DEF66D7EF2D3D683D9C381D2359AD24B41D9C              None      False   \n",
       "4       C0622AFD22384A4B54CD1ACAF7D988B89853A5AC              None      False   \n",
       "...                                          ...               ...        ...   \n",
       "542441  B90850838689F4530C6B2403ABF9D6A7DB4A6C18          bimester      False   \n",
       "542442  6CCC81E05B7ED7401945CB8FB42126B242AB443C          bimester      False   \n",
       "542443  5DC1024A436D07BDF4C4853A752CF89775C3F295          bimester      False   \n",
       "542444  454279C1315FE7D78684138FB9998240B99D86DC          bimester      False   \n",
       "542445  74999DF227AE1574CF05B90DEC8D63207C552ABE          bimester      False   \n",
       "\n",
       "        gas_system_charges  light_system_charges  gas_material_cost  \\\n",
       "0                    -0.06                  <NA>               0.06   \n",
       "1                     <NA>                  9.15               <NA>   \n",
       "2                     1.24                  <NA>             -10.13   \n",
       "3                    -0.88                  <NA>              23.68   \n",
       "4                    14.71                  <NA>             141.57   \n",
       "...                    ...                   ...                ...   \n",
       "542441               -2.09                  <NA>              41.72   \n",
       "542442                -1.1                  <NA>              41.64   \n",
       "542443               -3.83                  <NA>              30.81   \n",
       "542444               -0.22                  <NA>              67.14   \n",
       "542445               -0.83                  <NA>              44.71   \n",
       "\n",
       "       light_transport_cost gas_transport_cost light_material_cost  \n",
       "0                      <NA>               -0.2                <NA>  \n",
       "1                      5.68               <NA>               23.13  \n",
       "2                      <NA>              -7.13                <NA>  \n",
       "3                      <NA>              17.66                <NA>  \n",
       "4                      <NA>              63.59                <NA>  \n",
       "...                     ...                ...                 ...  \n",
       "542441                 <NA>              34.95                <NA>  \n",
       "542442                 <NA>              34.03                <NA>  \n",
       "542443                 <NA>              21.25                <NA>  \n",
       "542444                 <NA>              27.61                <NA>  \n",
       "542445                 <NA>              25.14                <NA>  \n",
       "\n",
       "[10497143 rows x 43 columns]"
      ]
     },
     "execution_count": 45,
     "metadata": {},
     "output_type": "execute_result"
    }
   ],
   "source": [
    "# Non c'è nessuna riga tutta nulla\n",
    "base.df.dropna(how='all')"
   ]
  },
  {
   "cell_type": "code",
   "execution_count": 16,
   "id": "5c7059fb-8aad-4a56-a2ef-33d086731d3f",
   "metadata": {},
   "outputs": [
    {
     "data": {
      "text/plain": [
       "user_code                                 customer_code                           \n",
       "00006B484AF40AAA281E0EB6CBFC24C0A8199713  F40D5C4B63C2EB173AE7EA30403D4FA9EEAD02D1    3\n",
       "00007C8A923FD0298ED2543F04D17533CCB4AAA2  F48D3927FB4025B1FF5CE3A3DDE13CE948C6B1AF    2\n",
       "000099877B93C34F2BA38AC7C59A4EE3BF28A89E  F4E34D59D28F32C1356DF301A6251CA75E0ECDE7    2\n",
       "0000B5295F650B08A23F32EDDDE6422A52C52E49  B1AD8D50D84304308C69E59973ECC031767FA766    1\n",
       "0000BDB9D89B996B5B9C731CE46FD91B6AC3667F  68E97A9483B7B8022011F79C252B2B6F77633882    5\n",
       "                                                                                     ..\n",
       "FEA81109269462AA6C4BAAC80D6EA5F0461B2751  6832D2AC36F045F19F905079A0A02A917838C738    1\n",
       "FF0186066B0A5D5E85883E327F0A458CCCB1903C  454D3331A442C2B5566144DAC19BB1052DCF1202    1\n",
       "FF06A66B75EB75D8AC6D5E5A04AD80951A0459FE  DBB85941ADE56FC9883B2650AFC9E09330FD8B5B    1\n",
       "FF07EE3194E14E0E0485F153E442094E98511281  E1DF8A3590BCD5943DEEF8EEB31A49F53A9D44D6    1\n",
       "FF4160E1D51F1A636AA01007803328998F688DD2  9423FED95BC561299CB76EF3F5AF484AC47D5708    1\n",
       "Name: bill_id, Length: 5146237, dtype: int64"
      ]
     },
     "execution_count": 16,
     "metadata": {},
     "output_type": "execute_result"
    }
   ],
   "source": [
    "#verica di user_code+customer_code = PK utility\n",
    "#PK customer = user_code\n",
    "#PK invoice = bill_id\n",
    "base.df.groupby(by=['user_code', 'customer_code'])['bill_id'].count().compute()"
   ]
  },
  {
   "cell_type": "markdown",
   "id": "49886f2a-ae2e-4382-b4db-2dcabc1a1c0e",
   "metadata": {
    "jp-MarkdownHeadingCollapsed": true,
    "tags": []
   },
   "source": [
    "## Load big Dataset (DEPRECATED)"
   ]
  },
  {
   "cell_type": "code",
   "execution_count": null,
   "id": "858a44dd-5698-43c0-9940-eb2c256f7416",
   "metadata": {},
   "outputs": [],
   "source": [
    "# STUDY HOW TO DEAL WITH DATA THAT DON'T FIT IN MEMORY (!)\n",
    "# Bella storia\n",
    "!du -sh '/data/invoices_sample.csv'"
   ]
  },
  {
   "cell_type": "code",
   "execution_count": null,
   "id": "8ab296dd-b721-44d5-be76-e2e6bc7d44ce",
   "metadata": {},
   "outputs": [],
   "source": [
    "from dask.distributed import Client, wait\n",
    "from dask_cuda import LocalCUDACluster\n",
    "from dask.utils import parse_bytes\n",
    "import cudf\n",
    "import dask_cudf"
   ]
  },
  {
   "cell_type": "code",
   "execution_count": null,
   "id": "a29b6a29-38f0-4e78-9211-72b48c425cf5",
   "metadata": {},
   "outputs": [],
   "source": [
    "cluster = LocalCUDACluster(\n",
    "    CUDA_VISIBLE_DEVICES=\"0\",\n",
    "    rmm_pool_size=parse_bytes(\"15GB\"), # This GPU has 16GB of memory\n",
    "    device_memory_limit=parse_bytes(\"10GB\"),\n",
    ")\n",
    "client = Client(cluster)\n",
    "client"
   ]
  },
  {
   "cell_type": "code",
   "execution_count": null,
   "id": "3ce51a64-f588-40da-9387-9ada4da19d37",
   "metadata": {},
   "outputs": [],
   "source": [
    "%%time\n",
    "ddf = dask_cudf.read_csv(\"/data/invoices.csv\", chunksize=\"1 GiB\")\n",
    "print(f\"DF partitions: {ddf.npartitions}\")\n",
    "print(f\"DF: {ddf}\")"
   ]
  },
  {
   "cell_type": "markdown",
   "id": "fa119218-0ad3-4249-b424-10950063e880",
   "metadata": {
    "jp-MarkdownHeadingCollapsed": true,
    "tags": []
   },
   "source": [
    "# UTILS"
   ]
  },
  {
   "cell_type": "code",
   "execution_count": 5,
   "id": "dc8e4ca8-0c03-4aa9-ba59-6955cd16f33e",
   "metadata": {},
   "outputs": [],
   "source": [
    "# Substitute False with standard bill\n",
    "\n",
    "base['bill_type'] = base['bill_type'].replace('False', 'standard bill')"
   ]
  },
  {
   "cell_type": "code",
   "execution_count": 5,
   "id": "21a87415-9cd8-4828-822e-9d3d79c0ba40",
   "metadata": {},
   "outputs": [
    {
     "data": {
      "text/html": [
       "<div><strong>Dask DataFrame Structure:</strong></div>\n",
       "<div>\n",
       "<style scoped>\n",
       "    .dataframe tbody tr th:only-of-type {\n",
       "        vertical-align: middle;\n",
       "    }\n",
       "\n",
       "    .dataframe tbody tr th {\n",
       "        vertical-align: top;\n",
       "    }\n",
       "\n",
       "    .dataframe thead th {\n",
       "        text-align: right;\n",
       "    }\n",
       "</style>\n",
       "<table border=\"1\" class=\"dataframe\">\n",
       "  <thead>\n",
       "    <tr style=\"text-align: right;\">\n",
       "      <th></th>\n",
       "      <th>bill_id</th>\n",
       "      <th>F1_kWh</th>\n",
       "      <th>F2_kWh</th>\n",
       "      <th>F3_kWh</th>\n",
       "      <th>city</th>\n",
       "      <th>address</th>\n",
       "      <th>nominative</th>\n",
       "      <th>sex</th>\n",
       "      <th>age</th>\n",
       "      <th>user_code</th>\n",
       "      <th>date</th>\n",
       "      <th>light_start_date</th>\n",
       "      <th>light_end_date</th>\n",
       "      <th>tv</th>\n",
       "      <th>gas_amount</th>\n",
       "      <th>gas_average_cost</th>\n",
       "      <th>light_average_cost</th>\n",
       "      <th>emission_date</th>\n",
       "      <th>supply_type</th>\n",
       "      <th>gas_end_date</th>\n",
       "      <th>gas_start_date</th>\n",
       "      <th>extra_fees</th>\n",
       "      <th>gas_consumption</th>\n",
       "      <th>light_consumption</th>\n",
       "      <th>gas_offer</th>\n",
       "      <th>light_offer_type</th>\n",
       "      <th>light_offer</th>\n",
       "      <th>howmuch_pay</th>\n",
       "      <th>total_amount</th>\n",
       "      <th>light_amount</th>\n",
       "      <th>average_unit_light_cost</th>\n",
       "      <th>average_light_bill_cost</th>\n",
       "      <th>average_unit_gas_cost</th>\n",
       "      <th>average_gas_bill_cost</th>\n",
       "      <th>customer_code</th>\n",
       "      <th>billing_frequency</th>\n",
       "      <th>bill_type</th>\n",
       "      <th>gas_system_charges</th>\n",
       "      <th>light_system_charges</th>\n",
       "      <th>gas_material_cost</th>\n",
       "      <th>light_transport_cost</th>\n",
       "      <th>gas_transport_cost</th>\n",
       "      <th>light_material_cost</th>\n",
       "    </tr>\n",
       "    <tr>\n",
       "      <th>npartitions=57</th>\n",
       "      <th></th>\n",
       "      <th></th>\n",
       "      <th></th>\n",
       "      <th></th>\n",
       "      <th></th>\n",
       "      <th></th>\n",
       "      <th></th>\n",
       "      <th></th>\n",
       "      <th></th>\n",
       "      <th></th>\n",
       "      <th></th>\n",
       "      <th></th>\n",
       "      <th></th>\n",
       "      <th></th>\n",
       "      <th></th>\n",
       "      <th></th>\n",
       "      <th></th>\n",
       "      <th></th>\n",
       "      <th></th>\n",
       "      <th></th>\n",
       "      <th></th>\n",
       "      <th></th>\n",
       "      <th></th>\n",
       "      <th></th>\n",
       "      <th></th>\n",
       "      <th></th>\n",
       "      <th></th>\n",
       "      <th></th>\n",
       "      <th></th>\n",
       "      <th></th>\n",
       "      <th></th>\n",
       "      <th></th>\n",
       "      <th></th>\n",
       "      <th></th>\n",
       "      <th></th>\n",
       "      <th></th>\n",
       "      <th></th>\n",
       "      <th></th>\n",
       "      <th></th>\n",
       "      <th></th>\n",
       "      <th></th>\n",
       "      <th></th>\n",
       "      <th></th>\n",
       "    </tr>\n",
       "  </thead>\n",
       "  <tbody>\n",
       "    <tr>\n",
       "      <th></th>\n",
       "      <td>int64</td>\n",
       "      <td>Float64</td>\n",
       "      <td>Float64</td>\n",
       "      <td>Float64</td>\n",
       "      <td>object</td>\n",
       "      <td>object</td>\n",
       "      <td>object</td>\n",
       "      <td>object</td>\n",
       "      <td>int64</td>\n",
       "      <td>object</td>\n",
       "      <td>datetime64[ns]</td>\n",
       "      <td>datetime64[ns]</td>\n",
       "      <td>datetime64[ns]</td>\n",
       "      <td>float64</td>\n",
       "      <td>float64</td>\n",
       "      <td>float64</td>\n",
       "      <td>Float64</td>\n",
       "      <td>datetime64[ns]</td>\n",
       "      <td>object</td>\n",
       "      <td>datetime64[ns]</td>\n",
       "      <td>datetime64[ns]</td>\n",
       "      <td>float64</td>\n",
       "      <td>Float64</td>\n",
       "      <td>Float64</td>\n",
       "      <td>uint64</td>\n",
       "      <td>object</td>\n",
       "      <td>object</td>\n",
       "      <td>float64</td>\n",
       "      <td>float64</td>\n",
       "      <td>float64</td>\n",
       "      <td>float64</td>\n",
       "      <td>float64</td>\n",
       "      <td>float64</td>\n",
       "      <td>float64</td>\n",
       "      <td>object</td>\n",
       "      <td>object</td>\n",
       "      <td>object</td>\n",
       "      <td>Float64</td>\n",
       "      <td>Float64</td>\n",
       "      <td>Float64</td>\n",
       "      <td>Float64</td>\n",
       "      <td>Float64</td>\n",
       "      <td>Float64</td>\n",
       "    </tr>\n",
       "    <tr>\n",
       "      <th></th>\n",
       "      <td>...</td>\n",
       "      <td>...</td>\n",
       "      <td>...</td>\n",
       "      <td>...</td>\n",
       "      <td>...</td>\n",
       "      <td>...</td>\n",
       "      <td>...</td>\n",
       "      <td>...</td>\n",
       "      <td>...</td>\n",
       "      <td>...</td>\n",
       "      <td>...</td>\n",
       "      <td>...</td>\n",
       "      <td>...</td>\n",
       "      <td>...</td>\n",
       "      <td>...</td>\n",
       "      <td>...</td>\n",
       "      <td>...</td>\n",
       "      <td>...</td>\n",
       "      <td>...</td>\n",
       "      <td>...</td>\n",
       "      <td>...</td>\n",
       "      <td>...</td>\n",
       "      <td>...</td>\n",
       "      <td>...</td>\n",
       "      <td>...</td>\n",
       "      <td>...</td>\n",
       "      <td>...</td>\n",
       "      <td>...</td>\n",
       "      <td>...</td>\n",
       "      <td>...</td>\n",
       "      <td>...</td>\n",
       "      <td>...</td>\n",
       "      <td>...</td>\n",
       "      <td>...</td>\n",
       "      <td>...</td>\n",
       "      <td>...</td>\n",
       "      <td>...</td>\n",
       "      <td>...</td>\n",
       "      <td>...</td>\n",
       "      <td>...</td>\n",
       "      <td>...</td>\n",
       "      <td>...</td>\n",
       "      <td>...</td>\n",
       "    </tr>\n",
       "    <tr>\n",
       "      <th>...</th>\n",
       "      <td>...</td>\n",
       "      <td>...</td>\n",
       "      <td>...</td>\n",
       "      <td>...</td>\n",
       "      <td>...</td>\n",
       "      <td>...</td>\n",
       "      <td>...</td>\n",
       "      <td>...</td>\n",
       "      <td>...</td>\n",
       "      <td>...</td>\n",
       "      <td>...</td>\n",
       "      <td>...</td>\n",
       "      <td>...</td>\n",
       "      <td>...</td>\n",
       "      <td>...</td>\n",
       "      <td>...</td>\n",
       "      <td>...</td>\n",
       "      <td>...</td>\n",
       "      <td>...</td>\n",
       "      <td>...</td>\n",
       "      <td>...</td>\n",
       "      <td>...</td>\n",
       "      <td>...</td>\n",
       "      <td>...</td>\n",
       "      <td>...</td>\n",
       "      <td>...</td>\n",
       "      <td>...</td>\n",
       "      <td>...</td>\n",
       "      <td>...</td>\n",
       "      <td>...</td>\n",
       "      <td>...</td>\n",
       "      <td>...</td>\n",
       "      <td>...</td>\n",
       "      <td>...</td>\n",
       "      <td>...</td>\n",
       "      <td>...</td>\n",
       "      <td>...</td>\n",
       "      <td>...</td>\n",
       "      <td>...</td>\n",
       "      <td>...</td>\n",
       "      <td>...</td>\n",
       "      <td>...</td>\n",
       "      <td>...</td>\n",
       "    </tr>\n",
       "    <tr>\n",
       "      <th></th>\n",
       "      <td>...</td>\n",
       "      <td>...</td>\n",
       "      <td>...</td>\n",
       "      <td>...</td>\n",
       "      <td>...</td>\n",
       "      <td>...</td>\n",
       "      <td>...</td>\n",
       "      <td>...</td>\n",
       "      <td>...</td>\n",
       "      <td>...</td>\n",
       "      <td>...</td>\n",
       "      <td>...</td>\n",
       "      <td>...</td>\n",
       "      <td>...</td>\n",
       "      <td>...</td>\n",
       "      <td>...</td>\n",
       "      <td>...</td>\n",
       "      <td>...</td>\n",
       "      <td>...</td>\n",
       "      <td>...</td>\n",
       "      <td>...</td>\n",
       "      <td>...</td>\n",
       "      <td>...</td>\n",
       "      <td>...</td>\n",
       "      <td>...</td>\n",
       "      <td>...</td>\n",
       "      <td>...</td>\n",
       "      <td>...</td>\n",
       "      <td>...</td>\n",
       "      <td>...</td>\n",
       "      <td>...</td>\n",
       "      <td>...</td>\n",
       "      <td>...</td>\n",
       "      <td>...</td>\n",
       "      <td>...</td>\n",
       "      <td>...</td>\n",
       "      <td>...</td>\n",
       "      <td>...</td>\n",
       "      <td>...</td>\n",
       "      <td>...</td>\n",
       "      <td>...</td>\n",
       "      <td>...</td>\n",
       "      <td>...</td>\n",
       "    </tr>\n",
       "    <tr>\n",
       "      <th></th>\n",
       "      <td>...</td>\n",
       "      <td>...</td>\n",
       "      <td>...</td>\n",
       "      <td>...</td>\n",
       "      <td>...</td>\n",
       "      <td>...</td>\n",
       "      <td>...</td>\n",
       "      <td>...</td>\n",
       "      <td>...</td>\n",
       "      <td>...</td>\n",
       "      <td>...</td>\n",
       "      <td>...</td>\n",
       "      <td>...</td>\n",
       "      <td>...</td>\n",
       "      <td>...</td>\n",
       "      <td>...</td>\n",
       "      <td>...</td>\n",
       "      <td>...</td>\n",
       "      <td>...</td>\n",
       "      <td>...</td>\n",
       "      <td>...</td>\n",
       "      <td>...</td>\n",
       "      <td>...</td>\n",
       "      <td>...</td>\n",
       "      <td>...</td>\n",
       "      <td>...</td>\n",
       "      <td>...</td>\n",
       "      <td>...</td>\n",
       "      <td>...</td>\n",
       "      <td>...</td>\n",
       "      <td>...</td>\n",
       "      <td>...</td>\n",
       "      <td>...</td>\n",
       "      <td>...</td>\n",
       "      <td>...</td>\n",
       "      <td>...</td>\n",
       "      <td>...</td>\n",
       "      <td>...</td>\n",
       "      <td>...</td>\n",
       "      <td>...</td>\n",
       "      <td>...</td>\n",
       "      <td>...</td>\n",
       "      <td>...</td>\n",
       "    </tr>\n",
       "  </tbody>\n",
       "</table>\n",
       "</div>\n",
       "<div>Dask Name: rename, 285 tasks</div>"
      ],
      "text/plain": [
       "Dask DataFrame Structure:\n",
       "               bill_id   F1_kWh   F2_kWh   F3_kWh    city address nominative     sex    age user_code            date light_start_date  light_end_date       tv gas_amount gas_average_cost light_average_cost   emission_date supply_type    gas_end_date  gas_start_date extra_fees gas_consumption light_consumption gas_offer light_offer_type light_offer howmuch_pay total_amount light_amount average_unit_light_cost average_light_bill_cost average_unit_gas_cost average_gas_bill_cost customer_code billing_frequency bill_type gas_system_charges light_system_charges gas_material_cost light_transport_cost gas_transport_cost light_material_cost\n",
       "npartitions=57                                                                                                                                                                                                                                                                                                                                                                                                                                                                                                                                                                                                                                                  \n",
       "                 int64  Float64  Float64  Float64  object  object     object  object  int64    object  datetime64[ns]   datetime64[ns]  datetime64[ns]  float64    float64          float64            Float64  datetime64[ns]      object  datetime64[ns]  datetime64[ns]    float64         Float64           Float64    uint64           object      object     float64      float64      float64                 float64                 float64               float64               float64        object            object    object            Float64              Float64           Float64              Float64            Float64             Float64\n",
       "                   ...      ...      ...      ...     ...     ...        ...     ...    ...       ...             ...              ...             ...      ...        ...              ...                ...             ...         ...             ...             ...        ...             ...               ...       ...              ...         ...         ...          ...          ...                     ...                     ...                   ...                   ...           ...               ...       ...                ...                  ...               ...                  ...                ...                 ...\n",
       "...                ...      ...      ...      ...     ...     ...        ...     ...    ...       ...             ...              ...             ...      ...        ...              ...                ...             ...         ...             ...             ...        ...             ...               ...       ...              ...         ...         ...          ...          ...                     ...                     ...                   ...                   ...           ...               ...       ...                ...                  ...               ...                  ...                ...                 ...\n",
       "                   ...      ...      ...      ...     ...     ...        ...     ...    ...       ...             ...              ...             ...      ...        ...              ...                ...             ...         ...             ...             ...        ...             ...               ...       ...              ...         ...         ...          ...          ...                     ...                     ...                   ...                   ...           ...               ...       ...                ...                  ...               ...                  ...                ...                 ...\n",
       "                   ...      ...      ...      ...     ...     ...        ...     ...    ...       ...             ...              ...             ...      ...        ...              ...                ...             ...         ...             ...             ...        ...             ...               ...       ...              ...         ...         ...          ...          ...                     ...                     ...                   ...                   ...           ...               ...       ...                ...                  ...               ...                  ...                ...                 ...\n",
       "Dask Name: rename, 285 tasks"
      ]
     },
     "execution_count": 5,
     "metadata": {},
     "output_type": "execute_result"
    }
   ],
   "source": [
    "base.rename_columns({\n",
    "    'gas_start_date':'gas_end_date',\n",
    "    'gas_end_date':'gas_start_date'\n",
    "})"
   ]
  },
  {
   "cell_type": "code",
   "execution_count": 6,
   "id": "26dc41fd-782a-4f6d-8610-391610196d06",
   "metadata": {},
   "outputs": [],
   "source": [
    "# Map billing frequency with real numbers\n",
    "num = {\n",
    "    'bimester': 2,\n",
    "    'quarterly': 4,\n",
    "    'monthly' : 1,\n",
    "}\n",
    "base['b_freq'] = base['billing_frequency'].map(num)"
   ]
  },
  {
   "cell_type": "code",
   "execution_count": 7,
   "id": "1a1cab33-982e-4827-ad71-cedcbdaa41bf",
   "metadata": {},
   "outputs": [
    {
     "data": {
      "text/plain": [
       "gas              5686288\n",
       "light            3684510\n",
       "gas and light    1126345\n",
       "Name: supply_type, dtype: int64"
      ]
     },
     "execution_count": 7,
     "metadata": {},
     "output_type": "execute_result"
    }
   ],
   "source": [
    "# Dobbiamo metterli in inglese? Si può fare con un map\n",
    "ing = {\n",
    "    'luce': 'light',\n",
    "    'gas e luce': 'gas and light',\n",
    "    'gas' : 'gas',\n",
    "}\n",
    "base['supply_type'] = base['supply_type'].map(ing)\n",
    "# base['supply_type'].value_counts().compute()"
   ]
  },
  {
   "cell_type": "code",
   "execution_count": 8,
   "id": "7fcf7af0-34aa-4aab-ad88-a733c08effba",
   "metadata": {},
   "outputs": [],
   "source": [
    "def get_col_by_pattern(pat):\n",
    "    ret = []\n",
    "    for c in base.get_columns():\n",
    "        if pat in c.split('_'):\n",
    "            ret += [c]\n",
    "    return ret"
   ]
  },
  {
   "cell_type": "code",
   "execution_count": 9,
   "id": "43b1cefa-6ab4-4f90-98e8-f3883030cc2d",
   "metadata": {},
   "outputs": [],
   "source": [
    "# CONVERTING ALL THE STRING COLUMNS TO OBJECT COLUMN\n",
    "# THIS BECAUSE STRING COLUMNS CAUSE A LOT OF ERRORS WHEN PROCESSED AS STRINGS\n",
    "for k,v in base.get_columns_types().items():\n",
    "    if v == 'string':\n",
    "        base[k] = base[k].astype('object')\n",
    "    elif v == 'Float64':\n",
    "        base[k] = base[k].astype('float')"
   ]
  },
  {
   "cell_type": "code",
   "execution_count": 15,
   "id": "950b3e12-4bc2-494a-8a4c-9d888f6312ec",
   "metadata": {},
   "outputs": [],
   "source": [
    "# Seguendo il GroundTruth mystico\n",
    "mappone = {'bill_id': 'int64',\n",
    " 'F1_kWh': 'float64',\n",
    " 'F2_kWh': 'float64',\n",
    " 'F3_kWh': 'float64',\n",
    " 'city': 'object',\n",
    " 'address': 'object',\n",
    " 'nominative': 'object',\n",
    " 'sex': 'object',\n",
    " 'age': 'int64',\n",
    " 'user_code': 'object',\n",
    " 'date': 'datetime64[ns]',\n",
    " 'light_start_date': 'datetime64[ns]',\n",
    " 'light_end_date': 'datetime64[ns]',\n",
    " 'tv': 'float64',\n",
    " 'gas_amount': 'float64',\n",
    " 'gas_average_cost': 'float64',\n",
    " 'light_average_cost': 'float64',\n",
    " 'emission_date': 'datetime64[ns]',\n",
    " 'supply_type': 'object',\n",
    " 'gas_start_date': 'datetime64[ns]',\n",
    " 'gas_end_date': 'datetime64[ns]',\n",
    " 'extra_fees': 'float64',\n",
    " 'gas_consumption': 'float64',\n",
    " 'light_consumption': 'float64',\n",
    " 'gas_offer': 'float64',\n",
    " 'light_offer_type': 'object',\n",
    " 'light_offer': 'object',\n",
    " 'howmuch_pay': 'float64',\n",
    " 'total_amount': 'float64',\n",
    " 'light_amount': 'float64',\n",
    " 'average_unit_light_cost': 'float64',\n",
    " 'average_light_bill_cost': 'float64',\n",
    " 'average_unit_gas_cost': 'float64',\n",
    " 'average_gas_bill_cost': 'float64',\n",
    " 'customer_code': 'object',\n",
    " 'billing_frequency': 'object',\n",
    " 'bill_type': 'object',\n",
    " 'gas_system_charges': 'float64',\n",
    " 'light_system_charges': 'float64',\n",
    " 'gas_material_cost': 'float64',\n",
    " 'light_transport_cost': 'float64',\n",
    " 'gas_transport_cost': 'float64',\n",
    " 'light_material_cost': 'float64',\n",
    " 'b_freq':'float64'\n",
    "}"
   ]
  },
  {
   "cell_type": "code",
   "execution_count": 16,
   "id": "20f8629c-d1f9-4295-ad56-d164a67eaf29",
   "metadata": {},
   "outputs": [
    {
     "name": "stdout",
     "output_type": "stream",
     "text": [
      "mismatch in gas_offer with values: uint64, float64\n"
     ]
    }
   ],
   "source": [
    "#Check sui tipi di dato attuali\n",
    "type_dict = base.get_columns_types()\n",
    "for k,v in type_dict.items():\n",
    "    if v != mappone[k]:\n",
    "        print(f'mismatch in {k} with values: {v}, {mappone[k]}')"
   ]
  },
  {
   "cell_type": "code",
   "execution_count": 17,
   "id": "bb340081-e462-46cd-bf4b-49dec57566ab",
   "metadata": {},
   "outputs": [],
   "source": [
    "# Trovare le tipologie di colonne a seconda della tipologia\n",
    "int_cols = base.col_type(find=['int'])\n",
    "string_cols = base.col_type(find=['string']) #object\n",
    "float_cols = base.col_type(find=['float'])\n",
    "numeric_cols = base.col_type(find=['numeric'])\n",
    "date_cols = base.col_type(find=['date'])"
   ]
  },
  {
   "cell_type": "markdown",
   "id": "4b34b3ff-2db1-4b25-b6a9-e5b918461d24",
   "metadata": {
    "jp-MarkdownHeadingCollapsed": true,
    "tags": []
   },
   "source": [
    "# Convert Columns"
   ]
  },
  {
   "cell_type": "markdown",
   "id": "c1167330-b313-44dd-90c5-6290c85584fc",
   "metadata": {
    "tags": []
   },
   "source": [
    "## Da portare"
   ]
  },
  {
   "cell_type": "code",
   "execution_count": null,
   "id": "8bac1f7e-349e-4ae2-9618-1abfaa0e6daf",
   "metadata": {},
   "outputs": [],
   "source": [
    "# DONE gas_amount, howmuch_pay, total_amount, light_amount to float\n",
    "# DONE gas_average_col, gas_offer, average_unit_light_cost, average_light_bill_cost, average_unit_gas_cost, average_gas_bill_cost deve essere float non int, basta un astype()\n",
    "# light_offer è segnato come string perché dovrebbe essere un nome ma nel dataset è un int (what)\n",
    "# il caso light_offer risolto: in teoria è str ma in pratica è stato anonimizzato, provo il cast to string"
   ]
  },
  {
   "cell_type": "code",
   "execution_count": null,
   "id": "f1a9b19d-53d9-43bf-9230-2140efd5e169",
   "metadata": {},
   "outputs": [],
   "source": [
    "base['light_offer'] = base['light_offer'].astype(str)"
   ]
  },
  {
   "cell_type": "code",
   "execution_count": null,
   "id": "257893b1-c9b9-4755-97f0-3769e17db46a",
   "metadata": {},
   "outputs": [],
   "source": [
    "len(base.col_type('string'))"
   ]
  },
  {
   "cell_type": "markdown",
   "id": "095876be-4447-469f-9176-797bd832ce86",
   "metadata": {
    "tags": []
   },
   "source": [
    "### Date conversion"
   ]
  },
  {
   "cell_type": "code",
   "execution_count": null,
   "id": "10349199-c1fc-4635-92ad-22cab1c90401",
   "metadata": {},
   "outputs": [],
   "source": [
    "#CONVERSIONE COLONNE SU DASK_CUDF \n",
    "mesi = {\n",
    "    'gennaio': '01',\n",
    "    'febbraio': '02',\n",
    "    'marzo' : '03',\n",
    "    'aprile': '04',\n",
    "    'maggio': '05',\n",
    "    'giugno': '06',\n",
    "    'luglio': '07',\n",
    "    'agosto': '08',\n",
    "    'settembre': '09',\n",
    "    'ottobre': '10',\n",
    "    'novembre': '11',\n",
    "    'dicembre': '12',\n",
    "}\n",
    "cols = {\n",
    "    0:'day',\n",
    "    1:'month',\n",
    "    2:'year'\n",
    "}\n",
    "#finding columns with date keyword\n",
    "date_cols = []\n",
    "for c in df.columns:\n",
    "    # print(base[c].dtype)\n",
    "    if 'date' in c.split('_') and base[c].dtype != 'datetime64[ns]':\n",
    "        date_cols.append(c)\n",
    "\n",
    "print(f'columns to convert to date: {date_cols}')\n",
    "#converting these columns\n",
    "for c in date_cols:\n",
    "\n",
    "    print(c , df[c].dtype)\n",
    "    \n",
    "    a = base.split(c, 2)\n",
    "    a = a.rename(columns=cols)\n",
    "    a['month'] = a['month'].str.lower().map(mesi)\n",
    "    base.get_df()[c] = dd.to_datetime(a, format=\"%d/%m/%Y\")\n",
    "    # print(a.head())\n",
    "    \n",
    "    #df[c] = base.split(c, 2)\n",
    "    \n",
    "    # print(base[c].head())"
   ]
  },
  {
   "cell_type": "code",
   "execution_count": null,
   "id": "7c22d2cf-558a-47f1-a239-fb852ac90615",
   "metadata": {},
   "outputs": [],
   "source": [
    "base.df"
   ]
  },
  {
   "cell_type": "markdown",
   "id": "137144bf-fff5-4ea3-bc79-53e356a5ff9f",
   "metadata": {
    "tags": []
   },
   "source": [
    "### Removing measure unit from strings and converting them into numbers"
   ]
  },
  {
   "cell_type": "code",
   "execution_count": null,
   "id": "10a1ba26-ec20-48a5-8221-81bf3d0a4a5f",
   "metadata": {},
   "outputs": [],
   "source": [
    "# this line can be used to retrieve alle the columns with a number pattern inside them but is too resources consuming\n",
    "# Due to the small number of columns We preferred to analize them one by one\n",
    "\n",
    "# base['howmuch_pay'].str.contains('[0-9]+[.,][0-9]*', regex=True).count().compute()\n",
    "# [0-9]+[.,][0-9]*"
   ]
  },
  {
   "cell_type": "code",
   "execution_count": null,
   "id": "0c54f772-181c-4d37-b186-a94b14a3bef0",
   "metadata": {},
   "outputs": [],
   "source": [
    "#finding string columns with number inside\n",
    "to_numeric_cols = []\n",
    "for c in df.columns:\n",
    "    if ('average'  in c.split('_') or 'amount' in c.split('_')) and (base[c].dtype in ['object', 'str']):\n",
    "        # print(base[c].dtype)\n",
    "        to_numeric_cols.append(c)\n",
    "\n",
    "# Added manually after column analysis \n",
    "to_numeric_cols.append('howmuch_pay')\n",
    "to_numeric_cols.append('tv')\n",
    "to_numeric_cols.append('extra_fees')\n",
    "print(to_numeric_cols)"
   ]
  },
  {
   "cell_type": "code",
   "execution_count": null,
   "id": "ec585b92-7f41-4730-b3ef-787e4d5e65eb",
   "metadata": {},
   "outputs": [],
   "source": [
    "# Exctracting measure unit from the column\n",
    "# Commented bc is time consuming\n",
    "# base.split('average_gas_bill_cost', 1)[1].value_counts().index.compute()[0]"
   ]
  },
  {
   "cell_type": "code",
   "execution_count": null,
   "id": "4b45276c-1266-43a6-a78f-753dc8efea48",
   "metadata": {},
   "outputs": [],
   "source": [
    "# Converting columns from string tu numeric\n",
    "partitions = base.npartitions()\n",
    "for c in to_numeric_cols:\n",
    "    base[c] = base[c].str.extract(r'([0-9]+[,.][0-9]*)', flags=0, expand=False)\n",
    "    # print(f'{c} measure: {measure}')\n",
    "    base.replace([c], ',', '.', regex=True)\n",
    "    base[c] = dd.to_numeric(base[c], errors='coerce', meta=('float'))\n",
    "# base.get_df().head()['average_gas_bill_cost']"
   ]
  },
  {
   "cell_type": "code",
   "execution_count": null,
   "id": "a1dd8005-cb54-4c4a-be3e-59b7e5496cc6",
   "metadata": {},
   "outputs": [],
   "source": [
    "base.df"
   ]
  },
  {
   "cell_type": "code",
   "execution_count": null,
   "id": "77026cbd-c252-444c-a384-9a2809b8311b",
   "metadata": {},
   "outputs": [],
   "source": [
    "# Strip all the columns in order to remove all the whitespaces \n",
    "base.strip(string_cols)"
   ]
  },
  {
   "cell_type": "code",
   "execution_count": 21,
   "id": "2eb83c25-50f5-4257-95b0-a99c2a982897",
   "metadata": {},
   "outputs": [],
   "source": [
    "base.df = base.df.persist()"
   ]
  },
  {
   "cell_type": "code",
   "execution_count": 51,
   "id": "71035ba3-d919-42c5-8a6e-73a57e6aeb9f",
   "metadata": {},
   "outputs": [
    {
     "data": {
      "text/html": [
       "<div><strong>Dask DataFrame Structure:</strong></div>\n",
       "<div>\n",
       "<style scoped>\n",
       "    .dataframe tbody tr th:only-of-type {\n",
       "        vertical-align: middle;\n",
       "    }\n",
       "\n",
       "    .dataframe tbody tr th {\n",
       "        vertical-align: top;\n",
       "    }\n",
       "\n",
       "    .dataframe thead th {\n",
       "        text-align: right;\n",
       "    }\n",
       "</style>\n",
       "<table border=\"1\" class=\"dataframe\">\n",
       "  <thead>\n",
       "    <tr style=\"text-align: right;\">\n",
       "      <th></th>\n",
       "      <th>bill_id</th>\n",
       "      <th>F1_kWh</th>\n",
       "      <th>F2_kWh</th>\n",
       "      <th>F3_kWh</th>\n",
       "      <th>city</th>\n",
       "      <th>address</th>\n",
       "      <th>nominative</th>\n",
       "      <th>sex</th>\n",
       "      <th>age</th>\n",
       "      <th>user_code</th>\n",
       "      <th>date</th>\n",
       "      <th>light_start_date</th>\n",
       "      <th>light_end_date</th>\n",
       "      <th>tv</th>\n",
       "      <th>gas_amount</th>\n",
       "      <th>gas_average_cost</th>\n",
       "      <th>light_average_cost</th>\n",
       "      <th>emission_date</th>\n",
       "      <th>supply_type</th>\n",
       "      <th>gas_end_date</th>\n",
       "      <th>gas_start_date</th>\n",
       "      <th>extra_fees</th>\n",
       "      <th>gas_consumption</th>\n",
       "      <th>light_consumption</th>\n",
       "      <th>gas_offer</th>\n",
       "      <th>light_offer_type</th>\n",
       "      <th>light_offer</th>\n",
       "      <th>howmuch_pay</th>\n",
       "      <th>total_amount</th>\n",
       "      <th>light_amount</th>\n",
       "      <th>average_unit_light_cost</th>\n",
       "      <th>average_light_bill_cost</th>\n",
       "      <th>average_unit_gas_cost</th>\n",
       "      <th>average_gas_bill_cost</th>\n",
       "      <th>customer_code</th>\n",
       "      <th>billing_frequency</th>\n",
       "      <th>bill_type</th>\n",
       "      <th>gas_system_charges</th>\n",
       "      <th>light_system_charges</th>\n",
       "      <th>gas_material_cost</th>\n",
       "      <th>light_transport_cost</th>\n",
       "      <th>gas_transport_cost</th>\n",
       "      <th>light_material_cost</th>\n",
       "      <th>b_freq</th>\n",
       "    </tr>\n",
       "    <tr>\n",
       "      <th>npartitions=57</th>\n",
       "      <th></th>\n",
       "      <th></th>\n",
       "      <th></th>\n",
       "      <th></th>\n",
       "      <th></th>\n",
       "      <th></th>\n",
       "      <th></th>\n",
       "      <th></th>\n",
       "      <th></th>\n",
       "      <th></th>\n",
       "      <th></th>\n",
       "      <th></th>\n",
       "      <th></th>\n",
       "      <th></th>\n",
       "      <th></th>\n",
       "      <th></th>\n",
       "      <th></th>\n",
       "      <th></th>\n",
       "      <th></th>\n",
       "      <th></th>\n",
       "      <th></th>\n",
       "      <th></th>\n",
       "      <th></th>\n",
       "      <th></th>\n",
       "      <th></th>\n",
       "      <th></th>\n",
       "      <th></th>\n",
       "      <th></th>\n",
       "      <th></th>\n",
       "      <th></th>\n",
       "      <th></th>\n",
       "      <th></th>\n",
       "      <th></th>\n",
       "      <th></th>\n",
       "      <th></th>\n",
       "      <th></th>\n",
       "      <th></th>\n",
       "      <th></th>\n",
       "      <th></th>\n",
       "      <th></th>\n",
       "      <th></th>\n",
       "      <th></th>\n",
       "      <th></th>\n",
       "      <th></th>\n",
       "    </tr>\n",
       "  </thead>\n",
       "  <tbody>\n",
       "    <tr>\n",
       "      <th></th>\n",
       "      <td>int64</td>\n",
       "      <td>float64</td>\n",
       "      <td>float64</td>\n",
       "      <td>float64</td>\n",
       "      <td>object</td>\n",
       "      <td>object</td>\n",
       "      <td>object</td>\n",
       "      <td>object</td>\n",
       "      <td>int64</td>\n",
       "      <td>object</td>\n",
       "      <td>datetime64[ns]</td>\n",
       "      <td>datetime64[ns]</td>\n",
       "      <td>datetime64[ns]</td>\n",
       "      <td>float64</td>\n",
       "      <td>float64</td>\n",
       "      <td>float64</td>\n",
       "      <td>float64</td>\n",
       "      <td>datetime64[ns]</td>\n",
       "      <td>object</td>\n",
       "      <td>datetime64[ns]</td>\n",
       "      <td>datetime64[ns]</td>\n",
       "      <td>float64</td>\n",
       "      <td>float64</td>\n",
       "      <td>float64</td>\n",
       "      <td>uint64</td>\n",
       "      <td>object</td>\n",
       "      <td>object</td>\n",
       "      <td>float64</td>\n",
       "      <td>float64</td>\n",
       "      <td>float64</td>\n",
       "      <td>float64</td>\n",
       "      <td>float64</td>\n",
       "      <td>float64</td>\n",
       "      <td>float64</td>\n",
       "      <td>object</td>\n",
       "      <td>object</td>\n",
       "      <td>object</td>\n",
       "      <td>float64</td>\n",
       "      <td>float64</td>\n",
       "      <td>float64</td>\n",
       "      <td>float64</td>\n",
       "      <td>float64</td>\n",
       "      <td>float64</td>\n",
       "      <td>float64</td>\n",
       "    </tr>\n",
       "    <tr>\n",
       "      <th></th>\n",
       "      <td>...</td>\n",
       "      <td>...</td>\n",
       "      <td>...</td>\n",
       "      <td>...</td>\n",
       "      <td>...</td>\n",
       "      <td>...</td>\n",
       "      <td>...</td>\n",
       "      <td>...</td>\n",
       "      <td>...</td>\n",
       "      <td>...</td>\n",
       "      <td>...</td>\n",
       "      <td>...</td>\n",
       "      <td>...</td>\n",
       "      <td>...</td>\n",
       "      <td>...</td>\n",
       "      <td>...</td>\n",
       "      <td>...</td>\n",
       "      <td>...</td>\n",
       "      <td>...</td>\n",
       "      <td>...</td>\n",
       "      <td>...</td>\n",
       "      <td>...</td>\n",
       "      <td>...</td>\n",
       "      <td>...</td>\n",
       "      <td>...</td>\n",
       "      <td>...</td>\n",
       "      <td>...</td>\n",
       "      <td>...</td>\n",
       "      <td>...</td>\n",
       "      <td>...</td>\n",
       "      <td>...</td>\n",
       "      <td>...</td>\n",
       "      <td>...</td>\n",
       "      <td>...</td>\n",
       "      <td>...</td>\n",
       "      <td>...</td>\n",
       "      <td>...</td>\n",
       "      <td>...</td>\n",
       "      <td>...</td>\n",
       "      <td>...</td>\n",
       "      <td>...</td>\n",
       "      <td>...</td>\n",
       "      <td>...</td>\n",
       "      <td>...</td>\n",
       "    </tr>\n",
       "    <tr>\n",
       "      <th>...</th>\n",
       "      <td>...</td>\n",
       "      <td>...</td>\n",
       "      <td>...</td>\n",
       "      <td>...</td>\n",
       "      <td>...</td>\n",
       "      <td>...</td>\n",
       "      <td>...</td>\n",
       "      <td>...</td>\n",
       "      <td>...</td>\n",
       "      <td>...</td>\n",
       "      <td>...</td>\n",
       "      <td>...</td>\n",
       "      <td>...</td>\n",
       "      <td>...</td>\n",
       "      <td>...</td>\n",
       "      <td>...</td>\n",
       "      <td>...</td>\n",
       "      <td>...</td>\n",
       "      <td>...</td>\n",
       "      <td>...</td>\n",
       "      <td>...</td>\n",
       "      <td>...</td>\n",
       "      <td>...</td>\n",
       "      <td>...</td>\n",
       "      <td>...</td>\n",
       "      <td>...</td>\n",
       "      <td>...</td>\n",
       "      <td>...</td>\n",
       "      <td>...</td>\n",
       "      <td>...</td>\n",
       "      <td>...</td>\n",
       "      <td>...</td>\n",
       "      <td>...</td>\n",
       "      <td>...</td>\n",
       "      <td>...</td>\n",
       "      <td>...</td>\n",
       "      <td>...</td>\n",
       "      <td>...</td>\n",
       "      <td>...</td>\n",
       "      <td>...</td>\n",
       "      <td>...</td>\n",
       "      <td>...</td>\n",
       "      <td>...</td>\n",
       "      <td>...</td>\n",
       "    </tr>\n",
       "    <tr>\n",
       "      <th></th>\n",
       "      <td>...</td>\n",
       "      <td>...</td>\n",
       "      <td>...</td>\n",
       "      <td>...</td>\n",
       "      <td>...</td>\n",
       "      <td>...</td>\n",
       "      <td>...</td>\n",
       "      <td>...</td>\n",
       "      <td>...</td>\n",
       "      <td>...</td>\n",
       "      <td>...</td>\n",
       "      <td>...</td>\n",
       "      <td>...</td>\n",
       "      <td>...</td>\n",
       "      <td>...</td>\n",
       "      <td>...</td>\n",
       "      <td>...</td>\n",
       "      <td>...</td>\n",
       "      <td>...</td>\n",
       "      <td>...</td>\n",
       "      <td>...</td>\n",
       "      <td>...</td>\n",
       "      <td>...</td>\n",
       "      <td>...</td>\n",
       "      <td>...</td>\n",
       "      <td>...</td>\n",
       "      <td>...</td>\n",
       "      <td>...</td>\n",
       "      <td>...</td>\n",
       "      <td>...</td>\n",
       "      <td>...</td>\n",
       "      <td>...</td>\n",
       "      <td>...</td>\n",
       "      <td>...</td>\n",
       "      <td>...</td>\n",
       "      <td>...</td>\n",
       "      <td>...</td>\n",
       "      <td>...</td>\n",
       "      <td>...</td>\n",
       "      <td>...</td>\n",
       "      <td>...</td>\n",
       "      <td>...</td>\n",
       "      <td>...</td>\n",
       "      <td>...</td>\n",
       "    </tr>\n",
       "    <tr>\n",
       "      <th></th>\n",
       "      <td>...</td>\n",
       "      <td>...</td>\n",
       "      <td>...</td>\n",
       "      <td>...</td>\n",
       "      <td>...</td>\n",
       "      <td>...</td>\n",
       "      <td>...</td>\n",
       "      <td>...</td>\n",
       "      <td>...</td>\n",
       "      <td>...</td>\n",
       "      <td>...</td>\n",
       "      <td>...</td>\n",
       "      <td>...</td>\n",
       "      <td>...</td>\n",
       "      <td>...</td>\n",
       "      <td>...</td>\n",
       "      <td>...</td>\n",
       "      <td>...</td>\n",
       "      <td>...</td>\n",
       "      <td>...</td>\n",
       "      <td>...</td>\n",
       "      <td>...</td>\n",
       "      <td>...</td>\n",
       "      <td>...</td>\n",
       "      <td>...</td>\n",
       "      <td>...</td>\n",
       "      <td>...</td>\n",
       "      <td>...</td>\n",
       "      <td>...</td>\n",
       "      <td>...</td>\n",
       "      <td>...</td>\n",
       "      <td>...</td>\n",
       "      <td>...</td>\n",
       "      <td>...</td>\n",
       "      <td>...</td>\n",
       "      <td>...</td>\n",
       "      <td>...</td>\n",
       "      <td>...</td>\n",
       "      <td>...</td>\n",
       "      <td>...</td>\n",
       "      <td>...</td>\n",
       "      <td>...</td>\n",
       "      <td>...</td>\n",
       "      <td>...</td>\n",
       "    </tr>\n",
       "  </tbody>\n",
       "</table>\n",
       "</div>\n",
       "<div>Dask Name: assign, 57 tasks</div>"
      ],
      "text/plain": [
       "Dask DataFrame Structure:\n",
       "               bill_id   F1_kWh   F2_kWh   F3_kWh    city address nominative     sex    age user_code            date light_start_date  light_end_date       tv gas_amount gas_average_cost light_average_cost   emission_date supply_type    gas_end_date  gas_start_date extra_fees gas_consumption light_consumption gas_offer light_offer_type light_offer howmuch_pay total_amount light_amount average_unit_light_cost average_light_bill_cost average_unit_gas_cost average_gas_bill_cost customer_code billing_frequency bill_type gas_system_charges light_system_charges gas_material_cost light_transport_cost gas_transport_cost light_material_cost   b_freq\n",
       "npartitions=57                                                                                                                                                                                                                                                                                                                                                                                                                                                                                                                                                                                                                                                           \n",
       "                 int64  float64  float64  float64  object  object     object  object  int64    object  datetime64[ns]   datetime64[ns]  datetime64[ns]  float64    float64          float64            float64  datetime64[ns]      object  datetime64[ns]  datetime64[ns]    float64         float64           float64    uint64           object      object     float64      float64      float64                 float64                 float64               float64               float64        object            object    object            float64              float64           float64              float64            float64             float64  float64\n",
       "                   ...      ...      ...      ...     ...     ...        ...     ...    ...       ...             ...              ...             ...      ...        ...              ...                ...             ...         ...             ...             ...        ...             ...               ...       ...              ...         ...         ...          ...          ...                     ...                     ...                   ...                   ...           ...               ...       ...                ...                  ...               ...                  ...                ...                 ...      ...\n",
       "...                ...      ...      ...      ...     ...     ...        ...     ...    ...       ...             ...              ...             ...      ...        ...              ...                ...             ...         ...             ...             ...        ...             ...               ...       ...              ...         ...         ...          ...          ...                     ...                     ...                   ...                   ...           ...               ...       ...                ...                  ...               ...                  ...                ...                 ...      ...\n",
       "                   ...      ...      ...      ...     ...     ...        ...     ...    ...       ...             ...              ...             ...      ...        ...              ...                ...             ...         ...             ...             ...        ...             ...               ...       ...              ...         ...         ...          ...          ...                     ...                     ...                   ...                   ...           ...               ...       ...                ...                  ...               ...                  ...                ...                 ...      ...\n",
       "                   ...      ...      ...      ...     ...     ...        ...     ...    ...       ...             ...              ...             ...      ...        ...              ...                ...             ...         ...             ...             ...        ...             ...               ...       ...              ...         ...         ...          ...          ...                     ...                     ...                   ...                   ...           ...               ...       ...                ...                  ...               ...                  ...                ...                 ...      ...\n",
       "Dask Name: assign, 57 tasks"
      ]
     },
     "execution_count": 51,
     "metadata": {},
     "output_type": "execute_result"
    }
   ],
   "source": [
    "base.df"
   ]
  },
  {
   "cell_type": "markdown",
   "id": "db0a5312-861c-43c6-b7f0-308ee3115eac",
   "metadata": {
    "tags": []
   },
   "source": [
    "### Save the modified dataset"
   ]
  },
  {
   "cell_type": "code",
   "execution_count": 22,
   "id": "0065347e-ebaa-4a34-a882-49955782a4bf",
   "metadata": {},
   "outputs": [],
   "source": [
    "# Save the converted dataset\n",
    "base.to_parquet('data/mod_parquet')"
   ]
  },
  {
   "cell_type": "code",
   "execution_count": 23,
   "id": "2374f0da-0fb3-4385-9ab7-b067fe3f0407",
   "metadata": {},
   "outputs": [
    {
     "data": {
      "text/plain": [
       "{'bill_id': 'int64',\n",
       " 'F1_kWh': 'float64',\n",
       " 'F2_kWh': 'float64',\n",
       " 'F3_kWh': 'float64',\n",
       " 'city': 'object',\n",
       " 'address': 'object',\n",
       " 'nominative': 'object',\n",
       " 'sex': 'object',\n",
       " 'age': 'float64',\n",
       " 'user_code': 'object',\n",
       " 'date': 'datetime64[ns]',\n",
       " 'light_start_date': 'datetime64[ns]',\n",
       " 'light_end_date': 'datetime64[ns]',\n",
       " 'tv': 'float64',\n",
       " 'gas_amount': 'float64',\n",
       " 'gas_average_cost': 'float64',\n",
       " 'light_average_cost': 'float64',\n",
       " 'emission_date': 'datetime64[ns]',\n",
       " 'supply_type': 'object',\n",
       " 'gas_end_date': 'datetime64[ns]',\n",
       " 'gas_start_date': 'datetime64[ns]',\n",
       " 'extra_fees': 'float64',\n",
       " 'gas_consumption': 'float64',\n",
       " 'light_consumption': 'float64',\n",
       " 'gas_offer': 'uint64',\n",
       " 'light_offer_type': 'object',\n",
       " 'light_offer': 'object',\n",
       " 'howmuch_pay': 'float64',\n",
       " 'total_amount': 'float64',\n",
       " 'light_amount': 'float64',\n",
       " 'average_unit_light_cost': 'float64',\n",
       " 'average_light_bill_cost': 'float64',\n",
       " 'average_unit_gas_cost': 'float64',\n",
       " 'average_gas_bill_cost': 'float64',\n",
       " 'customer_code': 'object',\n",
       " 'billing_frequency': 'object',\n",
       " 'bill_type': 'object',\n",
       " 'gas_system_charges': 'float64',\n",
       " 'light_system_charges': 'float64',\n",
       " 'gas_material_cost': 'float64',\n",
       " 'light_transport_cost': 'float64',\n",
       " 'gas_transport_cost': 'float64',\n",
       " 'light_material_cost': 'float64',\n",
       " 'b_freq': 'float64'}"
      ]
     },
     "execution_count": 23,
     "metadata": {},
     "output_type": "execute_result"
    }
   ],
   "source": [
    "base.load_dataset('parquet', path='data/mod_parquet')\n",
    "base.get_columns_types()"
   ]
  },
  {
   "cell_type": "markdown",
   "id": "379b4cc7-70b5-48ef-8036-3dda72b8adf1",
   "metadata": {
    "jp-MarkdownHeadingCollapsed": true,
    "tags": []
   },
   "source": [
    "## Da non portare"
   ]
  },
  {
   "cell_type": "code",
   "execution_count": null,
   "id": "7dc3941b-c6c6-4b4c-810e-7d4181177c57",
   "metadata": {},
   "outputs": [],
   "source": [
    "# Dovrebbe accorgersi di colonne con similarità > soglia\n",
    "# TODO --> FUNZIONE DA RIFARE PERCHé USA I SET E QUINDI NON CONFRONTA RIGA-RIGA \n",
    "#          MA SET(ELEMENTI_COL1) CON SET(eLEMENTI_COL2)\n",
    "def get_duplicate_col(df, soglia=0.9):\n",
    "        \"\"\"\n",
    "        Return a list of duplicate columns, if exists.\n",
    "        Duplicate columns are those which have same values for each row.\n",
    "        \"\"\"  \n",
    "        cols = df.columns.values\n",
    "        #return [(cols[i], cols[j]) for i in range(0, len(cols)) for j in range(i+1, len(cols)) if self.df[cols[i]].equals(self.df[cols[j]])]\n",
    "        \n",
    "        return [(cols[i], cols[j]) for i in range(0, len(cols)) for j in range(i+1, len(cols)) if len(set(cols[i]) & set(cols[j])) / float(len(set(cols[i]) | set(cols[j]))) > soglia ]"
   ]
  },
  {
   "cell_type": "markdown",
   "id": "ec03d74c-5bb8-424f-a59e-2f54b363ff19",
   "metadata": {
    "jp-MarkdownHeadingCollapsed": true,
    "tags": []
   },
   "source": [
    "# 1. INGESTION & DISCOVERY"
   ]
  },
  {
   "cell_type": "markdown",
   "id": "d19e692a-681a-48ba-9286-90ec709546c7",
   "metadata": {
    "tags": []
   },
   "source": [
    "## Analysis DA PORTARE"
   ]
  },
  {
   "cell_type": "markdown",
   "id": "cb2ec721-0804-4fb8-af2d-3615fe1ba86a",
   "metadata": {
    "tags": []
   },
   "source": [
    "### Supply type analysis"
   ]
  },
  {
   "cell_type": "code",
   "execution_count": 5,
   "id": "db1ded88-a43b-442a-b90a-371a0031d9af",
   "metadata": {},
   "outputs": [
    {
     "data": {
      "text/plain": [
       "gas              5686288\n",
       "light            3684510\n",
       "gas and light    1126345\n",
       "Name: supply_type, dtype: int64"
      ]
     },
     "execution_count": 5,
     "metadata": {},
     "output_type": "execute_result"
    }
   ],
   "source": [
    "base['supply_type'].value_counts().compute()"
   ]
  },
  {
   "cell_type": "code",
   "execution_count": 37,
   "id": "518f5e6d-2d30-4462-9521-696d1f7dc4f4",
   "metadata": {},
   "outputs": [],
   "source": [
    "light_related = ['F1_kWh', 'F2_kWh', 'F3_kWh', 'light_start_date', 'light_end_date', 'light_average_cost', 'light_consumption', 'light_offer_type', 'light_offer', 'light_amount', 'average_unit_light_cost', 'average_light_bill_cost', 'light_system_charges', 'light_transport_cost', 'light_material_cost', 'bill_type', 'supply_type']"
   ]
  },
  {
   "cell_type": "markdown",
   "id": "da1b4b6c-a17b-4369-bb6a-2636151b608c",
   "metadata": {},
   "source": [
    "All the 'supply_type' == 'gas' have F1,F2,F3 == 0 as expected\n",
    "also they all have light_consumption == NaN, we set them to 0"
   ]
  },
  {
   "cell_type": "code",
   "execution_count": 23,
   "id": "1b81e846-ff08-4932-b8e7-0fd63399c9a0",
   "metadata": {},
   "outputs": [
    {
     "data": {
      "text/plain": [
       "F1_kWh               5686288\n",
       "F2_kWh               5686288\n",
       "F3_kWh               5686288\n",
       "light_consumption          0\n",
       "dtype: int64"
      ]
     },
     "execution_count": 23,
     "metadata": {},
     "output_type": "execute_result"
    }
   ],
   "source": [
    "(base[base['supply_type'] == 'gas'][['F1_kWh', 'F2_kWh', 'F3_kWh', 'light_consumption']] == 0).sum().compute()"
   ]
  },
  {
   "cell_type": "code",
   "execution_count": 11,
   "id": "c3dd7569-0e74-4d77-9224-024197463cef",
   "metadata": {},
   "outputs": [
    {
     "data": {
      "text/plain": [
       "F1_kWh                     0\n",
       "F2_kWh                     0\n",
       "F3_kWh                     0\n",
       "light_consumption    5686288\n",
       "dtype: int64"
      ]
     },
     "execution_count": 11,
     "metadata": {},
     "output_type": "execute_result"
    }
   ],
   "source": [
    "base[base['supply_type'] == 'gas'][['F1_kWh', 'F2_kWh', 'F3_kWh', 'light_consumption']].isna().sum().compute()"
   ]
  },
  {
   "cell_type": "code",
   "execution_count": 20,
   "id": "72a7cc90-1d7f-4eb8-8865-6e3fdbea257c",
   "metadata": {},
   "outputs": [],
   "source": [
    "base.df['light_consumption'] = base.df['light_consumption'].mask(base['supply_type'] == 'gas', 0)"
   ]
  },
  {
   "cell_type": "code",
   "execution_count": 38,
   "id": "f29da44d-07c4-4c89-93fa-a7588e653483",
   "metadata": {},
   "outputs": [
    {
     "data": {
      "text/plain": [
       "F1_kWh                        0\n",
       "F2_kWh                        0\n",
       "F3_kWh                        0\n",
       "light_start_date           5068\n",
       "light_end_date             5068\n",
       "light_average_cost            0\n",
       "light_consumption             0\n",
       "light_offer_type              0\n",
       "light_offer                   0\n",
       "light_amount                  0\n",
       "average_unit_light_cost       0\n",
       "average_light_bill_cost       0\n",
       "light_system_charges          0\n",
       "light_transport_cost          0\n",
       "light_material_cost           0\n",
       "bill_type                     0\n",
       "supply_type                   0\n",
       "dtype: int64"
      ]
     },
     "execution_count": 38,
     "metadata": {},
     "output_type": "execute_result"
    }
   ],
   "source": [
    "base[base['supply_type'] == 'gas'][light_related].isna().sum().compute()"
   ]
  },
  {
   "cell_type": "markdown",
   "id": "9b506f9e-1467-40d8-a62b-776a1e54841b",
   "metadata": {},
   "source": [
    "Non solo light consumption è a nan ma anche altre colonne, quindi cambio anche loro"
   ]
  },
  {
   "cell_type": "code",
   "execution_count": 23,
   "id": "8824d369-232e-4b99-b390-4eb4b3b60627",
   "metadata": {},
   "outputs": [],
   "source": [
    "base.df[['light_consumption', 'light_average_cost', 'light_amount', 'average_unit_light_cost', 'average_light_bill_cost', 'light_system_charges', 'light_transport_cost', 'light_material_cost']] = base.df[['light_consumption', 'light_average_cost', 'light_amount', 'average_unit_light_cost', 'average_light_bill_cost', 'light_system_charges', 'light_transport_cost', 'light_material_cost']] = base.df[['light_consumption', 'light_average_cost', 'light_amount', 'average_unit_light_cost', 'average_light_bill_cost', 'light_system_charges', 'light_transport_cost', 'light_material_cost']].mask(base['supply_type'] == 'gas', 0)"
   ]
  },
  {
   "cell_type": "code",
   "execution_count": 39,
   "id": "c98716a0-2357-4983-a618-3106532cd0b2",
   "metadata": {},
   "outputs": [
    {
     "data": {
      "text/plain": [
       "F1_kWh                         0\n",
       "F2_kWh                         0\n",
       "F3_kWh                         0\n",
       "light_start_date            1142\n",
       "light_end_date              1142\n",
       "light_average_cost         52550\n",
       "light_consumption              0\n",
       "light_offer_type               0\n",
       "light_offer                    0\n",
       "light_amount                 516\n",
       "average_unit_light_cost    53666\n",
       "average_light_bill_cost    52401\n",
       "light_system_charges       32048\n",
       "light_transport_cost       31996\n",
       "light_material_cost        31971\n",
       "bill_type                      0\n",
       "supply_type                    0\n",
       "dtype: int64"
      ]
     },
     "execution_count": 39,
     "metadata": {},
     "output_type": "execute_result"
    }
   ],
   "source": [
    "base[base['supply_type'] == 'gas and light'][light_related].isna().sum().compute()"
   ]
  },
  {
   "cell_type": "code",
   "execution_count": 42,
   "id": "61196fad-8439-4e6e-97f2-c1feb53a969c",
   "metadata": {},
   "outputs": [
    {
     "data": {
      "text/plain": [
       "F1_kWh                         0\n",
       "F2_kWh                         0\n",
       "F3_kWh                         0\n",
       "light_start_date            1142\n",
       "light_end_date              1142\n",
       "light_average_cost         39506\n",
       "light_consumption              0\n",
       "light_offer_type               0\n",
       "light_offer                    0\n",
       "light_amount                 516\n",
       "average_unit_light_cost    39506\n",
       "average_light_bill_cost    39506\n",
       "light_system_charges       31982\n",
       "light_transport_cost       31946\n",
       "light_material_cost        31967\n",
       "bill_type                      0\n",
       "supply_type                    0\n",
       "dtype: int64"
      ]
     },
     "execution_count": 42,
     "metadata": {},
     "output_type": "execute_result"
    }
   ],
   "source": [
    "base[(base['supply_type'] == 'gas and light') & (base[['F1_kWh', 'F2_kWh', 'F3_kWh']].sum(axis=1)==0)][light_related].isna().sum().compute()"
   ]
  },
  {
   "cell_type": "code",
   "execution_count": 13,
   "id": "1b8bfe2a-853e-4910-9a38-b295d6ec681f",
   "metadata": {},
   "outputs": [
    {
     "data": {
      "text/plain": [
       "0      0.0\n",
       "1    219.0\n",
       "2      0.0\n",
       "3      0.0\n",
       "4      0.0\n",
       "Name: light_consumption, dtype: float64"
      ]
     },
     "execution_count": 13,
     "metadata": {},
     "output_type": "execute_result"
    }
   ],
   "source": [
    "base.df['light_consumption'].head()"
   ]
  },
  {
   "cell_type": "markdown",
   "id": "6a720997-4b08-458c-8672-71db389b40dd",
   "metadata": {},
   "source": [
    "All the 'supply_type' == 'light' have gas_consumption == NaN, we set it to 0 \n",
    "(not only gas_consumption)"
   ]
  },
  {
   "cell_type": "code",
   "execution_count": 14,
   "id": "d0d73ff0-4c44-4519-8984-05ad1d4a1948",
   "metadata": {},
   "outputs": [
    {
     "data": {
      "text/plain": [
       "3686753"
      ]
     },
     "execution_count": 14,
     "metadata": {},
     "output_type": "execute_result"
    }
   ],
   "source": [
    "base['gas_consumption'].isna().sum().compute()"
   ]
  },
  {
   "cell_type": "code",
   "execution_count": 25,
   "id": "64a2c96f-3f54-475b-99bb-c33f34fd4a3d",
   "metadata": {},
   "outputs": [],
   "source": [
    "gas_related = ['gas_consumption', 'gas_transport_cost', 'gas_material_cost', 'gas_system_charges', 'average_gas_bill_cost', 'average_unit_gas_cost', 'gas_average_cost', 'gas_amount']"
   ]
  },
  {
   "cell_type": "code",
   "execution_count": 26,
   "id": "24cae064-cbfd-4a6b-a83c-3a09a817b844",
   "metadata": {},
   "outputs": [
    {
     "data": {
      "text/plain": [
       "gas_consumption          3684510\n",
       "gas_transport_cost       3684510\n",
       "gas_material_cost        3684510\n",
       "gas_system_charges       3684510\n",
       "average_gas_bill_cost    3684510\n",
       "average_unit_gas_cost    3684510\n",
       "gas_average_cost         3684510\n",
       "gas_amount               3684510\n",
       "dtype: int64"
      ]
     },
     "execution_count": 26,
     "metadata": {},
     "output_type": "execute_result"
    }
   ],
   "source": [
    "(base[base['supply_type'] == 'light'][gas_related].isna()).sum().compute()"
   ]
  },
  {
   "cell_type": "code",
   "execution_count": 27,
   "id": "979cc67d-3355-45b1-ad6d-9c2db584a447",
   "metadata": {},
   "outputs": [
    {
     "data": {
      "text/plain": [
       "gas_consumption          3686753\n",
       "gas_transport_cost       3761775\n",
       "gas_material_cost        3755162\n",
       "gas_system_charges       3762487\n",
       "average_gas_bill_cost    4285780\n",
       "average_unit_gas_cost    4287486\n",
       "gas_average_cost         4287486\n",
       "gas_amount               3686754\n",
       "dtype: int64"
      ]
     },
     "execution_count": 27,
     "metadata": {},
     "output_type": "execute_result"
    }
   ],
   "source": [
    "base[gas_related].isna().sum().compute()"
   ]
  },
  {
   "cell_type": "code",
   "execution_count": 28,
   "id": "508b8758-5f18-4a3d-9a2a-0e3871c9c1e0",
   "metadata": {},
   "outputs": [],
   "source": [
    "base[gas_related] = base[gas_related].mask(base['supply_type'] == 'light', 0)"
   ]
  },
  {
   "cell_type": "code",
   "execution_count": 29,
   "id": "71891cfa-e01b-4332-95f5-38adc5bc8386",
   "metadata": {},
   "outputs": [
    {
     "data": {
      "text/plain": [
       "gas_consumption            2243\n",
       "gas_transport_cost        77265\n",
       "gas_material_cost         70652\n",
       "gas_system_charges        77977\n",
       "average_gas_bill_cost    601270\n",
       "average_unit_gas_cost    602976\n",
       "gas_average_cost         602976\n",
       "gas_amount                 2244\n",
       "dtype: int64"
      ]
     },
     "execution_count": 29,
     "metadata": {},
     "output_type": "execute_result"
    }
   ],
   "source": [
    "base[gas_related].isna().sum().compute()"
   ]
  },
  {
   "cell_type": "code",
   "execution_count": 25,
   "id": "18a13359-4fd2-41ce-ae28-a488818fea1d",
   "metadata": {},
   "outputs": [
    {
     "data": {
      "text/plain": [
       "gas_consumption          0.0\n",
       "gas_transport_cost       0.0\n",
       "gas_material_cost        0.0\n",
       "gas_system_charges       0.0\n",
       "average_gas_bill_cost    0.0\n",
       "average_unit_gas_cost    0.0\n",
       "gas_average_cost         0.0\n",
       "gas_amount               0.0\n",
       "dtype: float64"
      ]
     },
     "execution_count": 25,
     "metadata": {},
     "output_type": "execute_result"
    }
   ],
   "source": [
    "(base[base['supply_type'] == 'light'][gas_related].isna()).sum().compute()"
   ]
  },
  {
   "cell_type": "markdown",
   "id": "75fcc0c6-bfe8-48ef-a19c-12cab717f876",
   "metadata": {},
   "source": [
    "I rimanenti NaN sono in gas and light, possiamo ipotizzare che sia perché non hanno usato gas?"
   ]
  },
  {
   "cell_type": "code",
   "execution_count": 25,
   "id": "df30c0cf-77f5-4b02-9421-1616454f30cc",
   "metadata": {},
   "outputs": [
    {
     "data": {
      "text/html": [
       "<div>\n",
       "<style scoped>\n",
       "    .dataframe tbody tr th:only-of-type {\n",
       "        vertical-align: middle;\n",
       "    }\n",
       "\n",
       "    .dataframe tbody tr th {\n",
       "        vertical-align: top;\n",
       "    }\n",
       "\n",
       "    .dataframe thead th {\n",
       "        text-align: right;\n",
       "    }\n",
       "</style>\n",
       "<table border=\"1\" class=\"dataframe\">\n",
       "  <thead>\n",
       "    <tr style=\"text-align: right;\">\n",
       "      <th></th>\n",
       "      <th>gas_amount</th>\n",
       "      <th>gas_average_cost</th>\n",
       "      <th>gas_consumption</th>\n",
       "      <th>average_unit_gas_cost</th>\n",
       "      <th>average_gas_bill_cost</th>\n",
       "      <th>gas_system_charges</th>\n",
       "      <th>gas_material_cost</th>\n",
       "      <th>gas_transport_cost</th>\n",
       "      <th>supply_type</th>\n",
       "      <th>bill_type</th>\n",
       "      <th>light_consumption</th>\n",
       "    </tr>\n",
       "  </thead>\n",
       "  <tbody>\n",
       "    <tr>\n",
       "      <th>1611</th>\n",
       "      <td>NaN</td>\n",
       "      <td>NaN</td>\n",
       "      <td>NaN</td>\n",
       "      <td>NaN</td>\n",
       "      <td>NaN</td>\n",
       "      <td>NaN</td>\n",
       "      <td>NaN</td>\n",
       "      <td>NaN</td>\n",
       "      <td>gas and light</td>\n",
       "      <td>False</td>\n",
       "      <td>42.0</td>\n",
       "    </tr>\n",
       "    <tr>\n",
       "      <th>1627</th>\n",
       "      <td>NaN</td>\n",
       "      <td>NaN</td>\n",
       "      <td>NaN</td>\n",
       "      <td>NaN</td>\n",
       "      <td>NaN</td>\n",
       "      <td>NaN</td>\n",
       "      <td>NaN</td>\n",
       "      <td>NaN</td>\n",
       "      <td>gas and light</td>\n",
       "      <td>False</td>\n",
       "      <td>582.0</td>\n",
       "    </tr>\n",
       "    <tr>\n",
       "      <th>1639</th>\n",
       "      <td>NaN</td>\n",
       "      <td>NaN</td>\n",
       "      <td>NaN</td>\n",
       "      <td>NaN</td>\n",
       "      <td>NaN</td>\n",
       "      <td>NaN</td>\n",
       "      <td>NaN</td>\n",
       "      <td>NaN</td>\n",
       "      <td>gas and light</td>\n",
       "      <td>False</td>\n",
       "      <td>83.0</td>\n",
       "    </tr>\n",
       "    <tr>\n",
       "      <th>1858</th>\n",
       "      <td>NaN</td>\n",
       "      <td>NaN</td>\n",
       "      <td>NaN</td>\n",
       "      <td>NaN</td>\n",
       "      <td>NaN</td>\n",
       "      <td>NaN</td>\n",
       "      <td>NaN</td>\n",
       "      <td>NaN</td>\n",
       "      <td>gas and light</td>\n",
       "      <td>False</td>\n",
       "      <td>149.0</td>\n",
       "    </tr>\n",
       "    <tr>\n",
       "      <th>2511</th>\n",
       "      <td>NaN</td>\n",
       "      <td>NaN</td>\n",
       "      <td>NaN</td>\n",
       "      <td>NaN</td>\n",
       "      <td>NaN</td>\n",
       "      <td>NaN</td>\n",
       "      <td>NaN</td>\n",
       "      <td>NaN</td>\n",
       "      <td>gas and light</td>\n",
       "      <td>False</td>\n",
       "      <td>438.0</td>\n",
       "    </tr>\n",
       "    <tr>\n",
       "      <th>...</th>\n",
       "      <td>...</td>\n",
       "      <td>...</td>\n",
       "      <td>...</td>\n",
       "      <td>...</td>\n",
       "      <td>...</td>\n",
       "      <td>...</td>\n",
       "      <td>...</td>\n",
       "      <td>...</td>\n",
       "      <td>...</td>\n",
       "      <td>...</td>\n",
       "      <td>...</td>\n",
       "    </tr>\n",
       "    <tr>\n",
       "      <th>535786</th>\n",
       "      <td>NaN</td>\n",
       "      <td>NaN</td>\n",
       "      <td>NaN</td>\n",
       "      <td>NaN</td>\n",
       "      <td>NaN</td>\n",
       "      <td>NaN</td>\n",
       "      <td>NaN</td>\n",
       "      <td>NaN</td>\n",
       "      <td>gas and light</td>\n",
       "      <td>False</td>\n",
       "      <td>409.0</td>\n",
       "    </tr>\n",
       "    <tr>\n",
       "      <th>535993</th>\n",
       "      <td>NaN</td>\n",
       "      <td>NaN</td>\n",
       "      <td>NaN</td>\n",
       "      <td>NaN</td>\n",
       "      <td>NaN</td>\n",
       "      <td>NaN</td>\n",
       "      <td>NaN</td>\n",
       "      <td>NaN</td>\n",
       "      <td>gas and light</td>\n",
       "      <td>False</td>\n",
       "      <td>317.0</td>\n",
       "    </tr>\n",
       "    <tr>\n",
       "      <th>536213</th>\n",
       "      <td>NaN</td>\n",
       "      <td>NaN</td>\n",
       "      <td>NaN</td>\n",
       "      <td>NaN</td>\n",
       "      <td>NaN</td>\n",
       "      <td>NaN</td>\n",
       "      <td>NaN</td>\n",
       "      <td>NaN</td>\n",
       "      <td>gas and light</td>\n",
       "      <td>False</td>\n",
       "      <td>421.0</td>\n",
       "    </tr>\n",
       "    <tr>\n",
       "      <th>536734</th>\n",
       "      <td>NaN</td>\n",
       "      <td>NaN</td>\n",
       "      <td>NaN</td>\n",
       "      <td>NaN</td>\n",
       "      <td>NaN</td>\n",
       "      <td>NaN</td>\n",
       "      <td>NaN</td>\n",
       "      <td>NaN</td>\n",
       "      <td>gas and light</td>\n",
       "      <td>False</td>\n",
       "      <td>1260.0</td>\n",
       "    </tr>\n",
       "    <tr>\n",
       "      <th>536750</th>\n",
       "      <td>NaN</td>\n",
       "      <td>NaN</td>\n",
       "      <td>NaN</td>\n",
       "      <td>NaN</td>\n",
       "      <td>NaN</td>\n",
       "      <td>NaN</td>\n",
       "      <td>NaN</td>\n",
       "      <td>NaN</td>\n",
       "      <td>gas and light</td>\n",
       "      <td>False</td>\n",
       "      <td>108.0</td>\n",
       "    </tr>\n",
       "  </tbody>\n",
       "</table>\n",
       "<p>2243 rows × 11 columns</p>\n",
       "</div>"
      ],
      "text/plain": [
       "        gas_amount  gas_average_cost  gas_consumption  average_unit_gas_cost  \\\n",
       "1611           NaN               NaN              NaN                    NaN   \n",
       "1627           NaN               NaN              NaN                    NaN   \n",
       "1639           NaN               NaN              NaN                    NaN   \n",
       "1858           NaN               NaN              NaN                    NaN   \n",
       "2511           NaN               NaN              NaN                    NaN   \n",
       "...            ...               ...              ...                    ...   \n",
       "535786         NaN               NaN              NaN                    NaN   \n",
       "535993         NaN               NaN              NaN                    NaN   \n",
       "536213         NaN               NaN              NaN                    NaN   \n",
       "536734         NaN               NaN              NaN                    NaN   \n",
       "536750         NaN               NaN              NaN                    NaN   \n",
       "\n",
       "        average_gas_bill_cost  gas_system_charges  gas_material_cost  \\\n",
       "1611                      NaN                 NaN                NaN   \n",
       "1627                      NaN                 NaN                NaN   \n",
       "1639                      NaN                 NaN                NaN   \n",
       "1858                      NaN                 NaN                NaN   \n",
       "2511                      NaN                 NaN                NaN   \n",
       "...                       ...                 ...                ...   \n",
       "535786                    NaN                 NaN                NaN   \n",
       "535993                    NaN                 NaN                NaN   \n",
       "536213                    NaN                 NaN                NaN   \n",
       "536734                    NaN                 NaN                NaN   \n",
       "536750                    NaN                 NaN                NaN   \n",
       "\n",
       "        gas_transport_cost    supply_type bill_type  light_consumption  \n",
       "1611                   NaN  gas and light     False               42.0  \n",
       "1627                   NaN  gas and light     False              582.0  \n",
       "1639                   NaN  gas and light     False               83.0  \n",
       "1858                   NaN  gas and light     False              149.0  \n",
       "2511                   NaN  gas and light     False              438.0  \n",
       "...                    ...            ...       ...                ...  \n",
       "535786                 NaN  gas and light     False              409.0  \n",
       "535993                 NaN  gas and light     False              317.0  \n",
       "536213                 NaN  gas and light     False              421.0  \n",
       "536734                 NaN  gas and light     False             1260.0  \n",
       "536750                 NaN  gas and light     False              108.0  \n",
       "\n",
       "[2243 rows x 11 columns]"
      ]
     },
     "execution_count": 25,
     "metadata": {},
     "output_type": "execute_result"
    }
   ],
   "source": [
    "base[base['gas_consumption'].isna()][['gas_amount', 'gas_average_cost', 'gas_consumption', 'average_unit_gas_cost', 'average_gas_bill_cost', 'gas_system_charges', 'gas_material_cost', 'gas_transport_cost', 'supply_type', 'bill_type', 'light_consumption']].compute()"
   ]
  },
  {
   "cell_type": "code",
   "execution_count": 31,
   "id": "fb5f4007-6846-474e-9296-4e9567ae908d",
   "metadata": {},
   "outputs": [
    {
     "data": {
      "text/plain": [
       "gas and light    2243\n",
       "Name: supply_type, dtype: int64"
      ]
     },
     "execution_count": 31,
     "metadata": {},
     "output_type": "execute_result"
    }
   ],
   "source": [
    "base[base['gas_consumption'].isna()]['supply_type'].value_counts().compute()"
   ]
  },
  {
   "cell_type": "code",
   "execution_count": 27,
   "id": "31804077-47b1-4b42-98a0-7a7798e7a942",
   "metadata": {},
   "outputs": [
    {
     "data": {
      "text/plain": [
       "3755162"
      ]
     },
     "execution_count": 27,
     "metadata": {},
     "output_type": "execute_result"
    }
   ],
   "source": [
    "base['gas_material_cost'].isna().sum().compute()"
   ]
  },
  {
   "cell_type": "markdown",
   "id": "2a0a1a4c-c4ee-44e7-bb98-2617812fa34e",
   "metadata": {
    "jp-MarkdownHeadingCollapsed": true,
    "tags": []
   },
   "source": [
    "### Columns gas related"
   ]
  },
  {
   "cell_type": "markdown",
   "id": "175be835-91a2-4f67-937e-83d51633fd08",
   "metadata": {},
   "source": [
    "gas_amount, gas_average_cost, gas_start_date, gas_end_date, gas_consumption, gas_offer, average_unit_gas_cost, average_gas_bill_cost, gas_system_charges, gas_material_cost, gas_transport_cost"
   ]
  },
  {
   "cell_type": "code",
   "execution_count": null,
   "id": "5a750294-7e13-431f-91c0-75d635a22c9a",
   "metadata": {},
   "outputs": [],
   "source": [
    "base[['gas_amount', 'gas_average_cost', 'gas_start_date', 'gas_end_date', 'gas_consumption', 'gas_offer', 'average_unit_gas_cost', 'average_gas_bill_cost', 'gas_system_charges', 'gas_material_cost', 'gas_transport_cost']].tail()\n",
    "# 'gas_average_cost' and 'average_unit_gas_cost' are equivalent"
   ]
  },
  {
   "cell_type": "markdown",
   "id": "15720cc0-cb62-43ff-a2d6-6017827bc4e1",
   "metadata": {},
   "source": [
    "Let's verify if gas_consumption = gas_amount * gas_average_cost"
   ]
  },
  {
   "cell_type": "code",
   "execution_count": 16,
   "id": "03ac381a-17b0-455e-a9ca-41e4ad51855c",
   "metadata": {},
   "outputs": [
    {
     "data": {
      "text/plain": [
       "19"
      ]
     },
     "execution_count": 16,
     "metadata": {},
     "output_type": "execute_result"
    }
   ],
   "source": [
    "base[(base['gas_amount'] == base['gas_consumption'] * base['gas_average_cost']) & (base['supply_type'] == 'gas')].shape[0].compute()"
   ]
  },
  {
   "cell_type": "code",
   "execution_count": 16,
   "id": "02fba585-5504-495c-a796-920382dfc5a1",
   "metadata": {},
   "outputs": [
    {
     "data": {
      "text/plain": [
       "18446744073709551615    3686753\n",
       "4894725755329590762     2362424\n",
       "2533091950655969294      892439\n",
       "4426041636325184338      574429\n",
       "4255330384700204909      547743\n",
       "                         ...   \n",
       "427412161778972741            2\n",
       "17440967613711628505          2\n",
       "14667544299777454982          2\n",
       "3902688171503331343           2\n",
       "14804909859740436821          1\n",
       "Name: gas_offer, Length: 123, dtype: int64"
      ]
     },
     "execution_count": 16,
     "metadata": {},
     "output_type": "execute_result"
    }
   ],
   "source": [
    "base['gas_offer'].value_counts().compute()"
   ]
  },
  {
   "cell_type": "code",
   "execution_count": 34,
   "id": "99ad674a-7d69-47cd-b694-5cc241aecfbb",
   "metadata": {},
   "outputs": [],
   "source": [
    "h, bins = da.histogram(base['gas_offer'].value_counts(), bins=np.array([0, 1, 10, 100, 1000, 10000, 100000, 1000000, 4000000]))"
   ]
  },
  {
   "cell_type": "code",
   "execution_count": 37,
   "id": "8809bccb-7f84-4b6f-87b8-d90be6651733",
   "metadata": {},
   "outputs": [],
   "source": [
    "ranges = [f'{bins[i]} - {bins[i+1]}' for i in range(8)]"
   ]
  },
  {
   "cell_type": "code",
   "execution_count": 38,
   "id": "3e911841-6c9d-4afe-8459-a0499f968b98",
   "metadata": {},
   "outputs": [],
   "source": [
    "h = pd.Series(h.compute(), index=ranges)"
   ]
  },
  {
   "cell_type": "code",
   "execution_count": 39,
   "id": "41747593-9c7d-4237-b860-b5343d3eaa10",
   "metadata": {},
   "outputs": [
    {
     "data": {
      "text/plain": [
       "<AxesSubplot:>"
      ]
     },
     "execution_count": 39,
     "metadata": {},
     "output_type": "execute_result"
    },
    {
     "data": {
      "image/png": "[encoded data removed]",
      "text/plain": [
       "<Figure size 432x288 with 1 Axes>"
      ]
     },
     "metadata": {
      "needs_background": "light"
     },
     "output_type": "display_data"
    }
   ],
   "source": [
    "h.plot(kind='bar')"
   ]
  },
  {
   "cell_type": "markdown",
   "id": "c562082d-009d-4d88-a408-2919459c0256",
   "metadata": {
    "jp-MarkdownHeadingCollapsed": true,
    "tags": []
   },
   "source": [
    "### Columns light related"
   ]
  },
  {
   "cell_type": "markdown",
   "id": "dc958b0a-3d75-498b-be18-36c0cf0e6e49",
   "metadata": {},
   "source": [
    "F1_kWh, F2_kWh, F3_kWh, light_start_date, light_end_date, light_average_cost, light_consumption, light_offer_type, light_offer, light_amount, average_unit_light_cost, average_light_bill_cost, light_system_charges, light_transport_cost, light_material_cost"
   ]
  },
  {
   "cell_type": "markdown",
   "id": "ab7f8ca2-b3a1-46d0-9a1c-e1fe4aa7facb",
   "metadata": {},
   "source": [
    "Riflessioni: \n",
    "light_consumption * average_light_bill_cost = light_amount, vero ma c'è un piccolissimo scarto che non li fa combaciare.\n",
    "\n",
    "light_consumption * average_unit_light_cost = light_material_cost, soldi spesi dall'azienda per comprare l'energia anche qua c'è un piccolissimo scarto\n",
    "\n",
    "light_amount - light_material_cost = guadagno dell'azienda, a cui bisogna togliere i costi di trasporto, light_system_charges"
   ]
  },
  {
   "cell_type": "code",
   "execution_count": null,
   "id": "f68a5b7c-6b17-4b97-b32e-257a01cb968a",
   "metadata": {},
   "outputs": [],
   "source": [
    "base[['F1_kWh', 'F2_kWh', 'F3_kWh', 'light_start_date', 'light_end_date', 'light_average_cost', 'light_consumption', 'light_offer_type', 'light_offer', 'light_amount', 'average_unit_light_cost', 'average_light_bill_cost', 'light_system_charges', 'light_transport_cost', 'light_material_cost']].sample(frac=0.001).compute()"
   ]
  },
  {
   "cell_type": "markdown",
   "id": "25cc7ea1-3c61-40a5-91e5-4444c65e5e14",
   "metadata": {},
   "source": [
    "F1_kWh + F2_kWh + F3_kWh = light_consumption? "
   ]
  },
  {
   "cell_type": "code",
   "execution_count": 26,
   "id": "1bdd3193-df93-4ad0-8c40-99ee278dfbed",
   "metadata": {},
   "outputs": [
    {
     "data": {
      "text/plain": [
       "10338688"
      ]
     },
     "execution_count": 26,
     "metadata": {},
     "output_type": "execute_result"
    }
   ],
   "source": [
    "base[(base['light_consumption'] == (base['F1_kWh'] + base['F2_kWh'] + base['F3_kWh']))].shape[0].compute()"
   ]
  },
  {
   "cell_type": "code",
   "execution_count": 116,
   "id": "f764163b-7ac9-449d-9d94-a503b049325e",
   "metadata": {},
   "outputs": [
    {
     "data": {
      "text/plain": [
       "10338688"
      ]
     },
     "execution_count": 116,
     "metadata": {},
     "output_type": "execute_result"
    }
   ],
   "source": [
    "157229 # don't match\n",
    "10338688 # match"
   ]
  },
  {
   "cell_type": "markdown",
   "id": "2ad91a11-d4ac-48b0-a11b-1ced2027386e",
   "metadata": {},
   "source": [
    "all the 529 light consumption remaining nan have f1,f2,f3 == 0 so we can set them to 0"
   ]
  },
  {
   "cell_type": "code",
   "execution_count": 27,
   "id": "da0b4a48-1a5e-469d-a0e0-4433343658c9",
   "metadata": {},
   "outputs": [
    {
     "data": {
      "text/plain": [
       "529"
      ]
     },
     "execution_count": 27,
     "metadata": {},
     "output_type": "execute_result"
    }
   ],
   "source": [
    "base[base['light_consumption'].isna()].shape[0].compute()"
   ]
  },
  {
   "cell_type": "code",
   "execution_count": 28,
   "id": "86ad84bc-406b-4582-a2b5-18ea5a645943",
   "metadata": {},
   "outputs": [
    {
     "data": {
      "text/plain": [
       "F1_kWh    529.0\n",
       "F2_kWh    529.0\n",
       "F3_kWh    529.0\n",
       "dtype: float64"
      ]
     },
     "execution_count": 28,
     "metadata": {},
     "output_type": "execute_result"
    }
   ],
   "source": [
    "(base[base['light_consumption'].isna()][['F1_kWh', 'F2_kWh', 'F3_kWh']] == 0).sum().compute()"
   ]
  },
  {
   "cell_type": "code",
   "execution_count": 40,
   "id": "45b43a55-4607-432e-bccd-0557d5262fad",
   "metadata": {},
   "outputs": [],
   "source": [
    "base['light_consumption'] = base['light_consumption'].fillna(0)"
   ]
  },
  {
   "cell_type": "markdown",
   "id": "1cc8dc29-4e31-4a45-87b6-ad43d23ed263",
   "metadata": {},
   "source": [
    "Now let's see how many record doesn't match"
   ]
  },
  {
   "cell_type": "code",
   "execution_count": 19,
   "id": "5911837e-826f-4824-a8e9-dffaa49544ba",
   "metadata": {},
   "outputs": [
    {
     "data": {
      "text/plain": [
       "10339217"
      ]
     },
     "execution_count": 19,
     "metadata": {},
     "output_type": "execute_result"
    }
   ],
   "source": [
    "base[(base['light_consumption'] == (base['F1_kWh'] + base['F2_kWh'] + base['F3_kWh']))].shape[0].compute()"
   ]
  },
  {
   "cell_type": "code",
   "execution_count": 20,
   "id": "c66cf840-5157-465b-b2e9-40508c29c47d",
   "metadata": {},
   "outputs": [
    {
     "data": {
      "text/plain": [
       "157926"
      ]
     },
     "execution_count": 20,
     "metadata": {},
     "output_type": "execute_result"
    }
   ],
   "source": [
    "base[(base['light_consumption'] != (base['F1_kWh'] + base['F2_kWh'] + base['F3_kWh']))].shape[0].compute()"
   ]
  },
  {
   "cell_type": "code",
   "execution_count": 16,
   "id": "8af96887-6207-4f5d-ba4e-60c5b59d07ef",
   "metadata": {},
   "outputs": [
    {
     "data": {
      "text/html": [
       "<div>\n",
       "<style scoped>\n",
       "    .dataframe tbody tr th:only-of-type {\n",
       "        vertical-align: middle;\n",
       "    }\n",
       "\n",
       "    .dataframe tbody tr th {\n",
       "        vertical-align: top;\n",
       "    }\n",
       "\n",
       "    .dataframe thead th {\n",
       "        text-align: right;\n",
       "    }\n",
       "</style>\n",
       "<table border=\"1\" class=\"dataframe\">\n",
       "  <thead>\n",
       "    <tr style=\"text-align: right;\">\n",
       "      <th></th>\n",
       "      <th>F1_kWh</th>\n",
       "      <th>F2_kWh</th>\n",
       "      <th>F3_kWh</th>\n",
       "      <th>light_start_date</th>\n",
       "      <th>light_end_date</th>\n",
       "      <th>light_average_cost</th>\n",
       "      <th>light_consumption</th>\n",
       "      <th>light_offer_type</th>\n",
       "      <th>light_offer</th>\n",
       "      <th>light_amount</th>\n",
       "      <th>average_unit_light_cost</th>\n",
       "      <th>average_light_bill_cost</th>\n",
       "      <th>light_system_charges</th>\n",
       "      <th>light_transport_cost</th>\n",
       "      <th>light_material_cost</th>\n",
       "      <th>bill_type</th>\n",
       "      <th>supply_type</th>\n",
       "      <th>city</th>\n",
       "    </tr>\n",
       "  </thead>\n",
       "  <tbody>\n",
       "    <tr>\n",
       "      <th>31</th>\n",
       "      <td>165.0</td>\n",
       "      <td>168.0</td>\n",
       "      <td>187.0</td>\n",
       "      <td>2020-06-01</td>\n",
       "      <td>2020-11-30</td>\n",
       "      <td>&lt;NA&gt;</td>\n",
       "      <td>298.0</td>\n",
       "      <td>light single zone</td>\n",
       "      <td>2301382657258644717</td>\n",
       "      <td>18.59</td>\n",
       "      <td>NaN</td>\n",
       "      <td>NaN</td>\n",
       "      <td>12.47</td>\n",
       "      <td>16.31</td>\n",
       "      <td>-45.68</td>\n",
       "      <td>False</td>\n",
       "      <td>gas e luce</td>\n",
       "      <td>LOZZO DI CADORE</td>\n",
       "    </tr>\n",
       "    <tr>\n",
       "      <th>34</th>\n",
       "      <td>108.0</td>\n",
       "      <td>97.0</td>\n",
       "      <td>107.0</td>\n",
       "      <td>2020-06-01</td>\n",
       "      <td>2020-11-30</td>\n",
       "      <td>48.0</td>\n",
       "      <td>199.0</td>\n",
       "      <td>light single zone</td>\n",
       "      <td>13262346701792425167</td>\n",
       "      <td>54.21</td>\n",
       "      <td>0.13</td>\n",
       "      <td>0.27</td>\n",
       "      <td>8.32</td>\n",
       "      <td>15.48</td>\n",
       "      <td>25.48</td>\n",
       "      <td>False</td>\n",
       "      <td>gas e luce</td>\n",
       "      <td>FOSSALTA DI PIAVE</td>\n",
       "    </tr>\n",
       "    <tr>\n",
       "      <th>35</th>\n",
       "      <td>153.0</td>\n",
       "      <td>141.0</td>\n",
       "      <td>217.0</td>\n",
       "      <td>2020-02-10</td>\n",
       "      <td>2020-11-26</td>\n",
       "      <td>55.0</td>\n",
       "      <td>49.0</td>\n",
       "      <td>light single zone</td>\n",
       "      <td>5618533779135348807</td>\n",
       "      <td>5.37</td>\n",
       "      <td>0.06</td>\n",
       "      <td>0.11</td>\n",
       "      <td>2.05</td>\n",
       "      <td>-1.31</td>\n",
       "      <td>3.03</td>\n",
       "      <td>False</td>\n",
       "      <td>gas e luce</td>\n",
       "      <td>SANT'OMERO</td>\n",
       "    </tr>\n",
       "    <tr>\n",
       "      <th>38</th>\n",
       "      <td>125.0</td>\n",
       "      <td>128.0</td>\n",
       "      <td>135.0</td>\n",
       "      <td>2020-02-01</td>\n",
       "      <td>2020-03-31</td>\n",
       "      <td>&lt;NA&gt;</td>\n",
       "      <td>0.0</td>\n",
       "      <td>light single zone</td>\n",
       "      <td>1919282689015738106</td>\n",
       "      <td>17.96</td>\n",
       "      <td>NaN</td>\n",
       "      <td>NaN</td>\n",
       "      <td>0.0</td>\n",
       "      <td>0.0</td>\n",
       "      <td>-16.32</td>\n",
       "      <td>False</td>\n",
       "      <td>gas e luce</td>\n",
       "      <td>SAN GIOVANNI DI GERACE</td>\n",
       "    </tr>\n",
       "    <tr>\n",
       "      <th>44</th>\n",
       "      <td>1356.0</td>\n",
       "      <td>1053.0</td>\n",
       "      <td>1186.0</td>\n",
       "      <td>2019-08-01</td>\n",
       "      <td>2020-11-30</td>\n",
       "      <td>&lt;NA&gt;</td>\n",
       "      <td>-10.0</td>\n",
       "      <td>light single zone</td>\n",
       "      <td>5618533779135348807</td>\n",
       "      <td>2.41</td>\n",
       "      <td>NaN</td>\n",
       "      <td>NaN</td>\n",
       "      <td>-0.76</td>\n",
       "      <td>-0.07</td>\n",
       "      <td>-0.91</td>\n",
       "      <td>False</td>\n",
       "      <td>gas e luce</td>\n",
       "      <td>LIBRIZZI</td>\n",
       "    </tr>\n",
       "  </tbody>\n",
       "</table>\n",
       "</div>"
      ],
      "text/plain": [
       "    F1_kWh  F2_kWh  F3_kWh light_start_date light_end_date  \\\n",
       "31   165.0   168.0   187.0       2020-06-01     2020-11-30   \n",
       "34   108.0    97.0   107.0       2020-06-01     2020-11-30   \n",
       "35   153.0   141.0   217.0       2020-02-10     2020-11-26   \n",
       "38   125.0   128.0   135.0       2020-02-01     2020-03-31   \n",
       "44  1356.0  1053.0  1186.0       2019-08-01     2020-11-30   \n",
       "\n",
       "    light_average_cost  light_consumption   light_offer_type  \\\n",
       "31                <NA>              298.0  light single zone   \n",
       "34                48.0              199.0  light single zone   \n",
       "35                55.0               49.0  light single zone   \n",
       "38                <NA>                0.0  light single zone   \n",
       "44                <NA>              -10.0  light single zone   \n",
       "\n",
       "             light_offer  light_amount  average_unit_light_cost  \\\n",
       "31   2301382657258644717         18.59                      NaN   \n",
       "34  13262346701792425167         54.21                     0.13   \n",
       "35   5618533779135348807          5.37                     0.06   \n",
       "38   1919282689015738106         17.96                      NaN   \n",
       "44   5618533779135348807          2.41                      NaN   \n",
       "\n",
       "    average_light_bill_cost  light_system_charges  light_transport_cost  \\\n",
       "31                      NaN                 12.47                 16.31   \n",
       "34                     0.27                  8.32                 15.48   \n",
       "35                     0.11                  2.05                 -1.31   \n",
       "38                      NaN                   0.0                   0.0   \n",
       "44                      NaN                 -0.76                 -0.07   \n",
       "\n",
       "    light_material_cost bill_type supply_type                    city  \n",
       "31               -45.68     False  gas e luce         LOZZO DI CADORE  \n",
       "34                25.48     False  gas e luce       FOSSALTA DI PIAVE  \n",
       "35                 3.03     False  gas e luce              SANT'OMERO  \n",
       "38               -16.32     False  gas e luce  SAN GIOVANNI DI GERACE  \n",
       "44                -0.91     False  gas e luce                LIBRIZZI  "
      ]
     },
     "execution_count": 16,
     "metadata": {},
     "output_type": "execute_result"
    }
   ],
   "source": [
    "base[(base['light_consumption'] != (base['F1_kWh'] + base['F2_kWh'] + base['F3_kWh']))][light_related + ['city']].head()"
   ]
  },
  {
   "cell_type": "code",
   "execution_count": 41,
   "id": "7ddd8a3e-1c18-46ef-b9af-f744fc1b14c5",
   "metadata": {},
   "outputs": [
    {
     "data": {
      "text/plain": [
       "luce          112085\n",
       "gas e luce     45144\n",
       "Name: supply_type, dtype: int64"
      ]
     },
     "execution_count": 41,
     "metadata": {},
     "output_type": "execute_result"
    }
   ],
   "source": [
    "base[(base['light_consumption'] != (base['F1_kWh'] + base['F2_kWh'] + base['F3_kWh']))]['supply_type'].value_counts().compute()"
   ]
  },
  {
   "cell_type": "code",
   "execution_count": 12,
   "id": "73be7571-d327-4586-9e61-1281d83bdf50",
   "metadata": {},
   "outputs": [],
   "source": [
    "F_kWh = base[['F1_kWh', 'F2_kWh', 'F3_kWh']]\n",
    "F_kWh = F_kWh.persist()"
   ]
  },
  {
   "cell_type": "code",
   "execution_count": 13,
   "id": "87980de7-8b50-48cc-9809-026f4781f548",
   "metadata": {},
   "outputs": [
    {
     "data": {
      "text/plain": [
       "10496446"
      ]
     },
     "execution_count": 13,
     "metadata": {},
     "output_type": "execute_result"
    }
   ],
   "source": [
    "# row with all the values not null\n",
    "F_kWh[~F_kWh.isna().any(axis=1)].shape[0].compute()"
   ]
  },
  {
   "cell_type": "code",
   "execution_count": 14,
   "id": "941e8d91-844d-4077-9dfa-fe49bee4e9a6",
   "metadata": {},
   "outputs": [
    {
     "data": {
      "text/plain": [
       "697"
      ]
     },
     "execution_count": 14,
     "metadata": {},
     "output_type": "execute_result"
    }
   ],
   "source": [
    "# rows with at least 1 value null\n",
    "F_kWh[F_kWh.isna().any(axis=1)].shape[0].compute()"
   ]
  },
  {
   "cell_type": "code",
   "execution_count": 15,
   "id": "864bdb5e-36e6-4eff-a117-68da8998d39b",
   "metadata": {},
   "outputs": [
    {
     "data": {
      "text/plain": [
       "85"
      ]
     },
     "execution_count": 15,
     "metadata": {},
     "output_type": "execute_result"
    }
   ],
   "source": [
    "# row with all values null\n",
    "F_kWh[F_kWh.isna().all(axis=1)].shape[0].compute()"
   ]
  },
  {
   "cell_type": "code",
   "execution_count": 15,
   "id": "28aaa78a-c50c-4c43-88c2-bc784452180b",
   "metadata": {},
   "outputs": [],
   "source": [
    "all_na = base[['F1_kWh', 'F2_kWh', 'F3_kWh']].isna().all(axis=1)"
   ]
  },
  {
   "cell_type": "markdown",
   "id": "219cbd42-d846-4f48-a663-d0ab51883238",
   "metadata": {},
   "source": [
    "85 su 10M di righe hanno sia F1 che F2 che F3 NaN ma il loro light consumption non lo è quindi sostituiamo i valori NaN con un valore medio del tot (F1,F2,F3 = light_consumption/3)\n",
    "Non l'abbiamo implementato perché è molto difficile cambiare i valori in dask, magari guardiamoci più avanti"
   ]
  },
  {
   "cell_type": "markdown",
   "id": "0c8a5db8-3f79-42f2-8993-efc310b70d74",
   "metadata": {},
   "source": [
    "#### La migliorissima funzionissima"
   ]
  },
  {
   "cell_type": "code",
   "execution_count": 37,
   "id": "6acfe01f-fc91-486c-ad0d-da67d85946c5",
   "metadata": {},
   "outputs": [
    {
     "data": {
      "text/plain": [
       "697"
      ]
     },
     "execution_count": 37,
     "metadata": {},
     "output_type": "execute_result"
    }
   ],
   "source": [
    "one_na = base[['F1_kWh', 'F2_kWh', 'F3_kWh']].isna().sum(axis=1) >= 1\n",
    "one_na.sum().compute()"
   ]
  },
  {
   "cell_type": "code",
   "execution_count": 24,
   "id": "7d07665c-26a6-44d3-a7f1-2fcae13961d2",
   "metadata": {},
   "outputs": [
    {
     "data": {
      "text/html": [
       "<div>\n",
       "<style scoped>\n",
       "    .dataframe tbody tr th:only-of-type {\n",
       "        vertical-align: middle;\n",
       "    }\n",
       "\n",
       "    .dataframe tbody tr th {\n",
       "        vertical-align: top;\n",
       "    }\n",
       "\n",
       "    .dataframe thead th {\n",
       "        text-align: right;\n",
       "    }\n",
       "</style>\n",
       "<table border=\"1\" class=\"dataframe\">\n",
       "  <thead>\n",
       "    <tr style=\"text-align: right;\">\n",
       "      <th></th>\n",
       "      <th>F1_kWh</th>\n",
       "      <th>F2_kWh</th>\n",
       "      <th>F3_kWh</th>\n",
       "      <th>light_consumption</th>\n",
       "    </tr>\n",
       "  </thead>\n",
       "  <tbody>\n",
       "  </tbody>\n",
       "</table>\n",
       "</div>"
      ],
      "text/plain": [
       "Empty DataFrame\n",
       "Columns: [F1_kWh, F2_kWh, F3_kWh, light_consumption]\n",
       "Index: []"
      ]
     },
     "execution_count": 24,
     "metadata": {},
     "output_type": "execute_result"
    }
   ],
   "source": [
    "any_na = base[['F1_kWh', 'F2_kWh', 'F3_kWh']].isna().sum(axis=1) >= 1\n",
    "base[any_na][['F1_kWh', 'F2_kWh', 'F3_kWh','light_consumption']].compute()"
   ]
  },
  {
   "cell_type": "code",
   "execution_count": 19,
   "id": "b6af20a3-fbf2-4b64-a832-a7be3ce7c221",
   "metadata": {},
   "outputs": [
    {
     "data": {
      "text/html": [
       "<div>\n",
       "<style scoped>\n",
       "    .dataframe tbody tr th:only-of-type {\n",
       "        vertical-align: middle;\n",
       "    }\n",
       "\n",
       "    .dataframe tbody tr th {\n",
       "        vertical-align: top;\n",
       "    }\n",
       "\n",
       "    .dataframe thead th {\n",
       "        text-align: right;\n",
       "    }\n",
       "</style>\n",
       "<table border=\"1\" class=\"dataframe\">\n",
       "  <thead>\n",
       "    <tr style=\"text-align: right;\">\n",
       "      <th></th>\n",
       "      <th>F1_kWh</th>\n",
       "      <th>F2_kWh</th>\n",
       "      <th>F3_kWh</th>\n",
       "      <th>light_consumption</th>\n",
       "    </tr>\n",
       "  </thead>\n",
       "  <tbody>\n",
       "    <tr>\n",
       "      <th>486609</th>\n",
       "      <td>0.0</td>\n",
       "      <td>0.0</td>\n",
       "      <td>0.0</td>\n",
       "      <td>0.0</td>\n",
       "    </tr>\n",
       "    <tr>\n",
       "      <th>522050</th>\n",
       "      <td>18.0</td>\n",
       "      <td>33.0</td>\n",
       "      <td>18.0</td>\n",
       "      <td>69.0</td>\n",
       "    </tr>\n",
       "    <tr>\n",
       "      <th>522711</th>\n",
       "      <td>71.0</td>\n",
       "      <td>54.0</td>\n",
       "      <td>67.0</td>\n",
       "      <td>192.0</td>\n",
       "    </tr>\n",
       "    <tr>\n",
       "      <th>533229</th>\n",
       "      <td>54.0</td>\n",
       "      <td>25.0</td>\n",
       "      <td>18.0</td>\n",
       "      <td>97.0</td>\n",
       "    </tr>\n",
       "    <tr>\n",
       "      <th>533556</th>\n",
       "      <td>12.0</td>\n",
       "      <td>5.0</td>\n",
       "      <td>10.0</td>\n",
       "      <td>27.0</td>\n",
       "    </tr>\n",
       "    <tr>\n",
       "      <th>...</th>\n",
       "      <td>...</td>\n",
       "      <td>...</td>\n",
       "      <td>...</td>\n",
       "      <td>...</td>\n",
       "    </tr>\n",
       "    <tr>\n",
       "      <th>299548</th>\n",
       "      <td>56.0</td>\n",
       "      <td>43.0</td>\n",
       "      <td>54.0</td>\n",
       "      <td>153.0</td>\n",
       "    </tr>\n",
       "    <tr>\n",
       "      <th>316172</th>\n",
       "      <td>0.0</td>\n",
       "      <td>1.0</td>\n",
       "      <td>0.0</td>\n",
       "      <td>1.0</td>\n",
       "    </tr>\n",
       "    <tr>\n",
       "      <th>402530</th>\n",
       "      <td>4.0</td>\n",
       "      <td>4.0</td>\n",
       "      <td>4.0</td>\n",
       "      <td>12.0</td>\n",
       "    </tr>\n",
       "    <tr>\n",
       "      <th>414707</th>\n",
       "      <td>-44.0</td>\n",
       "      <td>-34.0</td>\n",
       "      <td>-42.0</td>\n",
       "      <td>-120.0</td>\n",
       "    </tr>\n",
       "    <tr>\n",
       "      <th>468044</th>\n",
       "      <td>109.0</td>\n",
       "      <td>99.0</td>\n",
       "      <td>102.0</td>\n",
       "      <td>310.0</td>\n",
       "    </tr>\n",
       "  </tbody>\n",
       "</table>\n",
       "<p>193 rows × 4 columns</p>\n",
       "</div>"
      ],
      "text/plain": [
       "        F1_kWh  F2_kWh  F3_kWh  light_consumption\n",
       "486609     0.0     0.0     0.0                0.0\n",
       "522050    18.0    33.0    18.0               69.0\n",
       "522711    71.0    54.0    67.0              192.0\n",
       "533229    54.0    25.0    18.0               97.0\n",
       "533556    12.0     5.0    10.0               27.0\n",
       "...        ...     ...     ...                ...\n",
       "299548    56.0    43.0    54.0              153.0\n",
       "316172     0.0     1.0     0.0                1.0\n",
       "402530     4.0     4.0     4.0               12.0\n",
       "414707   -44.0   -34.0   -42.0             -120.0\n",
       "468044   109.0    99.0   102.0              310.0\n",
       "\n",
       "[193 rows x 4 columns]"
      ]
     },
     "execution_count": 19,
     "metadata": {},
     "output_type": "execute_result"
    }
   ],
   "source": [
    "any_na = base[['F1_kWh', 'F2_kWh', 'F3_kWh']].isna().sum(axis=1) >= 1\n",
    "\n",
    "def mean_sub(df):\n",
    "    any_na = df[['F1_kWh', 'F2_kWh', 'F3_kWh']].isna().sum(axis=1) >= 1\n",
    "\n",
    "    denominatore = df[['F1_kWh', 'F2_kWh', 'F3_kWh']][any_na].isna().sum(axis=1)\n",
    "    \n",
    "    numeratore = df['light_consumption'][any_na] - df[['F1_kWh', 'F2_kWh', 'F3_kWh']][any_na].fillna(0).sum(axis=1)\n",
    " \n",
    "    replace = df['F1_kWh'].isna()\n",
    "    df['F1_kWh'][replace] = numeratore[replace] / denominatore[replace]\n",
    "    \n",
    "    replace = df['F2_kWh'].isna()\n",
    "    df['F2_kWh'][replace] = numeratore[replace] / denominatore[replace]\n",
    "    \n",
    "    replace = df['F3_kWh'].isna()\n",
    "    df['F3_kWh'][replace] = numeratore[replace] / denominatore[replace]\n",
    "\n",
    "    return df\n",
    "\n",
    "#base.df.map_partitions(mean_sub, meta=base.df)[['F1_kWh', 'F2_kWh', 'F3_kWh','light_consumption']][all_na].compute()\n",
    "base[['F1_kWh', 'F2_kWh', 'F3_kWh','light_consumption']] = base.df.map_partitions(mean_sub, meta=base.df)[['F1_kWh', 'F2_kWh', 'F3_kWh','light_consumption']]#.sum()\n",
    "base[['F1_kWh', 'F2_kWh', 'F3_kWh','light_consumption']][any_na][['F1_kWh', 'F2_kWh', 'F3_kWh','light_consumption']].compute()"
   ]
  },
  {
   "cell_type": "code",
   "execution_count": 31,
   "id": "2d3f07ff-929e-45c3-8e33-12c5bce4d03b",
   "metadata": {},
   "outputs": [
    {
     "data": {
      "text/html": [
       "<div>\n",
       "<style scoped>\n",
       "    .dataframe tbody tr th:only-of-type {\n",
       "        vertical-align: middle;\n",
       "    }\n",
       "\n",
       "    .dataframe tbody tr th {\n",
       "        vertical-align: top;\n",
       "    }\n",
       "\n",
       "    .dataframe thead th {\n",
       "        text-align: right;\n",
       "    }\n",
       "</style>\n",
       "<table border=\"1\" class=\"dataframe\">\n",
       "  <thead>\n",
       "    <tr style=\"text-align: right;\">\n",
       "      <th></th>\n",
       "      <th>F1_kWh</th>\n",
       "      <th>F2_kWh</th>\n",
       "      <th>F3_kWh</th>\n",
       "      <th>light_consumption</th>\n",
       "    </tr>\n",
       "  </thead>\n",
       "  <tbody>\n",
       "    <tr>\n",
       "      <th>32634</th>\n",
       "      <td>97.666667</td>\n",
       "      <td>97.666667</td>\n",
       "      <td>97.666667</td>\n",
       "      <td>293.0</td>\n",
       "    </tr>\n",
       "    <tr>\n",
       "      <th>32641</th>\n",
       "      <td>22.666667</td>\n",
       "      <td>22.666667</td>\n",
       "      <td>22.666667</td>\n",
       "      <td>68.0</td>\n",
       "    </tr>\n",
       "    <tr>\n",
       "      <th>37760</th>\n",
       "      <td>-497.000000</td>\n",
       "      <td>-497.000000</td>\n",
       "      <td>-497.000000</td>\n",
       "      <td>-1491.0</td>\n",
       "    </tr>\n",
       "    <tr>\n",
       "      <th>429865</th>\n",
       "      <td>268.666667</td>\n",
       "      <td>268.666667</td>\n",
       "      <td>268.666667</td>\n",
       "      <td>806.0</td>\n",
       "    </tr>\n",
       "    <tr>\n",
       "      <th>467188</th>\n",
       "      <td>-302.666667</td>\n",
       "      <td>-302.666667</td>\n",
       "      <td>-302.666667</td>\n",
       "      <td>-908.0</td>\n",
       "    </tr>\n",
       "    <tr>\n",
       "      <th>484244</th>\n",
       "      <td>-2.333333</td>\n",
       "      <td>-2.333333</td>\n",
       "      <td>-2.333333</td>\n",
       "      <td>-7.0</td>\n",
       "    </tr>\n",
       "    <tr>\n",
       "      <th>485711</th>\n",
       "      <td>17.333333</td>\n",
       "      <td>17.333333</td>\n",
       "      <td>17.333333</td>\n",
       "      <td>52.0</td>\n",
       "    </tr>\n",
       "    <tr>\n",
       "      <th>485748</th>\n",
       "      <td>0.333333</td>\n",
       "      <td>0.333333</td>\n",
       "      <td>0.333333</td>\n",
       "      <td>1.0</td>\n",
       "    </tr>\n",
       "    <tr>\n",
       "      <th>509296</th>\n",
       "      <td>9.333333</td>\n",
       "      <td>9.333333</td>\n",
       "      <td>9.333333</td>\n",
       "      <td>28.0</td>\n",
       "    </tr>\n",
       "    <tr>\n",
       "      <th>24201</th>\n",
       "      <td>1255.333333</td>\n",
       "      <td>1255.333333</td>\n",
       "      <td>1255.333333</td>\n",
       "      <td>3766.0</td>\n",
       "    </tr>\n",
       "    <tr>\n",
       "      <th>59251</th>\n",
       "      <td>-0.333333</td>\n",
       "      <td>-0.333333</td>\n",
       "      <td>-0.333333</td>\n",
       "      <td>-1.0</td>\n",
       "    </tr>\n",
       "    <tr>\n",
       "      <th>169506</th>\n",
       "      <td>181.000000</td>\n",
       "      <td>181.000000</td>\n",
       "      <td>181.000000</td>\n",
       "      <td>543.0</td>\n",
       "    </tr>\n",
       "    <tr>\n",
       "      <th>169618</th>\n",
       "      <td>16.000000</td>\n",
       "      <td>16.000000</td>\n",
       "      <td>16.000000</td>\n",
       "      <td>48.0</td>\n",
       "    </tr>\n",
       "    <tr>\n",
       "      <th>170241</th>\n",
       "      <td>-88.666667</td>\n",
       "      <td>-88.666667</td>\n",
       "      <td>-88.666667</td>\n",
       "      <td>-266.0</td>\n",
       "    </tr>\n",
       "    <tr>\n",
       "      <th>202218</th>\n",
       "      <td>-1.000000</td>\n",
       "      <td>-1.000000</td>\n",
       "      <td>-1.000000</td>\n",
       "      <td>-3.0</td>\n",
       "    </tr>\n",
       "    <tr>\n",
       "      <th>204740</th>\n",
       "      <td>17.666667</td>\n",
       "      <td>17.666667</td>\n",
       "      <td>17.666667</td>\n",
       "      <td>53.0</td>\n",
       "    </tr>\n",
       "    <tr>\n",
       "      <th>223162</th>\n",
       "      <td>2.000000</td>\n",
       "      <td>2.000000</td>\n",
       "      <td>2.000000</td>\n",
       "      <td>6.0</td>\n",
       "    </tr>\n",
       "    <tr>\n",
       "      <th>334428</th>\n",
       "      <td>245.333333</td>\n",
       "      <td>245.333333</td>\n",
       "      <td>245.333333</td>\n",
       "      <td>736.0</td>\n",
       "    </tr>\n",
       "    <tr>\n",
       "      <th>349967</th>\n",
       "      <td>-8.666667</td>\n",
       "      <td>-8.666667</td>\n",
       "      <td>-8.666667</td>\n",
       "      <td>-26.0</td>\n",
       "    </tr>\n",
       "    <tr>\n",
       "      <th>368191</th>\n",
       "      <td>62.333333</td>\n",
       "      <td>62.333333</td>\n",
       "      <td>62.333333</td>\n",
       "      <td>187.0</td>\n",
       "    </tr>\n",
       "    <tr>\n",
       "      <th>368549</th>\n",
       "      <td>385.000000</td>\n",
       "      <td>385.000000</td>\n",
       "      <td>385.000000</td>\n",
       "      <td>1155.0</td>\n",
       "    </tr>\n",
       "    <tr>\n",
       "      <th>460328</th>\n",
       "      <td>0.000000</td>\n",
       "      <td>0.000000</td>\n",
       "      <td>0.000000</td>\n",
       "      <td>0.0</td>\n",
       "    </tr>\n",
       "    <tr>\n",
       "      <th>461002</th>\n",
       "      <td>-78.333333</td>\n",
       "      <td>-78.333333</td>\n",
       "      <td>-78.333333</td>\n",
       "      <td>-235.0</td>\n",
       "    </tr>\n",
       "    <tr>\n",
       "      <th>512400</th>\n",
       "      <td>-191.666667</td>\n",
       "      <td>-191.666667</td>\n",
       "      <td>-191.666667</td>\n",
       "      <td>-575.0</td>\n",
       "    </tr>\n",
       "    <tr>\n",
       "      <th>513895</th>\n",
       "      <td>-61.000000</td>\n",
       "      <td>-61.000000</td>\n",
       "      <td>-61.000000</td>\n",
       "      <td>-183.0</td>\n",
       "    </tr>\n",
       "    <tr>\n",
       "      <th>513939</th>\n",
       "      <td>185.333333</td>\n",
       "      <td>185.333333</td>\n",
       "      <td>185.333333</td>\n",
       "      <td>556.0</td>\n",
       "    </tr>\n",
       "    <tr>\n",
       "      <th>49189</th>\n",
       "      <td>0.333333</td>\n",
       "      <td>0.333333</td>\n",
       "      <td>0.333333</td>\n",
       "      <td>1.0</td>\n",
       "    </tr>\n",
       "    <tr>\n",
       "      <th>49234</th>\n",
       "      <td>-283.333333</td>\n",
       "      <td>-283.333333</td>\n",
       "      <td>-283.333333</td>\n",
       "      <td>-850.0</td>\n",
       "    </tr>\n",
       "    <tr>\n",
       "      <th>101271</th>\n",
       "      <td>14.333333</td>\n",
       "      <td>14.333333</td>\n",
       "      <td>14.333333</td>\n",
       "      <td>43.0</td>\n",
       "    </tr>\n",
       "    <tr>\n",
       "      <th>102409</th>\n",
       "      <td>96.333333</td>\n",
       "      <td>96.333333</td>\n",
       "      <td>96.333333</td>\n",
       "      <td>289.0</td>\n",
       "    </tr>\n",
       "    <tr>\n",
       "      <th>102760</th>\n",
       "      <td>0.000000</td>\n",
       "      <td>0.000000</td>\n",
       "      <td>0.000000</td>\n",
       "      <td>0.0</td>\n",
       "    </tr>\n",
       "    <tr>\n",
       "      <th>111626</th>\n",
       "      <td>0.000000</td>\n",
       "      <td>0.000000</td>\n",
       "      <td>0.000000</td>\n",
       "      <td>0.0</td>\n",
       "    </tr>\n",
       "    <tr>\n",
       "      <th>140914</th>\n",
       "      <td>0.000000</td>\n",
       "      <td>0.000000</td>\n",
       "      <td>0.000000</td>\n",
       "      <td>0.0</td>\n",
       "    </tr>\n",
       "    <tr>\n",
       "      <th>194477</th>\n",
       "      <td>121.333333</td>\n",
       "      <td>121.333333</td>\n",
       "      <td>121.333333</td>\n",
       "      <td>364.0</td>\n",
       "    </tr>\n",
       "    <tr>\n",
       "      <th>208674</th>\n",
       "      <td>122.666667</td>\n",
       "      <td>122.666667</td>\n",
       "      <td>122.666667</td>\n",
       "      <td>368.0</td>\n",
       "    </tr>\n",
       "    <tr>\n",
       "      <th>229720</th>\n",
       "      <td>1084.333333</td>\n",
       "      <td>1084.333333</td>\n",
       "      <td>1084.333333</td>\n",
       "      <td>3253.0</td>\n",
       "    </tr>\n",
       "    <tr>\n",
       "      <th>339886</th>\n",
       "      <td>3.666667</td>\n",
       "      <td>3.666667</td>\n",
       "      <td>3.666667</td>\n",
       "      <td>11.0</td>\n",
       "    </tr>\n",
       "    <tr>\n",
       "      <th>340012</th>\n",
       "      <td>-11.666667</td>\n",
       "      <td>-11.666667</td>\n",
       "      <td>-11.666667</td>\n",
       "      <td>-35.0</td>\n",
       "    </tr>\n",
       "    <tr>\n",
       "      <th>340603</th>\n",
       "      <td>34.333333</td>\n",
       "      <td>34.333333</td>\n",
       "      <td>34.333333</td>\n",
       "      <td>103.0</td>\n",
       "    </tr>\n",
       "    <tr>\n",
       "      <th>392032</th>\n",
       "      <td>0.333333</td>\n",
       "      <td>0.333333</td>\n",
       "      <td>0.333333</td>\n",
       "      <td>1.0</td>\n",
       "    </tr>\n",
       "  </tbody>\n",
       "</table>\n",
       "</div>"
      ],
      "text/plain": [
       "             F1_kWh       F2_kWh       F3_kWh  light_consumption\n",
       "32634     97.666667    97.666667    97.666667              293.0\n",
       "32641     22.666667    22.666667    22.666667               68.0\n",
       "37760   -497.000000  -497.000000  -497.000000            -1491.0\n",
       "429865   268.666667   268.666667   268.666667              806.0\n",
       "467188  -302.666667  -302.666667  -302.666667             -908.0\n",
       "484244    -2.333333    -2.333333    -2.333333               -7.0\n",
       "485711    17.333333    17.333333    17.333333               52.0\n",
       "485748     0.333333     0.333333     0.333333                1.0\n",
       "509296     9.333333     9.333333     9.333333               28.0\n",
       "24201   1255.333333  1255.333333  1255.333333             3766.0\n",
       "59251     -0.333333    -0.333333    -0.333333               -1.0\n",
       "169506   181.000000   181.000000   181.000000              543.0\n",
       "169618    16.000000    16.000000    16.000000               48.0\n",
       "170241   -88.666667   -88.666667   -88.666667             -266.0\n",
       "202218    -1.000000    -1.000000    -1.000000               -3.0\n",
       "204740    17.666667    17.666667    17.666667               53.0\n",
       "223162     2.000000     2.000000     2.000000                6.0\n",
       "334428   245.333333   245.333333   245.333333              736.0\n",
       "349967    -8.666667    -8.666667    -8.666667              -26.0\n",
       "368191    62.333333    62.333333    62.333333              187.0\n",
       "368549   385.000000   385.000000   385.000000             1155.0\n",
       "460328     0.000000     0.000000     0.000000                0.0\n",
       "461002   -78.333333   -78.333333   -78.333333             -235.0\n",
       "512400  -191.666667  -191.666667  -191.666667             -575.0\n",
       "513895   -61.000000   -61.000000   -61.000000             -183.0\n",
       "513939   185.333333   185.333333   185.333333              556.0\n",
       "49189      0.333333     0.333333     0.333333                1.0\n",
       "49234   -283.333333  -283.333333  -283.333333             -850.0\n",
       "101271    14.333333    14.333333    14.333333               43.0\n",
       "102409    96.333333    96.333333    96.333333              289.0\n",
       "102760     0.000000     0.000000     0.000000                0.0\n",
       "111626     0.000000     0.000000     0.000000                0.0\n",
       "140914     0.000000     0.000000     0.000000                0.0\n",
       "194477   121.333333   121.333333   121.333333              364.0\n",
       "208674   122.666667   122.666667   122.666667              368.0\n",
       "229720  1084.333333  1084.333333  1084.333333             3253.0\n",
       "339886     3.666667     3.666667     3.666667               11.0\n",
       "340012   -11.666667   -11.666667   -11.666667              -35.0\n",
       "340603    34.333333    34.333333    34.333333              103.0\n",
       "392032     0.333333     0.333333     0.333333                1.0"
      ]
     },
     "execution_count": 31,
     "metadata": {},
     "output_type": "execute_result"
    }
   ],
   "source": [
    "def mean_sub(df):\n",
    "    #all_na = (df['F1_kWh'].isna()) & (df['F2_kWh'].isna()) & (df['F3_kWh'].isna())\n",
    "    all_na = df[['F1_kWh', 'F2_kWh', 'F3_kWh']].isna().all(axis=1)\n",
    "    #print(all_na.shape[0])\n",
    "    # df[['F1_kWh', 'F2_kWh', 'F3_kWh']][all_na] = df[['light_consumption']][all_na] / 3\n",
    "    df['F1_kWh'][all_na] = df['light_consumption'][all_na] / 3\n",
    "    df['F2_kWh'][all_na] = df['light_consumption'][all_na] / 3\n",
    "    df['F3_kWh'][all_na] = df['light_consumption'][all_na] / 3\n",
    "    #return df\n",
    "    return df\n",
    "\n",
    "#base.df.map_partitions(mean_sub, meta=base.df)[['F1_kWh', 'F2_kWh', 'F3_kWh','light_consumption']][all_na].compute()\n",
    "base.df.map_partitions(mean_sub, meta=base.df)[['F1_kWh', 'F2_kWh', 'F3_kWh','light_consumption']][all_na].compute()#.sum()"
   ]
  },
  {
   "cell_type": "code",
   "execution_count": 26,
   "id": "1e0c2704-9865-4573-8681-9b8758d51fab",
   "metadata": {},
   "outputs": [],
   "source": [
    "F_kWh['sum'] = F_kWh.sum(axis=1)"
   ]
  },
  {
   "cell_type": "code",
   "execution_count": null,
   "id": "6db7ebc9-5963-4c78-a2ab-4c68be350917",
   "metadata": {},
   "outputs": [],
   "source": [
    "F_kWh[F_kWh[['F1_kWh', 'F2_kWh', 'F3_kWh']].isna().all(axis=1)].compute()"
   ]
  },
  {
   "cell_type": "code",
   "execution_count": 59,
   "id": "57914194-ed8d-4bf8-82ee-9d7d59af87ad",
   "metadata": {},
   "outputs": [],
   "source": [
    "base.df = base.df.assign(new_light_consumption = base[['F1_kWh', 'F2_kWh', 'F3_kWh']].sum(axis=1))"
   ]
  },
  {
   "cell_type": "code",
   "execution_count": 73,
   "id": "183a6ef6-4a7c-4391-9034-d1be41280973",
   "metadata": {},
   "outputs": [
    {
     "data": {
      "text/html": [
       "<div>\n",
       "<style scoped>\n",
       "    .dataframe tbody tr th:only-of-type {\n",
       "        vertical-align: middle;\n",
       "    }\n",
       "\n",
       "    .dataframe tbody tr th {\n",
       "        vertical-align: top;\n",
       "    }\n",
       "\n",
       "    .dataframe thead th {\n",
       "        text-align: right;\n",
       "    }\n",
       "</style>\n",
       "<table border=\"1\" class=\"dataframe\">\n",
       "  <thead>\n",
       "    <tr style=\"text-align: right;\">\n",
       "      <th></th>\n",
       "      <th>F1_kWh</th>\n",
       "      <th>F2_kWh</th>\n",
       "      <th>F3_kWh</th>\n",
       "      <th>light_consumption</th>\n",
       "      <th>new_light_consumption</th>\n",
       "    </tr>\n",
       "  </thead>\n",
       "  <tbody>\n",
       "    <tr>\n",
       "      <th>538637</th>\n",
       "      <td>372.0</td>\n",
       "      <td>351.0</td>\n",
       "      <td>353.0</td>\n",
       "      <td>564.0</td>\n",
       "      <td>1076.0</td>\n",
       "    </tr>\n",
       "    <tr>\n",
       "      <th>538682</th>\n",
       "      <td>341.0</td>\n",
       "      <td>356.0</td>\n",
       "      <td>208.0</td>\n",
       "      <td>649.0</td>\n",
       "      <td>905.0</td>\n",
       "    </tr>\n",
       "    <tr>\n",
       "      <th>538698</th>\n",
       "      <td>276.0</td>\n",
       "      <td>391.0</td>\n",
       "      <td>563.0</td>\n",
       "      <td>650.0</td>\n",
       "      <td>1230.0</td>\n",
       "    </tr>\n",
       "    <tr>\n",
       "      <th>538703</th>\n",
       "      <td>163.0</td>\n",
       "      <td>261.0</td>\n",
       "      <td>671.0</td>\n",
       "      <td>254.0</td>\n",
       "      <td>1095.0</td>\n",
       "    </tr>\n",
       "    <tr>\n",
       "      <th>538711</th>\n",
       "      <td>509.0</td>\n",
       "      <td>397.0</td>\n",
       "      <td>547.0</td>\n",
       "      <td>784.0</td>\n",
       "      <td>1453.0</td>\n",
       "    </tr>\n",
       "  </tbody>\n",
       "</table>\n",
       "</div>"
      ],
      "text/plain": [
       "        F1_kWh  F2_kWh  F3_kWh  light_consumption  new_light_consumption\n",
       "538637   372.0   351.0   353.0              564.0                 1076.0\n",
       "538682   341.0   356.0   208.0              649.0                  905.0\n",
       "538698   276.0   391.0   563.0              650.0                 1230.0\n",
       "538703   163.0   261.0   671.0              254.0                 1095.0\n",
       "538711   509.0   397.0   547.0              784.0                 1453.0"
      ]
     },
     "execution_count": 73,
     "metadata": {},
     "output_type": "execute_result"
    }
   ],
   "source": [
    "base.df[(base['new_light_consumption'] != base['light_consumption'])].tail()[['F1_kWh', 'F2_kWh', 'F3_kWh', 'light_consumption', 'new_light_consumption']]"
   ]
  },
  {
   "cell_type": "markdown",
   "id": "200382c2-29bd-4d5d-b672-917a4b8db787",
   "metadata": {},
   "source": [
    "If the F1 + F2 + F3 is < 0 is light_average_cost, average_unit_light_cost, average_light_bill_cost always NaN ? "
   ]
  },
  {
   "cell_type": "code",
   "execution_count": null,
   "id": "2f10df20-bf9c-421c-87bf-521fe349faf1",
   "metadata": {},
   "outputs": [],
   "source": [
    "157778"
   ]
  },
  {
   "cell_type": "code",
   "execution_count": 77,
   "id": "5b0ea98a-1969-4c2b-a312-42134e503c31",
   "metadata": {},
   "outputs": [
    {
     "data": {
      "text/plain": [
       "4810855"
      ]
     },
     "execution_count": 77,
     "metadata": {},
     "output_type": "execute_result"
    }
   ],
   "source": [
    "3684510+1126345"
   ]
  },
  {
   "cell_type": "markdown",
   "id": "9523baf8-3804-486f-a72f-843c4602496e",
   "metadata": {},
   "source": [
    "light_consumption * average_light_bill_cost = light_amount, vero ma c'è un piccolissimo scarto che non li fa combaciare\n",
    "questo è dovuto dal fatto che average_light_bill_cost è arrotondato a 2 cifre decimali quindi sbaglia di un piccolo margine."
   ]
  },
  {
   "cell_type": "code",
   "execution_count": 67,
   "id": "90eb3c71-e248-4899-914f-d49ecbd06235",
   "metadata": {},
   "outputs": [
    {
     "data": {
      "text/plain": [
       "5745063"
      ]
     },
     "execution_count": 67,
     "metadata": {},
     "output_type": "execute_result"
    }
   ],
   "source": [
    "((base['light_consumption'] * base['average_light_bill_cost'] - base['light_amount']) == 0).sum().compute()"
   ]
  },
  {
   "cell_type": "code",
   "execution_count": 69,
   "id": "48287e39-f4f0-4603-b98d-0314818de7ab",
   "metadata": {},
   "outputs": [
    {
     "data": {
      "text/plain": [
       "58775"
      ]
     },
     "execution_count": 69,
     "metadata": {},
     "output_type": "execute_result"
    }
   ],
   "source": [
    "# supply type == gas\n",
    "5686288\n",
    "# the real light_consumption * average_light_bill_cost = light_amount are:\n",
    "5745063 - 5686288"
   ]
  },
  {
   "cell_type": "code",
   "execution_count": 71,
   "id": "81e81607-3170-465f-b05c-5ceebb867a6d",
   "metadata": {},
   "outputs": [
    {
     "data": {
      "text/html": [
       "<div>\n",
       "<style scoped>\n",
       "    .dataframe tbody tr th:only-of-type {\n",
       "        vertical-align: middle;\n",
       "    }\n",
       "\n",
       "    .dataframe tbody tr th {\n",
       "        vertical-align: top;\n",
       "    }\n",
       "\n",
       "    .dataframe thead th {\n",
       "        text-align: right;\n",
       "    }\n",
       "</style>\n",
       "<table border=\"1\" class=\"dataframe\">\n",
       "  <thead>\n",
       "    <tr style=\"text-align: right;\">\n",
       "      <th></th>\n",
       "      <th>F1_kWh</th>\n",
       "      <th>F2_kWh</th>\n",
       "      <th>F3_kWh</th>\n",
       "      <th>light_start_date</th>\n",
       "      <th>light_end_date</th>\n",
       "      <th>light_average_cost</th>\n",
       "      <th>light_consumption</th>\n",
       "      <th>light_offer_type</th>\n",
       "      <th>light_offer</th>\n",
       "      <th>light_amount</th>\n",
       "      <th>average_unit_light_cost</th>\n",
       "      <th>average_light_bill_cost</th>\n",
       "      <th>light_system_charges</th>\n",
       "      <th>light_transport_cost</th>\n",
       "      <th>light_material_cost</th>\n",
       "      <th>bill_type</th>\n",
       "      <th>supply_type</th>\n",
       "    </tr>\n",
       "  </thead>\n",
       "  <tbody>\n",
       "    <tr>\n",
       "      <th>0</th>\n",
       "      <td>0.0</td>\n",
       "      <td>0.0</td>\n",
       "      <td>0.0</td>\n",
       "      <td>2018-04-16</td>\n",
       "      <td>2019-11-25</td>\n",
       "      <td>0.0</td>\n",
       "      <td>0.0</td>\n",
       "      <td>light</td>\n",
       "      <td>18446744073709551615</td>\n",
       "      <td>0.00</td>\n",
       "      <td>0.00</td>\n",
       "      <td>0.00</td>\n",
       "      <td>0.00</td>\n",
       "      <td>0.00</td>\n",
       "      <td>0.00</td>\n",
       "      <td>standard bill</td>\n",
       "      <td>gas</td>\n",
       "    </tr>\n",
       "    <tr>\n",
       "      <th>1</th>\n",
       "      <td>81.0</td>\n",
       "      <td>62.0</td>\n",
       "      <td>76.0</td>\n",
       "      <td>2020-12-05</td>\n",
       "      <td>2020-12-31</td>\n",
       "      <td>50.0</td>\n",
       "      <td>219.0</td>\n",
       "      <td>light single zone</td>\n",
       "      <td>556925197644088568</td>\n",
       "      <td>47.22</td>\n",
       "      <td>0.11</td>\n",
       "      <td>0.22</td>\n",
       "      <td>9.15</td>\n",
       "      <td>5.68</td>\n",
       "      <td>23.13</td>\n",
       "      <td>standard bill</td>\n",
       "      <td>light</td>\n",
       "    </tr>\n",
       "    <tr>\n",
       "      <th>2</th>\n",
       "      <td>0.0</td>\n",
       "      <td>0.0</td>\n",
       "      <td>0.0</td>\n",
       "      <td>2020-12-05</td>\n",
       "      <td>2020-12-31</td>\n",
       "      <td>NaN</td>\n",
       "      <td>0.0</td>\n",
       "      <td>light</td>\n",
       "      <td>556925197644088568</td>\n",
       "      <td>0.00</td>\n",
       "      <td>NaN</td>\n",
       "      <td>NaN</td>\n",
       "      <td>NaN</td>\n",
       "      <td>NaN</td>\n",
       "      <td>NaN</td>\n",
       "      <td>standard bill</td>\n",
       "      <td>gas and light</td>\n",
       "    </tr>\n",
       "    <tr>\n",
       "      <th>3</th>\n",
       "      <td>0.0</td>\n",
       "      <td>0.0</td>\n",
       "      <td>0.0</td>\n",
       "      <td>2020-10-03</td>\n",
       "      <td>2020-12-31</td>\n",
       "      <td>0.0</td>\n",
       "      <td>0.0</td>\n",
       "      <td>light</td>\n",
       "      <td>18446744073709551615</td>\n",
       "      <td>0.00</td>\n",
       "      <td>0.00</td>\n",
       "      <td>0.00</td>\n",
       "      <td>0.00</td>\n",
       "      <td>0.00</td>\n",
       "      <td>0.00</td>\n",
       "      <td>standard bill</td>\n",
       "      <td>gas</td>\n",
       "    </tr>\n",
       "    <tr>\n",
       "      <th>4</th>\n",
       "      <td>0.0</td>\n",
       "      <td>0.0</td>\n",
       "      <td>0.0</td>\n",
       "      <td>2020-12-16</td>\n",
       "      <td>2020-12-31</td>\n",
       "      <td>0.0</td>\n",
       "      <td>0.0</td>\n",
       "      <td>light</td>\n",
       "      <td>18446744073709551615</td>\n",
       "      <td>0.00</td>\n",
       "      <td>0.00</td>\n",
       "      <td>0.00</td>\n",
       "      <td>0.00</td>\n",
       "      <td>0.00</td>\n",
       "      <td>0.00</td>\n",
       "      <td>standard bill</td>\n",
       "      <td>gas</td>\n",
       "    </tr>\n",
       "  </tbody>\n",
       "</table>\n",
       "</div>"
      ],
      "text/plain": [
       "   F1_kWh  F2_kWh  F3_kWh light_start_date light_end_date  light_average_cost  \\\n",
       "0     0.0     0.0     0.0       2018-04-16     2019-11-25                 0.0   \n",
       "1    81.0    62.0    76.0       2020-12-05     2020-12-31                50.0   \n",
       "2     0.0     0.0     0.0       2020-12-05     2020-12-31                 NaN   \n",
       "3     0.0     0.0     0.0       2020-10-03     2020-12-31                 0.0   \n",
       "4     0.0     0.0     0.0       2020-12-16     2020-12-31                 0.0   \n",
       "\n",
       "   light_consumption   light_offer_type           light_offer  light_amount  \\\n",
       "0                0.0              light  18446744073709551615          0.00   \n",
       "1              219.0  light single zone    556925197644088568         47.22   \n",
       "2                0.0              light    556925197644088568          0.00   \n",
       "3                0.0              light  18446744073709551615          0.00   \n",
       "4                0.0              light  18446744073709551615          0.00   \n",
       "\n",
       "   average_unit_light_cost  average_light_bill_cost  light_system_charges  \\\n",
       "0                     0.00                     0.00                  0.00   \n",
       "1                     0.11                     0.22                  9.15   \n",
       "2                      NaN                      NaN                   NaN   \n",
       "3                     0.00                     0.00                  0.00   \n",
       "4                     0.00                     0.00                  0.00   \n",
       "\n",
       "   light_transport_cost  light_material_cost      bill_type    supply_type  \n",
       "0                  0.00                 0.00  standard bill            gas  \n",
       "1                  5.68                23.13  standard bill          light  \n",
       "2                   NaN                  NaN  standard bill  gas and light  \n",
       "3                  0.00                 0.00  standard bill            gas  \n",
       "4                  0.00                 0.00  standard bill            gas  "
      ]
     },
     "execution_count": 71,
     "metadata": {},
     "output_type": "execute_result"
    }
   ],
   "source": [
    "base[light_related].head()"
   ]
  },
  {
   "cell_type": "code",
   "execution_count": 18,
   "id": "ef6ba33c-d2cf-4c93-9838-d97870eec70b",
   "metadata": {},
   "outputs": [
    {
     "data": {
      "text/plain": [
       "10188166"
      ]
     },
     "execution_count": 18,
     "metadata": {},
     "output_type": "execute_result"
    }
   ],
   "source": [
    "(((base['light_amount'] / base['light_consumption']).round(decimals=2).fillna(0) - base['average_light_bill_cost']) == 0).sum().compute()"
   ]
  },
  {
   "cell_type": "markdown",
   "id": "b6e396a3-f067-455b-adf5-147a1b388273",
   "metadata": {
    "tags": []
   },
   "source": [
    "### Columns Date Related (and why they all have 7871 nan rows)"
   ]
  },
  {
   "cell_type": "code",
   "execution_count": 42,
   "id": "5575f363-b56c-4726-aed2-e116cad481b0",
   "metadata": {},
   "outputs": [
    {
     "data": {
      "text/plain": [
       "light_start_date    7871.0\n",
       "date                7871.0\n",
       "gas_end_date        7871.0\n",
       "light_end_date      7871.0\n",
       "emission_date          0.0\n",
       "gas_start_date      7871.0\n",
       "dtype: float64"
      ]
     },
     "execution_count": 42,
     "metadata": {},
     "output_type": "execute_result"
    }
   ],
   "source": [
    "base[base['date'].isna()][date_cols].isna().sum().compute()"
   ]
  },
  {
   "cell_type": "markdown",
   "id": "53628296-95e9-445c-a4f5-8b14ea7e41f3",
   "metadata": {},
   "source": [
    "Ok, all the date cols (except for emission_date) have the same 7871 rows with nan value, let's understand why"
   ]
  },
  {
   "cell_type": "code",
   "execution_count": 42,
   "id": "0de3b589-6e80-4b2a-91f4-7891ead1d9f9",
   "metadata": {},
   "outputs": [],
   "source": [
    "date_nan = base['date'].isna()"
   ]
  },
  {
   "cell_type": "code",
   "execution_count": 43,
   "id": "12b181a1-1b60-49a0-b2d9-64624487b9a2",
   "metadata": {},
   "outputs": [],
   "source": [
    "#cast this 7000 rows to a pd df to manage it easy\n",
    "nan_date_df = base[date_nan].compute()"
   ]
  },
  {
   "cell_type": "code",
   "execution_count": 44,
   "id": "2f0396c2-ba2f-46fe-abd8-62f7dc5839e0",
   "metadata": {},
   "outputs": [
    {
     "data": {
      "text/html": [
       "<div>\n",
       "<style scoped>\n",
       "    .dataframe tbody tr th:only-of-type {\n",
       "        vertical-align: middle;\n",
       "    }\n",
       "\n",
       "    .dataframe tbody tr th {\n",
       "        vertical-align: top;\n",
       "    }\n",
       "\n",
       "    .dataframe thead th {\n",
       "        text-align: right;\n",
       "    }\n",
       "</style>\n",
       "<table border=\"1\" class=\"dataframe\">\n",
       "  <thead>\n",
       "    <tr style=\"text-align: right;\">\n",
       "      <th></th>\n",
       "      <th>bill_id</th>\n",
       "      <th>F1_kWh</th>\n",
       "      <th>F2_kWh</th>\n",
       "      <th>F3_kWh</th>\n",
       "      <th>city</th>\n",
       "      <th>address</th>\n",
       "      <th>nominative</th>\n",
       "      <th>sex</th>\n",
       "      <th>age</th>\n",
       "      <th>user_code</th>\n",
       "      <th>...</th>\n",
       "      <th>customer_code</th>\n",
       "      <th>billing_frequency</th>\n",
       "      <th>bill_type</th>\n",
       "      <th>gas_system_charges</th>\n",
       "      <th>light_system_charges</th>\n",
       "      <th>gas_material_cost</th>\n",
       "      <th>light_transport_cost</th>\n",
       "      <th>gas_transport_cost</th>\n",
       "      <th>light_material_cost</th>\n",
       "      <th>b_freq</th>\n",
       "    </tr>\n",
       "  </thead>\n",
       "  <tbody>\n",
       "    <tr>\n",
       "      <th>523590</th>\n",
       "      <td>56524</td>\n",
       "      <td>0.0</td>\n",
       "      <td>0.0</td>\n",
       "      <td>0.0</td>\n",
       "      <td>BURGIO</td>\n",
       "      <td>5F1A30B38302A33633C731DDFC609641E6F59DA9</td>\n",
       "      <td>6F53D18B189E263B9E93810B7B9301C56C9D1435</td>\n",
       "      <td>P</td>\n",
       "      <td>0</td>\n",
       "      <td>3932513B4CE1D99D4239FB3113F0D5EC40EC47E4</td>\n",
       "      <td>...</td>\n",
       "      <td>FEC0C212C7945BAA08F8415E16DABC7C214F2309</td>\n",
       "      <td>None</td>\n",
       "      <td>change note correction</td>\n",
       "      <td>0.0</td>\n",
       "      <td>NaN</td>\n",
       "      <td>0.0</td>\n",
       "      <td>NaN</td>\n",
       "      <td>0.0</td>\n",
       "      <td>NaN</td>\n",
       "      <td>NaN</td>\n",
       "    </tr>\n",
       "    <tr>\n",
       "      <th>523591</th>\n",
       "      <td>56525</td>\n",
       "      <td>0.0</td>\n",
       "      <td>0.0</td>\n",
       "      <td>0.0</td>\n",
       "      <td>MARTINENGO</td>\n",
       "      <td>0C13BE518BAC841745387B638D31E05289E6DAF1</td>\n",
       "      <td>46F9B4FAF41BDE032C19CD8DAA31582C41F923AF</td>\n",
       "      <td>P</td>\n",
       "      <td>0</td>\n",
       "      <td>12CC77CD674686CFFF330B5693BA5B548BC0FF79</td>\n",
       "      <td>...</td>\n",
       "      <td>67FD5B96E2A1C249C60551ECAF195D4DA81015C1</td>\n",
       "      <td>None</td>\n",
       "      <td>change note correction</td>\n",
       "      <td>0.0</td>\n",
       "      <td>NaN</td>\n",
       "      <td>0.0</td>\n",
       "      <td>NaN</td>\n",
       "      <td>0.0</td>\n",
       "      <td>NaN</td>\n",
       "      <td>NaN</td>\n",
       "    </tr>\n",
       "    <tr>\n",
       "      <th>523592</th>\n",
       "      <td>56526</td>\n",
       "      <td>0.0</td>\n",
       "      <td>0.0</td>\n",
       "      <td>0.0</td>\n",
       "      <td>MERETO DI TOMBA</td>\n",
       "      <td>D46070FB7739DEAB733236532A1B77C5FFBED776</td>\n",
       "      <td>F1D07F2649DAC7C9A05AEF4D828727185151B56E</td>\n",
       "      <td>M</td>\n",
       "      <td>68</td>\n",
       "      <td>5D069C96D2B7B8A706E311AE654883BE6BB5A035</td>\n",
       "      <td>...</td>\n",
       "      <td>3FEE748837B16AE5E051ED3B57CFFC3F938B2BFA</td>\n",
       "      <td>None</td>\n",
       "      <td>change note correction</td>\n",
       "      <td>0.0</td>\n",
       "      <td>NaN</td>\n",
       "      <td>0.0</td>\n",
       "      <td>NaN</td>\n",
       "      <td>0.0</td>\n",
       "      <td>NaN</td>\n",
       "      <td>NaN</td>\n",
       "    </tr>\n",
       "    <tr>\n",
       "      <th>523627</th>\n",
       "      <td>56561</td>\n",
       "      <td>0.0</td>\n",
       "      <td>0.0</td>\n",
       "      <td>0.0</td>\n",
       "      <td>QUARTO D'ALTINO</td>\n",
       "      <td>CACC5213AB0EBAB78DF9EE71C5FCB7ED892EBEA9</td>\n",
       "      <td>B90DFC10C50E4A0C5E245B517C95A009B2655539</td>\n",
       "      <td>M</td>\n",
       "      <td>39</td>\n",
       "      <td>B4BB54D86961F66B4DCC39A10F2686263D9F6DD6</td>\n",
       "      <td>...</td>\n",
       "      <td>6AE0830E832037C6CE9F29975920AAA0A1138973</td>\n",
       "      <td>None</td>\n",
       "      <td>change note correction</td>\n",
       "      <td>NaN</td>\n",
       "      <td>NaN</td>\n",
       "      <td>NaN</td>\n",
       "      <td>NaN</td>\n",
       "      <td>NaN</td>\n",
       "      <td>NaN</td>\n",
       "      <td>NaN</td>\n",
       "    </tr>\n",
       "    <tr>\n",
       "      <th>523628</th>\n",
       "      <td>56562</td>\n",
       "      <td>0.0</td>\n",
       "      <td>0.0</td>\n",
       "      <td>0.0</td>\n",
       "      <td>SALUGGIA</td>\n",
       "      <td>165098219B67AE5A29787AE4044986F5D31F62D3</td>\n",
       "      <td>57421702CDEF40C240F235898D2F19BDA0189A81</td>\n",
       "      <td>M</td>\n",
       "      <td>45</td>\n",
       "      <td>7FEFE19B037C2F94B1EF6CA25B20CA221EE657A8</td>\n",
       "      <td>...</td>\n",
       "      <td>E9BEA9079DE4CB021BD24F1144CD4AB2C264CEC2</td>\n",
       "      <td>None</td>\n",
       "      <td>change note correction</td>\n",
       "      <td>NaN</td>\n",
       "      <td>0.0</td>\n",
       "      <td>NaN</td>\n",
       "      <td>0.0</td>\n",
       "      <td>NaN</td>\n",
       "      <td>0.0</td>\n",
       "      <td>NaN</td>\n",
       "    </tr>\n",
       "    <tr>\n",
       "      <th>...</th>\n",
       "      <td>...</td>\n",
       "      <td>...</td>\n",
       "      <td>...</td>\n",
       "      <td>...</td>\n",
       "      <td>...</td>\n",
       "      <td>...</td>\n",
       "      <td>...</td>\n",
       "      <td>...</td>\n",
       "      <td>...</td>\n",
       "      <td>...</td>\n",
       "      <td>...</td>\n",
       "      <td>...</td>\n",
       "      <td>...</td>\n",
       "      <td>...</td>\n",
       "      <td>...</td>\n",
       "      <td>...</td>\n",
       "      <td>...</td>\n",
       "      <td>...</td>\n",
       "      <td>...</td>\n",
       "      <td>...</td>\n",
       "      <td>...</td>\n",
       "    </tr>\n",
       "    <tr>\n",
       "      <th>460320</th>\n",
       "      <td>2430691</td>\n",
       "      <td>0.0</td>\n",
       "      <td>0.0</td>\n",
       "      <td>0.0</td>\n",
       "      <td>GRASSOBBIO</td>\n",
       "      <td>CDFBED1AC8F82EF2B162AF7A1491422C8456D16C</td>\n",
       "      <td>1E57CBCE56DC0DBCAB7249D5662A260746DCAB3F</td>\n",
       "      <td>M</td>\n",
       "      <td>40</td>\n",
       "      <td>811468C27F9455C1BF0DD7A17BFA50D6E5AD6C5B</td>\n",
       "      <td>...</td>\n",
       "      <td>AB38D0A23AF21925220BDC123CCFB80FB0CEA332</td>\n",
       "      <td>None</td>\n",
       "      <td>change note correction</td>\n",
       "      <td>NaN</td>\n",
       "      <td>0.0</td>\n",
       "      <td>NaN</td>\n",
       "      <td>0.0</td>\n",
       "      <td>NaN</td>\n",
       "      <td>0.0</td>\n",
       "      <td>NaN</td>\n",
       "    </tr>\n",
       "    <tr>\n",
       "      <th>460321</th>\n",
       "      <td>2430692</td>\n",
       "      <td>0.0</td>\n",
       "      <td>0.0</td>\n",
       "      <td>0.0</td>\n",
       "      <td>RIPACANDIDA</td>\n",
       "      <td>CF1053501F35FDAC3351E417E90647F27B541D0D</td>\n",
       "      <td>DE0EFE5F4EA7FA6DEC75DB497421E71C3D0B8E7E</td>\n",
       "      <td>P</td>\n",
       "      <td>0</td>\n",
       "      <td>4B07839655706FC46F4E6AA29A59E160D77283A4</td>\n",
       "      <td>...</td>\n",
       "      <td>154A81BAF109C1BD281C02AFFC1DA4217824E84D</td>\n",
       "      <td>None</td>\n",
       "      <td>change note correction</td>\n",
       "      <td>NaN</td>\n",
       "      <td>0.0</td>\n",
       "      <td>NaN</td>\n",
       "      <td>0.0</td>\n",
       "      <td>NaN</td>\n",
       "      <td>0.0</td>\n",
       "      <td>NaN</td>\n",
       "    </tr>\n",
       "    <tr>\n",
       "      <th>460322</th>\n",
       "      <td>2430693</td>\n",
       "      <td>0.0</td>\n",
       "      <td>0.0</td>\n",
       "      <td>0.0</td>\n",
       "      <td>TRENTO</td>\n",
       "      <td>D3363BF8F62F5E3CC48F807DF1AF9C03908FA4DE</td>\n",
       "      <td>A23970B80929DAC8752568B99C194D5F73F79CF1</td>\n",
       "      <td>F</td>\n",
       "      <td>40</td>\n",
       "      <td>70C1C5E8EC70C9FA872F580BAD457384FFC17E02</td>\n",
       "      <td>...</td>\n",
       "      <td>FF5E418FE6FC1C036C91581529D97DE927425057</td>\n",
       "      <td>None</td>\n",
       "      <td>change note correction</td>\n",
       "      <td>NaN</td>\n",
       "      <td>0.0</td>\n",
       "      <td>NaN</td>\n",
       "      <td>0.0</td>\n",
       "      <td>NaN</td>\n",
       "      <td>0.0</td>\n",
       "      <td>NaN</td>\n",
       "    </tr>\n",
       "    <tr>\n",
       "      <th>460323</th>\n",
       "      <td>2430694</td>\n",
       "      <td>0.0</td>\n",
       "      <td>0.0</td>\n",
       "      <td>0.0</td>\n",
       "      <td>LUINO</td>\n",
       "      <td>60220336B8F7988720EA9E23EA9A359FAD8387C2</td>\n",
       "      <td>9209274FB527D6B7D10FE127704AC5FB1187E46C</td>\n",
       "      <td>F</td>\n",
       "      <td>64</td>\n",
       "      <td>661EA787A5F4896D65D58016892CB6991C890D1D</td>\n",
       "      <td>...</td>\n",
       "      <td>588A6B69D06C1125E8ABE9DD4374666E73CD7019</td>\n",
       "      <td>None</td>\n",
       "      <td>change note correction</td>\n",
       "      <td>NaN</td>\n",
       "      <td>0.0</td>\n",
       "      <td>NaN</td>\n",
       "      <td>0.0</td>\n",
       "      <td>NaN</td>\n",
       "      <td>0.0</td>\n",
       "      <td>NaN</td>\n",
       "    </tr>\n",
       "    <tr>\n",
       "      <th>460324</th>\n",
       "      <td>2430695</td>\n",
       "      <td>0.0</td>\n",
       "      <td>0.0</td>\n",
       "      <td>0.0</td>\n",
       "      <td>SOLARUSSA</td>\n",
       "      <td>46F5F28A65D2A29F7E899D551F113229BE207DA4</td>\n",
       "      <td>472A61971F86D2BD840C0D47BCEA5939954C3017</td>\n",
       "      <td>F</td>\n",
       "      <td>35</td>\n",
       "      <td>718642E23DB0747EBB480FA43EDF42AFD75AEF34</td>\n",
       "      <td>...</td>\n",
       "      <td>1929221F27D3D608A8FF0BF558C740446CCAB723</td>\n",
       "      <td>None</td>\n",
       "      <td>change note correction</td>\n",
       "      <td>NaN</td>\n",
       "      <td>0.0</td>\n",
       "      <td>NaN</td>\n",
       "      <td>0.0</td>\n",
       "      <td>NaN</td>\n",
       "      <td>0.0</td>\n",
       "      <td>NaN</td>\n",
       "    </tr>\n",
       "  </tbody>\n",
       "</table>\n",
       "<p>7871 rows × 44 columns</p>\n",
       "</div>"
      ],
      "text/plain": [
       "        bill_id  F1_kWh  F2_kWh  F3_kWh             city  \\\n",
       "523590    56524     0.0     0.0     0.0           BURGIO   \n",
       "523591    56525     0.0     0.0     0.0       MARTINENGO   \n",
       "523592    56526     0.0     0.0     0.0  MERETO DI TOMBA   \n",
       "523627    56561     0.0     0.0     0.0  QUARTO D'ALTINO   \n",
       "523628    56562     0.0     0.0     0.0         SALUGGIA   \n",
       "...         ...     ...     ...     ...              ...   \n",
       "460320  2430691     0.0     0.0     0.0       GRASSOBBIO   \n",
       "460321  2430692     0.0     0.0     0.0      RIPACANDIDA   \n",
       "460322  2430693     0.0     0.0     0.0           TRENTO   \n",
       "460323  2430694     0.0     0.0     0.0            LUINO   \n",
       "460324  2430695     0.0     0.0     0.0        SOLARUSSA   \n",
       "\n",
       "                                         address  \\\n",
       "523590  5F1A30B38302A33633C731DDFC609641E6F59DA9   \n",
       "523591  0C13BE518BAC841745387B638D31E05289E6DAF1   \n",
       "523592  D46070FB7739DEAB733236532A1B77C5FFBED776   \n",
       "523627  CACC5213AB0EBAB78DF9EE71C5FCB7ED892EBEA9   \n",
       "523628  165098219B67AE5A29787AE4044986F5D31F62D3   \n",
       "...                                          ...   \n",
       "460320  CDFBED1AC8F82EF2B162AF7A1491422C8456D16C   \n",
       "460321  CF1053501F35FDAC3351E417E90647F27B541D0D   \n",
       "460322  D3363BF8F62F5E3CC48F807DF1AF9C03908FA4DE   \n",
       "460323  60220336B8F7988720EA9E23EA9A359FAD8387C2   \n",
       "460324  46F5F28A65D2A29F7E899D551F113229BE207DA4   \n",
       "\n",
       "                                      nominative sex  age  \\\n",
       "523590  6F53D18B189E263B9E93810B7B9301C56C9D1435   P    0   \n",
       "523591  46F9B4FAF41BDE032C19CD8DAA31582C41F923AF   P    0   \n",
       "523592  F1D07F2649DAC7C9A05AEF4D828727185151B56E   M   68   \n",
       "523627  B90DFC10C50E4A0C5E245B517C95A009B2655539   M   39   \n",
       "523628  57421702CDEF40C240F235898D2F19BDA0189A81   M   45   \n",
       "...                                          ...  ..  ...   \n",
       "460320  1E57CBCE56DC0DBCAB7249D5662A260746DCAB3F   M   40   \n",
       "460321  DE0EFE5F4EA7FA6DEC75DB497421E71C3D0B8E7E   P    0   \n",
       "460322  A23970B80929DAC8752568B99C194D5F73F79CF1   F   40   \n",
       "460323  9209274FB527D6B7D10FE127704AC5FB1187E46C   F   64   \n",
       "460324  472A61971F86D2BD840C0D47BCEA5939954C3017   F   35   \n",
       "\n",
       "                                       user_code  ...  \\\n",
       "523590  3932513B4CE1D99D4239FB3113F0D5EC40EC47E4  ...   \n",
       "523591  12CC77CD674686CFFF330B5693BA5B548BC0FF79  ...   \n",
       "523592  5D069C96D2B7B8A706E311AE654883BE6BB5A035  ...   \n",
       "523627  B4BB54D86961F66B4DCC39A10F2686263D9F6DD6  ...   \n",
       "523628  7FEFE19B037C2F94B1EF6CA25B20CA221EE657A8  ...   \n",
       "...                                          ...  ...   \n",
       "460320  811468C27F9455C1BF0DD7A17BFA50D6E5AD6C5B  ...   \n",
       "460321  4B07839655706FC46F4E6AA29A59E160D77283A4  ...   \n",
       "460322  70C1C5E8EC70C9FA872F580BAD457384FFC17E02  ...   \n",
       "460323  661EA787A5F4896D65D58016892CB6991C890D1D  ...   \n",
       "460324  718642E23DB0747EBB480FA43EDF42AFD75AEF34  ...   \n",
       "\n",
       "                                   customer_code billing_frequency  \\\n",
       "523590  FEC0C212C7945BAA08F8415E16DABC7C214F2309              None   \n",
       "523591  67FD5B96E2A1C249C60551ECAF195D4DA81015C1              None   \n",
       "523592  3FEE748837B16AE5E051ED3B57CFFC3F938B2BFA              None   \n",
       "523627  6AE0830E832037C6CE9F29975920AAA0A1138973              None   \n",
       "523628  E9BEA9079DE4CB021BD24F1144CD4AB2C264CEC2              None   \n",
       "...                                          ...               ...   \n",
       "460320  AB38D0A23AF21925220BDC123CCFB80FB0CEA332              None   \n",
       "460321  154A81BAF109C1BD281C02AFFC1DA4217824E84D              None   \n",
       "460322  FF5E418FE6FC1C036C91581529D97DE927425057              None   \n",
       "460323  588A6B69D06C1125E8ABE9DD4374666E73CD7019              None   \n",
       "460324  1929221F27D3D608A8FF0BF558C740446CCAB723              None   \n",
       "\n",
       "                     bill_type  gas_system_charges  light_system_charges  \\\n",
       "523590  change note correction                 0.0                   NaN   \n",
       "523591  change note correction                 0.0                   NaN   \n",
       "523592  change note correction                 0.0                   NaN   \n",
       "523627  change note correction                 NaN                   NaN   \n",
       "523628  change note correction                 NaN                   0.0   \n",
       "...                        ...                 ...                   ...   \n",
       "460320  change note correction                 NaN                   0.0   \n",
       "460321  change note correction                 NaN                   0.0   \n",
       "460322  change note correction                 NaN                   0.0   \n",
       "460323  change note correction                 NaN                   0.0   \n",
       "460324  change note correction                 NaN                   0.0   \n",
       "\n",
       "        gas_material_cost  light_transport_cost gas_transport_cost  \\\n",
       "523590                0.0                   NaN                0.0   \n",
       "523591                0.0                   NaN                0.0   \n",
       "523592                0.0                   NaN                0.0   \n",
       "523627                NaN                   NaN                NaN   \n",
       "523628                NaN                   0.0                NaN   \n",
       "...                   ...                   ...                ...   \n",
       "460320                NaN                   0.0                NaN   \n",
       "460321                NaN                   0.0                NaN   \n",
       "460322                NaN                   0.0                NaN   \n",
       "460323                NaN                   0.0                NaN   \n",
       "460324                NaN                   0.0                NaN   \n",
       "\n",
       "       light_material_cost b_freq  \n",
       "523590                 NaN    NaN  \n",
       "523591                 NaN    NaN  \n",
       "523592                 NaN    NaN  \n",
       "523627                 NaN    NaN  \n",
       "523628                 0.0    NaN  \n",
       "...                    ...    ...  \n",
       "460320                 0.0    NaN  \n",
       "460321                 0.0    NaN  \n",
       "460322                 0.0    NaN  \n",
       "460323                 0.0    NaN  \n",
       "460324                 0.0    NaN  \n",
       "\n",
       "[7871 rows x 44 columns]"
      ]
     },
     "execution_count": 44,
     "metadata": {},
     "output_type": "execute_result"
    }
   ],
   "source": [
    "nan_date_df "
   ]
  },
  {
   "cell_type": "code",
   "execution_count": 45,
   "id": "43e9ac83-e812-4d6f-b390-838410c9499f",
   "metadata": {},
   "outputs": [
    {
     "data": {
      "text/plain": [
       "change note correction    7871\n",
       "Name: bill_type, dtype: int64"
      ]
     },
     "execution_count": 45,
     "metadata": {},
     "output_type": "execute_result"
    }
   ],
   "source": [
    "nan_date_df['bill_type'].value_counts()"
   ]
  },
  {
   "cell_type": "code",
   "execution_count": 46,
   "id": "b58ed667-2f74-478e-a5f5-4c6826639ae1",
   "metadata": {},
   "outputs": [
    {
     "data": {
      "text/plain": [
       "gas              5068\n",
       "light            1661\n",
       "gas and light    1142\n",
       "Name: supply_type, dtype: int64"
      ]
     },
     "execution_count": 46,
     "metadata": {},
     "output_type": "execute_result"
    }
   ],
   "source": [
    "nan_date_df['supply_type'].value_counts()"
   ]
  },
  {
   "cell_type": "code",
   "execution_count": 19,
   "id": "dfc33fe4-bd85-4296-bcbc-bba33a78a554",
   "metadata": {},
   "outputs": [
    {
     "data": {
      "text/plain": [
       "83"
      ]
     },
     "execution_count": 19,
     "metadata": {},
     "output_type": "execute_result"
    }
   ],
   "source": [
    "base['emission_date'].value_counts().shape[0].compute()"
   ]
  },
  {
   "cell_type": "markdown",
   "id": "3e969aaf-bdc8-405c-a53d-6b8f3008cb8d",
   "metadata": {},
   "source": [
    "### Age Analysis"
   ]
  },
  {
   "cell_type": "code",
   "execution_count": 77,
   "id": "8fb78752-d15b-43b3-93c8-b4f2c5917527",
   "metadata": {},
   "outputs": [
    {
     "data": {
      "text/plain": [
       "0      (76.7, 81.0]\n",
       "1    (37.957, 42.3]\n",
       "2      (50.9, 55.2]\n",
       "3      (46.6, 50.9]\n",
       "4      (63.8, 68.1]\n",
       "Name: age, dtype: category\n",
       "Categories (10, interval[float64, right]): [(37.957, 42.3] < (42.3, 46.6] < (46.6, 50.9] < (50.9, 55.2] ... (63.8, 68.1] < (68.1, 72.4] < (72.4, 76.7] < (76.7, 81.0]]"
      ]
     },
     "execution_count": 77,
     "metadata": {},
     "output_type": "execute_result"
    }
   ],
   "source": [
    "out = pd.cut(x=base['age'].head(), bins=10)\n",
    "out"
   ]
  },
  {
   "cell_type": "markdown",
   "id": "826b1c57-24c5-4f8e-8b70-fe22cc89e0cf",
   "metadata": {
    "jp-MarkdownHeadingCollapsed": true,
    "tags": []
   },
   "source": [
    "### All the record with city == VIETRI DI POTENZA have address and nominative null and all the addresses and nominative null values are the VIETRI DI POTENZA records"
   ]
  },
  {
   "cell_type": "code",
   "execution_count": null,
   "id": "e3b04cdb-389d-4842-bc55-fab3798f72d1",
   "metadata": {},
   "outputs": [],
   "source": [
    "#esempio\n",
    "base.locate_null_values('address').shape[0].compute()"
   ]
  },
  {
   "cell_type": "code",
   "execution_count": null,
   "id": "55e889aa-12ca-4fa6-a14b-1b51d8131d2f",
   "metadata": {},
   "outputs": [],
   "source": [
    "base[base['city'] == 'VIETRI DI POTENZA'].shape[0].compute()"
   ]
  },
  {
   "cell_type": "code",
   "execution_count": null,
   "id": "6e2a4dd4-e332-4014-a71c-0c50273e673c",
   "metadata": {},
   "outputs": [],
   "source": [
    "base[base['nominative'].isna()].shape[0].compute()"
   ]
  },
  {
   "cell_type": "markdown",
   "id": "09aadf3c-6aec-4127-bcfb-5f36588a762d",
   "metadata": {
    "jp-MarkdownHeadingCollapsed": true,
    "tags": []
   },
   "source": [
    "## Locate Missing Values DA PORTARE"
   ]
  },
  {
   "cell_type": "code",
   "execution_count": 47,
   "id": "de516688-8f8d-402b-ad9e-cb27fc1859d0",
   "metadata": {},
   "outputs": [
    {
     "data": {
      "text/plain": [
       "{'bill_id': 0,\n",
       " 'F1_kWh': 166,\n",
       " 'F2_kWh': 92,\n",
       " 'F3_kWh': 689,\n",
       " 'city': 15,\n",
       " 'address': 2760,\n",
       " 'nominative': 2760,\n",
       " 'sex': 0,\n",
       " 'age': 0,\n",
       " 'user_code': 0,\n",
       " 'date': 7871,\n",
       " 'light_start_date': 7871,\n",
       " 'light_end_date': 7871,\n",
       " 'tv': 0,\n",
       " 'gas_amount': 2244,\n",
       " 'gas_average_cost': 602976,\n",
       " 'light_average_cost': 281175,\n",
       " 'emission_date': 0,\n",
       " 'supply_type': 0,\n",
       " 'gas_end_date': 7871,\n",
       " 'gas_start_date': 7871,\n",
       " 'extra_fees': 0,\n",
       " 'gas_consumption': 2243,\n",
       " 'light_consumption': 0,\n",
       " 'gas_offer': 0,\n",
       " 'light_offer_type': 0,\n",
       " 'light_offer': 0,\n",
       " 'howmuch_pay': 0,\n",
       " 'total_amount': 0,\n",
       " 'light_amount': 516,\n",
       " 'average_unit_light_cost': 281126,\n",
       " 'average_light_bill_cost': 280831,\n",
       " 'average_unit_gas_cost': 602976,\n",
       " 'average_gas_bill_cost': 601270,\n",
       " 'customer_code': 0,\n",
       " 'billing_frequency': 784810,\n",
       " 'bill_type': 0,\n",
       " 'gas_system_charges': 77977,\n",
       " 'light_system_charges': 55353,\n",
       " 'gas_material_cost': 70652,\n",
       " 'light_transport_cost': 54526,\n",
       " 'gas_transport_cost': 77265,\n",
       " 'light_material_cost': 54533,\n",
       " 'b_freq': 784810}"
      ]
     },
     "execution_count": 47,
     "metadata": {},
     "output_type": "execute_result"
    }
   ],
   "source": [
    "# LOCATE MISSING VALUES\n",
    "#rows = df.shape[0]\n",
    "#wait(ddf.shape[0])\n",
    "#print(\"Total rows\", rows)\n",
    "import json\n",
    "\n",
    "# These are the colums with at least one missing value\n",
    "column_count_nan = {}\n",
    "# compute the presence of null value on time instead every iteration for performance reasons\n",
    "na = base.get_df().isna()\n",
    "\n",
    "res = na.sum().compute()\n",
    "column_count_nan = json.loads(res.to_json())\n",
    "column_count_nan"
   ]
  },
  {
   "cell_type": "code",
   "execution_count": null,
   "id": "8da90f6e-7570-41ad-a553-32ec61cd94ac",
   "metadata": {},
   "outputs": [],
   "source": [
    "# import json\n",
    "\n",
    "# class NpEncoder(json.JSONEncoder):\n",
    "#     def default(self, obj):\n",
    "#         if isinstance(obj, np.integer):\n",
    "#             return int(obj)\n",
    "#         if isinstance(obj, np.floating):\n",
    "#             return float(obj)\n",
    "#         if isinstance(obj, np.ndarray):\n",
    "#             return obj.tolist()\n",
    "#         return super(NpEncoder, self).default(obj)\n",
    "    \n",
    "# with open('data/initial_null_val.json', 'w+') as f:\n",
    "#     # this would place the entire output on one line\n",
    "#     # use json.dump(lista_items, f, indent=4) to \"pretty-print\" with four spaces per indent\n",
    "#     json.dump(column_count_nan, f, cls=NpEncoder, indent=2)"
   ]
  },
  {
   "cell_type": "code",
   "execution_count": 48,
   "id": "58993c47-28c8-4740-878d-fc98c8cf9976",
   "metadata": {},
   "outputs": [
    {
     "data": {
      "text/plain": [
       "{'bill_id': 0,\n",
       " 'F1_kWh': 166,\n",
       " 'F2_kWh': 92,\n",
       " 'F3_kWh': 689,\n",
       " 'city': 15,\n",
       " 'address': 2760,\n",
       " 'nominative': 2760,\n",
       " 'sex': 0,\n",
       " 'age': 0,\n",
       " 'user_code': 0,\n",
       " 'date': 7871,\n",
       " 'light_start_date': 7871,\n",
       " 'light_end_date': 7871,\n",
       " 'tv': 0,\n",
       " 'gas_amount': 3686754,\n",
       " 'gas_average_cost': 4287486,\n",
       " 'light_average_cost': 5967463,\n",
       " 'emission_date': 0,\n",
       " 'supply_type': 0,\n",
       " 'gas_start_date': 7871,\n",
       " 'gas_end_date': 7871,\n",
       " 'extra_fees': 0,\n",
       " 'gas_consumption': 3686753,\n",
       " 'light_consumption': 5686817,\n",
       " 'gas_offer': 0,\n",
       " 'light_offer_type': 0,\n",
       " 'light_offer': 0,\n",
       " 'howmuch_pay': 0,\n",
       " 'total_amount': 0,\n",
       " 'light_amount': 5686804,\n",
       " 'average_unit_light_cost': 5967414,\n",
       " 'average_light_bill_cost': 5967119,\n",
       " 'average_unit_gas_cost': 4287486,\n",
       " 'average_gas_bill_cost': 4285780,\n",
       " 'customer_code': 0,\n",
       " 'billing_frequency': 784810,\n",
       " 'bill_type': 0,\n",
       " 'gas_system_charges': 3762487,\n",
       " 'light_system_charges': 5741641,\n",
       " 'gas_material_cost': 3755162,\n",
       " 'light_transport_cost': 5740814,\n",
       " 'gas_transport_cost': 3761775,\n",
       " 'light_material_cost': 5740821}"
      ]
     },
     "execution_count": 48,
     "metadata": {},
     "output_type": "execute_result"
    }
   ],
   "source": [
    "with open('data/initial_null_val.json', \"r\") as read_file:\n",
    "    initial_column_count_nan = json.load(read_file)\n",
    "initial_column_count_nan"
   ]
  },
  {
   "cell_type": "markdown",
   "id": "a094020d-1736-4720-960e-07bebb595787",
   "metadata": {},
   "source": [
    "Differences between null value pre and post preprocessing"
   ]
  },
  {
   "cell_type": "code",
   "execution_count": 49,
   "id": "2b3852a7-89ab-429f-90fa-471702578c55",
   "metadata": {},
   "outputs": [
    {
     "data": {
      "text/plain": [
       "{'bill_id': 0,\n",
       " 'F1_kWh': 0,\n",
       " 'F2_kWh': 0,\n",
       " 'F3_kWh': 0,\n",
       " 'city': 0,\n",
       " 'address': 0,\n",
       " 'nominative': 0,\n",
       " 'sex': 0,\n",
       " 'age': 0,\n",
       " 'user_code': 0,\n",
       " 'date': 0,\n",
       " 'light_start_date': 0,\n",
       " 'light_end_date': 0,\n",
       " 'tv': 0,\n",
       " 'gas_amount': 3684510,\n",
       " 'gas_average_cost': 3684510,\n",
       " 'light_average_cost': 5686288,\n",
       " 'emission_date': 0,\n",
       " 'supply_type': 0,\n",
       " 'gas_end_date': 0,\n",
       " 'gas_start_date': 0,\n",
       " 'extra_fees': 0,\n",
       " 'gas_consumption': 3684510,\n",
       " 'light_consumption': 5686817,\n",
       " 'gas_offer': 0,\n",
       " 'light_offer_type': 0,\n",
       " 'light_offer': 0,\n",
       " 'howmuch_pay': 0,\n",
       " 'total_amount': 0,\n",
       " 'light_amount': 5686288,\n",
       " 'average_unit_light_cost': 5686288,\n",
       " 'average_light_bill_cost': 5686288,\n",
       " 'average_unit_gas_cost': 3684510,\n",
       " 'average_gas_bill_cost': 3684510,\n",
       " 'customer_code': 0,\n",
       " 'billing_frequency': 0,\n",
       " 'bill_type': 0,\n",
       " 'gas_system_charges': 3684510,\n",
       " 'light_system_charges': 5686288,\n",
       " 'gas_material_cost': 3684510,\n",
       " 'light_transport_cost': 5686288,\n",
       " 'gas_transport_cost': 3684510,\n",
       " 'light_material_cost': 5686288}"
      ]
     },
     "execution_count": 49,
     "metadata": {},
     "output_type": "execute_result"
    }
   ],
   "source": [
    "{k: initial_column_count_nan[k] - v for k,v in column_count_nan.items() if k in initial_column_count_nan}"
   ]
  },
  {
   "cell_type": "code",
   "execution_count": null,
   "id": "41622e6f-2595-47a0-b7ee-1d22e1dfd8a1",
   "metadata": {},
   "outputs": [],
   "source": [
    "column_with_nan = []\n",
    "\n",
    "perc = 80\n",
    "soglia = ((perc * base.get_df().shape[0]) / 100).compute()\n",
    "print(f'soglia {soglia}')\n",
    "\n",
    "for c, val in column_count_nan.items():\n",
    "    #print(f'{c}')\n",
    "    if val > soglia:\n",
    "        print(f'{c} val: {val}')\n",
    "        column_with_nan.append(c)\n",
    "        \n",
    "column_with_nan\n",
    "\n",
    "# Si può notare come nessuna colonna abbia il 100% di valori nulli, ma ci sono altresì tante \n",
    "# colonne con un numero elevato di nan. Poche colonne hanno un numero basso di nan."
   ]
  },
  {
   "cell_type": "markdown",
   "id": "280804b2-6062-4fad-8c7f-64355954b08d",
   "metadata": {
    "tags": []
   },
   "source": [
    "### Analisi extra (utile estenderla all'intero dataset)"
   ]
  },
  {
   "cell_type": "code",
   "execution_count": null,
   "id": "61f836cf-4621-4a55-a5f5-69c273b63c80",
   "metadata": {},
   "outputs": [],
   "source": [
    "#Visto che address e nominative hanno lo stesso numero di NA, vale la \n",
    "#pena controllare ed eventualmente eliminare le righe?\n",
    "\n",
    "base.locate_null_values('nominative').shape[0].compute()"
   ]
  },
  {
   "cell_type": "code",
   "execution_count": null,
   "id": "5404dc83-eee9-43c9-b64a-6721f66c5708",
   "metadata": {},
   "outputs": [],
   "source": [
    "base.locate_null_values('address').shape[0].compute()"
   ]
  },
  {
   "cell_type": "code",
   "execution_count": null,
   "id": "c6ca4aad-a7c8-465e-b77f-5f8494597d92",
   "metadata": {},
   "outputs": [],
   "source": [
    "df[df['city'] == 'VIETRI DI POTENZA'].shape[0].compute()"
   ]
  },
  {
   "cell_type": "markdown",
   "id": "4bdb18dd-62e1-4dca-add0-44cd05c1e3be",
   "metadata": {},
   "source": [
    "Not all the user code are repeated, but even in the repeated we can't be sure if the 2 records correspond, this because the real name are hased and possible collission can exists"
   ]
  },
  {
   "cell_type": "code",
   "execution_count": null,
   "id": "9e1a53be-631f-497c-ac2a-4ee8ff70be2d",
   "metadata": {},
   "outputs": [],
   "source": [
    "df['user_code'].value_counts().shape[0].compute()"
   ]
  },
  {
   "cell_type": "code",
   "execution_count": null,
   "id": "64d97f41-b929-4171-baac-4bc3a0169a37",
   "metadata": {},
   "outputs": [],
   "source": [
    "# PROVO A VEDERE SE SONO PRESENTI ALTRI RECORDS DEGLI UTENTI A CUI MANCANO NOMINATIVE E ADDRESS\n",
    "v = df['user_code'].value_counts()\n",
    "v[v.gt(1)].index.compute()"
   ]
  },
  {
   "cell_type": "code",
   "execution_count": null,
   "id": "faab2772-0fc0-4854-873a-f7be61938ea0",
   "metadata": {},
   "outputs": [],
   "source": [
    "# DATASET CON GLI user_code CHE COMPAIONO PIù DI UNA VOLTA\n",
    "df[df['user_code'].isin(v[v.gt(1)].index.compute())].compute()"
   ]
  },
  {
   "cell_type": "code",
   "execution_count": null,
   "id": "78bba50c-c2df-4578-9cb8-a8fd80fbbd7b",
   "metadata": {},
   "outputs": [],
   "source": [
    "# Le date potrebbero fornirci informazioni sulla billing_frequency, o viceversa, come lo stabiliamo?\n",
    "# Cosa indica la colonna dell'emission_date??\n",
    "\n",
    "#NOTA PER DASK, SE FACCIAMO 0 CI TORNA IL PRIMO RECORD DI TUTTE LE 52 PARTIZIONI\n",
    "df.loc[0, 'billing_frequency'].compute()"
   ]
  },
  {
   "cell_type": "markdown",
   "id": "53bc7dbd-3732-434a-920a-d172c14d3f91",
   "metadata": {
    "jp-MarkdownHeadingCollapsed": true,
    "tags": []
   },
   "source": [
    "## Locate Outliers DA PORTARE "
   ]
  },
  {
   "cell_type": "code",
   "execution_count": null,
   "id": "edf3f731-b386-4fa2-ae8b-075698420887",
   "metadata": {},
   "outputs": [],
   "source": [
    "base['F1_kWh'].quantile(0.1).compute()"
   ]
  },
  {
   "cell_type": "code",
   "execution_count": null,
   "id": "4daa506e-4ba2-40d2-bb22-36075cc3e232",
   "metadata": {},
   "outputs": [],
   "source": [
    "#CERTE COLONNE CON IL TIPO DI DATO PARTICOLARE TIPO FLOATDTYPE64 VANNO CONVERTITE IN TIPI COMPRENSIBILI\n",
    "base.locate_outliers('F1_kWh').head()"
   ]
  },
  {
   "cell_type": "code",
   "execution_count": null,
   "id": "89ce6c1e-ac1a-4ddb-a7f9-1d7f4f138daa",
   "metadata": {},
   "outputs": [],
   "source": [
    "type = df.dtypes\n",
    "num = type[type!='object'][type!='bool']\n",
    "num = num.index.to_list()\n",
    "num"
   ]
  },
  {
   "cell_type": "code",
   "execution_count": null,
   "id": "5a8ec9e4-c1eb-4c2c-8420-d7021c971731",
   "metadata": {},
   "outputs": [],
   "source": [
    "tmp = ddf.locate_outliers(\"F1_kWh\")\n",
    "tmp = tmp.compute()\n",
    "tmp.shape"
   ]
  },
  {
   "cell_type": "code",
   "execution_count": null,
   "id": "53708b43-e626-48f8-9906-c276f2e594ac",
   "metadata": {},
   "outputs": [],
   "source": [
    "for col in num:\n",
    "    tmp = base.locate_outliers(col)\n",
    "    tmp = tmp.compute()\n",
    "    \n",
    "    print(f\"{col} has {tmp.shape[0]} outliers\")"
   ]
  },
  {
   "cell_type": "markdown",
   "id": "45667c80-845b-49f7-bbe1-9f87b71d7c3b",
   "metadata": {
    "tags": []
   },
   "source": [
    "## Sort Data DA PORTARE"
   ]
  },
  {
   "cell_type": "code",
   "execution_count": null,
   "id": "e79e186e-5ea7-4fb8-b180-7c369f960db4",
   "metadata": {},
   "outputs": [],
   "source": [
    "base.sort(\"F1_kWh\").head()"
   ]
  },
  {
   "cell_type": "markdown",
   "id": "3301db32-7958-4881-8423-2afac2ccb557",
   "metadata": {
    "jp-MarkdownHeadingCollapsed": true,
    "tags": []
   },
   "source": [
    "### Bazze mirco"
   ]
  },
  {
   "cell_type": "code",
   "execution_count": null,
   "id": "34e6bca9-5f60-4d0d-9d94-9ac0defee60f",
   "metadata": {},
   "outputs": [],
   "source": [
    "tmp = ddf.sort_index(\"F1_kWh\").compute()\n",
    "# not working"
   ]
  },
  {
   "cell_type": "code",
   "execution_count": null,
   "id": "35f7f97e-dd04-4c92-b710-fb9f837e700a",
   "metadata": {},
   "outputs": [],
   "source": [
    "idx = tmp.index.to_arrow().to_pylist()\n",
    "# too much long list"
   ]
  },
  {
   "cell_type": "code",
   "execution_count": null,
   "id": "5a154b10-b23c-40e6-baee-517f118fd8e2",
   "metadata": {},
   "outputs": [],
   "source": [
    "tmp.merge(ddf.df, on=[\"F1_kWh\"], how=\"left\")"
   ]
  },
  {
   "cell_type": "markdown",
   "id": "83cb84a0-7da8-42cd-a6c3-7bba271c0106",
   "metadata": {
    "jp-MarkdownHeadingCollapsed": true,
    "tags": []
   },
   "source": [
    "# 2. VALIDATION"
   ]
  },
  {
   "cell_type": "code",
   "execution_count": null,
   "id": "a78e654e-5ec8-4946-bb6b-b2b28bfacfc2",
   "metadata": {},
   "outputs": [],
   "source": [
    "''' \n",
    "+++++ DATA VALIDATION +++++\n",
    "    • Check data range\n",
    "    • Check column uniqueness\n",
    "    • Find data-mismatched data types\n",
    "'''"
   ]
  },
  {
   "cell_type": "markdown",
   "id": "93872d70-15ce-4bc4-98b0-e3a2f55610ce",
   "metadata": {
    "tags": []
   },
   "source": [
    "## Check Data Range DA PORTARE TUTTE (mi tirava fare un sottogruppo)"
   ]
  },
  {
   "cell_type": "markdown",
   "id": "7b33b46b-2476-490c-b743-82a20a182095",
   "metadata": {
    "tags": []
   },
   "source": [
    "### Age nulla per PIVA"
   ]
  },
  {
   "cell_type": "code",
   "execution_count": 6,
   "id": "5d138e4c-b729-4673-9ea2-01d139fd1123",
   "metadata": {},
   "outputs": [
    {
     "data": {
      "text/html": [
       "<div>\n",
       "<style scoped>\n",
       "    .dataframe tbody tr th:only-of-type {\n",
       "        vertical-align: middle;\n",
       "    }\n",
       "\n",
       "    .dataframe tbody tr th {\n",
       "        vertical-align: top;\n",
       "    }\n",
       "\n",
       "    .dataframe thead th {\n",
       "        text-align: right;\n",
       "    }\n",
       "</style>\n",
       "<table border=\"1\" class=\"dataframe\">\n",
       "  <thead>\n",
       "    <tr style=\"text-align: right;\">\n",
       "      <th></th>\n",
       "      <th>sex</th>\n",
       "      <th>age</th>\n",
       "    </tr>\n",
       "  </thead>\n",
       "  <tbody>\n",
       "    <tr>\n",
       "      <th>5</th>\n",
       "      <td>P</td>\n",
       "      <td>NaN</td>\n",
       "    </tr>\n",
       "    <tr>\n",
       "      <th>23</th>\n",
       "      <td>P</td>\n",
       "      <td>NaN</td>\n",
       "    </tr>\n",
       "    <tr>\n",
       "      <th>64</th>\n",
       "      <td>P</td>\n",
       "      <td>NaN</td>\n",
       "    </tr>\n",
       "    <tr>\n",
       "      <th>67</th>\n",
       "      <td>P</td>\n",
       "      <td>NaN</td>\n",
       "    </tr>\n",
       "    <tr>\n",
       "      <th>71</th>\n",
       "      <td>P</td>\n",
       "      <td>NaN</td>\n",
       "    </tr>\n",
       "  </tbody>\n",
       "</table>\n",
       "</div>"
      ],
      "text/plain": [
       "   sex  age\n",
       "5    P  NaN\n",
       "23   P  NaN\n",
       "64   P  NaN\n",
       "67   P  NaN\n",
       "71   P  NaN"
      ]
     },
     "execution_count": 6,
     "metadata": {},
     "output_type": "execute_result"
    }
   ],
   "source": [
    "# set all the sex == P equals to NaN\n",
    "base['age'] = base['age'].mask((base['sex']=='P'))\n",
    "base[(base['sex']=='P')][['sex','age']].head()"
   ]
  },
  {
   "cell_type": "markdown",
   "id": "27a763d3-c20e-4607-aa7f-75948e8fd781",
   "metadata": {
    "tags": []
   },
   "source": [
    "### Age >= 18"
   ]
  },
  {
   "cell_type": "code",
   "execution_count": 65,
   "id": "c88e9261-63da-484b-9676-ea8288a25341",
   "metadata": {},
   "outputs": [
    {
     "name": "stdout",
     "output_type": "stream",
     "text": [
      "10095931\n"
     ]
    },
    {
     "data": {
      "text/plain": [
       "401212"
      ]
     },
     "execution_count": 65,
     "metadata": {},
     "output_type": "execute_result"
    }
   ],
   "source": [
    "# Age >= 18\n",
    "# Age non ha valori nulli (già controllato in precedenza IN TEORIA)\n",
    "# Dovrebbe corrispondere al numero di PIVA\n",
    "print((~base['age'].isna()).sum().compute())\n",
    "base[base['sex'] == 'P'].shape[0].compute()"
   ]
  },
  {
   "cell_type": "code",
   "execution_count": 66,
   "id": "b5742276-6c70-41d8-8f33-6dcabe039518",
   "metadata": {},
   "outputs": [
    {
     "data": {
      "text/plain": [
       "10497143"
      ]
     },
     "execution_count": 66,
     "metadata": {},
     "output_type": "execute_result"
    }
   ],
   "source": [
    "dataset_rows"
   ]
  },
  {
   "cell_type": "code",
   "execution_count": 56,
   "id": "694bdf0d-6d3e-402f-bdb5-b0d717a04f3c",
   "metadata": {},
   "outputs": [
    {
     "data": {
      "text/plain": [
       "415276"
      ]
     },
     "execution_count": 56,
     "metadata": {},
     "output_type": "execute_result"
    }
   ],
   "source": [
    "# Che fare con i minorenni? Li mettiamo tutti a 18 anni?\n",
    "base[base['age'] < 18].shape[0].compute()"
   ]
  },
  {
   "cell_type": "code",
   "execution_count": 7,
   "id": "1c25b072-3780-45cd-9936-8e0e2c732165",
   "metadata": {},
   "outputs": [],
   "source": [
    "base['age'] = base['age'].mask(base['age'] < 18, 18)"
   ]
  },
  {
   "cell_type": "code",
   "execution_count": 58,
   "id": "aaa6cf28-68cb-484c-9abd-8ad977568a0d",
   "metadata": {},
   "outputs": [
    {
     "data": {
      "text/plain": [
       "0"
      ]
     },
     "execution_count": 58,
     "metadata": {},
     "output_type": "execute_result"
    }
   ],
   "source": [
    "base[base['age'] < 18].shape[0].compute()"
   ]
  },
  {
   "cell_type": "markdown",
   "id": "97c8f19d-7a93-42a3-8fb4-b92f65b2b304",
   "metadata": {
    "tags": []
   },
   "source": [
    "### Translation in English"
   ]
  },
  {
   "cell_type": "code",
   "execution_count": 8,
   "id": "f2919a28-b76e-49a8-b466-8ca6fa555c0d",
   "metadata": {},
   "outputs": [
    {
     "data": {
      "text/plain": [
       "gas              5686288\n",
       "light            3684510\n",
       "gas and light    1126345\n",
       "Name: supply_type, dtype: int64"
      ]
     },
     "execution_count": 8,
     "metadata": {},
     "output_type": "execute_result"
    }
   ],
   "source": [
    "base['supply_type'].value_counts(dropna=False).compute()"
   ]
  },
  {
   "cell_type": "code",
   "execution_count": null,
   "id": "d44dd645-2027-4ff8-a43a-8993f0a3fef5",
   "metadata": {},
   "outputs": [],
   "source": [
    "# Dobbiamo metterli in inglese? Si può fare con un map\n",
    "ing = {\n",
    "    'luce': 'light',\n",
    "    'gas e luce': 'gas and light',\n",
    "    'gas' : 'gas',\n",
    "}\n",
    "base['supply_type'] = base['supply_type'].map(ing)"
   ]
  },
  {
   "cell_type": "code",
   "execution_count": null,
   "id": "664860de-1788-4fb3-998a-e51c4b858bd8",
   "metadata": {},
   "outputs": [],
   "source": [
    "base['supply_type'].value_counts(dropna=False).compute()"
   ]
  },
  {
   "cell_type": "markdown",
   "id": "dfb853db-c58e-488a-8689-5bb43878e462",
   "metadata": {},
   "source": [
    "### Data control"
   ]
  },
  {
   "cell_type": "markdown",
   "id": "4f461f45-ca34-47ff-a6c1-ad2bd2533528",
   "metadata": {
    "tags": []
   },
   "source": [
    "### billing_freq & bill_type Analysis"
   ]
  },
  {
   "cell_type": "code",
   "execution_count": 14,
   "id": "af42f7c6-a6cd-4803-b8ab-ffb91fa64f14",
   "metadata": {},
   "outputs": [
    {
     "data": {
      "text/plain": [
       "bimester     7611046\n",
       "quarterly    1386049\n",
       "NaN           784810\n",
       "monthly       715238\n",
       "Name: billing_frequency, dtype: int64"
      ]
     },
     "execution_count": 14,
     "metadata": {},
     "output_type": "execute_result"
    }
   ],
   "source": [
    "# Che fare qua? Billing frequency (‘monthly’, ‘quarterly’, etc.)\n",
    "# Si potrebbero calcolare\n",
    "base['billing_frequency'].value_counts(dropna=False).compute()"
   ]
  },
  {
   "cell_type": "code",
   "execution_count": null,
   "id": "6b8c47a3-e5c7-4239-a87d-464a3fd9d53b",
   "metadata": {},
   "outputs": [],
   "source": [
    "# Kind of invoice (False means a “standard bill”)\n",
    "base['bill_type'].value_counts(dropna=False).compute()"
   ]
  },
  {
   "cell_type": "markdown",
   "id": "6cfed497-65ac-4263-a834-a328bc40dc9c",
   "metadata": {
    "tags": []
   },
   "source": [
    "### light_offer_type Analysis"
   ]
  },
  {
   "cell_type": "code",
   "execution_count": 9,
   "id": "a34ee440-8d2f-4438-b2ed-00f47b365219",
   "metadata": {},
   "outputs": [
    {
     "data": {
      "text/plain": [
       "light                5712814\n",
       "light single zone    4413764\n",
       "ligth bizone          189594\n",
       "light multi zones     180971\n",
       "Name: light_offer_type, dtype: int64"
      ]
     },
     "execution_count": 9,
     "metadata": {},
     "output_type": "execute_result"
    }
   ],
   "source": [
    "# Kind of plan for the electricity (‘single zone’, ‘bizone’, etc.)\n",
    "base['light_offer_type'].value_counts(dropna=False).compute()"
   ]
  },
  {
   "cell_type": "code",
   "execution_count": 10,
   "id": "b993e147-3a8c-4fe7-854d-ae84e5b848da",
   "metadata": {},
   "outputs": [
    {
     "data": {
      "text/plain": [
       "light                5712814\n",
       "light single zone    4413764\n",
       "ligth bizone          189594\n",
       "light multi zones     180971\n",
       "Name: light_offer_type, dtype: int64"
      ]
     },
     "execution_count": 10,
     "metadata": {},
     "output_type": "execute_result"
    }
   ],
   "source": [
    "# I 2 valori di light mi puzzano, famo uno strip?\n",
    "base['light_offer_type'] = base['light_offer_type'].str.strip()\n",
    "base['light_offer_type'].value_counts(dropna=False).compute()\n",
    "# GHAVEVO RAGIONE Vè"
   ]
  },
  {
   "cell_type": "markdown",
   "id": "c0c0a146-d146-4ac0-9402-f97d6450f4d6",
   "metadata": {
    "tags": []
   },
   "source": [
    "## Check Column Uniqueness DA PORTARE E DA VERIFICARE"
   ]
  },
  {
   "cell_type": "code",
   "execution_count": null,
   "id": "ec3c8045-4a6d-473d-ac6c-5207fcb2cb69",
   "metadata": {},
   "outputs": [],
   "source": [
    "# The story changes here, we got these pairs as candidates as duplicate columns \n",
    "# (those which have same values for each row.)\n",
    "\n",
    "# ATTENZIONE!! Probabile che le date del gas siano invertite, trovare un modo per confermarlo"
   ]
  },
  {
   "cell_type": "code",
   "execution_count": 64,
   "id": "572be326-9c66-4937-9ea8-8280c57f2fd9",
   "metadata": {},
   "outputs": [
    {
     "data": {
      "text/plain": [
       "[('date', 'light_start_date'),\n",
       " ('date', 'gas_end_date'),\n",
       " ('light_start_date', 'gas_end_date'),\n",
       " ('light_end_date', 'gas_start_date'),\n",
       " ('gas_average_cost', 'average_unit_gas_cost')]"
      ]
     },
     "execution_count": 64,
     "metadata": {},
     "output_type": "execute_result"
    }
   ],
   "source": [
    "# VERY time consuming, expecially with DASK, with DASK_CUDF It is a lot faster but It takes a lot of time as well\n",
    "# base.get_duplicate_columns()\n",
    "# Ne vengono individuate solo 5 di coppie 100% fedeli, \n",
    "# ma cambia la questione se abbassiamo la soglia? Ci sono degli errori sopra perchè \n",
    "# quelle 100% uguali non vengono riconosciute, mentre qua sì\n",
    "duplicates = [('date', 'light_start_date'),('date', 'gas_end_date'),('light_start_date', 'gas_end_date'),('light_end_date', 'gas_start_date'),('gas_average_cost', 'average_unit_gas_cost')]\n",
    "duplicates"
   ]
  },
  {
   "cell_type": "markdown",
   "id": "a23f4558-16a1-461a-9952-e4e889c4d52b",
   "metadata": {
    "tags": []
   },
   "source": [
    "## Find Data Mismatch"
   ]
  },
  {
   "cell_type": "code",
   "execution_count": null,
   "id": "05bed063-27f9-4ca4-bf67-86a7f1ae6422",
   "metadata": {},
   "outputs": [],
   "source": [
    "base['date'] == base['light_start_date']"
   ]
  },
  {
   "cell_type": "code",
   "execution_count": 68,
   "id": "252e570f-2be6-40ad-9d3a-f19976af696a",
   "metadata": {},
   "outputs": [
    {
     "data": {
      "text/plain": [
       "10489272"
      ]
     },
     "execution_count": 68,
     "metadata": {},
     "output_type": "execute_result"
    }
   ],
   "source": [
    "base[['light_start_date', 'light_end_date']][base['light_start_date'] <= base['light_end_date']].shape[0].compute()\n",
    "# i record mancanti sono delle righe con le date null, ma di base vanno bene"
   ]
  },
  {
   "cell_type": "code",
   "execution_count": 66,
   "id": "9d9a1f60-ff1a-4d04-9949-09f2f9d96610",
   "metadata": {},
   "outputs": [
    {
     "data": {
      "text/plain": [
       "10497143"
      ]
     },
     "execution_count": 66,
     "metadata": {},
     "output_type": "execute_result"
    }
   ],
   "source": [
    "10497143 "
   ]
  },
  {
   "cell_type": "code",
   "execution_count": 72,
   "id": "557c2360-173a-4376-85ab-7407e698a77c",
   "metadata": {},
   "outputs": [
    {
     "data": {
      "text/plain": [
       "0"
      ]
     },
     "execution_count": 72,
     "metadata": {},
     "output_type": "execute_result"
    }
   ],
   "source": [
    "base[['gas_start_date', 'gas_end_date']][base['gas_start_date'] < base['gas_end_date']].shape[0].compute()\n",
    "# da invertire"
   ]
  },
  {
   "cell_type": "code",
   "execution_count": 27,
   "id": "f75e2e06-2686-4d59-a805-60a2274c1538",
   "metadata": {},
   "outputs": [
    {
     "data": {
      "text/plain": [
       "0    7\n",
       "1    0\n",
       "2    0\n",
       "3    2\n",
       "4    0\n",
       "dtype: int64"
      ]
     },
     "execution_count": 27,
     "metadata": {},
     "output_type": "execute_result"
    }
   ],
   "source": [
    "import datetime\n",
    "(base['gas_end_date'].dt.month - base['gas_start_date'].dt.month).head()"
   ]
  },
  {
   "cell_type": "code",
   "execution_count": 19,
   "id": "021fa4d9-2ee6-477d-8272-e4cafbcfb387",
   "metadata": {},
   "outputs": [
    {
     "data": {
      "text/plain": [
       "542441    2.0\n",
       "542442    2.0\n",
       "542443    2.0\n",
       "542444    8.0\n",
       "542445    2.0\n",
       "dtype: float64"
      ]
     },
     "execution_count": 19,
     "metadata": {},
     "output_type": "execute_result"
    }
   ],
   "source": [
    "date_diff = ((base['gas_end_date'] - base['gas_start_date']) / np.timedelta64(1,'M')).round()\n",
    "date_diff.tail()"
   ]
  },
  {
   "cell_type": "markdown",
   "id": "3faed73f-2a75-4d73-b232-20802cc7b56d",
   "metadata": {},
   "source": [
    "C'è una corrispondenza tra billing frequency e star/end date di gas e luce perché 9M su 10 corrispondono. Quelle che non corrispondono si concentrano per la maggiorparte in un intorno di 0  "
   ]
  },
  {
   "cell_type": "code",
   "execution_count": null,
   "id": "fc8daba0-68bb-45e4-bd9b-c2e728c88ee4",
   "metadata": {},
   "outputs": [],
   "source": [
    "val_count = (base['b_freq'] - date_diff).value_counts().compute()"
   ]
  },
  {
   "cell_type": "code",
   "execution_count": 37,
   "id": "5c827cff-8c98-46b1-af36-de20f4ca0769",
   "metadata": {},
   "outputs": [
    {
     "data": {
      "text/plain": [
       " 0.0      9064270\n",
       " 1.0       311975\n",
       "-2.0       137988\n",
       " 2.0       111361\n",
       " 3.0        55685\n",
       "           ...   \n",
       "-99.0           1\n",
       "-58.0           1\n",
       "-54.0           1\n",
       "-51.0           1\n",
       "-128.0          1\n",
       "Length: 70, dtype: int64"
      ]
     },
     "execution_count": 37,
     "metadata": {},
     "output_type": "execute_result"
    }
   ],
   "source": [
    "val_count"
   ]
  },
  {
   "cell_type": "code",
   "execution_count": 36,
   "id": "f3af2eb3-c62c-476a-b096-751232882a84",
   "metadata": {},
   "outputs": [
    {
     "data": {
      "text/plain": [
       "<AxesSubplot:>"
      ]
     },
     "execution_count": 36,
     "metadata": {},
     "output_type": "execute_result"
    },
    {
     "data": {
      "image/png": "[encoded data removed]",
      "text/plain": [
       "<Figure size 432x288 with 1 Axes>"
      ]
     },
     "metadata": {
      "needs_background": "light"
     },
     "output_type": "display_data"
    }
   ],
   "source": [
    "val_count[(val_count > 1000) & (val_count < 1000000)].plot(kind='bar')"
   ]
  },
  {
   "cell_type": "code",
   "execution_count": 15,
   "id": "c5bac851-35f5-494e-801c-5be51e387ab7",
   "metadata": {},
   "outputs": [
    {
     "data": {
      "text/html": [
       "<div>\n",
       "<style scoped>\n",
       "    .dataframe tbody tr th:only-of-type {\n",
       "        vertical-align: middle;\n",
       "    }\n",
       "\n",
       "    .dataframe tbody tr th {\n",
       "        vertical-align: top;\n",
       "    }\n",
       "\n",
       "    .dataframe thead th {\n",
       "        text-align: right;\n",
       "    }\n",
       "</style>\n",
       "<table border=\"1\" class=\"dataframe\">\n",
       "  <thead>\n",
       "    <tr style=\"text-align: right;\">\n",
       "      <th></th>\n",
       "      <th>billing_frequency</th>\n",
       "      <th>gas_end_date</th>\n",
       "      <th>gas_start_date</th>\n",
       "      <th>emission_date</th>\n",
       "    </tr>\n",
       "  </thead>\n",
       "  <tbody>\n",
       "    <tr>\n",
       "      <th>542441</th>\n",
       "      <td>bimester</td>\n",
       "      <td>2021-04-03</td>\n",
       "      <td>2021-06-11</td>\n",
       "      <td>2021-06-11</td>\n",
       "    </tr>\n",
       "    <tr>\n",
       "      <th>542442</th>\n",
       "      <td>bimester</td>\n",
       "      <td>2021-04-10</td>\n",
       "      <td>2021-06-11</td>\n",
       "      <td>2021-06-11</td>\n",
       "    </tr>\n",
       "    <tr>\n",
       "      <th>542443</th>\n",
       "      <td>bimester</td>\n",
       "      <td>2021-04-10</td>\n",
       "      <td>2021-06-06</td>\n",
       "      <td>2021-06-11</td>\n",
       "    </tr>\n",
       "    <tr>\n",
       "      <th>542444</th>\n",
       "      <td>bimester</td>\n",
       "      <td>2020-10-10</td>\n",
       "      <td>2021-06-07</td>\n",
       "      <td>2021-06-11</td>\n",
       "    </tr>\n",
       "    <tr>\n",
       "      <th>542445</th>\n",
       "      <td>bimester</td>\n",
       "      <td>2021-04-03</td>\n",
       "      <td>2021-06-05</td>\n",
       "      <td>2021-06-11</td>\n",
       "    </tr>\n",
       "  </tbody>\n",
       "</table>\n",
       "</div>"
      ],
      "text/plain": [
       "       billing_frequency gas_end_date gas_start_date emission_date\n",
       "542441          bimester   2021-04-03     2021-06-11    2021-06-11\n",
       "542442          bimester   2021-04-10     2021-06-11    2021-06-11\n",
       "542443          bimester   2021-04-10     2021-06-06    2021-06-11\n",
       "542444          bimester   2020-10-10     2021-06-07    2021-06-11\n",
       "542445          bimester   2021-04-03     2021-06-05    2021-06-11"
      ]
     },
     "execution_count": 15,
     "metadata": {},
     "output_type": "execute_result"
    }
   ],
   "source": [
    "base[['billing_frequency', 'gas_end_date', 'gas_start_date', 'emission_date']].tail()"
   ]
  },
  {
   "cell_type": "code",
   "execution_count": 10,
   "id": "3935c717-ce36-46c7-98cd-6ce6bda0abc0",
   "metadata": {},
   "outputs": [
    {
     "data": {
      "text/plain": [
       "bimester     7611046\n",
       "quarterly    1386049\n",
       "NaN           784810\n",
       "monthly       715238\n",
       "Name: billing_frequency, dtype: int64"
      ]
     },
     "execution_count": 10,
     "metadata": {},
     "output_type": "execute_result"
    }
   ],
   "source": [
    "base['billing_frequency'].value_counts(dropna=False).compute()"
   ]
  },
  {
   "cell_type": "code",
   "execution_count": 59,
   "id": "ac72f65a-64f8-4191-9ce1-7acb3b021654",
   "metadata": {},
   "outputs": [
    {
     "data": {
      "text/plain": [
       "267"
      ]
     },
     "execution_count": 59,
     "metadata": {},
     "output_type": "execute_result"
    }
   ],
   "source": [
    "base['tv'].value_counts().shape[0].compute()"
   ]
  },
  {
   "cell_type": "code",
   "execution_count": 42,
   "id": "be3bc08b-dba4-4d93-9180-a71ea8f5abbc",
   "metadata": {},
   "outputs": [],
   "source": [
    "# Substitute False with standard bill\n",
    "\n",
    "base['bill_type'] = base['bill_type'].replace('False', 'standard bill')"
   ]
  },
  {
   "cell_type": "code",
   "execution_count": 43,
   "id": "281be432-c64a-4555-a4c9-b50ab5d8a98d",
   "metadata": {},
   "outputs": [
    {
     "data": {
      "text/plain": [
       "standard bill             10446508\n",
       "variation note               30477\n",
       "change note correction       19616\n",
       "cancellation bill              542\n",
       "Name: bill_type, dtype: int64"
      ]
     },
     "execution_count": 43,
     "metadata": {},
     "output_type": "execute_result"
    }
   ],
   "source": [
    "base['bill_type'].value_counts().compute()"
   ]
  },
  {
   "cell_type": "code",
   "execution_count": 45,
   "id": "41117089-e1e2-45b9-ad30-deca44abfafb",
   "metadata": {},
   "outputs": [
    {
     "data": {
      "text/html": [
       "<div>\n",
       "<style scoped>\n",
       "    .dataframe tbody tr th:only-of-type {\n",
       "        vertical-align: middle;\n",
       "    }\n",
       "\n",
       "    .dataframe tbody tr th {\n",
       "        vertical-align: top;\n",
       "    }\n",
       "\n",
       "    .dataframe thead th {\n",
       "        text-align: right;\n",
       "    }\n",
       "</style>\n",
       "<table border=\"1\" class=\"dataframe\">\n",
       "  <thead>\n",
       "    <tr style=\"text-align: right;\">\n",
       "      <th></th>\n",
       "      <th>bill_id</th>\n",
       "      <th>F1_kWh</th>\n",
       "      <th>F2_kWh</th>\n",
       "      <th>F3_kWh</th>\n",
       "      <th>city</th>\n",
       "      <th>address</th>\n",
       "      <th>nominative</th>\n",
       "      <th>sex</th>\n",
       "      <th>age</th>\n",
       "      <th>user_code</th>\n",
       "      <th>...</th>\n",
       "      <th>average_gas_bill_cost</th>\n",
       "      <th>customer_code</th>\n",
       "      <th>billing_frequency</th>\n",
       "      <th>bill_type</th>\n",
       "      <th>gas_system_charges</th>\n",
       "      <th>light_system_charges</th>\n",
       "      <th>gas_material_cost</th>\n",
       "      <th>light_transport_cost</th>\n",
       "      <th>gas_transport_cost</th>\n",
       "      <th>light_material_cost</th>\n",
       "    </tr>\n",
       "  </thead>\n",
       "  <tbody>\n",
       "    <tr>\n",
       "      <th>0</th>\n",
       "      <td>0</td>\n",
       "      <td>0.0</td>\n",
       "      <td>0.0</td>\n",
       "      <td>0.0</td>\n",
       "      <td>CIPRESSA</td>\n",
       "      <td>C23B8FC235DF5479FB28D81E827A59B819BB0748</td>\n",
       "      <td>0298E5E66B5653CDAACADD156261A2A916A56C7E</td>\n",
       "      <td>F</td>\n",
       "      <td>81</td>\n",
       "      <td>63D286C61D20D76E9C9317BEB8644D5EE45134E4</td>\n",
       "      <td>...</td>\n",
       "      <td>NaN</td>\n",
       "      <td>5AE3987CBA311BCAADC6274D28A7FB14B13B53C3</td>\n",
       "      <td>None</td>\n",
       "      <td>False</td>\n",
       "      <td>-0.06</td>\n",
       "      <td>&lt;NA&gt;</td>\n",
       "      <td>0.06</td>\n",
       "      <td>&lt;NA&gt;</td>\n",
       "      <td>-0.2</td>\n",
       "      <td>&lt;NA&gt;</td>\n",
       "    </tr>\n",
       "    <tr>\n",
       "      <th>1</th>\n",
       "      <td>1</td>\n",
       "      <td>81.0</td>\n",
       "      <td>62.0</td>\n",
       "      <td>76.0</td>\n",
       "      <td>ROCCAVIVARA</td>\n",
       "      <td>CBE6B021F41D589269FBC724C131CBFC9905D950</td>\n",
       "      <td>FDAE2B1E0934BB76255A727CC9F3F00AA39982D9</td>\n",
       "      <td>M</td>\n",
       "      <td>38</td>\n",
       "      <td>8053C7982DE8A18746A8F9F0D1DC4B0C33CAC0FA</td>\n",
       "      <td>...</td>\n",
       "      <td>NaN</td>\n",
       "      <td>5F88D510670063B20E789E6453BC2F3FB0BB67F7</td>\n",
       "      <td>None</td>\n",
       "      <td>False</td>\n",
       "      <td>&lt;NA&gt;</td>\n",
       "      <td>9.15</td>\n",
       "      <td>&lt;NA&gt;</td>\n",
       "      <td>5.68</td>\n",
       "      <td>&lt;NA&gt;</td>\n",
       "      <td>23.13</td>\n",
       "    </tr>\n",
       "    <tr>\n",
       "      <th>2</th>\n",
       "      <td>2</td>\n",
       "      <td>0.0</td>\n",
       "      <td>0.0</td>\n",
       "      <td>0.0</td>\n",
       "      <td>VIDRACCO</td>\n",
       "      <td>BFAEB566B3BB78B9ABD4F86DB3A78BFD8489013B</td>\n",
       "      <td>FEBE7F29FB854C477AFA7073C70F0E6EA81C6B00</td>\n",
       "      <td>M</td>\n",
       "      <td>53</td>\n",
       "      <td>4F053D54B9F1B6FE565498E7FA726501FD8FDD18</td>\n",
       "      <td>...</td>\n",
       "      <td>NaN</td>\n",
       "      <td>D4B8928760E729127EB4EB532C86127325FBA468</td>\n",
       "      <td>None</td>\n",
       "      <td>False</td>\n",
       "      <td>1.24</td>\n",
       "      <td>&lt;NA&gt;</td>\n",
       "      <td>-10.13</td>\n",
       "      <td>&lt;NA&gt;</td>\n",
       "      <td>-7.13</td>\n",
       "      <td>&lt;NA&gt;</td>\n",
       "    </tr>\n",
       "    <tr>\n",
       "      <th>3</th>\n",
       "      <td>3</td>\n",
       "      <td>0.0</td>\n",
       "      <td>0.0</td>\n",
       "      <td>0.0</td>\n",
       "      <td>MEZZOLOMBARDO</td>\n",
       "      <td>CBD30C382C72ED4A3D9DC9D11C13C155930E7C66</td>\n",
       "      <td>9220A3E83BDCE622F70A1456C7898687FD3EDAC8</td>\n",
       "      <td>M</td>\n",
       "      <td>50</td>\n",
       "      <td>115C7D34A79C66AFCDB4EB65262595B197B0F861</td>\n",
       "      <td>...</td>\n",
       "      <td>1.08</td>\n",
       "      <td>BD4DEF66D7EF2D3D683D9C381D2359AD24B41D9C</td>\n",
       "      <td>None</td>\n",
       "      <td>False</td>\n",
       "      <td>-0.88</td>\n",
       "      <td>&lt;NA&gt;</td>\n",
       "      <td>23.68</td>\n",
       "      <td>&lt;NA&gt;</td>\n",
       "      <td>17.66</td>\n",
       "      <td>&lt;NA&gt;</td>\n",
       "    </tr>\n",
       "    <tr>\n",
       "      <th>4</th>\n",
       "      <td>4</td>\n",
       "      <td>0.0</td>\n",
       "      <td>0.0</td>\n",
       "      <td>0.0</td>\n",
       "      <td>PINETO</td>\n",
       "      <td>4D17C711CADED6C1E9BD459088B4B80F24575FE7</td>\n",
       "      <td>642C21354EF6017D13220517E2A25D4A0442D4C5</td>\n",
       "      <td>M</td>\n",
       "      <td>65</td>\n",
       "      <td>C7734B97A212004CEA25956D8FDFEF068CD2B8F6</td>\n",
       "      <td>...</td>\n",
       "      <td>0.86</td>\n",
       "      <td>C0622AFD22384A4B54CD1ACAF7D988B89853A5AC</td>\n",
       "      <td>None</td>\n",
       "      <td>False</td>\n",
       "      <td>14.71</td>\n",
       "      <td>&lt;NA&gt;</td>\n",
       "      <td>141.57</td>\n",
       "      <td>&lt;NA&gt;</td>\n",
       "      <td>63.59</td>\n",
       "      <td>&lt;NA&gt;</td>\n",
       "    </tr>\n",
       "    <tr>\n",
       "      <th>...</th>\n",
       "      <td>...</td>\n",
       "      <td>...</td>\n",
       "      <td>...</td>\n",
       "      <td>...</td>\n",
       "      <td>...</td>\n",
       "      <td>...</td>\n",
       "      <td>...</td>\n",
       "      <td>...</td>\n",
       "      <td>...</td>\n",
       "      <td>...</td>\n",
       "      <td>...</td>\n",
       "      <td>...</td>\n",
       "      <td>...</td>\n",
       "      <td>...</td>\n",
       "      <td>...</td>\n",
       "      <td>...</td>\n",
       "      <td>...</td>\n",
       "      <td>...</td>\n",
       "      <td>...</td>\n",
       "      <td>...</td>\n",
       "      <td>...</td>\n",
       "    </tr>\n",
       "    <tr>\n",
       "      <th>542441</th>\n",
       "      <td>2512812</td>\n",
       "      <td>0.0</td>\n",
       "      <td>0.0</td>\n",
       "      <td>0.0</td>\n",
       "      <td>CASALZUIGNO</td>\n",
       "      <td>FE1047ECA6069845A48B36ABAD2A725C545A3ACD</td>\n",
       "      <td>59801133A00E8156E2FCB182350344C222C625E9</td>\n",
       "      <td>M</td>\n",
       "      <td>66</td>\n",
       "      <td>CCC653F93977E0948C0E71592DC0B35D8088BF80</td>\n",
       "      <td>...</td>\n",
       "      <td>1.23</td>\n",
       "      <td>B90850838689F4530C6B2403ABF9D6A7DB4A6C18</td>\n",
       "      <td>bimester</td>\n",
       "      <td>False</td>\n",
       "      <td>-2.09</td>\n",
       "      <td>&lt;NA&gt;</td>\n",
       "      <td>41.72</td>\n",
       "      <td>&lt;NA&gt;</td>\n",
       "      <td>34.95</td>\n",
       "      <td>&lt;NA&gt;</td>\n",
       "    </tr>\n",
       "    <tr>\n",
       "      <th>542442</th>\n",
       "      <td>2512813</td>\n",
       "      <td>0.0</td>\n",
       "      <td>0.0</td>\n",
       "      <td>0.0</td>\n",
       "      <td>ACQUANEGRA CREMONESE</td>\n",
       "      <td>31432A91213A1877995BE91793761AB04AB2C1D9</td>\n",
       "      <td>ED3368875442BC333089F2EF36CEF71865954BCC</td>\n",
       "      <td>F</td>\n",
       "      <td>46</td>\n",
       "      <td>CEF01180CFC826BD1B1D940A77532A09A4E13761</td>\n",
       "      <td>...</td>\n",
       "      <td>1.29</td>\n",
       "      <td>6CCC81E05B7ED7401945CB8FB42126B242AB443C</td>\n",
       "      <td>bimester</td>\n",
       "      <td>False</td>\n",
       "      <td>-1.1</td>\n",
       "      <td>&lt;NA&gt;</td>\n",
       "      <td>41.64</td>\n",
       "      <td>&lt;NA&gt;</td>\n",
       "      <td>34.03</td>\n",
       "      <td>&lt;NA&gt;</td>\n",
       "    </tr>\n",
       "    <tr>\n",
       "      <th>542443</th>\n",
       "      <td>2512814</td>\n",
       "      <td>0.0</td>\n",
       "      <td>0.0</td>\n",
       "      <td>0.0</td>\n",
       "      <td>SAN LUPO</td>\n",
       "      <td>B3260B1FAEE19CB253D0B27B10CDCE0F40606AA4</td>\n",
       "      <td>959F1C15E6FD24DF29439A2B4683EC280BB95466</td>\n",
       "      <td>M</td>\n",
       "      <td>45</td>\n",
       "      <td>255D0B199EAAC6E72B483D38E4EA85C643109633</td>\n",
       "      <td>...</td>\n",
       "      <td>1.58</td>\n",
       "      <td>5DC1024A436D07BDF4C4853A752CF89775C3F295</td>\n",
       "      <td>bimester</td>\n",
       "      <td>False</td>\n",
       "      <td>-3.83</td>\n",
       "      <td>&lt;NA&gt;</td>\n",
       "      <td>30.81</td>\n",
       "      <td>&lt;NA&gt;</td>\n",
       "      <td>21.25</td>\n",
       "      <td>&lt;NA&gt;</td>\n",
       "    </tr>\n",
       "    <tr>\n",
       "      <th>542444</th>\n",
       "      <td>2512815</td>\n",
       "      <td>0.0</td>\n",
       "      <td>0.0</td>\n",
       "      <td>0.0</td>\n",
       "      <td>VERNATE</td>\n",
       "      <td>9AADECE289CFA1A60FAE6F30354B16DEEE1644A0</td>\n",
       "      <td>D3FD778C3F95AE2DAB5B9A1FE11FC14728D85164</td>\n",
       "      <td>M</td>\n",
       "      <td>64</td>\n",
       "      <td>A6E6C0A1A17CE15A4A822F516E5F6B1E8CD68B23</td>\n",
       "      <td>...</td>\n",
       "      <td>1.09</td>\n",
       "      <td>454279C1315FE7D78684138FB9998240B99D86DC</td>\n",
       "      <td>bimester</td>\n",
       "      <td>False</td>\n",
       "      <td>-0.22</td>\n",
       "      <td>&lt;NA&gt;</td>\n",
       "      <td>67.14</td>\n",
       "      <td>&lt;NA&gt;</td>\n",
       "      <td>27.61</td>\n",
       "      <td>&lt;NA&gt;</td>\n",
       "    </tr>\n",
       "    <tr>\n",
       "      <th>542445</th>\n",
       "      <td>2512816</td>\n",
       "      <td>0.0</td>\n",
       "      <td>0.0</td>\n",
       "      <td>0.0</td>\n",
       "      <td>AVERSA</td>\n",
       "      <td>5753A0290AC72B2812EC56982D91DAFF45301262</td>\n",
       "      <td>07689D228584CD380A53CF3DC13122F0E634E1BF</td>\n",
       "      <td>M</td>\n",
       "      <td>33</td>\n",
       "      <td>9DF4530117723DCCA54A9502AD31BAD43FF1D709</td>\n",
       "      <td>...</td>\n",
       "      <td>1.13</td>\n",
       "      <td>74999DF227AE1574CF05B90DEC8D63207C552ABE</td>\n",
       "      <td>bimester</td>\n",
       "      <td>False</td>\n",
       "      <td>-0.83</td>\n",
       "      <td>&lt;NA&gt;</td>\n",
       "      <td>44.71</td>\n",
       "      <td>&lt;NA&gt;</td>\n",
       "      <td>25.14</td>\n",
       "      <td>&lt;NA&gt;</td>\n",
       "    </tr>\n",
       "  </tbody>\n",
       "</table>\n",
       "<p>10497143 rows × 43 columns</p>\n",
       "</div>"
      ],
      "text/plain": [
       "        bill_id F1_kWh F2_kWh  F3_kWh                  city  \\\n",
       "0             0    0.0    0.0     0.0              CIPRESSA   \n",
       "1             1   81.0   62.0    76.0           ROCCAVIVARA   \n",
       "2             2    0.0    0.0     0.0              VIDRACCO   \n",
       "3             3    0.0    0.0     0.0         MEZZOLOMBARDO   \n",
       "4             4    0.0    0.0     0.0                PINETO   \n",
       "...         ...    ...    ...     ...                   ...   \n",
       "542441  2512812    0.0    0.0     0.0           CASALZUIGNO   \n",
       "542442  2512813    0.0    0.0     0.0  ACQUANEGRA CREMONESE   \n",
       "542443  2512814    0.0    0.0     0.0              SAN LUPO   \n",
       "542444  2512815    0.0    0.0     0.0               VERNATE   \n",
       "542445  2512816    0.0    0.0     0.0                AVERSA   \n",
       "\n",
       "                                         address  \\\n",
       "0       C23B8FC235DF5479FB28D81E827A59B819BB0748   \n",
       "1       CBE6B021F41D589269FBC724C131CBFC9905D950   \n",
       "2       BFAEB566B3BB78B9ABD4F86DB3A78BFD8489013B   \n",
       "3       CBD30C382C72ED4A3D9DC9D11C13C155930E7C66   \n",
       "4       4D17C711CADED6C1E9BD459088B4B80F24575FE7   \n",
       "...                                          ...   \n",
       "542441  FE1047ECA6069845A48B36ABAD2A725C545A3ACD   \n",
       "542442  31432A91213A1877995BE91793761AB04AB2C1D9   \n",
       "542443  B3260B1FAEE19CB253D0B27B10CDCE0F40606AA4   \n",
       "542444  9AADECE289CFA1A60FAE6F30354B16DEEE1644A0   \n",
       "542445  5753A0290AC72B2812EC56982D91DAFF45301262   \n",
       "\n",
       "                                      nominative sex  age  \\\n",
       "0       0298E5E66B5653CDAACADD156261A2A916A56C7E   F   81   \n",
       "1       FDAE2B1E0934BB76255A727CC9F3F00AA39982D9   M   38   \n",
       "2       FEBE7F29FB854C477AFA7073C70F0E6EA81C6B00   M   53   \n",
       "3       9220A3E83BDCE622F70A1456C7898687FD3EDAC8   M   50   \n",
       "4       642C21354EF6017D13220517E2A25D4A0442D4C5   M   65   \n",
       "...                                          ...  ..  ...   \n",
       "542441  59801133A00E8156E2FCB182350344C222C625E9   M   66   \n",
       "542442  ED3368875442BC333089F2EF36CEF71865954BCC   F   46   \n",
       "542443  959F1C15E6FD24DF29439A2B4683EC280BB95466   M   45   \n",
       "542444  D3FD778C3F95AE2DAB5B9A1FE11FC14728D85164   M   64   \n",
       "542445  07689D228584CD380A53CF3DC13122F0E634E1BF   M   33   \n",
       "\n",
       "                                       user_code  ... average_gas_bill_cost  \\\n",
       "0       63D286C61D20D76E9C9317BEB8644D5EE45134E4  ...                   NaN   \n",
       "1       8053C7982DE8A18746A8F9F0D1DC4B0C33CAC0FA  ...                   NaN   \n",
       "2       4F053D54B9F1B6FE565498E7FA726501FD8FDD18  ...                   NaN   \n",
       "3       115C7D34A79C66AFCDB4EB65262595B197B0F861  ...                  1.08   \n",
       "4       C7734B97A212004CEA25956D8FDFEF068CD2B8F6  ...                  0.86   \n",
       "...                                          ...  ...                   ...   \n",
       "542441  CCC653F93977E0948C0E71592DC0B35D8088BF80  ...                  1.23   \n",
       "542442  CEF01180CFC826BD1B1D940A77532A09A4E13761  ...                  1.29   \n",
       "542443  255D0B199EAAC6E72B483D38E4EA85C643109633  ...                  1.58   \n",
       "542444  A6E6C0A1A17CE15A4A822F516E5F6B1E8CD68B23  ...                  1.09   \n",
       "542445  9DF4530117723DCCA54A9502AD31BAD43FF1D709  ...                  1.13   \n",
       "\n",
       "                                   customer_code billing_frequency  bill_type  \\\n",
       "0       5AE3987CBA311BCAADC6274D28A7FB14B13B53C3              None      False   \n",
       "1       5F88D510670063B20E789E6453BC2F3FB0BB67F7              None      False   \n",
       "2       D4B8928760E729127EB4EB532C86127325FBA468              None      False   \n",
       "3       BD4DEF66D7EF2D3D683D9C381D2359AD24B41D9C              None      False   \n",
       "4       C0622AFD22384A4B54CD1ACAF7D988B89853A5AC              None      False   \n",
       "...                                          ...               ...        ...   \n",
       "542441  B90850838689F4530C6B2403ABF9D6A7DB4A6C18          bimester      False   \n",
       "542442  6CCC81E05B7ED7401945CB8FB42126B242AB443C          bimester      False   \n",
       "542443  5DC1024A436D07BDF4C4853A752CF89775C3F295          bimester      False   \n",
       "542444  454279C1315FE7D78684138FB9998240B99D86DC          bimester      False   \n",
       "542445  74999DF227AE1574CF05B90DEC8D63207C552ABE          bimester      False   \n",
       "\n",
       "        gas_system_charges  light_system_charges  gas_material_cost  \\\n",
       "0                    -0.06                  <NA>               0.06   \n",
       "1                     <NA>                  9.15               <NA>   \n",
       "2                     1.24                  <NA>             -10.13   \n",
       "3                    -0.88                  <NA>              23.68   \n",
       "4                    14.71                  <NA>             141.57   \n",
       "...                    ...                   ...                ...   \n",
       "542441               -2.09                  <NA>              41.72   \n",
       "542442                -1.1                  <NA>              41.64   \n",
       "542443               -3.83                  <NA>              30.81   \n",
       "542444               -0.22                  <NA>              67.14   \n",
       "542445               -0.83                  <NA>              44.71   \n",
       "\n",
       "       light_transport_cost gas_transport_cost light_material_cost  \n",
       "0                      <NA>               -0.2                <NA>  \n",
       "1                      5.68               <NA>               23.13  \n",
       "2                      <NA>              -7.13                <NA>  \n",
       "3                      <NA>              17.66                <NA>  \n",
       "4                      <NA>              63.59                <NA>  \n",
       "...                     ...                ...                 ...  \n",
       "542441                 <NA>              34.95                <NA>  \n",
       "542442                 <NA>              34.03                <NA>  \n",
       "542443                 <NA>              21.25                <NA>  \n",
       "542444                 <NA>              27.61                <NA>  \n",
       "542445                 <NA>              25.14                <NA>  \n",
       "\n",
       "[10497143 rows x 43 columns]"
      ]
     },
     "execution_count": 45,
     "metadata": {},
     "output_type": "execute_result"
    }
   ],
   "source": [
    "# Non c'è nessuna riga tutta nulla\n",
    "base.dropna(how='all')"
   ]
  },
  {
   "cell_type": "markdown",
   "id": "6bedd4d8-9cf3-4f15-8fc4-da9f81cb57ff",
   "metadata": {
    "tags": []
   },
   "source": [
    "# 3. STRUCTURING"
   ]
  },
  {
   "cell_type": "code",
   "execution_count": null,
   "id": "5410141b-5b61-4a8c-9e7d-8a4ec598ed04",
   "metadata": {},
   "outputs": [],
   "source": [
    "''' \n",
    "+++++ DATA STRUCTURING +++++\n",
    "    • Change column data types\n",
    "    • Delete, split or merge columns\n",
    "    • Pivot and unpivot\n",
    "'''"
   ]
  },
  {
   "cell_type": "markdown",
   "id": "18378132-db87-4cf6-947c-bfd22172d983",
   "metadata": {
    "tags": []
   },
   "source": [
    "## Change Column Data Types "
   ]
  },
  {
   "cell_type": "code",
   "execution_count": null,
   "id": "7e576374-43a2-4c2a-95a3-8ec7a6b3e2ce",
   "metadata": {},
   "outputs": [],
   "source": [
    "# aggregabile con lo step precedente\n",
    "# L'HO FATTO SOPRA"
   ]
  },
  {
   "cell_type": "markdown",
   "id": "974348d1-62e6-4348-9b8a-ffafed016c9c",
   "metadata": {},
   "source": [
    "## Delete, split or merge columns"
   ]
  },
  {
   "cell_type": "markdown",
   "id": "d2b6c4ca-565a-4376-bb2e-614e24966e32",
   "metadata": {},
   "source": [
    "Da cancellare: \n",
    "\n",
    "- le date duplicate (start_gas/light con date, le trovi in colonne duplicate)\n",
    "- gas costs\n",
    "\n",
    "Da merge:\n",
    "- F1,F2,F3 --> light consumption quindi in un'ipotetica riduzione di dati si possono eliminare\n",
    "\n",
    "Da split:\n",
    "- mese e anno di emission\n",
    "- howmuch_pay = tv + total_amount, total_amount = light_amount + gas_amount + extra_fees. data l'indipendenza di tutte queste colonne possiamo tenere solo le singole colonne."
   ]
  },
  {
   "cell_type": "code",
   "execution_count": 65,
   "id": "05feec3f-5a7c-4afa-9ff0-9470b70d1581",
   "metadata": {},
   "outputs": [
    {
     "data": {
      "text/plain": [
       "[('date', 'light_start_date'),\n",
       " ('date', 'gas_end_date'),\n",
       " ('light_start_date', 'gas_end_date'),\n",
       " ('light_end_date', 'gas_start_date'),\n",
       " ('gas_average_cost', 'average_unit_gas_cost')]"
      ]
     },
     "execution_count": 65,
     "metadata": {},
     "output_type": "execute_result"
    }
   ],
   "source": [
    "duplicates"
   ]
  },
  {
   "cell_type": "markdown",
   "id": "45cbdc22-c8e1-4e1a-99ec-fa4f4df94f6b",
   "metadata": {
    "tags": []
   },
   "source": [
    "## Pivot and unpivot"
   ]
  },
  {
   "cell_type": "markdown",
   "id": "bd04d03c-986a-43e3-a5e3-9e8bed9fb7a6",
   "metadata": {},
   "source": [
    "proposte di pivot:\n",
    "- consumo/spesa complessiva delle città \n",
    "- anno/mese consumi\n",
    "- qualcosa col bill_type/light_offer_type"
   ]
  },
  {
   "cell_type": "code",
   "execution_count": null,
   "id": "43aa5ce0-ee5b-45af-9442-9faa1ade8e19",
   "metadata": {},
   "outputs": [],
   "source": [
    "base['supply_type'] = base['supply_type'].astype('category')\n",
    "base['supply_type'] = base['supply_type'].cat.as_known()\n",
    "base['supply_type'].cat.known\n"
   ]
  },
  {
   "cell_type": "code",
   "execution_count": 11,
   "id": "2952a10f-ab46-4fc5-b447-45a397316567",
   "metadata": {},
   "outputs": [
    {
     "data": {
      "text/html": [
       "<div>\n",
       "<style scoped>\n",
       "    .dataframe tbody tr th:only-of-type {\n",
       "        vertical-align: middle;\n",
       "    }\n",
       "\n",
       "    .dataframe tbody tr th {\n",
       "        vertical-align: top;\n",
       "    }\n",
       "\n",
       "    .dataframe thead th {\n",
       "        text-align: right;\n",
       "    }\n",
       "</style>\n",
       "<table border=\"1\" class=\"dataframe\">\n",
       "  <thead>\n",
       "    <tr style=\"text-align: right;\">\n",
       "      <th>supply_type</th>\n",
       "      <th>gas</th>\n",
       "      <th>gas and light</th>\n",
       "      <th>light</th>\n",
       "    </tr>\n",
       "    <tr>\n",
       "      <th>sex</th>\n",
       "      <th></th>\n",
       "      <th></th>\n",
       "      <th></th>\n",
       "    </tr>\n",
       "  </thead>\n",
       "  <tbody>\n",
       "    <tr>\n",
       "      <th>F</th>\n",
       "      <td>56.740326</td>\n",
       "      <td>56.234025</td>\n",
       "      <td>56.658268</td>\n",
       "    </tr>\n",
       "    <tr>\n",
       "      <th>M</th>\n",
       "      <td>56.081070</td>\n",
       "      <td>57.128664</td>\n",
       "      <td>56.096829</td>\n",
       "    </tr>\n",
       "    <tr>\n",
       "      <th>P</th>\n",
       "      <td>NaN</td>\n",
       "      <td>NaN</td>\n",
       "      <td>NaN</td>\n",
       "    </tr>\n",
       "  </tbody>\n",
       "</table>\n",
       "</div>"
      ],
      "text/plain": [
       "supply_type        gas  gas and light      light\n",
       "sex                                             \n",
       "F            56.740326      56.234025  56.658268\n",
       "M            56.081070      57.128664  56.096829\n",
       "P                  NaN            NaN        NaN"
      ]
     },
     "execution_count": 11,
     "metadata": {},
     "output_type": "execute_result"
    }
   ],
   "source": [
    "a = base.pivot(index='sex', columns='supply_type', values='age', aggfunc='mean').compute()\n",
    "a"
   ]
  },
  {
   "cell_type": "code",
   "execution_count": 14,
   "id": "74256df6-d688-4ae1-b2f4-51c20b20ca0d",
   "metadata": {},
   "outputs": [
    {
     "data": {
      "text/plain": [
       "908"
      ]
     },
     "execution_count": 14,
     "metadata": {},
     "output_type": "execute_result"
    }
   ],
   "source": [
    "(base['city'] == 'FINALE EMILIA').sum().compute()"
   ]
  },
  {
   "cell_type": "code",
   "execution_count": 9,
   "id": "4f78dcc8-3fdf-4f49-9e77-dbfbece2dfef",
   "metadata": {},
   "outputs": [
    {
     "data": {
      "text/plain": [
       "0"
      ]
     },
     "execution_count": 9,
     "metadata": {},
     "output_type": "execute_result"
    }
   ],
   "source": [
    "base[base['sex'] == 'P']['sex'].isna().sum().compute()"
   ]
  },
  {
   "cell_type": "markdown",
   "id": "0109ebe7-d08b-4fbe-ade2-9049281bb4a8",
   "metadata": {
    "tags": []
   },
   "source": [
    "### BOOKMARK #\n",
    "### BOOKMARK #\n",
    "### BOOKMARK #\n",
    "### BOOKMARK #\n",
    "### BOOKMARK #\n",
    "### BOOKMARK #\n",
    "### BOOKMARK #"
   ]
  },
  {
   "cell_type": "code",
   "execution_count": null,
   "id": "7418351e-13fb-4dd3-9c52-d3ef3673349d",
   "metadata": {},
   "outputs": [],
   "source": [
    "# rimozione colonne duplicate "
   ]
  },
  {
   "cell_type": "markdown",
   "id": "f6a7fb91-f694-4d13-9f35-840a4d4e25d6",
   "metadata": {
    "tags": []
   },
   "source": [
    "# 4. ENRICHMENT"
   ]
  },
  {
   "cell_type": "code",
   "execution_count": null,
   "id": "27d5b807-5156-4019-a5c9-3eee5f404a0f",
   "metadata": {},
   "outputs": [],
   "source": [
    "''' \n",
    "+++++ DATA ENRICHMENT +++++\n",
    "    • Calculate columns using expressions\n",
    "    • Set primary key column\n",
    "    • Join or append DataFrames\n",
    "    • Group by and aggregate records\n",
    "    • Scale column values into a certain range\n",
    "    • Encode categorical data (one-hot encoding and label encoding)\n",
    "'''"
   ]
  },
  {
   "cell_type": "code",
   "execution_count": 50,
   "id": "8a349ff1-16e6-42b1-91a5-d389d669ba8a",
   "metadata": {},
   "outputs": [
    {
     "name": "stdout",
     "output_type": "stream",
     "text": [
      "errore Friuli-Venezia Giulia\n",
      "3\n",
      "errore Puglia\n",
      "3\n",
      "errore Sicilia\n",
      "9\n",
      "errore Sicilia\n",
      "9\n",
      "errore Toscana\n",
      "3\n",
      "errore Umbria\n",
      "3\n"
     ]
    },
    {
     "ename": "ValueError",
     "evalue": "the first two maketrans arguments must have equal length",
     "output_type": "error",
     "traceback": [
      "\u001b[0;31m---------------------------------------------------------------------------\u001b[0m",
      "\u001b[0;31mValueError\u001b[0m                                Traceback (most recent call last)",
      "\u001b[0;32m<ipython-input-50-16461ca3f85f>\u001b[0m in \u001b[0;36m<module>\u001b[0;34m\u001b[0m\n\u001b[1;32m     64\u001b[0m             \u001b[0;32mbreak\u001b[0m\u001b[0;34m\u001b[0m\u001b[0;34m\u001b[0m\u001b[0m\n\u001b[1;32m     65\u001b[0m \u001b[0mcomuni\u001b[0m\u001b[0;34m[\u001b[0m\u001b[0;34m'Comune'\u001b[0m\u001b[0;34m]\u001b[0m \u001b[0;34m=\u001b[0m \u001b[0mcomuni\u001b[0m\u001b[0;34m[\u001b[0m\u001b[0;34m'Comune'\u001b[0m\u001b[0;34m]\u001b[0m\u001b[0;34m.\u001b[0m\u001b[0mstr\u001b[0m\u001b[0;34m.\u001b[0m\u001b[0mstrip\u001b[0m\u001b[0;34m(\u001b[0m\u001b[0;34m)\u001b[0m\u001b[0;34m\u001b[0m\u001b[0;34m\u001b[0m\u001b[0m\n\u001b[0;32m---> 66\u001b[0;31m \u001b[0mcomuni\u001b[0m\u001b[0;34m[\u001b[0m\u001b[0;34m'Comune'\u001b[0m\u001b[0;34m]\u001b[0m \u001b[0;34m=\u001b[0m \u001b[0mcomuni\u001b[0m\u001b[0;34m[\u001b[0m\u001b[0;34m'Comune'\u001b[0m\u001b[0;34m]\u001b[0m\u001b[0;34m.\u001b[0m\u001b[0mstr\u001b[0m\u001b[0;34m.\u001b[0m\u001b[0mtranslate\u001b[0m\u001b[0;34m(\u001b[0m\u001b[0mstr\u001b[0m\u001b[0;34m.\u001b[0m\u001b[0mmaketrans\u001b[0m\u001b[0;34m(\u001b[0m\u001b[0;34m\"ŠŽšžŸÀÁÂÃÄÅÇÈÉÊËÌÍÎÏÐÑÒÓÔÕÖÙÚÛÜÝàáâãäåçèéêëìíîïðñòóôõöùúûüýÿ'\"\u001b[0m\u001b[0;34m,\u001b[0m \u001b[0;34m\"SZszYAAAAAACEEEEIIIIDNOOOOOUUUUYaaaaaaceeeeiiiidnooooouuuuyy\"\u001b[0m\u001b[0;34m)\u001b[0m\u001b[0;34m)\u001b[0m\u001b[0;34m.\u001b[0m\u001b[0mstr\u001b[0m\u001b[0;34m.\u001b[0m\u001b[0mupper\u001b[0m\u001b[0;34m(\u001b[0m\u001b[0;34m)\u001b[0m\u001b[0;34m\u001b[0m\u001b[0;34m\u001b[0m\u001b[0m\n\u001b[0m\u001b[1;32m     67\u001b[0m \u001b[0mcomuni\u001b[0m \u001b[0;34m=\u001b[0m \u001b[0mcomuni\u001b[0m\u001b[0;34m.\u001b[0m\u001b[0mset_index\u001b[0m\u001b[0;34m(\u001b[0m\u001b[0;34m'Comune'\u001b[0m\u001b[0;34m)\u001b[0m\u001b[0;34m.\u001b[0m\u001b[0mto_dict\u001b[0m\u001b[0;34m(\u001b[0m\u001b[0;34m)\u001b[0m\u001b[0;34m[\u001b[0m\u001b[0;34m'Regione'\u001b[0m\u001b[0;34m]\u001b[0m\u001b[0;34m\u001b[0m\u001b[0;34m\u001b[0m\u001b[0m\n",
      "\u001b[0;31mValueError\u001b[0m: the first two maketrans arguments must have equal length"
     ]
    }
   ],
   "source": [
    "from bs4 import BeautifulSoup\n",
    "import requests\n",
    "\n",
    "url = [\n",
    "\"Comuni dell'Abruzzo\",\n",
    "\"Comuni della Basilicata\",\n",
    "\"Comuni della Calabria\",\n",
    "\"Comuni della Campania\",\n",
    "\"Comuni dell'Emilia-Romagna\",\n",
    "\"Comuni del Friuli-Venezia Giulia\",\n",
    "\"Comuni del Lazio\",\n",
    "\"Comuni della Liguria\",\n",
    "\"Comuni della Lombardia\",\n",
    "\"Comuni delle Marche\",\n",
    "\"Comuni del Molise\",\n",
    "\"Comuni del Piemonte\",\n",
    "\"Comuni della Puglia\",\n",
    "\"Comuni della Sardegna\",\n",
    "\"Comuni della Sicilia\",\n",
    "\"Comuni della Toscana\",\n",
    "\"Comuni del Trentino-Alto Adige\",\n",
    "\"Comuni dell'Umbria\",\n",
    "\"Comuni della Valle d'Aosta\",\n",
    "\"Comuni del Veneto\"\n",
    "]\n",
    "\n",
    "regioni = [\n",
    "\"Abruzzo\",\n",
    "\"Basilicata\",\n",
    "\"Calabria\",\n",
    "\"Campania\",\n",
    "\"Emilia-Romagna\",\n",
    "\"Friuli-Venezia Giulia\",\n",
    "\"Lazio\",\n",
    "\"Liguria\",\n",
    "\"Lombardia\",\n",
    "\"Marche\",\n",
    "\"Molise\",\n",
    "\"Piemonte\",\n",
    "\"Puglia\",\n",
    "\"Sardegna\",\n",
    "\"Sicilia\",\n",
    "\"Toscana\",\n",
    "\"Trentino-Alto Adige\",\n",
    "\"Umbria\",\n",
    "\"Valle d'Aosta\",\n",
    "\"Veneto\"\n",
    "]\n",
    "\n",
    "comuni_dict = {}\n",
    "comuni = pd.DataFrame(columns=['Comune', 'Regione'])\n",
    "\n",
    "for cerca, reg in zip(url,regioni):\n",
    "    website_url = requests.get(f'https://it.wikipedia.org/wiki/{cerca}').text\n",
    "    soup = BeautifulSoup(website_url)\n",
    "    table = soup.find_all('table')\n",
    "    for i in range(10):\n",
    "        comuni_dict[reg] = pd.DataFrame(pd.read_html(str(table))[i])\n",
    "        if comuni_dict[reg].shape[0] == 1 or ('Comune' not in comuni_dict[reg].columns):\n",
    "            print('errore', reg)\n",
    "            print(len(pd.read_html(str(table))))\n",
    "        else:\n",
    "            comuni = pd.concat([comuni, comuni_dict[reg].assign(Regione=reg)[['Comune', 'Regione']]], axis=0)\n",
    "            break"
   ]
  },
  {
   "cell_type": "code",
   "execution_count": 51,
   "id": "8dceaf0e-3363-4dd9-87ca-6796fbba3367",
   "metadata": {},
   "outputs": [],
   "source": [
    "comuni['Comune'] = comuni['Comune'].str.strip()\n",
    "comuni['Comune'] = comuni['Comune'].str.translate(str.maketrans(\"ŠŽšžŸÀÁÂÃÄÅÇÈÉÊËÌÍÎÏÐÑÒÓÔÕÖÙÚÛÜÝàáâãäåçèéêëìíîïðñòóôõöùúûüýÿ\", \"SZszYAAAAAACEEEEIIIIDNOOOOOUUUUYaaaaaaceeeeiiiidnooooouuuuyy\", \"'\")).str.upper()\n",
    "comuni = comuni.set_index('Comune').to_dict()['Regione']"
   ]
  },
  {
   "cell_type": "code",
   "execution_count": 72,
   "id": "2eac4f6f-13ef-4315-a050-16b575269ec7",
   "metadata": {},
   "outputs": [
    {
     "data": {
      "text/plain": [
       "True"
      ]
     },
     "execution_count": 72,
     "metadata": {},
     "output_type": "execute_result"
    }
   ],
   "source": [
    "'SAINT-OYEN' in comuni"
   ]
  },
  {
   "cell_type": "markdown",
   "id": "cb59c0d4-97b7-462d-8289-cc565ae0bc62",
   "metadata": {
    "tags": []
   },
   "source": [
    "## Calculate Columns Using Expressions"
   ]
  },
  {
   "cell_type": "code",
   "execution_count": null,
   "id": "8a771e1e-10f0-4643-b28e-6be4e78d6f53",
   "metadata": {},
   "outputs": [],
   "source": [
    "# F1 + F2 + F3 = tot consumption \n",
    "# end - start = billing frequency (month) \n",
    "# average cost = (circa) consumption / amount (light e gas)"
   ]
  },
  {
   "cell_type": "markdown",
   "id": "6dd5ffea-fc7f-4835-ab40-0fadcf4835ff",
   "metadata": {
    "tags": []
   },
   "source": [
    "## Set PK column"
   ]
  },
  {
   "cell_type": "code",
   "execution_count": null,
   "id": "bea8b572-afdb-4e07-9057-652e9594ea38",
   "metadata": {},
   "outputs": [],
   "source": [
    "# utility table --> customer code, user code\n",
    "# costumer --> user code\n",
    "# invoice --> bill id"
   ]
  },
  {
   "cell_type": "markdown",
   "id": "40b6ac8f-035f-4954-b0d0-57a8671795fa",
   "metadata": {
    "tags": []
   },
   "source": [
    "### Utility"
   ]
  },
  {
   "cell_type": "code",
   "execution_count": 6,
   "id": "1ae618cd-732e-492a-a366-273fb73b3bae",
   "metadata": {},
   "outputs": [],
   "source": [
    "utility_cols = ['customer_code', 'user_code', 'city', 'address']\n",
    "utility_df = base[utility_cols]"
   ]
  },
  {
   "cell_type": "code",
   "execution_count": 7,
   "id": "4ce85602-1d8f-48bd-8e2d-04f655f664c1",
   "metadata": {},
   "outputs": [
    {
     "data": {
      "text/html": [
       "<div>\n",
       "<style scoped>\n",
       "    .dataframe tbody tr th:only-of-type {\n",
       "        vertical-align: middle;\n",
       "    }\n",
       "\n",
       "    .dataframe tbody tr th {\n",
       "        vertical-align: top;\n",
       "    }\n",
       "\n",
       "    .dataframe thead th {\n",
       "        text-align: right;\n",
       "    }\n",
       "</style>\n",
       "<table border=\"1\" class=\"dataframe\">\n",
       "  <thead>\n",
       "    <tr style=\"text-align: right;\">\n",
       "      <th></th>\n",
       "      <th>customer_code</th>\n",
       "      <th>user_code</th>\n",
       "      <th>city</th>\n",
       "      <th>address</th>\n",
       "    </tr>\n",
       "    <tr>\n",
       "      <th>pk</th>\n",
       "      <th></th>\n",
       "      <th></th>\n",
       "      <th></th>\n",
       "      <th></th>\n",
       "    </tr>\n",
       "  </thead>\n",
       "  <tbody>\n",
       "    <tr>\n",
       "      <th>00000504EC20CF9CEF13A65EB878010295CD44EC_97F5F031B3076E9D214E494C8D8E98B2D731C6E4</th>\n",
       "      <td>00000504EC20CF9CEF13A65EB878010295CD44EC</td>\n",
       "      <td>97F5F031B3076E9D214E494C8D8E98B2D731C6E4</td>\n",
       "      <td>NUS</td>\n",
       "      <td>F89103F746DD449E5E7FEF4FA1B2F6ED24C90943</td>\n",
       "    </tr>\n",
       "    <tr>\n",
       "      <th>0000062C30D1D7C00963879E5A4EB90525059509_32B6DDC70758D03E2D2B05D0372E7BB6E1D7AC7C</th>\n",
       "      <td>0000062C30D1D7C00963879E5A4EB90525059509</td>\n",
       "      <td>32B6DDC70758D03E2D2B05D0372E7BB6E1D7AC7C</td>\n",
       "      <td>SALUGGIA</td>\n",
       "      <td>E42917E90DA4C2A2CC69A1C224B1715E4270F8BC</td>\n",
       "    </tr>\n",
       "    <tr>\n",
       "      <th>0000066A2C47826854947C3AF63E3BC158A033E2_1B9BEE9C535DFA3623DF329996B2C9E3790FAD92</th>\n",
       "      <td>0000066A2C47826854947C3AF63E3BC158A033E2</td>\n",
       "      <td>1B9BEE9C535DFA3623DF329996B2C9E3790FAD92</td>\n",
       "      <td>LESINA</td>\n",
       "      <td>127FEE5F5973E255BDA3A8DF6D41C35B13A01842</td>\n",
       "    </tr>\n",
       "    <tr>\n",
       "      <th>00000CB3CB53F89B50C54DE6229E1169E5C8C5B2_17B66C65F24009DFFD2CC89FB34C9EFFE5B6B68D</th>\n",
       "      <td>00000CB3CB53F89B50C54DE6229E1169E5C8C5B2</td>\n",
       "      <td>17B66C65F24009DFFD2CC89FB34C9EFFE5B6B68D</td>\n",
       "      <td>BOTRUGNO</td>\n",
       "      <td>67B69F899BD16AC02315334B544006420BC14189</td>\n",
       "    </tr>\n",
       "    <tr>\n",
       "      <th>00000DC89C0512D774759C0DAA390973B52AE0B7_B8AD5AF1BF5D33258EA62DB11EED9C53174AD30F</th>\n",
       "      <td>00000DC89C0512D774759C0DAA390973B52AE0B7</td>\n",
       "      <td>B8AD5AF1BF5D33258EA62DB11EED9C53174AD30F</td>\n",
       "      <td>ENTRACQUE</td>\n",
       "      <td>C8DA6D1DBE7CE71B1B217DC6CC55C7FC495BBB9A</td>\n",
       "    </tr>\n",
       "  </tbody>\n",
       "</table>\n",
       "</div>"
      ],
      "text/plain": [
       "                                                                               customer_code  \\\n",
       "pk                                                                                             \n",
       "00000504EC20CF9CEF13A65EB878010295CD44EC_97F5F0...  00000504EC20CF9CEF13A65EB878010295CD44EC   \n",
       "0000062C30D1D7C00963879E5A4EB90525059509_32B6DD...  0000062C30D1D7C00963879E5A4EB90525059509   \n",
       "0000066A2C47826854947C3AF63E3BC158A033E2_1B9BEE...  0000066A2C47826854947C3AF63E3BC158A033E2   \n",
       "00000CB3CB53F89B50C54DE6229E1169E5C8C5B2_17B66C...  00000CB3CB53F89B50C54DE6229E1169E5C8C5B2   \n",
       "00000DC89C0512D774759C0DAA390973B52AE0B7_B8AD5A...  00000DC89C0512D774759C0DAA390973B52AE0B7   \n",
       "\n",
       "                                                                                   user_code  \\\n",
       "pk                                                                                             \n",
       "00000504EC20CF9CEF13A65EB878010295CD44EC_97F5F0...  97F5F031B3076E9D214E494C8D8E98B2D731C6E4   \n",
       "0000062C30D1D7C00963879E5A4EB90525059509_32B6DD...  32B6DDC70758D03E2D2B05D0372E7BB6E1D7AC7C   \n",
       "0000066A2C47826854947C3AF63E3BC158A033E2_1B9BEE...  1B9BEE9C535DFA3623DF329996B2C9E3790FAD92   \n",
       "00000CB3CB53F89B50C54DE6229E1169E5C8C5B2_17B66C...  17B66C65F24009DFFD2CC89FB34C9EFFE5B6B68D   \n",
       "00000DC89C0512D774759C0DAA390973B52AE0B7_B8AD5A...  B8AD5AF1BF5D33258EA62DB11EED9C53174AD30F   \n",
       "\n",
       "                                                         city  \\\n",
       "pk                                                              \n",
       "00000504EC20CF9CEF13A65EB878010295CD44EC_97F5F0...        NUS   \n",
       "0000062C30D1D7C00963879E5A4EB90525059509_32B6DD...   SALUGGIA   \n",
       "0000066A2C47826854947C3AF63E3BC158A033E2_1B9BEE...     LESINA   \n",
       "00000CB3CB53F89B50C54DE6229E1169E5C8C5B2_17B66C...   BOTRUGNO   \n",
       "00000DC89C0512D774759C0DAA390973B52AE0B7_B8AD5A...  ENTRACQUE   \n",
       "\n",
       "                                                                                     address  \n",
       "pk                                                                                            \n",
       "00000504EC20CF9CEF13A65EB878010295CD44EC_97F5F0...  F89103F746DD449E5E7FEF4FA1B2F6ED24C90943  \n",
       "0000062C30D1D7C00963879E5A4EB90525059509_32B6DD...  E42917E90DA4C2A2CC69A1C224B1715E4270F8BC  \n",
       "0000066A2C47826854947C3AF63E3BC158A033E2_1B9BEE...  127FEE5F5973E255BDA3A8DF6D41C35B13A01842  \n",
       "00000CB3CB53F89B50C54DE6229E1169E5C8C5B2_17B66C...  67B69F899BD16AC02315334B544006420BC14189  \n",
       "00000DC89C0512D774759C0DAA390973B52AE0B7_B8AD5A...  C8DA6D1DBE7CE71B1B217DC6CC55C7FC495BBB9A  "
      ]
     },
     "execution_count": 7,
     "metadata": {},
     "output_type": "execute_result"
    }
   ],
   "source": [
    "utility_df = utility_df.assign(pk=utility_df['customer_code'] + '_' + utility_df['user_code'])\n",
    "utility_df = utility_df.set_index(utility_df.pk).drop(['pk'], axis=1)\n",
    "utility_df = utility_df.drop_duplicates()\n",
    "utility_df = utility_df.persist()"
   ]
  },
  {
   "cell_type": "code",
   "execution_count": 8,
   "id": "a755b3d2-ea9f-427a-8eb9-b7c480b6b643",
   "metadata": {},
   "outputs": [
    {
     "data": {
      "text/plain": [
       "[None]"
      ]
     },
     "execution_count": 8,
     "metadata": {},
     "output_type": "execute_result"
    }
   ],
   "source": [
    "# utility_df.to_parquet('data/utility')"
   ]
  },
  {
   "cell_type": "code",
   "execution_count": 19,
   "id": "ac252a7c-36d8-418c-8930-174e10c6242b",
   "metadata": {},
   "outputs": [
    {
     "data": {
      "text/html": [
       "<div>\n",
       "<style scoped>\n",
       "    .dataframe tbody tr th:only-of-type {\n",
       "        vertical-align: middle;\n",
       "    }\n",
       "\n",
       "    .dataframe tbody tr th {\n",
       "        vertical-align: top;\n",
       "    }\n",
       "\n",
       "    .dataframe thead th {\n",
       "        text-align: right;\n",
       "    }\n",
       "</style>\n",
       "<table border=\"1\" class=\"dataframe\">\n",
       "  <thead>\n",
       "    <tr style=\"text-align: right;\">\n",
       "      <th></th>\n",
       "      <th>customer_code</th>\n",
       "      <th>user_code</th>\n",
       "      <th>city</th>\n",
       "      <th>address</th>\n",
       "    </tr>\n",
       "    <tr>\n",
       "      <th>pk</th>\n",
       "      <th></th>\n",
       "      <th></th>\n",
       "      <th></th>\n",
       "      <th></th>\n",
       "    </tr>\n",
       "  </thead>\n",
       "  <tbody>\n",
       "    <tr>\n",
       "      <th>00000504EC20CF9CEF13A65EB878010295CD44EC_97F5F031B3076E9D214E494C8D8E98B2D731C6E4</th>\n",
       "      <td>00000504EC20CF9CEF13A65EB878010295CD44EC</td>\n",
       "      <td>97F5F031B3076E9D214E494C8D8E98B2D731C6E4</td>\n",
       "      <td>NUS</td>\n",
       "      <td>F89103F746DD449E5E7FEF4FA1B2F6ED24C90943</td>\n",
       "    </tr>\n",
       "    <tr>\n",
       "      <th>0000062C30D1D7C00963879E5A4EB90525059509_32B6DDC70758D03E2D2B05D0372E7BB6E1D7AC7C</th>\n",
       "      <td>0000062C30D1D7C00963879E5A4EB90525059509</td>\n",
       "      <td>32B6DDC70758D03E2D2B05D0372E7BB6E1D7AC7C</td>\n",
       "      <td>SALUGGIA</td>\n",
       "      <td>E42917E90DA4C2A2CC69A1C224B1715E4270F8BC</td>\n",
       "    </tr>\n",
       "    <tr>\n",
       "      <th>0000066A2C47826854947C3AF63E3BC158A033E2_1B9BEE9C535DFA3623DF329996B2C9E3790FAD92</th>\n",
       "      <td>0000066A2C47826854947C3AF63E3BC158A033E2</td>\n",
       "      <td>1B9BEE9C535DFA3623DF329996B2C9E3790FAD92</td>\n",
       "      <td>LESINA</td>\n",
       "      <td>127FEE5F5973E255BDA3A8DF6D41C35B13A01842</td>\n",
       "    </tr>\n",
       "    <tr>\n",
       "      <th>00000CB3CB53F89B50C54DE6229E1169E5C8C5B2_17B66C65F24009DFFD2CC89FB34C9EFFE5B6B68D</th>\n",
       "      <td>00000CB3CB53F89B50C54DE6229E1169E5C8C5B2</td>\n",
       "      <td>17B66C65F24009DFFD2CC89FB34C9EFFE5B6B68D</td>\n",
       "      <td>BOTRUGNO</td>\n",
       "      <td>67B69F899BD16AC02315334B544006420BC14189</td>\n",
       "    </tr>\n",
       "    <tr>\n",
       "      <th>00000DC89C0512D774759C0DAA390973B52AE0B7_B8AD5AF1BF5D33258EA62DB11EED9C53174AD30F</th>\n",
       "      <td>00000DC89C0512D774759C0DAA390973B52AE0B7</td>\n",
       "      <td>B8AD5AF1BF5D33258EA62DB11EED9C53174AD30F</td>\n",
       "      <td>ENTRACQUE</td>\n",
       "      <td>C8DA6D1DBE7CE71B1B217DC6CC55C7FC495BBB9A</td>\n",
       "    </tr>\n",
       "  </tbody>\n",
       "</table>\n",
       "</div>"
      ],
      "text/plain": [
       "                                                                               customer_code  \\\n",
       "pk                                                                                             \n",
       "00000504EC20CF9CEF13A65EB878010295CD44EC_97F5F0...  00000504EC20CF9CEF13A65EB878010295CD44EC   \n",
       "0000062C30D1D7C00963879E5A4EB90525059509_32B6DD...  0000062C30D1D7C00963879E5A4EB90525059509   \n",
       "0000066A2C47826854947C3AF63E3BC158A033E2_1B9BEE...  0000066A2C47826854947C3AF63E3BC158A033E2   \n",
       "00000CB3CB53F89B50C54DE6229E1169E5C8C5B2_17B66C...  00000CB3CB53F89B50C54DE6229E1169E5C8C5B2   \n",
       "00000DC89C0512D774759C0DAA390973B52AE0B7_B8AD5A...  00000DC89C0512D774759C0DAA390973B52AE0B7   \n",
       "\n",
       "                                                                                   user_code  \\\n",
       "pk                                                                                             \n",
       "00000504EC20CF9CEF13A65EB878010295CD44EC_97F5F0...  97F5F031B3076E9D214E494C8D8E98B2D731C6E4   \n",
       "0000062C30D1D7C00963879E5A4EB90525059509_32B6DD...  32B6DDC70758D03E2D2B05D0372E7BB6E1D7AC7C   \n",
       "0000066A2C47826854947C3AF63E3BC158A033E2_1B9BEE...  1B9BEE9C535DFA3623DF329996B2C9E3790FAD92   \n",
       "00000CB3CB53F89B50C54DE6229E1169E5C8C5B2_17B66C...  17B66C65F24009DFFD2CC89FB34C9EFFE5B6B68D   \n",
       "00000DC89C0512D774759C0DAA390973B52AE0B7_B8AD5A...  B8AD5AF1BF5D33258EA62DB11EED9C53174AD30F   \n",
       "\n",
       "                                                         city  \\\n",
       "pk                                                              \n",
       "00000504EC20CF9CEF13A65EB878010295CD44EC_97F5F0...        NUS   \n",
       "0000062C30D1D7C00963879E5A4EB90525059509_32B6DD...   SALUGGIA   \n",
       "0000066A2C47826854947C3AF63E3BC158A033E2_1B9BEE...     LESINA   \n",
       "00000CB3CB53F89B50C54DE6229E1169E5C8C5B2_17B66C...   BOTRUGNO   \n",
       "00000DC89C0512D774759C0DAA390973B52AE0B7_B8AD5A...  ENTRACQUE   \n",
       "\n",
       "                                                                                     address  \n",
       "pk                                                                                            \n",
       "00000504EC20CF9CEF13A65EB878010295CD44EC_97F5F0...  F89103F746DD449E5E7FEF4FA1B2F6ED24C90943  \n",
       "0000062C30D1D7C00963879E5A4EB90525059509_32B6DD...  E42917E90DA4C2A2CC69A1C224B1715E4270F8BC  \n",
       "0000066A2C47826854947C3AF63E3BC158A033E2_1B9BEE...  127FEE5F5973E255BDA3A8DF6D41C35B13A01842  \n",
       "00000CB3CB53F89B50C54DE6229E1169E5C8C5B2_17B66C...  67B69F899BD16AC02315334B544006420BC14189  \n",
       "00000DC89C0512D774759C0DAA390973B52AE0B7_B8AD5A...  C8DA6D1DBE7CE71B1B217DC6CC55C7FC495BBB9A  "
      ]
     },
     "execution_count": 19,
     "metadata": {},
     "output_type": "execute_result"
    }
   ],
   "source": [
    "utility_df = dd.read_parquet('data/utility', blocksize=\"256MB\")\n",
    "utility_df.head()"
   ]
  },
  {
   "cell_type": "markdown",
   "id": "e3322d84-6e37-491d-9b86-1fe9459b857c",
   "metadata": {},
   "source": [
    "#### Adding Region Column"
   ]
  },
  {
   "cell_type": "code",
   "execution_count": 73,
   "id": "cc9d86de-655f-4e89-b8ce-236c5ea32950",
   "metadata": {},
   "outputs": [],
   "source": [
    "utility_df['Region'] = utility_df['city'].str.strip().replace(to_replace=\"'\", value='', regex=True).map(comuni)"
   ]
  },
  {
   "cell_type": "code",
   "execution_count": 74,
   "id": "5f7147ca-0f69-4b18-99f0-25f468d12739",
   "metadata": {},
   "outputs": [
    {
     "data": {
      "text/plain": [
       "Lombardia                1543056\n",
       "Piemonte                  773946\n",
       "Veneto                    385428\n",
       "Campania                  330087\n",
       "Puglia                    282474\n",
       "Lazio                     204371\n",
       "Sicilia                   187654\n",
       "Calabria                  187597\n",
       "Sardegna                  173316\n",
       "Abruzzo                   148801\n",
       "Liguria                   143168\n",
       "Molise                    136261\n",
       "Toscana                   122098\n",
       "Emilia-Romagna            112035\n",
       "Trentino-Alto Adige       110943\n",
       "Friuli-Venezia Giulia      90072\n",
       "Marche                     77500\n",
       "Umbria                     52855\n",
       "Basilicata                 37095\n",
       "NaN                        34244\n",
       "Valle d'Aosta              17778\n",
       "Name: Region, dtype: int64"
      ]
     },
     "execution_count": 74,
     "metadata": {},
     "output_type": "execute_result"
    }
   ],
   "source": [
    "utility_df['Region'].value_counts(dropna=False).compute()"
   ]
  },
  {
   "cell_type": "code",
   "execution_count": 75,
   "id": "192fc614-4be4-4124-aa13-82fd72fb3f83",
   "metadata": {},
   "outputs": [
    {
     "data": {
      "text/html": [
       "<div>\n",
       "<style scoped>\n",
       "    .dataframe tbody tr th:only-of-type {\n",
       "        vertical-align: middle;\n",
       "    }\n",
       "\n",
       "    .dataframe tbody tr th {\n",
       "        vertical-align: top;\n",
       "    }\n",
       "\n",
       "    .dataframe thead th {\n",
       "        text-align: right;\n",
       "    }\n",
       "</style>\n",
       "<table border=\"1\" class=\"dataframe\">\n",
       "  <thead>\n",
       "    <tr style=\"text-align: right;\">\n",
       "      <th></th>\n",
       "      <th>customer_code</th>\n",
       "      <th>user_code</th>\n",
       "      <th>city</th>\n",
       "      <th>address</th>\n",
       "      <th>Region</th>\n",
       "    </tr>\n",
       "    <tr>\n",
       "      <th>pk</th>\n",
       "      <th></th>\n",
       "      <th></th>\n",
       "      <th></th>\n",
       "      <th></th>\n",
       "      <th></th>\n",
       "    </tr>\n",
       "  </thead>\n",
       "  <tbody>\n",
       "    <tr>\n",
       "      <th>00012B9425EDCDE447C16A1EE6C5CC98EEA3DDA3_157C52002AFB73041A35083C18227D16DBEDCD71</th>\n",
       "      <td>00012B9425EDCDE447C16A1EE6C5CC98EEA3DDA3</td>\n",
       "      <td>157C52002AFB73041A35083C18227D16DBEDCD71</td>\n",
       "      <td>GORNATE-OLONA</td>\n",
       "      <td>6E77B15CDC7555567B48E5E43B4DA004A6780C72</td>\n",
       "      <td>NaN</td>\n",
       "    </tr>\n",
       "    <tr>\n",
       "      <th>0008F572C7756A88B213F60FB13808805DE2FA50_B33B9F1A47887DFE14135F2BECEF81EB839EB80D</th>\n",
       "      <td>0008F572C7756A88B213F60FB13808805DE2FA50</td>\n",
       "      <td>B33B9F1A47887DFE14135F2BECEF81EB839EB80D</td>\n",
       "      <td>PUEGNAGO SUL GARDA</td>\n",
       "      <td>2E7818E82EC2CECA54C96D38A7B0562421714533</td>\n",
       "      <td>NaN</td>\n",
       "    </tr>\n",
       "    <tr>\n",
       "      <th>000B8357FD7FD3ECF4EB2FFD071DC197DEB43686_7339757E59E91FE9C96D714369239D410AAD0773</th>\n",
       "      <td>000B8357FD7FD3ECF4EB2FFD071DC197DEB43686</td>\n",
       "      <td>7339757E59E91FE9C96D714369239D410AAD0773</td>\n",
       "      <td>RASUN ANTERSELVA</td>\n",
       "      <td>DBF15AB5FB3227C804C5C55921D57683DD0F1C96</td>\n",
       "      <td>NaN</td>\n",
       "    </tr>\n",
       "    <tr>\n",
       "      <th>000BF217DD810E6C1A2CC5D31964F7B4A21BEDC7_B4935DD7370F4EB9EC8C97640AC8E36D784CD426</th>\n",
       "      <td>000BF217DD810E6C1A2CC5D31964F7B4A21BEDC7</td>\n",
       "      <td>B4935DD7370F4EB9EC8C97640AC8E36D784CD426</td>\n",
       "      <td>SALORNO</td>\n",
       "      <td>4D990D0BDDDA3B1F088E5F167A11B99431572645</td>\n",
       "      <td>NaN</td>\n",
       "    </tr>\n",
       "    <tr>\n",
       "      <th>000F6AAB6F15B878039D00A0BA8FF9A552693390_79EF107CF5AE90E3018D1FE52C61DAE8576E1FA7</th>\n",
       "      <td>000F6AAB6F15B878039D00A0BA8FF9A552693390</td>\n",
       "      <td>79EF107CF5AE90E3018D1FE52C61DAE8576E1FA7</td>\n",
       "      <td>LIVO CO</td>\n",
       "      <td>F1255E17DBC26B35449B4A09B31CD05DF7FBC6B8</td>\n",
       "      <td>NaN</td>\n",
       "    </tr>\n",
       "  </tbody>\n",
       "</table>\n",
       "</div>"
      ],
      "text/plain": [
       "                                                                               customer_code  \\\n",
       "pk                                                                                             \n",
       "00012B9425EDCDE447C16A1EE6C5CC98EEA3DDA3_157C52...  00012B9425EDCDE447C16A1EE6C5CC98EEA3DDA3   \n",
       "0008F572C7756A88B213F60FB13808805DE2FA50_B33B9F...  0008F572C7756A88B213F60FB13808805DE2FA50   \n",
       "000B8357FD7FD3ECF4EB2FFD071DC197DEB43686_733975...  000B8357FD7FD3ECF4EB2FFD071DC197DEB43686   \n",
       "000BF217DD810E6C1A2CC5D31964F7B4A21BEDC7_B4935D...  000BF217DD810E6C1A2CC5D31964F7B4A21BEDC7   \n",
       "000F6AAB6F15B878039D00A0BA8FF9A552693390_79EF10...  000F6AAB6F15B878039D00A0BA8FF9A552693390   \n",
       "\n",
       "                                                                                   user_code  \\\n",
       "pk                                                                                             \n",
       "00012B9425EDCDE447C16A1EE6C5CC98EEA3DDA3_157C52...  157C52002AFB73041A35083C18227D16DBEDCD71   \n",
       "0008F572C7756A88B213F60FB13808805DE2FA50_B33B9F...  B33B9F1A47887DFE14135F2BECEF81EB839EB80D   \n",
       "000B8357FD7FD3ECF4EB2FFD071DC197DEB43686_733975...  7339757E59E91FE9C96D714369239D410AAD0773   \n",
       "000BF217DD810E6C1A2CC5D31964F7B4A21BEDC7_B4935D...  B4935DD7370F4EB9EC8C97640AC8E36D784CD426   \n",
       "000F6AAB6F15B878039D00A0BA8FF9A552693390_79EF10...  79EF107CF5AE90E3018D1FE52C61DAE8576E1FA7   \n",
       "\n",
       "                                                                  city  \\\n",
       "pk                                                                       \n",
       "00012B9425EDCDE447C16A1EE6C5CC98EEA3DDA3_157C52...       GORNATE-OLONA   \n",
       "0008F572C7756A88B213F60FB13808805DE2FA50_B33B9F...  PUEGNAGO SUL GARDA   \n",
       "000B8357FD7FD3ECF4EB2FFD071DC197DEB43686_733975...    RASUN ANTERSELVA   \n",
       "000BF217DD810E6C1A2CC5D31964F7B4A21BEDC7_B4935D...             SALORNO   \n",
       "000F6AAB6F15B878039D00A0BA8FF9A552693390_79EF10...             LIVO CO   \n",
       "\n",
       "                                                                                     address  \\\n",
       "pk                                                                                             \n",
       "00012B9425EDCDE447C16A1EE6C5CC98EEA3DDA3_157C52...  6E77B15CDC7555567B48E5E43B4DA004A6780C72   \n",
       "0008F572C7756A88B213F60FB13808805DE2FA50_B33B9F...  2E7818E82EC2CECA54C96D38A7B0562421714533   \n",
       "000B8357FD7FD3ECF4EB2FFD071DC197DEB43686_733975...  DBF15AB5FB3227C804C5C55921D57683DD0F1C96   \n",
       "000BF217DD810E6C1A2CC5D31964F7B4A21BEDC7_B4935D...  4D990D0BDDDA3B1F088E5F167A11B99431572645   \n",
       "000F6AAB6F15B878039D00A0BA8FF9A552693390_79EF10...  F1255E17DBC26B35449B4A09B31CD05DF7FBC6B8   \n",
       "\n",
       "                                                   Region  \n",
       "pk                                                         \n",
       "00012B9425EDCDE447C16A1EE6C5CC98EEA3DDA3_157C52...    NaN  \n",
       "0008F572C7756A88B213F60FB13808805DE2FA50_B33B9F...    NaN  \n",
       "000B8357FD7FD3ECF4EB2FFD071DC197DEB43686_733975...    NaN  \n",
       "000BF217DD810E6C1A2CC5D31964F7B4A21BEDC7_B4935D...    NaN  \n",
       "000F6AAB6F15B878039D00A0BA8FF9A552693390_79EF10...    NaN  "
      ]
     },
     "execution_count": 75,
     "metadata": {},
     "output_type": "execute_result"
    }
   ],
   "source": [
    "utility_df[utility_df['Region'].isna()].head()"
   ]
  },
  {
   "cell_type": "markdown",
   "id": "f9ac711e-385c-4da4-a21c-0a08cab2283e",
   "metadata": {
    "tags": []
   },
   "source": [
    "### Customer"
   ]
  },
  {
   "cell_type": "code",
   "execution_count": 47,
   "id": "a23fb450-c97b-4ec9-b04c-bac040b06f7a",
   "metadata": {},
   "outputs": [],
   "source": [
    "customer_cols = ['user_code', 'nominative', 'age', 'sex']\n",
    "customer_df = base[customer_cols]"
   ]
  },
  {
   "cell_type": "code",
   "execution_count": 48,
   "id": "c9f84926-5b4b-46f2-a4d5-2df1af132d1f",
   "metadata": {},
   "outputs": [],
   "source": [
    "customer_df = customer_df.drop_duplicates()\n",
    "customer_df = customer_df.set_index(customer_df.user_code).drop(['user_code'], axis=1)\n",
    "customer_df = customer_df.persist()"
   ]
  },
  {
   "cell_type": "code",
   "execution_count": 49,
   "id": "2423ce7c-d894-401f-9c9c-6970414e71a1",
   "metadata": {},
   "outputs": [
    {
     "data": {
      "text/plain": [
       "user_code\n",
       "000002CAFB3DB7477079AF19ACDC69D6826B49E4    F\n",
       "00000C83D0FCC5947B3DD6B8E612FF25C76EDB97    M\n",
       "00000D085C0E13D413D2E262D3DF85DF1383B580    M\n",
       "00000EF262B1A6AE50213B6CC0685D2569897A0A    M\n",
       "000010884C10C5613E326ED2FB2A163BC338E8CA    M\n",
       "Name: sex, dtype: object"
      ]
     },
     "execution_count": 49,
     "metadata": {},
     "output_type": "execute_result"
    }
   ],
   "source": [
    "customer_df.head()['sex'].head()"
   ]
  },
  {
   "cell_type": "code",
   "execution_count": 50,
   "id": "37adb157-dab2-4fb6-bc21-f19963e6a620",
   "metadata": {},
   "outputs": [
    {
     "data": {
      "text/plain": [
       "[None]"
      ]
     },
     "execution_count": 50,
     "metadata": {},
     "output_type": "execute_result"
    }
   ],
   "source": [
    "# customer_df.to_parquet('data/customer')"
   ]
  },
  {
   "cell_type": "code",
   "execution_count": 3,
   "id": "0b25e10c-fe8d-4312-9cc3-010e51a274e2",
   "metadata": {},
   "outputs": [
    {
     "data": {
      "text/html": [
       "<div>\n",
       "<style scoped>\n",
       "    .dataframe tbody tr th:only-of-type {\n",
       "        vertical-align: middle;\n",
       "    }\n",
       "\n",
       "    .dataframe tbody tr th {\n",
       "        vertical-align: top;\n",
       "    }\n",
       "\n",
       "    .dataframe thead th {\n",
       "        text-align: right;\n",
       "    }\n",
       "</style>\n",
       "<table border=\"1\" class=\"dataframe\">\n",
       "  <thead>\n",
       "    <tr style=\"text-align: right;\">\n",
       "      <th></th>\n",
       "      <th>nominative</th>\n",
       "      <th>age</th>\n",
       "      <th>sex</th>\n",
       "    </tr>\n",
       "    <tr>\n",
       "      <th>user_code</th>\n",
       "      <th></th>\n",
       "      <th></th>\n",
       "      <th></th>\n",
       "    </tr>\n",
       "  </thead>\n",
       "  <tbody>\n",
       "    <tr>\n",
       "      <th>000002CAFB3DB7477079AF19ACDC69D6826B49E4</th>\n",
       "      <td>E428B773264ACE5B2D9C118FBC2E4AD8D820DD50</td>\n",
       "      <td>62.0</td>\n",
       "      <td>F</td>\n",
       "    </tr>\n",
       "    <tr>\n",
       "      <th>00000C83D0FCC5947B3DD6B8E612FF25C76EDB97</th>\n",
       "      <td>44B19389CE0E7453950E66FD71C7D11F1E433083</td>\n",
       "      <td>57.0</td>\n",
       "      <td>M</td>\n",
       "    </tr>\n",
       "    <tr>\n",
       "      <th>00000D085C0E13D413D2E262D3DF85DF1383B580</th>\n",
       "      <td>212FAA8342D9E70648150E9EEF20A0018772715F</td>\n",
       "      <td>64.0</td>\n",
       "      <td>M</td>\n",
       "    </tr>\n",
       "    <tr>\n",
       "      <th>00000EF262B1A6AE50213B6CC0685D2569897A0A</th>\n",
       "      <td>798635B57E835CA395A89D8CECCD847693B5AA07</td>\n",
       "      <td>51.0</td>\n",
       "      <td>M</td>\n",
       "    </tr>\n",
       "    <tr>\n",
       "      <th>000010884C10C5613E326ED2FB2A163BC338E8CA</th>\n",
       "      <td>CC21E5AD1B5B937AF771C51060F812744792BB2E</td>\n",
       "      <td>66.0</td>\n",
       "      <td>M</td>\n",
       "    </tr>\n",
       "  </tbody>\n",
       "</table>\n",
       "</div>"
      ],
      "text/plain": [
       "                                                                        nominative  \\\n",
       "user_code                                                                            \n",
       "000002CAFB3DB7477079AF19ACDC69D6826B49E4  E428B773264ACE5B2D9C118FBC2E4AD8D820DD50   \n",
       "00000C83D0FCC5947B3DD6B8E612FF25C76EDB97  44B19389CE0E7453950E66FD71C7D11F1E433083   \n",
       "00000D085C0E13D413D2E262D3DF85DF1383B580  212FAA8342D9E70648150E9EEF20A0018772715F   \n",
       "00000EF262B1A6AE50213B6CC0685D2569897A0A  798635B57E835CA395A89D8CECCD847693B5AA07   \n",
       "000010884C10C5613E326ED2FB2A163BC338E8CA  CC21E5AD1B5B937AF771C51060F812744792BB2E   \n",
       "\n",
       "                                           age sex  \n",
       "user_code                                           \n",
       "000002CAFB3DB7477079AF19ACDC69D6826B49E4  62.0   F  \n",
       "00000C83D0FCC5947B3DD6B8E612FF25C76EDB97  57.0   M  \n",
       "00000D085C0E13D413D2E262D3DF85DF1383B580  64.0   M  \n",
       "00000EF262B1A6AE50213B6CC0685D2569897A0A  51.0   M  \n",
       "000010884C10C5613E326ED2FB2A163BC338E8CA  66.0   M  "
      ]
     },
     "execution_count": 3,
     "metadata": {},
     "output_type": "execute_result"
    }
   ],
   "source": [
    "customer_df = dd.read_parquet('data/customer', blocksize=\"256MB\")\n",
    "customer_df.head()"
   ]
  },
  {
   "cell_type": "code",
   "execution_count": 2,
   "id": "1bae0bd0-56a4-4fea-a5a9-78a98c76016a",
   "metadata": {},
   "outputs": [
    {
     "data": {
      "text/html": [
       "<div>\n",
       "<style scoped>\n",
       "    .dataframe tbody tr th:only-of-type {\n",
       "        vertical-align: middle;\n",
       "    }\n",
       "\n",
       "    .dataframe tbody tr th {\n",
       "        vertical-align: top;\n",
       "    }\n",
       "\n",
       "    .dataframe thead th {\n",
       "        text-align: right;\n",
       "    }\n",
       "</style>\n",
       "<table border=\"1\" class=\"dataframe\">\n",
       "  <thead>\n",
       "    <tr style=\"text-align: right;\">\n",
       "      <th></th>\n",
       "      <th>nominative</th>\n",
       "      <th>age</th>\n",
       "      <th>sex</th>\n",
       "    </tr>\n",
       "    <tr>\n",
       "      <th>user_code</th>\n",
       "      <th></th>\n",
       "      <th></th>\n",
       "      <th></th>\n",
       "    </tr>\n",
       "  </thead>\n",
       "  <tbody>\n",
       "    <tr>\n",
       "      <th>000002CAFB3DB7477079AF19ACDC69D6826B49E4</th>\n",
       "      <td>E428B773264ACE5B2D9C118FBC2E4AD8D820DD50</td>\n",
       "      <td>62.0</td>\n",
       "      <td>F</td>\n",
       "    </tr>\n",
       "    <tr>\n",
       "      <th>00000C83D0FCC5947B3DD6B8E612FF25C76EDB97</th>\n",
       "      <td>44B19389CE0E7453950E66FD71C7D11F1E433083</td>\n",
       "      <td>57.0</td>\n",
       "      <td>M</td>\n",
       "    </tr>\n",
       "    <tr>\n",
       "      <th>00000D085C0E13D413D2E262D3DF85DF1383B580</th>\n",
       "      <td>212FAA8342D9E70648150E9EEF20A0018772715F</td>\n",
       "      <td>64.0</td>\n",
       "      <td>M</td>\n",
       "    </tr>\n",
       "    <tr>\n",
       "      <th>00000EF262B1A6AE50213B6CC0685D2569897A0A</th>\n",
       "      <td>798635B57E835CA395A89D8CECCD847693B5AA07</td>\n",
       "      <td>51.0</td>\n",
       "      <td>M</td>\n",
       "    </tr>\n",
       "    <tr>\n",
       "      <th>000010884C10C5613E326ED2FB2A163BC338E8CA</th>\n",
       "      <td>CC21E5AD1B5B937AF771C51060F812744792BB2E</td>\n",
       "      <td>66.0</td>\n",
       "      <td>M</td>\n",
       "    </tr>\n",
       "  </tbody>\n",
       "</table>\n",
       "</div>"
      ],
      "text/plain": [
       "                                                                        nominative  \\\n",
       "user_code                                                                            \n",
       "000002CAFB3DB7477079AF19ACDC69D6826B49E4  E428B773264ACE5B2D9C118FBC2E4AD8D820DD50   \n",
       "00000C83D0FCC5947B3DD6B8E612FF25C76EDB97  44B19389CE0E7453950E66FD71C7D11F1E433083   \n",
       "00000D085C0E13D413D2E262D3DF85DF1383B580  212FAA8342D9E70648150E9EEF20A0018772715F   \n",
       "00000EF262B1A6AE50213B6CC0685D2569897A0A  798635B57E835CA395A89D8CECCD847693B5AA07   \n",
       "000010884C10C5613E326ED2FB2A163BC338E8CA  CC21E5AD1B5B937AF771C51060F812744792BB2E   \n",
       "\n",
       "                                           age sex  \n",
       "user_code                                           \n",
       "000002CAFB3DB7477079AF19ACDC69D6826B49E4  62.0   F  \n",
       "00000C83D0FCC5947B3DD6B8E612FF25C76EDB97  57.0   M  \n",
       "00000D085C0E13D413D2E262D3DF85DF1383B580  64.0   M  \n",
       "00000EF262B1A6AE50213B6CC0685D2569897A0A  51.0   M  \n",
       "000010884C10C5613E326ED2FB2A163BC338E8CA  66.0   M  "
      ]
     },
     "execution_count": 2,
     "metadata": {},
     "output_type": "execute_result"
    }
   ],
   "source": [
    "customer_df = pd.read_parquet('data/customer')\n",
    "customer_df.head()"
   ]
  },
  {
   "cell_type": "markdown",
   "id": "d30495db-699e-4fd2-8291-9e3b0115e43f",
   "metadata": {
    "jp-MarkdownHeadingCollapsed": true,
    "tags": []
   },
   "source": [
    "### Invoice"
   ]
  },
  {
   "cell_type": "markdown",
   "id": "a954eb3a-3717-429e-b9a4-ffdfb54260e3",
   "metadata": {},
   "source": [
    "proporrei come pk il bill_id e emission_date"
   ]
  },
  {
   "cell_type": "code",
   "execution_count": 25,
   "id": "45819c83-3a13-4eff-9559-dd698cdb12b2",
   "metadata": {},
   "outputs": [],
   "source": [
    "invoice_cols = ['bill_id','F1_kWh','F2_kWh','F3_kWh','date','light_start_date','light_end_date','tv','gas_amount','gas_average_cost','light_average_cost','emission_date','supply_type','gas_start_date','gas_end_date','extra_fees','gas_consumption','light_consumption','gas_offer','light_offer_type','light_offer','total_amount','howmuch_pay','light_amount','average_unit_light_cost','average_light_bill_cost','average_unit_gas_cost','average_gas_bill_cost','billing_frequency','bill_type','gas_system_charges','light_system_charges','gas_material_cost','light_transport_cost','gas_transport_cost','light_material_cost']\n",
    "invoice_df = base[invoice_cols]"
   ]
  },
  {
   "cell_type": "code",
   "execution_count": 26,
   "id": "a2ce6bf4-d524-4c6f-bf90-46d4334875a1",
   "metadata": {},
   "outputs": [],
   "source": [
    "invoice_df = invoice_df.sort_values('bill_id')\n",
    "invoice_df = invoice_df.persist()"
   ]
  },
  {
   "cell_type": "code",
   "execution_count": 27,
   "id": "8b770af3-fb82-42eb-a4f1-54f0f75fe93d",
   "metadata": {},
   "outputs": [
    {
     "data": {
      "text/plain": [
       "0        2020-12-31\n",
       "438310   2021-03-30\n",
       "132299   2021-02-23\n",
       "254769   2021-05-27\n",
       "384321   2021-01-26\n",
       "467066   2021-04-27\n",
       "Name: emission_date, dtype: datetime64[ns]"
      ]
     },
     "execution_count": 27,
     "metadata": {},
     "output_type": "execute_result"
    }
   ],
   "source": [
    "invoice_df[invoice_df['bill_id'] == 0].compute()['emission_date']"
   ]
  },
  {
   "cell_type": "code",
   "execution_count": 33,
   "id": "497a69ff-113d-4ac9-8836-4af59685f53f",
   "metadata": {},
   "outputs": [
    {
     "data": {
      "text/plain": [
       "0         0-31-12-2020\n",
       "438310    0-30-03-2021\n",
       "132299    0-23-02-2021\n",
       "254769    0-27-05-2021\n",
       "384321    0-26-01-2021\n",
       "dtype: object"
      ]
     },
     "execution_count": 33,
     "metadata": {},
     "output_type": "execute_result"
    }
   ],
   "source": [
    "(invoice_df['bill_id'].astype(str) + '-' + invoice_df['emission_date'].dt.strftime('%d-%m-%Y')).head()"
   ]
  },
  {
   "cell_type": "code",
   "execution_count": 34,
   "id": "bcef454d-6e7c-4352-aaa0-b015714bc134",
   "metadata": {},
   "outputs": [],
   "source": [
    "invoice_df = invoice_df.set_index(invoice_df['bill_id'].astype(str) + '-' + invoice_df['emission_date'].dt.strftime('%d-%m-%Y'))\n",
    "# invoice_df = invoice_df.drop_duplicates()\n",
    "invoice_df = invoice_df.persist()"
   ]
  },
  {
   "cell_type": "code",
   "execution_count": 43,
   "id": "acc862e9-7fa8-48bb-b522-79cd9f9329d4",
   "metadata": {},
   "outputs": [
    {
     "data": {
      "text/plain": [
       "10497143"
      ]
     },
     "execution_count": 43,
     "metadata": {},
     "output_type": "execute_result"
    }
   ],
   "source": [
    "invoice_df.shape[0].compute()"
   ]
  },
  {
   "cell_type": "code",
   "execution_count": 44,
   "id": "a9e46f19-1f44-49fa-ad48-1f9a8f528071",
   "metadata": {},
   "outputs": [
    {
     "data": {
      "text/plain": [
       "10497143"
      ]
     },
     "execution_count": 44,
     "metadata": {},
     "output_type": "execute_result"
    }
   ],
   "source": [
    "invoice_df = invoice_df.drop_duplicates()\n",
    "invoice_df.shape[0].compute()"
   ]
  },
  {
   "cell_type": "code",
   "execution_count": 45,
   "id": "905daedd-cb97-48bb-ad8b-cd226969c56b",
   "metadata": {},
   "outputs": [
    {
     "data": {
      "text/plain": [
       "[None]"
      ]
     },
     "execution_count": 45,
     "metadata": {},
     "output_type": "execute_result"
    }
   ],
   "source": [
    "# invoice_df.to_parquet('data/invoice')"
   ]
  },
  {
   "cell_type": "code",
   "execution_count": 46,
   "id": "5d8de5a7-bf84-4346-8f1e-6897a36993bd",
   "metadata": {},
   "outputs": [
    {
     "data": {
      "text/html": [
       "<div>\n",
       "<style scoped>\n",
       "    .dataframe tbody tr th:only-of-type {\n",
       "        vertical-align: middle;\n",
       "    }\n",
       "\n",
       "    .dataframe tbody tr th {\n",
       "        vertical-align: top;\n",
       "    }\n",
       "\n",
       "    .dataframe thead th {\n",
       "        text-align: right;\n",
       "    }\n",
       "</style>\n",
       "<table border=\"1\" class=\"dataframe\">\n",
       "  <thead>\n",
       "    <tr style=\"text-align: right;\">\n",
       "      <th></th>\n",
       "      <th>bill_id</th>\n",
       "      <th>F1_kWh</th>\n",
       "      <th>F2_kWh</th>\n",
       "      <th>F3_kWh</th>\n",
       "      <th>date</th>\n",
       "      <th>light_start_date</th>\n",
       "      <th>light_end_date</th>\n",
       "      <th>tv</th>\n",
       "      <th>gas_amount</th>\n",
       "      <th>gas_average_cost</th>\n",
       "      <th>...</th>\n",
       "      <th>average_unit_gas_cost</th>\n",
       "      <th>average_gas_bill_cost</th>\n",
       "      <th>billing_frequency</th>\n",
       "      <th>bill_type</th>\n",
       "      <th>gas_system_charges</th>\n",
       "      <th>light_system_charges</th>\n",
       "      <th>gas_material_cost</th>\n",
       "      <th>light_transport_cost</th>\n",
       "      <th>gas_transport_cost</th>\n",
       "      <th>light_material_cost</th>\n",
       "    </tr>\n",
       "  </thead>\n",
       "  <tbody>\n",
       "    <tr>\n",
       "      <th>0-23-02-2021</th>\n",
       "      <td>0</td>\n",
       "      <td>14.0</td>\n",
       "      <td>20.0</td>\n",
       "      <td>46.0</td>\n",
       "      <td>2020-12-19</td>\n",
       "      <td>2020-12-19</td>\n",
       "      <td>2021-02-23</td>\n",
       "      <td>0.0</td>\n",
       "      <td>0.00</td>\n",
       "      <td>0.0</td>\n",
       "      <td>...</td>\n",
       "      <td>0.0</td>\n",
       "      <td>0.0</td>\n",
       "      <td>bimester</td>\n",
       "      <td>standard bill</td>\n",
       "      <td>0.00</td>\n",
       "      <td>3.34</td>\n",
       "      <td>0.00</td>\n",
       "      <td>14.74</td>\n",
       "      <td>0.00</td>\n",
       "      <td>18.72</td>\n",
       "    </tr>\n",
       "    <tr>\n",
       "      <th>0-26-01-2021</th>\n",
       "      <td>0</td>\n",
       "      <td>0.0</td>\n",
       "      <td>0.0</td>\n",
       "      <td>0.0</td>\n",
       "      <td>2020-12-31</td>\n",
       "      <td>2020-12-31</td>\n",
       "      <td>2020-12-31</td>\n",
       "      <td>0.0</td>\n",
       "      <td>0.00</td>\n",
       "      <td>0.0</td>\n",
       "      <td>...</td>\n",
       "      <td>0.0</td>\n",
       "      <td>0.0</td>\n",
       "      <td>None</td>\n",
       "      <td>standard bill</td>\n",
       "      <td>0.00</td>\n",
       "      <td>NaN</td>\n",
       "      <td>0.00</td>\n",
       "      <td>-10.42</td>\n",
       "      <td>0.00</td>\n",
       "      <td>NaN</td>\n",
       "    </tr>\n",
       "    <tr>\n",
       "      <th>0-27-04-2021</th>\n",
       "      <td>0</td>\n",
       "      <td>0.0</td>\n",
       "      <td>0.0</td>\n",
       "      <td>0.0</td>\n",
       "      <td>2021-03-31</td>\n",
       "      <td>2021-03-31</td>\n",
       "      <td>2021-03-31</td>\n",
       "      <td>0.0</td>\n",
       "      <td>0.00</td>\n",
       "      <td>0.0</td>\n",
       "      <td>...</td>\n",
       "      <td>0.0</td>\n",
       "      <td>0.0</td>\n",
       "      <td>None</td>\n",
       "      <td>standard bill</td>\n",
       "      <td>0.00</td>\n",
       "      <td>NaN</td>\n",
       "      <td>0.00</td>\n",
       "      <td>NaN</td>\n",
       "      <td>0.00</td>\n",
       "      <td>NaN</td>\n",
       "    </tr>\n",
       "    <tr>\n",
       "      <th>0-27-05-2021</th>\n",
       "      <td>0</td>\n",
       "      <td>0.0</td>\n",
       "      <td>1.0</td>\n",
       "      <td>1.0</td>\n",
       "      <td>2021-03-24</td>\n",
       "      <td>2021-03-24</td>\n",
       "      <td>2021-05-27</td>\n",
       "      <td>18.0</td>\n",
       "      <td>0.00</td>\n",
       "      <td>0.0</td>\n",
       "      <td>...</td>\n",
       "      <td>0.0</td>\n",
       "      <td>0.0</td>\n",
       "      <td>bimester</td>\n",
       "      <td>standard bill</td>\n",
       "      <td>0.00</td>\n",
       "      <td>0.08</td>\n",
       "      <td>0.00</td>\n",
       "      <td>14.06</td>\n",
       "      <td>0.00</td>\n",
       "      <td>12.13</td>\n",
       "    </tr>\n",
       "    <tr>\n",
       "      <th>0-30-03-2021</th>\n",
       "      <td>0</td>\n",
       "      <td>0.0</td>\n",
       "      <td>0.0</td>\n",
       "      <td>0.0</td>\n",
       "      <td>2021-02-03</td>\n",
       "      <td>2021-02-03</td>\n",
       "      <td>2021-03-30</td>\n",
       "      <td>0.0</td>\n",
       "      <td>11.49</td>\n",
       "      <td>NaN</td>\n",
       "      <td>...</td>\n",
       "      <td>NaN</td>\n",
       "      <td>NaN</td>\n",
       "      <td>bimester</td>\n",
       "      <td>standard bill</td>\n",
       "      <td>-2.26</td>\n",
       "      <td>0.00</td>\n",
       "      <td>6.24</td>\n",
       "      <td>0.00</td>\n",
       "      <td>5.53</td>\n",
       "      <td>0.00</td>\n",
       "    </tr>\n",
       "  </tbody>\n",
       "</table>\n",
       "<p>5 rows × 36 columns</p>\n",
       "</div>"
      ],
      "text/plain": [
       "              bill_id  F1_kWh  F2_kWh  F3_kWh       date light_start_date  \\\n",
       "0-23-02-2021        0    14.0    20.0    46.0 2020-12-19       2020-12-19   \n",
       "0-26-01-2021        0     0.0     0.0     0.0 2020-12-31       2020-12-31   \n",
       "0-27-04-2021        0     0.0     0.0     0.0 2021-03-31       2021-03-31   \n",
       "0-27-05-2021        0     0.0     1.0     1.0 2021-03-24       2021-03-24   \n",
       "0-30-03-2021        0     0.0     0.0     0.0 2021-02-03       2021-02-03   \n",
       "\n",
       "             light_end_date    tv  gas_amount  gas_average_cost  ...  \\\n",
       "0-23-02-2021     2021-02-23   0.0        0.00               0.0  ...   \n",
       "0-26-01-2021     2020-12-31   0.0        0.00               0.0  ...   \n",
       "0-27-04-2021     2021-03-31   0.0        0.00               0.0  ...   \n",
       "0-27-05-2021     2021-05-27  18.0        0.00               0.0  ...   \n",
       "0-30-03-2021     2021-03-30   0.0       11.49               NaN  ...   \n",
       "\n",
       "              average_unit_gas_cost average_gas_bill_cost billing_frequency  \\\n",
       "0-23-02-2021                    0.0                   0.0          bimester   \n",
       "0-26-01-2021                    0.0                   0.0              None   \n",
       "0-27-04-2021                    0.0                   0.0              None   \n",
       "0-27-05-2021                    0.0                   0.0          bimester   \n",
       "0-30-03-2021                    NaN                   NaN          bimester   \n",
       "\n",
       "                  bill_type gas_system_charges  light_system_charges  \\\n",
       "0-23-02-2021  standard bill               0.00                  3.34   \n",
       "0-26-01-2021  standard bill               0.00                   NaN   \n",
       "0-27-04-2021  standard bill               0.00                   NaN   \n",
       "0-27-05-2021  standard bill               0.00                  0.08   \n",
       "0-30-03-2021  standard bill              -2.26                  0.00   \n",
       "\n",
       "              gas_material_cost  light_transport_cost  gas_transport_cost  \\\n",
       "0-23-02-2021               0.00                 14.74                0.00   \n",
       "0-26-01-2021               0.00                -10.42                0.00   \n",
       "0-27-04-2021               0.00                   NaN                0.00   \n",
       "0-27-05-2021               0.00                 14.06                0.00   \n",
       "0-30-03-2021               6.24                  0.00                5.53   \n",
       "\n",
       "             light_material_cost  \n",
       "0-23-02-2021               18.72  \n",
       "0-26-01-2021                 NaN  \n",
       "0-27-04-2021                 NaN  \n",
       "0-27-05-2021               12.13  \n",
       "0-30-03-2021                0.00  \n",
       "\n",
       "[5 rows x 36 columns]"
      ]
     },
     "execution_count": 46,
     "metadata": {},
     "output_type": "execute_result"
    }
   ],
   "source": [
    "invoice_df = dd.read_parquet('data/invoice', blocksize=\"256MB\")\n",
    "invoice_df.head()"
   ]
  },
  {
   "cell_type": "markdown",
   "id": "cf0855f3-bebf-417f-b065-13c5053a1752",
   "metadata": {
    "tags": []
   },
   "source": [
    "# Table Analysis"
   ]
  },
  {
   "cell_type": "markdown",
   "id": "df440a80-be97-45a1-b39e-2cf2b5d44aa1",
   "metadata": {
    "tags": []
   },
   "source": [
    "## Invoices Analysis"
   ]
  },
  {
   "cell_type": "code",
   "execution_count": 55,
   "id": "621f5bda-1821-46bc-8ef6-b1c02dc5acfa",
   "metadata": {},
   "outputs": [
    {
     "data": {
      "text/plain": [
       "0-23-02-2021    2\n",
       "0-26-01-2021    1\n",
       "0-27-04-2021    4\n",
       "0-27-05-2021    5\n",
       "0-30-03-2021    3\n",
       "Name: MONTH_em, dtype: int64"
      ]
     },
     "execution_count": 55,
     "metadata": {},
     "output_type": "execute_result"
    }
   ],
   "source": [
    "invoice_df = invoice_df.assign(MONTH_em = invoice_df['emission_date'].dt.month)\n",
    "invoice_df = invoice_df.assign(YEAR_em = invoice_df['emission_date'].dt.year)\n",
    "invoice_df['MONTH_em'].head()"
   ]
  },
  {
   "cell_type": "code",
   "execution_count": 59,
   "id": "e4aefa31-20dc-4eee-9870-7af7ddde0249",
   "metadata": {},
   "outputs": [
    {
     "data": {
      "text/html": [
       "<div>\n",
       "<style scoped>\n",
       "    .dataframe tbody tr th:only-of-type {\n",
       "        vertical-align: middle;\n",
       "    }\n",
       "\n",
       "    .dataframe tbody tr th {\n",
       "        vertical-align: top;\n",
       "    }\n",
       "\n",
       "    .dataframe thead th {\n",
       "        text-align: right;\n",
       "    }\n",
       "</style>\n",
       "<table border=\"1\" class=\"dataframe\">\n",
       "  <thead>\n",
       "    <tr style=\"text-align: right;\">\n",
       "      <th></th>\n",
       "      <th></th>\n",
       "      <th>light_consumption</th>\n",
       "      <th>gas_consumption</th>\n",
       "    </tr>\n",
       "    <tr>\n",
       "      <th>YEAR_em</th>\n",
       "      <th>MONTH_em</th>\n",
       "      <th></th>\n",
       "      <th></th>\n",
       "    </tr>\n",
       "  </thead>\n",
       "  <tbody>\n",
       "    <tr>\n",
       "      <th rowspan=\"8\" valign=\"top\">2020</th>\n",
       "      <th>4</th>\n",
       "      <td>0.000000</td>\n",
       "      <td>0.000000</td>\n",
       "    </tr>\n",
       "    <tr>\n",
       "      <th>6</th>\n",
       "      <td>-170.000000</td>\n",
       "      <td>0.000000</td>\n",
       "    </tr>\n",
       "    <tr>\n",
       "      <th>7</th>\n",
       "      <td>-1611.000000</td>\n",
       "      <td>-15.800000</td>\n",
       "    </tr>\n",
       "    <tr>\n",
       "      <th>8</th>\n",
       "      <td>-9731.000000</td>\n",
       "      <td>-10.393000</td>\n",
       "    </tr>\n",
       "    <tr>\n",
       "      <th>9</th>\n",
       "      <td>-191.368421</td>\n",
       "      <td>-36.143278</td>\n",
       "    </tr>\n",
       "    <tr>\n",
       "      <th>10</th>\n",
       "      <td>-498.125000</td>\n",
       "      <td>-83.000000</td>\n",
       "    </tr>\n",
       "    <tr>\n",
       "      <th>11</th>\n",
       "      <td>-135.500000</td>\n",
       "      <td>-3.500000</td>\n",
       "    </tr>\n",
       "    <tr>\n",
       "      <th>12</th>\n",
       "      <td>88.906090</td>\n",
       "      <td>22.793108</td>\n",
       "    </tr>\n",
       "    <tr>\n",
       "      <th rowspan=\"6\" valign=\"top\">2021</th>\n",
       "      <th>1</th>\n",
       "      <td>276.313795</td>\n",
       "      <td>105.702065</td>\n",
       "    </tr>\n",
       "    <tr>\n",
       "      <th>2</th>\n",
       "      <td>235.730509</td>\n",
       "      <td>195.058128</td>\n",
       "    </tr>\n",
       "    <tr>\n",
       "      <th>3</th>\n",
       "      <td>134.053866</td>\n",
       "      <td>127.719031</td>\n",
       "    </tr>\n",
       "    <tr>\n",
       "      <th>4</th>\n",
       "      <td>146.617909</td>\n",
       "      <td>131.070401</td>\n",
       "    </tr>\n",
       "    <tr>\n",
       "      <th>5</th>\n",
       "      <td>213.201548</td>\n",
       "      <td>48.989545</td>\n",
       "    </tr>\n",
       "    <tr>\n",
       "      <th>6</th>\n",
       "      <td>160.394023</td>\n",
       "      <td>51.483361</td>\n",
       "    </tr>\n",
       "  </tbody>\n",
       "</table>\n",
       "</div>"
      ],
      "text/plain": [
       "                  light_consumption  gas_consumption\n",
       "YEAR_em MONTH_em                                    \n",
       "2020    4                  0.000000         0.000000\n",
       "        6               -170.000000         0.000000\n",
       "        7              -1611.000000       -15.800000\n",
       "        8              -9731.000000       -10.393000\n",
       "        9               -191.368421       -36.143278\n",
       "        10              -498.125000       -83.000000\n",
       "        11              -135.500000        -3.500000\n",
       "        12                88.906090        22.793108\n",
       "2021    1                276.313795       105.702065\n",
       "        2                235.730509       195.058128\n",
       "        3                134.053866       127.719031\n",
       "        4                146.617909       131.070401\n",
       "        5                213.201548        48.989545\n",
       "        6                160.394023        51.483361"
      ]
     },
     "execution_count": 59,
     "metadata": {},
     "output_type": "execute_result"
    }
   ],
   "source": [
    "invoice_df.groupby(by=['YEAR_em', 'MONTH_em'])[['light_consumption', 'gas_consumption']].mean().compute()"
   ]
  },
  {
   "cell_type": "code",
   "execution_count": 60,
   "id": "b03d2f7f-0ca9-42d0-b49d-ee70d83c5a51",
   "metadata": {},
   "outputs": [
    {
     "data": {
      "text/html": [
       "<div>\n",
       "<style scoped>\n",
       "    .dataframe tbody tr th:only-of-type {\n",
       "        vertical-align: middle;\n",
       "    }\n",
       "\n",
       "    .dataframe tbody tr th {\n",
       "        vertical-align: top;\n",
       "    }\n",
       "\n",
       "    .dataframe thead th {\n",
       "        text-align: right;\n",
       "    }\n",
       "</style>\n",
       "<table border=\"1\" class=\"dataframe\">\n",
       "  <thead>\n",
       "    <tr style=\"text-align: right;\">\n",
       "      <th></th>\n",
       "      <th></th>\n",
       "      <th>total_amount</th>\n",
       "    </tr>\n",
       "    <tr>\n",
       "      <th>YEAR_em</th>\n",
       "      <th>MONTH_em</th>\n",
       "      <th></th>\n",
       "    </tr>\n",
       "  </thead>\n",
       "  <tbody>\n",
       "    <tr>\n",
       "      <th rowspan=\"8\" valign=\"top\">2020</th>\n",
       "      <th>4</th>\n",
       "      <td>133.938000</td>\n",
       "    </tr>\n",
       "    <tr>\n",
       "      <th>6</th>\n",
       "      <td>49.260000</td>\n",
       "    </tr>\n",
       "    <tr>\n",
       "      <th>7</th>\n",
       "      <td>685.914000</td>\n",
       "    </tr>\n",
       "    <tr>\n",
       "      <th>8</th>\n",
       "      <td>9146.410000</td>\n",
       "    </tr>\n",
       "    <tr>\n",
       "      <th>9</th>\n",
       "      <td>246.109474</td>\n",
       "    </tr>\n",
       "    <tr>\n",
       "      <th>10</th>\n",
       "      <td>225.375000</td>\n",
       "    </tr>\n",
       "    <tr>\n",
       "      <th>11</th>\n",
       "      <td>70.925000</td>\n",
       "    </tr>\n",
       "    <tr>\n",
       "      <th>12</th>\n",
       "      <td>68.703756</td>\n",
       "    </tr>\n",
       "    <tr>\n",
       "      <th rowspan=\"6\" valign=\"top\">2021</th>\n",
       "      <th>1</th>\n",
       "      <td>170.004437</td>\n",
       "    </tr>\n",
       "    <tr>\n",
       "      <th>2</th>\n",
       "      <td>233.496984</td>\n",
       "    </tr>\n",
       "    <tr>\n",
       "      <th>3</th>\n",
       "      <td>180.298055</td>\n",
       "    </tr>\n",
       "    <tr>\n",
       "      <th>4</th>\n",
       "      <td>161.237124</td>\n",
       "    </tr>\n",
       "    <tr>\n",
       "      <th>5</th>\n",
       "      <td>120.577353</td>\n",
       "    </tr>\n",
       "    <tr>\n",
       "      <th>6</th>\n",
       "      <td>107.182779</td>\n",
       "    </tr>\n",
       "  </tbody>\n",
       "</table>\n",
       "</div>"
      ],
      "text/plain": [
       "                  total_amount\n",
       "YEAR_em MONTH_em              \n",
       "2020    4           133.938000\n",
       "        6            49.260000\n",
       "        7           685.914000\n",
       "        8          9146.410000\n",
       "        9           246.109474\n",
       "        10          225.375000\n",
       "        11           70.925000\n",
       "        12           68.703756\n",
       "2021    1           170.004437\n",
       "        2           233.496984\n",
       "        3           180.298055\n",
       "        4           161.237124\n",
       "        5           120.577353\n",
       "        6           107.182779"
      ]
     },
     "execution_count": 60,
     "metadata": {},
     "output_type": "execute_result"
    }
   ],
   "source": [
    "invoice_df.groupby(by=['YEAR_em', 'MONTH_em'])[['total_amount']].mean().compute()"
   ]
  },
  {
   "cell_type": "markdown",
   "id": "5680eaa5-0481-4c8f-9ddf-58f1e6aeaa8c",
   "metadata": {},
   "source": [
    "## Customer Analysis"
   ]
  },
  {
   "cell_type": "markdown",
   "id": "634e1c2a-a919-46c4-a4d8-f87dbcbcbedd",
   "metadata": {},
   "source": [
    "Age Categorizing "
   ]
  },
  {
   "cell_type": "code",
   "execution_count": 4,
   "id": "067476c9-9601-4e19-b635-c5e3a2c0275d",
   "metadata": {},
   "outputs": [],
   "source": [
    "bins = [0, 18, 35, 65, np.inf]\n",
    "names = ['<8', '18-35', '35-65', '65+']\n",
    "customer_df['age'] = customer_df['age'].map_partitions(pd.cut, bins, labels=names, meta='category')"
   ]
  },
  {
   "cell_type": "code",
   "execution_count": 5,
   "id": "3ab815fa-e4cc-4a2d-8290-f9c184b5506a",
   "metadata": {},
   "outputs": [
    {
     "data": {
      "text/html": [
       "<div>\n",
       "<style scoped>\n",
       "    .dataframe tbody tr th:only-of-type {\n",
       "        vertical-align: middle;\n",
       "    }\n",
       "\n",
       "    .dataframe tbody tr th {\n",
       "        vertical-align: top;\n",
       "    }\n",
       "\n",
       "    .dataframe thead th {\n",
       "        text-align: right;\n",
       "    }\n",
       "</style>\n",
       "<table border=\"1\" class=\"dataframe\">\n",
       "  <thead>\n",
       "    <tr style=\"text-align: right;\">\n",
       "      <th></th>\n",
       "      <th>nominative</th>\n",
       "      <th>age</th>\n",
       "      <th>sex</th>\n",
       "    </tr>\n",
       "    <tr>\n",
       "      <th>user_code</th>\n",
       "      <th></th>\n",
       "      <th></th>\n",
       "      <th></th>\n",
       "    </tr>\n",
       "  </thead>\n",
       "  <tbody>\n",
       "    <tr>\n",
       "      <th>000002CAFB3DB7477079AF19ACDC69D6826B49E4</th>\n",
       "      <td>E428B773264ACE5B2D9C118FBC2E4AD8D820DD50</td>\n",
       "      <td>35-65</td>\n",
       "      <td>F</td>\n",
       "    </tr>\n",
       "    <tr>\n",
       "      <th>00000C83D0FCC5947B3DD6B8E612FF25C76EDB97</th>\n",
       "      <td>44B19389CE0E7453950E66FD71C7D11F1E433083</td>\n",
       "      <td>35-65</td>\n",
       "      <td>M</td>\n",
       "    </tr>\n",
       "    <tr>\n",
       "      <th>00000D085C0E13D413D2E262D3DF85DF1383B580</th>\n",
       "      <td>212FAA8342D9E70648150E9EEF20A0018772715F</td>\n",
       "      <td>35-65</td>\n",
       "      <td>M</td>\n",
       "    </tr>\n",
       "    <tr>\n",
       "      <th>00000EF262B1A6AE50213B6CC0685D2569897A0A</th>\n",
       "      <td>798635B57E835CA395A89D8CECCD847693B5AA07</td>\n",
       "      <td>35-65</td>\n",
       "      <td>M</td>\n",
       "    </tr>\n",
       "    <tr>\n",
       "      <th>000010884C10C5613E326ED2FB2A163BC338E8CA</th>\n",
       "      <td>CC21E5AD1B5B937AF771C51060F812744792BB2E</td>\n",
       "      <td>65+</td>\n",
       "      <td>M</td>\n",
       "    </tr>\n",
       "  </tbody>\n",
       "</table>\n",
       "</div>"
      ],
      "text/plain": [
       "                                                                        nominative  \\\n",
       "user_code                                                                            \n",
       "000002CAFB3DB7477079AF19ACDC69D6826B49E4  E428B773264ACE5B2D9C118FBC2E4AD8D820DD50   \n",
       "00000C83D0FCC5947B3DD6B8E612FF25C76EDB97  44B19389CE0E7453950E66FD71C7D11F1E433083   \n",
       "00000D085C0E13D413D2E262D3DF85DF1383B580  212FAA8342D9E70648150E9EEF20A0018772715F   \n",
       "00000EF262B1A6AE50213B6CC0685D2569897A0A  798635B57E835CA395A89D8CECCD847693B5AA07   \n",
       "000010884C10C5613E326ED2FB2A163BC338E8CA  CC21E5AD1B5B937AF771C51060F812744792BB2E   \n",
       "\n",
       "                                            age sex  \n",
       "user_code                                            \n",
       "000002CAFB3DB7477079AF19ACDC69D6826B49E4  35-65   F  \n",
       "00000C83D0FCC5947B3DD6B8E612FF25C76EDB97  35-65   M  \n",
       "00000D085C0E13D413D2E262D3DF85DF1383B580  35-65   M  \n",
       "00000EF262B1A6AE50213B6CC0685D2569897A0A  35-65   M  \n",
       "000010884C10C5613E326ED2FB2A163BC338E8CA    65+   M  "
      ]
     },
     "execution_count": 5,
     "metadata": {},
     "output_type": "execute_result"
    }
   ],
   "source": [
    "customer_df.head()"
   ]
  },
  {
   "cell_type": "code",
   "execution_count": 23,
   "id": "25cd02f7-7184-4f34-9a5b-018fa4bef483",
   "metadata": {},
   "outputs": [
    {
     "data": {
      "text/plain": [
       "457455"
      ]
     },
     "execution_count": 23,
     "metadata": {},
     "output_type": "execute_result"
    }
   ],
   "source": [
    "nominative = customer_df['nominative'].value_counts() \n",
    "nominative[nominative > 1].shape[0].compute()"
   ]
  },
  {
   "cell_type": "code",
   "execution_count": 4,
   "id": "83542eb0-04a1-4ac3-804d-8511ad4db49b",
   "metadata": {},
   "outputs": [
    {
     "data": {
      "text/plain": [
       "nominative\n",
       "00000250B284561D278A8DA7A549C3E5E11DA3CE    1\n",
       "00001264E1715AC87C5DAEDE0C1ED7EFAF4F82C2    1\n",
       "0000189D63F9CFAB8F526BB78FA3000264EE28A9    1\n",
       "00002377B1A4FB18B82D9D1A5E90BE0A37833DCF    1\n",
       "0000248792E36C35DDD7C0A6A32BADEA529AD418    1\n",
       "Name: sex, dtype: int64"
      ]
     },
     "execution_count": 4,
     "metadata": {},
     "output_type": "execute_result"
    }
   ],
   "source": [
    "distict = customer_df.groupby(by='nominative').sex.nunique()\n",
    "distict.head()"
   ]
  },
  {
   "cell_type": "code",
   "execution_count": 6,
   "id": "8e9de9a5-fcb9-4191-9129-639cb34d12bc",
   "metadata": {},
   "outputs": [
    {
     "data": {
      "text/plain": [
       "nominative\n",
       "0003582AB7F0444AAD43C0BDF812B974B2B20816    2\n",
       "001230D06477A6AE6D6D36752DD948E24A9DA175    2\n",
       "0023AFA534F07CA71A46E5DE85A89C00F0E0FA5D    2\n",
       "002BE2CD45606C1F3776229138E44C171BC507A2    2\n",
       "003B394141E4610121EC1DEF935847A3041861E8    2\n",
       "                                           ..\n",
       "FFB4BFC6B06867CAF5341E6A7D5B4A390529F8BC    2\n",
       "FFB56A78855AED350C97CA6B05C88E441FB97FB0    2\n",
       "FFC63A448A427A9FAFDACE8377BC16B401EB6124    2\n",
       "FFD193C9CB6CA114BDA207812A93C1B8EF2C5F72    2\n",
       "FFD2063BF3E8401B0F2AEDBEDA150D8BDDF53893    2\n",
       "Name: sex, Length: 5168, dtype: int64"
      ]
     },
     "execution_count": 6,
     "metadata": {},
     "output_type": "execute_result"
    }
   ],
   "source": [
    "distict[distict > 1]"
   ]
  },
  {
   "cell_type": "markdown",
   "id": "ed164ac5-1b14-4be6-b69c-b4e92dfa4d80",
   "metadata": {},
   "source": [
    "Esistono nominativi con 2 sessi diversi "
   ]
  },
  {
   "cell_type": "code",
   "execution_count": 14,
   "id": "655da6e4-7158-4f6a-b2da-41941a6b4e24",
   "metadata": {},
   "outputs": [
    {
     "data": {
      "text/plain": [
       "user_code\n",
       "000002CAFB3DB7477079AF19ACDC69D6826B49E4    F\n",
       "00000C83D0FCC5947B3DD6B8E612FF25C76EDB97    M\n",
       "00000D085C0E13D413D2E262D3DF85DF1383B580    M\n",
       "00000EF262B1A6AE50213B6CC0685D2569897A0A    M\n",
       "000010884C10C5613E326ED2FB2A163BC338E8CA    M\n",
       "                                           ..\n",
       "FFFFF51CFB5F9F0158E10948C5029A82E5673FEF    M\n",
       "FFFFF59035840C2E183A1CAB64A628D8279DE152    F\n",
       "FFFFF808F44C503AE932F59F269201409453F812    M\n",
       "FFFFFB574FFE983350DABEEBF8E55A973173D016    F\n",
       "FFFFFB8C8BFC91DDE6F390EE5FF11EB72AF66E7A    F\n",
       "Name: sex, Length: 4027409, dtype: object"
      ]
     },
     "execution_count": 14,
     "metadata": {},
     "output_type": "execute_result"
    }
   ],
   "source": [
    "customer_df[customer_df['nominative'].isin(distict.index)]['sex']"
   ]
  },
  {
   "cell_type": "markdown",
   "id": "723bbd79-52b7-4aa3-9b16-dcb95f98d233",
   "metadata": {
    "tags": []
   },
   "source": [
    "# 5. FILTERING"
   ]
  },
  {
   "cell_type": "code",
   "execution_count": null,
   "id": "cde0b345-80fe-4b12-9092-bc1402ba246a",
   "metadata": {},
   "outputs": [],
   "source": [
    "''' \n",
    "+++++ DATA FILTERING +++++\n",
    "    • Sample rows\n",
    "    • Select a subset of rows through a user-defined query\n",
    "'''"
   ]
  },
  {
   "cell_type": "markdown",
   "id": "0cb93477-5592-41c8-af8f-81c874e40af4",
   "metadata": {
    "tags": []
   },
   "source": [
    "## Sample Rows"
   ]
  },
  {
   "cell_type": "code",
   "execution_count": 10,
   "id": "954bdb17-5f56-4d54-97aa-3774b3a1d5e5",
   "metadata": {},
   "outputs": [
    {
     "ename": "AttributeError",
     "evalue": "'BaseDfBench' object has no attribute 'sample'",
     "output_type": "error",
     "traceback": [
      "\u001b[0;31m---------------------------------------------------------------------------\u001b[0m",
      "\u001b[0;31mAttributeError\u001b[0m                            Traceback (most recent call last)",
      "\u001b[0;32m<ipython-input-10-054055d3f41a>\u001b[0m in \u001b[0;36m<module>\u001b[0;34m\u001b[0m\n\u001b[1;32m      1\u001b[0m \u001b[0;31m#Da qualche parte abbiamo la funzione per estrarre un sample dal dataset\u001b[0m\u001b[0;34m\u001b[0m\u001b[0;34m\u001b[0m\u001b[0;34m\u001b[0m\u001b[0m\n\u001b[0;32m----> 2\u001b[0;31m \u001b[0mbase\u001b[0m\u001b[0;34m.\u001b[0m\u001b[0msample\u001b[0m\u001b[0;34m(\u001b[0m\u001b[0;36m20\u001b[0m\u001b[0;34m)\u001b[0m\u001b[0;34m\u001b[0m\u001b[0;34m\u001b[0m\u001b[0m\n\u001b[0m",
      "\u001b[0;31mAttributeError\u001b[0m: 'BaseDfBench' object has no attribute 'sample'"
     ]
    }
   ],
   "source": [
    "#Da qualche parte abbiamo la funzione per estrarre un sample dal dataset\n",
    "base.sample(20)"
   ]
  },
  {
   "cell_type": "code",
   "execution_count": null,
   "id": "dd3fa848-5fa5-4ea0-9295-faf321a30926",
   "metadata": {},
   "outputs": [],
   "source": []
  },
  {
   "cell_type": "markdown",
   "id": "88a16cc1-ad11-4422-ab03-daee5416fe0b",
   "metadata": {},
   "source": [
    "## SELECT A SUBSET OF ROWS"
   ]
  },
  {
   "cell_type": "code",
   "execution_count": null,
   "id": "2de37c65-a55b-4e16-9324-235be9cfbffd",
   "metadata": {},
   "outputs": [],
   "source": [
    "#Qui potremmo usare tipo un comando per eseguire una query (func. query in base.py) sul df \n",
    "#(ritorna quanto spendono le PIVA)"
   ]
  },
  {
   "cell_type": "markdown",
   "id": "68c6e204-3d7a-49f3-8fc0-221ee6a38984",
   "metadata": {
    "tags": []
   },
   "source": [
    "# 6. CLEANING"
   ]
  },
  {
   "cell_type": "code",
   "execution_count": null,
   "id": "8000e0ea-4ac8-4fae-842b-be1c17b7c02f",
   "metadata": {},
   "outputs": [],
   "source": [
    "''' \n",
    "+++++ DATA CLEANING +++++\n",
    "    • Change data format and case\n",
    "    • Deduplicate data\n",
    "    • Missing value imputation\n",
    "    • Find and replace values\n",
    "'''"
   ]
  },
  {
   "cell_type": "code",
   "execution_count": null,
   "id": "e21bfef2-48af-430b-b4fa-59473ee7c618",
   "metadata": {},
   "outputs": [],
   "source": [
    "# CHANGE DATA FORMAT AND CASE\n",
    "# change data format già fatto sopra\n",
    "# case pure se vogliamo aver fatto tutto per bene (dove è da fare?)"
   ]
  },
  {
   "cell_type": "code",
   "execution_count": null,
   "id": "bdda4834-40c3-4f27-b8ea-38e08c763753",
   "metadata": {},
   "outputs": [],
   "source": []
  },
  {
   "cell_type": "code",
   "execution_count": null,
   "id": "cb4ba56f-9a7d-4a93-858b-e52c837a0a71",
   "metadata": {},
   "outputs": [],
   "source": [
    "# DEDUPLICATE DATA\n",
    "# controllo se ho più bollette uguali dello stesso cliente\n",
    "# lo abbiamo iniziato a fare anche questo sopra, credo basti"
   ]
  },
  {
   "cell_type": "code",
   "execution_count": null,
   "id": "c4a2e155-cbc3-4242-ac59-cb17b721a6d5",
   "metadata": {},
   "outputs": [],
   "source": [
    "# MISSING VALUE IMPUTATION\n",
    "# qua fornirei solo delle possibilità su come trattare i NaN a seconda delle colonne (tipo in billing_frequency,\n",
    "# eventuali Nan potrebbero essere calcolati facendo end_date - start_date)"
   ]
  },
  {
   "cell_type": "code",
   "execution_count": null,
   "id": "ffe383a1-6d2f-4557-87d2-832b7dae0d42",
   "metadata": {},
   "outputs": [],
   "source": []
  },
  {
   "cell_type": "code",
   "execution_count": null,
   "id": "0d97dcb2-0978-4500-afdd-9917976d5b08",
   "metadata": {},
   "outputs": [],
   "source": [
    "# FIND AND REPLACE VALUES\n",
    "# farei finta di niente, non mi viene in mente nulla"
   ]
  },
  {
   "cell_type": "code",
   "execution_count": null,
   "id": "16baafbf-d295-490a-875f-c0d05456d79e",
   "metadata": {},
   "outputs": [],
   "source": []
  }
 ],
 "metadata": {
  "kernelspec": {
   "display_name": "Python 3",
   "language": "python",
   "name": "python3"
  },
  "language_info": {
   "codemirror_mode": {
    "name": "ipython",
    "version": 3
   },
   "file_extension": ".py",
   "mimetype": "text/x-python",
   "name": "python",
   "nbconvert_exporter": "python",
   "pygments_lexer": "ipython3",
   "version": "3.7.12"
  }
 },
 "nbformat": 4,
 "nbformat_minor": 5
}
