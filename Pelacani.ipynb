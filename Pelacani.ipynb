{
 "cells": [
  {
   "cell_type": "markdown",
   "id": "dbb5d664-be27-4087-b135-28c1c58b6883",
   "metadata": {
    "jp-MarkdownHeadingCollapsed": true,
    "tags": []
   },
   "source": [
    "# FUNZIONI DASK_CUDF CHE NON VANNO (PER FARE CONFRONTO)"
   ]
  },
  {
   "cell_type": "markdown",
   "id": "2362c796-ec3d-42ed-be99-91c4d8a43c4a",
   "metadata": {
    "tags": []
   },
   "source": [
    "## Questa è la sezione da portare per far vedere i limiti di dask_cudf"
   ]
  },
  {
   "cell_type": "markdown",
   "id": "4f4fa7d6-3173-4d32-a5c3-b6c4d848391b",
   "metadata": {
    "jp-MarkdownHeadingCollapsed": true,
    "tags": []
   },
   "source": [
    "### Conversione colonna da stringa a datetime"
   ]
  },
  {
   "cell_type": "markdown",
   "id": "ed955ae5-dfed-44ed-80fb-5783e93cbb1a",
   "metadata": {},
   "source": [
    "Errore che restituisce:\n",
    "\"TypeError: Implicit conversion to a host NumPy array via __array__ is not allowed, To explicitly construct a GPU matrix, consider using .to_cupy()\n",
    "To explicitly construct a host matrix, consider using .to_numpy().\""
   ]
  },
  {
   "cell_type": "code",
   "execution_count": null,
   "id": "48c9143a-7b43-4333-bf5a-b335311f840a",
   "metadata": {},
   "outputs": [],
   "source": [
    "#CONVERSIONE COLONNE SU DASK_CUDF \n",
    "mesi = {\n",
    "    'gennaio': '01',\n",
    "    'febbraio': '02',\n",
    "    'marzo' : '03',\n",
    "    'aprile': '04',\n",
    "    'maggio': '05',\n",
    "    'giugno': '06',\n",
    "    'luglio': '07',\n",
    "    'agosto': '08',\n",
    "    'settembre': '09',\n",
    "    'ottobre': '10',\n",
    "    'novembre': '11',\n",
    "    'dicembre': '12',\n",
    "}\n",
    "cols = {\n",
    "    0:'day',\n",
    "    1:'month',\n",
    "    2:'year'\n",
    "}\n",
    "a = base.split('gas_start_date', 2)\n",
    "a = a.rename(columns=cols)\n",
    "a['month'] = a['month'].str.lower().map(mesi)\n",
    "dd.to_datetime(a).head()"
   ]
  },
  {
   "cell_type": "markdown",
   "id": "991905c6-c6c2-4149-9a89-24b036c282fe",
   "metadata": {
    "tags": []
   },
   "source": [
    "### Conversione colonna da stringa in formato \"1,22 unita_misura\" a float"
   ]
  },
  {
   "cell_type": "code",
   "execution_count": null,
   "id": "ea098b30-378d-438e-967c-ed9ce6c76cdf",
   "metadata": {},
   "outputs": [],
   "source": [
    "#Ottenere unità di misura\n",
    "misure = base.split('average_gas_bill_cost', 1)[1].value_counts().index.compute()[0]\n",
    "#rimozione unità di misura\n",
    "base.strip(['average_gas_bill_cost'], '€/smc')['average_gas_bill_cost']\n",
    "#sostituzione della , con .\n",
    "base.replace(['average_gas_bill_cost'], ',', '.', regex=True)['average_gas_bill_cost']"
   ]
  },
  {
   "cell_type": "markdown",
   "id": "01e6c1c5-e0bc-4e35-bbfd-108507fba2aa",
   "metadata": {},
   "source": [
    "#### Le operazioni preliminari vanno a buon fine, qua si aprono più scenari (fallimentari)"
   ]
  },
  {
   "cell_type": "markdown",
   "id": "3ce3f032-062e-40c6-9f2f-1f332b983483",
   "metadata": {
    "jp-MarkdownHeadingCollapsed": true,
    "tags": []
   },
   "source": [
    "questa soluzione è quella corretta su dask normale, utilizzando dask_cudf però genera un errore dovuto alla conversione implicita di un array in un numpy array, cosa non fattibile all'interno della GPU quindi consiglia di costruire esplicitamente una matrice tramite Cupy (Cuda Python) ma queste sono operazioni interne alla libreria"
   ]
  },
  {
   "cell_type": "code",
   "execution_count": null,
   "id": "aa469693-7f56-4ef8-b666-fdfd88ea52dd",
   "metadata": {},
   "outputs": [],
   "source": [
    "dd.to_numeric(base.get_df()['average_gas_bill_cost'])\n",
    " "
   ]
  },
  {
   "cell_type": "markdown",
   "id": "cc229661-d947-44e5-a36d-3b343c4aeba3",
   "metadata": {},
   "source": [
    "Qua da 2 diverse tipologie di errori: una dovuta ai metadati e l'altra alla presenza di valori non convertibili, anche togliedo tutti i valori nan con [~base['average_gas_bill_cost'].isna()] la situazione non cambia"
   ]
  },
  {
   "cell_type": "code",
   "execution_count": null,
   "id": "06b38d04-6dfb-4514-a9f9-61c861eb06b1",
   "metadata": {},
   "outputs": [],
   "source": [
    "base.get_df()['average_gas_bill_cost'].map_partitions(cudf.to_numeric, 'raise')"
   ]
  },
  {
   "cell_type": "markdown",
   "id": "c0ed19a8-c3a2-48a6-822c-eb89bbf08faa",
   "metadata": {
    "jp-MarkdownHeadingCollapsed": true,
    "tags": []
   },
   "source": [
    "# Pipeline"
   ]
  },
  {
   "cell_type": "code",
   "execution_count": null,
   "id": "913e94e4-2957-4530-b39f-42e148900131",
   "metadata": {},
   "outputs": [],
   "source": [
    "''' \n",
    "+++++ UTILITY ATTRIBUTES +++++\n",
    "    \n",
    "    user_code --> String --> (Anonymized) code for the customer that owns this utility\n",
    "    customer_code --> String --> Combined with user_code provides a unique identifier for the utility. Even this field is anonymized\n",
    "    city --> String --> City where the utility is located\n",
    "    address --> String --> (Anonymized) address of the utility location\n",
    "'''"
   ]
  },
  {
   "cell_type": "code",
   "execution_count": null,
   "id": "85cf4241-0bc3-403d-8448-ac39e63c2d54",
   "metadata": {},
   "outputs": [],
   "source": [
    "''' \n",
    "+++++ CUSTOMER ATTRIBUTES +++++\n",
    "    \n",
    "    user_code --> String --> (Anonymized) code that identifies the customer\n",
    "    nominative --> String --> (Anonymized) customer name\n",
    "    sex --> String --> Sex of the customer. It could be ‘M’, ‘F’, ‘P’, with ‘P’ denoting that the customer is a commercial activity (VAT number)\n",
    "    age --> Int --> Age of the customer, set to null for commercial activities (sex = ‘P’). Its value must be >= 18\n",
    "'''"
   ]
  },
  {
   "cell_type": "code",
   "execution_count": null,
   "id": "437bd361-c8b2-4cc8-b518-0bb50fddaa89",
   "metadata": {},
   "outputs": [],
   "source": [
    "''' \n",
    "+++++ INVOICE ATTRIBUTES +++++\n",
    "    \n",
    "    bill_id --> Int --> Invoice identifier\n",
    "    F1_kWh --> Float --> kWh of electricity consumed in the F1 time slot\n",
    "    F2_kWh --> Float --> kWh of electricity consumed in the F2 time slot\n",
    "    F3_kWh --> Float --> kWh of electricity consumed in the F3 time slot \n",
    "    date --> Date --> Start date\n",
    "    light_start_date --> Date --> Start date of electricity invoice\n",
    "    light_end_date --> Date --> End date of electricity invoice\n",
    "    tv --> Float --> Television fee to pay\n",
    "    gas_amount --> Float --> Gas fee to pay\n",
    "    gas_average_cost --> Float --> Average cost of gas\n",
    "    light_average_cost --> Float --> Average cost of electricity\n",
    "    emission_date --> Date --> Emission date\n",
    "    supply_type --> String --> Supply type (‘light’, ‘gas’, ‘gas and light’)\n",
    "    gas_start_date --> Date --> Start date of gas invoice\n",
    "    gas_end_date --> Date --> End date of gas invoice\n",
    "    extra_fees --> Float --> Extra fees to pay\n",
    "    gas_consumption --> Float --> Consumed gas\n",
    "    light_consumption --> Float --> Consumed electricity\n",
    "    gas_offer --> Float --> Name of the subscribed gas plan (anonymized)\n",
    "    light_offer_type --> String --> Kind of plan for the electricity (‘single zone’, ‘bizone’, etc.)\n",
    "    light_offer --> String --> Name of the subscribed electricity plan (anonymized)\n",
    "    total_amount --> Float --> gas_amount + light_amount + extra_fees\n",
    "    howmuch_pay --> Float --> Overall amount to pay, computed as total_amount + tv\n",
    "    light_amount --> Float --> Amount to pay for the electricity\n",
    "    average_unit_light_cost --> Float --> Average cost for electricity\n",
    "    average_light_bill_cost --> Float --> Average cost for the electricity invoice\n",
    "    average_unit_gas_cost --> Float --> Average cost for gas\n",
    "    average_gas_bill_cost --> Float --> Average cost for the gas invoice\n",
    "    billing_frequency --> String --> Billing frequency (‘monthly’, ‘quarterly’, etc.)\n",
    "    bill_type --> String --> Kind of invoice (False means a “standard bill”)\n",
    "    gas_system_charges --> Float --> Extra gas fees\n",
    "    light_system_charges --> Float --> Extra electricity fees\n",
    "    gas_material_cost --> Float --> Costs for gas\n",
    "    light_transport_cost --> Float --> Extra electricity fees\n",
    "    gas_transport_cost --> Float --> Extra gas fees\n",
    "    light_material_cost --> Float --> Costs for electricity\n",
    "'''"
   ]
  },
  {
   "cell_type": "code",
   "execution_count": null,
   "id": "421de43f-f87a-4e4e-be7d-eaf78e120993",
   "metadata": {},
   "outputs": [],
   "source": [
    "''' \n",
    "+++++ DATA INGESTION +++++\n",
    "    • Read data from its source\n",
    "    • Study how to deal with data that doesn’t fit in memory (!) --> Da chiede a Gagliardelli\n",
    "    • Locate missing values\n",
    "    • Locate outliers\n",
    "    • Sort data\n",
    "'''"
   ]
  },
  {
   "cell_type": "markdown",
   "id": "4d02f1af-6897-4698-8740-5af95934734b",
   "metadata": {
    "tags": []
   },
   "source": [
    "# Loading Dataset"
   ]
  },
  {
   "cell_type": "code",
   "execution_count": 1,
   "id": "91dc8a36-dbef-4fdd-9403-d17c9715230e",
   "metadata": {
    "tags": []
   },
   "outputs": [],
   "source": [
    "import dask_cudf as dc\n",
    "import dask.dataframe as dd\n",
    "import dask.array as da\n",
    "from dask_cuda import LocalCUDACluster\n",
    "from dask.distributed import Client\n",
    "import cudf\n",
    "import numpy as np\n",
    "#import graphviz\n",
    "from base_dask_cudf import BaseDfBench\n",
    "base = BaseDfBench(\"DASK\")\n",
    "# base = BaseDfBench()"
   ]
  },
  {
   "cell_type": "code",
   "execution_count": 2,
   "id": "c541eab2-0865-407d-9257-34a4bf3d9784",
   "metadata": {},
   "outputs": [
    {
     "data": {
      "text/plain": [
       "57"
      ]
     },
     "execution_count": 2,
     "metadata": {},
     "output_type": "execute_result"
    }
   ],
   "source": [
    "# READ DATA FROM ITS SOURCE\n",
    "# --- remove _sample one day\n",
    "\n",
    "# We can use bill_id as the index for our dataset --> meglio di no\n",
    "# base.load_dataset('/data/invoices_sample.csv', 'csv', index_col='bill_id')\n",
    "\n",
    "# Uncomment the line under this one to load the pre-converted dataset\n",
    "base.load_dataset('parquet', path='data/mod_parquet')\n",
    "# base.load_dataset('parquet')\n",
    "df = base.get_df()\n",
    "columns = base.get_columns()\n",
    "base.npartitions()"
   ]
  },
  {
   "cell_type": "code",
   "execution_count": 3,
   "id": "2a81c12d-a5b8-4d47-9b04-2da4908503c6",
   "metadata": {},
   "outputs": [
    {
     "data": {
      "text/plain": [
       "10497143"
      ]
     },
     "execution_count": 3,
     "metadata": {},
     "output_type": "execute_result"
    }
   ],
   "source": [
    "# Dataset's rows\n",
    "# I commented the real computation because it takes a lot of time\n",
    "# dataset_rows = base.get_df().shape[0].compute()\n",
    "dataset_rows = 10497143\n",
    "dataset_rows"
   ]
  },
  {
   "cell_type": "code",
   "execution_count": null,
   "id": "5c7059fb-8aad-4a56-a2ef-33d086731d3f",
   "metadata": {},
   "outputs": [],
   "source": [
    "#verica di user_code+customer_code = PK utility\n",
    "#PK customer = user_code\n",
    "#PK invoice = bill_id\n",
    "df.groupby(by=['user_code', 'customer_code'])['bill_id'].count().compute()"
   ]
  },
  {
   "cell_type": "markdown",
   "id": "49886f2a-ae2e-4382-b4db-2dcabc1a1c0e",
   "metadata": {
    "tags": []
   },
   "source": [
    "## Load big Dataset"
   ]
  },
  {
   "cell_type": "code",
   "execution_count": null,
   "id": "858a44dd-5698-43c0-9940-eb2c256f7416",
   "metadata": {},
   "outputs": [],
   "source": [
    "# STUDY HOW TO DEAL WITH DATA THAT DON'T FIT IN MEMORY (!)\n",
    "# Bella storia\n",
    "!du -sh '/data/invoices_sample.csv'"
   ]
  },
  {
   "cell_type": "code",
   "execution_count": null,
   "id": "8ab296dd-b721-44d5-be76-e2e6bc7d44ce",
   "metadata": {},
   "outputs": [],
   "source": [
    "from dask.distributed import Client, wait\n",
    "from dask_cuda import LocalCUDACluster\n",
    "from dask.utils import parse_bytes\n",
    "import cudf\n",
    "import dask_cudf"
   ]
  },
  {
   "cell_type": "code",
   "execution_count": null,
   "id": "a29b6a29-38f0-4e78-9211-72b48c425cf5",
   "metadata": {},
   "outputs": [],
   "source": [
    "cluster = LocalCUDACluster(\n",
    "    CUDA_VISIBLE_DEVICES=\"0\",\n",
    "    rmm_pool_size=parse_bytes(\"15GB\"), # This GPU has 16GB of memory\n",
    "    device_memory_limit=parse_bytes(\"10GB\"),\n",
    ")\n",
    "client = Client(cluster)\n",
    "client"
   ]
  },
  {
   "cell_type": "code",
   "execution_count": null,
   "id": "3ce51a64-f588-40da-9387-9ada4da19d37",
   "metadata": {},
   "outputs": [],
   "source": [
    "%%time\n",
    "ddf = dask_cudf.read_csv(\"/data/invoices.csv\", chunksize=\"1 GiB\")\n",
    "print(f\"DF partitions: {ddf.npartitions}\")\n",
    "print(f\"DF: {ddf}\")"
   ]
  },
  {
   "cell_type": "markdown",
   "id": "fa119218-0ad3-4249-b424-10950063e880",
   "metadata": {
    "tags": []
   },
   "source": [
    "# UTILS"
   ]
  },
  {
   "cell_type": "code",
   "execution_count": 15,
   "id": "43b1cefa-6ab4-4f90-98e8-f3883030cc2d",
   "metadata": {},
   "outputs": [],
   "source": [
    "# CONVERTING ALL THE STRING COLUMNS TO OBJECT COLUMN\n",
    "# THIS BECAUSE STRING COLUMNS CAUSE A LOT OF ERRORS WHEN PROCESSED AS STRINGS\n",
    "for k,v in base.get_columns_types().items():\n",
    "    if v == 'string':\n",
    "        base[k] = base[k].astype('object')\n",
    "    elif v == 'Float64':\n",
    "        base[k] = base[k].astype('float')"
   ]
  },
  {
   "cell_type": "code",
   "execution_count": 14,
   "id": "950b3e12-4bc2-494a-8a4c-9d888f6312ec",
   "metadata": {},
   "outputs": [],
   "source": [
    "# Seguendo il GroundTruth mystico\n",
    "mappone = {'bill_id': 'int64',\n",
    " 'F1_kWh': 'float64',\n",
    " 'F2_kWh': 'float64',\n",
    " 'F3_kWh': 'float64',\n",
    " 'city': 'object',\n",
    " 'address': 'object',\n",
    " 'nominative': 'object',\n",
    " 'sex': 'object',\n",
    " 'age': 'int64',\n",
    " 'user_code': 'object',\n",
    " 'date': 'datetime64[ns]',\n",
    " 'light_start_date': 'datetime64[ns]',\n",
    " 'light_end_date': 'datetime64[ns]',\n",
    " 'tv': 'float64',\n",
    " 'gas_amount': 'float64',\n",
    " 'gas_average_cost': 'float64',\n",
    " 'light_average_cost': 'float64',\n",
    " 'emission_date': 'datetime64[ns]',\n",
    " 'supply_type': 'object',\n",
    " 'gas_start_date': 'datetime64[ns]',\n",
    " 'gas_end_date': 'datetime64[ns]',\n",
    " 'extra_fees': 'float64',\n",
    " 'gas_consumption': 'float64',\n",
    " 'light_consumption': 'float64',\n",
    " 'gas_offer': 'float64',\n",
    " 'light_offer_type': 'object',\n",
    " 'light_offer': 'object',\n",
    " 'howmuch_pay': 'float64',\n",
    " 'total_amount': 'float64',\n",
    " 'light_amount': 'float64',\n",
    " 'average_unit_light_cost': 'float64',\n",
    " 'average_light_bill_cost': 'float64',\n",
    " 'average_unit_gas_cost': 'float64',\n",
    " 'average_gas_bill_cost': 'float64',\n",
    " 'customer_code': 'object',\n",
    " 'billing_frequency': 'object',\n",
    " 'bill_type': 'object',\n",
    " 'gas_system_charges': 'float64',\n",
    " 'light_system_charges': 'float64',\n",
    " 'gas_material_cost': 'float64',\n",
    " 'light_transport_cost': 'float64',\n",
    " 'gas_transport_cost': 'float64',\n",
    " 'light_material_cost': 'float64'\n",
    "}"
   ]
  },
  {
   "cell_type": "code",
   "execution_count": 15,
   "id": "20f8629c-d1f9-4295-ad56-d164a67eaf29",
   "metadata": {},
   "outputs": [
    {
     "name": "stdout",
     "output_type": "stream",
     "text": [
      "mismatch in tv with values: object, float64\n",
      "mismatch in extra_fees with values: object, float64\n",
      "mismatch in gas_offer with values: uint64, float64\n"
     ]
    }
   ],
   "source": [
    "#Check sui tipi di dato attuali\n",
    "type_dict = base.get_columns_types()\n",
    "for k,v in type_dict.items():\n",
    "    if v != mappone[k]:\n",
    "        print(f'mismatch in {k} with values: {v}, {mappone[k]}')"
   ]
  },
  {
   "cell_type": "code",
   "execution_count": 6,
   "id": "bb340081-e462-46cd-bf4b-49dec57566ab",
   "metadata": {},
   "outputs": [],
   "source": [
    "# Trovare le tipologie di colonne a seconda della tipologia\n",
    "int_cols = base.col_type(find=['int'])\n",
    "string_cols = base.col_type(find=['string']) #object\n",
    "float_cols = base.col_type(find=['float'])\n",
    "numeric_cols = base.col_type(find=['numeric'])\n",
    "date_cols = base.col_type(find=['date'])"
   ]
  },
  {
   "cell_type": "markdown",
   "id": "4b34b3ff-2db1-4b25-b6a9-e5b918461d24",
   "metadata": {
    "tags": []
   },
   "source": [
    "# Convert Columns"
   ]
  },
  {
   "cell_type": "markdown",
   "id": "c1167330-b313-44dd-90c5-6290c85584fc",
   "metadata": {
    "tags": []
   },
   "source": [
    "## Da portare"
   ]
  },
  {
   "cell_type": "code",
   "execution_count": null,
   "id": "8bac1f7e-349e-4ae2-9618-1abfaa0e6daf",
   "metadata": {},
   "outputs": [],
   "source": [
    "# DONE gas_amount, howmuch_pay, total_amount, light_amount to float\n",
    "# DONE gas_average_col, gas_offer, average_unit_light_cost, average_light_bill_cost, average_unit_gas_cost, average_gas_bill_cost deve essere float non int, basta un astype()\n",
    "# light_offer è segnato come string perché dovrebbe essere un nome ma nel dataset è un int (what)\n",
    "# il caso light_offer risolto: in teoria è str ma in pratica è stato anonimizzato, provo il cast to string"
   ]
  },
  {
   "cell_type": "code",
   "execution_count": 6,
   "id": "f1a9b19d-53d9-43bf-9230-2140efd5e169",
   "metadata": {},
   "outputs": [],
   "source": [
    "base['light_offer'] = base['light_offer'].astype(str)"
   ]
  },
  {
   "cell_type": "code",
   "execution_count": 9,
   "id": "257893b1-c9b9-4755-97f0-3769e17db46a",
   "metadata": {},
   "outputs": [
    {
     "data": {
      "text/plain": [
       "28"
      ]
     },
     "execution_count": 9,
     "metadata": {},
     "output_type": "execute_result"
    }
   ],
   "source": [
    "len(base.col_type('string'))"
   ]
  },
  {
   "cell_type": "markdown",
   "id": "095876be-4447-469f-9176-797bd832ce86",
   "metadata": {
    "tags": []
   },
   "source": [
    "### Date conversion"
   ]
  },
  {
   "cell_type": "code",
   "execution_count": 10,
   "id": "10349199-c1fc-4635-92ad-22cab1c90401",
   "metadata": {},
   "outputs": [
    {
     "name": "stdout",
     "output_type": "stream",
     "text": [
      "columns to convert to date: ['date', 'light_start_date', 'light_end_date', 'emission_date', 'gas_start_date', 'gas_end_date']\n",
      "date object\n",
      "light_start_date object\n",
      "light_end_date object\n",
      "emission_date object\n",
      "gas_start_date object\n",
      "gas_end_date object\n"
     ]
    }
   ],
   "source": [
    "#CONVERSIONE COLONNE SU DASK_CUDF \n",
    "mesi = {\n",
    "    'gennaio': '01',\n",
    "    'febbraio': '02',\n",
    "    'marzo' : '03',\n",
    "    'aprile': '04',\n",
    "    'maggio': '05',\n",
    "    'giugno': '06',\n",
    "    'luglio': '07',\n",
    "    'agosto': '08',\n",
    "    'settembre': '09',\n",
    "    'ottobre': '10',\n",
    "    'novembre': '11',\n",
    "    'dicembre': '12',\n",
    "}\n",
    "cols = {\n",
    "    0:'day',\n",
    "    1:'month',\n",
    "    2:'year'\n",
    "}\n",
    "#finding columns with date keyword\n",
    "date_cols = []\n",
    "for c in df.columns:\n",
    "    # print(base[c].dtype)\n",
    "    if 'date' in c.split('_') and base[c].dtype != 'datetime64[ns]':\n",
    "        date_cols.append(c)\n",
    "\n",
    "print(f'columns to convert to date: {date_cols}')\n",
    "#converting these columns\n",
    "for c in date_cols:\n",
    "\n",
    "    print(c , df[c].dtype)\n",
    "    \n",
    "    a = base.split(c, 2)\n",
    "    a = a.rename(columns=cols)\n",
    "    a['month'] = a['month'].str.lower().map(mesi)\n",
    "    base.get_df()[c] = dd.to_datetime(a, format=\"%d/%m/%Y\")\n",
    "    # print(a.head())\n",
    "    \n",
    "    #df[c] = base.split(c, 2)\n",
    "    \n",
    "    # print(base[c].head())"
   ]
  },
  {
   "cell_type": "code",
   "execution_count": 13,
   "id": "7c22d2cf-558a-47f1-a239-fb852ac90615",
   "metadata": {},
   "outputs": [
    {
     "data": {
      "text/html": [
       "<div><strong>Dask DataFrame Structure:</strong></div>\n",
       "<div>\n",
       "<style scoped>\n",
       "    .dataframe tbody tr th:only-of-type {\n",
       "        vertical-align: middle;\n",
       "    }\n",
       "\n",
       "    .dataframe tbody tr th {\n",
       "        vertical-align: top;\n",
       "    }\n",
       "\n",
       "    .dataframe thead th {\n",
       "        text-align: right;\n",
       "    }\n",
       "</style>\n",
       "<table border=\"1\" class=\"dataframe\">\n",
       "  <thead>\n",
       "    <tr style=\"text-align: right;\">\n",
       "      <th></th>\n",
       "      <th>bill_id</th>\n",
       "      <th>F1_kWh</th>\n",
       "      <th>F2_kWh</th>\n",
       "      <th>F3_kWh</th>\n",
       "      <th>city</th>\n",
       "      <th>address</th>\n",
       "      <th>nominative</th>\n",
       "      <th>sex</th>\n",
       "      <th>age</th>\n",
       "      <th>user_code</th>\n",
       "      <th>date</th>\n",
       "      <th>light_start_date</th>\n",
       "      <th>light_end_date</th>\n",
       "      <th>tv</th>\n",
       "      <th>gas_amount</th>\n",
       "      <th>gas_average_cost</th>\n",
       "      <th>light_average_cost</th>\n",
       "      <th>emission_date</th>\n",
       "      <th>supply_type</th>\n",
       "      <th>gas_start_date</th>\n",
       "      <th>gas_end_date</th>\n",
       "      <th>extra_fees</th>\n",
       "      <th>gas_consumption</th>\n",
       "      <th>light_consumption</th>\n",
       "      <th>gas_offer</th>\n",
       "      <th>light_offer_type</th>\n",
       "      <th>light_offer</th>\n",
       "      <th>howmuch_pay</th>\n",
       "      <th>total_amount</th>\n",
       "      <th>light_amount</th>\n",
       "      <th>average_unit_light_cost</th>\n",
       "      <th>average_light_bill_cost</th>\n",
       "      <th>average_unit_gas_cost</th>\n",
       "      <th>average_gas_bill_cost</th>\n",
       "      <th>customer_code</th>\n",
       "      <th>billing_frequency</th>\n",
       "      <th>bill_type</th>\n",
       "      <th>gas_system_charges</th>\n",
       "      <th>light_system_charges</th>\n",
       "      <th>gas_material_cost</th>\n",
       "      <th>light_transport_cost</th>\n",
       "      <th>gas_transport_cost</th>\n",
       "      <th>light_material_cost</th>\n",
       "    </tr>\n",
       "    <tr>\n",
       "      <th>npartitions=57</th>\n",
       "      <th></th>\n",
       "      <th></th>\n",
       "      <th></th>\n",
       "      <th></th>\n",
       "      <th></th>\n",
       "      <th></th>\n",
       "      <th></th>\n",
       "      <th></th>\n",
       "      <th></th>\n",
       "      <th></th>\n",
       "      <th></th>\n",
       "      <th></th>\n",
       "      <th></th>\n",
       "      <th></th>\n",
       "      <th></th>\n",
       "      <th></th>\n",
       "      <th></th>\n",
       "      <th></th>\n",
       "      <th></th>\n",
       "      <th></th>\n",
       "      <th></th>\n",
       "      <th></th>\n",
       "      <th></th>\n",
       "      <th></th>\n",
       "      <th></th>\n",
       "      <th></th>\n",
       "      <th></th>\n",
       "      <th></th>\n",
       "      <th></th>\n",
       "      <th></th>\n",
       "      <th></th>\n",
       "      <th></th>\n",
       "      <th></th>\n",
       "      <th></th>\n",
       "      <th></th>\n",
       "      <th></th>\n",
       "      <th></th>\n",
       "      <th></th>\n",
       "      <th></th>\n",
       "      <th></th>\n",
       "      <th></th>\n",
       "      <th></th>\n",
       "      <th></th>\n",
       "    </tr>\n",
       "  </thead>\n",
       "  <tbody>\n",
       "    <tr>\n",
       "      <th></th>\n",
       "      <td>int64</td>\n",
       "      <td>Float64</td>\n",
       "      <td>Float64</td>\n",
       "      <td>Float64</td>\n",
       "      <td>object</td>\n",
       "      <td>object</td>\n",
       "      <td>object</td>\n",
       "      <td>object</td>\n",
       "      <td>int64</td>\n",
       "      <td>object</td>\n",
       "      <td>datetime64[ns]</td>\n",
       "      <td>datetime64[ns]</td>\n",
       "      <td>datetime64[ns]</td>\n",
       "      <td>object</td>\n",
       "      <td>object</td>\n",
       "      <td>object</td>\n",
       "      <td>Float64</td>\n",
       "      <td>datetime64[ns]</td>\n",
       "      <td>object</td>\n",
       "      <td>datetime64[ns]</td>\n",
       "      <td>datetime64[ns]</td>\n",
       "      <td>object</td>\n",
       "      <td>Float64</td>\n",
       "      <td>Float64</td>\n",
       "      <td>uint64</td>\n",
       "      <td>object</td>\n",
       "      <td>object</td>\n",
       "      <td>object</td>\n",
       "      <td>object</td>\n",
       "      <td>object</td>\n",
       "      <td>object</td>\n",
       "      <td>object</td>\n",
       "      <td>object</td>\n",
       "      <td>object</td>\n",
       "      <td>object</td>\n",
       "      <td>object</td>\n",
       "      <td>object</td>\n",
       "      <td>Float64</td>\n",
       "      <td>Float64</td>\n",
       "      <td>Float64</td>\n",
       "      <td>Float64</td>\n",
       "      <td>Float64</td>\n",
       "      <td>Float64</td>\n",
       "    </tr>\n",
       "    <tr>\n",
       "      <th></th>\n",
       "      <td>...</td>\n",
       "      <td>...</td>\n",
       "      <td>...</td>\n",
       "      <td>...</td>\n",
       "      <td>...</td>\n",
       "      <td>...</td>\n",
       "      <td>...</td>\n",
       "      <td>...</td>\n",
       "      <td>...</td>\n",
       "      <td>...</td>\n",
       "      <td>...</td>\n",
       "      <td>...</td>\n",
       "      <td>...</td>\n",
       "      <td>...</td>\n",
       "      <td>...</td>\n",
       "      <td>...</td>\n",
       "      <td>...</td>\n",
       "      <td>...</td>\n",
       "      <td>...</td>\n",
       "      <td>...</td>\n",
       "      <td>...</td>\n",
       "      <td>...</td>\n",
       "      <td>...</td>\n",
       "      <td>...</td>\n",
       "      <td>...</td>\n",
       "      <td>...</td>\n",
       "      <td>...</td>\n",
       "      <td>...</td>\n",
       "      <td>...</td>\n",
       "      <td>...</td>\n",
       "      <td>...</td>\n",
       "      <td>...</td>\n",
       "      <td>...</td>\n",
       "      <td>...</td>\n",
       "      <td>...</td>\n",
       "      <td>...</td>\n",
       "      <td>...</td>\n",
       "      <td>...</td>\n",
       "      <td>...</td>\n",
       "      <td>...</td>\n",
       "      <td>...</td>\n",
       "      <td>...</td>\n",
       "      <td>...</td>\n",
       "    </tr>\n",
       "    <tr>\n",
       "      <th>...</th>\n",
       "      <td>...</td>\n",
       "      <td>...</td>\n",
       "      <td>...</td>\n",
       "      <td>...</td>\n",
       "      <td>...</td>\n",
       "      <td>...</td>\n",
       "      <td>...</td>\n",
       "      <td>...</td>\n",
       "      <td>...</td>\n",
       "      <td>...</td>\n",
       "      <td>...</td>\n",
       "      <td>...</td>\n",
       "      <td>...</td>\n",
       "      <td>...</td>\n",
       "      <td>...</td>\n",
       "      <td>...</td>\n",
       "      <td>...</td>\n",
       "      <td>...</td>\n",
       "      <td>...</td>\n",
       "      <td>...</td>\n",
       "      <td>...</td>\n",
       "      <td>...</td>\n",
       "      <td>...</td>\n",
       "      <td>...</td>\n",
       "      <td>...</td>\n",
       "      <td>...</td>\n",
       "      <td>...</td>\n",
       "      <td>...</td>\n",
       "      <td>...</td>\n",
       "      <td>...</td>\n",
       "      <td>...</td>\n",
       "      <td>...</td>\n",
       "      <td>...</td>\n",
       "      <td>...</td>\n",
       "      <td>...</td>\n",
       "      <td>...</td>\n",
       "      <td>...</td>\n",
       "      <td>...</td>\n",
       "      <td>...</td>\n",
       "      <td>...</td>\n",
       "      <td>...</td>\n",
       "      <td>...</td>\n",
       "      <td>...</td>\n",
       "    </tr>\n",
       "    <tr>\n",
       "      <th></th>\n",
       "      <td>...</td>\n",
       "      <td>...</td>\n",
       "      <td>...</td>\n",
       "      <td>...</td>\n",
       "      <td>...</td>\n",
       "      <td>...</td>\n",
       "      <td>...</td>\n",
       "      <td>...</td>\n",
       "      <td>...</td>\n",
       "      <td>...</td>\n",
       "      <td>...</td>\n",
       "      <td>...</td>\n",
       "      <td>...</td>\n",
       "      <td>...</td>\n",
       "      <td>...</td>\n",
       "      <td>...</td>\n",
       "      <td>...</td>\n",
       "      <td>...</td>\n",
       "      <td>...</td>\n",
       "      <td>...</td>\n",
       "      <td>...</td>\n",
       "      <td>...</td>\n",
       "      <td>...</td>\n",
       "      <td>...</td>\n",
       "      <td>...</td>\n",
       "      <td>...</td>\n",
       "      <td>...</td>\n",
       "      <td>...</td>\n",
       "      <td>...</td>\n",
       "      <td>...</td>\n",
       "      <td>...</td>\n",
       "      <td>...</td>\n",
       "      <td>...</td>\n",
       "      <td>...</td>\n",
       "      <td>...</td>\n",
       "      <td>...</td>\n",
       "      <td>...</td>\n",
       "      <td>...</td>\n",
       "      <td>...</td>\n",
       "      <td>...</td>\n",
       "      <td>...</td>\n",
       "      <td>...</td>\n",
       "      <td>...</td>\n",
       "    </tr>\n",
       "    <tr>\n",
       "      <th></th>\n",
       "      <td>...</td>\n",
       "      <td>...</td>\n",
       "      <td>...</td>\n",
       "      <td>...</td>\n",
       "      <td>...</td>\n",
       "      <td>...</td>\n",
       "      <td>...</td>\n",
       "      <td>...</td>\n",
       "      <td>...</td>\n",
       "      <td>...</td>\n",
       "      <td>...</td>\n",
       "      <td>...</td>\n",
       "      <td>...</td>\n",
       "      <td>...</td>\n",
       "      <td>...</td>\n",
       "      <td>...</td>\n",
       "      <td>...</td>\n",
       "      <td>...</td>\n",
       "      <td>...</td>\n",
       "      <td>...</td>\n",
       "      <td>...</td>\n",
       "      <td>...</td>\n",
       "      <td>...</td>\n",
       "      <td>...</td>\n",
       "      <td>...</td>\n",
       "      <td>...</td>\n",
       "      <td>...</td>\n",
       "      <td>...</td>\n",
       "      <td>...</td>\n",
       "      <td>...</td>\n",
       "      <td>...</td>\n",
       "      <td>...</td>\n",
       "      <td>...</td>\n",
       "      <td>...</td>\n",
       "      <td>...</td>\n",
       "      <td>...</td>\n",
       "      <td>...</td>\n",
       "      <td>...</td>\n",
       "      <td>...</td>\n",
       "      <td>...</td>\n",
       "      <td>...</td>\n",
       "      <td>...</td>\n",
       "      <td>...</td>\n",
       "    </tr>\n",
       "  </tbody>\n",
       "</table>\n",
       "</div>\n",
       "<div>Dask Name: assign, 57 tasks</div>"
      ],
      "text/plain": [
       "Dask DataFrame Structure:\n",
       "               bill_id   F1_kWh   F2_kWh   F3_kWh    city address nominative     sex    age user_code            date light_start_date  light_end_date      tv gas_amount gas_average_cost light_average_cost   emission_date supply_type  gas_start_date    gas_end_date extra_fees gas_consumption light_consumption gas_offer light_offer_type light_offer howmuch_pay total_amount light_amount average_unit_light_cost average_light_bill_cost average_unit_gas_cost average_gas_bill_cost customer_code billing_frequency bill_type gas_system_charges light_system_charges gas_material_cost light_transport_cost gas_transport_cost light_material_cost\n",
       "npartitions=57                                                                                                                                                                                                                                                                                                                                                                                                                                                                                                                                                                                                                                                 \n",
       "                 int64  Float64  Float64  Float64  object  object     object  object  int64    object  datetime64[ns]   datetime64[ns]  datetime64[ns]  object     object           object            Float64  datetime64[ns]      object  datetime64[ns]  datetime64[ns]     object         Float64           Float64    uint64           object      object      object       object       object                  object                  object                object                object        object            object    object            Float64              Float64           Float64              Float64            Float64             Float64\n",
       "                   ...      ...      ...      ...     ...     ...        ...     ...    ...       ...             ...              ...             ...     ...        ...              ...                ...             ...         ...             ...             ...        ...             ...               ...       ...              ...         ...         ...          ...          ...                     ...                     ...                   ...                   ...           ...               ...       ...                ...                  ...               ...                  ...                ...                 ...\n",
       "...                ...      ...      ...      ...     ...     ...        ...     ...    ...       ...             ...              ...             ...     ...        ...              ...                ...             ...         ...             ...             ...        ...             ...               ...       ...              ...         ...         ...          ...          ...                     ...                     ...                   ...                   ...           ...               ...       ...                ...                  ...               ...                  ...                ...                 ...\n",
       "                   ...      ...      ...      ...     ...     ...        ...     ...    ...       ...             ...              ...             ...     ...        ...              ...                ...             ...         ...             ...             ...        ...             ...               ...       ...              ...         ...         ...          ...          ...                     ...                     ...                   ...                   ...           ...               ...       ...                ...                  ...               ...                  ...                ...                 ...\n",
       "                   ...      ...      ...      ...     ...     ...        ...     ...    ...       ...             ...              ...             ...     ...        ...              ...                ...             ...         ...             ...             ...        ...             ...               ...       ...              ...         ...         ...          ...          ...                     ...                     ...                   ...                   ...           ...               ...       ...                ...                  ...               ...                  ...                ...                 ...\n",
       "Dask Name: assign, 57 tasks"
      ]
     },
     "execution_count": 13,
     "metadata": {},
     "output_type": "execute_result"
    }
   ],
   "source": [
    "base.df"
   ]
  },
  {
   "cell_type": "markdown",
   "id": "137144bf-fff5-4ea3-bc79-53e356a5ff9f",
   "metadata": {
    "tags": []
   },
   "source": [
    "### Removing measure unit from strings and converting them into numbers"
   ]
  },
  {
   "cell_type": "code",
   "execution_count": 12,
   "id": "10a1ba26-ec20-48a5-8221-81bf3d0a4a5f",
   "metadata": {},
   "outputs": [],
   "source": [
    "# this line can be used to retrieve alle the columns with a number pattern inside them but is too resources consuming\n",
    "# Due to the small number of columns We preferred to analize them one by one\n",
    "\n",
    "# base['howmuch_pay'].str.contains('[0-9]+[.,][0-9]*', regex=True).count().compute()\n",
    "# [0-9]+[.,][0-9]*"
   ]
  },
  {
   "cell_type": "code",
   "execution_count": 4,
   "id": "0c54f772-181c-4d37-b186-a94b14a3bef0",
   "metadata": {},
   "outputs": [
    {
     "name": "stdout",
     "output_type": "stream",
     "text": [
      "['howmuch_pay', 'tv', 'extra_fees']\n"
     ]
    }
   ],
   "source": [
    "#finding string columns with number inside\n",
    "to_numeric_cols = []\n",
    "for c in df.columns:\n",
    "    if ('average'  in c.split('_') or 'amount' in c.split('_')) and (base[c].dtype in ['object', 'str']):\n",
    "        # print(base[c].dtype)\n",
    "        to_numeric_cols.append(c)\n",
    "\n",
    "# Added manually after column analysis \n",
    "to_numeric_cols.append('howmuch_pay')\n",
    "to_numeric_cols.append('tv')\n",
    "to_numeric_cols.append('extra_fees')\n",
    "print(to_numeric_cols)"
   ]
  },
  {
   "cell_type": "code",
   "execution_count": 5,
   "id": "3cdbc411-c31d-4844-b8d4-e21f4c2f182c",
   "metadata": {},
   "outputs": [
    {
     "data": {
      "text/plain": [
       "['tv', 'extra_fees']"
      ]
     },
     "execution_count": 5,
     "metadata": {},
     "output_type": "execute_result"
    }
   ],
   "source": [
    "to_numeric_cols = to_numeric_cols[1:]\n",
    "to_numeric_cols"
   ]
  },
  {
   "cell_type": "code",
   "execution_count": 14,
   "id": "ec585b92-7f41-4730-b3ef-787e4d5e65eb",
   "metadata": {},
   "outputs": [],
   "source": [
    "# Exctracting measure unit from the column\n",
    "# Commented bc is time consuming\n",
    "# base.split('average_gas_bill_cost', 1)[1].value_counts().index.compute()[0]"
   ]
  },
  {
   "cell_type": "code",
   "execution_count": 6,
   "id": "4b45276c-1266-43a6-a78f-753dc8efea48",
   "metadata": {},
   "outputs": [],
   "source": [
    "# Converting columns from string tu numeric\n",
    "partitions = base.npartitions()\n",
    "for c in to_numeric_cols:\n",
    "    base[c] = base[c].str.extract(r'([0-9]+[,.][0-9]*)', flags=0, expand=False)\n",
    "    # print(f'{c} measure: {measure}')\n",
    "    base.replace([c], ',', '.', regex=True)\n",
    "    base[c] = dd.to_numeric(base[c], errors='coerce', meta=('float'))\n",
    "# base.get_df().head()['average_gas_bill_cost']"
   ]
  },
  {
   "cell_type": "code",
   "execution_count": 7,
   "id": "a1dd8005-cb54-4c4a-be3e-59b7e5496cc6",
   "metadata": {},
   "outputs": [
    {
     "data": {
      "text/html": [
       "<div><strong>Dask DataFrame Structure:</strong></div>\n",
       "<div>\n",
       "<style scoped>\n",
       "    .dataframe tbody tr th:only-of-type {\n",
       "        vertical-align: middle;\n",
       "    }\n",
       "\n",
       "    .dataframe tbody tr th {\n",
       "        vertical-align: top;\n",
       "    }\n",
       "\n",
       "    .dataframe thead th {\n",
       "        text-align: right;\n",
       "    }\n",
       "</style>\n",
       "<table border=\"1\" class=\"dataframe\">\n",
       "  <thead>\n",
       "    <tr style=\"text-align: right;\">\n",
       "      <th></th>\n",
       "      <th>bill_id</th>\n",
       "      <th>F1_kWh</th>\n",
       "      <th>F2_kWh</th>\n",
       "      <th>F3_kWh</th>\n",
       "      <th>city</th>\n",
       "      <th>address</th>\n",
       "      <th>nominative</th>\n",
       "      <th>sex</th>\n",
       "      <th>age</th>\n",
       "      <th>user_code</th>\n",
       "      <th>date</th>\n",
       "      <th>light_start_date</th>\n",
       "      <th>light_end_date</th>\n",
       "      <th>tv</th>\n",
       "      <th>gas_amount</th>\n",
       "      <th>gas_average_cost</th>\n",
       "      <th>light_average_cost</th>\n",
       "      <th>emission_date</th>\n",
       "      <th>supply_type</th>\n",
       "      <th>gas_start_date</th>\n",
       "      <th>gas_end_date</th>\n",
       "      <th>extra_fees</th>\n",
       "      <th>gas_consumption</th>\n",
       "      <th>light_consumption</th>\n",
       "      <th>gas_offer</th>\n",
       "      <th>light_offer_type</th>\n",
       "      <th>light_offer</th>\n",
       "      <th>howmuch_pay</th>\n",
       "      <th>total_amount</th>\n",
       "      <th>light_amount</th>\n",
       "      <th>average_unit_light_cost</th>\n",
       "      <th>average_light_bill_cost</th>\n",
       "      <th>average_unit_gas_cost</th>\n",
       "      <th>average_gas_bill_cost</th>\n",
       "      <th>customer_code</th>\n",
       "      <th>billing_frequency</th>\n",
       "      <th>bill_type</th>\n",
       "      <th>gas_system_charges</th>\n",
       "      <th>light_system_charges</th>\n",
       "      <th>gas_material_cost</th>\n",
       "      <th>light_transport_cost</th>\n",
       "      <th>gas_transport_cost</th>\n",
       "      <th>light_material_cost</th>\n",
       "    </tr>\n",
       "    <tr>\n",
       "      <th>npartitions=57</th>\n",
       "      <th></th>\n",
       "      <th></th>\n",
       "      <th></th>\n",
       "      <th></th>\n",
       "      <th></th>\n",
       "      <th></th>\n",
       "      <th></th>\n",
       "      <th></th>\n",
       "      <th></th>\n",
       "      <th></th>\n",
       "      <th></th>\n",
       "      <th></th>\n",
       "      <th></th>\n",
       "      <th></th>\n",
       "      <th></th>\n",
       "      <th></th>\n",
       "      <th></th>\n",
       "      <th></th>\n",
       "      <th></th>\n",
       "      <th></th>\n",
       "      <th></th>\n",
       "      <th></th>\n",
       "      <th></th>\n",
       "      <th></th>\n",
       "      <th></th>\n",
       "      <th></th>\n",
       "      <th></th>\n",
       "      <th></th>\n",
       "      <th></th>\n",
       "      <th></th>\n",
       "      <th></th>\n",
       "      <th></th>\n",
       "      <th></th>\n",
       "      <th></th>\n",
       "      <th></th>\n",
       "      <th></th>\n",
       "      <th></th>\n",
       "      <th></th>\n",
       "      <th></th>\n",
       "      <th></th>\n",
       "      <th></th>\n",
       "      <th></th>\n",
       "      <th></th>\n",
       "    </tr>\n",
       "  </thead>\n",
       "  <tbody>\n",
       "    <tr>\n",
       "      <th></th>\n",
       "      <td>int64</td>\n",
       "      <td>Float64</td>\n",
       "      <td>Float64</td>\n",
       "      <td>Float64</td>\n",
       "      <td>object</td>\n",
       "      <td>object</td>\n",
       "      <td>object</td>\n",
       "      <td>object</td>\n",
       "      <td>int64</td>\n",
       "      <td>object</td>\n",
       "      <td>datetime64[ns]</td>\n",
       "      <td>datetime64[ns]</td>\n",
       "      <td>datetime64[ns]</td>\n",
       "      <td>float64</td>\n",
       "      <td>float64</td>\n",
       "      <td>float64</td>\n",
       "      <td>Float64</td>\n",
       "      <td>datetime64[ns]</td>\n",
       "      <td>object</td>\n",
       "      <td>datetime64[ns]</td>\n",
       "      <td>datetime64[ns]</td>\n",
       "      <td>float64</td>\n",
       "      <td>Float64</td>\n",
       "      <td>Float64</td>\n",
       "      <td>uint64</td>\n",
       "      <td>object</td>\n",
       "      <td>object</td>\n",
       "      <td>float64</td>\n",
       "      <td>float64</td>\n",
       "      <td>float64</td>\n",
       "      <td>float64</td>\n",
       "      <td>float64</td>\n",
       "      <td>float64</td>\n",
       "      <td>float64</td>\n",
       "      <td>object</td>\n",
       "      <td>object</td>\n",
       "      <td>object</td>\n",
       "      <td>Float64</td>\n",
       "      <td>Float64</td>\n",
       "      <td>Float64</td>\n",
       "      <td>Float64</td>\n",
       "      <td>Float64</td>\n",
       "      <td>Float64</td>\n",
       "    </tr>\n",
       "    <tr>\n",
       "      <th></th>\n",
       "      <td>...</td>\n",
       "      <td>...</td>\n",
       "      <td>...</td>\n",
       "      <td>...</td>\n",
       "      <td>...</td>\n",
       "      <td>...</td>\n",
       "      <td>...</td>\n",
       "      <td>...</td>\n",
       "      <td>...</td>\n",
       "      <td>...</td>\n",
       "      <td>...</td>\n",
       "      <td>...</td>\n",
       "      <td>...</td>\n",
       "      <td>...</td>\n",
       "      <td>...</td>\n",
       "      <td>...</td>\n",
       "      <td>...</td>\n",
       "      <td>...</td>\n",
       "      <td>...</td>\n",
       "      <td>...</td>\n",
       "      <td>...</td>\n",
       "      <td>...</td>\n",
       "      <td>...</td>\n",
       "      <td>...</td>\n",
       "      <td>...</td>\n",
       "      <td>...</td>\n",
       "      <td>...</td>\n",
       "      <td>...</td>\n",
       "      <td>...</td>\n",
       "      <td>...</td>\n",
       "      <td>...</td>\n",
       "      <td>...</td>\n",
       "      <td>...</td>\n",
       "      <td>...</td>\n",
       "      <td>...</td>\n",
       "      <td>...</td>\n",
       "      <td>...</td>\n",
       "      <td>...</td>\n",
       "      <td>...</td>\n",
       "      <td>...</td>\n",
       "      <td>...</td>\n",
       "      <td>...</td>\n",
       "      <td>...</td>\n",
       "    </tr>\n",
       "    <tr>\n",
       "      <th>...</th>\n",
       "      <td>...</td>\n",
       "      <td>...</td>\n",
       "      <td>...</td>\n",
       "      <td>...</td>\n",
       "      <td>...</td>\n",
       "      <td>...</td>\n",
       "      <td>...</td>\n",
       "      <td>...</td>\n",
       "      <td>...</td>\n",
       "      <td>...</td>\n",
       "      <td>...</td>\n",
       "      <td>...</td>\n",
       "      <td>...</td>\n",
       "      <td>...</td>\n",
       "      <td>...</td>\n",
       "      <td>...</td>\n",
       "      <td>...</td>\n",
       "      <td>...</td>\n",
       "      <td>...</td>\n",
       "      <td>...</td>\n",
       "      <td>...</td>\n",
       "      <td>...</td>\n",
       "      <td>...</td>\n",
       "      <td>...</td>\n",
       "      <td>...</td>\n",
       "      <td>...</td>\n",
       "      <td>...</td>\n",
       "      <td>...</td>\n",
       "      <td>...</td>\n",
       "      <td>...</td>\n",
       "      <td>...</td>\n",
       "      <td>...</td>\n",
       "      <td>...</td>\n",
       "      <td>...</td>\n",
       "      <td>...</td>\n",
       "      <td>...</td>\n",
       "      <td>...</td>\n",
       "      <td>...</td>\n",
       "      <td>...</td>\n",
       "      <td>...</td>\n",
       "      <td>...</td>\n",
       "      <td>...</td>\n",
       "      <td>...</td>\n",
       "    </tr>\n",
       "    <tr>\n",
       "      <th></th>\n",
       "      <td>...</td>\n",
       "      <td>...</td>\n",
       "      <td>...</td>\n",
       "      <td>...</td>\n",
       "      <td>...</td>\n",
       "      <td>...</td>\n",
       "      <td>...</td>\n",
       "      <td>...</td>\n",
       "      <td>...</td>\n",
       "      <td>...</td>\n",
       "      <td>...</td>\n",
       "      <td>...</td>\n",
       "      <td>...</td>\n",
       "      <td>...</td>\n",
       "      <td>...</td>\n",
       "      <td>...</td>\n",
       "      <td>...</td>\n",
       "      <td>...</td>\n",
       "      <td>...</td>\n",
       "      <td>...</td>\n",
       "      <td>...</td>\n",
       "      <td>...</td>\n",
       "      <td>...</td>\n",
       "      <td>...</td>\n",
       "      <td>...</td>\n",
       "      <td>...</td>\n",
       "      <td>...</td>\n",
       "      <td>...</td>\n",
       "      <td>...</td>\n",
       "      <td>...</td>\n",
       "      <td>...</td>\n",
       "      <td>...</td>\n",
       "      <td>...</td>\n",
       "      <td>...</td>\n",
       "      <td>...</td>\n",
       "      <td>...</td>\n",
       "      <td>...</td>\n",
       "      <td>...</td>\n",
       "      <td>...</td>\n",
       "      <td>...</td>\n",
       "      <td>...</td>\n",
       "      <td>...</td>\n",
       "      <td>...</td>\n",
       "    </tr>\n",
       "    <tr>\n",
       "      <th></th>\n",
       "      <td>...</td>\n",
       "      <td>...</td>\n",
       "      <td>...</td>\n",
       "      <td>...</td>\n",
       "      <td>...</td>\n",
       "      <td>...</td>\n",
       "      <td>...</td>\n",
       "      <td>...</td>\n",
       "      <td>...</td>\n",
       "      <td>...</td>\n",
       "      <td>...</td>\n",
       "      <td>...</td>\n",
       "      <td>...</td>\n",
       "      <td>...</td>\n",
       "      <td>...</td>\n",
       "      <td>...</td>\n",
       "      <td>...</td>\n",
       "      <td>...</td>\n",
       "      <td>...</td>\n",
       "      <td>...</td>\n",
       "      <td>...</td>\n",
       "      <td>...</td>\n",
       "      <td>...</td>\n",
       "      <td>...</td>\n",
       "      <td>...</td>\n",
       "      <td>...</td>\n",
       "      <td>...</td>\n",
       "      <td>...</td>\n",
       "      <td>...</td>\n",
       "      <td>...</td>\n",
       "      <td>...</td>\n",
       "      <td>...</td>\n",
       "      <td>...</td>\n",
       "      <td>...</td>\n",
       "      <td>...</td>\n",
       "      <td>...</td>\n",
       "      <td>...</td>\n",
       "      <td>...</td>\n",
       "      <td>...</td>\n",
       "      <td>...</td>\n",
       "      <td>...</td>\n",
       "      <td>...</td>\n",
       "      <td>...</td>\n",
       "    </tr>\n",
       "  </tbody>\n",
       "</table>\n",
       "</div>\n",
       "<div>Dask Name: assign, 1083 tasks</div>"
      ],
      "text/plain": [
       "Dask DataFrame Structure:\n",
       "               bill_id   F1_kWh   F2_kWh   F3_kWh    city address nominative     sex    age user_code            date light_start_date  light_end_date       tv gas_amount gas_average_cost light_average_cost   emission_date supply_type  gas_start_date    gas_end_date extra_fees gas_consumption light_consumption gas_offer light_offer_type light_offer howmuch_pay total_amount light_amount average_unit_light_cost average_light_bill_cost average_unit_gas_cost average_gas_bill_cost customer_code billing_frequency bill_type gas_system_charges light_system_charges gas_material_cost light_transport_cost gas_transport_cost light_material_cost\n",
       "npartitions=57                                                                                                                                                                                                                                                                                                                                                                                                                                                                                                                                                                                                                                                  \n",
       "                 int64  Float64  Float64  Float64  object  object     object  object  int64    object  datetime64[ns]   datetime64[ns]  datetime64[ns]  float64    float64          float64            Float64  datetime64[ns]      object  datetime64[ns]  datetime64[ns]    float64         Float64           Float64    uint64           object      object     float64      float64      float64                 float64                 float64               float64               float64        object            object    object            Float64              Float64           Float64              Float64            Float64             Float64\n",
       "                   ...      ...      ...      ...     ...     ...        ...     ...    ...       ...             ...              ...             ...      ...        ...              ...                ...             ...         ...             ...             ...        ...             ...               ...       ...              ...         ...         ...          ...          ...                     ...                     ...                   ...                   ...           ...               ...       ...                ...                  ...               ...                  ...                ...                 ...\n",
       "...                ...      ...      ...      ...     ...     ...        ...     ...    ...       ...             ...              ...             ...      ...        ...              ...                ...             ...         ...             ...             ...        ...             ...               ...       ...              ...         ...         ...          ...          ...                     ...                     ...                   ...                   ...           ...               ...       ...                ...                  ...               ...                  ...                ...                 ...\n",
       "                   ...      ...      ...      ...     ...     ...        ...     ...    ...       ...             ...              ...             ...      ...        ...              ...                ...             ...         ...             ...             ...        ...             ...               ...       ...              ...         ...         ...          ...          ...                     ...                     ...                   ...                   ...           ...               ...       ...                ...                  ...               ...                  ...                ...                 ...\n",
       "                   ...      ...      ...      ...     ...     ...        ...     ...    ...       ...             ...              ...             ...      ...        ...              ...                ...             ...         ...             ...             ...        ...             ...               ...       ...              ...         ...         ...          ...          ...                     ...                     ...                   ...                   ...           ...               ...       ...                ...                  ...               ...                  ...                ...                 ...\n",
       "Dask Name: assign, 1083 tasks"
      ]
     },
     "execution_count": 7,
     "metadata": {},
     "output_type": "execute_result"
    }
   ],
   "source": [
    "base.df"
   ]
  },
  {
   "cell_type": "code",
   "execution_count": 7,
   "id": "77026cbd-c252-444c-a384-9a2809b8311b",
   "metadata": {},
   "outputs": [
    {
     "data": {
      "text/html": [
       "<div><strong>Dask DataFrame Structure:</strong></div>\n",
       "<div>\n",
       "<style scoped>\n",
       "    .dataframe tbody tr th:only-of-type {\n",
       "        vertical-align: middle;\n",
       "    }\n",
       "\n",
       "    .dataframe tbody tr th {\n",
       "        vertical-align: top;\n",
       "    }\n",
       "\n",
       "    .dataframe thead th {\n",
       "        text-align: right;\n",
       "    }\n",
       "</style>\n",
       "<table border=\"1\" class=\"dataframe\">\n",
       "  <thead>\n",
       "    <tr style=\"text-align: right;\">\n",
       "      <th></th>\n",
       "      <th>bill_id</th>\n",
       "      <th>F1_kWh</th>\n",
       "      <th>F2_kWh</th>\n",
       "      <th>F3_kWh</th>\n",
       "      <th>city</th>\n",
       "      <th>address</th>\n",
       "      <th>nominative</th>\n",
       "      <th>sex</th>\n",
       "      <th>age</th>\n",
       "      <th>user_code</th>\n",
       "      <th>date</th>\n",
       "      <th>light_start_date</th>\n",
       "      <th>light_end_date</th>\n",
       "      <th>tv</th>\n",
       "      <th>gas_amount</th>\n",
       "      <th>gas_average_cost</th>\n",
       "      <th>light_average_cost</th>\n",
       "      <th>emission_date</th>\n",
       "      <th>supply_type</th>\n",
       "      <th>gas_start_date</th>\n",
       "      <th>gas_end_date</th>\n",
       "      <th>extra_fees</th>\n",
       "      <th>gas_consumption</th>\n",
       "      <th>light_consumption</th>\n",
       "      <th>gas_offer</th>\n",
       "      <th>light_offer_type</th>\n",
       "      <th>light_offer</th>\n",
       "      <th>howmuch_pay</th>\n",
       "      <th>total_amount</th>\n",
       "      <th>light_amount</th>\n",
       "      <th>average_unit_light_cost</th>\n",
       "      <th>average_light_bill_cost</th>\n",
       "      <th>average_unit_gas_cost</th>\n",
       "      <th>average_gas_bill_cost</th>\n",
       "      <th>customer_code</th>\n",
       "      <th>billing_frequency</th>\n",
       "      <th>bill_type</th>\n",
       "      <th>gas_system_charges</th>\n",
       "      <th>light_system_charges</th>\n",
       "      <th>gas_material_cost</th>\n",
       "      <th>light_transport_cost</th>\n",
       "      <th>gas_transport_cost</th>\n",
       "      <th>light_material_cost</th>\n",
       "    </tr>\n",
       "    <tr>\n",
       "      <th>npartitions=57</th>\n",
       "      <th></th>\n",
       "      <th></th>\n",
       "      <th></th>\n",
       "      <th></th>\n",
       "      <th></th>\n",
       "      <th></th>\n",
       "      <th></th>\n",
       "      <th></th>\n",
       "      <th></th>\n",
       "      <th></th>\n",
       "      <th></th>\n",
       "      <th></th>\n",
       "      <th></th>\n",
       "      <th></th>\n",
       "      <th></th>\n",
       "      <th></th>\n",
       "      <th></th>\n",
       "      <th></th>\n",
       "      <th></th>\n",
       "      <th></th>\n",
       "      <th></th>\n",
       "      <th></th>\n",
       "      <th></th>\n",
       "      <th></th>\n",
       "      <th></th>\n",
       "      <th></th>\n",
       "      <th></th>\n",
       "      <th></th>\n",
       "      <th></th>\n",
       "      <th></th>\n",
       "      <th></th>\n",
       "      <th></th>\n",
       "      <th></th>\n",
       "      <th></th>\n",
       "      <th></th>\n",
       "      <th></th>\n",
       "      <th></th>\n",
       "      <th></th>\n",
       "      <th></th>\n",
       "      <th></th>\n",
       "      <th></th>\n",
       "      <th></th>\n",
       "      <th></th>\n",
       "    </tr>\n",
       "  </thead>\n",
       "  <tbody>\n",
       "    <tr>\n",
       "      <th></th>\n",
       "      <td>int64</td>\n",
       "      <td>Float64</td>\n",
       "      <td>Float64</td>\n",
       "      <td>Float64</td>\n",
       "      <td>object</td>\n",
       "      <td>object</td>\n",
       "      <td>object</td>\n",
       "      <td>object</td>\n",
       "      <td>int64</td>\n",
       "      <td>object</td>\n",
       "      <td>datetime64[ns]</td>\n",
       "      <td>datetime64[ns]</td>\n",
       "      <td>datetime64[ns]</td>\n",
       "      <td>object</td>\n",
       "      <td>float64</td>\n",
       "      <td>float64</td>\n",
       "      <td>Float64</td>\n",
       "      <td>datetime64[ns]</td>\n",
       "      <td>object</td>\n",
       "      <td>datetime64[ns]</td>\n",
       "      <td>datetime64[ns]</td>\n",
       "      <td>object</td>\n",
       "      <td>Float64</td>\n",
       "      <td>Float64</td>\n",
       "      <td>uint64</td>\n",
       "      <td>object</td>\n",
       "      <td>object</td>\n",
       "      <td>float64</td>\n",
       "      <td>float64</td>\n",
       "      <td>float64</td>\n",
       "      <td>float64</td>\n",
       "      <td>float64</td>\n",
       "      <td>float64</td>\n",
       "      <td>float64</td>\n",
       "      <td>object</td>\n",
       "      <td>object</td>\n",
       "      <td>object</td>\n",
       "      <td>Float64</td>\n",
       "      <td>Float64</td>\n",
       "      <td>Float64</td>\n",
       "      <td>Float64</td>\n",
       "      <td>Float64</td>\n",
       "      <td>Float64</td>\n",
       "    </tr>\n",
       "    <tr>\n",
       "      <th></th>\n",
       "      <td>...</td>\n",
       "      <td>...</td>\n",
       "      <td>...</td>\n",
       "      <td>...</td>\n",
       "      <td>...</td>\n",
       "      <td>...</td>\n",
       "      <td>...</td>\n",
       "      <td>...</td>\n",
       "      <td>...</td>\n",
       "      <td>...</td>\n",
       "      <td>...</td>\n",
       "      <td>...</td>\n",
       "      <td>...</td>\n",
       "      <td>...</td>\n",
       "      <td>...</td>\n",
       "      <td>...</td>\n",
       "      <td>...</td>\n",
       "      <td>...</td>\n",
       "      <td>...</td>\n",
       "      <td>...</td>\n",
       "      <td>...</td>\n",
       "      <td>...</td>\n",
       "      <td>...</td>\n",
       "      <td>...</td>\n",
       "      <td>...</td>\n",
       "      <td>...</td>\n",
       "      <td>...</td>\n",
       "      <td>...</td>\n",
       "      <td>...</td>\n",
       "      <td>...</td>\n",
       "      <td>...</td>\n",
       "      <td>...</td>\n",
       "      <td>...</td>\n",
       "      <td>...</td>\n",
       "      <td>...</td>\n",
       "      <td>...</td>\n",
       "      <td>...</td>\n",
       "      <td>...</td>\n",
       "      <td>...</td>\n",
       "      <td>...</td>\n",
       "      <td>...</td>\n",
       "      <td>...</td>\n",
       "      <td>...</td>\n",
       "    </tr>\n",
       "    <tr>\n",
       "      <th>...</th>\n",
       "      <td>...</td>\n",
       "      <td>...</td>\n",
       "      <td>...</td>\n",
       "      <td>...</td>\n",
       "      <td>...</td>\n",
       "      <td>...</td>\n",
       "      <td>...</td>\n",
       "      <td>...</td>\n",
       "      <td>...</td>\n",
       "      <td>...</td>\n",
       "      <td>...</td>\n",
       "      <td>...</td>\n",
       "      <td>...</td>\n",
       "      <td>...</td>\n",
       "      <td>...</td>\n",
       "      <td>...</td>\n",
       "      <td>...</td>\n",
       "      <td>...</td>\n",
       "      <td>...</td>\n",
       "      <td>...</td>\n",
       "      <td>...</td>\n",
       "      <td>...</td>\n",
       "      <td>...</td>\n",
       "      <td>...</td>\n",
       "      <td>...</td>\n",
       "      <td>...</td>\n",
       "      <td>...</td>\n",
       "      <td>...</td>\n",
       "      <td>...</td>\n",
       "      <td>...</td>\n",
       "      <td>...</td>\n",
       "      <td>...</td>\n",
       "      <td>...</td>\n",
       "      <td>...</td>\n",
       "      <td>...</td>\n",
       "      <td>...</td>\n",
       "      <td>...</td>\n",
       "      <td>...</td>\n",
       "      <td>...</td>\n",
       "      <td>...</td>\n",
       "      <td>...</td>\n",
       "      <td>...</td>\n",
       "      <td>...</td>\n",
       "    </tr>\n",
       "    <tr>\n",
       "      <th></th>\n",
       "      <td>...</td>\n",
       "      <td>...</td>\n",
       "      <td>...</td>\n",
       "      <td>...</td>\n",
       "      <td>...</td>\n",
       "      <td>...</td>\n",
       "      <td>...</td>\n",
       "      <td>...</td>\n",
       "      <td>...</td>\n",
       "      <td>...</td>\n",
       "      <td>...</td>\n",
       "      <td>...</td>\n",
       "      <td>...</td>\n",
       "      <td>...</td>\n",
       "      <td>...</td>\n",
       "      <td>...</td>\n",
       "      <td>...</td>\n",
       "      <td>...</td>\n",
       "      <td>...</td>\n",
       "      <td>...</td>\n",
       "      <td>...</td>\n",
       "      <td>...</td>\n",
       "      <td>...</td>\n",
       "      <td>...</td>\n",
       "      <td>...</td>\n",
       "      <td>...</td>\n",
       "      <td>...</td>\n",
       "      <td>...</td>\n",
       "      <td>...</td>\n",
       "      <td>...</td>\n",
       "      <td>...</td>\n",
       "      <td>...</td>\n",
       "      <td>...</td>\n",
       "      <td>...</td>\n",
       "      <td>...</td>\n",
       "      <td>...</td>\n",
       "      <td>...</td>\n",
       "      <td>...</td>\n",
       "      <td>...</td>\n",
       "      <td>...</td>\n",
       "      <td>...</td>\n",
       "      <td>...</td>\n",
       "      <td>...</td>\n",
       "    </tr>\n",
       "    <tr>\n",
       "      <th></th>\n",
       "      <td>...</td>\n",
       "      <td>...</td>\n",
       "      <td>...</td>\n",
       "      <td>...</td>\n",
       "      <td>...</td>\n",
       "      <td>...</td>\n",
       "      <td>...</td>\n",
       "      <td>...</td>\n",
       "      <td>...</td>\n",
       "      <td>...</td>\n",
       "      <td>...</td>\n",
       "      <td>...</td>\n",
       "      <td>...</td>\n",
       "      <td>...</td>\n",
       "      <td>...</td>\n",
       "      <td>...</td>\n",
       "      <td>...</td>\n",
       "      <td>...</td>\n",
       "      <td>...</td>\n",
       "      <td>...</td>\n",
       "      <td>...</td>\n",
       "      <td>...</td>\n",
       "      <td>...</td>\n",
       "      <td>...</td>\n",
       "      <td>...</td>\n",
       "      <td>...</td>\n",
       "      <td>...</td>\n",
       "      <td>...</td>\n",
       "      <td>...</td>\n",
       "      <td>...</td>\n",
       "      <td>...</td>\n",
       "      <td>...</td>\n",
       "      <td>...</td>\n",
       "      <td>...</td>\n",
       "      <td>...</td>\n",
       "      <td>...</td>\n",
       "      <td>...</td>\n",
       "      <td>...</td>\n",
       "      <td>...</td>\n",
       "      <td>...</td>\n",
       "      <td>...</td>\n",
       "      <td>...</td>\n",
       "      <td>...</td>\n",
       "    </tr>\n",
       "  </tbody>\n",
       "</table>\n",
       "</div>\n",
       "<div>Dask Name: assign, 2280 tasks</div>"
      ],
      "text/plain": [
       "Dask DataFrame Structure:\n",
       "               bill_id   F1_kWh   F2_kWh   F3_kWh    city address nominative     sex    age user_code            date light_start_date  light_end_date      tv gas_amount gas_average_cost light_average_cost   emission_date supply_type  gas_start_date    gas_end_date extra_fees gas_consumption light_consumption gas_offer light_offer_type light_offer howmuch_pay total_amount light_amount average_unit_light_cost average_light_bill_cost average_unit_gas_cost average_gas_bill_cost customer_code billing_frequency bill_type gas_system_charges light_system_charges gas_material_cost light_transport_cost gas_transport_cost light_material_cost\n",
       "npartitions=57                                                                                                                                                                                                                                                                                                                                                                                                                                                                                                                                                                                                                                                 \n",
       "                 int64  Float64  Float64  Float64  object  object     object  object  int64    object  datetime64[ns]   datetime64[ns]  datetime64[ns]  object    float64          float64            Float64  datetime64[ns]      object  datetime64[ns]  datetime64[ns]     object         Float64           Float64    uint64           object      object     float64      float64      float64                 float64                 float64               float64               float64        object            object    object            Float64              Float64           Float64              Float64            Float64             Float64\n",
       "                   ...      ...      ...      ...     ...     ...        ...     ...    ...       ...             ...              ...             ...     ...        ...              ...                ...             ...         ...             ...             ...        ...             ...               ...       ...              ...         ...         ...          ...          ...                     ...                     ...                   ...                   ...           ...               ...       ...                ...                  ...               ...                  ...                ...                 ...\n",
       "...                ...      ...      ...      ...     ...     ...        ...     ...    ...       ...             ...              ...             ...     ...        ...              ...                ...             ...         ...             ...             ...        ...             ...               ...       ...              ...         ...         ...          ...          ...                     ...                     ...                   ...                   ...           ...               ...       ...                ...                  ...               ...                  ...                ...                 ...\n",
       "                   ...      ...      ...      ...     ...     ...        ...     ...    ...       ...             ...              ...             ...     ...        ...              ...                ...             ...         ...             ...             ...        ...             ...               ...       ...              ...         ...         ...          ...          ...                     ...                     ...                   ...                   ...           ...               ...       ...                ...                  ...               ...                  ...                ...                 ...\n",
       "                   ...      ...      ...      ...     ...     ...        ...     ...    ...       ...             ...              ...             ...     ...        ...              ...                ...             ...         ...             ...             ...        ...             ...               ...       ...              ...         ...         ...          ...          ...                     ...                     ...                   ...                   ...           ...               ...       ...                ...                  ...               ...                  ...                ...                 ...\n",
       "Dask Name: assign, 2280 tasks"
      ]
     },
     "execution_count": 7,
     "metadata": {},
     "output_type": "execute_result"
    }
   ],
   "source": [
    "# Strip all the columns in order to remove all the whitespaces \n",
    "base.strip(string_cols)"
   ]
  },
  {
   "cell_type": "code",
   "execution_count": 8,
   "id": "2eb83c25-50f5-4257-95b0-a99c2a982897",
   "metadata": {},
   "outputs": [],
   "source": [
    "base.df = base.df.persist()"
   ]
  },
  {
   "cell_type": "code",
   "execution_count": 18,
   "id": "71035ba3-d919-42c5-8a6e-73a57e6aeb9f",
   "metadata": {},
   "outputs": [
    {
     "data": {
      "text/plain": [
       "0      0.00\n",
       "1     47.22\n",
       "2      0.00\n",
       "3     58.53\n",
       "4    383.66\n",
       "Name: howmuch_pay, dtype: float64"
      ]
     },
     "execution_count": 18,
     "metadata": {},
     "output_type": "execute_result"
    }
   ],
   "source": [
    "base['howmuch_pay'].head()"
   ]
  },
  {
   "cell_type": "markdown",
   "id": "db0a5312-861c-43c6-b7f0-308ee3115eac",
   "metadata": {
    "tags": []
   },
   "source": [
    "### Save the modified dataset"
   ]
  },
  {
   "cell_type": "code",
   "execution_count": 9,
   "id": "0065347e-ebaa-4a34-a882-49955782a4bf",
   "metadata": {},
   "outputs": [],
   "source": [
    "# Save the converted dataset\n",
    "base.to_parquet('data/mod_parquet')"
   ]
  },
  {
   "cell_type": "code",
   "execution_count": 10,
   "id": "2374f0da-0fb3-4385-9ab7-b067fe3f0407",
   "metadata": {},
   "outputs": [
    {
     "data": {
      "text/plain": [
       "{'bill_id': 'int64',\n",
       " 'F1_kWh': 'Float64',\n",
       " 'F2_kWh': 'Float64',\n",
       " 'F3_kWh': 'Float64',\n",
       " 'city': 'object',\n",
       " 'address': 'object',\n",
       " 'nominative': 'object',\n",
       " 'sex': 'object',\n",
       " 'age': 'int64',\n",
       " 'user_code': 'object',\n",
       " 'date': 'datetime64[ns]',\n",
       " 'light_start_date': 'datetime64[ns]',\n",
       " 'light_end_date': 'datetime64[ns]',\n",
       " 'tv': 'object',\n",
       " 'gas_amount': 'float64',\n",
       " 'gas_average_cost': 'float64',\n",
       " 'light_average_cost': 'Float64',\n",
       " 'emission_date': 'datetime64[ns]',\n",
       " 'supply_type': 'object',\n",
       " 'gas_start_date': 'datetime64[ns]',\n",
       " 'gas_end_date': 'datetime64[ns]',\n",
       " 'extra_fees': 'object',\n",
       " 'gas_consumption': 'Float64',\n",
       " 'light_consumption': 'Float64',\n",
       " 'gas_offer': 'uint64',\n",
       " 'light_offer_type': 'object',\n",
       " 'light_offer': 'object',\n",
       " 'howmuch_pay': 'float64',\n",
       " 'total_amount': 'float64',\n",
       " 'light_amount': 'float64',\n",
       " 'average_unit_light_cost': 'float64',\n",
       " 'average_light_bill_cost': 'float64',\n",
       " 'average_unit_gas_cost': 'float64',\n",
       " 'average_gas_bill_cost': 'float64',\n",
       " 'customer_code': 'object',\n",
       " 'billing_frequency': 'object',\n",
       " 'bill_type': 'object',\n",
       " 'gas_system_charges': 'Float64',\n",
       " 'light_system_charges': 'Float64',\n",
       " 'gas_material_cost': 'Float64',\n",
       " 'light_transport_cost': 'Float64',\n",
       " 'gas_transport_cost': 'Float64',\n",
       " 'light_material_cost': 'Float64'}"
      ]
     },
     "execution_count": 10,
     "metadata": {},
     "output_type": "execute_result"
    }
   ],
   "source": [
    "base.load_dataset('parquet', path='data/mod_parquet')\n",
    "base.get_columns_types()"
   ]
  },
  {
   "cell_type": "markdown",
   "id": "379b4cc7-70b5-48ef-8036-3dda72b8adf1",
   "metadata": {
    "jp-MarkdownHeadingCollapsed": true,
    "tags": []
   },
   "source": [
    "## Da non portare"
   ]
  },
  {
   "cell_type": "code",
   "execution_count": null,
   "id": "7dc3941b-c6c6-4b4c-810e-7d4181177c57",
   "metadata": {},
   "outputs": [],
   "source": [
    "# Dovrebbe accorgersi di colonne con similarità > soglia\n",
    "# TODO --> FUNZIONE DA RIFARE PERCHé USA I SET E QUINDI NON CONFRONTA RIGA-RIGA \n",
    "#          MA SET(ELEMENTI_COL1) CON SET(eLEMENTI_COL2)\n",
    "def get_duplicate_col(df, soglia=0.9):\n",
    "        \"\"\"\n",
    "        Return a list of duplicate columns, if exists.\n",
    "        Duplicate columns are those which have same values for each row.\n",
    "        \"\"\"  \n",
    "        cols = df.columns.values\n",
    "        #return [(cols[i], cols[j]) for i in range(0, len(cols)) for j in range(i+1, len(cols)) if self.df[cols[i]].equals(self.df[cols[j]])]\n",
    "        \n",
    "        return [(cols[i], cols[j]) for i in range(0, len(cols)) for j in range(i+1, len(cols)) if len(set(cols[i]) & set(cols[j])) / float(len(set(cols[i]) | set(cols[j]))) > soglia ]"
   ]
  },
  {
   "cell_type": "markdown",
   "id": "ec03d74c-5bb8-424f-a59e-2f54b363ff19",
   "metadata": {
    "jp-MarkdownHeadingCollapsed": true,
    "tags": []
   },
   "source": [
    "# 1. INGESTION & DISCOVERY"
   ]
  },
  {
   "cell_type": "markdown",
   "id": "d19e692a-681a-48ba-9286-90ec709546c7",
   "metadata": {
    "tags": []
   },
   "source": [
    "## Analysis DA PORTARE"
   ]
  },
  {
   "cell_type": "code",
   "execution_count": 7,
   "id": "e3b04cdb-389d-4842-bc55-fab3798f72d1",
   "metadata": {},
   "outputs": [
    {
     "data": {
      "text/html": [
       "<div>\n",
       "<style scoped>\n",
       "    .dataframe tbody tr th:only-of-type {\n",
       "        vertical-align: middle;\n",
       "    }\n",
       "\n",
       "    .dataframe tbody tr th {\n",
       "        vertical-align: top;\n",
       "    }\n",
       "\n",
       "    .dataframe thead th {\n",
       "        text-align: right;\n",
       "    }\n",
       "</style>\n",
       "<table border=\"1\" class=\"dataframe\">\n",
       "  <thead>\n",
       "    <tr style=\"text-align: right;\">\n",
       "      <th></th>\n",
       "      <th>bill_id</th>\n",
       "      <th>F1_kWh</th>\n",
       "      <th>F2_kWh</th>\n",
       "      <th>F3_kWh</th>\n",
       "      <th>city</th>\n",
       "      <th>address</th>\n",
       "      <th>nominative</th>\n",
       "      <th>sex</th>\n",
       "      <th>age</th>\n",
       "      <th>user_code</th>\n",
       "      <th>...</th>\n",
       "      <th>average_gas_bill_cost</th>\n",
       "      <th>customer_code</th>\n",
       "      <th>billing_frequency</th>\n",
       "      <th>bill_type</th>\n",
       "      <th>gas_system_charges</th>\n",
       "      <th>light_system_charges</th>\n",
       "      <th>gas_material_cost</th>\n",
       "      <th>light_transport_cost</th>\n",
       "      <th>gas_transport_cost</th>\n",
       "      <th>light_material_cost</th>\n",
       "    </tr>\n",
       "  </thead>\n",
       "  <tbody>\n",
       "    <tr>\n",
       "      <th>1611</th>\n",
       "      <td>1611</td>\n",
       "      <td>23311.0</td>\n",
       "      <td>2219.0</td>\n",
       "      <td>467.0</td>\n",
       "      <td>VIETRI DI POTENZA</td>\n",
       "      <td>None</td>\n",
       "      <td>None</td>\n",
       "      <td>P</td>\n",
       "      <td>0</td>\n",
       "      <td>8CE314D06FEFFD54C0F1497C20C479F376102747</td>\n",
       "      <td>...</td>\n",
       "      <td>NaN</td>\n",
       "      <td>F631ED0EF8EC71428366F15C369AA53792A6F20D</td>\n",
       "      <td>monthly</td>\n",
       "      <td>False</td>\n",
       "      <td>&lt;NA&gt;</td>\n",
       "      <td>1176.31</td>\n",
       "      <td>&lt;NA&gt;</td>\n",
       "      <td>481.81</td>\n",
       "      <td>&lt;NA&gt;</td>\n",
       "      <td>2067.89</td>\n",
       "    </tr>\n",
       "    <tr>\n",
       "      <th>1627</th>\n",
       "      <td>1627</td>\n",
       "      <td>210.0</td>\n",
       "      <td>149.0</td>\n",
       "      <td>226.0</td>\n",
       "      <td>VIETRI DI POTENZA</td>\n",
       "      <td>None</td>\n",
       "      <td>None</td>\n",
       "      <td>P</td>\n",
       "      <td>45</td>\n",
       "      <td>A1E7C992D46A2D6D911C3595DF603D3F2C6BEB37</td>\n",
       "      <td>...</td>\n",
       "      <td>NaN</td>\n",
       "      <td>1E9BC1B19300B6E472980894714A4C8382C565EA</td>\n",
       "      <td>monthly</td>\n",
       "      <td>False</td>\n",
       "      <td>&lt;NA&gt;</td>\n",
       "      <td>76.08</td>\n",
       "      <td>&lt;NA&gt;</td>\n",
       "      <td>50.45</td>\n",
       "      <td>&lt;NA&gt;</td>\n",
       "      <td>85.57</td>\n",
       "    </tr>\n",
       "    <tr>\n",
       "      <th>1639</th>\n",
       "      <td>1639</td>\n",
       "      <td>95.0</td>\n",
       "      <td>52.0</td>\n",
       "      <td>105.0</td>\n",
       "      <td>VIETRI DI POTENZA</td>\n",
       "      <td>None</td>\n",
       "      <td>None</td>\n",
       "      <td>P</td>\n",
       "      <td>0</td>\n",
       "      <td>3CE203296BE19C1257020DA7EFEB84A0D3F4F7B7</td>\n",
       "      <td>...</td>\n",
       "      <td>NaN</td>\n",
       "      <td>CC5C0DB0AA0034008B3398775B1EC89FC21A9DDB</td>\n",
       "      <td>monthly</td>\n",
       "      <td>False</td>\n",
       "      <td>&lt;NA&gt;</td>\n",
       "      <td>40.8</td>\n",
       "      <td>&lt;NA&gt;</td>\n",
       "      <td>29.47</td>\n",
       "      <td>&lt;NA&gt;</td>\n",
       "      <td>45.65</td>\n",
       "    </tr>\n",
       "    <tr>\n",
       "      <th>1858</th>\n",
       "      <td>1858</td>\n",
       "      <td>65.0</td>\n",
       "      <td>34.0</td>\n",
       "      <td>60.0</td>\n",
       "      <td>VIETRI DI POTENZA</td>\n",
       "      <td>None</td>\n",
       "      <td>None</td>\n",
       "      <td>P</td>\n",
       "      <td>66</td>\n",
       "      <td>D3117D65827932EB6A7F54F73EB1700C0D9F289C</td>\n",
       "      <td>...</td>\n",
       "      <td>NaN</td>\n",
       "      <td>EB24C1C62642D39E65FB5BA50044153D2BF6EEC9</td>\n",
       "      <td>monthly</td>\n",
       "      <td>False</td>\n",
       "      <td>&lt;NA&gt;</td>\n",
       "      <td>44.17</td>\n",
       "      <td>&lt;NA&gt;</td>\n",
       "      <td>36.34</td>\n",
       "      <td>&lt;NA&gt;</td>\n",
       "      <td>47.11</td>\n",
       "    </tr>\n",
       "    <tr>\n",
       "      <th>2511</th>\n",
       "      <td>2511</td>\n",
       "      <td>285.0</td>\n",
       "      <td>406.0</td>\n",
       "      <td>232.0</td>\n",
       "      <td>VIETRI DI POTENZA</td>\n",
       "      <td>None</td>\n",
       "      <td>None</td>\n",
       "      <td>P</td>\n",
       "      <td>0</td>\n",
       "      <td>44F5D3195791957FCF7010485404E83F3BDB9F0B</td>\n",
       "      <td>...</td>\n",
       "      <td>NaN</td>\n",
       "      <td>1D2EAAAFDD212B85E05CC2275D44020B05B1E5B7</td>\n",
       "      <td>monthly</td>\n",
       "      <td>False</td>\n",
       "      <td>&lt;NA&gt;</td>\n",
       "      <td>101.28</td>\n",
       "      <td>&lt;NA&gt;</td>\n",
       "      <td>74.09</td>\n",
       "      <td>&lt;NA&gt;</td>\n",
       "      <td>87.2</td>\n",
       "    </tr>\n",
       "  </tbody>\n",
       "</table>\n",
       "<p>5 rows × 43 columns</p>\n",
       "</div>"
      ],
      "text/plain": [
       "      bill_id   F1_kWh  F2_kWh  F3_kWh               city address nominative  \\\n",
       "1611     1611  23311.0  2219.0   467.0  VIETRI DI POTENZA    None       None   \n",
       "1627     1627    210.0   149.0   226.0  VIETRI DI POTENZA    None       None   \n",
       "1639     1639     95.0    52.0   105.0  VIETRI DI POTENZA    None       None   \n",
       "1858     1858     65.0    34.0    60.0  VIETRI DI POTENZA    None       None   \n",
       "2511     2511    285.0   406.0   232.0  VIETRI DI POTENZA    None       None   \n",
       "\n",
       "     sex  age                                 user_code  ...  \\\n",
       "1611   P    0  8CE314D06FEFFD54C0F1497C20C479F376102747  ...   \n",
       "1627   P   45  A1E7C992D46A2D6D911C3595DF603D3F2C6BEB37  ...   \n",
       "1639   P    0  3CE203296BE19C1257020DA7EFEB84A0D3F4F7B7  ...   \n",
       "1858   P   66  D3117D65827932EB6A7F54F73EB1700C0D9F289C  ...   \n",
       "2511   P    0  44F5D3195791957FCF7010485404E83F3BDB9F0B  ...   \n",
       "\n",
       "     average_gas_bill_cost                             customer_code  \\\n",
       "1611                   NaN  F631ED0EF8EC71428366F15C369AA53792A6F20D   \n",
       "1627                   NaN  1E9BC1B19300B6E472980894714A4C8382C565EA   \n",
       "1639                   NaN  CC5C0DB0AA0034008B3398775B1EC89FC21A9DDB   \n",
       "1858                   NaN  EB24C1C62642D39E65FB5BA50044153D2BF6EEC9   \n",
       "2511                   NaN  1D2EAAAFDD212B85E05CC2275D44020B05B1E5B7   \n",
       "\n",
       "     billing_frequency bill_type  gas_system_charges  light_system_charges  \\\n",
       "1611           monthly     False                <NA>               1176.31   \n",
       "1627           monthly     False                <NA>                 76.08   \n",
       "1639           monthly     False                <NA>                  40.8   \n",
       "1858           monthly     False                <NA>                 44.17   \n",
       "2511           monthly     False                <NA>                101.28   \n",
       "\n",
       "      gas_material_cost light_transport_cost gas_transport_cost  \\\n",
       "1611               <NA>               481.81               <NA>   \n",
       "1627               <NA>                50.45               <NA>   \n",
       "1639               <NA>                29.47               <NA>   \n",
       "1858               <NA>                36.34               <NA>   \n",
       "2511               <NA>                74.09               <NA>   \n",
       "\n",
       "     light_material_cost  \n",
       "1611             2067.89  \n",
       "1627               85.57  \n",
       "1639               45.65  \n",
       "1858               47.11  \n",
       "2511                87.2  \n",
       "\n",
       "[5 rows x 43 columns]"
      ]
     },
     "execution_count": 7,
     "metadata": {},
     "output_type": "execute_result"
    }
   ],
   "source": [
    "#esempio\n",
    "base.locate_null_values('address').head()"
   ]
  },
  {
   "cell_type": "markdown",
   "id": "09aadf3c-6aec-4127-bcfb-5f36588a762d",
   "metadata": {
    "jp-MarkdownHeadingCollapsed": true,
    "tags": []
   },
   "source": [
    "## Locate Missing Values DA PORTARE"
   ]
  },
  {
   "cell_type": "code",
   "execution_count": 28,
   "id": "de516688-8f8d-402b-ad9e-cb27fc1859d0",
   "metadata": {},
   "outputs": [
    {
     "name": "stdout",
     "output_type": "stream",
     "text": [
      "bill_id 0\n",
      "F1_kWh 166\n",
      "F2_kWh 92\n",
      "F3_kWh 689\n",
      "city 15\n",
      "address 2760\n",
      "nominative 2760\n",
      "sex 0\n",
      "age 0\n",
      "user_code 0\n",
      "date 7871\n",
      "light_start_date 7871\n",
      "light_end_date 7871\n",
      "tv 0\n",
      "gas_amount 3686754\n",
      "gas_average_cost 4287486\n",
      "light_average_cost 5967463\n",
      "emission_date 0\n",
      "supply_type 0\n",
      "gas_start_date 7871\n",
      "gas_end_date 7871\n",
      "extra_fees 0\n",
      "gas_consumption 3686753\n",
      "light_consumption 5686817\n",
      "gas_offer 0\n",
      "light_offer_type 0\n",
      "light_offer 0\n",
      "howmuch_pay 0\n",
      "total_amount 0\n",
      "light_amount 5686804\n",
      "average_unit_light_cost 5967414\n",
      "average_light_bill_cost 5967119\n",
      "average_unit_gas_cost 4287486\n",
      "average_gas_bill_cost 4285780\n",
      "customer_code 0\n",
      "billing_frequency 784810\n",
      "bill_type 0\n",
      "gas_system_charges 3762487\n",
      "light_system_charges 5741641\n",
      "gas_material_cost 3755162\n",
      "light_transport_cost 5740814\n",
      "gas_transport_cost 3761775\n",
      "light_material_cost 5740821\n"
     ]
    }
   ],
   "source": [
    "# LOCATE MISSING VALUES\n",
    "#rows = df.shape[0]\n",
    "#wait(ddf.shape[0])\n",
    "#print(\"Total rows\", rows)\n",
    "\n",
    "# These are the colums with at least one missing value\n",
    "column_count_nan = {}\n",
    "# compute the presence of null value on time instead every iteration for performance reasons\n",
    "na = base.get_df().isna()\n",
    "val = na.any().compute()\n",
    "\n",
    "for c, val in val.to_pandas().items():\n",
    "    count = na[c].sum().compute()\n",
    "    print(c, count)\n",
    "    if (val):\n",
    "        #print(c, \"\\t Affected rows:\", count)\n",
    "        column_count_nan[c] = count\n",
    "    else:\n",
    "        #print(c, \"\\t Qui no missing values\")\n",
    "        column_count_nan[c] = count"
   ]
  },
  {
   "cell_type": "code",
   "execution_count": 32,
   "id": "8da90f6e-7570-41ad-a553-32ec61cd94ac",
   "metadata": {},
   "outputs": [],
   "source": [
    "# import json\n",
    "\n",
    "# class NpEncoder(json.JSONEncoder):\n",
    "#     def default(self, obj):\n",
    "#         if isinstance(obj, np.integer):\n",
    "#             return int(obj)\n",
    "#         if isinstance(obj, np.floating):\n",
    "#             return float(obj)\n",
    "#         if isinstance(obj, np.ndarray):\n",
    "#             return obj.tolist()\n",
    "#         return super(NpEncoder, self).default(obj)\n",
    "    \n",
    "# with open('data/initial_null_val.json', 'w+') as f:\n",
    "#     # this would place the entire output on one line\n",
    "#     # use json.dump(lista_items, f, indent=4) to \"pretty-print\" with four spaces per indent\n",
    "#     json.dump(column_count_nan, f, cls=NpEncoder)"
   ]
  },
  {
   "cell_type": "code",
   "execution_count": 29,
   "id": "41622e6f-2595-47a0-b7ee-1d22e1dfd8a1",
   "metadata": {},
   "outputs": [
    {
     "name": "stdout",
     "output_type": "stream",
     "text": [
      "104971.43\n",
      "gas_amount val: 3686754\n",
      "gas_average_cost val: 4287486\n",
      "light_average_cost val: 5967463\n",
      "gas_consumption val: 3686753\n",
      "light_consumption val: 5686817\n",
      "light_amount val: 5686804\n",
      "average_unit_light_cost val: 5967414\n",
      "average_light_bill_cost val: 5967119\n",
      "average_unit_gas_cost val: 4287486\n",
      "average_gas_bill_cost val: 4285780\n",
      "billing_frequency val: 784810\n",
      "gas_system_charges val: 3762487\n",
      "light_system_charges val: 5741641\n",
      "gas_material_cost val: 3755162\n",
      "light_transport_cost val: 5740814\n",
      "gas_transport_cost val: 3761775\n",
      "light_material_cost val: 5740821\n"
     ]
    },
    {
     "data": {
      "text/plain": [
       "['gas_amount',\n",
       " 'gas_average_cost',\n",
       " 'light_average_cost',\n",
       " 'gas_consumption',\n",
       " 'light_consumption',\n",
       " 'light_amount',\n",
       " 'average_unit_light_cost',\n",
       " 'average_light_bill_cost',\n",
       " 'average_unit_gas_cost',\n",
       " 'average_gas_bill_cost',\n",
       " 'billing_frequency',\n",
       " 'gas_system_charges',\n",
       " 'light_system_charges',\n",
       " 'gas_material_cost',\n",
       " 'light_transport_cost',\n",
       " 'gas_transport_cost',\n",
       " 'light_material_cost']"
      ]
     },
     "execution_count": 29,
     "metadata": {},
     "output_type": "execute_result"
    }
   ],
   "source": [
    "column_with_nan = []\n",
    "\n",
    "perc = 1\n",
    "soglia = ((perc * base.get_df().shape[0]) / 100).compute()\n",
    "print(soglia)\n",
    "\n",
    "for c, val in column_count_nan.items():\n",
    "    #print(f'{c}')\n",
    "    if val > soglia:\n",
    "        print(f'{c} val: {val}')\n",
    "        column_with_nan.append(c)\n",
    "        \n",
    "column_with_nan\n",
    "\n",
    "# Si può notare come nessuna colonna abbia il 100% di valori nulli, ma ci sono altresì tante \n",
    "# colonne con un numero elevato di nan. Poche colonne hanno un numero basso di nan."
   ]
  },
  {
   "cell_type": "markdown",
   "id": "280804b2-6062-4fad-8c7f-64355954b08d",
   "metadata": {
    "tags": []
   },
   "source": [
    "### Analisi extra (utile estenderla all'intero dataset)"
   ]
  },
  {
   "cell_type": "code",
   "execution_count": 6,
   "id": "61f836cf-4621-4a55-a5f5-69c273b63c80",
   "metadata": {},
   "outputs": [
    {
     "data": {
      "text/plain": [
       "2760"
      ]
     },
     "execution_count": 6,
     "metadata": {},
     "output_type": "execute_result"
    }
   ],
   "source": [
    "#Visto che address e nominative hanno lo stesso numero di NA, vale la \n",
    "#pena controllare ed eventualmente eliminare le righe?\n",
    "\n",
    "base.locate_null_values('nominative').shape[0].compute()"
   ]
  },
  {
   "cell_type": "code",
   "execution_count": 7,
   "id": "5404dc83-eee9-43c9-b64a-6721f66c5708",
   "metadata": {},
   "outputs": [
    {
     "data": {
      "text/plain": [
       "2760"
      ]
     },
     "execution_count": 7,
     "metadata": {},
     "output_type": "execute_result"
    }
   ],
   "source": [
    "base.locate_null_values('address').shape[0].compute()"
   ]
  },
  {
   "cell_type": "code",
   "execution_count": 9,
   "id": "c6ca4aad-a7c8-465e-b77f-5f8494597d92",
   "metadata": {},
   "outputs": [
    {
     "data": {
      "text/html": [
       "<div>\n",
       "<style scoped>\n",
       "    .dataframe tbody tr th:only-of-type {\n",
       "        vertical-align: middle;\n",
       "    }\n",
       "\n",
       "    .dataframe tbody tr th {\n",
       "        vertical-align: top;\n",
       "    }\n",
       "\n",
       "    .dataframe thead th {\n",
       "        text-align: right;\n",
       "    }\n",
       "</style>\n",
       "<table border=\"1\" class=\"dataframe\">\n",
       "  <thead>\n",
       "    <tr style=\"text-align: right;\">\n",
       "      <th></th>\n",
       "      <th>bill_id</th>\n",
       "      <th>F1_kWh</th>\n",
       "      <th>F2_kWh</th>\n",
       "      <th>F3_kWh</th>\n",
       "      <th>city</th>\n",
       "      <th>address</th>\n",
       "      <th>nominative</th>\n",
       "      <th>sex</th>\n",
       "      <th>age</th>\n",
       "      <th>user_code</th>\n",
       "      <th>...</th>\n",
       "      <th>average_gas_bill_cost</th>\n",
       "      <th>customer_code</th>\n",
       "      <th>billing_frequency</th>\n",
       "      <th>bill_type</th>\n",
       "      <th>gas_system_charges</th>\n",
       "      <th>light_system_charges</th>\n",
       "      <th>gas_material_cost</th>\n",
       "      <th>light_transport_cost</th>\n",
       "      <th>gas_transport_cost</th>\n",
       "      <th>light_material_cost</th>\n",
       "    </tr>\n",
       "  </thead>\n",
       "  <tbody>\n",
       "    <tr>\n",
       "      <th>1611</th>\n",
       "      <td>1611</td>\n",
       "      <td>23311.0</td>\n",
       "      <td>2219.0</td>\n",
       "      <td>467.0</td>\n",
       "      <td>VIETRI DI POTENZA</td>\n",
       "      <td>&lt;NA&gt;</td>\n",
       "      <td>&lt;NA&gt;</td>\n",
       "      <td>P</td>\n",
       "      <td>0</td>\n",
       "      <td>8CE314D06FEFFD54C0F1497C20C479F376102747</td>\n",
       "      <td>...</td>\n",
       "      <td>&lt;NA&gt;</td>\n",
       "      <td>F631ED0EF8EC71428366F15C369AA53792A6F20D</td>\n",
       "      <td>monthly</td>\n",
       "      <td>False</td>\n",
       "      <td>&lt;NA&gt;</td>\n",
       "      <td>1176.31</td>\n",
       "      <td>&lt;NA&gt;</td>\n",
       "      <td>481.81</td>\n",
       "      <td>&lt;NA&gt;</td>\n",
       "      <td>2067.89</td>\n",
       "    </tr>\n",
       "    <tr>\n",
       "      <th>1627</th>\n",
       "      <td>1627</td>\n",
       "      <td>210.0</td>\n",
       "      <td>149.0</td>\n",
       "      <td>226.0</td>\n",
       "      <td>VIETRI DI POTENZA</td>\n",
       "      <td>&lt;NA&gt;</td>\n",
       "      <td>&lt;NA&gt;</td>\n",
       "      <td>P</td>\n",
       "      <td>45</td>\n",
       "      <td>A1E7C992D46A2D6D911C3595DF603D3F2C6BEB37</td>\n",
       "      <td>...</td>\n",
       "      <td>&lt;NA&gt;</td>\n",
       "      <td>1E9BC1B19300B6E472980894714A4C8382C565EA</td>\n",
       "      <td>monthly</td>\n",
       "      <td>False</td>\n",
       "      <td>&lt;NA&gt;</td>\n",
       "      <td>76.08</td>\n",
       "      <td>&lt;NA&gt;</td>\n",
       "      <td>50.45</td>\n",
       "      <td>&lt;NA&gt;</td>\n",
       "      <td>85.57</td>\n",
       "    </tr>\n",
       "    <tr>\n",
       "      <th>1639</th>\n",
       "      <td>1639</td>\n",
       "      <td>95.0</td>\n",
       "      <td>52.0</td>\n",
       "      <td>105.0</td>\n",
       "      <td>VIETRI DI POTENZA</td>\n",
       "      <td>&lt;NA&gt;</td>\n",
       "      <td>&lt;NA&gt;</td>\n",
       "      <td>P</td>\n",
       "      <td>0</td>\n",
       "      <td>3CE203296BE19C1257020DA7EFEB84A0D3F4F7B7</td>\n",
       "      <td>...</td>\n",
       "      <td>&lt;NA&gt;</td>\n",
       "      <td>CC5C0DB0AA0034008B3398775B1EC89FC21A9DDB</td>\n",
       "      <td>monthly</td>\n",
       "      <td>False</td>\n",
       "      <td>&lt;NA&gt;</td>\n",
       "      <td>40.8</td>\n",
       "      <td>&lt;NA&gt;</td>\n",
       "      <td>29.47</td>\n",
       "      <td>&lt;NA&gt;</td>\n",
       "      <td>45.65</td>\n",
       "    </tr>\n",
       "    <tr>\n",
       "      <th>1858</th>\n",
       "      <td>1858</td>\n",
       "      <td>65.0</td>\n",
       "      <td>34.0</td>\n",
       "      <td>60.0</td>\n",
       "      <td>VIETRI DI POTENZA</td>\n",
       "      <td>&lt;NA&gt;</td>\n",
       "      <td>&lt;NA&gt;</td>\n",
       "      <td>P</td>\n",
       "      <td>66</td>\n",
       "      <td>D3117D65827932EB6A7F54F73EB1700C0D9F289C</td>\n",
       "      <td>...</td>\n",
       "      <td>&lt;NA&gt;</td>\n",
       "      <td>EB24C1C62642D39E65FB5BA50044153D2BF6EEC9</td>\n",
       "      <td>monthly</td>\n",
       "      <td>False</td>\n",
       "      <td>&lt;NA&gt;</td>\n",
       "      <td>44.17</td>\n",
       "      <td>&lt;NA&gt;</td>\n",
       "      <td>36.34</td>\n",
       "      <td>&lt;NA&gt;</td>\n",
       "      <td>47.11</td>\n",
       "    </tr>\n",
       "    <tr>\n",
       "      <th>2511</th>\n",
       "      <td>2511</td>\n",
       "      <td>285.0</td>\n",
       "      <td>406.0</td>\n",
       "      <td>232.0</td>\n",
       "      <td>VIETRI DI POTENZA</td>\n",
       "      <td>&lt;NA&gt;</td>\n",
       "      <td>&lt;NA&gt;</td>\n",
       "      <td>P</td>\n",
       "      <td>0</td>\n",
       "      <td>44F5D3195791957FCF7010485404E83F3BDB9F0B</td>\n",
       "      <td>...</td>\n",
       "      <td>&lt;NA&gt;</td>\n",
       "      <td>1D2EAAAFDD212B85E05CC2275D44020B05B1E5B7</td>\n",
       "      <td>monthly</td>\n",
       "      <td>False</td>\n",
       "      <td>&lt;NA&gt;</td>\n",
       "      <td>101.28</td>\n",
       "      <td>&lt;NA&gt;</td>\n",
       "      <td>74.09</td>\n",
       "      <td>&lt;NA&gt;</td>\n",
       "      <td>87.2</td>\n",
       "    </tr>\n",
       "    <tr>\n",
       "      <th>...</th>\n",
       "      <td>...</td>\n",
       "      <td>...</td>\n",
       "      <td>...</td>\n",
       "      <td>...</td>\n",
       "      <td>...</td>\n",
       "      <td>...</td>\n",
       "      <td>...</td>\n",
       "      <td>...</td>\n",
       "      <td>...</td>\n",
       "      <td>...</td>\n",
       "      <td>...</td>\n",
       "      <td>...</td>\n",
       "      <td>...</td>\n",
       "      <td>...</td>\n",
       "      <td>...</td>\n",
       "      <td>...</td>\n",
       "      <td>...</td>\n",
       "      <td>...</td>\n",
       "      <td>...</td>\n",
       "      <td>...</td>\n",
       "      <td>...</td>\n",
       "    </tr>\n",
       "    <tr>\n",
       "      <th>535993</th>\n",
       "      <td>2506364</td>\n",
       "      <td>154.0</td>\n",
       "      <td>130.0</td>\n",
       "      <td>231.0</td>\n",
       "      <td>VIETRI DI POTENZA</td>\n",
       "      <td>&lt;NA&gt;</td>\n",
       "      <td>&lt;NA&gt;</td>\n",
       "      <td>M</td>\n",
       "      <td>0</td>\n",
       "      <td>B604345ABA6914CC140753F1C43DD5F22E84C0F2</td>\n",
       "      <td>...</td>\n",
       "      <td>&lt;NA&gt;</td>\n",
       "      <td>ACFABF3A26CB1D3BAE16D631A591A68E0632648D</td>\n",
       "      <td>monthly</td>\n",
       "      <td>False</td>\n",
       "      <td>&lt;NA&gt;</td>\n",
       "      <td>45.78</td>\n",
       "      <td>&lt;NA&gt;</td>\n",
       "      <td>24.22</td>\n",
       "      <td>&lt;NA&gt;</td>\n",
       "      <td>102.87</td>\n",
       "    </tr>\n",
       "    <tr>\n",
       "      <th>536213</th>\n",
       "      <td>2506584</td>\n",
       "      <td>328.0</td>\n",
       "      <td>106.0</td>\n",
       "      <td>213.0</td>\n",
       "      <td>VIETRI DI POTENZA</td>\n",
       "      <td>&lt;NA&gt;</td>\n",
       "      <td>&lt;NA&gt;</td>\n",
       "      <td>P</td>\n",
       "      <td>0</td>\n",
       "      <td>5DE7A59C94526D1AE0A9B2F677FB8A7E9392F05D</td>\n",
       "      <td>...</td>\n",
       "      <td>&lt;NA&gt;</td>\n",
       "      <td>E5FDCA4AAE441EDD18E252195A15B0311668CA83</td>\n",
       "      <td>monthly</td>\n",
       "      <td>False</td>\n",
       "      <td>&lt;NA&gt;</td>\n",
       "      <td>48.95</td>\n",
       "      <td>&lt;NA&gt;</td>\n",
       "      <td>21.77</td>\n",
       "      <td>&lt;NA&gt;</td>\n",
       "      <td>84.41</td>\n",
       "    </tr>\n",
       "    <tr>\n",
       "      <th>536734</th>\n",
       "      <td>2507105</td>\n",
       "      <td>887.0</td>\n",
       "      <td>308.0</td>\n",
       "      <td>612.0</td>\n",
       "      <td>VIETRI DI POTENZA</td>\n",
       "      <td>&lt;NA&gt;</td>\n",
       "      <td>&lt;NA&gt;</td>\n",
       "      <td>P</td>\n",
       "      <td>0</td>\n",
       "      <td>A28B8B991F008ADDAB2CB72265E4471BB4100A3A</td>\n",
       "      <td>...</td>\n",
       "      <td>&lt;NA&gt;</td>\n",
       "      <td>2BB9E9903163EA9EE0827CEF7C226FE96E309DAA</td>\n",
       "      <td>monthly</td>\n",
       "      <td>False</td>\n",
       "      <td>&lt;NA&gt;</td>\n",
       "      <td>109.07</td>\n",
       "      <td>&lt;NA&gt;</td>\n",
       "      <td>32.8</td>\n",
       "      <td>&lt;NA&gt;</td>\n",
       "      <td>192.82</td>\n",
       "    </tr>\n",
       "    <tr>\n",
       "      <th>536750</th>\n",
       "      <td>2507121</td>\n",
       "      <td>1823.0</td>\n",
       "      <td>1336.0</td>\n",
       "      <td>3100.0</td>\n",
       "      <td>VIETRI DI POTENZA</td>\n",
       "      <td>&lt;NA&gt;</td>\n",
       "      <td>&lt;NA&gt;</td>\n",
       "      <td>P</td>\n",
       "      <td>0</td>\n",
       "      <td>E700B1E71861717A167A2F37A076D570E196F73F</td>\n",
       "      <td>...</td>\n",
       "      <td>&lt;NA&gt;</td>\n",
       "      <td>7ED689C6B0A04EE3419416F6AD849E4766337115</td>\n",
       "      <td>monthly</td>\n",
       "      <td>False</td>\n",
       "      <td>&lt;NA&gt;</td>\n",
       "      <td>187.52</td>\n",
       "      <td>&lt;NA&gt;</td>\n",
       "      <td>46.56</td>\n",
       "      <td>&lt;NA&gt;</td>\n",
       "      <td>372.28</td>\n",
       "    </tr>\n",
       "    <tr>\n",
       "      <th>541347</th>\n",
       "      <td>2511718</td>\n",
       "      <td>0.0</td>\n",
       "      <td>0.0</td>\n",
       "      <td>0.0</td>\n",
       "      <td>VIETRI DI POTENZA</td>\n",
       "      <td>&lt;NA&gt;</td>\n",
       "      <td>&lt;NA&gt;</td>\n",
       "      <td>M</td>\n",
       "      <td>0</td>\n",
       "      <td>4832FCCBF2402CB8494F2A65C4676D3C59662F93</td>\n",
       "      <td>...</td>\n",
       "      <td>2,32 €/smc</td>\n",
       "      <td>B42FD2262D706616A53007B900A0CCFDB80A4DDE</td>\n",
       "      <td>bimester</td>\n",
       "      <td>False</td>\n",
       "      <td>-96.85</td>\n",
       "      <td>&lt;NA&gt;</td>\n",
       "      <td>-622.24</td>\n",
       "      <td>&lt;NA&gt;</td>\n",
       "      <td>-95.85</td>\n",
       "      <td>&lt;NA&gt;</td>\n",
       "    </tr>\n",
       "  </tbody>\n",
       "</table>\n",
       "<p>2760 rows × 43 columns</p>\n",
       "</div>"
      ],
      "text/plain": [
       "        bill_id   F1_kWh  F2_kWh  F3_kWh               city address  \\\n",
       "1611       1611  23311.0  2219.0   467.0  VIETRI DI POTENZA    <NA>   \n",
       "1627       1627    210.0   149.0   226.0  VIETRI DI POTENZA    <NA>   \n",
       "1639       1639     95.0    52.0   105.0  VIETRI DI POTENZA    <NA>   \n",
       "1858       1858     65.0    34.0    60.0  VIETRI DI POTENZA    <NA>   \n",
       "2511       2511    285.0   406.0   232.0  VIETRI DI POTENZA    <NA>   \n",
       "...         ...      ...     ...     ...                ...     ...   \n",
       "535993  2506364    154.0   130.0   231.0  VIETRI DI POTENZA    <NA>   \n",
       "536213  2506584    328.0   106.0   213.0  VIETRI DI POTENZA    <NA>   \n",
       "536734  2507105    887.0   308.0   612.0  VIETRI DI POTENZA    <NA>   \n",
       "536750  2507121   1823.0  1336.0  3100.0  VIETRI DI POTENZA    <NA>   \n",
       "541347  2511718      0.0     0.0     0.0  VIETRI DI POTENZA    <NA>   \n",
       "\n",
       "       nominative sex  age                                 user_code  ...  \\\n",
       "1611         <NA>   P    0  8CE314D06FEFFD54C0F1497C20C479F376102747  ...   \n",
       "1627         <NA>   P   45  A1E7C992D46A2D6D911C3595DF603D3F2C6BEB37  ...   \n",
       "1639         <NA>   P    0  3CE203296BE19C1257020DA7EFEB84A0D3F4F7B7  ...   \n",
       "1858         <NA>   P   66  D3117D65827932EB6A7F54F73EB1700C0D9F289C  ...   \n",
       "2511         <NA>   P    0  44F5D3195791957FCF7010485404E83F3BDB9F0B  ...   \n",
       "...           ...  ..  ...                                       ...  ...   \n",
       "535993       <NA>   M    0  B604345ABA6914CC140753F1C43DD5F22E84C0F2  ...   \n",
       "536213       <NA>   P    0  5DE7A59C94526D1AE0A9B2F677FB8A7E9392F05D  ...   \n",
       "536734       <NA>   P    0  A28B8B991F008ADDAB2CB72265E4471BB4100A3A  ...   \n",
       "536750       <NA>   P    0  E700B1E71861717A167A2F37A076D570E196F73F  ...   \n",
       "541347       <NA>   M    0  4832FCCBF2402CB8494F2A65C4676D3C59662F93  ...   \n",
       "\n",
       "       average_gas_bill_cost                             customer_code  \\\n",
       "1611                    <NA>  F631ED0EF8EC71428366F15C369AA53792A6F20D   \n",
       "1627                    <NA>  1E9BC1B19300B6E472980894714A4C8382C565EA   \n",
       "1639                    <NA>  CC5C0DB0AA0034008B3398775B1EC89FC21A9DDB   \n",
       "1858                    <NA>  EB24C1C62642D39E65FB5BA50044153D2BF6EEC9   \n",
       "2511                    <NA>  1D2EAAAFDD212B85E05CC2275D44020B05B1E5B7   \n",
       "...                      ...                                       ...   \n",
       "535993                  <NA>  ACFABF3A26CB1D3BAE16D631A591A68E0632648D   \n",
       "536213                  <NA>  E5FDCA4AAE441EDD18E252195A15B0311668CA83   \n",
       "536734                  <NA>  2BB9E9903163EA9EE0827CEF7C226FE96E309DAA   \n",
       "536750                  <NA>  7ED689C6B0A04EE3419416F6AD849E4766337115   \n",
       "541347            2,32 €/smc  B42FD2262D706616A53007B900A0CCFDB80A4DDE   \n",
       "\n",
       "       billing_frequency bill_type gas_system_charges light_system_charges  \\\n",
       "1611             monthly     False               <NA>              1176.31   \n",
       "1627             monthly     False               <NA>                76.08   \n",
       "1639             monthly     False               <NA>                 40.8   \n",
       "1858             monthly     False               <NA>                44.17   \n",
       "2511             monthly     False               <NA>               101.28   \n",
       "...                  ...       ...                ...                  ...   \n",
       "535993           monthly     False               <NA>                45.78   \n",
       "536213           monthly     False               <NA>                48.95   \n",
       "536734           monthly     False               <NA>               109.07   \n",
       "536750           monthly     False               <NA>               187.52   \n",
       "541347          bimester     False             -96.85                 <NA>   \n",
       "\n",
       "       gas_material_cost light_transport_cost gas_transport_cost  \\\n",
       "1611                <NA>               481.81               <NA>   \n",
       "1627                <NA>                50.45               <NA>   \n",
       "1639                <NA>                29.47               <NA>   \n",
       "1858                <NA>                36.34               <NA>   \n",
       "2511                <NA>                74.09               <NA>   \n",
       "...                  ...                  ...                ...   \n",
       "535993              <NA>                24.22               <NA>   \n",
       "536213              <NA>                21.77               <NA>   \n",
       "536734              <NA>                 32.8               <NA>   \n",
       "536750              <NA>                46.56               <NA>   \n",
       "541347           -622.24                 <NA>             -95.85   \n",
       "\n",
       "       light_material_cost  \n",
       "1611               2067.89  \n",
       "1627                 85.57  \n",
       "1639                 45.65  \n",
       "1858                 47.11  \n",
       "2511                  87.2  \n",
       "...                    ...  \n",
       "535993              102.87  \n",
       "536213               84.41  \n",
       "536734              192.82  \n",
       "536750              372.28  \n",
       "541347                <NA>  \n",
       "\n",
       "[2760 rows x 43 columns]"
      ]
     },
     "execution_count": 9,
     "metadata": {},
     "output_type": "execute_result"
    }
   ],
   "source": [
    "df[df['city'] == 'VIETRI DI POTENZA'].compute()"
   ]
  },
  {
   "cell_type": "code",
   "execution_count": 12,
   "id": "64d97f41-b929-4171-baac-4bc3a0169a37",
   "metadata": {},
   "outputs": [
    {
     "data": {
      "text/plain": [
       "StringIndex(['3A3280EB6C0F4C672AB923ECC5CB01D29BE9FBCF'\n",
       " 'FA5E3ADB2DE4D8651BA10F9E2A6E2F468EA359BA'\n",
       " 'C1D72C62ED72FB72133E706FF5D7F84BF28A9C40' ...\n",
       " '41CE9ABCDE10249C5090C866E035DF5788B64772'\n",
       " 'E3F9978701B543A3E84EF555D895C021739C5268'\n",
       " '1A81211D36C8A6D53D1BCB4D0426EF75B210AD5D'], dtype='object')"
      ]
     },
     "execution_count": 12,
     "metadata": {},
     "output_type": "execute_result"
    }
   ],
   "source": [
    "# PROVO A VEDERE SE SONO PRESENTI ALTRI RECORDS DEGLI UTENTI A CUI MANCANO NOMINATIVE E ADDRESS\n",
    "v = df['user_code'].value_counts()\n",
    "v[v.gt(1)].index.compute()"
   ]
  },
  {
   "cell_type": "code",
   "execution_count": 16,
   "id": "faab2772-0fc0-4854-873a-f7be61938ea0",
   "metadata": {},
   "outputs": [
    {
     "data": {
      "text/html": [
       "<div>\n",
       "<style scoped>\n",
       "    .dataframe tbody tr th:only-of-type {\n",
       "        vertical-align: middle;\n",
       "    }\n",
       "\n",
       "    .dataframe tbody tr th {\n",
       "        vertical-align: top;\n",
       "    }\n",
       "\n",
       "    .dataframe thead th {\n",
       "        text-align: right;\n",
       "    }\n",
       "</style>\n",
       "<table border=\"1\" class=\"dataframe\">\n",
       "  <thead>\n",
       "    <tr style=\"text-align: right;\">\n",
       "      <th></th>\n",
       "      <th>bill_id</th>\n",
       "      <th>F1_kWh</th>\n",
       "      <th>F2_kWh</th>\n",
       "      <th>F3_kWh</th>\n",
       "      <th>city</th>\n",
       "      <th>address</th>\n",
       "      <th>nominative</th>\n",
       "      <th>sex</th>\n",
       "      <th>age</th>\n",
       "      <th>user_code</th>\n",
       "      <th>...</th>\n",
       "      <th>average_gas_bill_cost</th>\n",
       "      <th>customer_code</th>\n",
       "      <th>billing_frequency</th>\n",
       "      <th>bill_type</th>\n",
       "      <th>gas_system_charges</th>\n",
       "      <th>light_system_charges</th>\n",
       "      <th>gas_material_cost</th>\n",
       "      <th>light_transport_cost</th>\n",
       "      <th>gas_transport_cost</th>\n",
       "      <th>light_material_cost</th>\n",
       "    </tr>\n",
       "  </thead>\n",
       "  <tbody>\n",
       "    <tr>\n",
       "      <th>0</th>\n",
       "      <td>0</td>\n",
       "      <td>0.0</td>\n",
       "      <td>0.0</td>\n",
       "      <td>0.0</td>\n",
       "      <td>CIPRESSA</td>\n",
       "      <td>C23B8FC235DF5479FB28D81E827A59B819BB0748</td>\n",
       "      <td>0298E5E66B5653CDAACADD156261A2A916A56C7E</td>\n",
       "      <td>F</td>\n",
       "      <td>81</td>\n",
       "      <td>63D286C61D20D76E9C9317BEB8644D5EE45134E4</td>\n",
       "      <td>...</td>\n",
       "      <td>&lt;NA&gt;</td>\n",
       "      <td>5AE3987CBA311BCAADC6274D28A7FB14B13B53C3</td>\n",
       "      <td>&lt;NA&gt;</td>\n",
       "      <td>False</td>\n",
       "      <td>-0.06</td>\n",
       "      <td>&lt;NA&gt;</td>\n",
       "      <td>0.06</td>\n",
       "      <td>&lt;NA&gt;</td>\n",
       "      <td>-0.2</td>\n",
       "      <td>&lt;NA&gt;</td>\n",
       "    </tr>\n",
       "    <tr>\n",
       "      <th>1</th>\n",
       "      <td>1</td>\n",
       "      <td>81.0</td>\n",
       "      <td>62.0</td>\n",
       "      <td>76.0</td>\n",
       "      <td>ROCCAVIVARA</td>\n",
       "      <td>CBE6B021F41D589269FBC724C131CBFC9905D950</td>\n",
       "      <td>FDAE2B1E0934BB76255A727CC9F3F00AA39982D9</td>\n",
       "      <td>M</td>\n",
       "      <td>38</td>\n",
       "      <td>8053C7982DE8A18746A8F9F0D1DC4B0C33CAC0FA</td>\n",
       "      <td>...</td>\n",
       "      <td>&lt;NA&gt;</td>\n",
       "      <td>5F88D510670063B20E789E6453BC2F3FB0BB67F7</td>\n",
       "      <td>&lt;NA&gt;</td>\n",
       "      <td>False</td>\n",
       "      <td>&lt;NA&gt;</td>\n",
       "      <td>9.15</td>\n",
       "      <td>&lt;NA&gt;</td>\n",
       "      <td>5.68</td>\n",
       "      <td>&lt;NA&gt;</td>\n",
       "      <td>23.13</td>\n",
       "    </tr>\n",
       "    <tr>\n",
       "      <th>2</th>\n",
       "      <td>2</td>\n",
       "      <td>0.0</td>\n",
       "      <td>0.0</td>\n",
       "      <td>0.0</td>\n",
       "      <td>VIDRACCO</td>\n",
       "      <td>BFAEB566B3BB78B9ABD4F86DB3A78BFD8489013B</td>\n",
       "      <td>FEBE7F29FB854C477AFA7073C70F0E6EA81C6B00</td>\n",
       "      <td>M</td>\n",
       "      <td>53</td>\n",
       "      <td>4F053D54B9F1B6FE565498E7FA726501FD8FDD18</td>\n",
       "      <td>...</td>\n",
       "      <td>&lt;NA&gt;</td>\n",
       "      <td>D4B8928760E729127EB4EB532C86127325FBA468</td>\n",
       "      <td>&lt;NA&gt;</td>\n",
       "      <td>False</td>\n",
       "      <td>1.24</td>\n",
       "      <td>&lt;NA&gt;</td>\n",
       "      <td>-10.13</td>\n",
       "      <td>&lt;NA&gt;</td>\n",
       "      <td>-7.13</td>\n",
       "      <td>&lt;NA&gt;</td>\n",
       "    </tr>\n",
       "    <tr>\n",
       "      <th>3</th>\n",
       "      <td>3</td>\n",
       "      <td>0.0</td>\n",
       "      <td>0.0</td>\n",
       "      <td>0.0</td>\n",
       "      <td>MEZZOLOMBARDO</td>\n",
       "      <td>CBD30C382C72ED4A3D9DC9D11C13C155930E7C66</td>\n",
       "      <td>9220A3E83BDCE622F70A1456C7898687FD3EDAC8</td>\n",
       "      <td>M</td>\n",
       "      <td>50</td>\n",
       "      <td>115C7D34A79C66AFCDB4EB65262595B197B0F861</td>\n",
       "      <td>...</td>\n",
       "      <td>1,08 €/smc</td>\n",
       "      <td>BD4DEF66D7EF2D3D683D9C381D2359AD24B41D9C</td>\n",
       "      <td>&lt;NA&gt;</td>\n",
       "      <td>False</td>\n",
       "      <td>-0.88</td>\n",
       "      <td>&lt;NA&gt;</td>\n",
       "      <td>23.68</td>\n",
       "      <td>&lt;NA&gt;</td>\n",
       "      <td>17.66</td>\n",
       "      <td>&lt;NA&gt;</td>\n",
       "    </tr>\n",
       "    <tr>\n",
       "      <th>4</th>\n",
       "      <td>4</td>\n",
       "      <td>0.0</td>\n",
       "      <td>0.0</td>\n",
       "      <td>0.0</td>\n",
       "      <td>PINETO</td>\n",
       "      <td>4D17C711CADED6C1E9BD459088B4B80F24575FE7</td>\n",
       "      <td>642C21354EF6017D13220517E2A25D4A0442D4C5</td>\n",
       "      <td>M</td>\n",
       "      <td>65</td>\n",
       "      <td>C7734B97A212004CEA25956D8FDFEF068CD2B8F6</td>\n",
       "      <td>...</td>\n",
       "      <td>0,86 €/smc</td>\n",
       "      <td>C0622AFD22384A4B54CD1ACAF7D988B89853A5AC</td>\n",
       "      <td>&lt;NA&gt;</td>\n",
       "      <td>False</td>\n",
       "      <td>14.71</td>\n",
       "      <td>&lt;NA&gt;</td>\n",
       "      <td>141.57</td>\n",
       "      <td>&lt;NA&gt;</td>\n",
       "      <td>63.59</td>\n",
       "      <td>&lt;NA&gt;</td>\n",
       "    </tr>\n",
       "  </tbody>\n",
       "</table>\n",
       "<p>5 rows × 43 columns</p>\n",
       "</div>"
      ],
      "text/plain": [
       "   bill_id  F1_kWh  F2_kWh  F3_kWh           city  \\\n",
       "0        0     0.0     0.0     0.0       CIPRESSA   \n",
       "1        1    81.0    62.0    76.0    ROCCAVIVARA   \n",
       "2        2     0.0     0.0     0.0       VIDRACCO   \n",
       "3        3     0.0     0.0     0.0  MEZZOLOMBARDO   \n",
       "4        4     0.0     0.0     0.0         PINETO   \n",
       "\n",
       "                                    address  \\\n",
       "0  C23B8FC235DF5479FB28D81E827A59B819BB0748   \n",
       "1  CBE6B021F41D589269FBC724C131CBFC9905D950   \n",
       "2  BFAEB566B3BB78B9ABD4F86DB3A78BFD8489013B   \n",
       "3  CBD30C382C72ED4A3D9DC9D11C13C155930E7C66   \n",
       "4  4D17C711CADED6C1E9BD459088B4B80F24575FE7   \n",
       "\n",
       "                                 nominative sex  age  \\\n",
       "0  0298E5E66B5653CDAACADD156261A2A916A56C7E   F   81   \n",
       "1  FDAE2B1E0934BB76255A727CC9F3F00AA39982D9   M   38   \n",
       "2  FEBE7F29FB854C477AFA7073C70F0E6EA81C6B00   M   53   \n",
       "3  9220A3E83BDCE622F70A1456C7898687FD3EDAC8   M   50   \n",
       "4  642C21354EF6017D13220517E2A25D4A0442D4C5   M   65   \n",
       "\n",
       "                                  user_code  ... average_gas_bill_cost  \\\n",
       "0  63D286C61D20D76E9C9317BEB8644D5EE45134E4  ...                  <NA>   \n",
       "1  8053C7982DE8A18746A8F9F0D1DC4B0C33CAC0FA  ...                  <NA>   \n",
       "2  4F053D54B9F1B6FE565498E7FA726501FD8FDD18  ...                  <NA>   \n",
       "3  115C7D34A79C66AFCDB4EB65262595B197B0F861  ...            1,08 €/smc   \n",
       "4  C7734B97A212004CEA25956D8FDFEF068CD2B8F6  ...            0,86 €/smc   \n",
       "\n",
       "                              customer_code billing_frequency bill_type  \\\n",
       "0  5AE3987CBA311BCAADC6274D28A7FB14B13B53C3              <NA>     False   \n",
       "1  5F88D510670063B20E789E6453BC2F3FB0BB67F7              <NA>     False   \n",
       "2  D4B8928760E729127EB4EB532C86127325FBA468              <NA>     False   \n",
       "3  BD4DEF66D7EF2D3D683D9C381D2359AD24B41D9C              <NA>     False   \n",
       "4  C0622AFD22384A4B54CD1ACAF7D988B89853A5AC              <NA>     False   \n",
       "\n",
       "  gas_system_charges light_system_charges gas_material_cost  \\\n",
       "0              -0.06                 <NA>              0.06   \n",
       "1               <NA>                 9.15              <NA>   \n",
       "2               1.24                 <NA>            -10.13   \n",
       "3              -0.88                 <NA>             23.68   \n",
       "4              14.71                 <NA>            141.57   \n",
       "\n",
       "  light_transport_cost gas_transport_cost light_material_cost  \n",
       "0                 <NA>               -0.2                <NA>  \n",
       "1                 5.68               <NA>               23.13  \n",
       "2                 <NA>              -7.13                <NA>  \n",
       "3                 <NA>              17.66                <NA>  \n",
       "4                 <NA>              63.59                <NA>  \n",
       "\n",
       "[5 rows x 43 columns]"
      ]
     },
     "execution_count": 16,
     "metadata": {},
     "output_type": "execute_result"
    }
   ],
   "source": [
    "# DATASET CON GLI user_code CHE COMPAIONO PIù DI UNA VOLTA\n",
    "df[df['user_code'].isin(v[v.gt(1)].index.compute())].head()"
   ]
  },
  {
   "cell_type": "code",
   "execution_count": 15,
   "id": "78bba50c-c2df-4578-9cb8-a8fd80fbbd7b",
   "metadata": {},
   "outputs": [
    {
     "data": {
      "text/plain": [
       "0         <NA>\n",
       "0     bimester\n",
       "0     bimester\n",
       "0     bimester\n",
       "0     bimester\n",
       "0    quarterly\n",
       "0    quarterly\n",
       "0      monthly\n",
       "0     bimester\n",
       "0     bimester\n",
       "0     bimester\n",
       "0     bimester\n",
       "0     bimester\n",
       "0     bimester\n",
       "0         <NA>\n",
       "0     bimester\n",
       "0     bimester\n",
       "0     bimester\n",
       "0     bimester\n",
       "Name: billing_frequency, dtype: string"
      ]
     },
     "execution_count": 15,
     "metadata": {},
     "output_type": "execute_result"
    }
   ],
   "source": [
    "# Le date potrebbero fornirci informazioni sulla billing_frequency, o viceversa, come lo stabiliamo?\n",
    "# Cosa indica la colonna dell'emission_date??\n",
    "\n",
    "#NOTA PER DASK, SE FACCIAMO 0 CI TORNA IL PRIMO RECORD DI TUTTE LE 52 PARTIZIONI\n",
    "df.loc[0, 'billing_frequency'].compute()"
   ]
  },
  {
   "cell_type": "markdown",
   "id": "53bc7dbd-3732-434a-920a-d172c14d3f91",
   "metadata": {
    "tags": []
   },
   "source": [
    "## Locate Outliers DA PORTARE "
   ]
  },
  {
   "cell_type": "code",
   "execution_count": 22,
   "id": "edf3f731-b386-4fa2-ae8b-075698420887",
   "metadata": {},
   "outputs": [
    {
     "data": {
      "text/plain": [
       "0.0"
      ]
     },
     "execution_count": 22,
     "metadata": {},
     "output_type": "execute_result"
    }
   ],
   "source": [
    "base['F1_kWh'].astype(np.float64).quantile(0.1).compute()"
   ]
  },
  {
   "cell_type": "code",
   "execution_count": 6,
   "id": "4daa506e-4ba2-40d2-bb22-36075cc3e232",
   "metadata": {},
   "outputs": [
    {
     "data": {
      "text/plain": [
       "6       -1.0\n",
       "44    1356.0\n",
       "52     -15.0\n",
       "61     -30.0\n",
       "71    6513.0\n",
       "Name: F1_kWh, dtype: float64"
      ]
     },
     "execution_count": 6,
     "metadata": {},
     "output_type": "execute_result"
    }
   ],
   "source": [
    "#CERTE COLONNE CON IL TIPO DI DATO PARTICOLARE TIPO FLOATDTYPE64 VANNO CONVERTITE IN TIPI COMPRENSIBILI\n",
    "base.get_df()['F1_kWh'] = base.get_df()['F1_kWh'].astype(float)\n",
    "base.locate_outliers('F1_kWh').head()"
   ]
  },
  {
   "cell_type": "code",
   "execution_count": 17,
   "id": "89ce6c1e-ac1a-4ddb-a7f9-1d7f4f138daa",
   "metadata": {},
   "outputs": [
    {
     "data": {
      "text/plain": [
       "['bill_id',\n",
       " 'F1_kWh',\n",
       " 'F2_kWh',\n",
       " 'F3_kWh',\n",
       " 'address',\n",
       " 'nominative',\n",
       " 'age',\n",
       " 'gas_amount',\n",
       " 'gas_average_cost',\n",
       " 'light_average_cost',\n",
       " 'gas_consumption',\n",
       " 'light_consumption',\n",
       " 'gas_offer',\n",
       " 'light_offer',\n",
       " 'light_amount',\n",
       " 'average_unit_light_cost',\n",
       " 'average_light_bill_cost',\n",
       " 'average_unit_gas_cost',\n",
       " 'average_gas_bill_cost',\n",
       " 'billing_frequency',\n",
       " 'gas_system_charges',\n",
       " 'light_system_charges',\n",
       " 'gas_material_cost',\n",
       " 'light_transport_cost',\n",
       " 'gas_transport_cost',\n",
       " 'light_material_cost']"
      ]
     },
     "execution_count": 17,
     "metadata": {},
     "output_type": "execute_result"
    }
   ],
   "source": [
    "type = df.dtypes\n",
    "num = type[type!='object'][type!='bool']\n",
    "num = num.index.to_list()\n",
    "num"
   ]
  },
  {
   "cell_type": "code",
   "execution_count": 8,
   "id": "0886d9e0-0a6b-4038-b5cb-f06489ec9892",
   "metadata": {},
   "outputs": [
    {
     "data": {
      "text/plain": [
       "Dask Series Structure:\n",
       "npartitions=57\n",
       "    float64\n",
       "        ...\n",
       "     ...   \n",
       "        ...\n",
       "        ...\n",
       "Name: F1_kWh, dtype: float64\n",
       "Dask Name: index, 743 tasks"
      ]
     },
     "execution_count": 8,
     "metadata": {},
     "output_type": "execute_result"
    }
   ],
   "source": [
    "tmp = base.locate_outliers(\"F1_kWh\")\n",
    "tmp\n",
    "# a lot of task per partition"
   ]
  },
  {
   "cell_type": "code",
   "execution_count": 9,
   "id": "5fef824c-b763-457a-a66d-1a2b4279942c",
   "metadata": {},
   "outputs": [
    {
     "data": {
      "text/plain": [
       "Dask Series Structure:\n",
       "npartitions=57\n",
       "    float64\n",
       "        ...\n",
       "     ...   \n",
       "        ...\n",
       "        ...\n",
       "Name: F1_kWh, dtype: float64\n",
       "Dask Name: index, 57 tasks"
      ]
     },
     "execution_count": 9,
     "metadata": {},
     "output_type": "execute_result"
    }
   ],
   "source": [
    "tmp = tmp.persist()\n",
    "tmp\n",
    "# no more than 1 task per partition"
   ]
  },
  {
   "cell_type": "code",
   "execution_count": null,
   "id": "9c5d1b7f-99cc-487e-bc1d-4ab874c16b08",
   "metadata": {},
   "outputs": [],
   "source": [
    "tmp.shape"
   ]
  },
  {
   "cell_type": "code",
   "execution_count": null,
   "id": "5a8ec9e4-c1eb-4c2c-8420-d7021c971731",
   "metadata": {},
   "outputs": [],
   "source": [
    "tmp = ddf.locate_outliers(\"F1_kWh\")\n",
    "tmp = tmp.compute()\n",
    "tmp.shape"
   ]
  },
  {
   "cell_type": "code",
   "execution_count": 38,
   "id": "53708b43-e626-48f8-9906-c276f2e594ac",
   "metadata": {},
   "outputs": [
    {
     "name": "stderr",
     "output_type": "stream",
     "text": [
      "  6%|▋         | 1/16 [00:09<02:21,  9.43s/it]"
     ]
    },
    {
     "name": "stdout",
     "output_type": "stream",
     "text": [
      "bill_id has 2152864 outliers\n"
     ]
    },
    {
     "name": "stderr",
     "output_type": "stream",
     "text": [
      " 12%|█▎        | 2/16 [00:17<02:04,  8.89s/it]"
     ]
    },
    {
     "name": "stdout",
     "output_type": "stream",
     "text": [
      "F1_kWh has 149572 outliers\n"
     ]
    },
    {
     "name": "stderr",
     "output_type": "stream",
     "text": [
      " 19%|█▉        | 3/16 [00:26<01:51,  8.56s/it]"
     ]
    },
    {
     "name": "stdout",
     "output_type": "stream",
     "text": [
      "F2_kWh has 146070 outliers\n"
     ]
    },
    {
     "name": "stderr",
     "output_type": "stream",
     "text": [
      " 25%|██▌       | 4/16 [00:34<01:40,  8.35s/it]"
     ]
    },
    {
     "name": "stdout",
     "output_type": "stream",
     "text": [
      "F3_kWh has 136762 outliers\n"
     ]
    },
    {
     "name": "stderr",
     "output_type": "stream",
     "text": [
      " 31%|███▏      | 5/16 [00:44<01:38,  8.92s/it]"
     ]
    },
    {
     "name": "stdout",
     "output_type": "stream",
     "text": [
      "age has 1770910 outliers\n"
     ]
    },
    {
     "name": "stderr",
     "output_type": "stream",
     "text": [
      " 38%|███▊      | 6/16 [00:52<01:27,  8.79s/it]"
     ]
    },
    {
     "name": "stdout",
     "output_type": "stream",
     "text": [
      "light_average_cost has 751553 outliers\n"
     ]
    },
    {
     "name": "stderr",
     "output_type": "stream",
     "text": [
      " 44%|████▍     | 7/16 [01:01<01:20,  8.98s/it]"
     ]
    },
    {
     "name": "stdout",
     "output_type": "stream",
     "text": [
      "gas_consumption has 1035931 outliers\n"
     ]
    },
    {
     "name": "stderr",
     "output_type": "stream",
     "text": [
      " 50%|█████     | 8/16 [01:10<01:10,  8.86s/it]"
     ]
    },
    {
     "name": "stdout",
     "output_type": "stream",
     "text": [
      "light_consumption has 725697 outliers\n"
     ]
    },
    {
     "name": "stderr",
     "output_type": "stream",
     "text": [
      " 56%|█████▋    | 9/16 [01:20<01:05,  9.34s/it]"
     ]
    },
    {
     "name": "stdout",
     "output_type": "stream",
     "text": [
      "gas_offer has 2231835 outliers\n"
     ]
    },
    {
     "name": "stderr",
     "output_type": "stream",
     "text": [
      " 62%|██████▎   | 10/16 [01:31<00:58,  9.76s/it]"
     ]
    },
    {
     "name": "stdout",
     "output_type": "stream",
     "text": [
      "light_offer has 2685000 outliers\n"
     ]
    },
    {
     "name": "stderr",
     "output_type": "stream",
     "text": [
      " 69%|██████▉   | 11/16 [01:41<00:49,  9.93s/it]"
     ]
    },
    {
     "name": "stdout",
     "output_type": "stream",
     "text": [
      "gas_system_charges has 2809153 outliers\n"
     ]
    },
    {
     "name": "stderr",
     "output_type": "stream",
     "text": [
      " 75%|███████▌  | 12/16 [01:50<00:38,  9.63s/it]"
     ]
    },
    {
     "name": "stdout",
     "output_type": "stream",
     "text": [
      "light_system_charges has 777167 outliers\n"
     ]
    },
    {
     "name": "stderr",
     "output_type": "stream",
     "text": [
      " 81%|████████▏ | 13/16 [02:00<00:28,  9.49s/it]"
     ]
    },
    {
     "name": "stdout",
     "output_type": "stream",
     "text": [
      "gas_material_cost has 1469300 outliers\n"
     ]
    },
    {
     "name": "stderr",
     "output_type": "stream",
     "text": [
      " 88%|████████▊ | 14/16 [02:09<00:18,  9.40s/it]"
     ]
    },
    {
     "name": "stdout",
     "output_type": "stream",
     "text": [
      "light_transport_cost has 1338296 outliers\n"
     ]
    },
    {
     "name": "stderr",
     "output_type": "stream",
     "text": [
      " 94%|█████████▍| 15/16 [02:19<00:09,  9.50s/it]"
     ]
    },
    {
     "name": "stdout",
     "output_type": "stream",
     "text": [
      "gas_transport_cost has 1867752 outliers\n"
     ]
    },
    {
     "name": "stderr",
     "output_type": "stream",
     "text": [
      "100%|██████████| 16/16 [02:27<00:00,  9.24s/it]"
     ]
    },
    {
     "name": "stdout",
     "output_type": "stream",
     "text": [
      "light_material_cost has 1037563 outliers\n"
     ]
    },
    {
     "name": "stderr",
     "output_type": "stream",
     "text": [
      "\n"
     ]
    }
   ],
   "source": [
    "for col in num:\n",
    "    tmp = base.locate_outliers(col)\n",
    "    tmp = tmp.compute()\n",
    "    \n",
    "    print(f\"{col} has {tmp.shape[0]} outliers\")"
   ]
  },
  {
   "cell_type": "markdown",
   "id": "45667c80-845b-49f7-bbe1-9f87b71d7c3b",
   "metadata": {
    "tags": []
   },
   "source": [
    "## Sort Data DA PORTARE (qui c'è già roba con dask, da verificare se funziona)"
   ]
  },
  {
   "cell_type": "code",
   "execution_count": 7,
   "id": "e79e186e-5ea7-4fb8-b180-7c369f960db4",
   "metadata": {},
   "outputs": [
    {
     "data": {
      "text/html": [
       "<div>\n",
       "<style scoped>\n",
       "    .dataframe tbody tr th:only-of-type {\n",
       "        vertical-align: middle;\n",
       "    }\n",
       "\n",
       "    .dataframe tbody tr th {\n",
       "        vertical-align: top;\n",
       "    }\n",
       "\n",
       "    .dataframe thead th {\n",
       "        text-align: right;\n",
       "    }\n",
       "</style>\n",
       "<table border=\"1\" class=\"dataframe\">\n",
       "  <thead>\n",
       "    <tr style=\"text-align: right;\">\n",
       "      <th></th>\n",
       "      <th>bill_id</th>\n",
       "      <th>F1_kWh</th>\n",
       "      <th>F2_kWh</th>\n",
       "      <th>F3_kWh</th>\n",
       "      <th>city</th>\n",
       "      <th>address</th>\n",
       "      <th>nominative</th>\n",
       "      <th>sex</th>\n",
       "      <th>age</th>\n",
       "      <th>user_code</th>\n",
       "      <th>...</th>\n",
       "      <th>average_gas_bill_cost</th>\n",
       "      <th>customer_code</th>\n",
       "      <th>billing_frequency</th>\n",
       "      <th>bill_type</th>\n",
       "      <th>gas_system_charges</th>\n",
       "      <th>light_system_charges</th>\n",
       "      <th>gas_material_cost</th>\n",
       "      <th>light_transport_cost</th>\n",
       "      <th>gas_transport_cost</th>\n",
       "      <th>light_material_cost</th>\n",
       "    </tr>\n",
       "  </thead>\n",
       "  <tbody>\n",
       "    <tr>\n",
       "      <th>461174</th>\n",
       "      <td>763206</td>\n",
       "      <td>NaN</td>\n",
       "      <td>91.0</td>\n",
       "      <td>99.0</td>\n",
       "      <td>MONTECCHIO</td>\n",
       "      <td>4184A9CEE19BB60C749D312255E3293A6CAB3511</td>\n",
       "      <td>7FE5F42763C8557BDEA2BF17B57630C25DE5F595</td>\n",
       "      <td>M</td>\n",
       "      <td>52</td>\n",
       "      <td>D22B2CEA63C59A32A7473C8173406541A106496A</td>\n",
       "      <td>...</td>\n",
       "      <td>&lt;NA&gt;</td>\n",
       "      <td>0DB35BBC1052B5067932A45FD482AFF81A2DF377</td>\n",
       "      <td>bimester</td>\n",
       "      <td>False</td>\n",
       "      <td>&lt;NA&gt;</td>\n",
       "      <td>-87.9</td>\n",
       "      <td>&lt;NA&gt;</td>\n",
       "      <td>-99.88</td>\n",
       "      <td>&lt;NA&gt;</td>\n",
       "      <td>38.79</td>\n",
       "    </tr>\n",
       "    <tr>\n",
       "      <th>469346</th>\n",
       "      <td>771378</td>\n",
       "      <td>NaN</td>\n",
       "      <td>107.0</td>\n",
       "      <td>&lt;NA&gt;</td>\n",
       "      <td>FOSSALTA DI PIAVE</td>\n",
       "      <td>BFF5D868FCA1CFAB9441639F0888566273833E61</td>\n",
       "      <td>3156EF3B3D32BD82F3AE3EF1B4115921E9C8F1F9</td>\n",
       "      <td>M</td>\n",
       "      <td>42</td>\n",
       "      <td>D23AC25D43B729E42A0FD415D00C92EBF5E467F8</td>\n",
       "      <td>...</td>\n",
       "      <td>&lt;NA&gt;</td>\n",
       "      <td>E117BD1DB181B0E522B38856EDDE11A90BED108C</td>\n",
       "      <td>bimester</td>\n",
       "      <td>False</td>\n",
       "      <td>&lt;NA&gt;</td>\n",
       "      <td>11.41</td>\n",
       "      <td>&lt;NA&gt;</td>\n",
       "      <td>16.48</td>\n",
       "      <td>&lt;NA&gt;</td>\n",
       "      <td>42.71</td>\n",
       "    </tr>\n",
       "    <tr>\n",
       "      <th>399408</th>\n",
       "      <td>1257944</td>\n",
       "      <td>NaN</td>\n",
       "      <td>63.0</td>\n",
       "      <td>&lt;NA&gt;</td>\n",
       "      <td>VIGONZA</td>\n",
       "      <td>62CD6ADF5A4B937AF85731F6729EB0879255A2CA</td>\n",
       "      <td>F8CDF6A8EA52B5BA0F9133161E5C75C98A21A5DD</td>\n",
       "      <td>F</td>\n",
       "      <td>26</td>\n",
       "      <td>C71C5E4FA06FA3D77A434A191D78F4A45B12CB34</td>\n",
       "      <td>...</td>\n",
       "      <td>&lt;NA&gt;</td>\n",
       "      <td>F5E33F8093411ABFDA555AD3E1A013EF5CEF3A67</td>\n",
       "      <td>bimester</td>\n",
       "      <td>False</td>\n",
       "      <td>&lt;NA&gt;</td>\n",
       "      <td>6.02</td>\n",
       "      <td>&lt;NA&gt;</td>\n",
       "      <td>15.32</td>\n",
       "      <td>&lt;NA&gt;</td>\n",
       "      <td>25.88</td>\n",
       "    </tr>\n",
       "    <tr>\n",
       "      <th>275461</th>\n",
       "      <td>2245832</td>\n",
       "      <td>NaN</td>\n",
       "      <td>&lt;NA&gt;</td>\n",
       "      <td>&lt;NA&gt;</td>\n",
       "      <td>MALCESINE</td>\n",
       "      <td>B850C7CB5B5A1669380B01658222835FB07D4514</td>\n",
       "      <td>D3043780957BF872B4A597E50CA9162182B11B60</td>\n",
       "      <td>M</td>\n",
       "      <td>46</td>\n",
       "      <td>66FE66C26F9A0D640F8FF52872BC7027DFF4337E</td>\n",
       "      <td>...</td>\n",
       "      <td>&lt;NA&gt;</td>\n",
       "      <td>1B1A9FA51C8BAC5A23BCFA2AB551510D630A6073</td>\n",
       "      <td>&lt;NA&gt;</td>\n",
       "      <td>False</td>\n",
       "      <td>0.0</td>\n",
       "      <td>0.13</td>\n",
       "      <td>0.0</td>\n",
       "      <td>0.03</td>\n",
       "      <td>0.0</td>\n",
       "      <td>0.38</td>\n",
       "    </tr>\n",
       "    <tr>\n",
       "      <th>402530</th>\n",
       "      <td>2372901</td>\n",
       "      <td>NaN</td>\n",
       "      <td>&lt;NA&gt;</td>\n",
       "      <td>&lt;NA&gt;</td>\n",
       "      <td>CORNUDA</td>\n",
       "      <td>E240ACE1E0BC1D105DDC68332F0765259095BBA8</td>\n",
       "      <td>DB131C242DB9548CD4F3780A5195ABF4B0933DB4</td>\n",
       "      <td>F</td>\n",
       "      <td>56</td>\n",
       "      <td>CC92C63F1B30E4987638A0EB7959CC16BE116AA4</td>\n",
       "      <td>...</td>\n",
       "      <td>&lt;NA&gt;</td>\n",
       "      <td>088B6416D4900E66C52D184D73094351D87D1560</td>\n",
       "      <td>&lt;NA&gt;</td>\n",
       "      <td>False</td>\n",
       "      <td>&lt;NA&gt;</td>\n",
       "      <td>21.11</td>\n",
       "      <td>&lt;NA&gt;</td>\n",
       "      <td>14.15</td>\n",
       "      <td>&lt;NA&gt;</td>\n",
       "      <td>18.91</td>\n",
       "    </tr>\n",
       "  </tbody>\n",
       "</table>\n",
       "<p>5 rows × 43 columns</p>\n",
       "</div>"
      ],
      "text/plain": [
       "        bill_id  F1_kWh F2_kWh  F3_kWh               city  \\\n",
       "461174   763206     NaN   91.0    99.0         MONTECCHIO   \n",
       "469346   771378     NaN  107.0    <NA>  FOSSALTA DI PIAVE   \n",
       "399408  1257944     NaN   63.0    <NA>            VIGONZA   \n",
       "275461  2245832     NaN   <NA>    <NA>          MALCESINE   \n",
       "402530  2372901     NaN   <NA>    <NA>            CORNUDA   \n",
       "\n",
       "                                         address  \\\n",
       "461174  4184A9CEE19BB60C749D312255E3293A6CAB3511   \n",
       "469346  BFF5D868FCA1CFAB9441639F0888566273833E61   \n",
       "399408  62CD6ADF5A4B937AF85731F6729EB0879255A2CA   \n",
       "275461  B850C7CB5B5A1669380B01658222835FB07D4514   \n",
       "402530  E240ACE1E0BC1D105DDC68332F0765259095BBA8   \n",
       "\n",
       "                                      nominative sex  age  \\\n",
       "461174  7FE5F42763C8557BDEA2BF17B57630C25DE5F595   M   52   \n",
       "469346  3156EF3B3D32BD82F3AE3EF1B4115921E9C8F1F9   M   42   \n",
       "399408  F8CDF6A8EA52B5BA0F9133161E5C75C98A21A5DD   F   26   \n",
       "275461  D3043780957BF872B4A597E50CA9162182B11B60   M   46   \n",
       "402530  DB131C242DB9548CD4F3780A5195ABF4B0933DB4   F   56   \n",
       "\n",
       "                                       user_code  ... average_gas_bill_cost  \\\n",
       "461174  D22B2CEA63C59A32A7473C8173406541A106496A  ...                  <NA>   \n",
       "469346  D23AC25D43B729E42A0FD415D00C92EBF5E467F8  ...                  <NA>   \n",
       "399408  C71C5E4FA06FA3D77A434A191D78F4A45B12CB34  ...                  <NA>   \n",
       "275461  66FE66C26F9A0D640F8FF52872BC7027DFF4337E  ...                  <NA>   \n",
       "402530  CC92C63F1B30E4987638A0EB7959CC16BE116AA4  ...                  <NA>   \n",
       "\n",
       "                                   customer_code billing_frequency bill_type  \\\n",
       "461174  0DB35BBC1052B5067932A45FD482AFF81A2DF377          bimester     False   \n",
       "469346  E117BD1DB181B0E522B38856EDDE11A90BED108C          bimester     False   \n",
       "399408  F5E33F8093411ABFDA555AD3E1A013EF5CEF3A67          bimester     False   \n",
       "275461  1B1A9FA51C8BAC5A23BCFA2AB551510D630A6073              <NA>     False   \n",
       "402530  088B6416D4900E66C52D184D73094351D87D1560              <NA>     False   \n",
       "\n",
       "       gas_system_charges light_system_charges  gas_material_cost  \\\n",
       "461174               <NA>                -87.9               <NA>   \n",
       "469346               <NA>                11.41               <NA>   \n",
       "399408               <NA>                 6.02               <NA>   \n",
       "275461                0.0                 0.13                0.0   \n",
       "402530               <NA>                21.11               <NA>   \n",
       "\n",
       "       light_transport_cost gas_transport_cost light_material_cost  \n",
       "461174               -99.88               <NA>               38.79  \n",
       "469346                16.48               <NA>               42.71  \n",
       "399408                15.32               <NA>               25.88  \n",
       "275461                 0.03                0.0                0.38  \n",
       "402530                14.15               <NA>               18.91  \n",
       "\n",
       "[5 rows x 43 columns]"
      ]
     },
     "execution_count": 7,
     "metadata": {},
     "output_type": "execute_result"
    }
   ],
   "source": [
    "#CERTE COLONNE CON IL TIPO DI DATO PARTICOLARE TIPO FLOATDTYPE64 VANNO CONVERTITE IN TIPI COMPRENSIBILI\n",
    "base.get_df()['F1_kWh'] = base.get_df()['F1_kWh'].astype(float)\n",
    "base.sort(\"F1_kWh\").tail()\n",
    "# working"
   ]
  },
  {
   "cell_type": "markdown",
   "id": "3301db32-7958-4881-8423-2afac2ccb557",
   "metadata": {
    "jp-MarkdownHeadingCollapsed": true,
    "tags": []
   },
   "source": [
    "### Bazze mirco"
   ]
  },
  {
   "cell_type": "code",
   "execution_count": null,
   "id": "34e6bca9-5f60-4d0d-9d94-9ac0defee60f",
   "metadata": {},
   "outputs": [],
   "source": [
    "tmp = ddf.sort_index(\"F1_kWh\").compute()\n",
    "# not working"
   ]
  },
  {
   "cell_type": "code",
   "execution_count": null,
   "id": "35f7f97e-dd04-4c92-b710-fb9f837e700a",
   "metadata": {},
   "outputs": [],
   "source": [
    "idx = tmp.index.to_arrow().to_pylist()\n",
    "# too mutch long list"
   ]
  },
  {
   "cell_type": "code",
   "execution_count": null,
   "id": "5a154b10-b23c-40e6-baee-517f118fd8e2",
   "metadata": {},
   "outputs": [],
   "source": [
    "tmp.merge(ddf.df, on=[\"F1_kWh\"], how=\"left\")"
   ]
  },
  {
   "cell_type": "markdown",
   "id": "83cb84a0-7da8-42cd-a6c3-7bba271c0106",
   "metadata": {
    "tags": []
   },
   "source": [
    "# 2. VALIDATION"
   ]
  },
  {
   "cell_type": "code",
   "execution_count": null,
   "id": "a78e654e-5ec8-4946-bb6b-b2b28bfacfc2",
   "metadata": {},
   "outputs": [],
   "source": [
    "''' \n",
    "+++++ DATA VALIDATION +++++\n",
    "    • Check data range\n",
    "    • Check column uniqueness\n",
    "    • Find data-mismatched data types\n",
    "'''"
   ]
  },
  {
   "cell_type": "markdown",
   "id": "93872d70-15ce-4bc4-98b0-e3a2f55610ce",
   "metadata": {
    "tags": []
   },
   "source": [
    "## Check Data Range DA PORTARE TUTTE (mi tirava fare un sottogruppo)"
   ]
  },
  {
   "cell_type": "markdown",
   "id": "7b33b46b-2476-490c-b743-82a20a182095",
   "metadata": {
    "tags": []
   },
   "source": [
    "### Age nulla per PIVA"
   ]
  },
  {
   "cell_type": "code",
   "execution_count": 8,
   "id": "5d138e4c-b729-4673-9ea2-01d139fd1123",
   "metadata": {},
   "outputs": [
    {
     "data": {
      "text/html": [
       "<div>\n",
       "<style scoped>\n",
       "    .dataframe tbody tr th:only-of-type {\n",
       "        vertical-align: middle;\n",
       "    }\n",
       "\n",
       "    .dataframe tbody tr th {\n",
       "        vertical-align: top;\n",
       "    }\n",
       "\n",
       "    .dataframe thead th {\n",
       "        text-align: right;\n",
       "    }\n",
       "</style>\n",
       "<table border=\"1\" class=\"dataframe\">\n",
       "  <thead>\n",
       "    <tr style=\"text-align: right;\">\n",
       "      <th></th>\n",
       "      <th>sex</th>\n",
       "      <th>age</th>\n",
       "    </tr>\n",
       "  </thead>\n",
       "  <tbody>\n",
       "    <tr>\n",
       "      <th>64385</th>\n",
       "      <td>P</td>\n",
       "      <td>NaN</td>\n",
       "    </tr>\n",
       "    <tr>\n",
       "      <th>45634</th>\n",
       "      <td>P</td>\n",
       "      <td>NaN</td>\n",
       "    </tr>\n",
       "    <tr>\n",
       "      <th>70015</th>\n",
       "      <td>P</td>\n",
       "      <td>NaN</td>\n",
       "    </tr>\n",
       "    <tr>\n",
       "      <th>116608</th>\n",
       "      <td>P</td>\n",
       "      <td>NaN</td>\n",
       "    </tr>\n",
       "    <tr>\n",
       "      <th>129934</th>\n",
       "      <td>P</td>\n",
       "      <td>NaN</td>\n",
       "    </tr>\n",
       "    <tr>\n",
       "      <th>...</th>\n",
       "      <td>...</td>\n",
       "      <td>...</td>\n",
       "    </tr>\n",
       "    <tr>\n",
       "      <th>536332</th>\n",
       "      <td>P</td>\n",
       "      <td>NaN</td>\n",
       "    </tr>\n",
       "    <tr>\n",
       "      <th>534336</th>\n",
       "      <td>P</td>\n",
       "      <td>NaN</td>\n",
       "    </tr>\n",
       "    <tr>\n",
       "      <th>534187</th>\n",
       "      <td>P</td>\n",
       "      <td>NaN</td>\n",
       "    </tr>\n",
       "    <tr>\n",
       "      <th>508897</th>\n",
       "      <td>P</td>\n",
       "      <td>NaN</td>\n",
       "    </tr>\n",
       "    <tr>\n",
       "      <th>519117</th>\n",
       "      <td>P</td>\n",
       "      <td>NaN</td>\n",
       "    </tr>\n",
       "  </tbody>\n",
       "</table>\n",
       "<p>40124 rows × 2 columns</p>\n",
       "</div>"
      ],
      "text/plain": [
       "       sex  age\n",
       "64385    P  NaN\n",
       "45634    P  NaN\n",
       "70015    P  NaN\n",
       "116608   P  NaN\n",
       "129934   P  NaN\n",
       "...     ..  ...\n",
       "536332   P  NaN\n",
       "534336   P  NaN\n",
       "534187   P  NaN\n",
       "508897   P  NaN\n",
       "519117   P  NaN\n",
       "\n",
       "[40124 rows x 2 columns]"
      ]
     },
     "execution_count": 8,
     "metadata": {},
     "output_type": "execute_result"
    }
   ],
   "source": [
    "# Controllo se chi ha P ha età nulla\n",
    "import pandas as pd\n",
    "df['age'] = df['age'].mask((df['sex']=='P') & (df['age']>=0), np.nan)\n",
    "df[(df['sex']=='P')][['sex','age']].sample(frac=0.1).compute()"
   ]
  },
  {
   "cell_type": "markdown",
   "id": "27a763d3-c20e-4607-aa7f-75948e8fd781",
   "metadata": {
    "tags": []
   },
   "source": [
    "### Age >= 18"
   ]
  },
  {
   "cell_type": "code",
   "execution_count": 10,
   "id": "c88e9261-63da-484b-9676-ea8288a25341",
   "metadata": {},
   "outputs": [
    {
     "data": {
      "text/plain": [
       "401212"
      ]
     },
     "execution_count": 10,
     "metadata": {},
     "output_type": "execute_result"
    }
   ],
   "source": [
    "# Age >= 18\n",
    "# Age non ha valori nulli (già controllato in precedenza IN TEORIA)\n",
    "# Dovrebbe corrispondere al numero di PIVA\n",
    "df['age'].isna().sum().compute()"
   ]
  },
  {
   "cell_type": "code",
   "execution_count": 88,
   "id": "694bdf0d-6d3e-402f-bdb5-b0d717a04f3c",
   "metadata": {},
   "outputs": [
    {
     "data": {
      "text/plain": [
       "111689"
      ]
     },
     "execution_count": 88,
     "metadata": {},
     "output_type": "execute_result"
    }
   ],
   "source": [
    "# Che fare con i minorenni? Li mettiamo tutti a 18 anni?\n",
    "df[(df['age'] < 18)].shape[0].compute()"
   ]
  },
  {
   "cell_type": "markdown",
   "id": "97c8f19d-7a93-42a3-8fb4-b92f65b2b304",
   "metadata": {
    "tags": []
   },
   "source": [
    "### Translation in English"
   ]
  },
  {
   "cell_type": "code",
   "execution_count": 12,
   "id": "f2919a28-b76e-49a8-b466-8ca6fa555c0d",
   "metadata": {},
   "outputs": [
    {
     "data": {
      "text/plain": [
       "gas           5686288\n",
       "luce          3684510\n",
       "gas e luce    1126345\n",
       "Name: supply_type, dtype: int64"
      ]
     },
     "execution_count": 12,
     "metadata": {},
     "output_type": "execute_result"
    }
   ],
   "source": [
    "df['supply_type'].value_counts(dropna=False).compute()"
   ]
  },
  {
   "cell_type": "code",
   "execution_count": 13,
   "id": "d44dd645-2027-4ff8-a43a-8993f0a3fef5",
   "metadata": {},
   "outputs": [],
   "source": [
    "# Dobbiamo metterli in inglese? Si può fare con un map\n",
    "ing = {\n",
    "    'luce': 'light',\n",
    "    'gas e luce': 'gas and light',\n",
    "    'gas' : 'gas',\n",
    "}\n",
    "df['supply_type'] = df['supply_type'].map(ing)"
   ]
  },
  {
   "cell_type": "code",
   "execution_count": 14,
   "id": "664860de-1788-4fb3-998a-e51c4b858bd8",
   "metadata": {},
   "outputs": [
    {
     "data": {
      "text/plain": [
       "gas              5686288\n",
       "light            3684510\n",
       "gas and light    1126345\n",
       "Name: supply_type, dtype: int64"
      ]
     },
     "execution_count": 14,
     "metadata": {},
     "output_type": "execute_result"
    }
   ],
   "source": [
    "df['supply_type'].value_counts(dropna=False).compute()"
   ]
  },
  {
   "cell_type": "markdown",
   "id": "dfb853db-c58e-488a-8689-5bb43878e462",
   "metadata": {},
   "source": [
    "### Data control"
   ]
  },
  {
   "cell_type": "markdown",
   "id": "4f461f45-ca34-47ff-a6c1-ad2bd2533528",
   "metadata": {
    "tags": []
   },
   "source": [
    "### billing_freq & bill_type Analysis"
   ]
  },
  {
   "cell_type": "code",
   "execution_count": 18,
   "id": "af42f7c6-a6cd-4803-b8ab-ffb91fa64f14",
   "metadata": {},
   "outputs": [
    {
     "data": {
      "text/plain": [
       "bimester     7611046\n",
       "quarterly    1386049\n",
       "NaN           784810\n",
       "monthly       715238\n",
       "Name: billing_frequency, dtype: Int64"
      ]
     },
     "execution_count": 18,
     "metadata": {},
     "output_type": "execute_result"
    }
   ],
   "source": [
    "# Che fare qua? Billing frequency (‘monthly’, ‘quarterly’, etc.)\n",
    "# Si potrebbero calcolare\n",
    "df['billing_frequency'].value_counts(dropna=False).compute()"
   ]
  },
  {
   "cell_type": "code",
   "execution_count": 20,
   "id": "6b8c47a3-e5c7-4239-a87d-464a3fd9d53b",
   "metadata": {},
   "outputs": [
    {
     "data": {
      "text/plain": [
       "False                     10446508\n",
       "variation note               30477\n",
       "change note correction       19616\n",
       "cancellation bill              542\n",
       "Name: bill_type, dtype: int64"
      ]
     },
     "execution_count": 20,
     "metadata": {},
     "output_type": "execute_result"
    }
   ],
   "source": [
    "# Kind of invoice (False means a “standard bill”)\n",
    "df['bill_type'].value_counts(dropna=False).compute()"
   ]
  },
  {
   "cell_type": "markdown",
   "id": "6cfed497-65ac-4263-a834-a328bc40dc9c",
   "metadata": {
    "tags": []
   },
   "source": [
    "### light_offer_type Analysis"
   ]
  },
  {
   "cell_type": "code",
   "execution_count": 11,
   "id": "a34ee440-8d2f-4438-b2ed-00f47b365219",
   "metadata": {},
   "outputs": [
    {
     "data": {
      "text/plain": [
       "light                5712814\n",
       "light single zone    4413764\n",
       "ligth bizone          189594\n",
       "light multi zones     180971\n",
       "Name: light_offer_type, dtype: int64"
      ]
     },
     "execution_count": 11,
     "metadata": {},
     "output_type": "execute_result"
    }
   ],
   "source": [
    "# Kind of plan for the electricity (‘single zone’, ‘bizone’, etc.)\n",
    "df['light_offer_type'].value_counts(dropna=False).compute()"
   ]
  },
  {
   "cell_type": "code",
   "execution_count": 23,
   "id": "b993e147-3a8c-4fe7-854d-ae84e5b848da",
   "metadata": {},
   "outputs": [
    {
     "data": {
      "text/plain": [
       "light                5712814\n",
       "light single zone    4413764\n",
       "ligth bizone          189594\n",
       "light multi zones     180971\n",
       "Name: light_offer_type, dtype: int64"
      ]
     },
     "execution_count": 23,
     "metadata": {},
     "output_type": "execute_result"
    }
   ],
   "source": [
    "# I 2 valori di light mi puzzano, famo uno strip?\n",
    "df['light_offer_type'] = df['light_offer_type'].str.strip()\n",
    "df['light_offer_type'].value_counts(dropna=False).compute()\n",
    "# GHAVEVO RAGIONE Vè"
   ]
  },
  {
   "cell_type": "markdown",
   "id": "c0c0a146-d146-4ac0-9402-f97d6450f4d6",
   "metadata": {
    "tags": []
   },
   "source": [
    "## Check Column Uniqueness DA PORTARE E DA VERIFICARE"
   ]
  },
  {
   "cell_type": "code",
   "execution_count": null,
   "id": "ec3c8045-4a6d-473d-ac6c-5207fcb2cb69",
   "metadata": {},
   "outputs": [],
   "source": [
    "# The story changes here, we got these pairs as candidates as duplicate columns \n",
    "# (those which have same values for each row.)\n",
    "\n",
    "# ATTENZIONE!! Probabile che le date del gas siano invertite, trovare un modo per confermarlo"
   ]
  },
  {
   "cell_type": "code",
   "execution_count": 12,
   "id": "1324ca91-76de-4c07-a0b4-de1f8f906f90",
   "metadata": {},
   "outputs": [
    {
     "data": {
      "text/plain": [
       "0   2020-12-31\n",
       "1   2020-12-31\n",
       "2   2020-12-31\n",
       "3   2020-12-31\n",
       "4   2020-12-31\n",
       "Name: emission_date, dtype: datetime64[ns]"
      ]
     },
     "execution_count": 12,
     "metadata": {},
     "output_type": "execute_result"
    }
   ],
   "source": [
    "## Sserve il date formatter!!\n",
    "df['emission_date'].head()"
   ]
  },
  {
   "cell_type": "markdown",
   "id": "a23f4558-16a1-461a-9952-e4e889c4d52b",
   "metadata": {
    "tags": []
   },
   "source": [
    "## Find Data Mismatch"
   ]
  },
  {
   "cell_type": "code",
   "execution_count": 5,
   "id": "572be326-9c66-4937-9ea8-8280c57f2fd9",
   "metadata": {},
   "outputs": [
    {
     "data": {
      "text/plain": [
       "[('date', 'light_start_date'),\n",
       " ('date', 'gas_end_date'),\n",
       " ('light_start_date', 'gas_end_date'),\n",
       " ('light_end_date', 'gas_start_date'),\n",
       " ('gas_average_cost', 'average_unit_gas_cost')]"
      ]
     },
     "execution_count": 5,
     "metadata": {},
     "output_type": "execute_result"
    }
   ],
   "source": [
    "# VERY time consuming, expecially with DASK, with DASK_CUDF It is a lot faster but It takes a lot of time as well\n",
    "# base.get_duplicate_columns()\n",
    "# Ne vengono individuate solo 5 di coppie 100% fedeli, \n",
    "# ma cambia la questione se abbassiamo la soglia? Ci sono degli errori sopra perchè \n",
    "# quelle 100% uguali non vengono riconosciute, mentre qua sì\n",
    "duplicates = [('date', 'light_start_date'),('date', 'gas_end_date'),('light_start_date', 'gas_end_date'),('light_end_date', 'gas_start_date'),('gas_average_cost', 'average_unit_gas_cost')]\n",
    "duplicates"
   ]
  },
  {
   "cell_type": "code",
   "execution_count": null,
   "id": "05bed063-27f9-4ca4-bf67-86a7f1ae6422",
   "metadata": {},
   "outputs": [],
   "source": [
    "df['date'] == df['light_start_date']"
   ]
  },
  {
   "cell_type": "code",
   "execution_count": 16,
   "id": "ac72f65a-64f8-4191-9ce1-7acb3b021654",
   "metadata": {},
   "outputs": [
    {
     "data": {
      "text/plain": [
       "0    0,00\n",
       "1    0,00\n",
       "2    0,00\n",
       "3    0,00\n",
       "4    0,00\n",
       "Name: tv, dtype: object"
      ]
     },
     "execution_count": 16,
     "metadata": {},
     "output_type": "execute_result"
    }
   ],
   "source": [
    "base['tv'].head()"
   ]
  },
  {
   "cell_type": "markdown",
   "id": "81050d73-c5b1-44e8-8761-c55880c23b1c",
   "metadata": {
    "tags": []
   },
   "source": [
    "# BOOKMARK #\n",
    "# BOOKMARK #\n",
    "# BOOKMARK #\n",
    "# BOOKMARK #\n",
    "# BOOKMARK #\n",
    "# BOOKMARK #\n",
    "# BOOKMARK #\n",
    "# BOOKMARK #\n",
    "# BOOKMARK #\n",
    "# BOOKMARK #"
   ]
  },
  {
   "cell_type": "code",
   "execution_count": 49,
   "id": "4781476d-4890-49a1-acf7-626967860506",
   "metadata": {},
   "outputs": [
    {
     "data": {
      "text/html": [
       "<div><strong>Dask DataFrame Structure:</strong></div>\n",
       "<div>\n",
       "<style scoped>\n",
       "    .dataframe tbody tr th:only-of-type {\n",
       "        vertical-align: middle;\n",
       "    }\n",
       "\n",
       "    .dataframe tbody tr th {\n",
       "        vertical-align: top;\n",
       "    }\n",
       "\n",
       "    .dataframe thead th {\n",
       "        text-align: right;\n",
       "    }\n",
       "</style>\n",
       "<table border=\"1\" class=\"dataframe\">\n",
       "  <thead>\n",
       "    <tr style=\"text-align: right;\">\n",
       "      <th></th>\n",
       "      <th>bill_id</th>\n",
       "      <th>F1_kWh</th>\n",
       "      <th>F2_kWh</th>\n",
       "      <th>F3_kWh</th>\n",
       "      <th>city</th>\n",
       "      <th>address</th>\n",
       "      <th>nominative</th>\n",
       "      <th>sex</th>\n",
       "      <th>age</th>\n",
       "      <th>user_code</th>\n",
       "      <th>date</th>\n",
       "      <th>light_start_date</th>\n",
       "      <th>light_end_date</th>\n",
       "      <th>tv</th>\n",
       "      <th>gas_amount</th>\n",
       "      <th>gas_average_cost</th>\n",
       "      <th>light_average_cost</th>\n",
       "      <th>emission_date</th>\n",
       "      <th>supply_type</th>\n",
       "      <th>gas_start_date</th>\n",
       "      <th>gas_end_date</th>\n",
       "      <th>extra_fees</th>\n",
       "      <th>gas_consumption</th>\n",
       "      <th>light_consumption</th>\n",
       "      <th>gas_offer</th>\n",
       "      <th>light_offer_type</th>\n",
       "      <th>light_offer</th>\n",
       "      <th>howmuch_pay</th>\n",
       "      <th>total_amount</th>\n",
       "      <th>light_amount</th>\n",
       "      <th>average_unit_light_cost</th>\n",
       "      <th>average_light_bill_cost</th>\n",
       "      <th>average_unit_gas_cost</th>\n",
       "      <th>average_gas_bill_cost</th>\n",
       "      <th>customer_code</th>\n",
       "      <th>billing_frequency</th>\n",
       "      <th>bill_type</th>\n",
       "      <th>gas_system_charges</th>\n",
       "      <th>light_system_charges</th>\n",
       "      <th>gas_material_cost</th>\n",
       "      <th>light_transport_cost</th>\n",
       "      <th>gas_transport_cost</th>\n",
       "      <th>light_material_cost</th>\n",
       "    </tr>\n",
       "    <tr>\n",
       "      <th>npartitions=10</th>\n",
       "      <th></th>\n",
       "      <th></th>\n",
       "      <th></th>\n",
       "      <th></th>\n",
       "      <th></th>\n",
       "      <th></th>\n",
       "      <th></th>\n",
       "      <th></th>\n",
       "      <th></th>\n",
       "      <th></th>\n",
       "      <th></th>\n",
       "      <th></th>\n",
       "      <th></th>\n",
       "      <th></th>\n",
       "      <th></th>\n",
       "      <th></th>\n",
       "      <th></th>\n",
       "      <th></th>\n",
       "      <th></th>\n",
       "      <th></th>\n",
       "      <th></th>\n",
       "      <th></th>\n",
       "      <th></th>\n",
       "      <th></th>\n",
       "      <th></th>\n",
       "      <th></th>\n",
       "      <th></th>\n",
       "      <th></th>\n",
       "      <th></th>\n",
       "      <th></th>\n",
       "      <th></th>\n",
       "      <th></th>\n",
       "      <th></th>\n",
       "      <th></th>\n",
       "      <th></th>\n",
       "      <th></th>\n",
       "      <th></th>\n",
       "      <th></th>\n",
       "      <th></th>\n",
       "      <th></th>\n",
       "      <th></th>\n",
       "      <th></th>\n",
       "      <th></th>\n",
       "    </tr>\n",
       "  </thead>\n",
       "  <tbody>\n",
       "    <tr>\n",
       "      <th></th>\n",
       "      <td>int64</td>\n",
       "      <td>float64</td>\n",
       "      <td>Float64</td>\n",
       "      <td>Float64</td>\n",
       "      <td>object</td>\n",
       "      <td>string</td>\n",
       "      <td>string</td>\n",
       "      <td>object</td>\n",
       "      <td>int64</td>\n",
       "      <td>object</td>\n",
       "      <td>object</td>\n",
       "      <td>object</td>\n",
       "      <td>object</td>\n",
       "      <td>object</td>\n",
       "      <td>string</td>\n",
       "      <td>string</td>\n",
       "      <td>Float64</td>\n",
       "      <td>object</td>\n",
       "      <td>object</td>\n",
       "      <td>object</td>\n",
       "      <td>object</td>\n",
       "      <td>object</td>\n",
       "      <td>Float64</td>\n",
       "      <td>Float64</td>\n",
       "      <td>uint64</td>\n",
       "      <td>object</td>\n",
       "      <td>uint64</td>\n",
       "      <td>object</td>\n",
       "      <td>object</td>\n",
       "      <td>string</td>\n",
       "      <td>string</td>\n",
       "      <td>string</td>\n",
       "      <td>string</td>\n",
       "      <td>string</td>\n",
       "      <td>object</td>\n",
       "      <td>string</td>\n",
       "      <td>object</td>\n",
       "      <td>Float64</td>\n",
       "      <td>Float64</td>\n",
       "      <td>Float64</td>\n",
       "      <td>Float64</td>\n",
       "      <td>Float64</td>\n",
       "      <td>Float64</td>\n",
       "    </tr>\n",
       "    <tr>\n",
       "      <th></th>\n",
       "      <td>...</td>\n",
       "      <td>...</td>\n",
       "      <td>...</td>\n",
       "      <td>...</td>\n",
       "      <td>...</td>\n",
       "      <td>...</td>\n",
       "      <td>...</td>\n",
       "      <td>...</td>\n",
       "      <td>...</td>\n",
       "      <td>...</td>\n",
       "      <td>...</td>\n",
       "      <td>...</td>\n",
       "      <td>...</td>\n",
       "      <td>...</td>\n",
       "      <td>...</td>\n",
       "      <td>...</td>\n",
       "      <td>...</td>\n",
       "      <td>...</td>\n",
       "      <td>...</td>\n",
       "      <td>...</td>\n",
       "      <td>...</td>\n",
       "      <td>...</td>\n",
       "      <td>...</td>\n",
       "      <td>...</td>\n",
       "      <td>...</td>\n",
       "      <td>...</td>\n",
       "      <td>...</td>\n",
       "      <td>...</td>\n",
       "      <td>...</td>\n",
       "      <td>...</td>\n",
       "      <td>...</td>\n",
       "      <td>...</td>\n",
       "      <td>...</td>\n",
       "      <td>...</td>\n",
       "      <td>...</td>\n",
       "      <td>...</td>\n",
       "      <td>...</td>\n",
       "      <td>...</td>\n",
       "      <td>...</td>\n",
       "      <td>...</td>\n",
       "      <td>...</td>\n",
       "      <td>...</td>\n",
       "      <td>...</td>\n",
       "    </tr>\n",
       "    <tr>\n",
       "      <th>...</th>\n",
       "      <td>...</td>\n",
       "      <td>...</td>\n",
       "      <td>...</td>\n",
       "      <td>...</td>\n",
       "      <td>...</td>\n",
       "      <td>...</td>\n",
       "      <td>...</td>\n",
       "      <td>...</td>\n",
       "      <td>...</td>\n",
       "      <td>...</td>\n",
       "      <td>...</td>\n",
       "      <td>...</td>\n",
       "      <td>...</td>\n",
       "      <td>...</td>\n",
       "      <td>...</td>\n",
       "      <td>...</td>\n",
       "      <td>...</td>\n",
       "      <td>...</td>\n",
       "      <td>...</td>\n",
       "      <td>...</td>\n",
       "      <td>...</td>\n",
       "      <td>...</td>\n",
       "      <td>...</td>\n",
       "      <td>...</td>\n",
       "      <td>...</td>\n",
       "      <td>...</td>\n",
       "      <td>...</td>\n",
       "      <td>...</td>\n",
       "      <td>...</td>\n",
       "      <td>...</td>\n",
       "      <td>...</td>\n",
       "      <td>...</td>\n",
       "      <td>...</td>\n",
       "      <td>...</td>\n",
       "      <td>...</td>\n",
       "      <td>...</td>\n",
       "      <td>...</td>\n",
       "      <td>...</td>\n",
       "      <td>...</td>\n",
       "      <td>...</td>\n",
       "      <td>...</td>\n",
       "      <td>...</td>\n",
       "      <td>...</td>\n",
       "    </tr>\n",
       "    <tr>\n",
       "      <th></th>\n",
       "      <td>...</td>\n",
       "      <td>...</td>\n",
       "      <td>...</td>\n",
       "      <td>...</td>\n",
       "      <td>...</td>\n",
       "      <td>...</td>\n",
       "      <td>...</td>\n",
       "      <td>...</td>\n",
       "      <td>...</td>\n",
       "      <td>...</td>\n",
       "      <td>...</td>\n",
       "      <td>...</td>\n",
       "      <td>...</td>\n",
       "      <td>...</td>\n",
       "      <td>...</td>\n",
       "      <td>...</td>\n",
       "      <td>...</td>\n",
       "      <td>...</td>\n",
       "      <td>...</td>\n",
       "      <td>...</td>\n",
       "      <td>...</td>\n",
       "      <td>...</td>\n",
       "      <td>...</td>\n",
       "      <td>...</td>\n",
       "      <td>...</td>\n",
       "      <td>...</td>\n",
       "      <td>...</td>\n",
       "      <td>...</td>\n",
       "      <td>...</td>\n",
       "      <td>...</td>\n",
       "      <td>...</td>\n",
       "      <td>...</td>\n",
       "      <td>...</td>\n",
       "      <td>...</td>\n",
       "      <td>...</td>\n",
       "      <td>...</td>\n",
       "      <td>...</td>\n",
       "      <td>...</td>\n",
       "      <td>...</td>\n",
       "      <td>...</td>\n",
       "      <td>...</td>\n",
       "      <td>...</td>\n",
       "      <td>...</td>\n",
       "    </tr>\n",
       "    <tr>\n",
       "      <th></th>\n",
       "      <td>...</td>\n",
       "      <td>...</td>\n",
       "      <td>...</td>\n",
       "      <td>...</td>\n",
       "      <td>...</td>\n",
       "      <td>...</td>\n",
       "      <td>...</td>\n",
       "      <td>...</td>\n",
       "      <td>...</td>\n",
       "      <td>...</td>\n",
       "      <td>...</td>\n",
       "      <td>...</td>\n",
       "      <td>...</td>\n",
       "      <td>...</td>\n",
       "      <td>...</td>\n",
       "      <td>...</td>\n",
       "      <td>...</td>\n",
       "      <td>...</td>\n",
       "      <td>...</td>\n",
       "      <td>...</td>\n",
       "      <td>...</td>\n",
       "      <td>...</td>\n",
       "      <td>...</td>\n",
       "      <td>...</td>\n",
       "      <td>...</td>\n",
       "      <td>...</td>\n",
       "      <td>...</td>\n",
       "      <td>...</td>\n",
       "      <td>...</td>\n",
       "      <td>...</td>\n",
       "      <td>...</td>\n",
       "      <td>...</td>\n",
       "      <td>...</td>\n",
       "      <td>...</td>\n",
       "      <td>...</td>\n",
       "      <td>...</td>\n",
       "      <td>...</td>\n",
       "      <td>...</td>\n",
       "      <td>...</td>\n",
       "      <td>...</td>\n",
       "      <td>...</td>\n",
       "      <td>...</td>\n",
       "      <td>...</td>\n",
       "    </tr>\n",
       "  </tbody>\n",
       "</table>\n",
       "</div>\n",
       "<div>Dask Name: fillna, 1569 tasks</div>"
      ],
      "text/plain": [
       "Dask DataFrame Structure:\n",
       "               bill_id   F1_kWh   F2_kWh   F3_kWh    city address nominative     sex    age user_code    date light_start_date light_end_date      tv gas_amount gas_average_cost light_average_cost emission_date supply_type gas_start_date gas_end_date extra_fees gas_consumption light_consumption gas_offer light_offer_type light_offer howmuch_pay total_amount light_amount average_unit_light_cost average_light_bill_cost average_unit_gas_cost average_gas_bill_cost customer_code billing_frequency bill_type gas_system_charges light_system_charges gas_material_cost light_transport_cost gas_transport_cost light_material_cost\n",
       "npartitions=10                                                                                                                                                                                                                                                                                                                                                                                                                                                                                                                                                                                                                                  \n",
       "                 int64  float64  Float64  Float64  object  string     string  object  int64    object  object           object         object  object     string           string            Float64        object      object         object       object     object         Float64           Float64    uint64           object      uint64      object       object       string                  string                  string                string                string        object            string    object            Float64              Float64           Float64              Float64            Float64             Float64\n",
       "                   ...      ...      ...      ...     ...     ...        ...     ...    ...       ...     ...              ...            ...     ...        ...              ...                ...           ...         ...            ...          ...        ...             ...               ...       ...              ...         ...         ...          ...          ...                     ...                     ...                   ...                   ...           ...               ...       ...                ...                  ...               ...                  ...                ...                 ...\n",
       "...                ...      ...      ...      ...     ...     ...        ...     ...    ...       ...     ...              ...            ...     ...        ...              ...                ...           ...         ...            ...          ...        ...             ...               ...       ...              ...         ...         ...          ...          ...                     ...                     ...                   ...                   ...           ...               ...       ...                ...                  ...               ...                  ...                ...                 ...\n",
       "                   ...      ...      ...      ...     ...     ...        ...     ...    ...       ...     ...              ...            ...     ...        ...              ...                ...           ...         ...            ...          ...        ...             ...               ...       ...              ...         ...         ...          ...          ...                     ...                     ...                   ...                   ...           ...               ...       ...                ...                  ...               ...                  ...                ...                 ...\n",
       "                   ...      ...      ...      ...     ...     ...        ...     ...    ...       ...     ...              ...            ...     ...        ...              ...                ...           ...         ...            ...          ...        ...             ...               ...       ...              ...         ...         ...          ...          ...                     ...                     ...                   ...                   ...           ...               ...       ...                ...                  ...               ...                  ...                ...                 ...\n",
       "Dask Name: fillna, 1569 tasks"
      ]
     },
     "execution_count": 49,
     "metadata": {},
     "output_type": "execute_result"
    }
   ],
   "source": [
    "#poichè probabilmente con i <NA> ho un sacco di problemi \"lasciatemi castaareeee.. \n",
    "#con la chitarra in maaanoooo, lasciatemi castare.. sono un italiano\"\n",
    "\n",
    "df = base.fill_nan(np.nan)\n",
    "df"
   ]
  },
  {
   "cell_type": "code",
   "execution_count": 50,
   "id": "1d9a4719-cc4e-4d30-bc2f-352feea57d43",
   "metadata": {},
   "outputs": [],
   "source": [
    "# setto le colonne con i tipi di dato in mappone\n",
    "df = base.cast_columns_types(mappone)"
   ]
  },
  {
   "cell_type": "code",
   "execution_count": 51,
   "id": "7fe36af3-ab2d-4174-bfd1-33c0c0fe09cf",
   "metadata": {},
   "outputs": [
    {
     "data": {
      "text/plain": [
       "Dask Series Structure:\n",
       "npartitions=10\n",
       "    datetime64[ns]\n",
       "               ...\n",
       "         ...      \n",
       "               ...\n",
       "               ...\n",
       "Name: emission_date, dtype: datetime64[ns]\n",
       "Dask Name: getitem, 1589 tasks"
      ]
     },
     "execution_count": 51,
     "metadata": {},
     "output_type": "execute_result"
    }
   ],
   "source": [
    "df['emission_date']"
   ]
  },
  {
   "cell_type": "code",
   "execution_count": null,
   "id": "74f6bb5d-32a0-4d04-94f5-2c59fe7f84a6",
   "metadata": {},
   "outputs": [],
   "source": [
    "# Abbiamo dei valori non castabili a float nelle colonne interessate\n",
    "# Vediamo cos'ho nelle colonne str\n",
    "#print(string_cols)\n",
    "for c in string_cols:\n",
    "    print(\"Col: \", c)\n",
    "    cosa = df[c].str.replace(',', '.').str.split(expand=True).iloc[:,-1].value_counts().index[0]\n",
    "    print(cosa)"
   ]
  },
  {
   "cell_type": "code",
   "execution_count": null,
   "id": "98010c15-5808-4c3a-b4c4-761ff0a9ede2",
   "metadata": {},
   "outputs": [],
   "source": [
    "# C'è della merda, ottimizzo la cosa riducendo il campo d'analisi a solo le colonne float64 di mappone\n",
    "mappone_float64_cols = []\n",
    "\n",
    "for (k, v) in mappone.items():\n",
    "    if v == 'float64':\n",
    "        mappone_float64_cols.append(k)\n",
    "\n",
    "final_float_cols = [x for x in mappone_float64_cols if x not in float_cols]\n",
    "mappone_float64_cols\n",
    "float_cols\n",
    "final_float_cols = [x for x in final_float_cols if x not in ['gas_offer']]"
   ]
  },
  {
   "cell_type": "code",
   "execution_count": null,
   "id": "395b5570-4329-46e8-9006-6d1c43d64634",
   "metadata": {},
   "outputs": [],
   "source": [
    "# Altro caso di colonna dal dubbio gusto\n",
    "df['gas_offer']"
   ]
  },
  {
   "cell_type": "code",
   "execution_count": null,
   "id": "7bc0ca1a-5ca8-47cd-b627-6ce4d8b56db4",
   "metadata": {},
   "outputs": [],
   "source": [
    "# Vediamo cos'ho nelle colonne str\n",
    "#print(string_cols)\n",
    "lista_rename = []\n",
    "for c in final_float_cols:\n",
    "    cosa = df[c].str.replace(',', '.').str.split(expand=True).iloc[:,-1].value_counts().index[0]\n",
    "    if cosa != '0.00' and cosa != 'nan':\n",
    "        print(\"Col: \", c + ' ' + cosa)\n",
    "        print(cosa)\n",
    "        p = {\n",
    "            c : c + ' ' + cosa\n",
    "        }\n",
    "        lista_rename.append(p)\n",
    "        df[c] = df[c].str.replace(',', '.').str.extract('-?([0-9]*\\.[0-9]+)').astype(float)\n",
    "df"
   ]
  },
  {
   "cell_type": "code",
   "execution_count": null,
   "id": "e679c5eb-b5f8-4b47-a330-7389b63fc996",
   "metadata": {},
   "outputs": [],
   "source": [
    "# voglio trovare le colonne str che diventeranno float che generano problemi\n",
    "# VIRGOLE DI MERDA\n",
    "problematiche = [x for x in string_cols if x in final_float_cols]\n",
    "for p in problematiche:\n",
    "    print(p)\n",
    "    df[p] = df[p].str.replace(',', '.').str.split(expand=True).iloc[:,-1].value_counts().index[0]\n",
    "    print(float(df[p][0]))"
   ]
  },
  {
   "cell_type": "code",
   "execution_count": null,
   "id": "67aa4ba2-1fc3-443d-8b55-6a2f8049363a",
   "metadata": {},
   "outputs": [],
   "source": [
    "float(0.48)"
   ]
  },
  {
   "cell_type": "code",
   "execution_count": null,
   "id": "ce5e86e5-e375-4ddc-8f17-a056b7da722b",
   "metadata": {},
   "outputs": [],
   "source": [
    "# Ho diverse colonne da cui eliminare le unità di misura...\n",
    "df['gas_average_cost'].dtype"
   ]
  },
  {
   "cell_type": "code",
   "execution_count": null,
   "id": "be3bc08b-dba4-4d93-9180-a71ea8f5abbc",
   "metadata": {},
   "outputs": [],
   "source": [
    "# in 'bill_type' False == 'standard bill'\n",
    "# Funziona solo se la funzione sopra non va in errore.\n",
    "\n",
    "df = base.replace('bill_type', 'False', 'standard bill', False)\n",
    "df"
   ]
  },
  {
   "cell_type": "code",
   "execution_count": null,
   "id": "05a715d5-1265-49c4-a19b-cfa23392db72",
   "metadata": {},
   "outputs": [],
   "source": [
    "#Verifica della bontà della sostituzione\n",
    "df['bill_type'].value_counts()"
   ]
  },
  {
   "cell_type": "code",
   "execution_count": null,
   "id": "eb04a4ce-97f8-43c4-b85b-503e820d0951",
   "metadata": {},
   "outputs": [],
   "source": []
  },
  {
   "cell_type": "code",
   "execution_count": null,
   "id": "41117089-e1e2-45b9-ad30-deca44abfafb",
   "metadata": {},
   "outputs": [],
   "source": [
    "# Non c'è nessuna riga tutta nulla, Giulio è contento\n",
    "df.dropna(how='all')"
   ]
  },
  {
   "cell_type": "code",
   "execution_count": null,
   "id": "4b690548-b142-4b3c-a908-0321b6cd04cd",
   "metadata": {},
   "outputs": [],
   "source": []
  },
  {
   "cell_type": "markdown",
   "id": "6bedd4d8-9cf3-4f15-8fc4-da9f81cb57ff",
   "metadata": {
    "tags": []
   },
   "source": [
    "# 3. STRUCTURING"
   ]
  },
  {
   "cell_type": "code",
   "execution_count": null,
   "id": "5410141b-5b61-4a8c-9e7d-8a4ec598ed04",
   "metadata": {},
   "outputs": [],
   "source": [
    "''' \n",
    "+++++ DATA STRUCTURING +++++\n",
    "    • Change column data types\n",
    "    • Delete, split or merge columns\n",
    "    • Pivot and unpivot\n",
    "'''"
   ]
  },
  {
   "cell_type": "markdown",
   "id": "18378132-db87-4cf6-947c-bfd22172d983",
   "metadata": {
    "tags": []
   },
   "source": [
    "## Change Column Data Types "
   ]
  },
  {
   "cell_type": "code",
   "execution_count": null,
   "id": "7e576374-43a2-4c2a-95a3-8ec7a6b3e2ce",
   "metadata": {},
   "outputs": [],
   "source": [
    "# aggregabile con lo step precedente\n",
    "# L'HO FATTO SOPRA, è DA ORDINARE E PERFEZIONARE"
   ]
  },
  {
   "cell_type": "markdown",
   "id": "3fb61134-60ae-4a61-9a63-aaeefccb4763",
   "metadata": {
    "tags": []
   },
   "source": [
    "## Delete, Split or Merge Columns"
   ]
  },
  {
   "cell_type": "code",
   "execution_count": null,
   "id": "7418351e-13fb-4dd3-9c52-d3ef3673349d",
   "metadata": {},
   "outputs": [],
   "source": [
    "# rimozione colonne duplicate "
   ]
  },
  {
   "cell_type": "markdown",
   "id": "26d594b3-c37e-4652-a81d-92cd626fc845",
   "metadata": {
    "tags": []
   },
   "source": [
    "## Pivot and Unpivot"
   ]
  },
  {
   "cell_type": "code",
   "execution_count": null,
   "id": "489a40b6-30c8-436e-b5fa-5ad5647bf75c",
   "metadata": {},
   "outputs": [],
   "source": [
    "# non saprei cosa farci"
   ]
  },
  {
   "cell_type": "code",
   "execution_count": null,
   "id": "b17ffccd-f8b4-40de-a26d-b93c2e012154",
   "metadata": {},
   "outputs": [],
   "source": []
  },
  {
   "cell_type": "markdown",
   "id": "f6a7fb91-f694-4d13-9f35-840a4d4e25d6",
   "metadata": {
    "jp-MarkdownHeadingCollapsed": true,
    "tags": []
   },
   "source": [
    "# 4. ENRICHMENT"
   ]
  },
  {
   "cell_type": "code",
   "execution_count": null,
   "id": "27d5b807-5156-4019-a5c9-3eee5f404a0f",
   "metadata": {},
   "outputs": [],
   "source": [
    "''' \n",
    "+++++ DATA ENRICHMENT +++++\n",
    "    • Calculate columns using expressions\n",
    "    • Set primary key column\n",
    "    • Join or append DataFrames\n",
    "    • Group by and aggregate records\n",
    "    • Scale column values into a certain range\n",
    "    • Encode categorical data (one-hot encoding and label encoding)\n",
    "'''"
   ]
  },
  {
   "cell_type": "markdown",
   "id": "cb59c0d4-97b7-462d-8289-cc565ae0bc62",
   "metadata": {
    "tags": []
   },
   "source": [
    "## Calculate Columns Using Expressions"
   ]
  },
  {
   "cell_type": "code",
   "execution_count": null,
   "id": "8a771e1e-10f0-4643-b28e-6be4e78d6f53",
   "metadata": {},
   "outputs": [],
   "source": []
  },
  {
   "cell_type": "markdown",
   "id": "6dd5ffea-fc7f-4835-ab40-0fadcf4835ff",
   "metadata": {
    "tags": []
   },
   "source": [
    "## Set PK column"
   ]
  },
  {
   "cell_type": "code",
   "execution_count": null,
   "id": "bea8b572-afdb-4e07-9057-652e9594ea38",
   "metadata": {},
   "outputs": [],
   "source": []
  },
  {
   "cell_type": "code",
   "execution_count": null,
   "id": "1ae618cd-732e-492a-a366-273fb73b3bae",
   "metadata": {},
   "outputs": [],
   "source": []
  },
  {
   "cell_type": "markdown",
   "id": "723bbd79-52b7-4aa3-9b16-dcb95f98d233",
   "metadata": {
    "jp-MarkdownHeadingCollapsed": true,
    "tags": []
   },
   "source": [
    "# 5. FILTERING"
   ]
  },
  {
   "cell_type": "code",
   "execution_count": null,
   "id": "cde0b345-80fe-4b12-9092-bc1402ba246a",
   "metadata": {},
   "outputs": [],
   "source": [
    "''' \n",
    "+++++ DATA FILTERING +++++\n",
    "    • Sample rows\n",
    "    • Select a subset of rows through a user-defined query\n",
    "'''"
   ]
  },
  {
   "cell_type": "markdown",
   "id": "0cb93477-5592-41c8-af8f-81c874e40af4",
   "metadata": {
    "tags": []
   },
   "source": [
    "## Sample Rows"
   ]
  },
  {
   "cell_type": "code",
   "execution_count": null,
   "id": "954bdb17-5f56-4d54-97aa-3774b3a1d5e5",
   "metadata": {},
   "outputs": [],
   "source": [
    "df.sample(20)"
   ]
  },
  {
   "cell_type": "code",
   "execution_count": null,
   "id": "dd3fa848-5fa5-4ea0-9295-faf321a30926",
   "metadata": {},
   "outputs": [],
   "source": []
  },
  {
   "cell_type": "code",
   "execution_count": null,
   "id": "f6309fab-e28f-42f8-a645-b9e245afeda5",
   "metadata": {},
   "outputs": [],
   "source": [
    "# SELECT A SUBSET OF ROWS?!?"
   ]
  },
  {
   "cell_type": "code",
   "execution_count": null,
   "id": "2de37c65-a55b-4e16-9324-235be9cfbffd",
   "metadata": {},
   "outputs": [],
   "source": []
  },
  {
   "cell_type": "markdown",
   "id": "68c6e204-3d7a-49f3-8fc0-221ee6a38984",
   "metadata": {
    "jp-MarkdownHeadingCollapsed": true,
    "tags": []
   },
   "source": [
    "# 6. CLEANING"
   ]
  },
  {
   "cell_type": "code",
   "execution_count": null,
   "id": "8000e0ea-4ac8-4fae-842b-be1c17b7c02f",
   "metadata": {},
   "outputs": [],
   "source": [
    "''' \n",
    "+++++ DATA CLEANING +++++\n",
    "    • Change data format and case\n",
    "    • Deduplicate data\n",
    "    • Missing value imputation\n",
    "    • Find and replace values\n",
    "'''"
   ]
  },
  {
   "cell_type": "code",
   "execution_count": null,
   "id": "e21bfef2-48af-430b-b4fa-59473ee7c618",
   "metadata": {},
   "outputs": [],
   "source": [
    "# CHANGE DATA FORMAT AND CASE\n",
    "# data format dovrebbe già essere fatto a questo punto\n",
    "# case pure se vogliamo aver fatto tutto per bene"
   ]
  },
  {
   "cell_type": "code",
   "execution_count": null,
   "id": "bdda4834-40c3-4f27-b8ea-38e08c763753",
   "metadata": {},
   "outputs": [],
   "source": []
  },
  {
   "cell_type": "code",
   "execution_count": null,
   "id": "cb4ba56f-9a7d-4a93-858b-e52c837a0a71",
   "metadata": {},
   "outputs": [],
   "source": [
    "# DEDUPLICATE DATA\n",
    "# controllo se ho più bollette uguali dello stesso cliente"
   ]
  },
  {
   "cell_type": "code",
   "execution_count": null,
   "id": "abd0f273-b505-4e1f-84e2-7c3d8255cc64",
   "metadata": {},
   "outputs": [],
   "source": [
    "ddf"
   ]
  },
  {
   "cell_type": "code",
   "execution_count": null,
   "id": "c4a2e155-cbc3-4242-ac59-cb17b721a6d5",
   "metadata": {},
   "outputs": [],
   "source": [
    "# MISSING VALUE IMPUTATION\n",
    "# qua? Spero di averne pochissimi nel caso"
   ]
  },
  {
   "cell_type": "code",
   "execution_count": null,
   "id": "ffe383a1-6d2f-4557-87d2-832b7dae0d42",
   "metadata": {},
   "outputs": [],
   "source": []
  },
  {
   "cell_type": "code",
   "execution_count": null,
   "id": "0d97dcb2-0978-4500-afdd-9917976d5b08",
   "metadata": {},
   "outputs": [],
   "source": [
    "# FIND AND REPLACE VALUES\n",
    "# ossia?"
   ]
  },
  {
   "cell_type": "code",
   "execution_count": null,
   "id": "16baafbf-d295-490a-875f-c0d05456d79e",
   "metadata": {},
   "outputs": [],
   "source": []
  },
  {
   "cell_type": "code",
   "execution_count": null,
   "id": "037123c0-8af4-473d-aa7e-34dba664f07d",
   "metadata": {},
   "outputs": [],
   "source": [
    "x = np.nan\n",
    "float(x)"
   ]
  }
 ],
 "metadata": {
  "kernelspec": {
   "display_name": "Python 3",
   "language": "python",
   "name": "python3"
  },
  "language_info": {
   "codemirror_mode": {
    "name": "ipython",
    "version": 3
   },
   "file_extension": ".py",
   "mimetype": "text/x-python",
   "name": "python",
   "nbconvert_exporter": "python",
   "pygments_lexer": "ipython3",
   "version": "3.7.12"
  }
 },
 "nbformat": 4,
 "nbformat_minor": 5
}
